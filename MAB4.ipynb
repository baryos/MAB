{
 "cells": [
  {
   "cell_type": "code",
   "execution_count": 5,
   "metadata": {},
   "outputs": [],
   "source": [
    "import csv\n",
    "import pandas as pd\n",
    "import numpy as np\n",
    "import glob\n",
    "import matplotlib\n",
    "import scipy as sp\n",
    "from matplotlib import pyplot as plt\n",
    "from itertools import cycle, islice\n",
    "from scipy import stats\n",
    "\n",
    "import seaborn as sns"
   ]
  },
  {
   "cell_type": "code",
   "execution_count": 6,
   "metadata": {},
   "outputs": [],
   "source": [
    "def organize_trial_by_trial(txt_filename):\n",
    "    reader = csv.reader( open(txt_filename))\n",
    "    game_data = [row for row in reader]\n",
    "    df = pd.DataFrame(np.array(game_data))\n",
    "    df = df.T\n",
    "    df = df.rename(columns = {0:\"game\", 1:\"trial\", 2:\"player\", 3:\"hole\", 4:\"probability\", 5:\"reward\", 6:\"time\", 7:\"P1 score\", 8:\"P2 score\"})\n",
    "    df = df[40:]\n",
    "    #df = df.drop(columns = 'time') #can comment this out if want to look at time\n",
    "    #df = df.drop(columns = 'reward') #can comment this out if want to look at time\n",
    "    df = df.drop(['reward', 'time'], axis=1)\n",
    "    df = df.apply(pd.to_numeric)\n",
    "    df.head()\n",
    "    \n",
    "    return df"
   ]
  },
  {
   "cell_type": "code",
   "execution_count": 7,
   "metadata": {},
   "outputs": [],
   "source": [
    "def organize_trial_by_trial_floatclick(txt_filename):\n",
    "    reader = csv.reader( open(txt_filename))\n",
    "    game_data = [row for row in reader]\n",
    "    df = pd.DataFrame(np.array(game_data))\n",
    "    df = df.T\n",
    "    df = df.rename(columns = {0:\"type\", 1:\"game\", 2:\"trial\", 3:\"player\", 4:\"hole\", 5:\"probability\", 6:\"P1 score\", 7:\"P2 score\", 8:\"\"})\n",
    "    df = df[40:]\n",
    "    #df = df.drop(columns = 'time') #can comment this out if want to look at time\n",
    "    df = df.drop(['type'], axis=1)\n",
    "    df = df.apply(pd.to_numeric)\n",
    "    df.head()\n",
    "    \n",
    "    return df"
   ]
  },
  {
   "cell_type": "code",
   "execution_count": 8,
   "metadata": {},
   "outputs": [],
   "source": [
    "def get_score(df, player_number, game_number):\n",
    "    if game_number == 1:\n",
    "        row = 199\n",
    "    elif game_number == 2:\n",
    "        row = 399\n",
    "    if player_number == 1:\n",
    "        column = 'P1 score'\n",
    "    elif player_number == 2:\n",
    "        column = 'P2 score'\n",
    "    score = df.loc[row, column]\n",
    "    return score"
   ]
  },
  {
   "cell_type": "code",
   "execution_count": 9,
   "metadata": {},
   "outputs": [],
   "source": [
    "#create a dataframes for scores\n",
    "scores = pd.DataFrame(columns=['c_g1','c_g2','m_g1','m_g2'])"
   ]
  },
  {
   "cell_type": "code",
   "execution_count": 10,
   "metadata": {},
   "outputs": [],
   "source": [
    "#version is 'c' for single player and 'm' for multi\n",
    "def call_get_score(df, version):\n",
    "    p1_g1 = get_score(df, 1, 1)\n",
    "    p1_g2 = get_score(df, 1, 2)\n",
    "    p1_score_diff = p1_g2 - p1_g1\n",
    "    if version == 'm':\n",
    "        p1_g1 = get_score(df, 1, 1)\n",
    "        p1_g2 = get_score(df, 1, 2)\n",
    "        p1_score_diff = p1_g2 - p1_g1\n",
    "        p2_g1 = get_score(df, 2, 1)\n",
    "        p2_g2 = get_score(df, 2, 2)\n",
    "        p2_score_diff = p2_g2 - p2_g1\n",
    "        return p1_g1, p1_g2, p2_g1, p2_g2, p1_score_diff, p2_score_diff\n",
    "    return p1_g1, p1_g2, p1_score_diff"
   ]
  },
  {
   "cell_type": "code",
   "execution_count": 11,
   "metadata": {},
   "outputs": [],
   "source": [
    "#separate data frames for p1 and p2 \n",
    "def separate_df(df, version):\n",
    "    #df.set_index(df['trial'])\n",
    "    df_p1 = df[df['player'] == 1]\n",
    "    df_p1_g1 = df_p1[df['game number'] == 1]\n",
    "    df_p1_g2 = df_p1[df['game number'] == 2]\n",
    "    #remove first 20 trials for g2\n",
    "    df_p1_g2 = df_p1_g2[20:]\n",
    "    if version == 'c':\n",
    "        return df_p1_g1, df_p1_g2\n",
    "    df_p2 = df[df['player'] ==2 ]\n",
    "    df_p2_g1 = df_p2[df['game number'] == 1]\n",
    "    df_p2_g2 = df_p2[df['game number'] == 2]\n",
    "    return df_p1_g1, df_p1_g2, df_p2_g1, df_p2_g2"
   ]
  },
  {
   "cell_type": "code",
   "execution_count": 12,
   "metadata": {},
   "outputs": [],
   "source": [
    "#needs work\n",
    "def call_call_get_score(df, version):\n",
    "    p1_g1 = df+'_'+'p1_'+'g1_'+'score'\n",
    "    p1_g2 = df+'_'+'p1_'+'g2_'+'score'\n",
    "    p2_g1 = df+'_'+'p2_'+'g1_'+'score'\n",
    "    p2_g2 = df+'_'+'p2_'+'g2_'+'score'\n",
    "    p1_g1, p1_g2, p2_g1, p2_g2 = call_get_score(df, version)\n",
    "    return p1_g1, p1_g2, p2_g1, p2_g2"
   ]
  },
  {
   "cell_type": "markdown",
   "metadata": {},
   "source": [
    "# Single Player Analysis"
   ]
  },
  {
   "cell_type": "code",
   "execution_count": 39,
   "metadata": {},
   "outputs": [
    {
     "data": {
      "text/html": [
       "<div>\n",
       "<style scoped>\n",
       "    .dataframe tbody tr th:only-of-type {\n",
       "        vertical-align: middle;\n",
       "    }\n",
       "\n",
       "    .dataframe tbody tr th {\n",
       "        vertical-align: top;\n",
       "    }\n",
       "\n",
       "    .dataframe thead th {\n",
       "        text-align: right;\n",
       "    }\n",
       "</style>\n",
       "<table border=\"1\" class=\"dataframe\">\n",
       "  <thead>\n",
       "    <tr style=\"text-align: right;\">\n",
       "      <th></th>\n",
       "      <th>game</th>\n",
       "      <th>trial</th>\n",
       "      <th>player</th>\n",
       "      <th>hole</th>\n",
       "      <th>probability</th>\n",
       "      <th>P1 score</th>\n",
       "      <th>P2 score</th>\n",
       "    </tr>\n",
       "  </thead>\n",
       "  <tbody>\n",
       "    <tr>\n",
       "      <td>40</td>\n",
       "      <td>1</td>\n",
       "      <td>21</td>\n",
       "      <td>1</td>\n",
       "      <td>3</td>\n",
       "      <td>60</td>\n",
       "      <td>15</td>\n",
       "      <td>18</td>\n",
       "    </tr>\n",
       "    <tr>\n",
       "      <td>41</td>\n",
       "      <td>1</td>\n",
       "      <td>21</td>\n",
       "      <td>2</td>\n",
       "      <td>1</td>\n",
       "      <td>90</td>\n",
       "      <td>15</td>\n",
       "      <td>19</td>\n",
       "    </tr>\n",
       "    <tr>\n",
       "      <td>42</td>\n",
       "      <td>1</td>\n",
       "      <td>22</td>\n",
       "      <td>1</td>\n",
       "      <td>1</td>\n",
       "      <td>90</td>\n",
       "      <td>16</td>\n",
       "      <td>19</td>\n",
       "    </tr>\n",
       "    <tr>\n",
       "      <td>43</td>\n",
       "      <td>1</td>\n",
       "      <td>22</td>\n",
       "      <td>2</td>\n",
       "      <td>1</td>\n",
       "      <td>90</td>\n",
       "      <td>16</td>\n",
       "      <td>20</td>\n",
       "    </tr>\n",
       "    <tr>\n",
       "      <td>44</td>\n",
       "      <td>1</td>\n",
       "      <td>23</td>\n",
       "      <td>1</td>\n",
       "      <td>3</td>\n",
       "      <td>60</td>\n",
       "      <td>16</td>\n",
       "      <td>20</td>\n",
       "    </tr>\n",
       "  </tbody>\n",
       "</table>\n",
       "</div>"
      ],
      "text/plain": [
       "    game  trial  player  hole  probability  P1 score  P2 score\n",
       "40     1     21       1     3           60        15        18\n",
       "41     1     21       2     1           90        15        19\n",
       "42     1     22       1     1           90        16        19\n",
       "43     1     22       2     1           90        16        20\n",
       "44     1     23       1     3           60        16        20"
      ]
     },
     "execution_count": 39,
     "metadata": {},
     "output_type": "execute_result"
    }
   ],
   "source": [
    "#in the s files, p2 is the confederate\n",
    "df = organize_trial_by_trial('data/c02_gamedata.csv')\n",
    "c02 = df\n",
    "c02_p1_g1_score,c02_p1_g2_score,c02_score_diff = call_get_score(c02, 'c')\n",
    "c02.head()"
   ]
  },
  {
   "cell_type": "code",
   "execution_count": 10,
   "metadata": {},
   "outputs": [
    {
     "data": {
      "text/html": [
       "<div>\n",
       "<style scoped>\n",
       "    .dataframe tbody tr th:only-of-type {\n",
       "        vertical-align: middle;\n",
       "    }\n",
       "\n",
       "    .dataframe tbody tr th {\n",
       "        vertical-align: top;\n",
       "    }\n",
       "\n",
       "    .dataframe thead th {\n",
       "        text-align: right;\n",
       "    }\n",
       "</style>\n",
       "<table border=\"1\" class=\"dataframe\">\n",
       "  <thead>\n",
       "    <tr style=\"text-align: right;\">\n",
       "      <th></th>\n",
       "      <th>game</th>\n",
       "      <th>trial</th>\n",
       "      <th>player</th>\n",
       "      <th>hole</th>\n",
       "      <th>probability</th>\n",
       "      <th>P1 score</th>\n",
       "      <th>P2 score</th>\n",
       "    </tr>\n",
       "  </thead>\n",
       "  <tbody>\n",
       "    <tr>\n",
       "      <td>40</td>\n",
       "      <td>1</td>\n",
       "      <td>21</td>\n",
       "      <td>1</td>\n",
       "      <td>3</td>\n",
       "      <td>90</td>\n",
       "      <td>11</td>\n",
       "      <td>6</td>\n",
       "    </tr>\n",
       "    <tr>\n",
       "      <td>41</td>\n",
       "      <td>1</td>\n",
       "      <td>21</td>\n",
       "      <td>2</td>\n",
       "      <td>3</td>\n",
       "      <td>30</td>\n",
       "      <td>11</td>\n",
       "      <td>6</td>\n",
       "    </tr>\n",
       "    <tr>\n",
       "      <td>42</td>\n",
       "      <td>1</td>\n",
       "      <td>22</td>\n",
       "      <td>1</td>\n",
       "      <td>3</td>\n",
       "      <td>90</td>\n",
       "      <td>12</td>\n",
       "      <td>6</td>\n",
       "    </tr>\n",
       "    <tr>\n",
       "      <td>43</td>\n",
       "      <td>1</td>\n",
       "      <td>22</td>\n",
       "      <td>2</td>\n",
       "      <td>3</td>\n",
       "      <td>30</td>\n",
       "      <td>12</td>\n",
       "      <td>7</td>\n",
       "    </tr>\n",
       "    <tr>\n",
       "      <td>44</td>\n",
       "      <td>1</td>\n",
       "      <td>23</td>\n",
       "      <td>1</td>\n",
       "      <td>3</td>\n",
       "      <td>90</td>\n",
       "      <td>13</td>\n",
       "      <td>7</td>\n",
       "    </tr>\n",
       "  </tbody>\n",
       "</table>\n",
       "</div>"
      ],
      "text/plain": [
       "    game  trial  player  hole  probability  P1 score  P2 score\n",
       "40     1     21       1     3           90        11         6\n",
       "41     1     21       2     3           30        11         6\n",
       "42     1     22       1     3           90        12         6\n",
       "43     1     22       2     3           30        12         7\n",
       "44     1     23       1     3           90        13         7"
      ]
     },
     "execution_count": 10,
     "metadata": {},
     "output_type": "execute_result"
    }
   ],
   "source": [
    "#in the s files, p2 is the confederate\n",
    "df = organize_trial_by_trial('data/c03_gamedata.csv')\n",
    "c03 = df\n",
    "c03_p1_g1_score,c03_p1_g2_score,c03_score_diff = call_get_score(c03, 'c')\n",
    "c03.head()"
   ]
  },
  {
   "cell_type": "code",
   "execution_count": 11,
   "metadata": {},
   "outputs": [
    {
     "data": {
      "text/html": [
       "<div>\n",
       "<style scoped>\n",
       "    .dataframe tbody tr th:only-of-type {\n",
       "        vertical-align: middle;\n",
       "    }\n",
       "\n",
       "    .dataframe tbody tr th {\n",
       "        vertical-align: top;\n",
       "    }\n",
       "\n",
       "    .dataframe thead th {\n",
       "        text-align: right;\n",
       "    }\n",
       "</style>\n",
       "<table border=\"1\" class=\"dataframe\">\n",
       "  <thead>\n",
       "    <tr style=\"text-align: right;\">\n",
       "      <th></th>\n",
       "      <th>game</th>\n",
       "      <th>trial</th>\n",
       "      <th>player</th>\n",
       "      <th>hole</th>\n",
       "      <th>probability</th>\n",
       "      <th>P1 score</th>\n",
       "      <th>P2 score</th>\n",
       "    </tr>\n",
       "  </thead>\n",
       "  <tbody>\n",
       "    <tr>\n",
       "      <td>40</td>\n",
       "      <td>1</td>\n",
       "      <td>21</td>\n",
       "      <td>1</td>\n",
       "      <td>3</td>\n",
       "      <td>90</td>\n",
       "      <td>11</td>\n",
       "      <td>6</td>\n",
       "    </tr>\n",
       "    <tr>\n",
       "      <td>41</td>\n",
       "      <td>1</td>\n",
       "      <td>21</td>\n",
       "      <td>2</td>\n",
       "      <td>3</td>\n",
       "      <td>30</td>\n",
       "      <td>11</td>\n",
       "      <td>6</td>\n",
       "    </tr>\n",
       "    <tr>\n",
       "      <td>42</td>\n",
       "      <td>1</td>\n",
       "      <td>22</td>\n",
       "      <td>1</td>\n",
       "      <td>3</td>\n",
       "      <td>90</td>\n",
       "      <td>12</td>\n",
       "      <td>6</td>\n",
       "    </tr>\n",
       "    <tr>\n",
       "      <td>43</td>\n",
       "      <td>1</td>\n",
       "      <td>22</td>\n",
       "      <td>2</td>\n",
       "      <td>3</td>\n",
       "      <td>30</td>\n",
       "      <td>12</td>\n",
       "      <td>7</td>\n",
       "    </tr>\n",
       "    <tr>\n",
       "      <td>44</td>\n",
       "      <td>1</td>\n",
       "      <td>23</td>\n",
       "      <td>1</td>\n",
       "      <td>3</td>\n",
       "      <td>90</td>\n",
       "      <td>13</td>\n",
       "      <td>7</td>\n",
       "    </tr>\n",
       "  </tbody>\n",
       "</table>\n",
       "</div>"
      ],
      "text/plain": [
       "    game  trial  player  hole  probability  P1 score  P2 score\n",
       "40     1     21       1     3           90        11         6\n",
       "41     1     21       2     3           30        11         6\n",
       "42     1     22       1     3           90        12         6\n",
       "43     1     22       2     3           30        12         7\n",
       "44     1     23       1     3           90        13         7"
      ]
     },
     "execution_count": 11,
     "metadata": {},
     "output_type": "execute_result"
    }
   ],
   "source": [
    "#in the s files, p2 is the confederate\n",
    "df = organize_trial_by_trial('data/c04_gamedata.csv')\n",
    "c04 = df\n",
    "c04_p1_g1_score,c04_p1_g2_score,c04_score_diff = call_get_score(c04, 'c')\n",
    "c04.head()"
   ]
  },
  {
   "cell_type": "code",
   "execution_count": 12,
   "metadata": {},
   "outputs": [
    {
     "data": {
      "text/html": [
       "<div>\n",
       "<style scoped>\n",
       "    .dataframe tbody tr th:only-of-type {\n",
       "        vertical-align: middle;\n",
       "    }\n",
       "\n",
       "    .dataframe tbody tr th {\n",
       "        vertical-align: top;\n",
       "    }\n",
       "\n",
       "    .dataframe thead th {\n",
       "        text-align: right;\n",
       "    }\n",
       "</style>\n",
       "<table border=\"1\" class=\"dataframe\">\n",
       "  <thead>\n",
       "    <tr style=\"text-align: right;\">\n",
       "      <th></th>\n",
       "      <th>game</th>\n",
       "      <th>trial</th>\n",
       "      <th>player</th>\n",
       "      <th>hole</th>\n",
       "      <th>probability</th>\n",
       "      <th>P1 score</th>\n",
       "      <th>P2 score</th>\n",
       "    </tr>\n",
       "  </thead>\n",
       "  <tbody>\n",
       "    <tr>\n",
       "      <td>40</td>\n",
       "      <td>1</td>\n",
       "      <td>21</td>\n",
       "      <td>1</td>\n",
       "      <td>3</td>\n",
       "      <td>90</td>\n",
       "      <td>13</td>\n",
       "      <td>6</td>\n",
       "    </tr>\n",
       "    <tr>\n",
       "      <td>41</td>\n",
       "      <td>1</td>\n",
       "      <td>21</td>\n",
       "      <td>2</td>\n",
       "      <td>3</td>\n",
       "      <td>30</td>\n",
       "      <td>13</td>\n",
       "      <td>7</td>\n",
       "    </tr>\n",
       "    <tr>\n",
       "      <td>42</td>\n",
       "      <td>1</td>\n",
       "      <td>22</td>\n",
       "      <td>1</td>\n",
       "      <td>1</td>\n",
       "      <td>30</td>\n",
       "      <td>13</td>\n",
       "      <td>7</td>\n",
       "    </tr>\n",
       "    <tr>\n",
       "      <td>43</td>\n",
       "      <td>1</td>\n",
       "      <td>22</td>\n",
       "      <td>2</td>\n",
       "      <td>3</td>\n",
       "      <td>30</td>\n",
       "      <td>13</td>\n",
       "      <td>7</td>\n",
       "    </tr>\n",
       "    <tr>\n",
       "      <td>44</td>\n",
       "      <td>1</td>\n",
       "      <td>23</td>\n",
       "      <td>1</td>\n",
       "      <td>2</td>\n",
       "      <td>60</td>\n",
       "      <td>14</td>\n",
       "      <td>7</td>\n",
       "    </tr>\n",
       "  </tbody>\n",
       "</table>\n",
       "</div>"
      ],
      "text/plain": [
       "    game  trial  player  hole  probability  P1 score  P2 score\n",
       "40     1     21       1     3           90        13         6\n",
       "41     1     21       2     3           30        13         7\n",
       "42     1     22       1     1           30        13         7\n",
       "43     1     22       2     3           30        13         7\n",
       "44     1     23       1     2           60        14         7"
      ]
     },
     "execution_count": 12,
     "metadata": {},
     "output_type": "execute_result"
    }
   ],
   "source": [
    "#in the s files, p2 is the confederate\n",
    "df = organize_trial_by_trial('data/c05_gamedata.csv')\n",
    "c05 = df\n",
    "c05_p1_g1_score,c05_p1_g2_score,c05_score_diff = call_get_score(c05, 'c')\n",
    "c05.head()"
   ]
  },
  {
   "cell_type": "code",
   "execution_count": 13,
   "metadata": {},
   "outputs": [
    {
     "data": {
      "text/html": [
       "<div>\n",
       "<style scoped>\n",
       "    .dataframe tbody tr th:only-of-type {\n",
       "        vertical-align: middle;\n",
       "    }\n",
       "\n",
       "    .dataframe tbody tr th {\n",
       "        vertical-align: top;\n",
       "    }\n",
       "\n",
       "    .dataframe thead th {\n",
       "        text-align: right;\n",
       "    }\n",
       "</style>\n",
       "<table border=\"1\" class=\"dataframe\">\n",
       "  <thead>\n",
       "    <tr style=\"text-align: right;\">\n",
       "      <th></th>\n",
       "      <th>game</th>\n",
       "      <th>trial</th>\n",
       "      <th>player</th>\n",
       "      <th>hole</th>\n",
       "      <th>probability</th>\n",
       "      <th>P1 score</th>\n",
       "      <th>P2 score</th>\n",
       "    </tr>\n",
       "  </thead>\n",
       "  <tbody>\n",
       "    <tr>\n",
       "      <td>40</td>\n",
       "      <td>1</td>\n",
       "      <td>21</td>\n",
       "      <td>1</td>\n",
       "      <td>2</td>\n",
       "      <td>90</td>\n",
       "      <td>12</td>\n",
       "      <td>4</td>\n",
       "    </tr>\n",
       "    <tr>\n",
       "      <td>41</td>\n",
       "      <td>1</td>\n",
       "      <td>21</td>\n",
       "      <td>2</td>\n",
       "      <td>3</td>\n",
       "      <td>30</td>\n",
       "      <td>12</td>\n",
       "      <td>4</td>\n",
       "    </tr>\n",
       "    <tr>\n",
       "      <td>42</td>\n",
       "      <td>1</td>\n",
       "      <td>22</td>\n",
       "      <td>1</td>\n",
       "      <td>2</td>\n",
       "      <td>90</td>\n",
       "      <td>13</td>\n",
       "      <td>4</td>\n",
       "    </tr>\n",
       "    <tr>\n",
       "      <td>43</td>\n",
       "      <td>1</td>\n",
       "      <td>22</td>\n",
       "      <td>2</td>\n",
       "      <td>3</td>\n",
       "      <td>30</td>\n",
       "      <td>13</td>\n",
       "      <td>5</td>\n",
       "    </tr>\n",
       "    <tr>\n",
       "      <td>44</td>\n",
       "      <td>1</td>\n",
       "      <td>23</td>\n",
       "      <td>1</td>\n",
       "      <td>3</td>\n",
       "      <td>60</td>\n",
       "      <td>13</td>\n",
       "      <td>5</td>\n",
       "    </tr>\n",
       "  </tbody>\n",
       "</table>\n",
       "</div>"
      ],
      "text/plain": [
       "    game  trial  player  hole  probability  P1 score  P2 score\n",
       "40     1     21       1     2           90        12         4\n",
       "41     1     21       2     3           30        12         4\n",
       "42     1     22       1     2           90        13         4\n",
       "43     1     22       2     3           30        13         5\n",
       "44     1     23       1     3           60        13         5"
      ]
     },
     "execution_count": 13,
     "metadata": {},
     "output_type": "execute_result"
    }
   ],
   "source": [
    "#in the s files, p2 is the confederate\n",
    "df = organize_trial_by_trial('data/c06_gamedata.csv')\n",
    "c06 = df\n",
    "c06_p1_g1_score,c06_p1_g2_score,c06_score_diff = call_get_score(c06, 'c')\n",
    "c06.head()"
   ]
  },
  {
   "cell_type": "code",
   "execution_count": 14,
   "metadata": {},
   "outputs": [
    {
     "data": {
      "text/html": [
       "<div>\n",
       "<style scoped>\n",
       "    .dataframe tbody tr th:only-of-type {\n",
       "        vertical-align: middle;\n",
       "    }\n",
       "\n",
       "    .dataframe tbody tr th {\n",
       "        vertical-align: top;\n",
       "    }\n",
       "\n",
       "    .dataframe thead th {\n",
       "        text-align: right;\n",
       "    }\n",
       "</style>\n",
       "<table border=\"1\" class=\"dataframe\">\n",
       "  <thead>\n",
       "    <tr style=\"text-align: right;\">\n",
       "      <th></th>\n",
       "      <th>game</th>\n",
       "      <th>trial</th>\n",
       "      <th>player</th>\n",
       "      <th>hole</th>\n",
       "      <th>probability</th>\n",
       "      <th>P1 score</th>\n",
       "      <th>P2 score</th>\n",
       "    </tr>\n",
       "  </thead>\n",
       "  <tbody>\n",
       "    <tr>\n",
       "      <td>40</td>\n",
       "      <td>1</td>\n",
       "      <td>21</td>\n",
       "      <td>1</td>\n",
       "      <td>3</td>\n",
       "      <td>60</td>\n",
       "      <td>15</td>\n",
       "      <td>16</td>\n",
       "    </tr>\n",
       "    <tr>\n",
       "      <td>41</td>\n",
       "      <td>1</td>\n",
       "      <td>21</td>\n",
       "      <td>2</td>\n",
       "      <td>1</td>\n",
       "      <td>90</td>\n",
       "      <td>15</td>\n",
       "      <td>17</td>\n",
       "    </tr>\n",
       "    <tr>\n",
       "      <td>42</td>\n",
       "      <td>1</td>\n",
       "      <td>22</td>\n",
       "      <td>1</td>\n",
       "      <td>1</td>\n",
       "      <td>90</td>\n",
       "      <td>16</td>\n",
       "      <td>17</td>\n",
       "    </tr>\n",
       "    <tr>\n",
       "      <td>43</td>\n",
       "      <td>1</td>\n",
       "      <td>22</td>\n",
       "      <td>2</td>\n",
       "      <td>1</td>\n",
       "      <td>90</td>\n",
       "      <td>16</td>\n",
       "      <td>18</td>\n",
       "    </tr>\n",
       "    <tr>\n",
       "      <td>44</td>\n",
       "      <td>1</td>\n",
       "      <td>23</td>\n",
       "      <td>1</td>\n",
       "      <td>3</td>\n",
       "      <td>60</td>\n",
       "      <td>17</td>\n",
       "      <td>18</td>\n",
       "    </tr>\n",
       "  </tbody>\n",
       "</table>\n",
       "</div>"
      ],
      "text/plain": [
       "    game  trial  player  hole  probability  P1 score  P2 score\n",
       "40     1     21       1     3           60        15        16\n",
       "41     1     21       2     1           90        15        17\n",
       "42     1     22       1     1           90        16        17\n",
       "43     1     22       2     1           90        16        18\n",
       "44     1     23       1     3           60        17        18"
      ]
     },
     "execution_count": 14,
     "metadata": {},
     "output_type": "execute_result"
    }
   ],
   "source": [
    "#in the s files, p2 is the confederate\n",
    "df = organize_trial_by_trial('data/c09_gamedata.csv')\n",
    "c09 = df\n",
    "c09_p1_g1_score,c09_p1_g2_score,c09_score_diff = call_get_score(c09, 'c')\n",
    "c09.head()"
   ]
  },
  {
   "cell_type": "code",
   "execution_count": 15,
   "metadata": {},
   "outputs": [
    {
     "data": {
      "text/html": [
       "<div>\n",
       "<style scoped>\n",
       "    .dataframe tbody tr th:only-of-type {\n",
       "        vertical-align: middle;\n",
       "    }\n",
       "\n",
       "    .dataframe tbody tr th {\n",
       "        vertical-align: top;\n",
       "    }\n",
       "\n",
       "    .dataframe thead th {\n",
       "        text-align: right;\n",
       "    }\n",
       "</style>\n",
       "<table border=\"1\" class=\"dataframe\">\n",
       "  <thead>\n",
       "    <tr style=\"text-align: right;\">\n",
       "      <th></th>\n",
       "      <th>game</th>\n",
       "      <th>trial</th>\n",
       "      <th>player</th>\n",
       "      <th>hole</th>\n",
       "      <th>probability</th>\n",
       "      <th>P1 score</th>\n",
       "      <th>P2 score</th>\n",
       "    </tr>\n",
       "  </thead>\n",
       "  <tbody>\n",
       "    <tr>\n",
       "      <td>40</td>\n",
       "      <td>1</td>\n",
       "      <td>21</td>\n",
       "      <td>1</td>\n",
       "      <td>3</td>\n",
       "      <td>30</td>\n",
       "      <td>13</td>\n",
       "      <td>20</td>\n",
       "    </tr>\n",
       "    <tr>\n",
       "      <td>41</td>\n",
       "      <td>1</td>\n",
       "      <td>21</td>\n",
       "      <td>2</td>\n",
       "      <td>1</td>\n",
       "      <td>90</td>\n",
       "      <td>13</td>\n",
       "      <td>21</td>\n",
       "    </tr>\n",
       "    <tr>\n",
       "      <td>42</td>\n",
       "      <td>1</td>\n",
       "      <td>22</td>\n",
       "      <td>1</td>\n",
       "      <td>1</td>\n",
       "      <td>90</td>\n",
       "      <td>14</td>\n",
       "      <td>21</td>\n",
       "    </tr>\n",
       "    <tr>\n",
       "      <td>43</td>\n",
       "      <td>1</td>\n",
       "      <td>22</td>\n",
       "      <td>2</td>\n",
       "      <td>1</td>\n",
       "      <td>90</td>\n",
       "      <td>14</td>\n",
       "      <td>22</td>\n",
       "    </tr>\n",
       "    <tr>\n",
       "      <td>44</td>\n",
       "      <td>1</td>\n",
       "      <td>23</td>\n",
       "      <td>1</td>\n",
       "      <td>1</td>\n",
       "      <td>90</td>\n",
       "      <td>15</td>\n",
       "      <td>22</td>\n",
       "    </tr>\n",
       "  </tbody>\n",
       "</table>\n",
       "</div>"
      ],
      "text/plain": [
       "    game  trial  player  hole  probability  P1 score  P2 score\n",
       "40     1     21       1     3           30        13        20\n",
       "41     1     21       2     1           90        13        21\n",
       "42     1     22       1     1           90        14        21\n",
       "43     1     22       2     1           90        14        22\n",
       "44     1     23       1     1           90        15        22"
      ]
     },
     "execution_count": 15,
     "metadata": {},
     "output_type": "execute_result"
    }
   ],
   "source": [
    "#in the s files, p2 is the confederate\n",
    "df = organize_trial_by_trial('data/c10_gamedata.csv')\n",
    "c10 = df\n",
    "c10_p1_g1_score,c10_p1_g2_score,c10_score_diff = call_get_score(c10, 'c')\n",
    "c10.head()"
   ]
  },
  {
   "cell_type": "code",
   "execution_count": 16,
   "metadata": {},
   "outputs": [
    {
     "data": {
      "text/html": [
       "<div>\n",
       "<style scoped>\n",
       "    .dataframe tbody tr th:only-of-type {\n",
       "        vertical-align: middle;\n",
       "    }\n",
       "\n",
       "    .dataframe tbody tr th {\n",
       "        vertical-align: top;\n",
       "    }\n",
       "\n",
       "    .dataframe thead th {\n",
       "        text-align: right;\n",
       "    }\n",
       "</style>\n",
       "<table border=\"1\" class=\"dataframe\">\n",
       "  <thead>\n",
       "    <tr style=\"text-align: right;\">\n",
       "      <th></th>\n",
       "      <th>game</th>\n",
       "      <th>trial</th>\n",
       "      <th>player</th>\n",
       "      <th>hole</th>\n",
       "      <th>probability</th>\n",
       "      <th>P1 score</th>\n",
       "      <th>P2 score</th>\n",
       "    </tr>\n",
       "  </thead>\n",
       "  <tbody>\n",
       "    <tr>\n",
       "      <td>40</td>\n",
       "      <td>1</td>\n",
       "      <td>21</td>\n",
       "      <td>1</td>\n",
       "      <td>1</td>\n",
       "      <td>60</td>\n",
       "      <td>10</td>\n",
       "      <td>10</td>\n",
       "    </tr>\n",
       "    <tr>\n",
       "      <td>41</td>\n",
       "      <td>1</td>\n",
       "      <td>21</td>\n",
       "      <td>2</td>\n",
       "      <td>2</td>\n",
       "      <td>60</td>\n",
       "      <td>10</td>\n",
       "      <td>11</td>\n",
       "    </tr>\n",
       "    <tr>\n",
       "      <td>42</td>\n",
       "      <td>1</td>\n",
       "      <td>22</td>\n",
       "      <td>1</td>\n",
       "      <td>3</td>\n",
       "      <td>30</td>\n",
       "      <td>10</td>\n",
       "      <td>11</td>\n",
       "    </tr>\n",
       "    <tr>\n",
       "      <td>43</td>\n",
       "      <td>1</td>\n",
       "      <td>22</td>\n",
       "      <td>2</td>\n",
       "      <td>2</td>\n",
       "      <td>60</td>\n",
       "      <td>10</td>\n",
       "      <td>11</td>\n",
       "    </tr>\n",
       "    <tr>\n",
       "      <td>44</td>\n",
       "      <td>1</td>\n",
       "      <td>23</td>\n",
       "      <td>1</td>\n",
       "      <td>1</td>\n",
       "      <td>60</td>\n",
       "      <td>11</td>\n",
       "      <td>11</td>\n",
       "    </tr>\n",
       "  </tbody>\n",
       "</table>\n",
       "</div>"
      ],
      "text/plain": [
       "    game  trial  player  hole  probability  P1 score  P2 score\n",
       "40     1     21       1     1           60        10        10\n",
       "41     1     21       2     2           60        10        11\n",
       "42     1     22       1     3           30        10        11\n",
       "43     1     22       2     2           60        10        11\n",
       "44     1     23       1     1           60        11        11"
      ]
     },
     "execution_count": 16,
     "metadata": {},
     "output_type": "execute_result"
    }
   ],
   "source": [
    "#in the s files, p2 is the confederate\n",
    "df = organize_trial_by_trial('data/c11_gamedata.csv')\n",
    "c11 = df\n",
    "c11_p1_g1_score,c11_p1_g2_score,c11_score_diff = call_get_score(c11, 'c')\n",
    "c11.head()"
   ]
  },
  {
   "cell_type": "code",
   "execution_count": 17,
   "metadata": {},
   "outputs": [
    {
     "data": {
      "text/html": [
       "<div>\n",
       "<style scoped>\n",
       "    .dataframe tbody tr th:only-of-type {\n",
       "        vertical-align: middle;\n",
       "    }\n",
       "\n",
       "    .dataframe tbody tr th {\n",
       "        vertical-align: top;\n",
       "    }\n",
       "\n",
       "    .dataframe thead th {\n",
       "        text-align: right;\n",
       "    }\n",
       "</style>\n",
       "<table border=\"1\" class=\"dataframe\">\n",
       "  <thead>\n",
       "    <tr style=\"text-align: right;\">\n",
       "      <th></th>\n",
       "      <th>game</th>\n",
       "      <th>trial</th>\n",
       "      <th>player</th>\n",
       "      <th>hole</th>\n",
       "      <th>probability</th>\n",
       "      <th>P1 score</th>\n",
       "      <th>P2 score</th>\n",
       "    </tr>\n",
       "  </thead>\n",
       "  <tbody>\n",
       "    <tr>\n",
       "      <td>40</td>\n",
       "      <td>1</td>\n",
       "      <td>40</td>\n",
       "      <td>1</td>\n",
       "      <td>3</td>\n",
       "      <td>30</td>\n",
       "      <td>14</td>\n",
       "      <td>14</td>\n",
       "    </tr>\n",
       "    <tr>\n",
       "      <td>41</td>\n",
       "      <td>1</td>\n",
       "      <td>41</td>\n",
       "      <td>2</td>\n",
       "      <td>0</td>\n",
       "      <td>90</td>\n",
       "      <td>14</td>\n",
       "      <td>14</td>\n",
       "    </tr>\n",
       "    <tr>\n",
       "      <td>42</td>\n",
       "      <td>1</td>\n",
       "      <td>42</td>\n",
       "      <td>1</td>\n",
       "      <td>2</td>\n",
       "      <td>60</td>\n",
       "      <td>14</td>\n",
       "      <td>15</td>\n",
       "    </tr>\n",
       "    <tr>\n",
       "      <td>43</td>\n",
       "      <td>1</td>\n",
       "      <td>43</td>\n",
       "      <td>2</td>\n",
       "      <td>0</td>\n",
       "      <td>90</td>\n",
       "      <td>15</td>\n",
       "      <td>15</td>\n",
       "    </tr>\n",
       "    <tr>\n",
       "      <td>44</td>\n",
       "      <td>1</td>\n",
       "      <td>44</td>\n",
       "      <td>1</td>\n",
       "      <td>2</td>\n",
       "      <td>60</td>\n",
       "      <td>15</td>\n",
       "      <td>16</td>\n",
       "    </tr>\n",
       "  </tbody>\n",
       "</table>\n",
       "</div>"
      ],
      "text/plain": [
       "    game  trial  player  hole  probability  P1 score  P2 score\n",
       "40     1     40       1     3           30        14        14\n",
       "41     1     41       2     0           90        14        14\n",
       "42     1     42       1     2           60        14        15\n",
       "43     1     43       2     0           90        15        15\n",
       "44     1     44       1     2           60        15        16"
      ]
     },
     "execution_count": 17,
     "metadata": {},
     "output_type": "execute_result"
    }
   ],
   "source": [
    "#in the s files, p2 is the confederate\n",
    "df = organize_trial_by_trial_floatclick('data/c12_gamedata.csv')\n",
    "c12 = df\n",
    "c12_p1_g1_score,c12_p1_g2_score,c12_score_diff = call_get_score(c12, 'c')\n",
    "c12.head()"
   ]
  },
  {
   "cell_type": "code",
   "execution_count": 18,
   "metadata": {},
   "outputs": [
    {
     "data": {
      "text/html": [
       "<div>\n",
       "<style scoped>\n",
       "    .dataframe tbody tr th:only-of-type {\n",
       "        vertical-align: middle;\n",
       "    }\n",
       "\n",
       "    .dataframe tbody tr th {\n",
       "        vertical-align: top;\n",
       "    }\n",
       "\n",
       "    .dataframe thead th {\n",
       "        text-align: right;\n",
       "    }\n",
       "</style>\n",
       "<table border=\"1\" class=\"dataframe\">\n",
       "  <thead>\n",
       "    <tr style=\"text-align: right;\">\n",
       "      <th></th>\n",
       "      <th>game</th>\n",
       "      <th>trial</th>\n",
       "      <th>player</th>\n",
       "      <th>hole</th>\n",
       "      <th>probability</th>\n",
       "      <th>P1 score</th>\n",
       "      <th>P2 score</th>\n",
       "    </tr>\n",
       "  </thead>\n",
       "  <tbody>\n",
       "    <tr>\n",
       "      <td>40</td>\n",
       "      <td>1</td>\n",
       "      <td>40</td>\n",
       "      <td>1</td>\n",
       "      <td>2</td>\n",
       "      <td>60</td>\n",
       "      <td>10</td>\n",
       "      <td>16</td>\n",
       "    </tr>\n",
       "    <tr>\n",
       "      <td>41</td>\n",
       "      <td>1</td>\n",
       "      <td>41</td>\n",
       "      <td>2</td>\n",
       "      <td>0</td>\n",
       "      <td>60</td>\n",
       "      <td>10</td>\n",
       "      <td>16</td>\n",
       "    </tr>\n",
       "    <tr>\n",
       "      <td>42</td>\n",
       "      <td>1</td>\n",
       "      <td>42</td>\n",
       "      <td>1</td>\n",
       "      <td>3</td>\n",
       "      <td>30</td>\n",
       "      <td>10</td>\n",
       "      <td>17</td>\n",
       "    </tr>\n",
       "    <tr>\n",
       "      <td>43</td>\n",
       "      <td>1</td>\n",
       "      <td>43</td>\n",
       "      <td>2</td>\n",
       "      <td>0</td>\n",
       "      <td>60</td>\n",
       "      <td>11</td>\n",
       "      <td>17</td>\n",
       "    </tr>\n",
       "    <tr>\n",
       "      <td>44</td>\n",
       "      <td>1</td>\n",
       "      <td>44</td>\n",
       "      <td>1</td>\n",
       "      <td>2</td>\n",
       "      <td>60</td>\n",
       "      <td>11</td>\n",
       "      <td>17</td>\n",
       "    </tr>\n",
       "  </tbody>\n",
       "</table>\n",
       "</div>"
      ],
      "text/plain": [
       "    game  trial  player  hole  probability  P1 score  P2 score\n",
       "40     1     40       1     2           60        10        16\n",
       "41     1     41       2     0           60        10        16\n",
       "42     1     42       1     3           30        10        17\n",
       "43     1     43       2     0           60        11        17\n",
       "44     1     44       1     2           60        11        17"
      ]
     },
     "execution_count": 18,
     "metadata": {},
     "output_type": "execute_result"
    }
   ],
   "source": [
    "#in the s files, p2 is the confederate\n",
    "df = organize_trial_by_trial_floatclick('data/c13_gamedata.csv')\n",
    "c13 = df\n",
    "c13_p1_g1_score,c13_p1_g2_score,c13_score_diff = call_get_score(c13, 'c')\n",
    "c13.head()"
   ]
  },
  {
   "cell_type": "code",
   "execution_count": 19,
   "metadata": {},
   "outputs": [
    {
     "data": {
      "text/html": [
       "<div>\n",
       "<style scoped>\n",
       "    .dataframe tbody tr th:only-of-type {\n",
       "        vertical-align: middle;\n",
       "    }\n",
       "\n",
       "    .dataframe tbody tr th {\n",
       "        vertical-align: top;\n",
       "    }\n",
       "\n",
       "    .dataframe thead th {\n",
       "        text-align: right;\n",
       "    }\n",
       "</style>\n",
       "<table border=\"1\" class=\"dataframe\">\n",
       "  <thead>\n",
       "    <tr style=\"text-align: right;\">\n",
       "      <th></th>\n",
       "      <th>game</th>\n",
       "      <th>trial</th>\n",
       "      <th>player</th>\n",
       "      <th>hole</th>\n",
       "      <th>probability</th>\n",
       "      <th>P1 score</th>\n",
       "      <th>P2 score</th>\n",
       "    </tr>\n",
       "  </thead>\n",
       "  <tbody>\n",
       "    <tr>\n",
       "      <td>40</td>\n",
       "      <td>1</td>\n",
       "      <td>40</td>\n",
       "      <td>1</td>\n",
       "      <td>1</td>\n",
       "      <td>90</td>\n",
       "      <td>10</td>\n",
       "      <td>1</td>\n",
       "    </tr>\n",
       "    <tr>\n",
       "      <td>41</td>\n",
       "      <td>1</td>\n",
       "      <td>41</td>\n",
       "      <td>2</td>\n",
       "      <td>0</td>\n",
       "      <td>30</td>\n",
       "      <td>11</td>\n",
       "      <td>1</td>\n",
       "    </tr>\n",
       "    <tr>\n",
       "      <td>42</td>\n",
       "      <td>1</td>\n",
       "      <td>42</td>\n",
       "      <td>1</td>\n",
       "      <td>1</td>\n",
       "      <td>90</td>\n",
       "      <td>11</td>\n",
       "      <td>1</td>\n",
       "    </tr>\n",
       "    <tr>\n",
       "      <td>43</td>\n",
       "      <td>1</td>\n",
       "      <td>43</td>\n",
       "      <td>2</td>\n",
       "      <td>0</td>\n",
       "      <td>30</td>\n",
       "      <td>12</td>\n",
       "      <td>1</td>\n",
       "    </tr>\n",
       "    <tr>\n",
       "      <td>44</td>\n",
       "      <td>1</td>\n",
       "      <td>44</td>\n",
       "      <td>1</td>\n",
       "      <td>1</td>\n",
       "      <td>90</td>\n",
       "      <td>12</td>\n",
       "      <td>1</td>\n",
       "    </tr>\n",
       "  </tbody>\n",
       "</table>\n",
       "</div>"
      ],
      "text/plain": [
       "    game  trial  player  hole  probability  P1 score  P2 score\n",
       "40     1     40       1     1           90        10         1\n",
       "41     1     41       2     0           30        11         1\n",
       "42     1     42       1     1           90        11         1\n",
       "43     1     43       2     0           30        12         1\n",
       "44     1     44       1     1           90        12         1"
      ]
     },
     "execution_count": 19,
     "metadata": {},
     "output_type": "execute_result"
    }
   ],
   "source": [
    "#in the s files, p2 is the confederate\n",
    "df = organize_trial_by_trial_floatclick('data/c14_gamedata.csv')\n",
    "c14 = df\n",
    "c14_p1_g1_score,c14_p1_g2_score,c14_score_diff = call_get_score(c14, 'c')\n",
    "c14.head()"
   ]
  },
  {
   "cell_type": "code",
   "execution_count": 20,
   "metadata": {},
   "outputs": [
    {
     "data": {
      "text/html": [
       "<div>\n",
       "<style scoped>\n",
       "    .dataframe tbody tr th:only-of-type {\n",
       "        vertical-align: middle;\n",
       "    }\n",
       "\n",
       "    .dataframe tbody tr th {\n",
       "        vertical-align: top;\n",
       "    }\n",
       "\n",
       "    .dataframe thead th {\n",
       "        text-align: right;\n",
       "    }\n",
       "</style>\n",
       "<table border=\"1\" class=\"dataframe\">\n",
       "  <thead>\n",
       "    <tr style=\"text-align: right;\">\n",
       "      <th></th>\n",
       "      <th>game</th>\n",
       "      <th>trial</th>\n",
       "      <th>player</th>\n",
       "      <th>hole</th>\n",
       "      <th>probability</th>\n",
       "      <th>P1 score</th>\n",
       "      <th>P2 score</th>\n",
       "    </tr>\n",
       "  </thead>\n",
       "  <tbody>\n",
       "    <tr>\n",
       "      <td>40</td>\n",
       "      <td>1</td>\n",
       "      <td>40</td>\n",
       "      <td>1</td>\n",
       "      <td>3</td>\n",
       "      <td>30</td>\n",
       "      <td>14</td>\n",
       "      <td>14</td>\n",
       "    </tr>\n",
       "    <tr>\n",
       "      <td>41</td>\n",
       "      <td>1</td>\n",
       "      <td>41</td>\n",
       "      <td>2</td>\n",
       "      <td>0</td>\n",
       "      <td>90</td>\n",
       "      <td>14</td>\n",
       "      <td>14</td>\n",
       "    </tr>\n",
       "    <tr>\n",
       "      <td>42</td>\n",
       "      <td>1</td>\n",
       "      <td>42</td>\n",
       "      <td>1</td>\n",
       "      <td>2</td>\n",
       "      <td>60</td>\n",
       "      <td>14</td>\n",
       "      <td>15</td>\n",
       "    </tr>\n",
       "    <tr>\n",
       "      <td>43</td>\n",
       "      <td>1</td>\n",
       "      <td>43</td>\n",
       "      <td>2</td>\n",
       "      <td>0</td>\n",
       "      <td>90</td>\n",
       "      <td>15</td>\n",
       "      <td>15</td>\n",
       "    </tr>\n",
       "    <tr>\n",
       "      <td>44</td>\n",
       "      <td>1</td>\n",
       "      <td>44</td>\n",
       "      <td>1</td>\n",
       "      <td>2</td>\n",
       "      <td>60</td>\n",
       "      <td>15</td>\n",
       "      <td>16</td>\n",
       "    </tr>\n",
       "  </tbody>\n",
       "</table>\n",
       "</div>"
      ],
      "text/plain": [
       "    game  trial  player  hole  probability  P1 score  P2 score\n",
       "40     1     40       1     3           30        14        14\n",
       "41     1     41       2     0           90        14        14\n",
       "42     1     42       1     2           60        14        15\n",
       "43     1     43       2     0           90        15        15\n",
       "44     1     44       1     2           60        15        16"
      ]
     },
     "execution_count": 20,
     "metadata": {},
     "output_type": "execute_result"
    }
   ],
   "source": [
    "#in the s files, p2 is the confederate\n",
    "df = organize_trial_by_trial_floatclick('data/c16_gamedata.csv')\n",
    "c16 = df\n",
    "c16_p1_g1_score,c16_p1_g2_score,c16_score_diff = call_get_score(c16, 'c')\n",
    "c12.head()"
   ]
  },
  {
   "cell_type": "code",
   "execution_count": 21,
   "metadata": {},
   "outputs": [
    {
     "data": {
      "text/html": [
       "<div>\n",
       "<style scoped>\n",
       "    .dataframe tbody tr th:only-of-type {\n",
       "        vertical-align: middle;\n",
       "    }\n",
       "\n",
       "    .dataframe tbody tr th {\n",
       "        vertical-align: top;\n",
       "    }\n",
       "\n",
       "    .dataframe thead th {\n",
       "        text-align: right;\n",
       "    }\n",
       "</style>\n",
       "<table border=\"1\" class=\"dataframe\">\n",
       "  <thead>\n",
       "    <tr style=\"text-align: right;\">\n",
       "      <th></th>\n",
       "      <th>game</th>\n",
       "      <th>trial</th>\n",
       "      <th>player</th>\n",
       "      <th>hole</th>\n",
       "      <th>probability</th>\n",
       "      <th>P1 score</th>\n",
       "      <th>P2 score</th>\n",
       "    </tr>\n",
       "  </thead>\n",
       "  <tbody>\n",
       "    <tr>\n",
       "      <td>40</td>\n",
       "      <td>1</td>\n",
       "      <td>40</td>\n",
       "      <td>1</td>\n",
       "      <td>1</td>\n",
       "      <td>90</td>\n",
       "      <td>16</td>\n",
       "      <td>9</td>\n",
       "    </tr>\n",
       "    <tr>\n",
       "      <td>41</td>\n",
       "      <td>1</td>\n",
       "      <td>41</td>\n",
       "      <td>2</td>\n",
       "      <td>0</td>\n",
       "      <td>60</td>\n",
       "      <td>17</td>\n",
       "      <td>9</td>\n",
       "    </tr>\n",
       "    <tr>\n",
       "      <td>42</td>\n",
       "      <td>1</td>\n",
       "      <td>42</td>\n",
       "      <td>1</td>\n",
       "      <td>1</td>\n",
       "      <td>90</td>\n",
       "      <td>17</td>\n",
       "      <td>10</td>\n",
       "    </tr>\n",
       "    <tr>\n",
       "      <td>43</td>\n",
       "      <td>1</td>\n",
       "      <td>43</td>\n",
       "      <td>2</td>\n",
       "      <td>0</td>\n",
       "      <td>60</td>\n",
       "      <td>18</td>\n",
       "      <td>10</td>\n",
       "    </tr>\n",
       "    <tr>\n",
       "      <td>44</td>\n",
       "      <td>1</td>\n",
       "      <td>44</td>\n",
       "      <td>1</td>\n",
       "      <td>1</td>\n",
       "      <td>90</td>\n",
       "      <td>18</td>\n",
       "      <td>10</td>\n",
       "    </tr>\n",
       "  </tbody>\n",
       "</table>\n",
       "</div>"
      ],
      "text/plain": [
       "    game  trial  player  hole  probability  P1 score  P2 score\n",
       "40     1     40       1     1           90        16         9\n",
       "41     1     41       2     0           60        17         9\n",
       "42     1     42       1     1           90        17        10\n",
       "43     1     43       2     0           60        18        10\n",
       "44     1     44       1     1           90        18        10"
      ]
     },
     "execution_count": 21,
     "metadata": {},
     "output_type": "execute_result"
    }
   ],
   "source": [
    "#in the s files, p2 is the confederate\n",
    "df = organize_trial_by_trial_floatclick('data/c17_gamedata.csv')\n",
    "c17 = df\n",
    "c17_p1_g1_score,c17_p1_g2_score,c17_score_diff = call_get_score(c17, 'c')\n",
    "c17.head()#in the s files, p2 is the confederate\n"
   ]
  },
  {
   "cell_type": "markdown",
   "metadata": {},
   "source": [
    "# Multi Player Analysis"
   ]
  },
  {
   "cell_type": "code",
   "execution_count": 40,
   "metadata": {},
   "outputs": [
    {
     "data": {
      "text/html": [
       "<div>\n",
       "<style scoped>\n",
       "    .dataframe tbody tr th:only-of-type {\n",
       "        vertical-align: middle;\n",
       "    }\n",
       "\n",
       "    .dataframe tbody tr th {\n",
       "        vertical-align: top;\n",
       "    }\n",
       "\n",
       "    .dataframe thead th {\n",
       "        text-align: right;\n",
       "    }\n",
       "</style>\n",
       "<table border=\"1\" class=\"dataframe\">\n",
       "  <thead>\n",
       "    <tr style=\"text-align: right;\">\n",
       "      <th></th>\n",
       "      <th>game</th>\n",
       "      <th>trial</th>\n",
       "      <th>player</th>\n",
       "      <th>hole</th>\n",
       "      <th>probability</th>\n",
       "      <th>P1 score</th>\n",
       "      <th>P2 score</th>\n",
       "    </tr>\n",
       "  </thead>\n",
       "  <tbody>\n",
       "    <tr>\n",
       "      <td>40</td>\n",
       "      <td>1</td>\n",
       "      <td>21</td>\n",
       "      <td>1</td>\n",
       "      <td>2</td>\n",
       "      <td>60</td>\n",
       "      <td>16</td>\n",
       "      <td>14</td>\n",
       "    </tr>\n",
       "    <tr>\n",
       "      <td>41</td>\n",
       "      <td>1</td>\n",
       "      <td>21</td>\n",
       "      <td>2</td>\n",
       "      <td>3</td>\n",
       "      <td>90</td>\n",
       "      <td>16</td>\n",
       "      <td>15</td>\n",
       "    </tr>\n",
       "    <tr>\n",
       "      <td>42</td>\n",
       "      <td>1</td>\n",
       "      <td>22</td>\n",
       "      <td>1</td>\n",
       "      <td>1</td>\n",
       "      <td>90</td>\n",
       "      <td>17</td>\n",
       "      <td>15</td>\n",
       "    </tr>\n",
       "    <tr>\n",
       "      <td>43</td>\n",
       "      <td>1</td>\n",
       "      <td>22</td>\n",
       "      <td>2</td>\n",
       "      <td>2</td>\n",
       "      <td>60</td>\n",
       "      <td>17</td>\n",
       "      <td>16</td>\n",
       "    </tr>\n",
       "    <tr>\n",
       "      <td>44</td>\n",
       "      <td>1</td>\n",
       "      <td>23</td>\n",
       "      <td>1</td>\n",
       "      <td>1</td>\n",
       "      <td>90</td>\n",
       "      <td>18</td>\n",
       "      <td>16</td>\n",
       "    </tr>\n",
       "  </tbody>\n",
       "</table>\n",
       "</div>"
      ],
      "text/plain": [
       "    game  trial  player  hole  probability  P1 score  P2 score\n",
       "40     1     21       1     2           60        16        14\n",
       "41     1     21       2     3           90        16        15\n",
       "42     1     22       1     1           90        17        15\n",
       "43     1     22       2     2           60        17        16\n",
       "44     1     23       1     1           90        18        16"
      ]
     },
     "execution_count": 40,
     "metadata": {},
     "output_type": "execute_result"
    }
   ],
   "source": [
    "#in the s files, p2 is the confederate\n",
    "df = organize_trial_by_trial('data/m05_gamedata.csv')\n",
    "m05 = df\n",
    "m05_p1_g1_score,m05_p1_g2_score,m05_p2_g1_score,m05_p2_g2_score,m05_p1_score_diff,m05_p2_score_diff = call_get_score(m05, 'm')\n",
    "m05.head()"
   ]
  },
  {
   "cell_type": "code",
   "execution_count": 41,
   "metadata": {},
   "outputs": [
    {
     "data": {
      "text/html": [
       "<div>\n",
       "<style scoped>\n",
       "    .dataframe tbody tr th:only-of-type {\n",
       "        vertical-align: middle;\n",
       "    }\n",
       "\n",
       "    .dataframe tbody tr th {\n",
       "        vertical-align: top;\n",
       "    }\n",
       "\n",
       "    .dataframe thead th {\n",
       "        text-align: right;\n",
       "    }\n",
       "</style>\n",
       "<table border=\"1\" class=\"dataframe\">\n",
       "  <thead>\n",
       "    <tr style=\"text-align: right;\">\n",
       "      <th></th>\n",
       "      <th>game</th>\n",
       "      <th>trial</th>\n",
       "      <th>player</th>\n",
       "      <th>hole</th>\n",
       "      <th>probability</th>\n",
       "      <th>P1 score</th>\n",
       "      <th>P2 score</th>\n",
       "    </tr>\n",
       "  </thead>\n",
       "  <tbody>\n",
       "    <tr>\n",
       "      <td>40</td>\n",
       "      <td>1</td>\n",
       "      <td>40</td>\n",
       "      <td>1</td>\n",
       "      <td>2</td>\n",
       "      <td>60</td>\n",
       "      <td>11</td>\n",
       "      <td>13</td>\n",
       "    </tr>\n",
       "    <tr>\n",
       "      <td>41</td>\n",
       "      <td>1</td>\n",
       "      <td>41</td>\n",
       "      <td>2</td>\n",
       "      <td>1</td>\n",
       "      <td>90</td>\n",
       "      <td>11</td>\n",
       "      <td>13</td>\n",
       "    </tr>\n",
       "    <tr>\n",
       "      <td>42</td>\n",
       "      <td>1</td>\n",
       "      <td>42</td>\n",
       "      <td>1</td>\n",
       "      <td>3</td>\n",
       "      <td>30</td>\n",
       "      <td>11</td>\n",
       "      <td>14</td>\n",
       "    </tr>\n",
       "    <tr>\n",
       "      <td>43</td>\n",
       "      <td>1</td>\n",
       "      <td>43</td>\n",
       "      <td>2</td>\n",
       "      <td>2</td>\n",
       "      <td>30</td>\n",
       "      <td>11</td>\n",
       "      <td>14</td>\n",
       "    </tr>\n",
       "    <tr>\n",
       "      <td>44</td>\n",
       "      <td>1</td>\n",
       "      <td>44</td>\n",
       "      <td>1</td>\n",
       "      <td>1</td>\n",
       "      <td>90</td>\n",
       "      <td>11</td>\n",
       "      <td>14</td>\n",
       "    </tr>\n",
       "  </tbody>\n",
       "</table>\n",
       "</div>"
      ],
      "text/plain": [
       "    game  trial  player  hole  probability  P1 score  P2 score\n",
       "40     1     40       1     2           60        11        13\n",
       "41     1     41       2     1           90        11        13\n",
       "42     1     42       1     3           30        11        14\n",
       "43     1     43       2     2           30        11        14\n",
       "44     1     44       1     1           90        11        14"
      ]
     },
     "execution_count": 41,
     "metadata": {},
     "output_type": "execute_result"
    }
   ],
   "source": [
    "#in the s files, p2 is the confederate\n",
    "df = organize_trial_by_trial_floatclick('data/m06_gamedata.csv')\n",
    "m06 = df\n",
    "m06_p1_g1_score,m06_p1_g2_score,m06_p2_g1_score,m06_p2_g2_score,m06_p1_score_diff,m06_p2_score_diff = call_get_score(m06, 'm')\n",
    "m06.head()"
   ]
  },
  {
   "cell_type": "code",
   "execution_count": 13,
   "metadata": {},
   "outputs": [
    {
     "data": {
      "text/html": [
       "<div>\n",
       "<style scoped>\n",
       "    .dataframe tbody tr th:only-of-type {\n",
       "        vertical-align: middle;\n",
       "    }\n",
       "\n",
       "    .dataframe tbody tr th {\n",
       "        vertical-align: top;\n",
       "    }\n",
       "\n",
       "    .dataframe thead th {\n",
       "        text-align: right;\n",
       "    }\n",
       "</style>\n",
       "<table border=\"1\" class=\"dataframe\">\n",
       "  <thead>\n",
       "    <tr style=\"text-align: right;\">\n",
       "      <th></th>\n",
       "      <th>game</th>\n",
       "      <th>trial</th>\n",
       "      <th>player</th>\n",
       "      <th>hole</th>\n",
       "      <th>probability</th>\n",
       "      <th>P1 score</th>\n",
       "      <th>P2 score</th>\n",
       "    </tr>\n",
       "  </thead>\n",
       "  <tbody>\n",
       "    <tr>\n",
       "      <td>40</td>\n",
       "      <td>1</td>\n",
       "      <td>40</td>\n",
       "      <td>1</td>\n",
       "      <td>1</td>\n",
       "      <td>90</td>\n",
       "      <td>10</td>\n",
       "      <td>13</td>\n",
       "    </tr>\n",
       "    <tr>\n",
       "      <td>41</td>\n",
       "      <td>1</td>\n",
       "      <td>41</td>\n",
       "      <td>2</td>\n",
       "      <td>3</td>\n",
       "      <td>90</td>\n",
       "      <td>11</td>\n",
       "      <td>13</td>\n",
       "    </tr>\n",
       "    <tr>\n",
       "      <td>42</td>\n",
       "      <td>1</td>\n",
       "      <td>42</td>\n",
       "      <td>1</td>\n",
       "      <td>1</td>\n",
       "      <td>90</td>\n",
       "      <td>11</td>\n",
       "      <td>14</td>\n",
       "    </tr>\n",
       "    <tr>\n",
       "      <td>43</td>\n",
       "      <td>1</td>\n",
       "      <td>43</td>\n",
       "      <td>2</td>\n",
       "      <td>3</td>\n",
       "      <td>90</td>\n",
       "      <td>12</td>\n",
       "      <td>14</td>\n",
       "    </tr>\n",
       "    <tr>\n",
       "      <td>44</td>\n",
       "      <td>1</td>\n",
       "      <td>44</td>\n",
       "      <td>1</td>\n",
       "      <td>1</td>\n",
       "      <td>90</td>\n",
       "      <td>12</td>\n",
       "      <td>15</td>\n",
       "    </tr>\n",
       "  </tbody>\n",
       "</table>\n",
       "</div>"
      ],
      "text/plain": [
       "    game  trial  player  hole  probability  P1 score  P2 score\n",
       "40     1     40       1     1           90        10        13\n",
       "41     1     41       2     3           90        11        13\n",
       "42     1     42       1     1           90        11        14\n",
       "43     1     43       2     3           90        12        14\n",
       "44     1     44       1     1           90        12        15"
      ]
     },
     "execution_count": 13,
     "metadata": {},
     "output_type": "execute_result"
    }
   ],
   "source": [
    "#in the s files, p2 is the confederate\n",
    "df = organize_trial_by_trial_floatclick('data/m08_gamedata.csv')\n",
    "m08 = df\n",
    "m08_p1_g1_score,m08_p1_g2_score,m08_p2_g1_score,m08_p2_g2_score,m08_p1_score_diff,m08_p2_score_diff = call_get_score(m08, 'm')\n",
    "m08.head()"
   ]
  },
  {
   "cell_type": "code",
   "execution_count": 15,
   "metadata": {},
   "outputs": [],
   "source": [
    "#df = organize_trial_by_trial_floatclick('data/m09_gamedata.csv')\n",
    "#m09 = df\n",
    "#m09_p1_g1_score,m09_p1_g2_score,m09_p2_g1_score,m09_p2_g2_score,m09_p1_score_diff,m09_p2_score_diff = call_get_score(m09, 'm')\n",
    "#m09.head()"
   ]
  },
  {
   "cell_type": "code",
   "execution_count": 44,
   "metadata": {},
   "outputs": [
    {
     "data": {
      "text/html": [
       "<div>\n",
       "<style scoped>\n",
       "    .dataframe tbody tr th:only-of-type {\n",
       "        vertical-align: middle;\n",
       "    }\n",
       "\n",
       "    .dataframe tbody tr th {\n",
       "        vertical-align: top;\n",
       "    }\n",
       "\n",
       "    .dataframe thead th {\n",
       "        text-align: right;\n",
       "    }\n",
       "</style>\n",
       "<table border=\"1\" class=\"dataframe\">\n",
       "  <thead>\n",
       "    <tr style=\"text-align: right;\">\n",
       "      <th></th>\n",
       "      <th>game</th>\n",
       "      <th>trial</th>\n",
       "      <th>player</th>\n",
       "      <th>hole</th>\n",
       "      <th>probability</th>\n",
       "      <th>P1 score</th>\n",
       "      <th>P2 score</th>\n",
       "    </tr>\n",
       "  </thead>\n",
       "  <tbody>\n",
       "    <tr>\n",
       "      <td>40</td>\n",
       "      <td>1</td>\n",
       "      <td>40</td>\n",
       "      <td>1</td>\n",
       "      <td>3</td>\n",
       "      <td>30</td>\n",
       "      <td>16</td>\n",
       "      <td>10</td>\n",
       "    </tr>\n",
       "    <tr>\n",
       "      <td>41</td>\n",
       "      <td>1</td>\n",
       "      <td>41</td>\n",
       "      <td>2</td>\n",
       "      <td>1</td>\n",
       "      <td>30</td>\n",
       "      <td>16</td>\n",
       "      <td>10</td>\n",
       "    </tr>\n",
       "    <tr>\n",
       "      <td>42</td>\n",
       "      <td>1</td>\n",
       "      <td>42</td>\n",
       "      <td>1</td>\n",
       "      <td>1</td>\n",
       "      <td>90</td>\n",
       "      <td>16</td>\n",
       "      <td>10</td>\n",
       "    </tr>\n",
       "    <tr>\n",
       "      <td>43</td>\n",
       "      <td>1</td>\n",
       "      <td>43</td>\n",
       "      <td>2</td>\n",
       "      <td>2</td>\n",
       "      <td>60</td>\n",
       "      <td>17</td>\n",
       "      <td>10</td>\n",
       "    </tr>\n",
       "    <tr>\n",
       "      <td>44</td>\n",
       "      <td>1</td>\n",
       "      <td>44</td>\n",
       "      <td>1</td>\n",
       "      <td>3</td>\n",
       "      <td>30</td>\n",
       "      <td>17</td>\n",
       "      <td>10</td>\n",
       "    </tr>\n",
       "  </tbody>\n",
       "</table>\n",
       "</div>"
      ],
      "text/plain": [
       "    game  trial  player  hole  probability  P1 score  P2 score\n",
       "40     1     40       1     3           30        16        10\n",
       "41     1     41       2     1           30        16        10\n",
       "42     1     42       1     1           90        16        10\n",
       "43     1     43       2     2           60        17        10\n",
       "44     1     44       1     3           30        17        10"
      ]
     },
     "execution_count": 44,
     "metadata": {},
     "output_type": "execute_result"
    }
   ],
   "source": [
    "#in the s files, p2 is the confederate\n",
    "df = organize_trial_by_trial_floatclick('data/m10_gamedata.csv')\n",
    "m10 = df\n",
    "m10_p1_g1_score,m10_p1_g2_score,m10_p2_g1_score,m10_p2_g2_score,m10_p1_score_diff,m10_p2_score_diff = call_get_score(m10, 'm')\n",
    "m10.head()"
   ]
  },
  {
   "cell_type": "code",
   "execution_count": 45,
   "metadata": {},
   "outputs": [
    {
     "data": {
      "text/html": [
       "<div>\n",
       "<style scoped>\n",
       "    .dataframe tbody tr th:only-of-type {\n",
       "        vertical-align: middle;\n",
       "    }\n",
       "\n",
       "    .dataframe tbody tr th {\n",
       "        vertical-align: top;\n",
       "    }\n",
       "\n",
       "    .dataframe thead th {\n",
       "        text-align: right;\n",
       "    }\n",
       "</style>\n",
       "<table border=\"1\" class=\"dataframe\">\n",
       "  <thead>\n",
       "    <tr style=\"text-align: right;\">\n",
       "      <th></th>\n",
       "      <th>game</th>\n",
       "      <th>trial</th>\n",
       "      <th>player</th>\n",
       "      <th>hole</th>\n",
       "      <th>probability</th>\n",
       "      <th>P1 score</th>\n",
       "      <th>P2 score</th>\n",
       "    </tr>\n",
       "  </thead>\n",
       "  <tbody>\n",
       "    <tr>\n",
       "      <td>40</td>\n",
       "      <td>1</td>\n",
       "      <td>40</td>\n",
       "      <td>1</td>\n",
       "      <td>3</td>\n",
       "      <td>30</td>\n",
       "      <td>9</td>\n",
       "      <td>16</td>\n",
       "    </tr>\n",
       "    <tr>\n",
       "      <td>41</td>\n",
       "      <td>1</td>\n",
       "      <td>41</td>\n",
       "      <td>2</td>\n",
       "      <td>3</td>\n",
       "      <td>90</td>\n",
       "      <td>9</td>\n",
       "      <td>16</td>\n",
       "    </tr>\n",
       "    <tr>\n",
       "      <td>42</td>\n",
       "      <td>1</td>\n",
       "      <td>42</td>\n",
       "      <td>1</td>\n",
       "      <td>3</td>\n",
       "      <td>30</td>\n",
       "      <td>9</td>\n",
       "      <td>17</td>\n",
       "    </tr>\n",
       "    <tr>\n",
       "      <td>43</td>\n",
       "      <td>1</td>\n",
       "      <td>43</td>\n",
       "      <td>2</td>\n",
       "      <td>3</td>\n",
       "      <td>90</td>\n",
       "      <td>10</td>\n",
       "      <td>17</td>\n",
       "    </tr>\n",
       "    <tr>\n",
       "      <td>44</td>\n",
       "      <td>1</td>\n",
       "      <td>44</td>\n",
       "      <td>1</td>\n",
       "      <td>3</td>\n",
       "      <td>30</td>\n",
       "      <td>10</td>\n",
       "      <td>18</td>\n",
       "    </tr>\n",
       "  </tbody>\n",
       "</table>\n",
       "</div>"
      ],
      "text/plain": [
       "    game  trial  player  hole  probability  P1 score  P2 score\n",
       "40     1     40       1     3           30         9        16\n",
       "41     1     41       2     3           90         9        16\n",
       "42     1     42       1     3           30         9        17\n",
       "43     1     43       2     3           90        10        17\n",
       "44     1     44       1     3           30        10        18"
      ]
     },
     "execution_count": 45,
     "metadata": {},
     "output_type": "execute_result"
    }
   ],
   "source": [
    "#in the s files, p2 is the confederate\n",
    "df = organize_trial_by_trial_floatclick('data/m11_gamedata.csv')\n",
    "m11 = df\n",
    "m11_p1_g1_score,m11_p1_g2_score,m11_p2_g1_score,m11_p2_g2_score,m11_p1_score_diff,m11_p2_score_diff = call_get_score(m11, 'm')\n",
    "m11.head()"
   ]
  },
  {
   "cell_type": "code",
   "execution_count": 17,
   "metadata": {},
   "outputs": [],
   "source": [
    "#in the s files, p2 is the confederate\n",
    "#df = organize_trial_by_trial_floatclick('data/m12_gamedata.csv')\n",
    "#m12 = df\n",
    "#m12_p1_g1_score,m12_p1_g2_score,m12_p2_g1_score,m12_p2_g2_score,m12_p1_score_diff,m12_p2_score_diff = call_get_score(m12, 'm')\n",
    "#m12.head()"
   ]
  },
  {
   "cell_type": "code",
   "execution_count": 47,
   "metadata": {},
   "outputs": [
    {
     "data": {
      "text/html": [
       "<div>\n",
       "<style scoped>\n",
       "    .dataframe tbody tr th:only-of-type {\n",
       "        vertical-align: middle;\n",
       "    }\n",
       "\n",
       "    .dataframe tbody tr th {\n",
       "        vertical-align: top;\n",
       "    }\n",
       "\n",
       "    .dataframe thead th {\n",
       "        text-align: right;\n",
       "    }\n",
       "</style>\n",
       "<table border=\"1\" class=\"dataframe\">\n",
       "  <thead>\n",
       "    <tr style=\"text-align: right;\">\n",
       "      <th></th>\n",
       "      <th>game</th>\n",
       "      <th>trial</th>\n",
       "      <th>player</th>\n",
       "      <th>hole</th>\n",
       "      <th>probability</th>\n",
       "      <th>P1 score</th>\n",
       "      <th>P2 score</th>\n",
       "    </tr>\n",
       "  </thead>\n",
       "  <tbody>\n",
       "    <tr>\n",
       "      <td>40</td>\n",
       "      <td>1</td>\n",
       "      <td>40</td>\n",
       "      <td>1</td>\n",
       "      <td>3</td>\n",
       "      <td>30</td>\n",
       "      <td>10</td>\n",
       "      <td>14</td>\n",
       "    </tr>\n",
       "    <tr>\n",
       "      <td>41</td>\n",
       "      <td>1</td>\n",
       "      <td>41</td>\n",
       "      <td>2</td>\n",
       "      <td>3</td>\n",
       "      <td>90</td>\n",
       "      <td>10</td>\n",
       "      <td>14</td>\n",
       "    </tr>\n",
       "    <tr>\n",
       "      <td>42</td>\n",
       "      <td>1</td>\n",
       "      <td>42</td>\n",
       "      <td>1</td>\n",
       "      <td>2</td>\n",
       "      <td>60</td>\n",
       "      <td>10</td>\n",
       "      <td>15</td>\n",
       "    </tr>\n",
       "    <tr>\n",
       "      <td>43</td>\n",
       "      <td>1</td>\n",
       "      <td>43</td>\n",
       "      <td>2</td>\n",
       "      <td>2</td>\n",
       "      <td>60</td>\n",
       "      <td>11</td>\n",
       "      <td>15</td>\n",
       "    </tr>\n",
       "    <tr>\n",
       "      <td>44</td>\n",
       "      <td>1</td>\n",
       "      <td>44</td>\n",
       "      <td>1</td>\n",
       "      <td>3</td>\n",
       "      <td>30</td>\n",
       "      <td>11</td>\n",
       "      <td>16</td>\n",
       "    </tr>\n",
       "  </tbody>\n",
       "</table>\n",
       "</div>"
      ],
      "text/plain": [
       "    game  trial  player  hole  probability  P1 score  P2 score\n",
       "40     1     40       1     3           30        10        14\n",
       "41     1     41       2     3           90        10        14\n",
       "42     1     42       1     2           60        10        15\n",
       "43     1     43       2     2           60        11        15\n",
       "44     1     44       1     3           30        11        16"
      ]
     },
     "execution_count": 47,
     "metadata": {},
     "output_type": "execute_result"
    }
   ],
   "source": [
    "#in the s files, p2 is the confederate\n",
    "df = organize_trial_by_trial_floatclick('data/m13_gamedata.csv')\n",
    "m13 = df\n",
    "m13_p1_g1_score,m13_p1_g2_score,m13_p2_g1_score,m13_p2_g2_score,m13_p1_score_diff,m13_p2_score_diff = call_get_score(m13, 'm')\n",
    "m13.head()"
   ]
  },
  {
   "cell_type": "code",
   "execution_count": 395,
   "metadata": {},
   "outputs": [
    {
     "data": {
      "text/html": [
       "<div>\n",
       "<style scoped>\n",
       "    .dataframe tbody tr th:only-of-type {\n",
       "        vertical-align: middle;\n",
       "    }\n",
       "\n",
       "    .dataframe tbody tr th {\n",
       "        vertical-align: top;\n",
       "    }\n",
       "\n",
       "    .dataframe thead th {\n",
       "        text-align: right;\n",
       "    }\n",
       "</style>\n",
       "<table border=\"1\" class=\"dataframe\">\n",
       "  <thead>\n",
       "    <tr style=\"text-align: right;\">\n",
       "      <th></th>\n",
       "      <th>game</th>\n",
       "      <th>trial</th>\n",
       "      <th>player</th>\n",
       "      <th>hole</th>\n",
       "      <th>probability</th>\n",
       "      <th>P1 score</th>\n",
       "      <th>P2 score</th>\n",
       "    </tr>\n",
       "  </thead>\n",
       "  <tbody>\n",
       "    <tr>\n",
       "      <td>40</td>\n",
       "      <td>1</td>\n",
       "      <td>40</td>\n",
       "      <td>1</td>\n",
       "      <td>3</td>\n",
       "      <td>30</td>\n",
       "      <td>17</td>\n",
       "      <td>11</td>\n",
       "    </tr>\n",
       "    <tr>\n",
       "      <td>41</td>\n",
       "      <td>1</td>\n",
       "      <td>41</td>\n",
       "      <td>2</td>\n",
       "      <td>1</td>\n",
       "      <td>30</td>\n",
       "      <td>17</td>\n",
       "      <td>11</td>\n",
       "    </tr>\n",
       "    <tr>\n",
       "      <td>42</td>\n",
       "      <td>1</td>\n",
       "      <td>42</td>\n",
       "      <td>1</td>\n",
       "      <td>1</td>\n",
       "      <td>90</td>\n",
       "      <td>17</td>\n",
       "      <td>11</td>\n",
       "    </tr>\n",
       "    <tr>\n",
       "      <td>43</td>\n",
       "      <td>1</td>\n",
       "      <td>43</td>\n",
       "      <td>2</td>\n",
       "      <td>1</td>\n",
       "      <td>30</td>\n",
       "      <td>18</td>\n",
       "      <td>11</td>\n",
       "    </tr>\n",
       "    <tr>\n",
       "      <td>44</td>\n",
       "      <td>1</td>\n",
       "      <td>44</td>\n",
       "      <td>1</td>\n",
       "      <td>1</td>\n",
       "      <td>90</td>\n",
       "      <td>18</td>\n",
       "      <td>11</td>\n",
       "    </tr>\n",
       "  </tbody>\n",
       "</table>\n",
       "</div>"
      ],
      "text/plain": [
       "    game  trial  player  hole  probability  P1 score  P2 score\n",
       "40     1     40       1     3           30        17        11\n",
       "41     1     41       2     1           30        17        11\n",
       "42     1     42       1     1           90        17        11\n",
       "43     1     43       2     1           30        18        11\n",
       "44     1     44       1     1           90        18        11"
      ]
     },
     "execution_count": 395,
     "metadata": {},
     "output_type": "execute_result"
    }
   ],
   "source": [
    "#in the s files, p2 is the confederate\n",
    "df = organize_trial_by_trial_floatclick('data/m14_gamedata.csv')\n",
    "m14 = df\n",
    "m14_p1_g1_score,m14_p1_g2_score,m14_p2_g1_score,m14_p2_g2_score,m14_p1_score_diff,m14_p2_score_diff = call_get_score(m14, 'm')\n",
    "m14.head()"
   ]
  },
  {
   "cell_type": "markdown",
   "metadata": {},
   "source": [
    "# Confederate score diff between G1 and G2"
   ]
  },
  {
   "cell_type": "code",
   "execution_count": 31,
   "metadata": {},
   "outputs": [],
   "source": [
    "score_diff_confederate = pd.DataFrame({'participant':['c02', 'c03', \n",
    "                               'c04', 'c05', 'c06', 'c09', 'c10', 'c11', 'c12', 'c13', 'c14', 'c16', 'c17'], 'score_diff_confederate':\n",
    "     [c02_score_diff, c03_score_diff, c04_score_diff,\n",
    "      c05_score_diff, c06_score_diff, c09_score_diff, c10_score_diff, c11_score_diff, c12_score_diff, c13_score_diff, c14_score_diff, c16_score_diff, c17_score_diff ]})"
   ]
  },
  {
   "cell_type": "markdown",
   "metadata": {},
   "source": [
    "# Multi score diff between G1 and G2 (p1)"
   ]
  },
  {
   "cell_type": "code",
   "execution_count": 396,
   "metadata": {},
   "outputs": [],
   "source": [
    "p1_score_diff_multi = pd.DataFrame({'participant':[ 'm05', 'm06', 'm08', 'm10', 'm11', 'm13', 'm14'], 'p1_score_diff_multi':\n",
    "     [m05_p1_score_diff, m06_p1_score_diff, m08_p1_score_diff, m10_p1_score_diff, m11_p1_score_diff, m13_p1_score_diff, m14_p1_score_diff]})"
   ]
  },
  {
   "cell_type": "markdown",
   "metadata": {},
   "source": [
    "# Multi score diff between G1 and G2 (p2)"
   ]
  },
  {
   "cell_type": "code",
   "execution_count": 397,
   "metadata": {},
   "outputs": [],
   "source": [
    "p2_score_diff_multi = pd.DataFrame({'participant':[ 'm05', 'm06', 'm08', 'm10', 'm11', 'm13', 'm14'], 'p2_score_diff_multi':\n",
    "     [m05_p2_score_diff, m06_p2_score_diff, m08_p2_score_diff, m10_p2_score_diff, m11_p2_score_diff, m13_p2_score_diff, m14_p2_score_diff]})"
   ]
  },
  {
   "cell_type": "markdown",
   "metadata": {},
   "source": [
    "# Score difference confederate:"
   ]
  },
  {
   "cell_type": "code",
   "execution_count": 57,
   "metadata": {},
   "outputs": [
    {
     "data": {
      "text/html": [
       "<div>\n",
       "<style scoped>\n",
       "    .dataframe tbody tr th:only-of-type {\n",
       "        vertical-align: middle;\n",
       "    }\n",
       "\n",
       "    .dataframe tbody tr th {\n",
       "        vertical-align: top;\n",
       "    }\n",
       "\n",
       "    .dataframe thead th {\n",
       "        text-align: right;\n",
       "    }\n",
       "</style>\n",
       "<table border=\"1\" class=\"dataframe\">\n",
       "  <thead>\n",
       "    <tr style=\"text-align: right;\">\n",
       "      <th></th>\n",
       "      <th>participant</th>\n",
       "      <th>score_diff_confederate</th>\n",
       "    </tr>\n",
       "  </thead>\n",
       "  <tbody>\n",
       "    <tr>\n",
       "      <td>0</td>\n",
       "      <td>c02</td>\n",
       "      <td>11</td>\n",
       "    </tr>\n",
       "    <tr>\n",
       "      <td>1</td>\n",
       "      <td>c03</td>\n",
       "      <td>-6</td>\n",
       "    </tr>\n",
       "    <tr>\n",
       "      <td>2</td>\n",
       "      <td>c04</td>\n",
       "      <td>-6</td>\n",
       "    </tr>\n",
       "    <tr>\n",
       "      <td>3</td>\n",
       "      <td>c05</td>\n",
       "      <td>11</td>\n",
       "    </tr>\n",
       "    <tr>\n",
       "      <td>4</td>\n",
       "      <td>c06</td>\n",
       "      <td>-6</td>\n",
       "    </tr>\n",
       "    <tr>\n",
       "      <td>5</td>\n",
       "      <td>c09</td>\n",
       "      <td>-17</td>\n",
       "    </tr>\n",
       "    <tr>\n",
       "      <td>6</td>\n",
       "      <td>c10</td>\n",
       "      <td>-2</td>\n",
       "    </tr>\n",
       "    <tr>\n",
       "      <td>7</td>\n",
       "      <td>c11</td>\n",
       "      <td>13</td>\n",
       "    </tr>\n",
       "    <tr>\n",
       "      <td>8</td>\n",
       "      <td>c12</td>\n",
       "      <td>-6</td>\n",
       "    </tr>\n",
       "    <tr>\n",
       "      <td>9</td>\n",
       "      <td>c13</td>\n",
       "      <td>4</td>\n",
       "    </tr>\n",
       "    <tr>\n",
       "      <td>10</td>\n",
       "      <td>c14</td>\n",
       "      <td>-3</td>\n",
       "    </tr>\n",
       "    <tr>\n",
       "      <td>11</td>\n",
       "      <td>c16</td>\n",
       "      <td>1</td>\n",
       "    </tr>\n",
       "    <tr>\n",
       "      <td>12</td>\n",
       "      <td>c17</td>\n",
       "      <td>-11</td>\n",
       "    </tr>\n",
       "  </tbody>\n",
       "</table>\n",
       "</div>"
      ],
      "text/plain": [
       "   participant  score_diff_confederate\n",
       "0          c02                      11\n",
       "1          c03                      -6\n",
       "2          c04                      -6\n",
       "3          c05                      11\n",
       "4          c06                      -6\n",
       "5          c09                     -17\n",
       "6          c10                      -2\n",
       "7          c11                      13\n",
       "8          c12                      -6\n",
       "9          c13                       4\n",
       "10         c14                      -3\n",
       "11         c16                       1\n",
       "12         c17                     -11"
      ]
     },
     "execution_count": 57,
     "metadata": {},
     "output_type": "execute_result"
    }
   ],
   "source": [
    "score_diff_confederate"
   ]
  },
  {
   "cell_type": "code",
   "execution_count": 58,
   "metadata": {},
   "outputs": [],
   "source": [
    "score_diff_confederate_mean = score_diff_confederate['score_diff_confederate'].mean()"
   ]
  },
  {
   "cell_type": "code",
   "execution_count": 60,
   "metadata": {},
   "outputs": [],
   "source": [
    "#score_diff_ex_mean = score_diff_confederate_ex['score_diff_confederate'].mean()"
   ]
  },
  {
   "cell_type": "code",
   "execution_count": 61,
   "metadata": {},
   "outputs": [
    {
     "data": {
      "text/plain": [
       "-1.3076923076923077"
      ]
     },
     "execution_count": 61,
     "metadata": {},
     "output_type": "execute_result"
    }
   ],
   "source": [
    "score_diff_confederate_mean"
   ]
  },
  {
   "cell_type": "code",
   "execution_count": null,
   "metadata": {},
   "outputs": [],
   "source": [
    "#score_diff_ex_mean"
   ]
  },
  {
   "cell_type": "markdown",
   "metadata": {},
   "source": [
    "# Score difference multi (p1):"
   ]
  },
  {
   "cell_type": "code",
   "execution_count": 398,
   "metadata": {},
   "outputs": [
    {
     "data": {
      "text/html": [
       "<div>\n",
       "<style scoped>\n",
       "    .dataframe tbody tr th:only-of-type {\n",
       "        vertical-align: middle;\n",
       "    }\n",
       "\n",
       "    .dataframe tbody tr th {\n",
       "        vertical-align: top;\n",
       "    }\n",
       "\n",
       "    .dataframe thead th {\n",
       "        text-align: right;\n",
       "    }\n",
       "</style>\n",
       "<table border=\"1\" class=\"dataframe\">\n",
       "  <thead>\n",
       "    <tr style=\"text-align: right;\">\n",
       "      <th></th>\n",
       "      <th>participant</th>\n",
       "      <th>p1_score_diff_multi</th>\n",
       "    </tr>\n",
       "  </thead>\n",
       "  <tbody>\n",
       "    <tr>\n",
       "      <td>0</td>\n",
       "      <td>m05</td>\n",
       "      <td>-18</td>\n",
       "    </tr>\n",
       "    <tr>\n",
       "      <td>1</td>\n",
       "      <td>m06</td>\n",
       "      <td>5</td>\n",
       "    </tr>\n",
       "    <tr>\n",
       "      <td>2</td>\n",
       "      <td>m08</td>\n",
       "      <td>11</td>\n",
       "    </tr>\n",
       "    <tr>\n",
       "      <td>3</td>\n",
       "      <td>m10</td>\n",
       "      <td>-3</td>\n",
       "    </tr>\n",
       "    <tr>\n",
       "      <td>4</td>\n",
       "      <td>m11</td>\n",
       "      <td>3</td>\n",
       "    </tr>\n",
       "    <tr>\n",
       "      <td>5</td>\n",
       "      <td>m13</td>\n",
       "      <td>15</td>\n",
       "    </tr>\n",
       "    <tr>\n",
       "      <td>6</td>\n",
       "      <td>m14</td>\n",
       "      <td>-21</td>\n",
       "    </tr>\n",
       "  </tbody>\n",
       "</table>\n",
       "</div>"
      ],
      "text/plain": [
       "  participant  p1_score_diff_multi\n",
       "0         m05                  -18\n",
       "1         m06                    5\n",
       "2         m08                   11\n",
       "3         m10                   -3\n",
       "4         m11                    3\n",
       "5         m13                   15\n",
       "6         m14                  -21"
      ]
     },
     "execution_count": 398,
     "metadata": {},
     "output_type": "execute_result"
    }
   ],
   "source": [
    "p1_score_diff_multi"
   ]
  },
  {
   "cell_type": "code",
   "execution_count": 399,
   "metadata": {},
   "outputs": [],
   "source": [
    "p1_score_diff_multi_mean = p1_score_diff_multi['p1_score_diff_multi'].mean()"
   ]
  },
  {
   "cell_type": "code",
   "execution_count": 400,
   "metadata": {},
   "outputs": [
    {
     "data": {
      "text/plain": [
       "-1.1428571428571428"
      ]
     },
     "execution_count": 400,
     "metadata": {},
     "output_type": "execute_result"
    }
   ],
   "source": [
    "p1_score_diff_multi_mean"
   ]
  },
  {
   "cell_type": "markdown",
   "metadata": {},
   "source": [
    "# Score difference multi (p2):"
   ]
  },
  {
   "cell_type": "code",
   "execution_count": 401,
   "metadata": {},
   "outputs": [
    {
     "data": {
      "text/html": [
       "<div>\n",
       "<style scoped>\n",
       "    .dataframe tbody tr th:only-of-type {\n",
       "        vertical-align: middle;\n",
       "    }\n",
       "\n",
       "    .dataframe tbody tr th {\n",
       "        vertical-align: top;\n",
       "    }\n",
       "\n",
       "    .dataframe thead th {\n",
       "        text-align: right;\n",
       "    }\n",
       "</style>\n",
       "<table border=\"1\" class=\"dataframe\">\n",
       "  <thead>\n",
       "    <tr style=\"text-align: right;\">\n",
       "      <th></th>\n",
       "      <th>participant</th>\n",
       "      <th>p2_score_diff_multi</th>\n",
       "    </tr>\n",
       "  </thead>\n",
       "  <tbody>\n",
       "    <tr>\n",
       "      <td>0</td>\n",
       "      <td>m05</td>\n",
       "      <td>11</td>\n",
       "    </tr>\n",
       "    <tr>\n",
       "      <td>1</td>\n",
       "      <td>m06</td>\n",
       "      <td>-3</td>\n",
       "    </tr>\n",
       "    <tr>\n",
       "      <td>2</td>\n",
       "      <td>m08</td>\n",
       "      <td>6</td>\n",
       "    </tr>\n",
       "    <tr>\n",
       "      <td>3</td>\n",
       "      <td>m10</td>\n",
       "      <td>5</td>\n",
       "    </tr>\n",
       "    <tr>\n",
       "      <td>4</td>\n",
       "      <td>m11</td>\n",
       "      <td>1</td>\n",
       "    </tr>\n",
       "    <tr>\n",
       "      <td>5</td>\n",
       "      <td>m13</td>\n",
       "      <td>13</td>\n",
       "    </tr>\n",
       "    <tr>\n",
       "      <td>6</td>\n",
       "      <td>m14</td>\n",
       "      <td>-6</td>\n",
       "    </tr>\n",
       "  </tbody>\n",
       "</table>\n",
       "</div>"
      ],
      "text/plain": [
       "  participant  p2_score_diff_multi\n",
       "0         m05                   11\n",
       "1         m06                   -3\n",
       "2         m08                    6\n",
       "3         m10                    5\n",
       "4         m11                    1\n",
       "5         m13                   13\n",
       "6         m14                   -6"
      ]
     },
     "execution_count": 401,
     "metadata": {},
     "output_type": "execute_result"
    }
   ],
   "source": [
    "p2_score_diff_multi"
   ]
  },
  {
   "cell_type": "code",
   "execution_count": 402,
   "metadata": {},
   "outputs": [],
   "source": [
    "p2_score_diff_multi_mean = p2_score_diff_multi['p2_score_diff_multi'].mean()"
   ]
  },
  {
   "cell_type": "code",
   "execution_count": 403,
   "metadata": {},
   "outputs": [
    {
     "data": {
      "text/plain": [
       "3.857142857142857"
      ]
     },
     "execution_count": 403,
     "metadata": {},
     "output_type": "execute_result"
    }
   ],
   "source": [
    "p2_score_diff_multi_mean"
   ]
  },
  {
   "cell_type": "markdown",
   "metadata": {},
   "source": [
    "# Confederate scores in G1 and G2"
   ]
  },
  {
   "cell_type": "code",
   "execution_count": 404,
   "metadata": {},
   "outputs": [
    {
     "data": {
      "text/html": [
       "<div>\n",
       "<style scoped>\n",
       "    .dataframe tbody tr th:only-of-type {\n",
       "        vertical-align: middle;\n",
       "    }\n",
       "\n",
       "    .dataframe tbody tr th {\n",
       "        vertical-align: top;\n",
       "    }\n",
       "\n",
       "    .dataframe thead th {\n",
       "        text-align: right;\n",
       "    }\n",
       "</style>\n",
       "<table border=\"1\" class=\"dataframe\">\n",
       "  <thead>\n",
       "    <tr style=\"text-align: right;\">\n",
       "      <th></th>\n",
       "      <th>participant</th>\n",
       "      <th>confederate_score_1</th>\n",
       "    </tr>\n",
       "  </thead>\n",
       "  <tbody>\n",
       "    <tr>\n",
       "      <td>0</td>\n",
       "      <td>c02</td>\n",
       "      <td>74</td>\n",
       "    </tr>\n",
       "    <tr>\n",
       "      <td>1</td>\n",
       "      <td>c03</td>\n",
       "      <td>79</td>\n",
       "    </tr>\n",
       "    <tr>\n",
       "      <td>2</td>\n",
       "      <td>c04</td>\n",
       "      <td>79</td>\n",
       "    </tr>\n",
       "    <tr>\n",
       "      <td>3</td>\n",
       "      <td>c05</td>\n",
       "      <td>61</td>\n",
       "    </tr>\n",
       "    <tr>\n",
       "      <td>4</td>\n",
       "      <td>c06</td>\n",
       "      <td>59</td>\n",
       "    </tr>\n",
       "    <tr>\n",
       "      <td>5</td>\n",
       "      <td>c09</td>\n",
       "      <td>61</td>\n",
       "    </tr>\n",
       "    <tr>\n",
       "      <td>6</td>\n",
       "      <td>c10</td>\n",
       "      <td>81</td>\n",
       "    </tr>\n",
       "    <tr>\n",
       "      <td>7</td>\n",
       "      <td>c11</td>\n",
       "      <td>69</td>\n",
       "    </tr>\n",
       "    <tr>\n",
       "      <td>8</td>\n",
       "      <td>c12</td>\n",
       "      <td>59</td>\n",
       "    </tr>\n",
       "    <tr>\n",
       "      <td>9</td>\n",
       "      <td>c13</td>\n",
       "      <td>64</td>\n",
       "    </tr>\n",
       "    <tr>\n",
       "      <td>10</td>\n",
       "      <td>c14</td>\n",
       "      <td>67</td>\n",
       "    </tr>\n",
       "    <tr>\n",
       "      <td>11</td>\n",
       "      <td>c16</td>\n",
       "      <td>70</td>\n",
       "    </tr>\n",
       "    <tr>\n",
       "      <td>12</td>\n",
       "      <td>c17</td>\n",
       "      <td>85</td>\n",
       "    </tr>\n",
       "  </tbody>\n",
       "</table>\n",
       "</div>"
      ],
      "text/plain": [
       "   participant  confederate_score_1\n",
       "0          c02                   74\n",
       "1          c03                   79\n",
       "2          c04                   79\n",
       "3          c05                   61\n",
       "4          c06                   59\n",
       "5          c09                   61\n",
       "6          c10                   81\n",
       "7          c11                   69\n",
       "8          c12                   59\n",
       "9          c13                   64\n",
       "10         c14                   67\n",
       "11         c16                   70\n",
       "12         c17                   85"
      ]
     },
     "execution_count": 404,
     "metadata": {},
     "output_type": "execute_result"
    }
   ],
   "source": [
    "c_scores_1 = pd.DataFrame({'participant':['c02', 'c03', \n",
    "                               'c04', 'c05', 'c06', 'c09', 'c10', 'c11', 'c12', 'c13', 'c14', 'c16', 'c17'], 'confederate_score_1':\n",
    "     [c02_p1_g1_score, c03_p1_g1_score, c04_p1_g1_score,\n",
    "      c05_p1_g1_score, c06_p1_g1_score, c09_p1_g1_score, c10_p1_g1_score, c11_p1_g1_score, c12_p1_g1_score, c13_p1_g1_score, c14_p1_g1_score, c16_p1_g1_score, c17_p1_g1_score]})\n",
    "#c_scores_1.set_index('participant', inplace=True, drop=True)\n",
    "c_scores_1"
   ]
  },
  {
   "cell_type": "code",
   "execution_count": 203,
   "metadata": {},
   "outputs": [
    {
     "data": {
      "text/html": [
       "<div>\n",
       "<style scoped>\n",
       "    .dataframe tbody tr th:only-of-type {\n",
       "        vertical-align: middle;\n",
       "    }\n",
       "\n",
       "    .dataframe tbody tr th {\n",
       "        vertical-align: top;\n",
       "    }\n",
       "\n",
       "    .dataframe thead th {\n",
       "        text-align: right;\n",
       "    }\n",
       "</style>\n",
       "<table border=\"1\" class=\"dataframe\">\n",
       "  <thead>\n",
       "    <tr style=\"text-align: right;\">\n",
       "      <th></th>\n",
       "      <th>participant</th>\n",
       "      <th>confederate_score_2</th>\n",
       "    </tr>\n",
       "  </thead>\n",
       "  <tbody>\n",
       "    <tr>\n",
       "      <td>0</td>\n",
       "      <td>c02</td>\n",
       "      <td>85</td>\n",
       "    </tr>\n",
       "    <tr>\n",
       "      <td>1</td>\n",
       "      <td>c03</td>\n",
       "      <td>73</td>\n",
       "    </tr>\n",
       "    <tr>\n",
       "      <td>2</td>\n",
       "      <td>c04</td>\n",
       "      <td>73</td>\n",
       "    </tr>\n",
       "    <tr>\n",
       "      <td>3</td>\n",
       "      <td>c05</td>\n",
       "      <td>72</td>\n",
       "    </tr>\n",
       "    <tr>\n",
       "      <td>4</td>\n",
       "      <td>c06</td>\n",
       "      <td>53</td>\n",
       "    </tr>\n",
       "    <tr>\n",
       "      <td>5</td>\n",
       "      <td>c09</td>\n",
       "      <td>44</td>\n",
       "    </tr>\n",
       "    <tr>\n",
       "      <td>6</td>\n",
       "      <td>c10</td>\n",
       "      <td>79</td>\n",
       "    </tr>\n",
       "    <tr>\n",
       "      <td>7</td>\n",
       "      <td>c11</td>\n",
       "      <td>82</td>\n",
       "    </tr>\n",
       "    <tr>\n",
       "      <td>8</td>\n",
       "      <td>c12</td>\n",
       "      <td>53</td>\n",
       "    </tr>\n",
       "    <tr>\n",
       "      <td>9</td>\n",
       "      <td>c13</td>\n",
       "      <td>68</td>\n",
       "    </tr>\n",
       "    <tr>\n",
       "      <td>10</td>\n",
       "      <td>c14</td>\n",
       "      <td>64</td>\n",
       "    </tr>\n",
       "    <tr>\n",
       "      <td>11</td>\n",
       "      <td>c16</td>\n",
       "      <td>71</td>\n",
       "    </tr>\n",
       "    <tr>\n",
       "      <td>12</td>\n",
       "      <td>c17</td>\n",
       "      <td>74</td>\n",
       "    </tr>\n",
       "  </tbody>\n",
       "</table>\n",
       "</div>"
      ],
      "text/plain": [
       "   participant  confederate_score_2\n",
       "0          c02                   85\n",
       "1          c03                   73\n",
       "2          c04                   73\n",
       "3          c05                   72\n",
       "4          c06                   53\n",
       "5          c09                   44\n",
       "6          c10                   79\n",
       "7          c11                   82\n",
       "8          c12                   53\n",
       "9          c13                   68\n",
       "10         c14                   64\n",
       "11         c16                   71\n",
       "12         c17                   74"
      ]
     },
     "execution_count": 203,
     "metadata": {},
     "output_type": "execute_result"
    }
   ],
   "source": [
    "c_scores_2 = pd.DataFrame({'participant':['c02', 'c03', \n",
    "                               'c04', 'c05', 'c06', 'c09', 'c10', 'c11', 'c12', 'c13', 'c14', 'c16', 'c17'], 'confederate_score_2':[c02_p1_g2_score, c03_p1_g2_score, c04_p1_g2_score, c05_p1_g2_score, c06_p1_g2_score, c09_p1_g2_score, c10_p1_g2_score, c11_p1_g2_score, c12_p1_g2_score, c13_p1_g2_score, c14_p1_g2_score, c16_p1_g2_score, c17_p1_g2_score]})\n",
    "#c_scores_2.set_index('participant', inplace=True, drop=True)\n",
    "#s_scores_1 = pd.DataFrame(data = d1)\n",
    "#s_scores_2 = pd.DataFrame(data = d2)\n",
    "c_scores_2"
   ]
  },
  {
   "cell_type": "code",
   "execution_count": 205,
   "metadata": {},
   "outputs": [
    {
     "data": {
      "image/png": "[encoded data removed]",
      "text/plain": [
       "<Figure size 432x288 with 1 Axes>"
      ]
     },
     "metadata": {
      "needs_background": "light"
     },
     "output_type": "display_data"
    }
   ],
   "source": [
    "c_scores_1_bar = c_scores_1.plot.bar()"
   ]
  },
  {
   "cell_type": "code",
   "execution_count": 206,
   "metadata": {},
   "outputs": [
    {
     "data": {
      "image/png": "[encoded data removed]",
      "text/plain": [
       "<Figure size 432x288 with 1 Axes>"
      ]
     },
     "metadata": {
      "needs_background": "light"
     },
     "output_type": "display_data"
    }
   ],
   "source": [
    "c_scores_2_bar = c_scores_2.plot.bar()"
   ]
  },
  {
   "cell_type": "code",
   "execution_count": 207,
   "metadata": {},
   "outputs": [],
   "source": [
    "c_scores = pd.merge(c_scores_1, c_scores_2, on = 'participant')"
   ]
  },
  {
   "cell_type": "code",
   "execution_count": 208,
   "metadata": {},
   "outputs": [],
   "source": [
    "c_scores.columns=['participant','Game 1','Game 2']\n",
    "c_scores.set_index('participant', inplace=True, drop=True)"
   ]
  },
  {
   "cell_type": "code",
   "execution_count": 209,
   "metadata": {},
   "outputs": [
    {
     "data": {
      "text/html": [
       "<div>\n",
       "<style scoped>\n",
       "    .dataframe tbody tr th:only-of-type {\n",
       "        vertical-align: middle;\n",
       "    }\n",
       "\n",
       "    .dataframe tbody tr th {\n",
       "        vertical-align: top;\n",
       "    }\n",
       "\n",
       "    .dataframe thead th {\n",
       "        text-align: right;\n",
       "    }\n",
       "</style>\n",
       "<table border=\"1\" class=\"dataframe\">\n",
       "  <thead>\n",
       "    <tr style=\"text-align: right;\">\n",
       "      <th></th>\n",
       "      <th>Game 1</th>\n",
       "      <th>Game 2</th>\n",
       "    </tr>\n",
       "    <tr>\n",
       "      <th>participant</th>\n",
       "      <th></th>\n",
       "      <th></th>\n",
       "    </tr>\n",
       "  </thead>\n",
       "  <tbody>\n",
       "    <tr>\n",
       "      <td>c02</td>\n",
       "      <td>74</td>\n",
       "      <td>85</td>\n",
       "    </tr>\n",
       "    <tr>\n",
       "      <td>c03</td>\n",
       "      <td>79</td>\n",
       "      <td>73</td>\n",
       "    </tr>\n",
       "    <tr>\n",
       "      <td>c04</td>\n",
       "      <td>79</td>\n",
       "      <td>73</td>\n",
       "    </tr>\n",
       "    <tr>\n",
       "      <td>c05</td>\n",
       "      <td>61</td>\n",
       "      <td>72</td>\n",
       "    </tr>\n",
       "    <tr>\n",
       "      <td>c06</td>\n",
       "      <td>59</td>\n",
       "      <td>53</td>\n",
       "    </tr>\n",
       "    <tr>\n",
       "      <td>c09</td>\n",
       "      <td>61</td>\n",
       "      <td>44</td>\n",
       "    </tr>\n",
       "    <tr>\n",
       "      <td>c10</td>\n",
       "      <td>81</td>\n",
       "      <td>79</td>\n",
       "    </tr>\n",
       "    <tr>\n",
       "      <td>c11</td>\n",
       "      <td>69</td>\n",
       "      <td>82</td>\n",
       "    </tr>\n",
       "    <tr>\n",
       "      <td>c12</td>\n",
       "      <td>59</td>\n",
       "      <td>53</td>\n",
       "    </tr>\n",
       "    <tr>\n",
       "      <td>c13</td>\n",
       "      <td>64</td>\n",
       "      <td>68</td>\n",
       "    </tr>\n",
       "    <tr>\n",
       "      <td>c14</td>\n",
       "      <td>67</td>\n",
       "      <td>64</td>\n",
       "    </tr>\n",
       "    <tr>\n",
       "      <td>c16</td>\n",
       "      <td>70</td>\n",
       "      <td>71</td>\n",
       "    </tr>\n",
       "    <tr>\n",
       "      <td>c17</td>\n",
       "      <td>85</td>\n",
       "      <td>74</td>\n",
       "    </tr>\n",
       "  </tbody>\n",
       "</table>\n",
       "</div>"
      ],
      "text/plain": [
       "             Game 1  Game 2\n",
       "participant                \n",
       "c02              74      85\n",
       "c03              79      73\n",
       "c04              79      73\n",
       "c05              61      72\n",
       "c06              59      53\n",
       "c09              61      44\n",
       "c10              81      79\n",
       "c11              69      82\n",
       "c12              59      53\n",
       "c13              64      68\n",
       "c14              67      64\n",
       "c16              70      71\n",
       "c17              85      74"
      ]
     },
     "execution_count": 209,
     "metadata": {},
     "output_type": "execute_result"
    }
   ],
   "source": [
    "c_scores"
   ]
  },
  {
   "cell_type": "code",
   "execution_count": 210,
   "metadata": {},
   "outputs": [
    {
     "data": {
      "text/plain": [
       "([<matplotlib.axis.YTick at 0x1a23a3d710>,\n",
       "  <matplotlib.axis.YTick at 0x1a22fc7110>,\n",
       "  <matplotlib.axis.YTick at 0x1a23a27050>,\n",
       "  <matplotlib.axis.YTick at 0x1a23214c90>,\n",
       "  <matplotlib.axis.YTick at 0x1a23abc350>,\n",
       "  <matplotlib.axis.YTick at 0x1a23ade510>],\n",
       " <a list of 6 Text yticklabel objects>)"
      ]
     },
     "execution_count": 210,
     "metadata": {},
     "output_type": "execute_result"
    },
    {
     "data": {
      "image/png": "[encoded data removed]",
      "text/plain": [
       "<Figure size 432x288 with 1 Axes>"
      ]
     },
     "metadata": {
      "needs_background": "light"
     },
     "output_type": "display_data"
    }
   ],
   "source": [
    "c_scores_box = c_scores.boxplot(labels=['Game 1','Game 2'])\n",
    "plt.grid(b=None)\n",
    "plt.yticks(np.arange(50, 105, step=10))"
   ]
  },
  {
   "cell_type": "code",
   "execution_count": 211,
   "metadata": {},
   "outputs": [
    {
     "data": {
      "image/png": "[encoded data removed]",
      "text/plain": [
       "<Figure size 432x288 with 1 Axes>"
      ]
     },
     "metadata": {
      "needs_background": "light"
     },
     "output_type": "display_data"
    }
   ],
   "source": [
    "c_scores_box = sns.boxplot( \n",
    "                 data=c_scores, \n",
    "                 width=0.5,\n",
    "                 palette=\"pastel\")\n",
    "c_scores_box.axes.set_title(\"Single Player Scores\",\n",
    "                    fontsize=16)\n",
    "\n",
    "plot_file_name=\"c_score_box.jpg\"\n",
    " \n",
    "plt.ylim(0, 100)\n",
    "c_scores_box.axes.set(ylabel='Score')\n",
    "\n",
    "# save as jpeg\n",
    "c_scores_box.figure.savefig(plot_file_name,\n",
    "                    format='jpeg',\n",
    "                    dpi=100)"
   ]
  },
  {
   "cell_type": "code",
   "execution_count": 212,
   "metadata": {},
   "outputs": [],
   "source": [
    "c_scores_p = sp.stats.ttest_rel(c_scores['Game 1'],c_scores['Game 2'])"
   ]
  },
  {
   "cell_type": "code",
   "execution_count": 213,
   "metadata": {},
   "outputs": [
    {
     "data": {
      "text/plain": [
       "Ttest_relResult(statistic=0.523676343611033, pvalue=0.610039012959148)"
      ]
     },
     "execution_count": 213,
     "metadata": {},
     "output_type": "execute_result"
    }
   ],
   "source": [
    "c_scores_p"
   ]
  },
  {
   "cell_type": "code",
   "execution_count": 214,
   "metadata": {},
   "outputs": [
    {
     "data": {
      "image/png": "[encoded data removed]",
      "text/plain": [
       "<Figure size 432x288 with 1 Axes>"
      ]
     },
     "metadata": {
      "needs_background": "light"
     },
     "output_type": "display_data"
    }
   ],
   "source": [
    "c_scores_2_bar = c_scores_2.plot.bar()"
   ]
  },
  {
   "cell_type": "code",
   "execution_count": 217,
   "metadata": {},
   "outputs": [],
   "source": [
    "#combine g1 and g2 to one dataframe\n",
    "c_combo = c_scores_1.append(c_scores_2)"
   ]
  },
  {
   "cell_type": "code",
   "execution_count": 218,
   "metadata": {},
   "outputs": [
    {
     "data": {
      "text/plain": [
       "\"c_combo = pd.DataFrame({'participant':['c02','c02','c03','c03','c04','c04','c05','c05',\\n                                'c06','c06','c09','c09','c10','c10','c11','c11','c12','c12',\\n                                'c13','c13','c14','c14','c16','c16','c17','c17'], 'score':\\n[c02_p1_g1_score, c02_p1_g2_score, c03_p1_g1_score, c03_p1_g2_score, c04_p1_g1_score, c04_p1_g2_score, c05_p1_g1_score, c05_p1_g2_score, c06_p1_g1_score, c06_p1_g2_score, c09_p1_g1_score, c09_p1_g2_score, c10_p1_g1_score, c10_p1_g2_score, c11_p1_g1_score, c11_p1_g2_score, c12_p1_g1_score, c12_p1_g2_score, c13_p1_g1_score, c13_p1_g2_score, c14_p1_g1_score, c14_p1_g2_score, c16_p1_g1_score, c16_p1_g2_score, c17_p1_g1_score, c17_p1_g2_score]})\\nc_combo.set_index('participant', inplace=True, drop=True)\""
      ]
     },
     "execution_count": 218,
     "metadata": {},
     "output_type": "execute_result"
    }
   ],
   "source": [
    "'''c_combo = pd.DataFrame({'participant':['c02','c02','c03','c03','c04','c04','c05','c05',\n",
    "                                'c06','c06','c09','c09','c10','c10','c11','c11','c12','c12',\n",
    "                                'c13','c13','c14','c14','c16','c16','c17','c17'], 'score':\n",
    "[c02_p1_g1_score, c02_p1_g2_score, c03_p1_g1_score, c03_p1_g2_score, c04_p1_g1_score, c04_p1_g2_score, c05_p1_g1_score, c05_p1_g2_score, c06_p1_g1_score, c06_p1_g2_score, c09_p1_g1_score, c09_p1_g2_score, c10_p1_g1_score, c10_p1_g2_score, c11_p1_g1_score, c11_p1_g2_score, c12_p1_g1_score, c12_p1_g2_score, c13_p1_g1_score, c13_p1_g2_score, c14_p1_g1_score, c14_p1_g2_score, c16_p1_g1_score, c16_p1_g2_score, c17_p1_g1_score, c17_p1_g2_score]})\n",
    "c_combo.set_index('participant', inplace=True, drop=True)'''"
   ]
  },
  {
   "cell_type": "code",
   "execution_count": 219,
   "metadata": {},
   "outputs": [],
   "source": [
    "#new_index = ('c02_g1','c02_g2','c03_g1','c03_g2','c04_g1','c04_g2','c05_g1','c05_g2','c06_g1','c06_g2','c09_g1','c09_g2','c10_g1','c10_g2','c11_g1','c11_g2','c12_g1','c12_g2','c13_g1','c13_g2','c14_g1','c14_g2','c16_g1','c16_g2','c17_g1','c17_g2')\n",
    "#c_combo.index = new_index"
   ]
  },
  {
   "cell_type": "code",
   "execution_count": 220,
   "metadata": {},
   "outputs": [
    {
     "data": {
      "text/html": [
       "<div>\n",
       "<style scoped>\n",
       "    .dataframe tbody tr th:only-of-type {\n",
       "        vertical-align: middle;\n",
       "    }\n",
       "\n",
       "    .dataframe tbody tr th {\n",
       "        vertical-align: top;\n",
       "    }\n",
       "\n",
       "    .dataframe thead th {\n",
       "        text-align: right;\n",
       "    }\n",
       "</style>\n",
       "<table border=\"1\" class=\"dataframe\">\n",
       "  <thead>\n",
       "    <tr style=\"text-align: right;\">\n",
       "      <th></th>\n",
       "      <th>confederate_score_1</th>\n",
       "      <th>confederate_score_2</th>\n",
       "      <th>participant</th>\n",
       "    </tr>\n",
       "  </thead>\n",
       "  <tbody>\n",
       "    <tr>\n",
       "      <td>0</td>\n",
       "      <td>74.0</td>\n",
       "      <td>NaN</td>\n",
       "      <td>c02</td>\n",
       "    </tr>\n",
       "    <tr>\n",
       "      <td>1</td>\n",
       "      <td>79.0</td>\n",
       "      <td>NaN</td>\n",
       "      <td>c03</td>\n",
       "    </tr>\n",
       "    <tr>\n",
       "      <td>2</td>\n",
       "      <td>79.0</td>\n",
       "      <td>NaN</td>\n",
       "      <td>c04</td>\n",
       "    </tr>\n",
       "    <tr>\n",
       "      <td>3</td>\n",
       "      <td>61.0</td>\n",
       "      <td>NaN</td>\n",
       "      <td>c05</td>\n",
       "    </tr>\n",
       "    <tr>\n",
       "      <td>4</td>\n",
       "      <td>59.0</td>\n",
       "      <td>NaN</td>\n",
       "      <td>c06</td>\n",
       "    </tr>\n",
       "    <tr>\n",
       "      <td>5</td>\n",
       "      <td>61.0</td>\n",
       "      <td>NaN</td>\n",
       "      <td>c09</td>\n",
       "    </tr>\n",
       "    <tr>\n",
       "      <td>6</td>\n",
       "      <td>81.0</td>\n",
       "      <td>NaN</td>\n",
       "      <td>c10</td>\n",
       "    </tr>\n",
       "    <tr>\n",
       "      <td>7</td>\n",
       "      <td>69.0</td>\n",
       "      <td>NaN</td>\n",
       "      <td>c11</td>\n",
       "    </tr>\n",
       "    <tr>\n",
       "      <td>8</td>\n",
       "      <td>59.0</td>\n",
       "      <td>NaN</td>\n",
       "      <td>c12</td>\n",
       "    </tr>\n",
       "    <tr>\n",
       "      <td>9</td>\n",
       "      <td>64.0</td>\n",
       "      <td>NaN</td>\n",
       "      <td>c13</td>\n",
       "    </tr>\n",
       "    <tr>\n",
       "      <td>10</td>\n",
       "      <td>67.0</td>\n",
       "      <td>NaN</td>\n",
       "      <td>c14</td>\n",
       "    </tr>\n",
       "    <tr>\n",
       "      <td>11</td>\n",
       "      <td>70.0</td>\n",
       "      <td>NaN</td>\n",
       "      <td>c16</td>\n",
       "    </tr>\n",
       "    <tr>\n",
       "      <td>12</td>\n",
       "      <td>85.0</td>\n",
       "      <td>NaN</td>\n",
       "      <td>c17</td>\n",
       "    </tr>\n",
       "    <tr>\n",
       "      <td>0</td>\n",
       "      <td>NaN</td>\n",
       "      <td>85.0</td>\n",
       "      <td>c02</td>\n",
       "    </tr>\n",
       "    <tr>\n",
       "      <td>1</td>\n",
       "      <td>NaN</td>\n",
       "      <td>73.0</td>\n",
       "      <td>c03</td>\n",
       "    </tr>\n",
       "    <tr>\n",
       "      <td>2</td>\n",
       "      <td>NaN</td>\n",
       "      <td>73.0</td>\n",
       "      <td>c04</td>\n",
       "    </tr>\n",
       "    <tr>\n",
       "      <td>3</td>\n",
       "      <td>NaN</td>\n",
       "      <td>72.0</td>\n",
       "      <td>c05</td>\n",
       "    </tr>\n",
       "    <tr>\n",
       "      <td>4</td>\n",
       "      <td>NaN</td>\n",
       "      <td>53.0</td>\n",
       "      <td>c06</td>\n",
       "    </tr>\n",
       "    <tr>\n",
       "      <td>5</td>\n",
       "      <td>NaN</td>\n",
       "      <td>44.0</td>\n",
       "      <td>c09</td>\n",
       "    </tr>\n",
       "    <tr>\n",
       "      <td>6</td>\n",
       "      <td>NaN</td>\n",
       "      <td>79.0</td>\n",
       "      <td>c10</td>\n",
       "    </tr>\n",
       "    <tr>\n",
       "      <td>7</td>\n",
       "      <td>NaN</td>\n",
       "      <td>82.0</td>\n",
       "      <td>c11</td>\n",
       "    </tr>\n",
       "    <tr>\n",
       "      <td>8</td>\n",
       "      <td>NaN</td>\n",
       "      <td>53.0</td>\n",
       "      <td>c12</td>\n",
       "    </tr>\n",
       "    <tr>\n",
       "      <td>9</td>\n",
       "      <td>NaN</td>\n",
       "      <td>68.0</td>\n",
       "      <td>c13</td>\n",
       "    </tr>\n",
       "    <tr>\n",
       "      <td>10</td>\n",
       "      <td>NaN</td>\n",
       "      <td>64.0</td>\n",
       "      <td>c14</td>\n",
       "    </tr>\n",
       "    <tr>\n",
       "      <td>11</td>\n",
       "      <td>NaN</td>\n",
       "      <td>71.0</td>\n",
       "      <td>c16</td>\n",
       "    </tr>\n",
       "    <tr>\n",
       "      <td>12</td>\n",
       "      <td>NaN</td>\n",
       "      <td>74.0</td>\n",
       "      <td>c17</td>\n",
       "    </tr>\n",
       "  </tbody>\n",
       "</table>\n",
       "</div>"
      ],
      "text/plain": [
       "    confederate_score_1  confederate_score_2 participant\n",
       "0                  74.0                  NaN         c02\n",
       "1                  79.0                  NaN         c03\n",
       "2                  79.0                  NaN         c04\n",
       "3                  61.0                  NaN         c05\n",
       "4                  59.0                  NaN         c06\n",
       "5                  61.0                  NaN         c09\n",
       "6                  81.0                  NaN         c10\n",
       "7                  69.0                  NaN         c11\n",
       "8                  59.0                  NaN         c12\n",
       "9                  64.0                  NaN         c13\n",
       "10                 67.0                  NaN         c14\n",
       "11                 70.0                  NaN         c16\n",
       "12                 85.0                  NaN         c17\n",
       "0                   NaN                 85.0         c02\n",
       "1                   NaN                 73.0         c03\n",
       "2                   NaN                 73.0         c04\n",
       "3                   NaN                 72.0         c05\n",
       "4                   NaN                 53.0         c06\n",
       "5                   NaN                 44.0         c09\n",
       "6                   NaN                 79.0         c10\n",
       "7                   NaN                 82.0         c11\n",
       "8                   NaN                 53.0         c12\n",
       "9                   NaN                 68.0         c13\n",
       "10                  NaN                 64.0         c14\n",
       "11                  NaN                 71.0         c16\n",
       "12                  NaN                 74.0         c17"
      ]
     },
     "execution_count": 220,
     "metadata": {},
     "output_type": "execute_result"
    }
   ],
   "source": [
    "c_combo"
   ]
  },
  {
   "cell_type": "code",
   "execution_count": 221,
   "metadata": {},
   "outputs": [],
   "source": [
    "c_combo = c_combo.sort_values(by=['participant'])"
   ]
  },
  {
   "cell_type": "code",
   "execution_count": 222,
   "metadata": {},
   "outputs": [
    {
     "data": {
      "text/html": [
       "<div>\n",
       "<style scoped>\n",
       "    .dataframe tbody tr th:only-of-type {\n",
       "        vertical-align: middle;\n",
       "    }\n",
       "\n",
       "    .dataframe tbody tr th {\n",
       "        vertical-align: top;\n",
       "    }\n",
       "\n",
       "    .dataframe thead th {\n",
       "        text-align: right;\n",
       "    }\n",
       "</style>\n",
       "<table border=\"1\" class=\"dataframe\">\n",
       "  <thead>\n",
       "    <tr style=\"text-align: right;\">\n",
       "      <th></th>\n",
       "      <th>confederate_score_1</th>\n",
       "      <th>confederate_score_2</th>\n",
       "      <th>participant</th>\n",
       "    </tr>\n",
       "  </thead>\n",
       "  <tbody>\n",
       "    <tr>\n",
       "      <td>0</td>\n",
       "      <td>74.0</td>\n",
       "      <td>NaN</td>\n",
       "      <td>c02</td>\n",
       "    </tr>\n",
       "    <tr>\n",
       "      <td>0</td>\n",
       "      <td>NaN</td>\n",
       "      <td>85.0</td>\n",
       "      <td>c02</td>\n",
       "    </tr>\n",
       "    <tr>\n",
       "      <td>1</td>\n",
       "      <td>79.0</td>\n",
       "      <td>NaN</td>\n",
       "      <td>c03</td>\n",
       "    </tr>\n",
       "    <tr>\n",
       "      <td>1</td>\n",
       "      <td>NaN</td>\n",
       "      <td>73.0</td>\n",
       "      <td>c03</td>\n",
       "    </tr>\n",
       "    <tr>\n",
       "      <td>2</td>\n",
       "      <td>79.0</td>\n",
       "      <td>NaN</td>\n",
       "      <td>c04</td>\n",
       "    </tr>\n",
       "    <tr>\n",
       "      <td>2</td>\n",
       "      <td>NaN</td>\n",
       "      <td>73.0</td>\n",
       "      <td>c04</td>\n",
       "    </tr>\n",
       "    <tr>\n",
       "      <td>3</td>\n",
       "      <td>61.0</td>\n",
       "      <td>NaN</td>\n",
       "      <td>c05</td>\n",
       "    </tr>\n",
       "    <tr>\n",
       "      <td>3</td>\n",
       "      <td>NaN</td>\n",
       "      <td>72.0</td>\n",
       "      <td>c05</td>\n",
       "    </tr>\n",
       "    <tr>\n",
       "      <td>4</td>\n",
       "      <td>59.0</td>\n",
       "      <td>NaN</td>\n",
       "      <td>c06</td>\n",
       "    </tr>\n",
       "    <tr>\n",
       "      <td>4</td>\n",
       "      <td>NaN</td>\n",
       "      <td>53.0</td>\n",
       "      <td>c06</td>\n",
       "    </tr>\n",
       "    <tr>\n",
       "      <td>5</td>\n",
       "      <td>61.0</td>\n",
       "      <td>NaN</td>\n",
       "      <td>c09</td>\n",
       "    </tr>\n",
       "    <tr>\n",
       "      <td>5</td>\n",
       "      <td>NaN</td>\n",
       "      <td>44.0</td>\n",
       "      <td>c09</td>\n",
       "    </tr>\n",
       "    <tr>\n",
       "      <td>6</td>\n",
       "      <td>NaN</td>\n",
       "      <td>79.0</td>\n",
       "      <td>c10</td>\n",
       "    </tr>\n",
       "    <tr>\n",
       "      <td>6</td>\n",
       "      <td>81.0</td>\n",
       "      <td>NaN</td>\n",
       "      <td>c10</td>\n",
       "    </tr>\n",
       "    <tr>\n",
       "      <td>7</td>\n",
       "      <td>69.0</td>\n",
       "      <td>NaN</td>\n",
       "      <td>c11</td>\n",
       "    </tr>\n",
       "    <tr>\n",
       "      <td>7</td>\n",
       "      <td>NaN</td>\n",
       "      <td>82.0</td>\n",
       "      <td>c11</td>\n",
       "    </tr>\n",
       "    <tr>\n",
       "      <td>8</td>\n",
       "      <td>NaN</td>\n",
       "      <td>53.0</td>\n",
       "      <td>c12</td>\n",
       "    </tr>\n",
       "    <tr>\n",
       "      <td>8</td>\n",
       "      <td>59.0</td>\n",
       "      <td>NaN</td>\n",
       "      <td>c12</td>\n",
       "    </tr>\n",
       "    <tr>\n",
       "      <td>9</td>\n",
       "      <td>NaN</td>\n",
       "      <td>68.0</td>\n",
       "      <td>c13</td>\n",
       "    </tr>\n",
       "    <tr>\n",
       "      <td>9</td>\n",
       "      <td>64.0</td>\n",
       "      <td>NaN</td>\n",
       "      <td>c13</td>\n",
       "    </tr>\n",
       "    <tr>\n",
       "      <td>10</td>\n",
       "      <td>NaN</td>\n",
       "      <td>64.0</td>\n",
       "      <td>c14</td>\n",
       "    </tr>\n",
       "    <tr>\n",
       "      <td>10</td>\n",
       "      <td>67.0</td>\n",
       "      <td>NaN</td>\n",
       "      <td>c14</td>\n",
       "    </tr>\n",
       "    <tr>\n",
       "      <td>11</td>\n",
       "      <td>NaN</td>\n",
       "      <td>71.0</td>\n",
       "      <td>c16</td>\n",
       "    </tr>\n",
       "    <tr>\n",
       "      <td>11</td>\n",
       "      <td>70.0</td>\n",
       "      <td>NaN</td>\n",
       "      <td>c16</td>\n",
       "    </tr>\n",
       "    <tr>\n",
       "      <td>12</td>\n",
       "      <td>85.0</td>\n",
       "      <td>NaN</td>\n",
       "      <td>c17</td>\n",
       "    </tr>\n",
       "    <tr>\n",
       "      <td>12</td>\n",
       "      <td>NaN</td>\n",
       "      <td>74.0</td>\n",
       "      <td>c17</td>\n",
       "    </tr>\n",
       "  </tbody>\n",
       "</table>\n",
       "</div>"
      ],
      "text/plain": [
       "    confederate_score_1  confederate_score_2 participant\n",
       "0                  74.0                  NaN         c02\n",
       "0                   NaN                 85.0         c02\n",
       "1                  79.0                  NaN         c03\n",
       "1                   NaN                 73.0         c03\n",
       "2                  79.0                  NaN         c04\n",
       "2                   NaN                 73.0         c04\n",
       "3                  61.0                  NaN         c05\n",
       "3                   NaN                 72.0         c05\n",
       "4                  59.0                  NaN         c06\n",
       "4                   NaN                 53.0         c06\n",
       "5                  61.0                  NaN         c09\n",
       "5                   NaN                 44.0         c09\n",
       "6                   NaN                 79.0         c10\n",
       "6                  81.0                  NaN         c10\n",
       "7                  69.0                  NaN         c11\n",
       "7                   NaN                 82.0         c11\n",
       "8                   NaN                 53.0         c12\n",
       "8                  59.0                  NaN         c12\n",
       "9                   NaN                 68.0         c13\n",
       "9                  64.0                  NaN         c13\n",
       "10                  NaN                 64.0         c14\n",
       "10                 67.0                  NaN         c14\n",
       "11                  NaN                 71.0         c16\n",
       "11                 70.0                  NaN         c16\n",
       "12                 85.0                  NaN         c17\n",
       "12                  NaN                 74.0         c17"
      ]
     },
     "execution_count": 222,
     "metadata": {},
     "output_type": "execute_result"
    }
   ],
   "source": [
    "c_combo"
   ]
  },
  {
   "cell_type": "code",
   "execution_count": 186,
   "metadata": {},
   "outputs": [],
   "source": [
    "#need to make g1 and g2 bars diff colors\n",
    "#colors = list(islice(cycle(['red','blue','red','blue','red','blue','red','blue','red','blue','red','blue','red','blue','red','blue','red','blue','red','blue','red','blue','red','blue','red','blue','red','blue','red','blue','red','blue','red','blue']),None,len(c_combo)))\n",
    "#my_colors = list(islice(cycle(['b', 'r', 'g', 'y', 'k']), None, len(df)))\n",
    "#c_combo_bar = c_combo.plot(kind='bar',color=colors)"
   ]
  },
  {
   "cell_type": "code",
   "execution_count": 223,
   "metadata": {},
   "outputs": [],
   "source": [
    "c_scores_1_mean = c_scores_1.mean()"
   ]
  },
  {
   "cell_type": "code",
   "execution_count": 224,
   "metadata": {},
   "outputs": [
    {
     "data": {
      "text/plain": [
       "confederate_score_1    69.846154\n",
       "dtype: float64"
      ]
     },
     "execution_count": 224,
     "metadata": {},
     "output_type": "execute_result"
    }
   ],
   "source": [
    "c_scores_1_mean"
   ]
  },
  {
   "cell_type": "code",
   "execution_count": 225,
   "metadata": {},
   "outputs": [],
   "source": [
    "c_scores_1_std = c_scores_1.std()"
   ]
  },
  {
   "cell_type": "code",
   "execution_count": 226,
   "metadata": {},
   "outputs": [
    {
     "data": {
      "text/plain": [
       "confederate_score_1    9.007831\n",
       "dtype: float64"
      ]
     },
     "execution_count": 226,
     "metadata": {},
     "output_type": "execute_result"
    }
   ],
   "source": [
    "c_scores_1_std"
   ]
  },
  {
   "cell_type": "code",
   "execution_count": 227,
   "metadata": {},
   "outputs": [],
   "source": [
    "c_scores_2_mean = c_scores_2.mean()"
   ]
  },
  {
   "cell_type": "code",
   "execution_count": 228,
   "metadata": {},
   "outputs": [
    {
     "data": {
      "text/plain": [
       "confederate_score_2    68.538462\n",
       "dtype: float64"
      ]
     },
     "execution_count": 228,
     "metadata": {},
     "output_type": "execute_result"
    }
   ],
   "source": [
    "c_scores_2_mean"
   ]
  },
  {
   "cell_type": "code",
   "execution_count": 229,
   "metadata": {},
   "outputs": [],
   "source": [
    "c_scores_2_std = c_scores_2.std()"
   ]
  },
  {
   "cell_type": "code",
   "execution_count": 230,
   "metadata": {},
   "outputs": [
    {
     "data": {
      "text/plain": [
       "confederate_score_2    12.094182\n",
       "dtype: float64"
      ]
     },
     "execution_count": 230,
     "metadata": {},
     "output_type": "execute_result"
    }
   ],
   "source": [
    "c_scores_2_std"
   ]
  },
  {
   "cell_type": "code",
   "execution_count": null,
   "metadata": {},
   "outputs": [],
   "source": [
    "#does everyone do better in the second game? \n",
    "#does the player that did better in the first game always do better in the second game?"
   ]
  },
  {
   "cell_type": "markdown",
   "metadata": {},
   "source": [
    "# Multi scores in G1 and G2 (p1)"
   ]
  },
  {
   "cell_type": "code",
   "execution_count": 407,
   "metadata": {},
   "outputs": [
    {
     "data": {
      "text/html": [
       "<div>\n",
       "<style scoped>\n",
       "    .dataframe tbody tr th:only-of-type {\n",
       "        vertical-align: middle;\n",
       "    }\n",
       "\n",
       "    .dataframe tbody tr th {\n",
       "        vertical-align: top;\n",
       "    }\n",
       "\n",
       "    .dataframe thead th {\n",
       "        text-align: right;\n",
       "    }\n",
       "</style>\n",
       "<table border=\"1\" class=\"dataframe\">\n",
       "  <thead>\n",
       "    <tr style=\"text-align: right;\">\n",
       "      <th></th>\n",
       "      <th>participant</th>\n",
       "      <th>mp1_score_1</th>\n",
       "    </tr>\n",
       "  </thead>\n",
       "  <tbody>\n",
       "    <tr>\n",
       "      <td>0</td>\n",
       "      <td>m05</td>\n",
       "      <td>86</td>\n",
       "    </tr>\n",
       "    <tr>\n",
       "      <td>1</td>\n",
       "      <td>m06</td>\n",
       "      <td>57</td>\n",
       "    </tr>\n",
       "    <tr>\n",
       "      <td>2</td>\n",
       "      <td>m08</td>\n",
       "      <td>69</td>\n",
       "    </tr>\n",
       "    <tr>\n",
       "      <td>3</td>\n",
       "      <td>m10</td>\n",
       "      <td>69</td>\n",
       "    </tr>\n",
       "    <tr>\n",
       "      <td>4</td>\n",
       "      <td>m11</td>\n",
       "      <td>80</td>\n",
       "    </tr>\n",
       "    <tr>\n",
       "      <td>5</td>\n",
       "      <td>m13</td>\n",
       "      <td>53</td>\n",
       "    </tr>\n",
       "    <tr>\n",
       "      <td>6</td>\n",
       "      <td>m14</td>\n",
       "      <td>75</td>\n",
       "    </tr>\n",
       "  </tbody>\n",
       "</table>\n",
       "</div>"
      ],
      "text/plain": [
       "  participant  mp1_score_1\n",
       "0         m05           86\n",
       "1         m06           57\n",
       "2         m08           69\n",
       "3         m10           69\n",
       "4         m11           80\n",
       "5         m13           53\n",
       "6         m14           75"
      ]
     },
     "execution_count": 407,
     "metadata": {},
     "output_type": "execute_result"
    }
   ],
   "source": [
    "mp1_scores_1 = pd.DataFrame({'participant':['m05', 'm06', 'm08', 'm10', 'm11', 'm13', 'm14'], 'mp1_score_1':\n",
    "     [m05_p1_g1_score, m06_p1_g1_score, m08_p1_g1_score,\n",
    "      m10_p1_g1_score, m11_p1_g1_score, m13_p1_g1_score, m14_p1_g1_score]})\n",
    "#mp1_scores_1.set_index('participant', inplace=True, drop=True)\n",
    "mp1_scores_1"
   ]
  },
  {
   "cell_type": "code",
   "execution_count": 408,
   "metadata": {},
   "outputs": [
    {
     "data": {
      "text/html": [
       "<div>\n",
       "<style scoped>\n",
       "    .dataframe tbody tr th:only-of-type {\n",
       "        vertical-align: middle;\n",
       "    }\n",
       "\n",
       "    .dataframe tbody tr th {\n",
       "        vertical-align: top;\n",
       "    }\n",
       "\n",
       "    .dataframe thead th {\n",
       "        text-align: right;\n",
       "    }\n",
       "</style>\n",
       "<table border=\"1\" class=\"dataframe\">\n",
       "  <thead>\n",
       "    <tr style=\"text-align: right;\">\n",
       "      <th></th>\n",
       "      <th>participant</th>\n",
       "      <th>mp1_score_2</th>\n",
       "    </tr>\n",
       "  </thead>\n",
       "  <tbody>\n",
       "    <tr>\n",
       "      <td>0</td>\n",
       "      <td>m05</td>\n",
       "      <td>68</td>\n",
       "    </tr>\n",
       "    <tr>\n",
       "      <td>1</td>\n",
       "      <td>m06</td>\n",
       "      <td>62</td>\n",
       "    </tr>\n",
       "    <tr>\n",
       "      <td>2</td>\n",
       "      <td>m08</td>\n",
       "      <td>80</td>\n",
       "    </tr>\n",
       "    <tr>\n",
       "      <td>3</td>\n",
       "      <td>m10</td>\n",
       "      <td>66</td>\n",
       "    </tr>\n",
       "    <tr>\n",
       "      <td>4</td>\n",
       "      <td>m11</td>\n",
       "      <td>83</td>\n",
       "    </tr>\n",
       "    <tr>\n",
       "      <td>5</td>\n",
       "      <td>m13</td>\n",
       "      <td>68</td>\n",
       "    </tr>\n",
       "    <tr>\n",
       "      <td>6</td>\n",
       "      <td>m14</td>\n",
       "      <td>54</td>\n",
       "    </tr>\n",
       "  </tbody>\n",
       "</table>\n",
       "</div>"
      ],
      "text/plain": [
       "  participant  mp1_score_2\n",
       "0         m05           68\n",
       "1         m06           62\n",
       "2         m08           80\n",
       "3         m10           66\n",
       "4         m11           83\n",
       "5         m13           68\n",
       "6         m14           54"
      ]
     },
     "execution_count": 408,
     "metadata": {},
     "output_type": "execute_result"
    }
   ],
   "source": [
    "mp1_scores_2 = pd.DataFrame({'participant':['m05', 'm06', 'm08', 'm10', 'm11', 'm13', 'm14'], 'mp1_score_2':\n",
    "     [m05_p1_g2_score, m06_p1_g2_score, m08_p1_g2_score,\n",
    "      m10_p1_g2_score, m11_p1_g2_score, m13_p1_g2_score, m14_p1_g2_score]})\n",
    "#mp1_scores_2.set_index('participant', inplace=True, drop=True)\n",
    "mp1_scores_2"
   ]
  },
  {
   "cell_type": "code",
   "execution_count": 409,
   "metadata": {},
   "outputs": [
    {
     "data": {
      "image/png": "[encoded data removed]",
      "text/plain": [
       "<Figure size 432x288 with 1 Axes>"
      ]
     },
     "metadata": {
      "needs_background": "light"
     },
     "output_type": "display_data"
    }
   ],
   "source": [
    "mp1_scores_1_bar = mp1_scores_1.plot.bar()"
   ]
  },
  {
   "cell_type": "code",
   "execution_count": 410,
   "metadata": {},
   "outputs": [
    {
     "data": {
      "image/png": "[encoded data removed]",
      "text/plain": [
       "<Figure size 432x288 with 1 Axes>"
      ]
     },
     "metadata": {
      "needs_background": "light"
     },
     "output_type": "display_data"
    }
   ],
   "source": [
    "mp1_scores_2_bar = mp1_scores_2.plot.bar()"
   ]
  },
  {
   "cell_type": "code",
   "execution_count": 411,
   "metadata": {},
   "outputs": [],
   "source": [
    "mp1_scores = pd.merge(mp1_scores_1, mp1_scores_2, on = 'participant')"
   ]
  },
  {
   "cell_type": "code",
   "execution_count": 412,
   "metadata": {},
   "outputs": [],
   "source": [
    "mp1_scores.columns=['participant','Game 1','Game 2']\n",
    "mp1_scores.set_index('participant', inplace=True, drop=True)"
   ]
  },
  {
   "cell_type": "code",
   "execution_count": 413,
   "metadata": {},
   "outputs": [
    {
     "data": {
      "text/html": [
       "<div>\n",
       "<style scoped>\n",
       "    .dataframe tbody tr th:only-of-type {\n",
       "        vertical-align: middle;\n",
       "    }\n",
       "\n",
       "    .dataframe tbody tr th {\n",
       "        vertical-align: top;\n",
       "    }\n",
       "\n",
       "    .dataframe thead th {\n",
       "        text-align: right;\n",
       "    }\n",
       "</style>\n",
       "<table border=\"1\" class=\"dataframe\">\n",
       "  <thead>\n",
       "    <tr style=\"text-align: right;\">\n",
       "      <th></th>\n",
       "      <th>Game 1</th>\n",
       "      <th>Game 2</th>\n",
       "    </tr>\n",
       "    <tr>\n",
       "      <th>participant</th>\n",
       "      <th></th>\n",
       "      <th></th>\n",
       "    </tr>\n",
       "  </thead>\n",
       "  <tbody>\n",
       "    <tr>\n",
       "      <td>m05</td>\n",
       "      <td>86</td>\n",
       "      <td>68</td>\n",
       "    </tr>\n",
       "    <tr>\n",
       "      <td>m06</td>\n",
       "      <td>57</td>\n",
       "      <td>62</td>\n",
       "    </tr>\n",
       "    <tr>\n",
       "      <td>m08</td>\n",
       "      <td>69</td>\n",
       "      <td>80</td>\n",
       "    </tr>\n",
       "    <tr>\n",
       "      <td>m10</td>\n",
       "      <td>69</td>\n",
       "      <td>66</td>\n",
       "    </tr>\n",
       "    <tr>\n",
       "      <td>m11</td>\n",
       "      <td>80</td>\n",
       "      <td>83</td>\n",
       "    </tr>\n",
       "    <tr>\n",
       "      <td>m13</td>\n",
       "      <td>53</td>\n",
       "      <td>68</td>\n",
       "    </tr>\n",
       "    <tr>\n",
       "      <td>m14</td>\n",
       "      <td>75</td>\n",
       "      <td>54</td>\n",
       "    </tr>\n",
       "  </tbody>\n",
       "</table>\n",
       "</div>"
      ],
      "text/plain": [
       "             Game 1  Game 2\n",
       "participant                \n",
       "m05              86      68\n",
       "m06              57      62\n",
       "m08              69      80\n",
       "m10              69      66\n",
       "m11              80      83\n",
       "m13              53      68\n",
       "m14              75      54"
      ]
     },
     "execution_count": 413,
     "metadata": {},
     "output_type": "execute_result"
    }
   ],
   "source": [
    "mp1_scores"
   ]
  },
  {
   "cell_type": "code",
   "execution_count": 414,
   "metadata": {},
   "outputs": [
    {
     "data": {
      "text/plain": [
       "([<matplotlib.axis.YTick at 0x1a23e17150>,\n",
       "  <matplotlib.axis.YTick at 0x1a236f78d0>,\n",
       "  <matplotlib.axis.YTick at 0x1a24425110>,\n",
       "  <matplotlib.axis.YTick at 0x1a23e193d0>,\n",
       "  <matplotlib.axis.YTick at 0x1a2409eb90>,\n",
       "  <matplotlib.axis.YTick at 0x10eb52d90>],\n",
       " <a list of 6 Text yticklabel objects>)"
      ]
     },
     "execution_count": 414,
     "metadata": {},
     "output_type": "execute_result"
    },
    {
     "data": {
      "image/png": "[encoded data removed]",
      "text/plain": [
       "<Figure size 432x288 with 1 Axes>"
      ]
     },
     "metadata": {
      "needs_background": "light"
     },
     "output_type": "display_data"
    }
   ],
   "source": [
    "mp1_scores_box = mp1_scores.boxplot(labels=['Game 1','Game 2'])\n",
    "plt.grid(b=None)\n",
    "plt.yticks(np.arange(50, 105, step=10))"
   ]
  },
  {
   "cell_type": "code",
   "execution_count": 415,
   "metadata": {},
   "outputs": [
    {
     "data": {
      "image/png": "[encoded data removed]",
      "text/plain": [
       "<Figure size 432x288 with 1 Axes>"
      ]
     },
     "metadata": {
      "needs_background": "light"
     },
     "output_type": "display_data"
    }
   ],
   "source": [
    "mp1_scores_box = sns.boxplot( \n",
    "                 data=c_scores, \n",
    "                 width=0.5,\n",
    "                 palette=\"pastel\")\n",
    "mp1_scores_box.axes.set_title(\"Multi Player Scores (p1)\",\n",
    "                    fontsize=16)\n",
    "\n",
    "plot_file_name=\"mp1_score_box.jpg\"\n",
    " \n",
    "plt.ylim(0, 100)\n",
    "mp1_scores_box.axes.set(ylabel='Score')\n",
    "\n",
    "# save as jpeg\n",
    "mp1_scores_box.figure.savefig(plot_file_name,\n",
    "                    format='jpeg',\n",
    "                    dpi=100)"
   ]
  },
  {
   "cell_type": "code",
   "execution_count": 416,
   "metadata": {},
   "outputs": [],
   "source": [
    "mp1_scores_p = sp.stats.ttest_rel(mp1_scores['Game 1'],mp1_scores['Game 2'])"
   ]
  },
  {
   "cell_type": "code",
   "execution_count": 417,
   "metadata": {},
   "outputs": [
    {
     "data": {
      "text/plain": [
       "Ttest_relResult(statistic=0.21889757135061913, pvalue=0.8339859424240292)"
      ]
     },
     "execution_count": 417,
     "metadata": {},
     "output_type": "execute_result"
    }
   ],
   "source": [
    "mp1_scores_p"
   ]
  },
  {
   "cell_type": "code",
   "execution_count": 420,
   "metadata": {},
   "outputs": [],
   "source": [
    "#combine g1 and g2 to one dataframe\n",
    "mp1_combo = mp1_scores_1.append(mp1_scores_2)"
   ]
  },
  {
   "cell_type": "code",
   "execution_count": 421,
   "metadata": {},
   "outputs": [
    {
     "data": {
      "text/plain": [
       "\"mp1_combo = pd.DataFrame({'participant':['m05', 'm05','m06', 'm06', 'm08', 'm08', 'm10', 'm10', 'm11', 'm11', 'm13', 'm13', 'm14', 'm14'], 'score':\\n[m05_p1_g1_score, m05_p1_g2_score, m06_p1_g1_score, m06_p1_g2_score, m08_p1_g1_score, m08_p1_g2_score, m10_p1_g1_score, m10_p1_g2_score, m11_p1_g1_score, m11_p1_g2_score, m13_p1_g1_score, m13_p1_g2_score, m14_p1_g1_score, m14_p1_g2_score]})\""
      ]
     },
     "execution_count": 421,
     "metadata": {},
     "output_type": "execute_result"
    }
   ],
   "source": [
    "'''mp1_combo = pd.DataFrame({'participant':['m05', 'm05','m06', 'm06', 'm08', 'm08', 'm10', 'm10', 'm11', 'm11', 'm13', 'm13', 'm14', 'm14'], 'score':\n",
    "[m05_p1_g1_score, m05_p1_g2_score, m06_p1_g1_score, m06_p1_g2_score, m08_p1_g1_score, m08_p1_g2_score, m10_p1_g1_score, m10_p1_g2_score, m11_p1_g1_score, m11_p1_g2_score, m13_p1_g1_score, m13_p1_g2_score, m14_p1_g1_score, m14_p1_g2_score]})'''"
   ]
  },
  {
   "cell_type": "code",
   "execution_count": 422,
   "metadata": {},
   "outputs": [],
   "source": [
    "mp1_combo.set_index('participant', inplace=True, drop=True)"
   ]
  },
  {
   "cell_type": "code",
   "execution_count": 423,
   "metadata": {},
   "outputs": [],
   "source": [
    "#new_index = ('c02_g1','c02_g2','c03_g1','c03_g2','c04_g1','c04_g2','c05_g1','c05_g2','c06_g1','c06_g2','c09_g1','c09_g2','c10_g1','c10_g2','c11_g1','c11_g2','c12_g1','c12_g2','c13_g1','c13_g2','c14_g1','c14_g2','c16_g1','c16_g2','c17_g1','c17_g2')\n",
    "#c_combo.index = new_index"
   ]
  },
  {
   "cell_type": "code",
   "execution_count": 424,
   "metadata": {},
   "outputs": [
    {
     "data": {
      "text/html": [
       "<div>\n",
       "<style scoped>\n",
       "    .dataframe tbody tr th:only-of-type {\n",
       "        vertical-align: middle;\n",
       "    }\n",
       "\n",
       "    .dataframe tbody tr th {\n",
       "        vertical-align: top;\n",
       "    }\n",
       "\n",
       "    .dataframe thead th {\n",
       "        text-align: right;\n",
       "    }\n",
       "</style>\n",
       "<table border=\"1\" class=\"dataframe\">\n",
       "  <thead>\n",
       "    <tr style=\"text-align: right;\">\n",
       "      <th></th>\n",
       "      <th>mp1_score_1</th>\n",
       "      <th>mp1_score_2</th>\n",
       "    </tr>\n",
       "    <tr>\n",
       "      <th>participant</th>\n",
       "      <th></th>\n",
       "      <th></th>\n",
       "    </tr>\n",
       "  </thead>\n",
       "  <tbody>\n",
       "    <tr>\n",
       "      <td>m05</td>\n",
       "      <td>86.0</td>\n",
       "      <td>NaN</td>\n",
       "    </tr>\n",
       "    <tr>\n",
       "      <td>m06</td>\n",
       "      <td>57.0</td>\n",
       "      <td>NaN</td>\n",
       "    </tr>\n",
       "    <tr>\n",
       "      <td>m08</td>\n",
       "      <td>69.0</td>\n",
       "      <td>NaN</td>\n",
       "    </tr>\n",
       "    <tr>\n",
       "      <td>m10</td>\n",
       "      <td>69.0</td>\n",
       "      <td>NaN</td>\n",
       "    </tr>\n",
       "    <tr>\n",
       "      <td>m11</td>\n",
       "      <td>80.0</td>\n",
       "      <td>NaN</td>\n",
       "    </tr>\n",
       "    <tr>\n",
       "      <td>m13</td>\n",
       "      <td>53.0</td>\n",
       "      <td>NaN</td>\n",
       "    </tr>\n",
       "    <tr>\n",
       "      <td>m14</td>\n",
       "      <td>75.0</td>\n",
       "      <td>NaN</td>\n",
       "    </tr>\n",
       "    <tr>\n",
       "      <td>m05</td>\n",
       "      <td>NaN</td>\n",
       "      <td>68.0</td>\n",
       "    </tr>\n",
       "    <tr>\n",
       "      <td>m06</td>\n",
       "      <td>NaN</td>\n",
       "      <td>62.0</td>\n",
       "    </tr>\n",
       "    <tr>\n",
       "      <td>m08</td>\n",
       "      <td>NaN</td>\n",
       "      <td>80.0</td>\n",
       "    </tr>\n",
       "    <tr>\n",
       "      <td>m10</td>\n",
       "      <td>NaN</td>\n",
       "      <td>66.0</td>\n",
       "    </tr>\n",
       "    <tr>\n",
       "      <td>m11</td>\n",
       "      <td>NaN</td>\n",
       "      <td>83.0</td>\n",
       "    </tr>\n",
       "    <tr>\n",
       "      <td>m13</td>\n",
       "      <td>NaN</td>\n",
       "      <td>68.0</td>\n",
       "    </tr>\n",
       "    <tr>\n",
       "      <td>m14</td>\n",
       "      <td>NaN</td>\n",
       "      <td>54.0</td>\n",
       "    </tr>\n",
       "  </tbody>\n",
       "</table>\n",
       "</div>"
      ],
      "text/plain": [
       "             mp1_score_1  mp1_score_2\n",
       "participant                          \n",
       "m05                 86.0          NaN\n",
       "m06                 57.0          NaN\n",
       "m08                 69.0          NaN\n",
       "m10                 69.0          NaN\n",
       "m11                 80.0          NaN\n",
       "m13                 53.0          NaN\n",
       "m14                 75.0          NaN\n",
       "m05                  NaN         68.0\n",
       "m06                  NaN         62.0\n",
       "m08                  NaN         80.0\n",
       "m10                  NaN         66.0\n",
       "m11                  NaN         83.0\n",
       "m13                  NaN         68.0\n",
       "m14                  NaN         54.0"
      ]
     },
     "execution_count": 424,
     "metadata": {},
     "output_type": "execute_result"
    }
   ],
   "source": [
    "mp1_combo"
   ]
  },
  {
   "cell_type": "code",
   "execution_count": 425,
   "metadata": {},
   "outputs": [],
   "source": [
    "mp1_combo = mp1_combo.sort_values(by=['participant'])"
   ]
  },
  {
   "cell_type": "code",
   "execution_count": 426,
   "metadata": {},
   "outputs": [
    {
     "data": {
      "text/html": [
       "<div>\n",
       "<style scoped>\n",
       "    .dataframe tbody tr th:only-of-type {\n",
       "        vertical-align: middle;\n",
       "    }\n",
       "\n",
       "    .dataframe tbody tr th {\n",
       "        vertical-align: top;\n",
       "    }\n",
       "\n",
       "    .dataframe thead th {\n",
       "        text-align: right;\n",
       "    }\n",
       "</style>\n",
       "<table border=\"1\" class=\"dataframe\">\n",
       "  <thead>\n",
       "    <tr style=\"text-align: right;\">\n",
       "      <th></th>\n",
       "      <th>mp1_score_1</th>\n",
       "      <th>mp1_score_2</th>\n",
       "    </tr>\n",
       "    <tr>\n",
       "      <th>participant</th>\n",
       "      <th></th>\n",
       "      <th></th>\n",
       "    </tr>\n",
       "  </thead>\n",
       "  <tbody>\n",
       "    <tr>\n",
       "      <td>m05</td>\n",
       "      <td>86.0</td>\n",
       "      <td>NaN</td>\n",
       "    </tr>\n",
       "    <tr>\n",
       "      <td>m05</td>\n",
       "      <td>NaN</td>\n",
       "      <td>68.0</td>\n",
       "    </tr>\n",
       "    <tr>\n",
       "      <td>m06</td>\n",
       "      <td>57.0</td>\n",
       "      <td>NaN</td>\n",
       "    </tr>\n",
       "    <tr>\n",
       "      <td>m06</td>\n",
       "      <td>NaN</td>\n",
       "      <td>62.0</td>\n",
       "    </tr>\n",
       "    <tr>\n",
       "      <td>m08</td>\n",
       "      <td>69.0</td>\n",
       "      <td>NaN</td>\n",
       "    </tr>\n",
       "    <tr>\n",
       "      <td>m08</td>\n",
       "      <td>NaN</td>\n",
       "      <td>80.0</td>\n",
       "    </tr>\n",
       "    <tr>\n",
       "      <td>m10</td>\n",
       "      <td>69.0</td>\n",
       "      <td>NaN</td>\n",
       "    </tr>\n",
       "    <tr>\n",
       "      <td>m10</td>\n",
       "      <td>NaN</td>\n",
       "      <td>66.0</td>\n",
       "    </tr>\n",
       "    <tr>\n",
       "      <td>m11</td>\n",
       "      <td>80.0</td>\n",
       "      <td>NaN</td>\n",
       "    </tr>\n",
       "    <tr>\n",
       "      <td>m11</td>\n",
       "      <td>NaN</td>\n",
       "      <td>83.0</td>\n",
       "    </tr>\n",
       "    <tr>\n",
       "      <td>m13</td>\n",
       "      <td>53.0</td>\n",
       "      <td>NaN</td>\n",
       "    </tr>\n",
       "    <tr>\n",
       "      <td>m13</td>\n",
       "      <td>NaN</td>\n",
       "      <td>68.0</td>\n",
       "    </tr>\n",
       "    <tr>\n",
       "      <td>m14</td>\n",
       "      <td>75.0</td>\n",
       "      <td>NaN</td>\n",
       "    </tr>\n",
       "    <tr>\n",
       "      <td>m14</td>\n",
       "      <td>NaN</td>\n",
       "      <td>54.0</td>\n",
       "    </tr>\n",
       "  </tbody>\n",
       "</table>\n",
       "</div>"
      ],
      "text/plain": [
       "             mp1_score_1  mp1_score_2\n",
       "participant                          \n",
       "m05                 86.0          NaN\n",
       "m05                  NaN         68.0\n",
       "m06                 57.0          NaN\n",
       "m06                  NaN         62.0\n",
       "m08                 69.0          NaN\n",
       "m08                  NaN         80.0\n",
       "m10                 69.0          NaN\n",
       "m10                  NaN         66.0\n",
       "m11                 80.0          NaN\n",
       "m11                  NaN         83.0\n",
       "m13                 53.0          NaN\n",
       "m13                  NaN         68.0\n",
       "m14                 75.0          NaN\n",
       "m14                  NaN         54.0"
      ]
     },
     "execution_count": 426,
     "metadata": {},
     "output_type": "execute_result"
    }
   ],
   "source": [
    "mp1_combo"
   ]
  },
  {
   "cell_type": "code",
   "execution_count": 427,
   "metadata": {},
   "outputs": [],
   "source": [
    "mp1_scores_1_mean = mp1_scores_1.mean()"
   ]
  },
  {
   "cell_type": "code",
   "execution_count": 428,
   "metadata": {},
   "outputs": [
    {
     "data": {
      "text/plain": [
       "mp1_score_1    69.857143\n",
       "dtype: float64"
      ]
     },
     "execution_count": 428,
     "metadata": {},
     "output_type": "execute_result"
    }
   ],
   "source": [
    "mp1_scores_1_mean"
   ]
  },
  {
   "cell_type": "code",
   "execution_count": 429,
   "metadata": {},
   "outputs": [],
   "source": [
    "mp1_scores_1_std = mp1_scores_1.std()"
   ]
  },
  {
   "cell_type": "code",
   "execution_count": 430,
   "metadata": {},
   "outputs": [
    {
     "data": {
      "text/plain": [
       "mp1_score_1    11.838195\n",
       "dtype: float64"
      ]
     },
     "execution_count": 430,
     "metadata": {},
     "output_type": "execute_result"
    }
   ],
   "source": [
    "mp1_scores_1_std"
   ]
  },
  {
   "cell_type": "code",
   "execution_count": 431,
   "metadata": {},
   "outputs": [],
   "source": [
    "mp1_scores_2_mean = mp1_scores_2.mean()"
   ]
  },
  {
   "cell_type": "code",
   "execution_count": 432,
   "metadata": {},
   "outputs": [
    {
     "data": {
      "text/plain": [
       "mp1_score_2    68.714286\n",
       "dtype: float64"
      ]
     },
     "execution_count": 432,
     "metadata": {},
     "output_type": "execute_result"
    }
   ],
   "source": [
    "mp1_scores_2_mean"
   ]
  },
  {
   "cell_type": "code",
   "execution_count": 433,
   "metadata": {},
   "outputs": [],
   "source": [
    "mp1_scores_2_std = mp1_scores_2.std()"
   ]
  },
  {
   "cell_type": "code",
   "execution_count": 434,
   "metadata": {},
   "outputs": [
    {
     "data": {
      "text/plain": [
       "mp1_score_2    10.011898\n",
       "dtype: float64"
      ]
     },
     "execution_count": 434,
     "metadata": {},
     "output_type": "execute_result"
    }
   ],
   "source": [
    "mp1_scores_2_std"
   ]
  },
  {
   "cell_type": "markdown",
   "metadata": {},
   "source": [
    "# Multi scores in G1 and G2 (p2)"
   ]
  },
  {
   "cell_type": "code",
   "execution_count": 435,
   "metadata": {},
   "outputs": [
    {
     "data": {
      "text/html": [
       "<div>\n",
       "<style scoped>\n",
       "    .dataframe tbody tr th:only-of-type {\n",
       "        vertical-align: middle;\n",
       "    }\n",
       "\n",
       "    .dataframe tbody tr th {\n",
       "        vertical-align: top;\n",
       "    }\n",
       "\n",
       "    .dataframe thead th {\n",
       "        text-align: right;\n",
       "    }\n",
       "</style>\n",
       "<table border=\"1\" class=\"dataframe\">\n",
       "  <thead>\n",
       "    <tr style=\"text-align: right;\">\n",
       "      <th></th>\n",
       "      <th>mp2_score_1</th>\n",
       "    </tr>\n",
       "    <tr>\n",
       "      <th>participant</th>\n",
       "      <th></th>\n",
       "    </tr>\n",
       "  </thead>\n",
       "  <tbody>\n",
       "    <tr>\n",
       "      <td>m05</td>\n",
       "      <td>75</td>\n",
       "    </tr>\n",
       "    <tr>\n",
       "      <td>m06</td>\n",
       "      <td>71</td>\n",
       "    </tr>\n",
       "    <tr>\n",
       "      <td>m08</td>\n",
       "      <td>82</td>\n",
       "    </tr>\n",
       "    <tr>\n",
       "      <td>m10</td>\n",
       "      <td>57</td>\n",
       "    </tr>\n",
       "    <tr>\n",
       "      <td>m11</td>\n",
       "      <td>86</td>\n",
       "    </tr>\n",
       "    <tr>\n",
       "      <td>m13</td>\n",
       "      <td>59</td>\n",
       "    </tr>\n",
       "    <tr>\n",
       "      <td>m14</td>\n",
       "      <td>62</td>\n",
       "    </tr>\n",
       "  </tbody>\n",
       "</table>\n",
       "</div>"
      ],
      "text/plain": [
       "             mp2_score_1\n",
       "participant             \n",
       "m05                   75\n",
       "m06                   71\n",
       "m08                   82\n",
       "m10                   57\n",
       "m11                   86\n",
       "m13                   59\n",
       "m14                   62"
      ]
     },
     "execution_count": 435,
     "metadata": {},
     "output_type": "execute_result"
    }
   ],
   "source": [
    "mp2_scores_1 = pd.DataFrame({'participant':['m05', 'm06', 'm08', 'm10', 'm11', 'm13', 'm14'], 'mp2_score_1':\n",
    "     [m05_p2_g1_score, m06_p2_g1_score, m08_p2_g1_score,\n",
    "      m10_p2_g1_score, m11_p2_g1_score, m13_p2_g1_score, m14_p2_g1_score]})\n",
    "#mp1_scores_1.set_index('participant', inplace=True, drop=True)\n",
    "mp2_scores_1.set_index('participant', inplace=True, drop=True)\n",
    "mp2_scores_1"
   ]
  },
  {
   "cell_type": "code",
   "execution_count": 437,
   "metadata": {},
   "outputs": [
    {
     "data": {
      "text/html": [
       "<div>\n",
       "<style scoped>\n",
       "    .dataframe tbody tr th:only-of-type {\n",
       "        vertical-align: middle;\n",
       "    }\n",
       "\n",
       "    .dataframe tbody tr th {\n",
       "        vertical-align: top;\n",
       "    }\n",
       "\n",
       "    .dataframe thead th {\n",
       "        text-align: right;\n",
       "    }\n",
       "</style>\n",
       "<table border=\"1\" class=\"dataframe\">\n",
       "  <thead>\n",
       "    <tr style=\"text-align: right;\">\n",
       "      <th></th>\n",
       "      <th>mp2_score_2</th>\n",
       "    </tr>\n",
       "    <tr>\n",
       "      <th>participant</th>\n",
       "      <th></th>\n",
       "    </tr>\n",
       "  </thead>\n",
       "  <tbody>\n",
       "    <tr>\n",
       "      <td>m05</td>\n",
       "      <td>86</td>\n",
       "    </tr>\n",
       "    <tr>\n",
       "      <td>m06</td>\n",
       "      <td>68</td>\n",
       "    </tr>\n",
       "    <tr>\n",
       "      <td>m08</td>\n",
       "      <td>88</td>\n",
       "    </tr>\n",
       "    <tr>\n",
       "      <td>m10</td>\n",
       "      <td>62</td>\n",
       "    </tr>\n",
       "    <tr>\n",
       "      <td>m11</td>\n",
       "      <td>87</td>\n",
       "    </tr>\n",
       "    <tr>\n",
       "      <td>m13</td>\n",
       "      <td>72</td>\n",
       "    </tr>\n",
       "    <tr>\n",
       "      <td>m14</td>\n",
       "      <td>56</td>\n",
       "    </tr>\n",
       "  </tbody>\n",
       "</table>\n",
       "</div>"
      ],
      "text/plain": [
       "             mp2_score_2\n",
       "participant             \n",
       "m05                   86\n",
       "m06                   68\n",
       "m08                   88\n",
       "m10                   62\n",
       "m11                   87\n",
       "m13                   72\n",
       "m14                   56"
      ]
     },
     "execution_count": 437,
     "metadata": {},
     "output_type": "execute_result"
    }
   ],
   "source": [
    "mp2_scores_2 = pd.DataFrame({'participant':['m05', 'm06', 'm08', 'm10', 'm11', 'm13', 'm14'], 'mp2_score_2':\n",
    "     [m05_p2_g2_score, m06_p2_g2_score, m08_p2_g2_score,\n",
    "      m10_p2_g2_score, m11_p2_g2_score, m13_p2_g2_score, m14_p2_g2_score]})\n",
    "mp2_scores_2.set_index('participant', inplace=True, drop=True)\n",
    "mp2_scores_2"
   ]
  },
  {
   "cell_type": "code",
   "execution_count": 438,
   "metadata": {},
   "outputs": [
    {
     "data": {
      "image/png": "[encoded data removed]",
      "text/plain": [
       "<Figure size 432x288 with 1 Axes>"
      ]
     },
     "metadata": {
      "needs_background": "light"
     },
     "output_type": "display_data"
    }
   ],
   "source": [
    "mp2_scores_1_bar = mp2_scores_1.plot.bar()"
   ]
  },
  {
   "cell_type": "code",
   "execution_count": 439,
   "metadata": {},
   "outputs": [
    {
     "data": {
      "image/png": "[encoded data removed]",
      "text/plain": [
       "<Figure size 432x288 with 1 Axes>"
      ]
     },
     "metadata": {
      "needs_background": "light"
     },
     "output_type": "display_data"
    }
   ],
   "source": [
    "mp2_scores_2_bar = mp2_scores_2.plot.bar()"
   ]
  },
  {
   "cell_type": "code",
   "execution_count": 440,
   "metadata": {},
   "outputs": [],
   "source": [
    "mp2_scores = pd.merge(mp2_scores_1, mp2_scores_2, on = 'participant')"
   ]
  },
  {
   "cell_type": "code",
   "execution_count": 441,
   "metadata": {},
   "outputs": [],
   "source": [
    "mp2_scores.columns=['Game 1','Game 2']\n",
    "#mp2_scores.set_index('participant', inplace=True, drop=True)"
   ]
  },
  {
   "cell_type": "code",
   "execution_count": 442,
   "metadata": {},
   "outputs": [
    {
     "data": {
      "text/html": [
       "<div>\n",
       "<style scoped>\n",
       "    .dataframe tbody tr th:only-of-type {\n",
       "        vertical-align: middle;\n",
       "    }\n",
       "\n",
       "    .dataframe tbody tr th {\n",
       "        vertical-align: top;\n",
       "    }\n",
       "\n",
       "    .dataframe thead th {\n",
       "        text-align: right;\n",
       "    }\n",
       "</style>\n",
       "<table border=\"1\" class=\"dataframe\">\n",
       "  <thead>\n",
       "    <tr style=\"text-align: right;\">\n",
       "      <th></th>\n",
       "      <th>Game 1</th>\n",
       "      <th>Game 2</th>\n",
       "    </tr>\n",
       "    <tr>\n",
       "      <th>participant</th>\n",
       "      <th></th>\n",
       "      <th></th>\n",
       "    </tr>\n",
       "  </thead>\n",
       "  <tbody>\n",
       "    <tr>\n",
       "      <td>m05</td>\n",
       "      <td>75</td>\n",
       "      <td>86</td>\n",
       "    </tr>\n",
       "    <tr>\n",
       "      <td>m06</td>\n",
       "      <td>71</td>\n",
       "      <td>68</td>\n",
       "    </tr>\n",
       "    <tr>\n",
       "      <td>m08</td>\n",
       "      <td>82</td>\n",
       "      <td>88</td>\n",
       "    </tr>\n",
       "    <tr>\n",
       "      <td>m10</td>\n",
       "      <td>57</td>\n",
       "      <td>62</td>\n",
       "    </tr>\n",
       "    <tr>\n",
       "      <td>m11</td>\n",
       "      <td>86</td>\n",
       "      <td>87</td>\n",
       "    </tr>\n",
       "    <tr>\n",
       "      <td>m13</td>\n",
       "      <td>59</td>\n",
       "      <td>72</td>\n",
       "    </tr>\n",
       "    <tr>\n",
       "      <td>m14</td>\n",
       "      <td>62</td>\n",
       "      <td>56</td>\n",
       "    </tr>\n",
       "  </tbody>\n",
       "</table>\n",
       "</div>"
      ],
      "text/plain": [
       "             Game 1  Game 2\n",
       "participant                \n",
       "m05              75      86\n",
       "m06              71      68\n",
       "m08              82      88\n",
       "m10              57      62\n",
       "m11              86      87\n",
       "m13              59      72\n",
       "m14              62      56"
      ]
     },
     "execution_count": 442,
     "metadata": {},
     "output_type": "execute_result"
    }
   ],
   "source": [
    "mp2_scores"
   ]
  },
  {
   "cell_type": "code",
   "execution_count": 443,
   "metadata": {},
   "outputs": [
    {
     "data": {
      "text/plain": [
       "([<matplotlib.axis.YTick at 0x1a24974b10>,\n",
       "  <matplotlib.axis.YTick at 0x1a22f06b50>,\n",
       "  <matplotlib.axis.YTick at 0x1a249460d0>,\n",
       "  <matplotlib.axis.YTick at 0x1a249fa790>,\n",
       "  <matplotlib.axis.YTick at 0x1a249fa890>,\n",
       "  <matplotlib.axis.YTick at 0x1a24a21850>],\n",
       " <a list of 6 Text yticklabel objects>)"
      ]
     },
     "execution_count": 443,
     "metadata": {},
     "output_type": "execute_result"
    },
    {
     "data": {
      "image/png": "[encoded data removed]",
      "text/plain": [
       "<Figure size 432x288 with 1 Axes>"
      ]
     },
     "metadata": {
      "needs_background": "light"
     },
     "output_type": "display_data"
    }
   ],
   "source": [
    "mp2_scores_box = mp2_scores.boxplot(labels=['Game 1','Game 2'])\n",
    "plt.grid(b=None)\n",
    "plt.yticks(np.arange(50, 105, step=10))"
   ]
  },
  {
   "cell_type": "code",
   "execution_count": 444,
   "metadata": {},
   "outputs": [
    {
     "data": {
      "image/png": "[encoded data removed]",
      "text/plain": [
       "<Figure size 432x288 with 1 Axes>"
      ]
     },
     "metadata": {
      "needs_background": "light"
     },
     "output_type": "display_data"
    }
   ],
   "source": [
    "mp2_scores_box = sns.boxplot( \n",
    "                 data=c_scores, \n",
    "                 width=0.5,\n",
    "                 palette=\"pastel\")\n",
    "mp2_scores_box.axes.set_title(\"Multi Player Scores (p2)\",\n",
    "                    fontsize=16)\n",
    "\n",
    "plot_file_name=\"mp2_score_box.jpg\"\n",
    " \n",
    "plt.ylim(0, 100)\n",
    "mp2_scores_box.axes.set(ylabel='Score')\n",
    "\n",
    "# save as jpeg\n",
    "mp2_scores_box.figure.savefig(plot_file_name,\n",
    "                    format='jpeg',\n",
    "                    dpi=100)"
   ]
  },
  {
   "cell_type": "code",
   "execution_count": 445,
   "metadata": {},
   "outputs": [],
   "source": [
    "mp2_scores_p = sp.stats.ttest_rel(mp2_scores['Game 1'],mp2_scores['Game 2'])"
   ]
  },
  {
   "cell_type": "code",
   "execution_count": 446,
   "metadata": {},
   "outputs": [
    {
     "data": {
      "text/plain": [
       "Ttest_relResult(statistic=-1.4607048081612402, pvalue=0.19439808102551945)"
      ]
     },
     "execution_count": 446,
     "metadata": {},
     "output_type": "execute_result"
    }
   ],
   "source": [
    "mp2_scores_p"
   ]
  },
  {
   "cell_type": "code",
   "execution_count": 448,
   "metadata": {},
   "outputs": [],
   "source": [
    "#combine g1 and g2 to one dataframe\n",
    "mp2_combo = mp2_scores_1.append(mp2_scores_2)"
   ]
  },
  {
   "cell_type": "code",
   "execution_count": 449,
   "metadata": {},
   "outputs": [
    {
     "data": {
      "text/plain": [
       "\"mp2_combo = pd.DataFrame({'participant':['m05', 'm05','m06', 'm06', 'm08', 'm08', 'm10', 'm10', 'm11', 'm11', 'm13', 'm13', 'm14', 'm14'], 'score':\\n[m05_p2_g1_score, m05_p2_g2_score, m06_p2_g1_score, m06_p2_g2_score, m08_p2_g1_score, m08_p2_g2_score, m10_p2_g1_score, m10_p2_g2_score, m11_p2_g1_score, m11_p2_g2_score, m13_p2_g1_score, m13_p2_g2_score, m14_p2_g1_score, m14_p2_g2_score]})\""
      ]
     },
     "execution_count": 449,
     "metadata": {},
     "output_type": "execute_result"
    }
   ],
   "source": [
    "'''mp2_combo = pd.DataFrame({'participant':['m05', 'm05','m06', 'm06', 'm08', 'm08', 'm10', 'm10', 'm11', 'm11', 'm13', 'm13', 'm14', 'm14'], 'score':\n",
    "[m05_p2_g1_score, m05_p2_g2_score, m06_p2_g1_score, m06_p2_g2_score, m08_p2_g1_score, m08_p2_g2_score, m10_p2_g1_score, m10_p2_g2_score, m11_p2_g1_score, m11_p2_g2_score, m13_p2_g1_score, m13_p2_g2_score, m14_p2_g1_score, m14_p2_g2_score]})'''"
   ]
  },
  {
   "cell_type": "code",
   "execution_count": 450,
   "metadata": {},
   "outputs": [],
   "source": [
    "#mp2_combo.set_index('participant', inplace=True, drop=True)"
   ]
  },
  {
   "cell_type": "code",
   "execution_count": 451,
   "metadata": {},
   "outputs": [
    {
     "data": {
      "text/html": [
       "<div>\n",
       "<style scoped>\n",
       "    .dataframe tbody tr th:only-of-type {\n",
       "        vertical-align: middle;\n",
       "    }\n",
       "\n",
       "    .dataframe tbody tr th {\n",
       "        vertical-align: top;\n",
       "    }\n",
       "\n",
       "    .dataframe thead th {\n",
       "        text-align: right;\n",
       "    }\n",
       "</style>\n",
       "<table border=\"1\" class=\"dataframe\">\n",
       "  <thead>\n",
       "    <tr style=\"text-align: right;\">\n",
       "      <th></th>\n",
       "      <th>mp2_score_1</th>\n",
       "      <th>mp2_score_2</th>\n",
       "    </tr>\n",
       "    <tr>\n",
       "      <th>participant</th>\n",
       "      <th></th>\n",
       "      <th></th>\n",
       "    </tr>\n",
       "  </thead>\n",
       "  <tbody>\n",
       "    <tr>\n",
       "      <td>m05</td>\n",
       "      <td>75.0</td>\n",
       "      <td>NaN</td>\n",
       "    </tr>\n",
       "    <tr>\n",
       "      <td>m06</td>\n",
       "      <td>71.0</td>\n",
       "      <td>NaN</td>\n",
       "    </tr>\n",
       "    <tr>\n",
       "      <td>m08</td>\n",
       "      <td>82.0</td>\n",
       "      <td>NaN</td>\n",
       "    </tr>\n",
       "    <tr>\n",
       "      <td>m10</td>\n",
       "      <td>57.0</td>\n",
       "      <td>NaN</td>\n",
       "    </tr>\n",
       "    <tr>\n",
       "      <td>m11</td>\n",
       "      <td>86.0</td>\n",
       "      <td>NaN</td>\n",
       "    </tr>\n",
       "    <tr>\n",
       "      <td>m13</td>\n",
       "      <td>59.0</td>\n",
       "      <td>NaN</td>\n",
       "    </tr>\n",
       "    <tr>\n",
       "      <td>m14</td>\n",
       "      <td>62.0</td>\n",
       "      <td>NaN</td>\n",
       "    </tr>\n",
       "    <tr>\n",
       "      <td>m05</td>\n",
       "      <td>NaN</td>\n",
       "      <td>86.0</td>\n",
       "    </tr>\n",
       "    <tr>\n",
       "      <td>m06</td>\n",
       "      <td>NaN</td>\n",
       "      <td>68.0</td>\n",
       "    </tr>\n",
       "    <tr>\n",
       "      <td>m08</td>\n",
       "      <td>NaN</td>\n",
       "      <td>88.0</td>\n",
       "    </tr>\n",
       "    <tr>\n",
       "      <td>m10</td>\n",
       "      <td>NaN</td>\n",
       "      <td>62.0</td>\n",
       "    </tr>\n",
       "    <tr>\n",
       "      <td>m11</td>\n",
       "      <td>NaN</td>\n",
       "      <td>87.0</td>\n",
       "    </tr>\n",
       "    <tr>\n",
       "      <td>m13</td>\n",
       "      <td>NaN</td>\n",
       "      <td>72.0</td>\n",
       "    </tr>\n",
       "    <tr>\n",
       "      <td>m14</td>\n",
       "      <td>NaN</td>\n",
       "      <td>56.0</td>\n",
       "    </tr>\n",
       "  </tbody>\n",
       "</table>\n",
       "</div>"
      ],
      "text/plain": [
       "             mp2_score_1  mp2_score_2\n",
       "participant                          \n",
       "m05                 75.0          NaN\n",
       "m06                 71.0          NaN\n",
       "m08                 82.0          NaN\n",
       "m10                 57.0          NaN\n",
       "m11                 86.0          NaN\n",
       "m13                 59.0          NaN\n",
       "m14                 62.0          NaN\n",
       "m05                  NaN         86.0\n",
       "m06                  NaN         68.0\n",
       "m08                  NaN         88.0\n",
       "m10                  NaN         62.0\n",
       "m11                  NaN         87.0\n",
       "m13                  NaN         72.0\n",
       "m14                  NaN         56.0"
      ]
     },
     "execution_count": 451,
     "metadata": {},
     "output_type": "execute_result"
    }
   ],
   "source": [
    "mp2_combo"
   ]
  },
  {
   "cell_type": "code",
   "execution_count": 452,
   "metadata": {},
   "outputs": [],
   "source": [
    "mp2_combo = mp2_combo.sort_values(by=['participant'])"
   ]
  },
  {
   "cell_type": "code",
   "execution_count": 453,
   "metadata": {},
   "outputs": [
    {
     "data": {
      "text/html": [
       "<div>\n",
       "<style scoped>\n",
       "    .dataframe tbody tr th:only-of-type {\n",
       "        vertical-align: middle;\n",
       "    }\n",
       "\n",
       "    .dataframe tbody tr th {\n",
       "        vertical-align: top;\n",
       "    }\n",
       "\n",
       "    .dataframe thead th {\n",
       "        text-align: right;\n",
       "    }\n",
       "</style>\n",
       "<table border=\"1\" class=\"dataframe\">\n",
       "  <thead>\n",
       "    <tr style=\"text-align: right;\">\n",
       "      <th></th>\n",
       "      <th>mp2_score_1</th>\n",
       "      <th>mp2_score_2</th>\n",
       "    </tr>\n",
       "    <tr>\n",
       "      <th>participant</th>\n",
       "      <th></th>\n",
       "      <th></th>\n",
       "    </tr>\n",
       "  </thead>\n",
       "  <tbody>\n",
       "    <tr>\n",
       "      <td>m05</td>\n",
       "      <td>75.0</td>\n",
       "      <td>NaN</td>\n",
       "    </tr>\n",
       "    <tr>\n",
       "      <td>m05</td>\n",
       "      <td>NaN</td>\n",
       "      <td>86.0</td>\n",
       "    </tr>\n",
       "    <tr>\n",
       "      <td>m06</td>\n",
       "      <td>71.0</td>\n",
       "      <td>NaN</td>\n",
       "    </tr>\n",
       "    <tr>\n",
       "      <td>m06</td>\n",
       "      <td>NaN</td>\n",
       "      <td>68.0</td>\n",
       "    </tr>\n",
       "    <tr>\n",
       "      <td>m08</td>\n",
       "      <td>82.0</td>\n",
       "      <td>NaN</td>\n",
       "    </tr>\n",
       "    <tr>\n",
       "      <td>m08</td>\n",
       "      <td>NaN</td>\n",
       "      <td>88.0</td>\n",
       "    </tr>\n",
       "    <tr>\n",
       "      <td>m10</td>\n",
       "      <td>57.0</td>\n",
       "      <td>NaN</td>\n",
       "    </tr>\n",
       "    <tr>\n",
       "      <td>m10</td>\n",
       "      <td>NaN</td>\n",
       "      <td>62.0</td>\n",
       "    </tr>\n",
       "    <tr>\n",
       "      <td>m11</td>\n",
       "      <td>86.0</td>\n",
       "      <td>NaN</td>\n",
       "    </tr>\n",
       "    <tr>\n",
       "      <td>m11</td>\n",
       "      <td>NaN</td>\n",
       "      <td>87.0</td>\n",
       "    </tr>\n",
       "    <tr>\n",
       "      <td>m13</td>\n",
       "      <td>59.0</td>\n",
       "      <td>NaN</td>\n",
       "    </tr>\n",
       "    <tr>\n",
       "      <td>m13</td>\n",
       "      <td>NaN</td>\n",
       "      <td>72.0</td>\n",
       "    </tr>\n",
       "    <tr>\n",
       "      <td>m14</td>\n",
       "      <td>62.0</td>\n",
       "      <td>NaN</td>\n",
       "    </tr>\n",
       "    <tr>\n",
       "      <td>m14</td>\n",
       "      <td>NaN</td>\n",
       "      <td>56.0</td>\n",
       "    </tr>\n",
       "  </tbody>\n",
       "</table>\n",
       "</div>"
      ],
      "text/plain": [
       "             mp2_score_1  mp2_score_2\n",
       "participant                          \n",
       "m05                 75.0          NaN\n",
       "m05                  NaN         86.0\n",
       "m06                 71.0          NaN\n",
       "m06                  NaN         68.0\n",
       "m08                 82.0          NaN\n",
       "m08                  NaN         88.0\n",
       "m10                 57.0          NaN\n",
       "m10                  NaN         62.0\n",
       "m11                 86.0          NaN\n",
       "m11                  NaN         87.0\n",
       "m13                 59.0          NaN\n",
       "m13                  NaN         72.0\n",
       "m14                 62.0          NaN\n",
       "m14                  NaN         56.0"
      ]
     },
     "execution_count": 453,
     "metadata": {},
     "output_type": "execute_result"
    }
   ],
   "source": [
    "mp2_combo"
   ]
  },
  {
   "cell_type": "code",
   "execution_count": 454,
   "metadata": {},
   "outputs": [],
   "source": [
    "mp2_scores_1_mean = mp2_scores_1.mean()"
   ]
  },
  {
   "cell_type": "code",
   "execution_count": 455,
   "metadata": {},
   "outputs": [
    {
     "data": {
      "text/plain": [
       "mp2_score_1    70.285714\n",
       "dtype: float64"
      ]
     },
     "execution_count": 455,
     "metadata": {},
     "output_type": "execute_result"
    }
   ],
   "source": [
    "mp2_scores_1_mean"
   ]
  },
  {
   "cell_type": "code",
   "execution_count": 456,
   "metadata": {},
   "outputs": [],
   "source": [
    "mp2_scores_1_std = mp2_scores_1.std()"
   ]
  },
  {
   "cell_type": "code",
   "execution_count": 457,
   "metadata": {},
   "outputs": [
    {
     "data": {
      "text/plain": [
       "mp2_score_1    11.397577\n",
       "dtype: float64"
      ]
     },
     "execution_count": 457,
     "metadata": {},
     "output_type": "execute_result"
    }
   ],
   "source": [
    "mp2_scores_1_std "
   ]
  },
  {
   "cell_type": "code",
   "execution_count": 458,
   "metadata": {},
   "outputs": [],
   "source": [
    "mp2_scores_2_mean = mp2_scores_2.mean()"
   ]
  },
  {
   "cell_type": "code",
   "execution_count": 459,
   "metadata": {},
   "outputs": [
    {
     "data": {
      "text/plain": [
       "mp2_score_2    74.142857\n",
       "dtype: float64"
      ]
     },
     "execution_count": 459,
     "metadata": {},
     "output_type": "execute_result"
    }
   ],
   "source": [
    "mp2_scores_2_mean"
   ]
  },
  {
   "cell_type": "code",
   "execution_count": 460,
   "metadata": {},
   "outputs": [],
   "source": [
    "mp2_scores_2_std = mp2_scores_2.std()"
   ]
  },
  {
   "cell_type": "code",
   "execution_count": 461,
   "metadata": {},
   "outputs": [
    {
     "data": {
      "text/plain": [
       "mp2_score_2    13.018302\n",
       "dtype: float64"
      ]
     },
     "execution_count": 461,
     "metadata": {},
     "output_type": "execute_result"
    }
   ],
   "source": [
    "mp2_scores_2_std"
   ]
  },
  {
   "cell_type": "markdown",
   "metadata": {},
   "source": [
    "# End of G1 G2 analysis"
   ]
  },
  {
   "cell_type": "code",
   "execution_count": null,
   "metadata": {},
   "outputs": [],
   "source": []
  },
  {
   "cell_type": "code",
   "execution_count": null,
   "metadata": {},
   "outputs": [],
   "source": []
  },
  {
   "cell_type": "code",
   "execution_count": null,
   "metadata": {},
   "outputs": [],
   "source": []
  },
  {
   "cell_type": "code",
   "execution_count": null,
   "metadata": {},
   "outputs": [],
   "source": []
  },
  {
   "cell_type": "code",
   "execution_count": null,
   "metadata": {},
   "outputs": [],
   "source": [
    "#j_g1_scores = pd.DataFrame([j02_p1_g1_score, j02_p2_g1_score, j01_p1_g1_score, j01_p2_g1_score, j03_p1_g1_score, j03_p2_g1],index = ['j02_p1_g1_score', 'j02_p2_g1_score', 'jo1_p1_g1_score', 'j01_p2_g1_score', 'j03_p1_g1', 'j03_p2_g1'], columns=['score'])"
   ]
  },
  {
   "cell_type": "code",
   "execution_count": null,
   "metadata": {},
   "outputs": [],
   "source": [
    "#s_list = [s01,s02,s03,s05,s06,s07,s08,s09]"
   ]
  },
  {
   "cell_type": "code",
   "execution_count": null,
   "metadata": {},
   "outputs": [],
   "source": [
    "#s01_p1_g1, s01_p1_g2 = separate_df(s01, 's')\n",
    "s02_p1_g1, s02_p1_g2 = separate_df(s02, 's')\n",
    "s03_p1_g1, s03_p1_g2 = separate_df(s03, 's')\n",
    "s05_p1_g1, s05_p1_g2 = separate_df(s05, 's')\n",
    "s06_p1_g1, s06_p1_g2 = separate_df(s06, 's')\n",
    "s07_p1_g1, s07_p1_g2 = separate_df(s07, 's')\n",
    "s08_p1_g1, s08_p1_g2 = separate_df(s08, 's')\n",
    "s09_p1_g1, s09_p1_g2 = separate_df(s09, 's')\n",
    "\n",
    "\n"
   ]
  },
  {
   "cell_type": "code",
   "execution_count": null,
   "metadata": {},
   "outputs": [],
   "source": [
    "#s01_p1_g1_count = s01_p1_g1['probability'].value_counts(sort=False)\n",
    "s01_p1_g2_count = s01_p1_g2['probability'].value_counts(sort=False)\n",
    "s02_p1_g1_count = s02_p1_g1['probability'].value_counts(sort=False) #no second game\n",
    "s03_p1_g1_count = s03_p1_g1['probability'].value_counts(sort=False)\n",
    "s03_p1_g2_count = s03_p1_g2['probability'].value_counts(sort=False)\n",
    "s05_p1_g1_count = s05_p1_g1['probability'].value_counts(sort=False)\n",
    "s05_p1_g2_count = s05_p1_g2['probability'].value_counts(sort=False)\n",
    "s06_p1_g1_count = s06_p1_g1['probability'].value_counts(sort=False)\n",
    "s06_p1_g2_count = s06_p1_g2['probability'].value_counts(sort=False)\n",
    "s07_p1_g1_count = s07_p1_g1['probability'].value_counts(sort=False)\n",
    "s07_p1_g2_count = s07_p1_g2['probability'].value_counts(sort=False)\n",
    "s08_p1_g1_count = s08_p1_g1['probability'].value_counts(sort=False)\n",
    "s08_p1_g2_count = s08_p1_g2['probability'].value_counts(sort=False)\n",
    "s09_p1_g1_count = s09_p1_g1['probability'].value_counts(sort=False)\n",
    "s09_p1_g2_count = s09_p1_g2['probability'].value_counts(sort=False)"
   ]
  },
  {
   "cell_type": "code",
   "execution_count": null,
   "metadata": {},
   "outputs": [],
   "source": [
    "#s_g1_counts = pd.DataFrame([s01_p1_g1_count, s02_p1_g1_count, s03_p1_g1_count, \n",
    "                            s05_p1_g1_count, s06_p1_g1_count, s07_p1_g1_count, s08_p1_g1_count, s09_p1_g1_count],\n",
    "                         #title of columns index=['s01_p1_g1_count', 's02_p1_g1_count', 's03_p1_g1_count', \n",
    "                            's05_p1_g1_count', 's06_p1_g1_count', 's07_p1_g1_count', 's08_p1_g1_count', 's09_p1_g1_count'])"
   ]
  },
  {
   "cell_type": "code",
   "execution_count": null,
   "metadata": {},
   "outputs": [],
   "source": []
  },
  {
   "cell_type": "markdown",
   "metadata": {},
   "source": [
    "# Choices in G1 and G2"
   ]
  },
  {
   "cell_type": "code",
   "execution_count": null,
   "metadata": {},
   "outputs": [],
   "source": [
    "c_g1_counts"
   ]
  },
  {
   "cell_type": "code",
   "execution_count": null,
   "metadata": {},
   "outputs": [],
   "source": [
    "s_g1_counts = s_g1_counts.drop(['s02_p1_g1_count'])"
   ]
  },
  {
   "cell_type": "code",
   "execution_count": null,
   "metadata": {
    "scrolled": true
   },
   "outputs": [],
   "source": [
    "s_g1_counts_bar = s_g1_counts.plot.bar()"
   ]
  },
  {
   "cell_type": "code",
   "execution_count": null,
   "metadata": {},
   "outputs": [],
   "source": [
    "s_g1_counts_box = sns.boxplot( \n",
    "                 data=s_g1_counts, \n",
    "                 width=0.5,\n",
    "                 palette=\"pastel\")\n",
    "s_g1_counts_box.axes.set_title(\"Single Player Choice Distributions in Game 1\",\n",
    "                    fontsize=16)\n",
    "\n",
    "plot_file_name=\"s_g1_counts_box.jpg\"\n",
    " \n",
    "plt.ylim(0, 100)\n",
    "s_g1_counts_box.axes.set(xlabel='Arm',ylabel='Frequency')\n",
    "\n",
    "# save as jpeg\n",
    "s_g1_counts_box.figure.savefig(plot_file_name,\n",
    "                    format='jpeg',\n",
    "                    dpi=100)"
   ]
  },
  {
   "cell_type": "code",
   "execution_count": null,
   "metadata": {},
   "outputs": [],
   "source": [
    "#make a value counts graph for hannah"
   ]
  },
  {
   "cell_type": "code",
   "execution_count": null,
   "metadata": {},
   "outputs": [],
   "source": [
    "#low is the 30 hole (corresponds to 0)\n",
    "s_g1_low = np.mean(s_g1_counts.iloc[:,0])"
   ]
  },
  {
   "cell_type": "code",
   "execution_count": null,
   "metadata": {},
   "outputs": [],
   "source": [
    "#med if the 60 hole\n",
    "s_g1_med = np.mean(s_g1_counts.iloc[:,1])"
   ]
  },
  {
   "cell_type": "code",
   "execution_count": null,
   "metadata": {},
   "outputs": [],
   "source": [
    "#high is the 90 hole\n",
    "s_g1_high = np.mean(s_g1_counts.iloc[:,2])"
   ]
  },
  {
   "cell_type": "code",
   "execution_count": null,
   "metadata": {},
   "outputs": [],
   "source": [
    "s_g1_low_std = np.std(s_g1_counts.iloc[:,0])\n",
    "s_g1_med_std = np.std(s_g1_counts.iloc[:,1])\n",
    "s_g1_high_std = np.std(s_g1_counts.iloc[:,2])"
   ]
  },
  {
   "cell_type": "code",
   "execution_count": null,
   "metadata": {},
   "outputs": [],
   "source": [
    "#print\n",
    "s_g1_low"
   ]
  },
  {
   "cell_type": "code",
   "execution_count": null,
   "metadata": {},
   "outputs": [],
   "source": [
    "s_g1_med"
   ]
  },
  {
   "cell_type": "code",
   "execution_count": null,
   "metadata": {},
   "outputs": [],
   "source": [
    "s_g1_high"
   ]
  },
  {
   "cell_type": "code",
   "execution_count": null,
   "metadata": {},
   "outputs": [],
   "source": [
    "s_g2_counts = pd.DataFrame([s01_p1_g2_count, s03_p1_g2_count, \n",
    "                            s05_p1_g2_count, s06_p1_g2_count, s07_p1_g2_count, s08_p1_g2_count, s09_p1_g2_count],\n",
    "                          index=['s01_p1_g2_count', 's03_p1_g2_count', 's05_p1_g2_count', 's06_p1_g2_count', 's07_p1_g2_count', 's08_p1_g2_count', 's09_p1_g2_count'])"
   ]
  },
  {
   "cell_type": "code",
   "execution_count": null,
   "metadata": {},
   "outputs": [],
   "source": [
    "s05_p1_g2_count = s05_p1_g2['probability'].value_counts(sort=False)"
   ]
  },
  {
   "cell_type": "code",
   "execution_count": null,
   "metadata": {},
   "outputs": [],
   "source": [
    "s_g2_counts_box = sns.boxplot( \n",
    "                 data=s_g2_counts, \n",
    "                 width=0.5,\n",
    "                 palette=\"pastel\")\n",
    "s_g2_counts_box.axes.set_title(\"Single Player Choice Distributions in Game 2\",\n",
    "                    fontsize=16)\n",
    "\n",
    "plot_file_name=\"s_g2_counts_box.jpg\"\n",
    " \n",
    "plt.ylim(0, 100)\n",
    "s_g2_counts_box.axes.set(xlabel='Arm',ylabel='Frequency')\n",
    "\n",
    "# save as jpeg\n",
    "s_g2_counts_box.figure.savefig(plot_file_name,\n",
    "                    format='jpeg',\n",
    "                    dpi=100)"
   ]
  },
  {
   "cell_type": "code",
   "execution_count": null,
   "metadata": {},
   "outputs": [],
   "source": [
    "pip install researchpy"
   ]
  },
  {
   "cell_type": "code",
   "execution_count": null,
   "metadata": {},
   "outputs": [],
   "source": [
    "import researchpy as rp"
   ]
  },
  {
   "cell_type": "code",
   "execution_count": null,
   "metadata": {},
   "outputs": [],
   "source": [
    "s_60_1 = np.array(s_g1_counts.iloc[:,1])\n",
    "s_60_2 = np.array(s_g2_counts.iloc[:,1])"
   ]
  },
  {
   "cell_type": "code",
   "execution_count": null,
   "metadata": {},
   "outputs": [],
   "source": [
    "s_g2_counts"
   ]
  },
  {
   "cell_type": "code",
   "execution_count": null,
   "metadata": {},
   "outputs": [],
   "source": [
    "s_60_1"
   ]
  },
  {
   "cell_type": "code",
   "execution_count": null,
   "metadata": {},
   "outputs": [],
   "source": [
    "#number of times 60 hole was chosen\n",
    "s_60_2 = [13,21,0,6,22,11,31]"
   ]
  },
  {
   "cell_type": "code",
   "execution_count": null,
   "metadata": {},
   "outputs": [],
   "source": [
    "s_30_1 = np.array(s_g1_counts.iloc[:,0])\n",
    "s_30_2 = [31,20,0,0,13,6,8]"
   ]
  },
  {
   "cell_type": "code",
   "execution_count": null,
   "metadata": {},
   "outputs": [],
   "source": [
    "s_30_1"
   ]
  },
  {
   "cell_type": "code",
   "execution_count": null,
   "metadata": {},
   "outputs": [],
   "source": [
    "s_30_2"
   ]
  },
  {
   "cell_type": "code",
   "execution_count": null,
   "metadata": {},
   "outputs": [],
   "source": [
    "s_60_p = sp.stats.ttest_rel(s_60_1,s_60_2)"
   ]
  },
  {
   "cell_type": "code",
   "execution_count": null,
   "metadata": {},
   "outputs": [],
   "source": [
    "s_30_p = sp.stats.ttest_rel(s_30_1,s_30_2)"
   ]
  },
  {
   "cell_type": "code",
   "execution_count": null,
   "metadata": {},
   "outputs": [],
   "source": [
    "s_60_p"
   ]
  },
  {
   "cell_type": "code",
   "execution_count": null,
   "metadata": {},
   "outputs": [],
   "source": [
    "s_30_p"
   ]
  },
  {
   "cell_type": "code",
   "execution_count": null,
   "metadata": {},
   "outputs": [],
   "source": [
    "#CHANGE NaN to 0?"
   ]
  },
  {
   "cell_type": "code",
   "execution_count": null,
   "metadata": {},
   "outputs": [],
   "source": [
    "#maximizing and matching?"
   ]
  },
  {
   "cell_type": "code",
   "execution_count": null,
   "metadata": {},
   "outputs": [],
   "source": [
    "s_g2_counts_bar = s_g2_counts.plot.bar()"
   ]
  },
  {
   "cell_type": "code",
   "execution_count": null,
   "metadata": {},
   "outputs": [],
   "source": [
    "s_g2_low = np.mean(s_g2_counts.iloc[:,0])\n",
    "s_g2_med = np.mean(s_g2_counts.iloc[:,1])\n",
    "s_g2_high = np.mean(s_g2_counts.iloc[:,2])"
   ]
  },
  {
   "cell_type": "code",
   "execution_count": null,
   "metadata": {},
   "outputs": [],
   "source": [
    "s_g2_low_std = np.std(s_g2_counts.iloc[:,0])\n",
    "s_g2_med_std = np.std(s_g2_counts.iloc[:,1])\n",
    "s_g2_high_std = np.std(s_g2_counts.iloc[:,2])"
   ]
  },
  {
   "cell_type": "code",
   "execution_count": null,
   "metadata": {},
   "outputs": [],
   "source": [
    "s_g2_low"
   ]
  },
  {
   "cell_type": "code",
   "execution_count": null,
   "metadata": {},
   "outputs": [],
   "source": [
    "s_g2_med"
   ]
  },
  {
   "cell_type": "code",
   "execution_count": null,
   "metadata": {},
   "outputs": [],
   "source": [
    "s_g2_high"
   ]
  },
  {
   "cell_type": "code",
   "execution_count": null,
   "metadata": {},
   "outputs": [],
   "source": [
    "s_scores_1_mean"
   ]
  },
  {
   "cell_type": "code",
   "execution_count": null,
   "metadata": {},
   "outputs": [],
   "source": [
    "s_scores_2_mean"
   ]
  },
  {
   "cell_type": "markdown",
   "metadata": {},
   "source": [
    "# Joint Analysis"
   ]
  },
  {
   "cell_type": "code",
   "execution_count": null,
   "metadata": {},
   "outputs": [],
   "source": [
    "df = organize_trial_by_trial('data/j01_gamedata.csv')\n",
    "j01 = df\n",
    "j01_p1_g1_score,j01_p1_g2_score,j01_p2_g1_score,j01_p2_g2_score,j01_p1_diff,j01_p2_diff = call_get_score(j01, 'j')\n",
    "j01.head()"
   ]
  },
  {
   "cell_type": "code",
   "execution_count": null,
   "metadata": {},
   "outputs": [],
   "source": [
    "df = organize_trial_by_trial('data/j02_gamedata.csv')\n",
    "j02 = df\n",
    "j02_p1_g1_score,j02_p1_g2_score,j02_p2_g1_score,j02_p2_g2_score,j02_p1_diff,j02_p2_diff = call_get_score(j02, 'j')\n",
    "j02.head()"
   ]
  },
  {
   "cell_type": "code",
   "execution_count": null,
   "metadata": {},
   "outputs": [],
   "source": [
    "df = organize_trial_by_trial('data/j03_gamedata.csv')\n",
    "j03 = df\n",
    "j03_p1_g1_score,j03_p1_g2_score,j03_p2_g1_score,j03_p2_g2_score,j03_p1_diff,j03_p2_diff = call_get_score(j03, 'j')\n",
    "j03.head()"
   ]
  },
  {
   "cell_type": "code",
   "execution_count": null,
   "metadata": {},
   "outputs": [],
   "source": [
    "df = organize_trial_by_trial('data/j04_gamedata.csv')\n",
    "j04 = df\n",
    "j04_p1_g1_score,j04_p1_g2_score,j04_p2_g1_score,j04_p2_g2_score,j04_p1_diff,j04_p2_diff = call_get_score(j04, 'j')\n",
    "j04.head()"
   ]
  },
  {
   "cell_type": "code",
   "execution_count": null,
   "metadata": {},
   "outputs": [],
   "source": [
    "df = organize_trial_by_trial('data/j05_gamedata.csv')\n",
    "j05 = df\n",
    "j05_p1_g1_score,j05_p1_g2_score,j05_p2_g1_score,j05_p2_g2_score,j05_p1_diff,j05_p2_diff = call_get_score(j05, 'j')\n",
    "j05.head()"
   ]
  },
  {
   "cell_type": "code",
   "execution_count": null,
   "metadata": {},
   "outputs": [],
   "source": [
    "df = organize_trial_by_trial('data/j06_gamedata.csv')\n",
    "j06 = df\n",
    "j06_p1_g1_score,j06_p1_g2_score,j06_p2_g1_score,j06_p2_g2_score,j06_p1_diff,j06_p2_diff = call_get_score(j06, 'j')\n",
    "j06.head()"
   ]
  },
  {
   "cell_type": "code",
   "execution_count": null,
   "metadata": {},
   "outputs": [],
   "source": [
    "df = organize_trial_by_trial('data/j07_gamedata.csv')\n",
    "j07 = df\n",
    "j07_p1_g1_score,j07_p1_g2_score,j07_p2_g1_score,j07_p2_g2_score,j07_p1_diff,j07_p2_diff = call_get_score(j07, 'j')\n",
    "j07.head()"
   ]
  },
  {
   "cell_type": "code",
   "execution_count": null,
   "metadata": {},
   "outputs": [],
   "source": [
    "df = organize_trial_by_trial('data/j08_gamedata.csv')\n",
    "j08 = df\n",
    "j08_p1_g1_score,j08_p1_g2_score,j08_p2_g1_score,j08_p2_g2_score,j08_p1_diff,j08_p2_diff = call_get_score(j08, 'j')\n",
    "j08.head()"
   ]
  },
  {
   "cell_type": "markdown",
   "metadata": {},
   "source": [
    "# Scores in G1 and G2"
   ]
  },
  {
   "cell_type": "code",
   "execution_count": null,
   "metadata": {},
   "outputs": [],
   "source": [
    "j_scores_1 = pd.DataFrame({'participant':['j01_p1_g1_score','j01_p2_g1_score','j02_p1_g1_score','j02_p2_g1_score','j03_p1_g1_score','j03_p2_g1_score','j04_p1_g1_score',\n",
    "      'j04_p2_g1_score','j05_p1_g1_score','j05_p2_g1_score','j06_p1_g1_score','j06_p2_g1_score','j07_p1_g1_score','j07_p2_g1_score',\n",
    "      'j08_p1_g1_score', 'j08_p2_g1_score'], 'score':\n",
    "     [j01_p1_g1_score,j01_p2_g1_score,j02_p1_g1_score,j02_p2_g1_score,j03_p1_g1_score,j03_p2_g1_score,j04_p1_g1_score,\n",
    "      j04_p2_g1_score,j05_p1_g1_score,j05_p2_g1_score,j06_p1_g1_score,j06_p2_g1_score,j07_p1_g1_score,j07_p2_g1_score,\n",
    "      j08_p1_g1_score, j08_p2_g1_score]})\n",
    "#j_scores_1.set_index('participant', inplace=True, drop=True)\n",
    "j_scores_2 = pd.DataFrame({'participant':['j01_p1_g2_score','j01_p2_g2_score','j02_p1_g2_score','j02_p2_g2_score','j03_p1_g2_score','j03_p2_g2_score','j04_p1_g2_score',\n",
    "      'j04_p2_g2_score','j05_p1_g2_score','j05_p2_g2_score','j06_p1_g2_score','j06_p2_g2_score','j07_p1_g2_score','j07_p2_g2_score',\n",
    "      'j08_p1_g2_score', 'j08_p2_g2_score'], 'score':\n",
    "     [j01_p1_g2_score,j01_p2_g2_score,j02_p1_g2_score,j02_p2_g2_score,j03_p1_g2_score,j03_p2_g2_score,j04_p1_g2_score,\n",
    "      j04_p2_g2_score,j05_p1_g2_score,j05_p2_g2_score,j06_p1_g2_score,j06_p2_g2_score,j07_p1_g2_score,j07_p2_g2_score,\n",
    "      j08_p1_g2_score, j08_p2_g2_score]})\n",
    "#j_scores_2.set_index('participant', inplace=True, drop=True)\n",
    "#s_scores_1 = pd.DataFrame(data = d1)\n",
    "#s_scores_2 = pd.DataFrame(data = d2)\n",
    "j_scores_1"
   ]
  },
  {
   "cell_type": "code",
   "execution_count": null,
   "metadata": {},
   "outputs": [],
   "source": [
    "j_scores_2"
   ]
  },
  {
   "cell_type": "code",
   "execution_count": null,
   "metadata": {},
   "outputs": [],
   "source": [
    "#j_scroes = j_scores_1.merge(j_scores_2, how='outer', left_index=True, right_index=True)\n",
    "j_scores = pd.concat([j_scores_1,j_scores_2],axis=1,sort=False)"
   ]
  },
  {
   "cell_type": "code",
   "execution_count": null,
   "metadata": {},
   "outputs": [],
   "source": [
    "j_scores"
   ]
  },
  {
   "cell_type": "code",
   "execution_count": null,
   "metadata": {},
   "outputs": [],
   "source": [
    "j_scores = j_scores.drop(columns=\"participant\")"
   ]
  },
  {
   "cell_type": "code",
   "execution_count": null,
   "metadata": {},
   "outputs": [],
   "source": [
    "j_scores_med = j_scores.median()\n",
    "s_scores_med = s_scores.median()"
   ]
  },
  {
   "cell_type": "code",
   "execution_count": null,
   "metadata": {},
   "outputs": [],
   "source": [
    "j_scores_med"
   ]
  },
  {
   "cell_type": "code",
   "execution_count": null,
   "metadata": {},
   "outputs": [],
   "source": [
    "s_scores_med"
   ]
  },
  {
   "cell_type": "code",
   "execution_count": null,
   "metadata": {},
   "outputs": [],
   "source": [
    "j_scores.columns=['Game 1','Game 2']"
   ]
  },
  {
   "cell_type": "code",
   "execution_count": null,
   "metadata": {},
   "outputs": [],
   "source": [
    "j_scores_box = j_scores.boxplot(labels=['Game 1','Game 2'])\n",
    "plt.grid(b=None)\n",
    "plt.yticks(np.arange(50, 105, step=10))"
   ]
  },
  {
   "cell_type": "code",
   "execution_count": null,
   "metadata": {},
   "outputs": [],
   "source": [
    "s_scores_box = s_scores.boxplot(labels=['Game 1','Game 2'])\n",
    "plt.grid(b=None)\n",
    "plt.yticks(np.arange(50, 105, step=10))"
   ]
  },
  {
   "cell_type": "code",
   "execution_count": null,
   "metadata": {},
   "outputs": [],
   "source": [
    "j_scores_box = sns.boxplot( \n",
    "                 data=j_scores, \n",
    "                 width=0.5,\n",
    "                 palette=\"pastel\")\n",
    "j_scores_box.axes.set_title(\"Multiplayer Scores\",\n",
    "                    fontsize=16)\n",
    "j_scores_box.axes.set(ylabel='Score')\n",
    "plt.ylim(0, 100)\n",
    "j_scores_box.axes.set(xlabel='Arm',ylabel='Frequency')\n",
    "\n",
    "# save as jpeg\n",
    "j_scores_box.figure.savefig(plot_file_name,\n",
    "                    format='jpeg',\n",
    "                    dpi=100)"
   ]
  },
  {
   "cell_type": "code",
   "execution_count": null,
   "metadata": {},
   "outputs": [],
   "source": [
    "scores_p_1 = sp.stats.ttest_ind(j_scores_1['score'],s_scores_1['score'])"
   ]
  },
  {
   "cell_type": "code",
   "execution_count": null,
   "metadata": {},
   "outputs": [],
   "source": [
    "scores_p_2 = sp.stats.ttest_ind(j_scores_2['score'],s_scores_2['score'])"
   ]
  },
  {
   "cell_type": "code",
   "execution_count": null,
   "metadata": {},
   "outputs": [],
   "source": [
    "scores_p_1"
   ]
  },
  {
   "cell_type": "code",
   "execution_count": null,
   "metadata": {},
   "outputs": [],
   "source": [
    "scores_p_2"
   ]
  },
  {
   "cell_type": "code",
   "execution_count": null,
   "metadata": {},
   "outputs": [],
   "source": [
    "j_scores_p = sp.stats.ttest_rel(j_scores_1['score'],j_scores_2['score'])"
   ]
  },
  {
   "cell_type": "code",
   "execution_count": null,
   "metadata": {},
   "outputs": [],
   "source": [
    "j_scores_p"
   ]
  },
  {
   "cell_type": "code",
   "execution_count": null,
   "metadata": {},
   "outputs": [],
   "source": [
    "s_scores_p"
   ]
  },
  {
   "cell_type": "code",
   "execution_count": null,
   "metadata": {},
   "outputs": [],
   "source": [
    "plot_file_name=\"j_score_box.jpg\"\n",
    " \n",
    "# save as jpeg\n",
    "j_scores_box.figure.savefig(plot_file_name,\n",
    "                    format='jpeg',\n",
    "                    dpi=100)\n"
   ]
  },
  {
   "cell_type": "code",
   "execution_count": null,
   "metadata": {},
   "outputs": [],
   "source": [
    "j_scores_1_mean = j_scores_1.mean()"
   ]
  },
  {
   "cell_type": "code",
   "execution_count": null,
   "metadata": {},
   "outputs": [],
   "source": [
    "j_scores_1_std = j_scores_1.std()"
   ]
  },
  {
   "cell_type": "code",
   "execution_count": null,
   "metadata": {},
   "outputs": [],
   "source": [
    "j_scores_2_mean = j_scores_2.mean()"
   ]
  },
  {
   "cell_type": "code",
   "execution_count": null,
   "metadata": {},
   "outputs": [],
   "source": [
    "j_scores_1_mean"
   ]
  },
  {
   "cell_type": "code",
   "execution_count": null,
   "metadata": {},
   "outputs": [],
   "source": [
    "j_scores_2_mean"
   ]
  },
  {
   "cell_type": "code",
   "execution_count": null,
   "metadata": {},
   "outputs": [],
   "source": [
    "j_scores_2_std = j_scores_2.std()"
   ]
  },
  {
   "cell_type": "code",
   "execution_count": null,
   "metadata": {},
   "outputs": [],
   "source": [
    "j_scores_1_std"
   ]
  },
  {
   "cell_type": "code",
   "execution_count": null,
   "metadata": {},
   "outputs": [],
   "source": [
    "#combine g1 and g2 to one dataframe\n",
    "j_combo = j_scores_1.append(j_scores_2)"
   ]
  },
  {
   "cell_type": "code",
   "execution_count": null,
   "metadata": {},
   "outputs": [],
   "source": [
    "j_combo"
   ]
  },
  {
   "cell_type": "code",
   "execution_count": null,
   "metadata": {},
   "outputs": [],
   "source": [
    "#hypothesis: scores lower for same gender pairs: male-male"
   ]
  },
  {
   "cell_type": "code",
   "execution_count": null,
   "metadata": {},
   "outputs": [],
   "source": [
    "scores_f = pd.DataFrame([j03_p1_g1_score,j03_p1_g2_score,j03_p2_g1_score,j03_p2_g2_score,j04_p1_g1_score,\n",
    "            j04_p1_g2_score,j04_p2_g1_score,j04_p2_g2_score,j07_p1_g1_score,j07_p1_g2_score,j07_p2_g1_score,\n",
    "            j07_p2_g2_score,j08_p1_g1_score,j08_p1_g2_score,j08_p2_g1_score,j08_p2_g2_score])"
   ]
  },
  {
   "cell_type": "code",
   "execution_count": null,
   "metadata": {},
   "outputs": [],
   "source": [
    "scores_mix = pd.DataFrame([j01_p1_g1_score,j01_p1_g2_score,j01_p2_g1_score,j01_p2_g2_score,j02_p1_g1_score,\n",
    "            j02_p1_g2_score,j02_p2_g1_score,j02_p2_g2_score,j05_p1_g1_score,j05_p1_g2_score,j05_p2_g1_score,\n",
    "            j05_p2_g2_score,j05_p1_g1_score,j05_p1_g2_score,j05_p2_g1_score,j05_p2_g2_score,j06_p1_g1_score,\n",
    "            j06_p1_g2_score,j06_p2_g1_score,j06_p2_g2_score])"
   ]
  },
  {
   "cell_type": "code",
   "execution_count": null,
   "metadata": {},
   "outputs": [],
   "source": [
    "#m_mean=scores_m.mean()\n",
    "f_mean=scores_f.mean()\n",
    "mix_mean=scores_mix.mean()"
   ]
  },
  {
   "cell_type": "code",
   "execution_count": null,
   "metadata": {},
   "outputs": [],
   "source": [
    "#m_mean"
   ]
  },
  {
   "cell_type": "code",
   "execution_count": null,
   "metadata": {},
   "outputs": [],
   "source": [
    "f_mean"
   ]
  },
  {
   "cell_type": "code",
   "execution_count": null,
   "metadata": {},
   "outputs": [],
   "source": [
    "mix_mean"
   ]
  },
  {
   "cell_type": "code",
   "execution_count": null,
   "metadata": {},
   "outputs": [],
   "source": [
    "j_combo = j_combo.sort_values(by=['participant'])"
   ]
  },
  {
   "cell_type": "code",
   "execution_count": null,
   "metadata": {},
   "outputs": [],
   "source": [
    "j_combo_bar = j_combo.plot(kind='bar',color=colors)"
   ]
  },
  {
   "cell_type": "code",
   "execution_count": null,
   "metadata": {},
   "outputs": [],
   "source": [
    "j_score_diff = pd.DataFrame({'participant':['j01_p1','j01_p2','j02_p1','j02_p2','j03_p1','j03_p2','j04_p1','j04_p2',\n",
    "                                          'j05_p1','j05_p2','j06_p1','j06_p2','j07_p1','j07_p2','j06_p1','j06_p2'], 'score_diff':\n",
    "     [j01_p1_diff,j01_p2_diff,j02_p1_diff,j02_p2_diff,j03_p1_diff,j03_p2_diff,j04_p1_diff,j04_p2_diff,\n",
    "     j05_p1_diff,j05_p2_diff,j06_p1_diff,j06_p2_diff,j07_p1_diff,j07_p2_diff,j08_p1_diff,j08_p2_diff]})"
   ]
  },
  {
   "cell_type": "code",
   "execution_count": null,
   "metadata": {},
   "outputs": [],
   "source": [
    "j_score_diff"
   ]
  },
  {
   "cell_type": "code",
   "execution_count": null,
   "metadata": {},
   "outputs": [],
   "source": [
    "#impairs learning?"
   ]
  },
  {
   "cell_type": "code",
   "execution_count": null,
   "metadata": {},
   "outputs": [],
   "source": [
    "#pattern within sessions for score_diff?\n",
    "#5 ppl did worse second time; joint interfered with learning"
   ]
  },
  {
   "cell_type": "code",
   "execution_count": null,
   "metadata": {},
   "outputs": [],
   "source": [
    "j_score_diff_mean = j_score_diff['score_diff'].mean()"
   ]
  },
  {
   "cell_type": "code",
   "execution_count": null,
   "metadata": {},
   "outputs": [],
   "source": [
    "j_score_diff_mean"
   ]
  },
  {
   "cell_type": "code",
   "execution_count": null,
   "metadata": {},
   "outputs": [],
   "source": [
    "j01_p1_g1, j01_p1_g2, j01_p2_g1, j01_p2_g2 = separate_df(j01, 'j')\n",
    "j02_p1_g1, j02_p1_g2, j02_p2_g1, j02_p2_g2 = separate_df(j02, 'j')\n",
    "j03_p1_g1, j03_p1_g2, j03_p2_g1, j03_p2_g2 = separate_df(j03, 'j')\n",
    "j04_p1_g1, j04_p1_g2, j04_p2_g1, j04_p2_g2 = separate_df(j04, 'j')\n",
    "j05_p1_g1, j05_p1_g2, j05_p2_g1, j05_p2_g2 = separate_df(j05, 'j')\n",
    "j06_p1_g1, j06_p1_g2, j06_p2_g1, j06_p2_g2 = separate_df(j06, 'j')\n",
    "j07_p1_g1, j07_p1_g2, j07_p2_g1, j07_p2_g2 = separate_df(j07, 'j')\n",
    "j08_p1_g1, j08_p1_g2, j08_p2_g1, j08_p2_g2 = separate_df(j08, 'j')"
   ]
  },
  {
   "cell_type": "markdown",
   "metadata": {},
   "source": [
    "# Choice Distributions"
   ]
  },
  {
   "cell_type": "code",
   "execution_count": null,
   "metadata": {},
   "outputs": [],
   "source": [
    "j01_p1_g1_count = j01_p1_g1['probability'].value_counts(sort=False)\n",
    "j01_p1_g2_count = j01_p1_g2['probability'].value_counts(sort=False)\n",
    "j01_p2_g1_count = j01_p2_g1['probability'].value_counts(sort=False)\n",
    "j01_p2_g2_count = j01_p2_g2['probability'].value_counts(sort=False)\n",
    "j02_p1_g1_count = j02_p1_g1['probability'].value_counts(sort=False)\n",
    "j02_p1_g2_count = j02_p1_g2['probability'].value_counts(sort=False)\n",
    "j02_p2_g1_count = j02_p2_g1['probability'].value_counts(sort=False)\n",
    "j02_p2_g2_count = j02_p2_g2['probability'].value_counts(sort=False)\n",
    "j03_p1_g1_count = j03_p1_g1['probability'].value_counts(sort=False)\n",
    "j03_p1_g2_count = j03_p1_g2['probability'].value_counts(sort=False)\n",
    "j03_p2_g1_count = j03_p2_g1['probability'].value_counts(sort=False)\n",
    "j03_p2_g2_count = j03_p2_g2['probability'].value_counts(sort=False)\n",
    "j04_p1_g1_count = j04_p1_g1['probability'].value_counts(sort=False)\n",
    "j04_p1_g2_count = j04_p1_g2['probability'].value_counts(sort=False)\n",
    "j04_p2_g1_count = j04_p2_g1['probability'].value_counts(sort=False)\n",
    "j04_p2_g2_count = j04_p2_g2['probability'].value_counts(sort=False)\n",
    "j05_p1_g1_count = j05_p1_g1['probability'].value_counts(sort=False)\n",
    "j05_p1_g2_count = j05_p1_g2['probability'].value_counts(sort=False)\n",
    "j05_p2_g1_count = j05_p2_g1['probability'].value_counts(sort=False)\n",
    "j05_p2_g2_count = j05_p2_g2['probability'].value_counts(sort=False)\n",
    "j06_p1_g1_count = j06_p1_g1['probability'].value_counts(sort=False)\n",
    "j06_p1_g2_count = j06_p1_g2['probability'].value_counts(sort=False)\n",
    "j06_p2_g1_count = j06_p2_g1['probability'].value_counts(sort=False)\n",
    "j06_p2_g2_count = j06_p2_g2['probability'].value_counts(sort=False)\n",
    "j07_p1_g1_count = j07_p1_g1['probability'].value_counts(sort=False)\n",
    "j07_p1_g2_count = j07_p1_g2['probability'].value_counts(sort=False)\n",
    "j07_p2_g1_count = j06_p2_g1['probability'].value_counts(sort=False)\n",
    "j07_p2_g2_count = j06_p2_g2['probability'].value_counts(sort=False)\n",
    "j08_p1_g1_count = j08_p1_g1['probability'].value_counts(sort=False)\n",
    "j08_p1_g2_count = j08_p1_g2['probability'].value_counts(sort=False)\n",
    "j08_p2_g1_count = j08_p2_g1['probability'].value_counts(sort=False)\n",
    "j08_p2_g2_count = j08_p2_g2['probability'].value_counts(sort=False)"
   ]
  },
  {
   "cell_type": "code",
   "execution_count": null,
   "metadata": {},
   "outputs": [],
   "source": [
    "j01_p1_g1_count"
   ]
  },
  {
   "cell_type": "code",
   "execution_count": null,
   "metadata": {},
   "outputs": [],
   "source": [
    "j01_p1_g2_count"
   ]
  },
  {
   "cell_type": "code",
   "execution_count": null,
   "metadata": {},
   "outputs": [],
   "source": [
    "j01_p2_g1_count"
   ]
  },
  {
   "cell_type": "code",
   "execution_count": null,
   "metadata": {},
   "outputs": [],
   "source": [
    "j01_p2_g2_count"
   ]
  },
  {
   "cell_type": "code",
   "execution_count": null,
   "metadata": {},
   "outputs": [],
   "source": [
    "j02_p1_g1_count"
   ]
  },
  {
   "cell_type": "code",
   "execution_count": null,
   "metadata": {
    "scrolled": true
   },
   "outputs": [],
   "source": [
    "j02_p1_g2_count"
   ]
  },
  {
   "cell_type": "code",
   "execution_count": null,
   "metadata": {},
   "outputs": [],
   "source": [
    "j02_p2_g1_count"
   ]
  },
  {
   "cell_type": "code",
   "execution_count": null,
   "metadata": {},
   "outputs": [],
   "source": [
    "j02_p2_g2_count"
   ]
  },
  {
   "cell_type": "code",
   "execution_count": null,
   "metadata": {},
   "outputs": [],
   "source": [
    "j03_p1_g1_count"
   ]
  },
  {
   "cell_type": "code",
   "execution_count": null,
   "metadata": {},
   "outputs": [],
   "source": [
    "j03_p1_g2_count"
   ]
  },
  {
   "cell_type": "code",
   "execution_count": null,
   "metadata": {},
   "outputs": [],
   "source": [
    "j03_p2_g1_count"
   ]
  },
  {
   "cell_type": "code",
   "execution_count": null,
   "metadata": {},
   "outputs": [],
   "source": [
    "j03_p2_g2_count"
   ]
  },
  {
   "cell_type": "code",
   "execution_count": null,
   "metadata": {},
   "outputs": [],
   "source": [
    "j_g1_counts = pd.DataFrame([j01_p1_g1_count, j01_p2_g1_count, j02_p1_g1_count, j02_p2_g1_count, \n",
    "                            j03_p1_g1_count, j03_p2_g1_count, j04_p1_g1_count, j04_p2_g1_count,\n",
    "                           j05_p1_g1_count,j05_p2_g1_count, j06_p1_g1_count, j06_p2_g1_count, j07_p1_g1_count, \n",
    "                            j07_p2_g1_count, j08_p1_g1_count, j08_p2_g1_count],\n",
    "                          index=['j01_p1_g1_count', 'j01_p2_g1_count', 'j02_p1_g1_count', 'j02_p2_g1_count', \n",
    "                            'j03_p1_g1_count', 'j03_p2_g1_count', 'j04_p1_g1_count', 'j04_p2_g1_count',\n",
    "                           'j05_p1_g1_count','j05_p2_g1_count', 'j06_p1_g1_count', 'j06_p2_g1_count', 'j07_p1_g1_count', \n",
    "                            'j07_p2_g1_count', 'j08_p1_g1_count', 'j08_p2_g1_count'])"
   ]
  },
  {
   "cell_type": "code",
   "execution_count": null,
   "metadata": {
    "scrolled": true
   },
   "outputs": [],
   "source": [
    "j_g1_counts"
   ]
  },
  {
   "cell_type": "code",
   "execution_count": null,
   "metadata": {},
   "outputs": [],
   "source": [
    "j_g1_low = np.mean(j_g1_counts.iloc[:,0])\n",
    "j_g1_med = np.mean(j_g1_counts.iloc[:,1])\n",
    "j_g1_high = np.mean(j_g1_counts.iloc[:,2])\n",
    "\n",
    "j_g1_low_std = np.std(j_g1_counts.iloc[:,0])\n",
    "j_g1_med_std = np.std(j_g1_counts.iloc[:,1])\n",
    "j_g1_high_std = np.std(j_g1_counts.iloc[:,2])"
   ]
  },
  {
   "cell_type": "code",
   "execution_count": null,
   "metadata": {},
   "outputs": [],
   "source": [
    "j_g1_low"
   ]
  },
  {
   "cell_type": "code",
   "execution_count": null,
   "metadata": {},
   "outputs": [],
   "source": [
    "j_g1_med"
   ]
  },
  {
   "cell_type": "code",
   "execution_count": null,
   "metadata": {},
   "outputs": [],
   "source": [
    "j_g1_high"
   ]
  },
  {
   "cell_type": "code",
   "execution_count": null,
   "metadata": {},
   "outputs": [],
   "source": [
    "#social matching"
   ]
  },
  {
   "cell_type": "code",
   "execution_count": null,
   "metadata": {},
   "outputs": [],
   "source": [
    "j_g2_counts = pd.DataFrame([j01_p1_g2_count, j01_p2_g2_count, j02_p1_g2_count, j02_p2_g2_count, \n",
    "                            j03_p1_g2_count, j03_p2_g2_count, j04_p1_g2_count, j04_p2_g2_count,\n",
    "                           j05_p1_g2_count,j05_p2_g2_count, j06_p1_g2_count, j06_p2_g2_count, j07_p1_g2_count, \n",
    "                            j07_p2_g2_count, j08_p1_g2_count, j08_p2_g2_count],\n",
    "                          index=['j01_p1_g2_count', 'j01_p2_g2_count', 'j02_p1_g2_count', 'j02_p2_g2_count', \n",
    "                            'j03_p1_g2_count', 'j03_p2_g2_count', 'j04_p1_g2_count', 'j04_p2_g2_count',\n",
    "                           'j05_p1_g2_count','j05_p2_g2_count', 'j06_p1_g2_count', 'j06_p2_g2_count', 'j07_p1_g2_count', \n",
    "                            'j07_p2_g2_count', 'j08_p1_g2_count', 'j08_p2_g2_count'])"
   ]
  },
  {
   "cell_type": "code",
   "execution_count": null,
   "metadata": {},
   "outputs": [],
   "source": [
    "j_g2_counts"
   ]
  },
  {
   "cell_type": "code",
   "execution_count": null,
   "metadata": {},
   "outputs": [],
   "source": [
    "j_60_p = sp.stats.ttest_rel(j_g1_counts.iloc[:,1],j_g2_counts.iloc[:,1])"
   ]
  },
  {
   "cell_type": "code",
   "execution_count": null,
   "metadata": {},
   "outputs": [],
   "source": [
    "j_60_p"
   ]
  },
  {
   "cell_type": "code",
   "execution_count": null,
   "metadata": {},
   "outputs": [],
   "source": [
    "j_30_p = sp.stats.ttest_rel(j_g1_counts.iloc[:,0],j_g2_counts.iloc[:,0])"
   ]
  },
  {
   "cell_type": "code",
   "execution_count": null,
   "metadata": {},
   "outputs": [],
   "source": [
    "j_30_p"
   ]
  },
  {
   "cell_type": "code",
   "execution_count": null,
   "metadata": {},
   "outputs": [],
   "source": [
    "j_g2_low = np.mean(j_g2_counts.iloc[:,0])\n",
    "j_g2_med = np.mean(j_g2_counts.iloc[:,1])\n",
    "j_g2_high = np.mean(j_g2_counts.iloc[:,2])\n",
    "\n",
    "j_g2_low_std = np.std(j_g2_counts.iloc[:,0])\n",
    "j_g2_med_std = np.std(j_g2_counts.iloc[:,1])\n",
    "j_g2_high_std = np.std(j_g2_counts.iloc[:,2])"
   ]
  },
  {
   "cell_type": "code",
   "execution_count": null,
   "metadata": {},
   "outputs": [],
   "source": [
    "j_g2_low"
   ]
  },
  {
   "cell_type": "code",
   "execution_count": null,
   "metadata": {},
   "outputs": [],
   "source": [
    "j_g2_med"
   ]
  },
  {
   "cell_type": "code",
   "execution_count": null,
   "metadata": {},
   "outputs": [],
   "source": [
    "j_g2_high"
   ]
  },
  {
   "cell_type": "code",
   "execution_count": null,
   "metadata": {},
   "outputs": [],
   "source": [
    "j_g1_counts_bar = j_g1_counts.plot.bar()"
   ]
  },
  {
   "cell_type": "code",
   "execution_count": null,
   "metadata": {},
   "outputs": [],
   "source": [
    "j_g2_counts_bar = j_g2_counts.plot.bar()"
   ]
  },
  {
   "cell_type": "code",
   "execution_count": null,
   "metadata": {},
   "outputs": [],
   "source": [
    "j_g1_counts_box = sns.boxplot( \n",
    "                 data=j_g1_counts, \n",
    "                 width=0.5,\n",
    "                 palette=\"pastel\")\n",
    "j_g1_counts_box.axes.set_title(\"Multiplayer Choice Distributions in Game 1\",\n",
    "                    fontsize=16)\n",
    "\n",
    "plot_file_name=\"j_g1_counts_box.jpg\"\n",
    "\n",
    "plt.ylim(0, 100)\n",
    "j_g1_counts_box.axes.set(xlabel='Arm',ylabel='Frequency')\n",
    "\n",
    "# save as jpeg\n",
    "j_g1_counts_box.figure.savefig(plot_file_name,\n",
    "                    format='jpeg',\n",
    "                    dpi=100)"
   ]
  },
  {
   "cell_type": "code",
   "execution_count": null,
   "metadata": {},
   "outputs": [],
   "source": [
    "j_g2_counts_box = sns.boxplot( \n",
    "                 data=j_g2_counts, \n",
    "                 width=0.5,\n",
    "                 palette=\"pastel\")\n",
    "j_g2_counts_box.axes.set_title(\"Multiplayer Choice Distributions in Game 2\",\n",
    "                    fontsize=16)\n",
    "\n",
    "plot_file_name=\"j_g2_counts_box.jpg\"\n",
    "\n",
    "plt.ylim(0, 100)\n",
    "j_g2_counts_box.axes.set(xlabel='Arm',ylabel='Frequency')\n",
    "\n",
    "# save as jpeg\n",
    "j_g2_counts_box.figure.savefig(plot_file_name,\n",
    "                    format='jpeg',\n",
    "                    dpi=100)"
   ]
  },
  {
   "cell_type": "code",
   "execution_count": null,
   "metadata": {},
   "outputs": [],
   "source": [
    "hannah_counts = pd.DataFrame([s08_p1_g1_count,s08_p1_g2_count,s09_p1_g1_count,s09_p1_g2_count,j01_p1_g1_count,\n",
    "                              j01_p1_g2_count,j01_p2_g1_count,j01_p2_g2_count,j05_p1_g1_count,j05_p1_g2_count,j05_p1_g1_count,\n",
    "                              j05_p2_g2_count],\n",
    "                          index=['s08 Game 1','s08 Game 2','s09 Game 1','s09 Game 2','j01_1 Game 1','j01_1 Game 2',\n",
    "                                'j01_2 Game 1','j01_2 Game 2','j05_1 Game 1','j05_1 Game 2','j05_2 Game 1','j05_2 Game 2'])"
   ]
  },
  {
   "cell_type": "code",
   "execution_count": null,
   "metadata": {},
   "outputs": [],
   "source": [
    "hannah_counts"
   ]
  },
  {
   "cell_type": "code",
   "execution_count": null,
   "metadata": {},
   "outputs": [],
   "source": [
    "hannah_counts.to_pickle('hannah_counts_table.pkl')"
   ]
  },
  {
   "cell_type": "code",
   "execution_count": null,
   "metadata": {},
   "outputs": [],
   "source": [
    "hannah_counts_bar = hannah_counts.plot.bar(title='Choice Distributions')\n",
    "plt.tight_layout()\n",
    "plt.savefig('hannah_counts.eps',format='eps',dpi=1000)"
   ]
  },
  {
   "cell_type": "markdown",
   "metadata": {},
   "source": [
    "# Combined Tables"
   ]
  },
  {
   "cell_type": "code",
   "execution_count": null,
   "metadata": {},
   "outputs": [],
   "source": [
    "#NEEDS WORK\n",
    "scores_df = pd.DataFrame({'score':[s_scores_1_mean, s_scores_2_mean, j_scores_1_mean, j_scores_2_mean],\n",
    "                       'std':[s_scores_1_std,s_scores_2_std,j_scores_1_std,j_scores_2_std]},index = ['s_1','s_2',\n",
    "                                                                                                     'j_1', 'j_2'])"
   ]
  },
  {
   "cell_type": "code",
   "execution_count": null,
   "metadata": {},
   "outputs": [],
   "source": [
    "s_scores_1_mean"
   ]
  },
  {
   "cell_type": "code",
   "execution_count": null,
   "metadata": {},
   "outputs": [],
   "source": [
    "pd.to_numeric(s_scores_1_mean)"
   ]
  },
  {
   "cell_type": "code",
   "execution_count": null,
   "metadata": {},
   "outputs": [],
   "source": [
    "scores_df"
   ]
  },
  {
   "cell_type": "code",
   "execution_count": null,
   "metadata": {},
   "outputs": [],
   "source": [
    "counts_df = pd.DataFrame({'low':[s_g1_low,s_g2_low,j_g1_low,j_g2_low],'medium':[s_g1_med,s_g2_med,j_g1_med,j_g2_med],\n",
    "                          'high':[s_g1_high,s_g2_high,j_g1_high,j_g2_high]},index = ['s_1','s_2','j_1', 'j_2'])\n",
    "#add standard deviations"
   ]
  },
  {
   "cell_type": "code",
   "execution_count": null,
   "metadata": {},
   "outputs": [],
   "source": [
    "counts_df"
   ]
  },
  {
   "cell_type": "code",
   "execution_count": null,
   "metadata": {},
   "outputs": [],
   "source": [
    "#j learn to favor medium over the low in game 2"
   ]
  },
  {
   "cell_type": "code",
   "execution_count": null,
   "metadata": {},
   "outputs": [],
   "source": [
    "counts_std_df = pd.DataFrame({'low':[s_g1_low_std,s_g2_low_std,j_g1_low_std,j_g2_low_std],'medium':[s_g1_med_std,s_g2_med_std,j_g1_med_std,j_g2_med_std],\n",
    "                          'high':[s_g1_high_std,s_g2_high_std,j_g1_high_std,j_g2_high_std]},index = ['s_1','s_2','j_1', 'j_2'])"
   ]
  },
  {
   "cell_type": "code",
   "execution_count": null,
   "metadata": {},
   "outputs": [],
   "source": [
    "counts_std_df"
   ]
  },
  {
   "cell_type": "code",
   "execution_count": null,
   "metadata": {},
   "outputs": [],
   "source": [
    "#high deviations in high and med in game 2\n",
    "#evidence of 2 subgroups?"
   ]
  },
  {
   "cell_type": "markdown",
   "metadata": {},
   "source": [
    "# Maximizing/Matching"
   ]
  },
  {
   "cell_type": "code",
   "execution_count": null,
   "metadata": {},
   "outputs": [],
   "source": [
    "scores"
   ]
  },
  {
   "cell_type": "code",
   "execution_count": null,
   "metadata": {},
   "outputs": [],
   "source": [
    "def jsd(p, q, base=np.e):\n",
    "    '''\n",
    "        Implementation of pairwise `jsd` based on  \n",
    "        https://en.wikipedia.org/wiki/Jensen%E2%80%93Shannon_divergence\n",
    "    '''\n",
    "    ## convert to np.array\n",
    "    p, q = np.asarray(p), np.asarray(q)\n",
    "    ## normalize p, q to probabilities\n",
    "    p, q = p/p.sum(), q/q.sum()\n",
    "    m = 1./2*(p + q)\n",
    "    return sp.stats.entropy(p,m, base=base)/2. +  sp.stats.entropy(q, m, base=base)/2."
   ]
  },
  {
   "cell_type": "code",
   "execution_count": null,
   "metadata": {},
   "outputs": [],
   "source": [
    "#are ppl using a strategy similar to their partner's?\n",
    "#calls jsd for p1 and p2 and for p1 and p2 with the mean\n",
    "def compare_strat(p1,p2):\n",
    "    strat = jsd(p1,p2)\n",
    "    comp_1 = jsd(p1,[j_g1_low,j_g1_med,j_g1_high])\n",
    "    comp_2 = jsd(p2,[j_g1_low,j_g1_med,j_g1_high])\n",
    "    return strat, comp_1, comp_2"
   ]
  },
  {
   "cell_type": "code",
   "execution_count": null,
   "metadata": {},
   "outputs": [],
   "source": [
    "#jsd_1_strat"
   ]
  },
  {
   "cell_type": "code",
   "execution_count": null,
   "metadata": {},
   "outputs": [],
   "source": [
    "#jsd_1_comp"
   ]
  },
  {
   "cell_type": "code",
   "execution_count": null,
   "metadata": {},
   "outputs": [],
   "source": [
    "maximize = [0,0,100]\n",
    "match = [30/180 * 100,60/180 * 100,50]"
   ]
  },
  {
   "cell_type": "code",
   "execution_count": null,
   "metadata": {},
   "outputs": [],
   "source": [
    "def call_jsd(counts):\n",
    "    maxi = jsd(counts,maximize)\n",
    "    matchi = jsd(counts,match)\n",
    "    return maxi,matchi"
   ]
  },
  {
   "cell_type": "code",
   "execution_count": null,
   "metadata": {},
   "outputs": [],
   "source": [
    "social_max = [0, 100, 0]\n",
    "social_match = [30/180 * 100,30/180 * 100, 30/180 * 100]"
   ]
  },
  {
   "cell_type": "code",
   "execution_count": null,
   "metadata": {},
   "outputs": [],
   "source": [
    "def call_jsd_social(counts):\n",
    "    maxi = jsd(counts,social_max)\n",
    "    matchi = jsd(counts,social_match)\n",
    "    return maxi,matchi"
   ]
  },
  {
   "cell_type": "code",
   "execution_count": null,
   "metadata": {},
   "outputs": [],
   "source": [
    "s01_p1_g1_count"
   ]
  },
  {
   "cell_type": "code",
   "execution_count": null,
   "metadata": {},
   "outputs": [],
   "source": [
    "from scipy import stats"
   ]
  },
  {
   "cell_type": "code",
   "execution_count": null,
   "metadata": {},
   "outputs": [],
   "source": [
    "#test = jsd(maximize,match)"
   ]
  },
  {
   "cell_type": "code",
   "execution_count": null,
   "metadata": {},
   "outputs": [],
   "source": [
    "#test"
   ]
  },
  {
   "cell_type": "code",
   "execution_count": null,
   "metadata": {},
   "outputs": [],
   "source": [
    "s01 = 'match'"
   ]
  },
  {
   "cell_type": "code",
   "execution_count": null,
   "metadata": {},
   "outputs": [],
   "source": [
    "s05_p1_g2_count"
   ]
  },
  {
   "cell_type": "code",
   "execution_count": null,
   "metadata": {},
   "outputs": [],
   "source": [
    "s05_p1_g2_count = [11,0,89]"
   ]
  },
  {
   "cell_type": "code",
   "execution_count": null,
   "metadata": {},
   "outputs": [],
   "source": [
    "s01_g1_max,s01_g1_match = call_jsd(s01_p1_g1_count)\n",
    "s01_g2_max,s01_g2_match = call_jsd(s01_p1_g2_count)\n",
    "s02_g1_max,s02_g1_match = call_jsd(s02_p1_g1_count)\n",
    "s03_g1_max,s03_g1_match = call_jsd(s03_p1_g1_count)\n",
    "s03_g2_max,s03_g2_match = call_jsd(s03_p1_g2_count)\n",
    "s05_g1_max,s05_g1_match = call_jsd(s05_p1_g1_count)\n",
    "s05_g2_max,s05_g2_match = call_jsd(s05_p1_g2_count)\n",
    "s06_g1_max,s06_g1_match = call_jsd(s06_p1_g1_count)\n",
    "s06_g2_max,s06_g2_match = call_jsd([0,6,74])\n",
    "s07_g1_max,s07_g1_match = call_jsd(s07_p1_g1_count)\n",
    "s07_g2_max,s07_g2_match = call_jsd(s07_p1_g2_count)\n",
    "s08_g1_max,s08_g1_match = call_jsd(s08_p1_g1_count)\n",
    "s08_g2_max,s08_g2_match = call_jsd(s08_p1_g2_count)\n",
    "s09_g1_max,s09_g1_match = call_jsd(s09_p1_g1_count)\n",
    "s09_g2_max,s09_g2_match = call_jsd(s09_p1_g2_count)"
   ]
  },
  {
   "cell_type": "code",
   "execution_count": null,
   "metadata": {},
   "outputs": [],
   "source": [
    "s06_p1_g2_count"
   ]
  },
  {
   "cell_type": "code",
   "execution_count": null,
   "metadata": {},
   "outputs": [],
   "source": [
    "s_jsd_g1 = pd.DataFrame({'max':[s01_g1_max,s02_g1_max,s03_g1_max,s05_g1_max,s06_g1_max,s07_g1_max,s08_g1_max,\n",
    "                                s09_g1_max],\n",
    "                      'match':[s01_g1_match,s02_g1_match,s03_g1_match,s05_g1_match\n",
    "                               ,s06_g1_match,s07_g1_match,s08_g1_match,s09_g1_match]},\n",
    "                        index=['s01', 's02', 's03','s05','s06','s07','s08','s09'])"
   ]
  },
  {
   "cell_type": "code",
   "execution_count": null,
   "metadata": {},
   "outputs": [],
   "source": [
    "s_jsd_g2 = pd.DataFrame({'max':[s01_g2_max,s03_g2_max,s05_g2_max,s06_g2_max,s07_g2_max,s08_g2_max,\n",
    "                                s09_g2_max],\n",
    "                      'match':[s01_g2_match,s03_g2_match,s05_g2_match\n",
    "                               ,s06_g2_match,s07_g2_match,s08_g2_match,s09_g2_match]},\n",
    "                        index=['s01', 's03','s05','s06','s07','s08','s09'])"
   ]
  },
  {
   "cell_type": "code",
   "execution_count": null,
   "metadata": {},
   "outputs": [],
   "source": [
    "#NOT WORKING\n",
    "def check_type(df,*social):\n",
    "    types = pd.DataFrame(index=['type'])\n",
    "    for index,row in df.iterrows():\n",
    "        maxi = row[\"max\"]\n",
    "        matchi = row[\"match\"]\n",
    "        print(index,maxi,matchi)\n",
    "        if maxi < matchi:\n",
    "            print('maxi')\n",
    "            types = types.append({'type' : 'maxi'},ignore_index=True)\n",
    "            #types[index,'type'] = 'max'\n",
    "            num = maxi\n",
    "        elif matchi < maxi:\n",
    "            print('matchi')\n",
    "            types = types.append({'type' : 'matchi'},ignore_index=True)\n",
    "            num = matchi\n",
    "        else:\n",
    "            types = types.append({'type' : 'neither'},ignore_index=True)\n",
    "            num = 1\n",
    "        if social == True:\n",
    "            if num >= jsd(social_max,social_match):\n",
    "                types = types.append({'type' : 'neither'},ignore_index=True)\n",
    "        else:\n",
    "            if num >= jsd(maximize,match):\n",
    "                types = types.append({'type' : 'neither'},ignore_index=True)\n",
    "    return types"
   ]
  },
  {
   "cell_type": "code",
   "execution_count": null,
   "metadata": {},
   "outputs": [],
   "source": [
    "#s_jsd.apply(check_type,axis=1)"
   ]
  },
  {
   "cell_type": "code",
   "execution_count": null,
   "metadata": {
    "scrolled": true
   },
   "outputs": [],
   "source": [
    "#s_types_g1 = check_type(s_jsd_g1)"
   ]
  },
  {
   "cell_type": "code",
   "execution_count": null,
   "metadata": {},
   "outputs": [],
   "source": [
    "#s_types_g2 = check_type(s_jsd_g1)"
   ]
  },
  {
   "cell_type": "code",
   "execution_count": null,
   "metadata": {},
   "outputs": [],
   "source": [
    "#s_types_g1.drop([0])"
   ]
  },
  {
   "cell_type": "code",
   "execution_count": null,
   "metadata": {},
   "outputs": [],
   "source": [
    "#s_types_g2.drop([0])"
   ]
  },
  {
   "cell_type": "code",
   "execution_count": null,
   "metadata": {},
   "outputs": [],
   "source": [
    "threshold = jsd(maximize,match)"
   ]
  },
  {
   "cell_type": "code",
   "execution_count": null,
   "metadata": {},
   "outputs": [],
   "source": [
    "threshold"
   ]
  },
  {
   "cell_type": "code",
   "execution_count": null,
   "metadata": {},
   "outputs": [],
   "source": [
    "s_jsd_g1"
   ]
  },
  {
   "cell_type": "code",
   "execution_count": null,
   "metadata": {},
   "outputs": [],
   "source": [
    "s_jsd_g2"
   ]
  },
  {
   "cell_type": "code",
   "execution_count": null,
   "metadata": {},
   "outputs": [],
   "source": [
    "j01_p1_g1_max,j01_p1_g1_match = call_jsd(j01_p1_g1_count)\n",
    "j01_p1_g2_max,j01_p1_g2_match = call_jsd(j01_p1_g2_count)\n",
    "j01_p2_g1_max,j01_p2_g1_match = call_jsd(j01_p2_g1_count)\n",
    "j01_p2_g2_max,j01_p2_g2_match = call_jsd(j01_p2_g2_count)\n",
    "j02_p1_g1_max,j02_p1_g1_match = call_jsd(j02_p1_g1_count)\n",
    "j02_p1_g2_max,j02_p1_g2_match = call_jsd(j02_p1_g2_count)\n",
    "j02_p2_g1_max,j02_p2_g1_match = call_jsd(j02_p2_g1_count)\n",
    "j02_p2_g2_max,j02_p2_g2_match = call_jsd(j02_p2_g2_count)\n",
    "j03_p1_g1_max,j03_p1_g1_match = call_jsd(j03_p1_g1_count)\n",
    "j03_p1_g2_max,j03_p1_g2_match = call_jsd(j03_p1_g2_count)\n",
    "j03_p2_g1_max,j03_p2_g1_match = call_jsd(j03_p2_g1_count)\n",
    "j03_p2_g2_max,j03_p2_g2_match = call_jsd(j03_p2_g2_count)\n",
    "j04_p1_g1_max,j04_p1_g1_match = call_jsd(j04_p1_g1_count)\n",
    "j04_p1_g2_max,j04_p1_g2_match = call_jsd(j04_p1_g2_count)\n",
    "j04_p2_g1_max,j04_p2_g1_match = call_jsd(j04_p2_g1_count)\n",
    "j04_p2_g2_max,j04_p2_g2_match = call_jsd(j04_p2_g2_count)\n",
    "j05_p1_g1_max,j05_p1_g1_match = call_jsd(j05_p1_g1_count)\n",
    "j05_p1_g2_max,j05_p1_g2_match = call_jsd(j05_p1_g2_count)\n",
    "j05_p2_g1_max,j05_p2_g1_match = call_jsd(j05_p2_g1_count)\n",
    "j05_p2_g2_max,j05_p2_g2_match = call_jsd(j05_p2_g2_count)\n",
    "j06_p1_g1_max,j06_p1_g1_match = call_jsd(j06_p1_g1_count)\n",
    "j06_p1_g2_max,j06_p1_g2_match = call_jsd(j06_p1_g2_count)\n",
    "j06_p2_g1_max,j06_p2_g1_match = call_jsd(j06_p2_g1_count)\n",
    "j06_p2_g2_max,j06_p2_g2_match = call_jsd(j06_p2_g2_count)\n",
    "j07_p1_g1_max,j07_p1_g1_match = call_jsd(j07_p1_g1_count)\n",
    "j07_p1_g2_max,j07_p1_g2_match = call_jsd(j07_p1_g2_count)\n",
    "j07_p2_g1_max,j07_p2_g1_match = call_jsd(j07_p2_g1_count)\n",
    "j07_p2_g2_max,j07_p2_g2_match = call_jsd(j07_p2_g2_count)\n",
    "j08_p1_g1_max,j08_p1_g1_match = call_jsd(j08_p1_g1_count)\n",
    "j08_p1_g2_max,j08_p1_g2_match = call_jsd(j08_p1_g2_count)\n",
    "j08_p2_g1_max,j08_p2_g1_match = call_jsd(j08_p2_g1_count)\n",
    "j08_p2_g2_max,j08_p2_g2_match = call_jsd(j08_p2_g2_count)"
   ]
  },
  {
   "cell_type": "code",
   "execution_count": null,
   "metadata": {},
   "outputs": [],
   "source": [
    "j_jsd_g1 = pd.DataFrame({'max':[j01_p1_g1_max,j01_p2_g1_max,j02_p1_g1_max,j02_p2_g1_max,j03_p1_g1_max,j03_p2_g1_max,\n",
    "                             j04_p1_g1_max,j04_p2_g1_max,j05_p1_g1_max,j05_p2_g1_max,j06_p1_g1_max,j06_p2_g1_max,\n",
    "                             j07_p1_g1_max,j07_p2_g1_max,j08_p1_g1_max,j08_p2_g1_max],\n",
    "                      'match':[j01_p1_g1_match,j01_p2_g1_match,j02_p1_g1_match,\n",
    "                               j02_p2_g1_match,j03_p1_g1_match,j03_p2_g1_match,\n",
    "                               j04_p1_g1_match,j04_p2_g1_match,j05_p1_g1_match,\n",
    "                               j05_p2_g1_match,j06_p1_g1_match,j06_p2_g1_match,\n",
    "                               j07_p1_g1_match,j07_p2_g1_match,j08_p1_g1_match,j08_p2_g1_match]}, \n",
    "                        index=['j01', 'j01', 'j02', 'j02', 'j03', 'j03','j04', 'j04','j05', 'j05',\n",
    "                               'j06', 'j06','j07','j07','j08','j08'])"
   ]
  },
  {
   "cell_type": "code",
   "execution_count": null,
   "metadata": {},
   "outputs": [],
   "source": [
    "j_jsd_g2 = pd.DataFrame({'max':[j01_p1_g2_max,j01_p2_g2_max,j02_p1_g2_max,j02_p2_g2_max,j03_p1_g2_max,j03_p2_g2_max,\n",
    "                             j04_p1_g2_max,j04_p2_g2_max,j05_p1_g2_max,j05_p2_g2_max,j06_p1_g2_max,j06_p2_g2_max,\n",
    "                             j07_p1_g2_max,j07_p2_g2_max,j08_p1_g2_max,j08_p2_g2_max],\n",
    "                      'match':[j01_p1_g2_match,j01_p2_g2_match,j02_p1_g2_match,\n",
    "                               j02_p2_g2_match,j03_p1_g2_match,j03_p2_g2_match,\n",
    "                               j04_p1_g2_match,j04_p2_g2_match,j05_p1_g2_match,\n",
    "                               j05_p2_g2_match,j06_p1_g2_match,j06_p2_g2_match,\n",
    "                               j07_p1_g2_match,j07_p2_g2_match,j08_p1_g2_match,j08_p2_g2_match]}, \n",
    "                        index=['j01', 'j01', 'j02', 'j02', 'j03', 'j03','j04', 'j04','j05', 'j05',\n",
    "                               'j06', 'j06','j07','j07','j08','j08'])"
   ]
  },
  {
   "cell_type": "code",
   "execution_count": null,
   "metadata": {},
   "outputs": [],
   "source": [
    "#j_types_g1 = check_type(j_jsd_g1)"
   ]
  },
  {
   "cell_type": "code",
   "execution_count": null,
   "metadata": {},
   "outputs": [],
   "source": [
    "#j_types_g2 = check_type(j_jsd_g2)"
   ]
  },
  {
   "cell_type": "code",
   "execution_count": null,
   "metadata": {},
   "outputs": [],
   "source": [
    "#j_types_g1.drop([0])"
   ]
  },
  {
   "cell_type": "code",
   "execution_count": null,
   "metadata": {},
   "outputs": [],
   "source": [
    "#j_types_g2.drop([0])"
   ]
  },
  {
   "cell_type": "code",
   "execution_count": null,
   "metadata": {
    "scrolled": false
   },
   "outputs": [],
   "source": [
    "j_jsd_g1"
   ]
  },
  {
   "cell_type": "code",
   "execution_count": null,
   "metadata": {},
   "outputs": [],
   "source": [
    "j_jsd_g2"
   ]
  },
  {
   "cell_type": "code",
   "execution_count": null,
   "metadata": {},
   "outputs": [],
   "source": [
    "#same for joint using \"social\""
   ]
  },
  {
   "cell_type": "code",
   "execution_count": null,
   "metadata": {},
   "outputs": [],
   "source": [
    "j01_p1_g1_max,j01_p1_g1_match = call_jsd_social(j01_p1_g1_count)\n",
    "j01_p1_g2_max,j01_p1_g2_match = call_jsd_social(j01_p1_g2_count)\n",
    "j01_p2_g1_max,j01_p2_g1_match = call_jsd_social(j01_p2_g1_count)\n",
    "j01_p2_g2_max,j01_p2_g2_match = call_jsd_social(j01_p2_g2_count)\n",
    "j02_p1_g1_max,j02_p1_g1_match = call_jsd_social(j02_p1_g1_count)\n",
    "j02_p1_g2_max,j02_p1_g2_match = call_jsd_social(j02_p1_g2_count)\n",
    "j02_p2_g1_max,j02_p2_g1_match = call_jsd_social(j02_p2_g1_count)\n",
    "j02_p2_g2_max,j02_p2_g2_match = call_jsd_social(j02_p2_g2_count)\n",
    "j03_p1_g1_max,j03_p1_g1_match = call_jsd_social(j03_p1_g1_count)\n",
    "j03_p1_g2_max,j03_p1_g2_match = call_jsd_social(j03_p1_g2_count)\n",
    "j03_p2_g1_max,j03_p2_g1_match = call_jsd_social(j03_p2_g1_count)\n",
    "j03_p2_g2_max,j03_p2_g2_match = call_jsd_social(j03_p2_g2_count)\n",
    "j04_p1_g1_max,j04_p1_g1_match = call_jsd_social(j04_p1_g1_count)\n",
    "j04_p1_g2_max,j04_p1_g2_match = call_jsd_social(j04_p1_g2_count)\n",
    "j04_p2_g1_max,j04_p2_g1_match = call_jsd_social(j04_p2_g1_count)\n",
    "j04_p2_g2_max,j04_p2_g2_match = call_jsd_social(j04_p2_g2_count)\n",
    "j05_p1_g1_max,j05_p1_g1_match = call_jsd_social(j05_p1_g1_count)\n",
    "j05_p1_g2_max,j05_p1_g2_match = call_jsd_social(j05_p1_g2_count)\n",
    "j05_p2_g1_max,j05_p2_g1_match = call_jsd_social(j05_p2_g1_count)\n",
    "j05_p2_g2_max,j05_p2_g2_match = call_jsd_social(j05_p2_g2_count)\n",
    "j06_p1_g1_max,j06_p1_g1_match = call_jsd_social(j06_p1_g1_count)\n",
    "j06_p1_g2_max,j06_p1_g2_match = call_jsd_social(j06_p1_g2_count)\n",
    "j06_p2_g1_max,j06_p2_g1_match = call_jsd_social(j06_p2_g1_count)\n",
    "j06_p2_g2_max,j06_p2_g2_match = call_jsd_social(j06_p2_g2_count)\n",
    "j07_p1_g1_max,j07_p1_g1_match = call_jsd_social(j07_p1_g1_count)\n",
    "j07_p1_g2_max,j07_p1_g2_match = call_jsd_social(j07_p1_g2_count)\n",
    "j07_p2_g1_max,j07_p2_g1_match = call_jsd_social(j07_p2_g1_count)\n",
    "j07_p2_g2_max,j07_p2_g2_match = call_jsd_social(j07_p2_g2_count)\n",
    "j08_p1_g1_max,j08_p1_g1_match = call_jsd_social(j08_p1_g1_count)\n",
    "j08_p1_g2_max,j08_p1_g2_match = call_jsd_social(j08_p1_g2_count)\n",
    "j08_p2_g1_max,j08_p2_g1_match = call_jsd_social(j08_p2_g1_count)\n",
    "j08_p2_g2_max,j08_p2_g2_match = call_jsd_social(j08_p2_g2_count)"
   ]
  },
  {
   "cell_type": "code",
   "execution_count": null,
   "metadata": {},
   "outputs": [],
   "source": [
    "j_jsd_g1_social = pd.DataFrame({'max':[j01_p1_g1_max,j01_p2_g1_max,j02_p1_g1_max,j02_p2_g1_max,j03_p1_g1_max,j03_p2_g1_max,\n",
    "                             j04_p1_g1_max,j04_p2_g1_max,j05_p1_g1_max,j05_p2_g1_max,j06_p1_g1_max,j06_p2_g1_max,\n",
    "                             j07_p1_g1_max,j07_p2_g1_max,j08_p1_g1_max,j08_p2_g1_max],\n",
    "                      'match':[j01_p1_g1_match,j01_p2_g1_match,j02_p1_g1_match,\n",
    "                               j02_p2_g1_match,j03_p1_g1_match,j03_p2_g1_match,\n",
    "                               j04_p1_g1_match,j04_p2_g1_match,j05_p1_g1_match,\n",
    "                               j05_p2_g1_match,j06_p1_g1_match,j06_p2_g1_match,\n",
    "                               j07_p1_g1_match,j07_p2_g1_match,j08_p1_g1_match,j08_p2_g1_match]}, \n",
    "                        index=['j01', 'j01', 'j02', 'j02', 'j03', 'j03','j04', 'j04','j05', 'j05',\n",
    "                               'j06', 'j06','j07','j07','j08','j08'])"
   ]
  },
  {
   "cell_type": "code",
   "execution_count": null,
   "metadata": {},
   "outputs": [],
   "source": [
    "j_jsd_g2_social = pd.DataFrame({'max':[j01_p1_g2_max,j01_p2_g2_max,j02_p1_g2_max,j02_p2_g2_max,j03_p1_g2_max,j03_p2_g2_max,\n",
    "                             j04_p1_g2_max,j04_p2_g2_max,j05_p1_g2_max,j05_p2_g2_max,j06_p1_g2_max,j06_p2_g2_max,\n",
    "                             j07_p1_g2_max,j07_p2_g2_max,j08_p1_g2_max,j08_p2_g2_max],\n",
    "                      'match':[j01_p1_g2_match,j01_p2_g2_match,j02_p1_g2_match,\n",
    "                               j02_p2_g2_match,j03_p1_g2_match,j03_p2_g2_match,\n",
    "                               j04_p1_g2_match,j04_p2_g2_match,j05_p1_g2_match,\n",
    "                               j05_p2_g2_match,j06_p1_g2_match,j06_p2_g2_match,\n",
    "                               j07_p1_g2_match,j07_p2_g2_match,j08_p1_g2_match,j08_p2_g2_match]}, \n",
    "                        index=['j01', 'j01', 'j02', 'j02', 'j03', 'j03','j04', 'j04','j05', 'j05',\n",
    "                               'j06', 'j06','j07','j07','j08','j08'])"
   ]
  },
  {
   "cell_type": "code",
   "execution_count": null,
   "metadata": {},
   "outputs": [],
   "source": [
    "#j_types_social = check_type(j_jsd_social,True)"
   ]
  },
  {
   "cell_type": "code",
   "execution_count": null,
   "metadata": {},
   "outputs": [],
   "source": [
    "#j_types_social.drop([0])"
   ]
  },
  {
   "cell_type": "code",
   "execution_count": null,
   "metadata": {},
   "outputs": [],
   "source": [
    "#j_jsd_social.drop([0])"
   ]
  },
  {
   "cell_type": "code",
   "execution_count": null,
   "metadata": {},
   "outputs": [],
   "source": [
    "#issue"
   ]
  },
  {
   "cell_type": "code",
   "execution_count": null,
   "metadata": {
    "scrolled": true
   },
   "outputs": [],
   "source": [
    "j_jsd_g1_social"
   ]
  },
  {
   "cell_type": "code",
   "execution_count": null,
   "metadata": {},
   "outputs": [],
   "source": [
    "threshold"
   ]
  },
  {
   "cell_type": "code",
   "execution_count": null,
   "metadata": {},
   "outputs": [],
   "source": [
    "j_jsd_g2_social"
   ]
  },
  {
   "cell_type": "code",
   "execution_count": null,
   "metadata": {},
   "outputs": [],
   "source": [
    "import matplotlib.lines as mlines"
   ]
  },
  {
   "cell_type": "code",
   "execution_count": null,
   "metadata": {},
   "outputs": [],
   "source": [
    "#colors_jsd = [['lightcoral','red','lightcoral','red','bisque','orange','bisque','orange','palegreen','green','palegreen','green',\n",
    "              #'lightblue','blue','lightblue','blue','mediumslateblue','indigo','mediumslateblue','indigo','lightpink','deeppink',\n",
    "              #'lightpink','deeppink','yellow','gold','yellow','gold','lightgray','gray','lightgray','gray']              "
   ]
  },
  {
   "cell_type": "code",
   "execution_count": null,
   "metadata": {},
   "outputs": [],
   "source": [
    "import itertools"
   ]
  },
  {
   "cell_type": "code",
   "execution_count": null,
   "metadata": {},
   "outputs": [],
   "source": [
    "colors_jsd_j = ['red','lightcoral','orange','darkorange','green','palegreen',\n",
    "              'blue','darkblue','hotpink','pink','purple','plum','peru','saddlebrown','gray','lightgray']\n",
    "colors_jsd_s_g1 = ['red','orange','green','blue','pink','purple','peru','cyan']\n",
    "colors_jsd_s_g2 = ['red','green','blue','pink','purple','peru','cyan']\n",
    "markers_jsd = ['o','v','o','v','o','v','o','v','o','v','o','v','o','v','o','v','o','v','o','v','o','v','o','v'\n",
    "          'o','v','o','v','o','v','o','v']\n",
    "colors"
   ]
  },
  {
   "cell_type": "code",
   "execution_count": null,
   "metadata": {},
   "outputs": [],
   "source": [
    "s_jsd_g1.mean()"
   ]
  },
  {
   "cell_type": "code",
   "execution_count": null,
   "metadata": {},
   "outputs": [],
   "source": [
    "j_jsd_g1.mean()"
   ]
  },
  {
   "cell_type": "code",
   "execution_count": null,
   "metadata": {},
   "outputs": [],
   "source": [
    "s_jsd_g2.mean()"
   ]
  },
  {
   "cell_type": "code",
   "execution_count": null,
   "metadata": {},
   "outputs": [],
   "source": [
    "j_jsd_g2.mean()"
   ]
  },
  {
   "cell_type": "code",
   "execution_count": null,
   "metadata": {},
   "outputs": [],
   "source": [
    "import matplotlib.patches as mpatches"
   ]
  },
  {
   "cell_type": "code",
   "execution_count": null,
   "metadata": {},
   "outputs": [],
   "source": [
    "#create proxy artist for legend\n",
    "patches = []\n",
    "for index,row in j_jsd_g1.iterrows():\n",
    "    for i in colors_jsd_j:\n",
    "        patches.append(mpatches.Patch(color=i, label=index))"
   ]
  },
  {
   "cell_type": "markdown",
   "metadata": {},
   "source": [
    "# legend not working"
   ]
  },
  {
   "cell_type": "code",
   "execution_count": null,
   "metadata": {
    "scrolled": true
   },
   "outputs": [],
   "source": [
    "#j_jsd_plot = j_jsd.plot.scatter(x='max',y='match',title='Multi Player JSD Values')\n",
    "#line = mlines.Line2D([0.2148, 0], [0.2148, 1], color='red')\n",
    "#j_jsd_plot.add_line(line)\n",
    "#plt.show()\n",
    "\n",
    "fig, j_jsd_g1_plot = plt.subplots()\n",
    "j_jsd_g1_plot = j_jsd_g1.plot.scatter(x='max',y='match',s=100,c=colors_jsd_j,title='Multiplayer JSD Values Game 1')\n",
    "plt.xticks(np.arange(0, 0.5, step=0.1))\n",
    "plt.yticks(np.arange(0, 0.5, step=0.1))\n",
    "line1 = mlines.Line2D([0, 0.4],[0, 0.4], color='red')\n",
    "#line2 = mlines.Line2D([0,0.8],[0.2148,0.2148])\n",
    "#line2 = mlines.Line2D([0, 0.4],[0.2148, 0.2148], color='red')\n",
    "\n",
    "line2 = mlines.Line2D([0.2148, 0.2148],[-0.03, 0.5], color='red')\n",
    "line3 = mlines.Line2D([-0.03,0.8],[0.2148,0.2148])\n",
    "\n",
    "#transform = ax.transAxes\n",
    "#line2 doesn't show up; all below it?\n",
    "#line.set_transform(transform)\n",
    "j_jsd_g1_plot.add_line(line1)\n",
    "#j_jsd_g1_plot.add_line(line2)\n",
    "#j_jsd_g1_plot.add_line(line3)\n",
    "\n",
    "#plt.legend(handles=patches)\n",
    "plt.savefig('j_jsd_1.eps',format='eps',dpi=1000)\n",
    "plt.show()\n",
    "\n",
    "\n",
    "\n",
    "\n",
    "#color code pairs together"
   ]
  },
  {
   "cell_type": "code",
   "execution_count": null,
   "metadata": {},
   "outputs": [],
   "source": [
    "#j_jsd_plot = j_jsd.plot.scatter(x='max',y='match',title='Multi Player JSD Values')\n",
    "#line = mlines.Line2D([0.2148, 0], [0.2148, 1], color='red')\n",
    "#j_jsd_plot.add_line(line)\n",
    "#plt.show()\n",
    "\n",
    "fig, j_jsd_g2_plot = plt.subplots()\n",
    "j_jsd_g2_plot = j_jsd_g2.plot.scatter(x='max',y='match',s=100,c=colors_jsd_j,title='Multiplayer JSD Values Game 2')\n",
    "plt.xticks(np.arange(0, 0.5, step=0.1))\n",
    "plt.yticks(np.arange(0, 0.5, step=0.1))\n",
    "#line1 = mlines.Line2D([0.2148, 0.2148],[-0.03, 0.5], color='red')\n",
    "#line2 = mlines.Line2D([-0.03,0.8],[0.2148,0.2148])\n",
    "#line2 = mlines.Line2D([0, 0.4],[0.2148, 0.2148], color='red')\n",
    "line1 = mlines.Line2D([-1, 0.4],[-1, 0.4], color='red')\n",
    "#transform = ax.transAxes\n",
    "#line2 doesn't show up; all below it?\n",
    "#line.set_transform(transform)\n",
    "j_jsd_g2_plot.add_line(line1)\n",
    "#j_jsd_g2_plot.add_line(line2)\n",
    "plt.savefig('j_jsd_2.eps',format='eps',dpi=1000)\n",
    "plt.show()\n",
    "\n",
    "\n",
    "#color code pairs together"
   ]
  },
  {
   "cell_type": "code",
   "execution_count": null,
   "metadata": {},
   "outputs": [],
   "source": [
    "s_jsd_g1_plot = s_jsd_g1.plot.scatter(x='max',y='match',s=100,colors=colors_jsd_s_g1,title='Single Player JSD Values Game 1')\n",
    "plt.xticks(np.arange(0, 0.5, step=0.1))\n",
    "plt.yticks(np.arange(0, 0.5, step=0.1))\n",
    "#line1 = mlines.Line2D([0.2148, 0.2148],[-0.03, 0.5], color='red')\n",
    "#line2 = mlines.Line2D([0,0.8],[0.2148,0.2148])\n",
    "\n",
    "line1 = mlines.Line2D([-1, 0.4],[-1, 0.4], color='red')\n",
    "\n",
    "s_jsd_g1_plot.add_line(line1)\n",
    "#s_jsd_g1_plot.add_line(line2)\n",
    "plt.savefig('s_jsd_1.eps',format='eps',dpi=1000)\n",
    "plt.show()"
   ]
  },
  {
   "cell_type": "code",
   "execution_count": null,
   "metadata": {},
   "outputs": [],
   "source": [
    "s_jsd_g2_plot = s_jsd_g2.plot.scatter(x='max',y='match',s=100,colors=colors_jsd_s_g2,title='Single Player JSD Values Game 2')\n",
    "plt.xticks(np.arange(0, 0.5, step=0.1))\n",
    "plt.yticks(np.arange(0, 0.5, step=0.1))\n",
    "#line1 = mlines.Line2D([0.2148, 0.2148],[-0.03, 0.5], color='red')\n",
    "#line2 = mlines.Line2D([0,0.8],[0.2148,0.2148])\n",
    "\n",
    "line1 = mlines.Line2D([0, 0.4],[0, 0.4], color='red')\n",
    "\n",
    "s_jsd_g2_plot.add_line(line1)\n",
    "#s_jsd_g2_plot.add_line(line2)\n",
    "plt.savefig('s_jsd_2.eps',format='eps',dpi=1000)"
   ]
  },
  {
   "cell_type": "code",
   "execution_count": null,
   "metadata": {},
   "outputs": [],
   "source": [
    "threshold_social = jsd(social_max,social_match)"
   ]
  },
  {
   "cell_type": "code",
   "execution_count": null,
   "metadata": {},
   "outputs": [],
   "source": [
    "threshold_social"
   ]
  },
  {
   "cell_type": "code",
   "execution_count": null,
   "metadata": {},
   "outputs": [],
   "source": [
    "j_jsd_g1_social_plot = j_jsd_g1_social.plot.scatter(x='max',y='match',s=100,colors=colors_jsd_j,title='Multi Player JSD Social Values Game 1')\n",
    "plt.xticks(np.arange(0, 0.6, step=0.1))\n",
    "plt.yticks(np.arange(0, 0.6, step=0.1))\n",
    "#line1 = mlines.Line2D([0.3183, 0.3183],[-0.03, 0.55], color='red')\n",
    "#line2 = mlines.Line2D([0, 0.8],[0.3183, 0.3183])\n",
    "#j_jsd_g1_social_plot.add_line(line1)\n",
    "#j_jsd_g1_social_plot.add_line(line2)\n",
    "\n",
    "line1 = mlines.Line2D([0, 0.55],[0, 0.55], color='red')\n",
    "\n",
    "j_jsd_g1_social_plot.add_line(line1)\n",
    "plt.savefig('j_jsd_social_1.eps',format='eps',dpi=1000)\n",
    "#everyone could be classified as a matcher. everyone to the left of the red line could be using both\n",
    "#NEED TO: color differently those who were more of maximizers than matchers!!!"
   ]
  },
  {
   "cell_type": "code",
   "execution_count": null,
   "metadata": {},
   "outputs": [],
   "source": [
    "j_jsd_g2_social_plot = j_jsd_g2_social.plot.scatter(x='max',y='match',s=100,colors=colors_jsd_j,title='Multi Player JSD Social Values Game 2')\n",
    "plt.xticks(np.arange(0, 0.6, step=0.1))\n",
    "plt.yticks(np.arange(0, 0.6, step=0.1))\n",
    "line1 = mlines.Line2D([0, 0.55],[0, 0.55], color='red')\n",
    "\n",
    "j_jsd_g2_social_plot.add_line(line1)\n",
    "plt.savefig('j_jsd_social_2.eps',format='eps',dpi=1000)"
   ]
  },
  {
   "cell_type": "markdown",
   "metadata": {},
   "source": [
    "### NOT WORKING\n",
    "def check_type_3(row):\n",
    "        maxi = row[\"max\"]\n",
    "        matchi = row[\"match\"]\n",
    "        if maxi < matchi:\n",
    "            row['type'] = 'max'\n",
    "            num = maxi\n",
    "        elif matchi < maxi:\n",
    "            row['type'] = 'match'\n",
    "            num = matchi\n",
    "        else:\n",
    "            row['type'] = 'neither'\n",
    "        if num >= jsd(maximize,match):\n",
    "            row['type'] = 'neither'\n",
    "            \n",
    "def check_type_2(df):\n",
    "    for row in df.itertuples(index=True, name='Pandas'):\n",
    "        print(index,row[\"max\"],row[\"match\"])\n",
    "        if row[\"match\"] < row[\"max\"] and row[\"match\"] < jsd(maximize,match):\n",
    "            df.at[index,'type'] = 'match'\n",
    "        elif row[\"max\"] < row[\"match\"] and row[\"max\"] < jsd(maximize,match):\n",
    "            df.at[index,'type'] = 'max'\n",
    "        else:\n",
    "            df.at[index,'type'] = 'neither'"
   ]
  },
  {
   "cell_type": "markdown",
   "metadata": {},
   "source": [
    "# Gender Diff"
   ]
  },
  {
   "cell_type": "code",
   "execution_count": null,
   "metadata": {},
   "outputs": [],
   "source": [
    "reader = csv.reader( open('gender.csv'))\n",
    "data = [row for row in reader]\n",
    "gender = pd.DataFrame(np.array(data))\n",
    "gender = gender.rename(columns = {0:\"participant\", 1:\"gender \"})\n",
    "gender_s = gender.iloc[16:,:]\n",
    "gender_j = gender.iloc[:16,:]\n",
    "gender_s.drop([19])"
   ]
  },
  {
   "cell_type": "code",
   "execution_count": null,
   "metadata": {},
   "outputs": [],
   "source": [
    "gender_s"
   ]
  },
  {
   "cell_type": "code",
   "execution_count": null,
   "metadata": {},
   "outputs": [],
   "source": [
    "gender_j"
   ]
  },
  {
   "cell_type": "code",
   "execution_count": null,
   "metadata": {},
   "outputs": [],
   "source": [
    "gender_s = gender_s.merge(s_scores_1,on='participant')"
   ]
  },
  {
   "cell_type": "code",
   "execution_count": null,
   "metadata": {},
   "outputs": [],
   "source": [
    "gender_s = gender_s.merge(s_scores_2,on='participant')"
   ]
  },
  {
   "cell_type": "code",
   "execution_count": null,
   "metadata": {},
   "outputs": [],
   "source": [
    "gender_s\n",
    "#gender_s.drop(['score'],axis=1)"
   ]
  },
  {
   "cell_type": "code",
   "execution_count": null,
   "metadata": {},
   "outputs": [],
   "source": [
    "gender_s = gender_s.merge(score_diff,on='participant')"
   ]
  },
  {
   "cell_type": "code",
   "execution_count": null,
   "metadata": {},
   "outputs": [],
   "source": [
    "gender_s"
   ]
  },
  {
   "cell_type": "code",
   "execution_count": null,
   "metadata": {},
   "outputs": [],
   "source": [
    "#gender_s_m = gender_s.gender == \"male\"\n",
    "#gender_s['score_x'].mean()"
   ]
  },
  {
   "cell_type": "code",
   "execution_count": null,
   "metadata": {},
   "outputs": [],
   "source": [
    "j_scores_1['participant'] = ['j01a','j01b','j02a','j02b','j03a','j03b','j04a','j04b','j05a','j05b','j06a','j06b',\n",
    "                             'j07a','j07b',\n",
    "                            'j08a','j08b']\n",
    "j_scores_2['participant'] = ['j01a','j01b','j02a','j02b','j03a','j03b','j04a','j04b','j05a','j05b','j06a','j06b',\n",
    "                             'j07a','j07b',\n",
    "                            'j08a','j08b']"
   ]
  },
  {
   "cell_type": "code",
   "execution_count": null,
   "metadata": {},
   "outputs": [],
   "source": [
    "j_score_diff['participant'] = ['j01a','j01b','j02a','j02b','j03a','j03b','j04a','j04b','j05a','j05b','j06a','j06b',\n",
    "                             'j07a','j07b',\n",
    "                            'j08a','j08b']"
   ]
  },
  {
   "cell_type": "code",
   "execution_count": null,
   "metadata": {},
   "outputs": [],
   "source": [
    "j_score_diff"
   ]
  },
  {
   "cell_type": "code",
   "execution_count": null,
   "metadata": {},
   "outputs": [],
   "source": [
    "gender_j = gender_j.merge(j_scores_1,on='participant')\n",
    "#gender_j = gender_j.merge(j_scores_2,on='participant')\n",
    "#gender_j = gender_j.merge(j_score_diff,on='participant')"
   ]
  },
  {
   "cell_type": "code",
   "execution_count": null,
   "metadata": {},
   "outputs": [],
   "source": [
    "gender_j"
   ]
  },
  {
   "cell_type": "code",
   "execution_count": null,
   "metadata": {},
   "outputs": [],
   "source": [
    "gender_j = gender_j.merge(j_scores_2,on='participant')"
   ]
  },
  {
   "cell_type": "code",
   "execution_count": null,
   "metadata": {},
   "outputs": [],
   "source": [
    "gender_j"
   ]
  },
  {
   "cell_type": "code",
   "execution_count": null,
   "metadata": {},
   "outputs": [],
   "source": [
    "gender_j = gender_j.merge(j_score_diff,on='participant')"
   ]
  },
  {
   "cell_type": "code",
   "execution_count": null,
   "metadata": {},
   "outputs": [],
   "source": [
    "gender_j"
   ]
  },
  {
   "cell_type": "code",
   "execution_count": null,
   "metadata": {},
   "outputs": [],
   "source": [
    "#don't remove first 20 trials\n",
    "def organize_trial_by_trial_all(txt_filename):\n",
    "    reader = csv.reader( open(txt_filename))\n",
    "    game_data = [row for row in reader]\n",
    "    df = pd.DataFrame(np.array(game_data))\n",
    "    df = df.T\n",
    "    df = df.rename(columns = {0:\"game number\", 1:\"trial\", 2:\"player\", 3:\"arm\", 4:\"probability\", 5:\"reward\", 6:\"time\", 7:\"P1 score\", 8:\"P2 score\"})\n",
    "    #df = df[40:]\n",
    "    #df = df.drop(columns = 'time') #can comment this out if want to look at time\n",
    "    df = df.apply(pd.to_numeric)\n",
    "    df.head()\n",
    "    \n",
    "    #combining info in the same trial for both players together in the same row\n",
    "    #player1 = df[df['player'] == 1].drop(columns = \"P2 score\").drop(columns = \"player\")\n",
    "    #player1 = player1.reset_index().drop(columns = \"index\")\n",
    "    #player1 = player1.rename(columns = {\"arm\":\"P1 arm\", \"probability\":\"P1 prob\", \"reward\":\"P1 reward\"})\n",
    "\n",
    "    #player2 = df[df['player'] == 2].drop(columns = \"P1 score\").drop(columns = 'trial').drop(columns = 'player')\n",
    "    #player2 = player2.reset_index().drop(columns = \"index\")\n",
    "    #player2 = player2.rename(columns = {\"arm\":\"P2 arm\", \"probability\":\"P2 prob\", \"reward\":\"P2 reward\"})\n",
    "\n",
    "    #result = pd.concat([player1, player2], axis=1, sort=False)\n",
    "    return df"
   ]
  },
  {
   "cell_type": "code",
   "execution_count": null,
   "metadata": {},
   "outputs": [],
   "source": [
    "#don't remove first 20 trials\n",
    "#separate data frames for p1 and p2 \n",
    "def separate_df(df, version):\n",
    "    #df.set_index(df['trial'])\n",
    "    df_p1 = df[df['player'] == 1]\n",
    "    df_p1_g1 = df_p1[df['game number'] == 1]\n",
    "    df_p1_g2 = df_p1[df['game number'] == 2]\n",
    "    #remove first 20 trials for g2\n",
    "    #df_p1_g2 = df_p1_g2[20:]\n",
    "    if version == 's':\n",
    "        return df_p1_g1, df_p1_g2\n",
    "    df_p2 = df[df['player'] ==2 ]\n",
    "    df_p2_g1 = df_p2[df['game number'] == 1]\n",
    "    df_p2_g2 = df_p2[df['game number'] == 2]\n",
    "    return df_p1_g1, df_p1_g2, df_p2_g1, df_p2_g2"
   ]
  },
  {
   "cell_type": "code",
   "execution_count": null,
   "metadata": {},
   "outputs": [],
   "source": [
    "import glob,os"
   ]
  },
  {
   "cell_type": "code",
   "execution_count": null,
   "metadata": {},
   "outputs": [],
   "source": [
    "for filename in glob.iglob('/data/**', recursive=True):\n",
    "    if os.path.isfile(filename): # filter dirs\n",
    "        filename = organize_trial_by_trial_all(filename)"
   ]
  },
  {
   "cell_type": "markdown",
   "metadata": {},
   "source": [
    "# jsd with gender"
   ]
  },
  {
   "cell_type": "code",
   "execution_count": null,
   "metadata": {},
   "outputs": [],
   "source": [
    "colors_jsd_s_g1=['b','b','r','b','b','r','r','r']\n",
    "colors_jsd_s_g2=['b','r','b','b','r','r','r']"
   ]
  },
  {
   "cell_type": "code",
   "execution_count": null,
   "metadata": {},
   "outputs": [],
   "source": [
    "s_jsd_g1_plot = s_jsd_g1.plot.scatter(x='max',y='match',s=100,colors=colors_jsd_s_g1,title='Single Player JSD Values Game 1')\n",
    "plt.xticks(np.arange(0, 0.5, step=0.1))\n",
    "plt.yticks(np.arange(0, 0.5, step=0.1))\n",
    "#line1 = mlines.Line2D([0.2148, 0.2148],[-0.03, 0.5], color='red')\n",
    "#line2 = mlines.Line2D([0,0.8],[0.2148,0.2148])\n",
    "\n",
    "line1 = mlines.Line2D([0, 0.4],[0, 0.4], color='red')\n",
    "\n",
    "s_jsd_g1_plot.add_line(line1)\n",
    "#s_jsd_g1_plot.add_line(line2)\n",
    "plt.savefig('s_jsd_1.eps',format='eps',dpi=1000)\n",
    "plt.show()"
   ]
  },
  {
   "cell_type": "code",
   "execution_count": null,
   "metadata": {},
   "outputs": [],
   "source": [
    "s_jsd_g2_plot = s_jsd_g2.plot.scatter(x='max',y='match',s=100,colors=colors_jsd_s_g2,title='Single Player JSD Values Game 2')\n",
    "plt.xticks(np.arange(0, 0.5, step=0.1))\n",
    "plt.yticks(np.arange(0, 0.5, step=0.1))\n",
    "#line1 = mlines.Line2D([0.2148, 0.2148],[-0.03, 0.5], color='red')\n",
    "#line2 = mlines.Line2D([0,0.8],[0.2148,0.2148])\n",
    "\n",
    "line1 = mlines.Line2D([0, 0.4],[0, 0.4], color='red')\n",
    "\n",
    "s_jsd_g1_plot.add_line(line1)\n",
    "#s_jsd_g1_plot.add_line(line2)\n",
    "plt.savefig('s_jsd_1.eps',format='eps',dpi=1000)\n",
    "plt.show()"
   ]
  },
  {
   "cell_type": "code",
   "execution_count": null,
   "metadata": {},
   "outputs": [],
   "source": [
    "colors_jsd_j = ['purple','green','green','purple','r','r','r','r','purple','green','green','purple','r','r','r','r']"
   ]
  },
  {
   "cell_type": "code",
   "execution_count": null,
   "metadata": {},
   "outputs": [],
   "source": [
    "fig, j_jsd_g1_plot = plt.subplots()\n",
    "j_jsd_g1_plot = j_jsd_g1.plot.scatter(x='max',y='match',s=100,c=colors_jsd_j,title='Multiplayer JSD Values Game 1')\n",
    "plt.xticks(np.arange(0, 0.5, step=0.1))\n",
    "plt.yticks(np.arange(0, 0.5, step=0.1))\n",
    "line1 = mlines.Line2D([0, 0.4],[0, 0.4], color='red')\n",
    "#line2 = mlines.Line2D([0,0.8],[0.2148,0.2148])\n",
    "#line2 = mlines.Line2D([0, 0.4],[0.2148, 0.2148], color='red')\n",
    "\n",
    "line2 = mlines.Line2D([0.2148, 0.2148],[-0.03, 0.5], color='red')\n",
    "line3 = mlines.Line2D([-0.03,0.8],[0.2148,0.2148])\n",
    "\n",
    "#transform = ax.transAxes\n",
    "#line2 doesn't show up; all below it?\n",
    "#line.set_transform(transform)\n",
    "j_jsd_g1_plot.add_line(line1)\n",
    "#j_jsd_g1_plot.add_line(line2)\n",
    "#j_jsd_g1_plot.add_line(line3)\n",
    "\n",
    "#plt.legend(handles=patches)\n",
    "plt.savefig('j_jsd_1.eps',format='eps',dpi=1000)\n",
    "plt.show()"
   ]
  },
  {
   "cell_type": "code",
   "execution_count": null,
   "metadata": {},
   "outputs": [],
   "source": [
    "fig, j_jsd_g1_plot = plt.subplots()\n",
    "j_jsd_g2_plot = j_jsd_g2.plot.scatter(x='max',y='match',s=100,c=colors_jsd_j,title='Multiplayer JSD Values Game 2')\n",
    "plt.xticks(np.arange(0, 0.5, step=0.1))\n",
    "plt.yticks(np.arange(0, 0.5, step=0.1))\n",
    "line1 = mlines.Line2D([0, 0.4],[0, 0.4], color='red')\n",
    "\n",
    "\n",
    "line2 = mlines.Line2D([0.2148, 0.2148],[-0.03, 0.5], color='red')\n",
    "line3 = mlines.Line2D([-0.03,0.8],[0.2148,0.2148])\n",
    "\n",
    "\n",
    "j_jsd_g2_plot.add_line(line1)\n",
    "\n",
    "\n",
    "#plt.legend(handles=patches)\n",
    "plt.savefig('j_jsd_2.eps',format='eps',dpi=1000)\n",
    "plt.show()"
   ]
  },
  {
   "cell_type": "code",
   "execution_count": null,
   "metadata": {},
   "outputs": [],
   "source": []
  }
 ],
 "metadata": {
  "kernelspec": {
   "display_name": "Python 3",
   "language": "python",
   "name": "python3"
  },
  "language_info": {
   "codemirror_mode": {
    "name": "ipython",
    "version": 3
   },
   "file_extension": ".py",
   "mimetype": "text/x-python",
   "name": "python",
   "nbconvert_exporter": "python",
   "pygments_lexer": "ipython3",
   "version": "3.7.4"
  }
 },
 "nbformat": 4,
 "nbformat_minor": 2
}
