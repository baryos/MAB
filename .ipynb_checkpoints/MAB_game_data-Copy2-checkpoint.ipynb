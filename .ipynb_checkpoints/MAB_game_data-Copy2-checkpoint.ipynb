{
 "cells": [
  {
   "cell_type": "code",
   "execution_count": 1,
   "metadata": {},
   "outputs": [],
   "source": [
    "import csv\n",
    "import pandas as pd\n",
    "import numpy as np\n",
    "import glob\n",
    "import matplotlib\n",
    "import scipy as sp\n",
    "from matplotlib import pyplot as plt\n",
    "from itertools import cycle, islice"
   ]
  },
  {
   "cell_type": "code",
   "execution_count": 2,
   "metadata": {},
   "outputs": [],
   "source": [
    "#loads file and puts data into dataframe\n",
    "def organize_trial_by_trial(txt_filename):\n",
    "    reader = csv.reader( open(txt_filename))\n",
    "    game_data = [row for row in reader]\n",
    "    df = pd.DataFrame(np.array(game_data))\n",
    "    df = df.T\n",
    "    df = df.rename(columns = {0:\"game number\", 1:\"trial\", 2:\"player\", 3:\"arm\", 4:\"probability\", 5:\"reward\", 6:\"time\", 7:\"P1 score\", 8:\"P2 score\"})\n",
    "    #df = df.drop(columns = 'time') #can comment this out if want to look at time\n",
    "    df = df.apply(pd.to_numeric)\n",
    "    df.head()\n",
    "    \n",
    "    #combining info in the same trial for both players together in the same row\n",
    "    #player1 = df[df['player'] == 1].drop(columns = \"P2 score\").drop(columns = \"player\")\n",
    "    #player1 = player1.reset_index().drop(columns = \"index\")\n",
    "    #player1 = player1.rename(columns = {\"arm\":\"P1 arm\", \"probability\":\"P1 prob\", \"reward\":\"P1 reward\"})\n",
    "\n",
    "    #player2 = df[df['player'] == 2].drop(columns = \"P1 score\").drop(columns = 'trial').drop(columns = 'player')\n",
    "    #player2 = player2.reset_index().drop(columns = \"index\")\n",
    "    #player2 = player2.rename(columns = {\"arm\":\"P2 arm\", \"probability\":\"P2 prob\", \"reward\":\"P2 reward\"})\n",
    "\n",
    "    #result = pd.concat([player1, player2], axis=1, sort=False)\n",
    "    return df\n",
    "\n",
    "#TODO: function that pairs up P2(trial n) and P1(trial n+1)\n",
    "\n",
    "\n",
    "#calls organize_trial_by_trial on each file\n",
    "def combine_all_files(path):\n",
    "    all_files = glob.glob(path + \"/*.txt\")\n",
    "    df = pd.DataFrame()\n",
    "    \n",
    "    for filename in all_files:\n",
    "        new_df = organize_trial_by_trial(filename)\n",
    "        df = pd.concat([df, new_df], axis=0, ignore_index=True)\n",
    "    return df"
   ]
  },
  {
   "cell_type": "code",
   "execution_count": 3,
   "metadata": {},
   "outputs": [],
   "source": [
    "#gets score for g1 and g2\n",
    "def get_score(df, player_number, game_number):\n",
    "    if game_number == 1:\n",
    "        row = 199\n",
    "    elif game_number == 2:\n",
    "        row = 399\n",
    "    if player_number == 1:\n",
    "        column = 'P1 score'\n",
    "    elif player_number == 2:\n",
    "        column = 'P2 score'\n",
    "    score = df.loc[row, column]\n",
    "    return score"
   ]
  },
  {
   "cell_type": "code",
   "execution_count": 4,
   "metadata": {},
   "outputs": [],
   "source": [
    "#create a dataframes for scores\n",
    "scores = pd.DataFrame(columns=['s_g1','s_g2','j_g1','j_g2'])"
   ]
  },
  {
   "cell_type": "code",
   "execution_count": 5,
   "metadata": {},
   "outputs": [],
   "source": [
    "#version is 's' for single player and 'j' for joint\n",
    "def call_get_score(df, version):\n",
    "    p1_g1 = get_score(df, 1, 1)\n",
    "    p1_g2 = get_score(df, 1, 2)\n",
    "    p1_score_diff = p1_g2 - p1_g1\n",
    "    if version == 'j':\n",
    "        p2_g1 = get_score(df, 2, 1)\n",
    "        p2_g2 = get_score(df, 2, 2)\n",
    "        p2_score_diff = p2_g2 - p2_g1\n",
    "        return p1_g1, p1_g2, p2_g1, p2_g2, p1_score_diff, p2_score_diff\n",
    "    return p1_g1, p1_g2, p1_score_diff"
   ]
  },
  {
   "cell_type": "code",
   "execution_count": 6,
   "metadata": {},
   "outputs": [],
   "source": [
    "#separate data frames for p1 and p2 \n",
    "def separate_df(df, version):\n",
    "    #df.set_index(df['trial'])\n",
    "    df_p1 = df[df['player'] == 1]\n",
    "    df_p1_g1 = df_p1[df['game number'] == 1]\n",
    "    df_p1_g2 = df_p1[df['game number'] == 2]\n",
    "    if version == 's':\n",
    "        return df_p1_g1, df_p1_g2\n",
    "    df_p2 = df[df['player'] ==2 ]\n",
    "    df_p2_g1 = df_p2[df['game number'] == 1]\n",
    "    df_p2_g2 = df_p2[df['game number'] == 2]\n",
    "    return df_p1_g1, df_p1_g2, df_p2_g1, df_p2_g2"
   ]
  },
  {
   "cell_type": "code",
   "execution_count": 7,
   "metadata": {},
   "outputs": [],
   "source": [
    "#needs work\n",
    "def call_call_get_score(df, version):\n",
    "    p1_g1 = df+'_'+'p1_'+'g1_'+'score'\n",
    "    p1_g2 = df+'_'+'p1_'+'g2_'+'score'\n",
    "    p2_g1 = df+'_'+'p2_'+'g1_'+'score'\n",
    "    p2_g2 = df+'_'+'p2_'+'g2_'+'score'\n",
    "    p1_g1, p1_g2, p2_g1, p2_g2 = call_get_score(df, version)\n",
    "    return p1_g1, p1_g2, p2_g1, p2_g2"
   ]
  },
  {
   "cell_type": "markdown",
   "metadata": {},
   "source": [
    "# Single Player Analysis"
   ]
  },
  {
   "cell_type": "code",
   "execution_count": 8,
   "metadata": {},
   "outputs": [],
   "source": [
    "#loading the files and dataframes"
   ]
  },
  {
   "cell_type": "code",
   "execution_count": 9,
   "metadata": {},
   "outputs": [
    {
     "data": {
      "text/html": [
       "<div>\n",
       "<style scoped>\n",
       "    .dataframe tbody tr th:only-of-type {\n",
       "        vertical-align: middle;\n",
       "    }\n",
       "\n",
       "    .dataframe tbody tr th {\n",
       "        vertical-align: top;\n",
       "    }\n",
       "\n",
       "    .dataframe thead th {\n",
       "        text-align: right;\n",
       "    }\n",
       "</style>\n",
       "<table border=\"1\" class=\"dataframe\">\n",
       "  <thead>\n",
       "    <tr style=\"text-align: right;\">\n",
       "      <th></th>\n",
       "      <th>game number</th>\n",
       "      <th>trial</th>\n",
       "      <th>player</th>\n",
       "      <th>arm</th>\n",
       "      <th>probability</th>\n",
       "      <th>reward</th>\n",
       "      <th>time</th>\n",
       "      <th>P1 score</th>\n",
       "      <th>P2 score</th>\n",
       "    </tr>\n",
       "  </thead>\n",
       "  <tbody>\n",
       "    <tr>\n",
       "      <th>0</th>\n",
       "      <td>1</td>\n",
       "      <td>1</td>\n",
       "      <td>1</td>\n",
       "      <td>2</td>\n",
       "      <td>30</td>\n",
       "      <td>1</td>\n",
       "      <td>11.220698</td>\n",
       "      <td>1</td>\n",
       "      <td>0</td>\n",
       "    </tr>\n",
       "    <tr>\n",
       "      <th>1</th>\n",
       "      <td>1</td>\n",
       "      <td>1</td>\n",
       "      <td>2</td>\n",
       "      <td>1</td>\n",
       "      <td>90</td>\n",
       "      <td>1</td>\n",
       "      <td>2.742137</td>\n",
       "      <td>1</td>\n",
       "      <td>1</td>\n",
       "    </tr>\n",
       "    <tr>\n",
       "      <th>2</th>\n",
       "      <td>1</td>\n",
       "      <td>2</td>\n",
       "      <td>1</td>\n",
       "      <td>3</td>\n",
       "      <td>60</td>\n",
       "      <td>1</td>\n",
       "      <td>5.362458</td>\n",
       "      <td>2</td>\n",
       "      <td>1</td>\n",
       "    </tr>\n",
       "    <tr>\n",
       "      <th>3</th>\n",
       "      <td>1</td>\n",
       "      <td>2</td>\n",
       "      <td>2</td>\n",
       "      <td>1</td>\n",
       "      <td>90</td>\n",
       "      <td>1</td>\n",
       "      <td>3.699948</td>\n",
       "      <td>2</td>\n",
       "      <td>2</td>\n",
       "    </tr>\n",
       "    <tr>\n",
       "      <th>4</th>\n",
       "      <td>1</td>\n",
       "      <td>3</td>\n",
       "      <td>1</td>\n",
       "      <td>2</td>\n",
       "      <td>30</td>\n",
       "      <td>0</td>\n",
       "      <td>3.489552</td>\n",
       "      <td>2</td>\n",
       "      <td>2</td>\n",
       "    </tr>\n",
       "  </tbody>\n",
       "</table>\n",
       "</div>"
      ],
      "text/plain": [
       "   game number  trial  player  arm  probability  reward       time  P1 score  \\\n",
       "0            1      1       1    2           30       1  11.220698         1   \n",
       "1            1      1       2    1           90       1   2.742137         1   \n",
       "2            1      2       1    3           60       1   5.362458         2   \n",
       "3            1      2       2    1           90       1   3.699948         2   \n",
       "4            1      3       1    2           30       0   3.489552         2   \n",
       "\n",
       "   P2 score  \n",
       "0         0  \n",
       "1         1  \n",
       "2         1  \n",
       "3         2  \n",
       "4         2  "
      ]
     },
     "execution_count": 9,
     "metadata": {},
     "output_type": "execute_result"
    }
   ],
   "source": [
    "#in the s files, p2 is the confederate\n",
    "df = organize_trial_by_trial('data/s01_gamedata.csv')\n",
    "s01 = df\n",
    "s01_p1_g1_score,s01_p1_g2_score,s01_score_diff = call_get_score(s01, 's')\n",
    "s01.head()"
   ]
  },
  {
   "cell_type": "code",
   "execution_count": 10,
   "metadata": {},
   "outputs": [
    {
     "data": {
      "text/html": [
       "<div>\n",
       "<style scoped>\n",
       "    .dataframe tbody tr th:only-of-type {\n",
       "        vertical-align: middle;\n",
       "    }\n",
       "\n",
       "    .dataframe tbody tr th {\n",
       "        vertical-align: top;\n",
       "    }\n",
       "\n",
       "    .dataframe thead th {\n",
       "        text-align: right;\n",
       "    }\n",
       "</style>\n",
       "<table border=\"1\" class=\"dataframe\">\n",
       "  <thead>\n",
       "    <tr style=\"text-align: right;\">\n",
       "      <th></th>\n",
       "      <th>game number</th>\n",
       "      <th>trial</th>\n",
       "      <th>player</th>\n",
       "      <th>arm</th>\n",
       "      <th>probability</th>\n",
       "      <th>reward</th>\n",
       "      <th>time</th>\n",
       "      <th>P1 score</th>\n",
       "      <th>P2 score</th>\n",
       "    </tr>\n",
       "  </thead>\n",
       "  <tbody>\n",
       "    <tr>\n",
       "      <th>0</th>\n",
       "      <td>1</td>\n",
       "      <td>1</td>\n",
       "      <td>1</td>\n",
       "      <td>1</td>\n",
       "      <td>30</td>\n",
       "      <td>0</td>\n",
       "      <td>12.598357</td>\n",
       "      <td>0</td>\n",
       "      <td>0</td>\n",
       "    </tr>\n",
       "    <tr>\n",
       "      <th>1</th>\n",
       "      <td>1</td>\n",
       "      <td>1</td>\n",
       "      <td>2</td>\n",
       "      <td>1</td>\n",
       "      <td>90</td>\n",
       "      <td>1</td>\n",
       "      <td>2.182159</td>\n",
       "      <td>0</td>\n",
       "      <td>1</td>\n",
       "    </tr>\n",
       "    <tr>\n",
       "      <th>2</th>\n",
       "      <td>1</td>\n",
       "      <td>2</td>\n",
       "      <td>1</td>\n",
       "      <td>2</td>\n",
       "      <td>60</td>\n",
       "      <td>1</td>\n",
       "      <td>3.600245</td>\n",
       "      <td>1</td>\n",
       "      <td>1</td>\n",
       "    </tr>\n",
       "    <tr>\n",
       "      <th>3</th>\n",
       "      <td>1</td>\n",
       "      <td>2</td>\n",
       "      <td>2</td>\n",
       "      <td>1</td>\n",
       "      <td>90</td>\n",
       "      <td>1</td>\n",
       "      <td>2.628291</td>\n",
       "      <td>1</td>\n",
       "      <td>2</td>\n",
       "    </tr>\n",
       "    <tr>\n",
       "      <th>4</th>\n",
       "      <td>1</td>\n",
       "      <td>3</td>\n",
       "      <td>1</td>\n",
       "      <td>2</td>\n",
       "      <td>60</td>\n",
       "      <td>1</td>\n",
       "      <td>3.252174</td>\n",
       "      <td>2</td>\n",
       "      <td>2</td>\n",
       "    </tr>\n",
       "  </tbody>\n",
       "</table>\n",
       "</div>"
      ],
      "text/plain": [
       "   game number  trial  player  arm  probability  reward       time  P1 score  \\\n",
       "0            1      1       1    1           30       0  12.598357         0   \n",
       "1            1      1       2    1           90       1   2.182159         0   \n",
       "2            1      2       1    2           60       1   3.600245         1   \n",
       "3            1      2       2    1           90       1   2.628291         1   \n",
       "4            1      3       1    2           60       1   3.252174         2   \n",
       "\n",
       "   P2 score  \n",
       "0         0  \n",
       "1         1  \n",
       "2         1  \n",
       "3         2  \n",
       "4         2  "
      ]
     },
     "execution_count": 10,
     "metadata": {},
     "output_type": "execute_result"
    }
   ],
   "source": [
    "#in the s files, p2 is the confederate\n",
    "#NO SECOND GAME\n",
    "df = organize_trial_by_trial('data/s02_gamedata.csv')\n",
    "s02 = df\n",
    "s02_p1_g1_score = get_score(s02, 1, 1)\n",
    "s02.head()"
   ]
  },
  {
   "cell_type": "code",
   "execution_count": 11,
   "metadata": {},
   "outputs": [
    {
     "data": {
      "text/html": [
       "<div>\n",
       "<style scoped>\n",
       "    .dataframe tbody tr th:only-of-type {\n",
       "        vertical-align: middle;\n",
       "    }\n",
       "\n",
       "    .dataframe tbody tr th {\n",
       "        vertical-align: top;\n",
       "    }\n",
       "\n",
       "    .dataframe thead th {\n",
       "        text-align: right;\n",
       "    }\n",
       "</style>\n",
       "<table border=\"1\" class=\"dataframe\">\n",
       "  <thead>\n",
       "    <tr style=\"text-align: right;\">\n",
       "      <th></th>\n",
       "      <th>game number</th>\n",
       "      <th>trial</th>\n",
       "      <th>player</th>\n",
       "      <th>arm</th>\n",
       "      <th>probability</th>\n",
       "      <th>reward</th>\n",
       "      <th>time</th>\n",
       "      <th>P1 score</th>\n",
       "      <th>P2 score</th>\n",
       "    </tr>\n",
       "  </thead>\n",
       "  <tbody>\n",
       "    <tr>\n",
       "      <th>0</th>\n",
       "      <td>1</td>\n",
       "      <td>1</td>\n",
       "      <td>1</td>\n",
       "      <td>3</td>\n",
       "      <td>30</td>\n",
       "      <td>0</td>\n",
       "      <td>31.921890</td>\n",
       "      <td>0</td>\n",
       "      <td>0</td>\n",
       "    </tr>\n",
       "    <tr>\n",
       "      <th>1</th>\n",
       "      <td>1</td>\n",
       "      <td>1</td>\n",
       "      <td>2</td>\n",
       "      <td>1</td>\n",
       "      <td>90</td>\n",
       "      <td>1</td>\n",
       "      <td>4.758381</td>\n",
       "      <td>0</td>\n",
       "      <td>1</td>\n",
       "    </tr>\n",
       "    <tr>\n",
       "      <th>2</th>\n",
       "      <td>1</td>\n",
       "      <td>2</td>\n",
       "      <td>1</td>\n",
       "      <td>2</td>\n",
       "      <td>60</td>\n",
       "      <td>1</td>\n",
       "      <td>3.219123</td>\n",
       "      <td>1</td>\n",
       "      <td>1</td>\n",
       "    </tr>\n",
       "    <tr>\n",
       "      <th>3</th>\n",
       "      <td>1</td>\n",
       "      <td>2</td>\n",
       "      <td>2</td>\n",
       "      <td>1</td>\n",
       "      <td>90</td>\n",
       "      <td>1</td>\n",
       "      <td>3.491894</td>\n",
       "      <td>1</td>\n",
       "      <td>2</td>\n",
       "    </tr>\n",
       "    <tr>\n",
       "      <th>4</th>\n",
       "      <td>1</td>\n",
       "      <td>3</td>\n",
       "      <td>1</td>\n",
       "      <td>1</td>\n",
       "      <td>90</td>\n",
       "      <td>1</td>\n",
       "      <td>2.521189</td>\n",
       "      <td>2</td>\n",
       "      <td>2</td>\n",
       "    </tr>\n",
       "  </tbody>\n",
       "</table>\n",
       "</div>"
      ],
      "text/plain": [
       "   game number  trial  player  arm  probability  reward       time  P1 score  \\\n",
       "0            1      1       1    3           30       0  31.921890         0   \n",
       "1            1      1       2    1           90       1   4.758381         0   \n",
       "2            1      2       1    2           60       1   3.219123         1   \n",
       "3            1      2       2    1           90       1   3.491894         1   \n",
       "4            1      3       1    1           90       1   2.521189         2   \n",
       "\n",
       "   P2 score  \n",
       "0         0  \n",
       "1         1  \n",
       "2         1  \n",
       "3         2  \n",
       "4         2  "
      ]
     },
     "execution_count": 11,
     "metadata": {},
     "output_type": "execute_result"
    }
   ],
   "source": [
    "#in the s files, p2 is the confederate\n",
    "df = organize_trial_by_trial('data/s03_gamedata.csv')\n",
    "s03 = df\n",
    "s03_p1_g1_score,s03_p1_g2_score,s03_score_diff = call_get_score(s03, 's')\n",
    "s03.head()"
   ]
  },
  {
   "cell_type": "code",
   "execution_count": 12,
   "metadata": {},
   "outputs": [
    {
     "data": {
      "text/html": [
       "<div>\n",
       "<style scoped>\n",
       "    .dataframe tbody tr th:only-of-type {\n",
       "        vertical-align: middle;\n",
       "    }\n",
       "\n",
       "    .dataframe tbody tr th {\n",
       "        vertical-align: top;\n",
       "    }\n",
       "\n",
       "    .dataframe thead th {\n",
       "        text-align: right;\n",
       "    }\n",
       "</style>\n",
       "<table border=\"1\" class=\"dataframe\">\n",
       "  <thead>\n",
       "    <tr style=\"text-align: right;\">\n",
       "      <th></th>\n",
       "      <th>game number</th>\n",
       "      <th>trial</th>\n",
       "      <th>player</th>\n",
       "      <th>arm</th>\n",
       "      <th>probability</th>\n",
       "      <th>reward</th>\n",
       "      <th>time</th>\n",
       "      <th>P1 score</th>\n",
       "      <th>P2 score</th>\n",
       "    </tr>\n",
       "  </thead>\n",
       "  <tbody>\n",
       "    <tr>\n",
       "      <th>0</th>\n",
       "      <td>1</td>\n",
       "      <td>1</td>\n",
       "      <td>1</td>\n",
       "      <td>2</td>\n",
       "      <td>30</td>\n",
       "      <td>1</td>\n",
       "      <td>7.627847</td>\n",
       "      <td>1</td>\n",
       "      <td>0</td>\n",
       "    </tr>\n",
       "    <tr>\n",
       "      <th>1</th>\n",
       "      <td>1</td>\n",
       "      <td>1</td>\n",
       "      <td>2</td>\n",
       "      <td>1</td>\n",
       "      <td>90</td>\n",
       "      <td>1</td>\n",
       "      <td>3.360008</td>\n",
       "      <td>1</td>\n",
       "      <td>1</td>\n",
       "    </tr>\n",
       "    <tr>\n",
       "      <th>2</th>\n",
       "      <td>1</td>\n",
       "      <td>2</td>\n",
       "      <td>1</td>\n",
       "      <td>3</td>\n",
       "      <td>90</td>\n",
       "      <td>1</td>\n",
       "      <td>5.575300</td>\n",
       "      <td>2</td>\n",
       "      <td>1</td>\n",
       "    </tr>\n",
       "    <tr>\n",
       "      <th>3</th>\n",
       "      <td>1</td>\n",
       "      <td>2</td>\n",
       "      <td>2</td>\n",
       "      <td>1</td>\n",
       "      <td>90</td>\n",
       "      <td>1</td>\n",
       "      <td>5.711864</td>\n",
       "      <td>2</td>\n",
       "      <td>2</td>\n",
       "    </tr>\n",
       "    <tr>\n",
       "      <th>4</th>\n",
       "      <td>1</td>\n",
       "      <td>3</td>\n",
       "      <td>1</td>\n",
       "      <td>3</td>\n",
       "      <td>90</td>\n",
       "      <td>1</td>\n",
       "      <td>3.985995</td>\n",
       "      <td>3</td>\n",
       "      <td>2</td>\n",
       "    </tr>\n",
       "  </tbody>\n",
       "</table>\n",
       "</div>"
      ],
      "text/plain": [
       "   game number  trial  player  arm  probability  reward      time  P1 score  \\\n",
       "0            1      1       1    2           30       1  7.627847         1   \n",
       "1            1      1       2    1           90       1  3.360008         1   \n",
       "2            1      2       1    3           90       1  5.575300         2   \n",
       "3            1      2       2    1           90       1  5.711864         2   \n",
       "4            1      3       1    3           90       1  3.985995         3   \n",
       "\n",
       "   P2 score  \n",
       "0         0  \n",
       "1         1  \n",
       "2         1  \n",
       "3         2  \n",
       "4         2  "
      ]
     },
     "execution_count": 12,
     "metadata": {},
     "output_type": "execute_result"
    }
   ],
   "source": [
    "#in the s files, p2 is the confederate\n",
    "df = organize_trial_by_trial('data/s05_gamedata.csv')\n",
    "s05 = df\n",
    "s05_p1_g1_score,s05_p1_g2_score,s05_score_diff = call_get_score(s05, 's')\n",
    "s05.head()"
   ]
  },
  {
   "cell_type": "code",
   "execution_count": 13,
   "metadata": {},
   "outputs": [
    {
     "data": {
      "text/html": [
       "<div>\n",
       "<style scoped>\n",
       "    .dataframe tbody tr th:only-of-type {\n",
       "        vertical-align: middle;\n",
       "    }\n",
       "\n",
       "    .dataframe tbody tr th {\n",
       "        vertical-align: top;\n",
       "    }\n",
       "\n",
       "    .dataframe thead th {\n",
       "        text-align: right;\n",
       "    }\n",
       "</style>\n",
       "<table border=\"1\" class=\"dataframe\">\n",
       "  <thead>\n",
       "    <tr style=\"text-align: right;\">\n",
       "      <th></th>\n",
       "      <th>game number</th>\n",
       "      <th>trial</th>\n",
       "      <th>player</th>\n",
       "      <th>arm</th>\n",
       "      <th>probability</th>\n",
       "      <th>reward</th>\n",
       "      <th>time</th>\n",
       "      <th>P1 score</th>\n",
       "      <th>P2 score</th>\n",
       "    </tr>\n",
       "  </thead>\n",
       "  <tbody>\n",
       "    <tr>\n",
       "      <th>0</th>\n",
       "      <td>1</td>\n",
       "      <td>1</td>\n",
       "      <td>1</td>\n",
       "      <td>3</td>\n",
       "      <td>90</td>\n",
       "      <td>1</td>\n",
       "      <td>3.134130</td>\n",
       "      <td>1</td>\n",
       "      <td>0</td>\n",
       "    </tr>\n",
       "    <tr>\n",
       "      <th>1</th>\n",
       "      <td>1</td>\n",
       "      <td>1</td>\n",
       "      <td>2</td>\n",
       "      <td>1</td>\n",
       "      <td>90</td>\n",
       "      <td>1</td>\n",
       "      <td>9.395702</td>\n",
       "      <td>1</td>\n",
       "      <td>1</td>\n",
       "    </tr>\n",
       "    <tr>\n",
       "      <th>2</th>\n",
       "      <td>1</td>\n",
       "      <td>2</td>\n",
       "      <td>1</td>\n",
       "      <td>2</td>\n",
       "      <td>60</td>\n",
       "      <td>0</td>\n",
       "      <td>2.179541</td>\n",
       "      <td>1</td>\n",
       "      <td>1</td>\n",
       "    </tr>\n",
       "    <tr>\n",
       "      <th>3</th>\n",
       "      <td>1</td>\n",
       "      <td>2</td>\n",
       "      <td>2</td>\n",
       "      <td>1</td>\n",
       "      <td>90</td>\n",
       "      <td>1</td>\n",
       "      <td>2.545001</td>\n",
       "      <td>1</td>\n",
       "      <td>2</td>\n",
       "    </tr>\n",
       "    <tr>\n",
       "      <th>4</th>\n",
       "      <td>1</td>\n",
       "      <td>3</td>\n",
       "      <td>1</td>\n",
       "      <td>3</td>\n",
       "      <td>90</td>\n",
       "      <td>1</td>\n",
       "      <td>2.511049</td>\n",
       "      <td>2</td>\n",
       "      <td>2</td>\n",
       "    </tr>\n",
       "  </tbody>\n",
       "</table>\n",
       "</div>"
      ],
      "text/plain": [
       "   game number  trial  player  arm  probability  reward      time  P1 score  \\\n",
       "0            1      1       1    3           90       1  3.134130         1   \n",
       "1            1      1       2    1           90       1  9.395702         1   \n",
       "2            1      2       1    2           60       0  2.179541         1   \n",
       "3            1      2       2    1           90       1  2.545001         1   \n",
       "4            1      3       1    3           90       1  2.511049         2   \n",
       "\n",
       "   P2 score  \n",
       "0         0  \n",
       "1         1  \n",
       "2         1  \n",
       "3         2  \n",
       "4         2  "
      ]
     },
     "execution_count": 13,
     "metadata": {},
     "output_type": "execute_result"
    }
   ],
   "source": [
    "#in the s files, p2 is the confederate\n",
    "df = organize_trial_by_trial('data/s06_gamedata.csv')\n",
    "s06 = df\n",
    "s06_p1_g1_score,s06_p1_g2_score,s06_score_diff = call_get_score(s06, 's')\n",
    "s06.head()"
   ]
  },
  {
   "cell_type": "code",
   "execution_count": 14,
   "metadata": {},
   "outputs": [
    {
     "data": {
      "text/html": [
       "<div>\n",
       "<style scoped>\n",
       "    .dataframe tbody tr th:only-of-type {\n",
       "        vertical-align: middle;\n",
       "    }\n",
       "\n",
       "    .dataframe tbody tr th {\n",
       "        vertical-align: top;\n",
       "    }\n",
       "\n",
       "    .dataframe thead th {\n",
       "        text-align: right;\n",
       "    }\n",
       "</style>\n",
       "<table border=\"1\" class=\"dataframe\">\n",
       "  <thead>\n",
       "    <tr style=\"text-align: right;\">\n",
       "      <th></th>\n",
       "      <th>game number</th>\n",
       "      <th>trial</th>\n",
       "      <th>player</th>\n",
       "      <th>arm</th>\n",
       "      <th>probability</th>\n",
       "      <th>reward</th>\n",
       "      <th>time</th>\n",
       "      <th>P1 score</th>\n",
       "      <th>P2 score</th>\n",
       "    </tr>\n",
       "  </thead>\n",
       "  <tbody>\n",
       "    <tr>\n",
       "      <th>0</th>\n",
       "      <td>1</td>\n",
       "      <td>1</td>\n",
       "      <td>1</td>\n",
       "      <td>3</td>\n",
       "      <td>60</td>\n",
       "      <td>0</td>\n",
       "      <td>13.140095</td>\n",
       "      <td>0</td>\n",
       "      <td>0</td>\n",
       "    </tr>\n",
       "    <tr>\n",
       "      <th>1</th>\n",
       "      <td>1</td>\n",
       "      <td>1</td>\n",
       "      <td>2</td>\n",
       "      <td>1</td>\n",
       "      <td>90</td>\n",
       "      <td>1</td>\n",
       "      <td>2.417684</td>\n",
       "      <td>0</td>\n",
       "      <td>1</td>\n",
       "    </tr>\n",
       "    <tr>\n",
       "      <th>2</th>\n",
       "      <td>1</td>\n",
       "      <td>2</td>\n",
       "      <td>1</td>\n",
       "      <td>3</td>\n",
       "      <td>60</td>\n",
       "      <td>1</td>\n",
       "      <td>1.725920</td>\n",
       "      <td>1</td>\n",
       "      <td>1</td>\n",
       "    </tr>\n",
       "    <tr>\n",
       "      <th>3</th>\n",
       "      <td>1</td>\n",
       "      <td>2</td>\n",
       "      <td>2</td>\n",
       "      <td>1</td>\n",
       "      <td>90</td>\n",
       "      <td>1</td>\n",
       "      <td>2.810070</td>\n",
       "      <td>1</td>\n",
       "      <td>2</td>\n",
       "    </tr>\n",
       "    <tr>\n",
       "      <th>4</th>\n",
       "      <td>1</td>\n",
       "      <td>3</td>\n",
       "      <td>1</td>\n",
       "      <td>1</td>\n",
       "      <td>90</td>\n",
       "      <td>0</td>\n",
       "      <td>1.551831</td>\n",
       "      <td>1</td>\n",
       "      <td>2</td>\n",
       "    </tr>\n",
       "  </tbody>\n",
       "</table>\n",
       "</div>"
      ],
      "text/plain": [
       "   game number  trial  player  arm  probability  reward       time  P1 score  \\\n",
       "0            1      1       1    3           60       0  13.140095         0   \n",
       "1            1      1       2    1           90       1   2.417684         0   \n",
       "2            1      2       1    3           60       1   1.725920         1   \n",
       "3            1      2       2    1           90       1   2.810070         1   \n",
       "4            1      3       1    1           90       0   1.551831         1   \n",
       "\n",
       "   P2 score  \n",
       "0         0  \n",
       "1         1  \n",
       "2         1  \n",
       "3         2  \n",
       "4         2  "
      ]
     },
     "execution_count": 14,
     "metadata": {},
     "output_type": "execute_result"
    }
   ],
   "source": [
    "#in the s files, p2 is the confederate\n",
    "df = organize_trial_by_trial('data/s07_gamedata.csv')\n",
    "s07 = df\n",
    "s07_p1_g1_score,s07_p1_g2_score,s07_score_diff = call_get_score(s07, 's')\n",
    "s07.head()"
   ]
  },
  {
   "cell_type": "code",
   "execution_count": 15,
   "metadata": {},
   "outputs": [
    {
     "data": {
      "text/html": [
       "<div>\n",
       "<style scoped>\n",
       "    .dataframe tbody tr th:only-of-type {\n",
       "        vertical-align: middle;\n",
       "    }\n",
       "\n",
       "    .dataframe tbody tr th {\n",
       "        vertical-align: top;\n",
       "    }\n",
       "\n",
       "    .dataframe thead th {\n",
       "        text-align: right;\n",
       "    }\n",
       "</style>\n",
       "<table border=\"1\" class=\"dataframe\">\n",
       "  <thead>\n",
       "    <tr style=\"text-align: right;\">\n",
       "      <th></th>\n",
       "      <th>game number</th>\n",
       "      <th>trial</th>\n",
       "      <th>player</th>\n",
       "      <th>arm</th>\n",
       "      <th>probability</th>\n",
       "      <th>reward</th>\n",
       "      <th>time</th>\n",
       "      <th>P1 score</th>\n",
       "      <th>P2 score</th>\n",
       "    </tr>\n",
       "  </thead>\n",
       "  <tbody>\n",
       "    <tr>\n",
       "      <th>0</th>\n",
       "      <td>1</td>\n",
       "      <td>1</td>\n",
       "      <td>1</td>\n",
       "      <td>1</td>\n",
       "      <td>30</td>\n",
       "      <td>0</td>\n",
       "      <td>13.150472</td>\n",
       "      <td>0</td>\n",
       "      <td>0</td>\n",
       "    </tr>\n",
       "    <tr>\n",
       "      <th>1</th>\n",
       "      <td>1</td>\n",
       "      <td>1</td>\n",
       "      <td>2</td>\n",
       "      <td>1</td>\n",
       "      <td>90</td>\n",
       "      <td>1</td>\n",
       "      <td>2.550160</td>\n",
       "      <td>0</td>\n",
       "      <td>1</td>\n",
       "    </tr>\n",
       "    <tr>\n",
       "      <th>2</th>\n",
       "      <td>1</td>\n",
       "      <td>2</td>\n",
       "      <td>1</td>\n",
       "      <td>2</td>\n",
       "      <td>90</td>\n",
       "      <td>1</td>\n",
       "      <td>6.812722</td>\n",
       "      <td>1</td>\n",
       "      <td>1</td>\n",
       "    </tr>\n",
       "    <tr>\n",
       "      <th>3</th>\n",
       "      <td>1</td>\n",
       "      <td>2</td>\n",
       "      <td>2</td>\n",
       "      <td>1</td>\n",
       "      <td>90</td>\n",
       "      <td>1</td>\n",
       "      <td>3.497989</td>\n",
       "      <td>1</td>\n",
       "      <td>2</td>\n",
       "    </tr>\n",
       "    <tr>\n",
       "      <th>4</th>\n",
       "      <td>1</td>\n",
       "      <td>3</td>\n",
       "      <td>1</td>\n",
       "      <td>2</td>\n",
       "      <td>90</td>\n",
       "      <td>1</td>\n",
       "      <td>2.441523</td>\n",
       "      <td>2</td>\n",
       "      <td>2</td>\n",
       "    </tr>\n",
       "  </tbody>\n",
       "</table>\n",
       "</div>"
      ],
      "text/plain": [
       "   game number  trial  player  arm  probability  reward       time  P1 score  \\\n",
       "0            1      1       1    1           30       0  13.150472         0   \n",
       "1            1      1       2    1           90       1   2.550160         0   \n",
       "2            1      2       1    2           90       1   6.812722         1   \n",
       "3            1      2       2    1           90       1   3.497989         1   \n",
       "4            1      3       1    2           90       1   2.441523         2   \n",
       "\n",
       "   P2 score  \n",
       "0         0  \n",
       "1         1  \n",
       "2         1  \n",
       "3         2  \n",
       "4         2  "
      ]
     },
     "execution_count": 15,
     "metadata": {},
     "output_type": "execute_result"
    }
   ],
   "source": [
    "#in the s files, p2 is the confederate\n",
    "df = organize_trial_by_trial('data/s08_gamedata.csv')\n",
    "s08 = df\n",
    "s08_p1_g1_score,s08_p1_g2_score,s08_score_diff = call_get_score(s08, 's')\n",
    "s08.head()"
   ]
  },
  {
   "cell_type": "code",
   "execution_count": 16,
   "metadata": {},
   "outputs": [
    {
     "data": {
      "text/html": [
       "<div>\n",
       "<style scoped>\n",
       "    .dataframe tbody tr th:only-of-type {\n",
       "        vertical-align: middle;\n",
       "    }\n",
       "\n",
       "    .dataframe tbody tr th {\n",
       "        vertical-align: top;\n",
       "    }\n",
       "\n",
       "    .dataframe thead th {\n",
       "        text-align: right;\n",
       "    }\n",
       "</style>\n",
       "<table border=\"1\" class=\"dataframe\">\n",
       "  <thead>\n",
       "    <tr style=\"text-align: right;\">\n",
       "      <th></th>\n",
       "      <th>game number</th>\n",
       "      <th>trial</th>\n",
       "      <th>player</th>\n",
       "      <th>arm</th>\n",
       "      <th>probability</th>\n",
       "      <th>reward</th>\n",
       "      <th>time</th>\n",
       "      <th>P1 score</th>\n",
       "      <th>P2 score</th>\n",
       "    </tr>\n",
       "  </thead>\n",
       "  <tbody>\n",
       "    <tr>\n",
       "      <th>0</th>\n",
       "      <td>1</td>\n",
       "      <td>1</td>\n",
       "      <td>1</td>\n",
       "      <td>3</td>\n",
       "      <td>60</td>\n",
       "      <td>1</td>\n",
       "      <td>14.642494</td>\n",
       "      <td>1</td>\n",
       "      <td>0</td>\n",
       "    </tr>\n",
       "    <tr>\n",
       "      <th>1</th>\n",
       "      <td>1</td>\n",
       "      <td>1</td>\n",
       "      <td>2</td>\n",
       "      <td>1</td>\n",
       "      <td>90</td>\n",
       "      <td>1</td>\n",
       "      <td>2.997907</td>\n",
       "      <td>1</td>\n",
       "      <td>1</td>\n",
       "    </tr>\n",
       "    <tr>\n",
       "      <th>2</th>\n",
       "      <td>1</td>\n",
       "      <td>2</td>\n",
       "      <td>1</td>\n",
       "      <td>3</td>\n",
       "      <td>60</td>\n",
       "      <td>1</td>\n",
       "      <td>7.654677</td>\n",
       "      <td>2</td>\n",
       "      <td>1</td>\n",
       "    </tr>\n",
       "    <tr>\n",
       "      <th>3</th>\n",
       "      <td>1</td>\n",
       "      <td>2</td>\n",
       "      <td>2</td>\n",
       "      <td>1</td>\n",
       "      <td>90</td>\n",
       "      <td>0</td>\n",
       "      <td>2.905190</td>\n",
       "      <td>2</td>\n",
       "      <td>1</td>\n",
       "    </tr>\n",
       "    <tr>\n",
       "      <th>4</th>\n",
       "      <td>1</td>\n",
       "      <td>3</td>\n",
       "      <td>1</td>\n",
       "      <td>1</td>\n",
       "      <td>90</td>\n",
       "      <td>1</td>\n",
       "      <td>3.873310</td>\n",
       "      <td>3</td>\n",
       "      <td>1</td>\n",
       "    </tr>\n",
       "  </tbody>\n",
       "</table>\n",
       "</div>"
      ],
      "text/plain": [
       "   game number  trial  player  arm  probability  reward       time  P1 score  \\\n",
       "0            1      1       1    3           60       1  14.642494         1   \n",
       "1            1      1       2    1           90       1   2.997907         1   \n",
       "2            1      2       1    3           60       1   7.654677         2   \n",
       "3            1      2       2    1           90       0   2.905190         2   \n",
       "4            1      3       1    1           90       1   3.873310         3   \n",
       "\n",
       "   P2 score  \n",
       "0         0  \n",
       "1         1  \n",
       "2         1  \n",
       "3         1  \n",
       "4         1  "
      ]
     },
     "execution_count": 16,
     "metadata": {},
     "output_type": "execute_result"
    }
   ],
   "source": [
    "#in the s files, p2 is the confederate\n",
    "df = organize_trial_by_trial('data/s09_gamedata.csv')\n",
    "s09 = df\n",
    "s09_p1_g1_score,s09_p1_g2_score,s09_score_diff = call_get_score(s09, 's')\n",
    "s09.head()"
   ]
  },
  {
   "cell_type": "code",
   "execution_count": 17,
   "metadata": {},
   "outputs": [],
   "source": [
    "score_diff = pd.DataFrame({'participant':['s01', 's03', 's05', \n",
    "                               's06', 's07', 's08', 's09'], 'score_diff':\n",
    "     [s01_score_diff, s03_score_diff, s05_score_diff, s06_score_diff,\n",
    "      s07_score_diff, s08_score_diff, s09_score_diff]})"
   ]
  },
  {
   "cell_type": "markdown",
   "metadata": {},
   "source": [
    "# Score diff between G1 and G2"
   ]
  },
  {
   "cell_type": "code",
   "execution_count": 18,
   "metadata": {},
   "outputs": [
    {
     "data": {
      "text/html": [
       "<div>\n",
       "<style scoped>\n",
       "    .dataframe tbody tr th:only-of-type {\n",
       "        vertical-align: middle;\n",
       "    }\n",
       "\n",
       "    .dataframe tbody tr th {\n",
       "        vertical-align: top;\n",
       "    }\n",
       "\n",
       "    .dataframe thead th {\n",
       "        text-align: right;\n",
       "    }\n",
       "</style>\n",
       "<table border=\"1\" class=\"dataframe\">\n",
       "  <thead>\n",
       "    <tr style=\"text-align: right;\">\n",
       "      <th></th>\n",
       "      <th>participant</th>\n",
       "      <th>score_diff</th>\n",
       "    </tr>\n",
       "  </thead>\n",
       "  <tbody>\n",
       "    <tr>\n",
       "      <th>0</th>\n",
       "      <td>s01</td>\n",
       "      <td>14</td>\n",
       "    </tr>\n",
       "    <tr>\n",
       "      <th>1</th>\n",
       "      <td>s03</td>\n",
       "      <td>8</td>\n",
       "    </tr>\n",
       "    <tr>\n",
       "      <th>2</th>\n",
       "      <td>s05</td>\n",
       "      <td>11</td>\n",
       "    </tr>\n",
       "    <tr>\n",
       "      <th>3</th>\n",
       "      <td>s06</td>\n",
       "      <td>5</td>\n",
       "    </tr>\n",
       "    <tr>\n",
       "      <th>4</th>\n",
       "      <td>s07</td>\n",
       "      <td>5</td>\n",
       "    </tr>\n",
       "    <tr>\n",
       "      <th>5</th>\n",
       "      <td>s08</td>\n",
       "      <td>-10</td>\n",
       "    </tr>\n",
       "    <tr>\n",
       "      <th>6</th>\n",
       "      <td>s09</td>\n",
       "      <td>5</td>\n",
       "    </tr>\n",
       "  </tbody>\n",
       "</table>\n",
       "</div>"
      ],
      "text/plain": [
       "  participant  score_diff\n",
       "0         s01          14\n",
       "1         s03           8\n",
       "2         s05          11\n",
       "3         s06           5\n",
       "4         s07           5\n",
       "5         s08         -10\n",
       "6         s09           5"
      ]
     },
     "execution_count": 18,
     "metadata": {},
     "output_type": "execute_result"
    }
   ],
   "source": [
    "score_diff"
   ]
  },
  {
   "cell_type": "code",
   "execution_count": 19,
   "metadata": {},
   "outputs": [],
   "source": [
    "#increase in every participant except 1\n",
    "#df excluding outliar\n",
    "score_diff_ex = pd.DataFrame({'participant':['s01', 's03', 's05', \n",
    "                               's06', 's07', 's09'], 'score_diff':\n",
    "     [s01_score_diff, s03_score_diff, s05_score_diff, s06_score_diff,\n",
    "      s07_score_diff, s09_score_diff]})"
   ]
  },
  {
   "cell_type": "code",
   "execution_count": 20,
   "metadata": {},
   "outputs": [
    {
     "data": {
      "text/html": [
       "<div>\n",
       "<style scoped>\n",
       "    .dataframe tbody tr th:only-of-type {\n",
       "        vertical-align: middle;\n",
       "    }\n",
       "\n",
       "    .dataframe tbody tr th {\n",
       "        vertical-align: top;\n",
       "    }\n",
       "\n",
       "    .dataframe thead th {\n",
       "        text-align: right;\n",
       "    }\n",
       "</style>\n",
       "<table border=\"1\" class=\"dataframe\">\n",
       "  <thead>\n",
       "    <tr style=\"text-align: right;\">\n",
       "      <th></th>\n",
       "      <th>participant</th>\n",
       "      <th>score_diff</th>\n",
       "    </tr>\n",
       "  </thead>\n",
       "  <tbody>\n",
       "    <tr>\n",
       "      <th>0</th>\n",
       "      <td>s01</td>\n",
       "      <td>14</td>\n",
       "    </tr>\n",
       "    <tr>\n",
       "      <th>1</th>\n",
       "      <td>s03</td>\n",
       "      <td>8</td>\n",
       "    </tr>\n",
       "    <tr>\n",
       "      <th>2</th>\n",
       "      <td>s05</td>\n",
       "      <td>11</td>\n",
       "    </tr>\n",
       "    <tr>\n",
       "      <th>3</th>\n",
       "      <td>s06</td>\n",
       "      <td>5</td>\n",
       "    </tr>\n",
       "    <tr>\n",
       "      <th>4</th>\n",
       "      <td>s07</td>\n",
       "      <td>5</td>\n",
       "    </tr>\n",
       "    <tr>\n",
       "      <th>5</th>\n",
       "      <td>s09</td>\n",
       "      <td>5</td>\n",
       "    </tr>\n",
       "  </tbody>\n",
       "</table>\n",
       "</div>"
      ],
      "text/plain": [
       "  participant  score_diff\n",
       "0         s01          14\n",
       "1         s03           8\n",
       "2         s05          11\n",
       "3         s06           5\n",
       "4         s07           5\n",
       "5         s09           5"
      ]
     },
     "execution_count": 20,
     "metadata": {},
     "output_type": "execute_result"
    }
   ],
   "source": [
    "score_diff_ex"
   ]
  },
  {
   "cell_type": "code",
   "execution_count": 21,
   "metadata": {},
   "outputs": [],
   "source": [
    "score_diff_mean = score_diff['score_diff'].mean()"
   ]
  },
  {
   "cell_type": "code",
   "execution_count": 22,
   "metadata": {},
   "outputs": [],
   "source": [
    "score_diff_ex_mean = score_diff_ex['score_diff'].mean()"
   ]
  },
  {
   "cell_type": "code",
   "execution_count": 23,
   "metadata": {},
   "outputs": [
    {
     "data": {
      "text/plain": [
       "5.428571428571429"
      ]
     },
     "execution_count": 23,
     "metadata": {},
     "output_type": "execute_result"
    }
   ],
   "source": [
    "score_diff_mean"
   ]
  },
  {
   "cell_type": "code",
   "execution_count": 24,
   "metadata": {},
   "outputs": [
    {
     "data": {
      "text/plain": [
       "8.0"
      ]
     },
     "execution_count": 24,
     "metadata": {},
     "output_type": "execute_result"
    }
   ],
   "source": [
    "score_diff_ex_mean"
   ]
  },
  {
   "cell_type": "markdown",
   "metadata": {},
   "source": [
    "# Scores in G1 and G2"
   ]
  },
  {
   "cell_type": "code",
   "execution_count": 25,
   "metadata": {},
   "outputs": [
    {
     "data": {
      "text/html": [
       "<div>\n",
       "<style scoped>\n",
       "    .dataframe tbody tr th:only-of-type {\n",
       "        vertical-align: middle;\n",
       "    }\n",
       "\n",
       "    .dataframe tbody tr th {\n",
       "        vertical-align: top;\n",
       "    }\n",
       "\n",
       "    .dataframe thead th {\n",
       "        text-align: right;\n",
       "    }\n",
       "</style>\n",
       "<table border=\"1\" class=\"dataframe\">\n",
       "  <thead>\n",
       "    <tr style=\"text-align: right;\">\n",
       "      <th></th>\n",
       "      <th>score</th>\n",
       "    </tr>\n",
       "    <tr>\n",
       "      <th>participant</th>\n",
       "      <th></th>\n",
       "    </tr>\n",
       "  </thead>\n",
       "  <tbody>\n",
       "    <tr>\n",
       "      <th>s01</th>\n",
       "      <td>60</td>\n",
       "    </tr>\n",
       "    <tr>\n",
       "      <th>s02</th>\n",
       "      <td>63</td>\n",
       "    </tr>\n",
       "    <tr>\n",
       "      <th>s03</th>\n",
       "      <td>63</td>\n",
       "    </tr>\n",
       "    <tr>\n",
       "      <th>s05</th>\n",
       "      <td>77</td>\n",
       "    </tr>\n",
       "    <tr>\n",
       "      <th>s06</th>\n",
       "      <td>82</td>\n",
       "    </tr>\n",
       "    <tr>\n",
       "      <th>s07</th>\n",
       "      <td>63</td>\n",
       "    </tr>\n",
       "    <tr>\n",
       "      <th>s08</th>\n",
       "      <td>90</td>\n",
       "    </tr>\n",
       "    <tr>\n",
       "      <th>s09</th>\n",
       "      <td>65</td>\n",
       "    </tr>\n",
       "  </tbody>\n",
       "</table>\n",
       "</div>"
      ],
      "text/plain": [
       "             score\n",
       "participant       \n",
       "s01             60\n",
       "s02             63\n",
       "s03             63\n",
       "s05             77\n",
       "s06             82\n",
       "s07             63\n",
       "s08             90\n",
       "s09             65"
      ]
     },
     "execution_count": 25,
     "metadata": {},
     "output_type": "execute_result"
    }
   ],
   "source": [
    "s_scores_1 = pd.DataFrame({'participant':['s01', 's02', 's03', 's05', \n",
    "                               's06', 's07', 's08', 's09'], 'score':\n",
    "     [s01_p1_g1_score, s02_p1_g1_score, s03_p1_g1_score, s05_p1_g1_score,\n",
    "      s06_p1_g1_score, s07_p1_g1_score, s08_p1_g1_score, s09_p1_g1_score]})\n",
    "s_scores_1.set_index('participant', inplace=True, drop=True)\n",
    "s_scores_2 = pd.DataFrame({'participant':['s01', 's03', 's05', \n",
    "                               's06', 's07', 's08', 's09'], 'score':\n",
    "    [s01_p1_g2_score, s03_p1_g2_score, s05_p1_g2_score, \n",
    "    s06_p1_g2_score, s07_p1_g2_score, s08_p1_g2_score, s09_p1_g2_score]})\n",
    "s_scores_2.set_index('participant', inplace=True, drop=True)\n",
    "#s_scores_1 = pd.DataFrame(data = d1)\n",
    "#s_scores_2 = pd.DataFrame(data = d2)\n",
    "s_scores_1"
   ]
  },
  {
   "cell_type": "code",
   "execution_count": 26,
   "metadata": {},
   "outputs": [
    {
     "data": {
      "text/html": [
       "<div>\n",
       "<style scoped>\n",
       "    .dataframe tbody tr th:only-of-type {\n",
       "        vertical-align: middle;\n",
       "    }\n",
       "\n",
       "    .dataframe tbody tr th {\n",
       "        vertical-align: top;\n",
       "    }\n",
       "\n",
       "    .dataframe thead th {\n",
       "        text-align: right;\n",
       "    }\n",
       "</style>\n",
       "<table border=\"1\" class=\"dataframe\">\n",
       "  <thead>\n",
       "    <tr style=\"text-align: right;\">\n",
       "      <th></th>\n",
       "      <th>score</th>\n",
       "    </tr>\n",
       "    <tr>\n",
       "      <th>participant</th>\n",
       "      <th></th>\n",
       "    </tr>\n",
       "  </thead>\n",
       "  <tbody>\n",
       "    <tr>\n",
       "      <th>s01</th>\n",
       "      <td>74</td>\n",
       "    </tr>\n",
       "    <tr>\n",
       "      <th>s03</th>\n",
       "      <td>71</td>\n",
       "    </tr>\n",
       "    <tr>\n",
       "      <th>s05</th>\n",
       "      <td>88</td>\n",
       "    </tr>\n",
       "    <tr>\n",
       "      <th>s06</th>\n",
       "      <td>87</td>\n",
       "    </tr>\n",
       "    <tr>\n",
       "      <th>s07</th>\n",
       "      <td>68</td>\n",
       "    </tr>\n",
       "    <tr>\n",
       "      <th>s08</th>\n",
       "      <td>80</td>\n",
       "    </tr>\n",
       "    <tr>\n",
       "      <th>s09</th>\n",
       "      <td>70</td>\n",
       "    </tr>\n",
       "  </tbody>\n",
       "</table>\n",
       "</div>"
      ],
      "text/plain": [
       "             score\n",
       "participant       \n",
       "s01             74\n",
       "s03             71\n",
       "s05             88\n",
       "s06             87\n",
       "s07             68\n",
       "s08             80\n",
       "s09             70"
      ]
     },
     "execution_count": 26,
     "metadata": {},
     "output_type": "execute_result"
    }
   ],
   "source": [
    "s_scores_2"
   ]
  },
  {
   "cell_type": "code",
   "execution_count": 27,
   "metadata": {},
   "outputs": [
    {
     "data": {
      "image/png": "[encoded data removed]",
      "text/plain": [
       "<Figure size 432x288 with 1 Axes>"
      ]
     },
     "metadata": {
      "needs_background": "light"
     },
     "output_type": "display_data"
    }
   ],
   "source": [
    "s_scores_1_bar = s_scores_1.plot.bar()"
   ]
  },
  {
   "cell_type": "code",
   "execution_count": 28,
   "metadata": {},
   "outputs": [
    {
     "data": {
      "image/png": "[encoded data removed]",
      "text/plain": [
       "<Figure size 432x288 with 1 Axes>"
      ]
     },
     "metadata": {
      "needs_background": "light"
     },
     "output_type": "display_data"
    }
   ],
   "source": [
    "s_scores_2_bar = s_scores_2.plot.bar()"
   ]
  },
  {
   "cell_type": "code",
   "execution_count": 29,
   "metadata": {},
   "outputs": [],
   "source": [
    "#combine g1 and g2 to one dataframe\n",
    "s_combo = s_scores_1.append(s_scores_2)"
   ]
  },
  {
   "cell_type": "code",
   "execution_count": 30,
   "metadata": {},
   "outputs": [
    {
     "data": {
      "text/plain": [
       "\"s_combo = pd.DataFrame({'participant':['s01', 's01', 's02', 's03', 's03','s05', 's05'\\n                               's06', 's06','s07','s07','s08','s08','s09','s09'], 'score':\\n     [s01_p1_g1_score, s01_p1_g2_score, s02_p1_g1_score, s03_p1_g1_score, s03_p1_g2_score, s05_p1_g1_score,\\n      s05_p1_g2_score,s06_p1_g1_score,s06_p1_g2_score, s07_p1_g1_score,s07_p1_g2_score, s08_p1_g1_score,s08_p1_g2_score,\\n      s09_p1_g1_score, s09_p1_g2_score]})\\ns_combo.set_index('participant', inplace=True, drop=True)\""
      ]
     },
     "execution_count": 30,
     "metadata": {},
     "output_type": "execute_result"
    }
   ],
   "source": [
    "'''s_combo = pd.DataFrame({'participant':['s01', 's01', 's02', 's03', 's03','s05', 's05'\n",
    "                               's06', 's06','s07','s07','s08','s08','s09','s09'], 'score':\n",
    "     [s01_p1_g1_score, s01_p1_g2_score, s02_p1_g1_score, s03_p1_g1_score, s03_p1_g2_score, s05_p1_g1_score,\n",
    "      s05_p1_g2_score,s06_p1_g1_score,s06_p1_g2_score, s07_p1_g1_score,s07_p1_g2_score, s08_p1_g1_score,s08_p1_g2_score,\n",
    "      s09_p1_g1_score, s09_p1_g2_score]})\n",
    "s_combo.set_index('participant', inplace=True, drop=True)'''"
   ]
  },
  {
   "cell_type": "code",
   "execution_count": 31,
   "metadata": {},
   "outputs": [],
   "source": [
    "\n",
    "#new_index = ('s01_g1','s01_g2','s02_g1','s03_g1','s03_g2','s05_g1','s05_g2', \n",
    "                               #'s06_g1','s06_g2','s07_g1','s07_g2','s08_g1','s08_g2','s09_g1','s09_g2')\n",
    "#s_combo.index = new_index"
   ]
  },
  {
   "cell_type": "code",
   "execution_count": 32,
   "metadata": {},
   "outputs": [
    {
     "data": {
      "text/html": [
       "<div>\n",
       "<style scoped>\n",
       "    .dataframe tbody tr th:only-of-type {\n",
       "        vertical-align: middle;\n",
       "    }\n",
       "\n",
       "    .dataframe tbody tr th {\n",
       "        vertical-align: top;\n",
       "    }\n",
       "\n",
       "    .dataframe thead th {\n",
       "        text-align: right;\n",
       "    }\n",
       "</style>\n",
       "<table border=\"1\" class=\"dataframe\">\n",
       "  <thead>\n",
       "    <tr style=\"text-align: right;\">\n",
       "      <th></th>\n",
       "      <th>score</th>\n",
       "    </tr>\n",
       "    <tr>\n",
       "      <th>participant</th>\n",
       "      <th></th>\n",
       "    </tr>\n",
       "  </thead>\n",
       "  <tbody>\n",
       "    <tr>\n",
       "      <th>s01</th>\n",
       "      <td>60</td>\n",
       "    </tr>\n",
       "    <tr>\n",
       "      <th>s02</th>\n",
       "      <td>63</td>\n",
       "    </tr>\n",
       "    <tr>\n",
       "      <th>s03</th>\n",
       "      <td>63</td>\n",
       "    </tr>\n",
       "    <tr>\n",
       "      <th>s05</th>\n",
       "      <td>77</td>\n",
       "    </tr>\n",
       "    <tr>\n",
       "      <th>s06</th>\n",
       "      <td>82</td>\n",
       "    </tr>\n",
       "    <tr>\n",
       "      <th>s07</th>\n",
       "      <td>63</td>\n",
       "    </tr>\n",
       "    <tr>\n",
       "      <th>s08</th>\n",
       "      <td>90</td>\n",
       "    </tr>\n",
       "    <tr>\n",
       "      <th>s09</th>\n",
       "      <td>65</td>\n",
       "    </tr>\n",
       "    <tr>\n",
       "      <th>s01</th>\n",
       "      <td>74</td>\n",
       "    </tr>\n",
       "    <tr>\n",
       "      <th>s03</th>\n",
       "      <td>71</td>\n",
       "    </tr>\n",
       "    <tr>\n",
       "      <th>s05</th>\n",
       "      <td>88</td>\n",
       "    </tr>\n",
       "    <tr>\n",
       "      <th>s06</th>\n",
       "      <td>87</td>\n",
       "    </tr>\n",
       "    <tr>\n",
       "      <th>s07</th>\n",
       "      <td>68</td>\n",
       "    </tr>\n",
       "    <tr>\n",
       "      <th>s08</th>\n",
       "      <td>80</td>\n",
       "    </tr>\n",
       "    <tr>\n",
       "      <th>s09</th>\n",
       "      <td>70</td>\n",
       "    </tr>\n",
       "  </tbody>\n",
       "</table>\n",
       "</div>"
      ],
      "text/plain": [
       "             score\n",
       "participant       \n",
       "s01             60\n",
       "s02             63\n",
       "s03             63\n",
       "s05             77\n",
       "s06             82\n",
       "s07             63\n",
       "s08             90\n",
       "s09             65\n",
       "s01             74\n",
       "s03             71\n",
       "s05             88\n",
       "s06             87\n",
       "s07             68\n",
       "s08             80\n",
       "s09             70"
      ]
     },
     "execution_count": 32,
     "metadata": {},
     "output_type": "execute_result"
    }
   ],
   "source": [
    "s_combo"
   ]
  },
  {
   "cell_type": "code",
   "execution_count": 33,
   "metadata": {},
   "outputs": [],
   "source": [
    "s_combo = s_combo.sort_values(by=['participant'])"
   ]
  },
  {
   "cell_type": "code",
   "execution_count": 34,
   "metadata": {},
   "outputs": [
    {
     "data": {
      "text/html": [
       "<div>\n",
       "<style scoped>\n",
       "    .dataframe tbody tr th:only-of-type {\n",
       "        vertical-align: middle;\n",
       "    }\n",
       "\n",
       "    .dataframe tbody tr th {\n",
       "        vertical-align: top;\n",
       "    }\n",
       "\n",
       "    .dataframe thead th {\n",
       "        text-align: right;\n",
       "    }\n",
       "</style>\n",
       "<table border=\"1\" class=\"dataframe\">\n",
       "  <thead>\n",
       "    <tr style=\"text-align: right;\">\n",
       "      <th></th>\n",
       "      <th>score</th>\n",
       "    </tr>\n",
       "    <tr>\n",
       "      <th>participant</th>\n",
       "      <th></th>\n",
       "    </tr>\n",
       "  </thead>\n",
       "  <tbody>\n",
       "    <tr>\n",
       "      <th>s01</th>\n",
       "      <td>60</td>\n",
       "    </tr>\n",
       "    <tr>\n",
       "      <th>s01</th>\n",
       "      <td>74</td>\n",
       "    </tr>\n",
       "    <tr>\n",
       "      <th>s02</th>\n",
       "      <td>63</td>\n",
       "    </tr>\n",
       "    <tr>\n",
       "      <th>s03</th>\n",
       "      <td>63</td>\n",
       "    </tr>\n",
       "    <tr>\n",
       "      <th>s03</th>\n",
       "      <td>71</td>\n",
       "    </tr>\n",
       "    <tr>\n",
       "      <th>s05</th>\n",
       "      <td>77</td>\n",
       "    </tr>\n",
       "    <tr>\n",
       "      <th>s05</th>\n",
       "      <td>88</td>\n",
       "    </tr>\n",
       "    <tr>\n",
       "      <th>s06</th>\n",
       "      <td>82</td>\n",
       "    </tr>\n",
       "    <tr>\n",
       "      <th>s06</th>\n",
       "      <td>87</td>\n",
       "    </tr>\n",
       "    <tr>\n",
       "      <th>s07</th>\n",
       "      <td>63</td>\n",
       "    </tr>\n",
       "    <tr>\n",
       "      <th>s07</th>\n",
       "      <td>68</td>\n",
       "    </tr>\n",
       "    <tr>\n",
       "      <th>s08</th>\n",
       "      <td>90</td>\n",
       "    </tr>\n",
       "    <tr>\n",
       "      <th>s08</th>\n",
       "      <td>80</td>\n",
       "    </tr>\n",
       "    <tr>\n",
       "      <th>s09</th>\n",
       "      <td>65</td>\n",
       "    </tr>\n",
       "    <tr>\n",
       "      <th>s09</th>\n",
       "      <td>70</td>\n",
       "    </tr>\n",
       "  </tbody>\n",
       "</table>\n",
       "</div>"
      ],
      "text/plain": [
       "             score\n",
       "participant       \n",
       "s01             60\n",
       "s01             74\n",
       "s02             63\n",
       "s03             63\n",
       "s03             71\n",
       "s05             77\n",
       "s05             88\n",
       "s06             82\n",
       "s06             87\n",
       "s07             63\n",
       "s07             68\n",
       "s08             90\n",
       "s08             80\n",
       "s09             65\n",
       "s09             70"
      ]
     },
     "execution_count": 34,
     "metadata": {},
     "output_type": "execute_result"
    }
   ],
   "source": [
    "s_combo"
   ]
  },
  {
   "cell_type": "code",
   "execution_count": 35,
   "metadata": {},
   "outputs": [
    {
     "data": {
      "image/png": "[encoded data removed]",
      "text/plain": [
       "<Figure size 432x288 with 1 Axes>"
      ]
     },
     "metadata": {
      "needs_background": "light"
     },
     "output_type": "display_data"
    }
   ],
   "source": [
    "#need to make g1 and g2 bars diff colors\n",
    "colors = list(islice(cycle(['red','blue','red','red','blue','red','blue','red','blue','red','blue','red','blue','red','blue']),None,len(s_combo)))\n",
    "#my_colors = list(islice(cycle(['b', 'r', 'g', 'y', 'k']), None, len(df)))\n",
    "s_combo_bar = s_combo.plot(kind='bar',color=colors)"
   ]
  },
  {
   "cell_type": "code",
   "execution_count": 36,
   "metadata": {},
   "outputs": [],
   "source": [
    "s_scores_1_mean = s_scores_1.mean()"
   ]
  },
  {
   "cell_type": "code",
   "execution_count": 37,
   "metadata": {},
   "outputs": [],
   "source": [
    "s_scores_1_std = s_scores_1.std()"
   ]
  },
  {
   "cell_type": "code",
   "execution_count": 38,
   "metadata": {},
   "outputs": [],
   "source": [
    "s_scores_2_mean = s_scores_2.mean()"
   ]
  },
  {
   "cell_type": "code",
   "execution_count": 39,
   "metadata": {},
   "outputs": [],
   "source": [
    "s_scores_2_std = s_scores_1.std()"
   ]
  },
  {
   "cell_type": "code",
   "execution_count": 40,
   "metadata": {},
   "outputs": [],
   "source": [
    "s_scores_2_std = s_scores_2.std()"
   ]
  },
  {
   "cell_type": "code",
   "execution_count": 41,
   "metadata": {},
   "outputs": [],
   "source": [
    "#does everyone do better in the second game? \n",
    "#does the player that did better in the first game always do better in the second game?"
   ]
  },
  {
   "cell_type": "code",
   "execution_count": 42,
   "metadata": {},
   "outputs": [],
   "source": [
    "#j_g1_scores = pd.DataFrame([j02_p1_g1_score, j02_p2_g1_score, j01_p1_g1_score, j01_p2_g1_score, j03_p1_g1_score, j03_p2_g1],index = ['j02_p1_g1_score', 'j02_p2_g1_score', 'jo1_p1_g1_score', 'j01_p2_g1_score', 'j03_p1_g1', 'j03_p2_g1'], columns=['score'])"
   ]
  },
  {
   "cell_type": "code",
   "execution_count": 43,
   "metadata": {},
   "outputs": [],
   "source": [
    "s_list = [s01,s02,s03,s05,s06,s07,s08,s09]"
   ]
  },
  {
   "cell_type": "code",
   "execution_count": 44,
   "metadata": {},
   "outputs": [
    {
     "name": "stderr",
     "output_type": "stream",
     "text": [
      "/Users/baryosef/anaconda3/lib/python3.7/site-packages/ipykernel_launcher.py:5: UserWarning: Boolean Series key will be reindexed to match DataFrame index.\n",
      "  \"\"\"\n",
      "/Users/baryosef/anaconda3/lib/python3.7/site-packages/ipykernel_launcher.py:6: UserWarning: Boolean Series key will be reindexed to match DataFrame index.\n",
      "  \n"
     ]
    }
   ],
   "source": [
    "#call separate_df for each frame (turn into a loop)\n",
    "s01_p1_g1, s01_p1_g2 = separate_df(s01, 's')\n",
    "s02_p1_g1, s02_p1_g2 = separate_df(s02, 's')\n",
    "s03_p1_g1, s03_p1_g2 = separate_df(s03, 's')\n",
    "s05_p1_g1, s05_p1_g2 = separate_df(s05, 's')\n",
    "s06_p1_g1, s06_p1_g2 = separate_df(s06, 's')\n",
    "s07_p1_g1, s07_p1_g2 = separate_df(s07, 's')\n",
    "s08_p1_g1, s08_p1_g2 = separate_df(s08, 's')\n",
    "s09_p1_g1, s09_p1_g2 = separate_df(s09, 's')"
   ]
  },
  {
   "cell_type": "code",
   "execution_count": 45,
   "metadata": {},
   "outputs": [
    {
     "data": {
      "text/html": [
       "<div>\n",
       "<style scoped>\n",
       "    .dataframe tbody tr th:only-of-type {\n",
       "        vertical-align: middle;\n",
       "    }\n",
       "\n",
       "    .dataframe tbody tr th {\n",
       "        vertical-align: top;\n",
       "    }\n",
       "\n",
       "    .dataframe thead th {\n",
       "        text-align: right;\n",
       "    }\n",
       "</style>\n",
       "<table border=\"1\" class=\"dataframe\">\n",
       "  <thead>\n",
       "    <tr style=\"text-align: right;\">\n",
       "      <th></th>\n",
       "      <th>game number</th>\n",
       "      <th>trial</th>\n",
       "      <th>player</th>\n",
       "      <th>arm</th>\n",
       "      <th>probability</th>\n",
       "      <th>reward</th>\n",
       "      <th>time</th>\n",
       "      <th>P1 score</th>\n",
       "      <th>P2 score</th>\n",
       "    </tr>\n",
       "  </thead>\n",
       "  <tbody>\n",
       "    <tr>\n",
       "      <th>0</th>\n",
       "      <td>1</td>\n",
       "      <td>1</td>\n",
       "      <td>1</td>\n",
       "      <td>2</td>\n",
       "      <td>30</td>\n",
       "      <td>1</td>\n",
       "      <td>11.220698</td>\n",
       "      <td>1</td>\n",
       "      <td>0</td>\n",
       "    </tr>\n",
       "    <tr>\n",
       "      <th>2</th>\n",
       "      <td>1</td>\n",
       "      <td>2</td>\n",
       "      <td>1</td>\n",
       "      <td>3</td>\n",
       "      <td>60</td>\n",
       "      <td>1</td>\n",
       "      <td>5.362458</td>\n",
       "      <td>2</td>\n",
       "      <td>1</td>\n",
       "    </tr>\n",
       "    <tr>\n",
       "      <th>4</th>\n",
       "      <td>1</td>\n",
       "      <td>3</td>\n",
       "      <td>1</td>\n",
       "      <td>2</td>\n",
       "      <td>30</td>\n",
       "      <td>0</td>\n",
       "      <td>3.489552</td>\n",
       "      <td>2</td>\n",
       "      <td>2</td>\n",
       "    </tr>\n",
       "    <tr>\n",
       "      <th>6</th>\n",
       "      <td>1</td>\n",
       "      <td>4</td>\n",
       "      <td>1</td>\n",
       "      <td>3</td>\n",
       "      <td>60</td>\n",
       "      <td>0</td>\n",
       "      <td>3.210886</td>\n",
       "      <td>2</td>\n",
       "      <td>3</td>\n",
       "    </tr>\n",
       "    <tr>\n",
       "      <th>8</th>\n",
       "      <td>1</td>\n",
       "      <td>5</td>\n",
       "      <td>1</td>\n",
       "      <td>3</td>\n",
       "      <td>60</td>\n",
       "      <td>1</td>\n",
       "      <td>2.904784</td>\n",
       "      <td>3</td>\n",
       "      <td>4</td>\n",
       "    </tr>\n",
       "    <tr>\n",
       "      <th>10</th>\n",
       "      <td>1</td>\n",
       "      <td>6</td>\n",
       "      <td>1</td>\n",
       "      <td>1</td>\n",
       "      <td>90</td>\n",
       "      <td>0</td>\n",
       "      <td>3.241885</td>\n",
       "      <td>3</td>\n",
       "      <td>5</td>\n",
       "    </tr>\n",
       "    <tr>\n",
       "      <th>12</th>\n",
       "      <td>1</td>\n",
       "      <td>7</td>\n",
       "      <td>1</td>\n",
       "      <td>1</td>\n",
       "      <td>90</td>\n",
       "      <td>1</td>\n",
       "      <td>2.839384</td>\n",
       "      <td>4</td>\n",
       "      <td>6</td>\n",
       "    </tr>\n",
       "    <tr>\n",
       "      <th>14</th>\n",
       "      <td>1</td>\n",
       "      <td>8</td>\n",
       "      <td>1</td>\n",
       "      <td>2</td>\n",
       "      <td>30</td>\n",
       "      <td>0</td>\n",
       "      <td>2.985595</td>\n",
       "      <td>4</td>\n",
       "      <td>7</td>\n",
       "    </tr>\n",
       "    <tr>\n",
       "      <th>16</th>\n",
       "      <td>1</td>\n",
       "      <td>9</td>\n",
       "      <td>1</td>\n",
       "      <td>2</td>\n",
       "      <td>30</td>\n",
       "      <td>1</td>\n",
       "      <td>2.581026</td>\n",
       "      <td>5</td>\n",
       "      <td>8</td>\n",
       "    </tr>\n",
       "    <tr>\n",
       "      <th>18</th>\n",
       "      <td>1</td>\n",
       "      <td>10</td>\n",
       "      <td>1</td>\n",
       "      <td>2</td>\n",
       "      <td>30</td>\n",
       "      <td>0</td>\n",
       "      <td>2.472073</td>\n",
       "      <td>5</td>\n",
       "      <td>9</td>\n",
       "    </tr>\n",
       "    <tr>\n",
       "      <th>20</th>\n",
       "      <td>1</td>\n",
       "      <td>11</td>\n",
       "      <td>1</td>\n",
       "      <td>3</td>\n",
       "      <td>60</td>\n",
       "      <td>0</td>\n",
       "      <td>2.506092</td>\n",
       "      <td>5</td>\n",
       "      <td>10</td>\n",
       "    </tr>\n",
       "    <tr>\n",
       "      <th>22</th>\n",
       "      <td>1</td>\n",
       "      <td>12</td>\n",
       "      <td>1</td>\n",
       "      <td>3</td>\n",
       "      <td>60</td>\n",
       "      <td>1</td>\n",
       "      <td>2.129512</td>\n",
       "      <td>6</td>\n",
       "      <td>11</td>\n",
       "    </tr>\n",
       "    <tr>\n",
       "      <th>24</th>\n",
       "      <td>1</td>\n",
       "      <td>13</td>\n",
       "      <td>1</td>\n",
       "      <td>3</td>\n",
       "      <td>60</td>\n",
       "      <td>1</td>\n",
       "      <td>2.859897</td>\n",
       "      <td>7</td>\n",
       "      <td>12</td>\n",
       "    </tr>\n",
       "    <tr>\n",
       "      <th>26</th>\n",
       "      <td>1</td>\n",
       "      <td>14</td>\n",
       "      <td>1</td>\n",
       "      <td>1</td>\n",
       "      <td>90</td>\n",
       "      <td>1</td>\n",
       "      <td>2.659386</td>\n",
       "      <td>8</td>\n",
       "      <td>13</td>\n",
       "    </tr>\n",
       "    <tr>\n",
       "      <th>28</th>\n",
       "      <td>1</td>\n",
       "      <td>15</td>\n",
       "      <td>1</td>\n",
       "      <td>3</td>\n",
       "      <td>60</td>\n",
       "      <td>1</td>\n",
       "      <td>2.522157</td>\n",
       "      <td>9</td>\n",
       "      <td>14</td>\n",
       "    </tr>\n",
       "    <tr>\n",
       "      <th>30</th>\n",
       "      <td>1</td>\n",
       "      <td>16</td>\n",
       "      <td>1</td>\n",
       "      <td>3</td>\n",
       "      <td>60</td>\n",
       "      <td>1</td>\n",
       "      <td>2.403007</td>\n",
       "      <td>10</td>\n",
       "      <td>15</td>\n",
       "    </tr>\n",
       "    <tr>\n",
       "      <th>32</th>\n",
       "      <td>1</td>\n",
       "      <td>17</td>\n",
       "      <td>1</td>\n",
       "      <td>2</td>\n",
       "      <td>30</td>\n",
       "      <td>0</td>\n",
       "      <td>2.331370</td>\n",
       "      <td>10</td>\n",
       "      <td>16</td>\n",
       "    </tr>\n",
       "    <tr>\n",
       "      <th>34</th>\n",
       "      <td>1</td>\n",
       "      <td>18</td>\n",
       "      <td>1</td>\n",
       "      <td>2</td>\n",
       "      <td>30</td>\n",
       "      <td>1</td>\n",
       "      <td>1.615854</td>\n",
       "      <td>11</td>\n",
       "      <td>17</td>\n",
       "    </tr>\n",
       "    <tr>\n",
       "      <th>36</th>\n",
       "      <td>1</td>\n",
       "      <td>19</td>\n",
       "      <td>1</td>\n",
       "      <td>3</td>\n",
       "      <td>60</td>\n",
       "      <td>0</td>\n",
       "      <td>2.721275</td>\n",
       "      <td>11</td>\n",
       "      <td>18</td>\n",
       "    </tr>\n",
       "    <tr>\n",
       "      <th>38</th>\n",
       "      <td>1</td>\n",
       "      <td>20</td>\n",
       "      <td>1</td>\n",
       "      <td>3</td>\n",
       "      <td>60</td>\n",
       "      <td>1</td>\n",
       "      <td>1.528131</td>\n",
       "      <td>12</td>\n",
       "      <td>19</td>\n",
       "    </tr>\n",
       "    <tr>\n",
       "      <th>40</th>\n",
       "      <td>1</td>\n",
       "      <td>21</td>\n",
       "      <td>1</td>\n",
       "      <td>1</td>\n",
       "      <td>90</td>\n",
       "      <td>1</td>\n",
       "      <td>2.266084</td>\n",
       "      <td>13</td>\n",
       "      <td>20</td>\n",
       "    </tr>\n",
       "    <tr>\n",
       "      <th>42</th>\n",
       "      <td>1</td>\n",
       "      <td>22</td>\n",
       "      <td>1</td>\n",
       "      <td>3</td>\n",
       "      <td>60</td>\n",
       "      <td>0</td>\n",
       "      <td>1.921934</td>\n",
       "      <td>13</td>\n",
       "      <td>21</td>\n",
       "    </tr>\n",
       "    <tr>\n",
       "      <th>44</th>\n",
       "      <td>1</td>\n",
       "      <td>23</td>\n",
       "      <td>1</td>\n",
       "      <td>3</td>\n",
       "      <td>60</td>\n",
       "      <td>0</td>\n",
       "      <td>1.533652</td>\n",
       "      <td>13</td>\n",
       "      <td>22</td>\n",
       "    </tr>\n",
       "    <tr>\n",
       "      <th>46</th>\n",
       "      <td>1</td>\n",
       "      <td>24</td>\n",
       "      <td>1</td>\n",
       "      <td>3</td>\n",
       "      <td>60</td>\n",
       "      <td>1</td>\n",
       "      <td>2.955235</td>\n",
       "      <td>14</td>\n",
       "      <td>23</td>\n",
       "    </tr>\n",
       "    <tr>\n",
       "      <th>48</th>\n",
       "      <td>1</td>\n",
       "      <td>25</td>\n",
       "      <td>1</td>\n",
       "      <td>2</td>\n",
       "      <td>30</td>\n",
       "      <td>0</td>\n",
       "      <td>1.914423</td>\n",
       "      <td>14</td>\n",
       "      <td>24</td>\n",
       "    </tr>\n",
       "    <tr>\n",
       "      <th>50</th>\n",
       "      <td>1</td>\n",
       "      <td>26</td>\n",
       "      <td>1</td>\n",
       "      <td>2</td>\n",
       "      <td>30</td>\n",
       "      <td>0</td>\n",
       "      <td>1.888488</td>\n",
       "      <td>14</td>\n",
       "      <td>25</td>\n",
       "    </tr>\n",
       "    <tr>\n",
       "      <th>52</th>\n",
       "      <td>1</td>\n",
       "      <td>27</td>\n",
       "      <td>1</td>\n",
       "      <td>2</td>\n",
       "      <td>30</td>\n",
       "      <td>0</td>\n",
       "      <td>1.781107</td>\n",
       "      <td>14</td>\n",
       "      <td>26</td>\n",
       "    </tr>\n",
       "    <tr>\n",
       "      <th>54</th>\n",
       "      <td>1</td>\n",
       "      <td>28</td>\n",
       "      <td>1</td>\n",
       "      <td>3</td>\n",
       "      <td>60</td>\n",
       "      <td>0</td>\n",
       "      <td>1.519401</td>\n",
       "      <td>14</td>\n",
       "      <td>26</td>\n",
       "    </tr>\n",
       "    <tr>\n",
       "      <th>56</th>\n",
       "      <td>1</td>\n",
       "      <td>29</td>\n",
       "      <td>1</td>\n",
       "      <td>3</td>\n",
       "      <td>60</td>\n",
       "      <td>1</td>\n",
       "      <td>1.473959</td>\n",
       "      <td>15</td>\n",
       "      <td>27</td>\n",
       "    </tr>\n",
       "    <tr>\n",
       "      <th>58</th>\n",
       "      <td>1</td>\n",
       "      <td>30</td>\n",
       "      <td>1</td>\n",
       "      <td>1</td>\n",
       "      <td>90</td>\n",
       "      <td>1</td>\n",
       "      <td>2.289316</td>\n",
       "      <td>16</td>\n",
       "      <td>28</td>\n",
       "    </tr>\n",
       "    <tr>\n",
       "      <th>...</th>\n",
       "      <td>...</td>\n",
       "      <td>...</td>\n",
       "      <td>...</td>\n",
       "      <td>...</td>\n",
       "      <td>...</td>\n",
       "      <td>...</td>\n",
       "      <td>...</td>\n",
       "      <td>...</td>\n",
       "      <td>...</td>\n",
       "    </tr>\n",
       "    <tr>\n",
       "      <th>140</th>\n",
       "      <td>1</td>\n",
       "      <td>71</td>\n",
       "      <td>1</td>\n",
       "      <td>3</td>\n",
       "      <td>60</td>\n",
       "      <td>1</td>\n",
       "      <td>1.448720</td>\n",
       "      <td>42</td>\n",
       "      <td>67</td>\n",
       "    </tr>\n",
       "    <tr>\n",
       "      <th>142</th>\n",
       "      <td>1</td>\n",
       "      <td>72</td>\n",
       "      <td>1</td>\n",
       "      <td>2</td>\n",
       "      <td>30</td>\n",
       "      <td>0</td>\n",
       "      <td>1.467476</td>\n",
       "      <td>42</td>\n",
       "      <td>68</td>\n",
       "    </tr>\n",
       "    <tr>\n",
       "      <th>144</th>\n",
       "      <td>1</td>\n",
       "      <td>73</td>\n",
       "      <td>1</td>\n",
       "      <td>2</td>\n",
       "      <td>30</td>\n",
       "      <td>0</td>\n",
       "      <td>1.257678</td>\n",
       "      <td>42</td>\n",
       "      <td>69</td>\n",
       "    </tr>\n",
       "    <tr>\n",
       "      <th>146</th>\n",
       "      <td>1</td>\n",
       "      <td>74</td>\n",
       "      <td>1</td>\n",
       "      <td>2</td>\n",
       "      <td>30</td>\n",
       "      <td>0</td>\n",
       "      <td>1.415270</td>\n",
       "      <td>42</td>\n",
       "      <td>70</td>\n",
       "    </tr>\n",
       "    <tr>\n",
       "      <th>148</th>\n",
       "      <td>1</td>\n",
       "      <td>75</td>\n",
       "      <td>1</td>\n",
       "      <td>2</td>\n",
       "      <td>30</td>\n",
       "      <td>0</td>\n",
       "      <td>2.420284</td>\n",
       "      <td>42</td>\n",
       "      <td>71</td>\n",
       "    </tr>\n",
       "    <tr>\n",
       "      <th>150</th>\n",
       "      <td>1</td>\n",
       "      <td>76</td>\n",
       "      <td>1</td>\n",
       "      <td>3</td>\n",
       "      <td>60</td>\n",
       "      <td>1</td>\n",
       "      <td>2.170641</td>\n",
       "      <td>43</td>\n",
       "      <td>71</td>\n",
       "    </tr>\n",
       "    <tr>\n",
       "      <th>152</th>\n",
       "      <td>1</td>\n",
       "      <td>77</td>\n",
       "      <td>1</td>\n",
       "      <td>3</td>\n",
       "      <td>60</td>\n",
       "      <td>1</td>\n",
       "      <td>1.457052</td>\n",
       "      <td>44</td>\n",
       "      <td>72</td>\n",
       "    </tr>\n",
       "    <tr>\n",
       "      <th>154</th>\n",
       "      <td>1</td>\n",
       "      <td>78</td>\n",
       "      <td>1</td>\n",
       "      <td>1</td>\n",
       "      <td>90</td>\n",
       "      <td>1</td>\n",
       "      <td>1.537557</td>\n",
       "      <td>45</td>\n",
       "      <td>72</td>\n",
       "    </tr>\n",
       "    <tr>\n",
       "      <th>156</th>\n",
       "      <td>1</td>\n",
       "      <td>79</td>\n",
       "      <td>1</td>\n",
       "      <td>3</td>\n",
       "      <td>60</td>\n",
       "      <td>1</td>\n",
       "      <td>2.329319</td>\n",
       "      <td>46</td>\n",
       "      <td>73</td>\n",
       "    </tr>\n",
       "    <tr>\n",
       "      <th>158</th>\n",
       "      <td>1</td>\n",
       "      <td>80</td>\n",
       "      <td>1</td>\n",
       "      <td>2</td>\n",
       "      <td>30</td>\n",
       "      <td>1</td>\n",
       "      <td>1.608453</td>\n",
       "      <td>47</td>\n",
       "      <td>74</td>\n",
       "    </tr>\n",
       "    <tr>\n",
       "      <th>160</th>\n",
       "      <td>1</td>\n",
       "      <td>81</td>\n",
       "      <td>1</td>\n",
       "      <td>3</td>\n",
       "      <td>60</td>\n",
       "      <td>0</td>\n",
       "      <td>1.631706</td>\n",
       "      <td>47</td>\n",
       "      <td>75</td>\n",
       "    </tr>\n",
       "    <tr>\n",
       "      <th>162</th>\n",
       "      <td>1</td>\n",
       "      <td>82</td>\n",
       "      <td>1</td>\n",
       "      <td>3</td>\n",
       "      <td>60</td>\n",
       "      <td>1</td>\n",
       "      <td>1.624927</td>\n",
       "      <td>48</td>\n",
       "      <td>76</td>\n",
       "    </tr>\n",
       "    <tr>\n",
       "      <th>164</th>\n",
       "      <td>1</td>\n",
       "      <td>83</td>\n",
       "      <td>1</td>\n",
       "      <td>1</td>\n",
       "      <td>90</td>\n",
       "      <td>1</td>\n",
       "      <td>1.638796</td>\n",
       "      <td>49</td>\n",
       "      <td>77</td>\n",
       "    </tr>\n",
       "    <tr>\n",
       "      <th>166</th>\n",
       "      <td>1</td>\n",
       "      <td>84</td>\n",
       "      <td>1</td>\n",
       "      <td>2</td>\n",
       "      <td>30</td>\n",
       "      <td>0</td>\n",
       "      <td>2.659396</td>\n",
       "      <td>49</td>\n",
       "      <td>78</td>\n",
       "    </tr>\n",
       "    <tr>\n",
       "      <th>168</th>\n",
       "      <td>1</td>\n",
       "      <td>85</td>\n",
       "      <td>1</td>\n",
       "      <td>2</td>\n",
       "      <td>30</td>\n",
       "      <td>1</td>\n",
       "      <td>1.234653</td>\n",
       "      <td>50</td>\n",
       "      <td>79</td>\n",
       "    </tr>\n",
       "    <tr>\n",
       "      <th>170</th>\n",
       "      <td>1</td>\n",
       "      <td>86</td>\n",
       "      <td>1</td>\n",
       "      <td>3</td>\n",
       "      <td>60</td>\n",
       "      <td>1</td>\n",
       "      <td>1.416928</td>\n",
       "      <td>51</td>\n",
       "      <td>80</td>\n",
       "    </tr>\n",
       "    <tr>\n",
       "      <th>172</th>\n",
       "      <td>1</td>\n",
       "      <td>87</td>\n",
       "      <td>1</td>\n",
       "      <td>3</td>\n",
       "      <td>60</td>\n",
       "      <td>1</td>\n",
       "      <td>1.529071</td>\n",
       "      <td>52</td>\n",
       "      <td>81</td>\n",
       "    </tr>\n",
       "    <tr>\n",
       "      <th>174</th>\n",
       "      <td>1</td>\n",
       "      <td>88</td>\n",
       "      <td>1</td>\n",
       "      <td>2</td>\n",
       "      <td>30</td>\n",
       "      <td>0</td>\n",
       "      <td>2.073493</td>\n",
       "      <td>52</td>\n",
       "      <td>82</td>\n",
       "    </tr>\n",
       "    <tr>\n",
       "      <th>176</th>\n",
       "      <td>1</td>\n",
       "      <td>89</td>\n",
       "      <td>1</td>\n",
       "      <td>2</td>\n",
       "      <td>30</td>\n",
       "      <td>1</td>\n",
       "      <td>1.056381</td>\n",
       "      <td>53</td>\n",
       "      <td>82</td>\n",
       "    </tr>\n",
       "    <tr>\n",
       "      <th>178</th>\n",
       "      <td>1</td>\n",
       "      <td>90</td>\n",
       "      <td>1</td>\n",
       "      <td>2</td>\n",
       "      <td>30</td>\n",
       "      <td>1</td>\n",
       "      <td>1.825835</td>\n",
       "      <td>54</td>\n",
       "      <td>83</td>\n",
       "    </tr>\n",
       "    <tr>\n",
       "      <th>180</th>\n",
       "      <td>1</td>\n",
       "      <td>91</td>\n",
       "      <td>1</td>\n",
       "      <td>3</td>\n",
       "      <td>60</td>\n",
       "      <td>0</td>\n",
       "      <td>1.346466</td>\n",
       "      <td>54</td>\n",
       "      <td>84</td>\n",
       "    </tr>\n",
       "    <tr>\n",
       "      <th>182</th>\n",
       "      <td>1</td>\n",
       "      <td>92</td>\n",
       "      <td>1</td>\n",
       "      <td>2</td>\n",
       "      <td>30</td>\n",
       "      <td>0</td>\n",
       "      <td>1.424022</td>\n",
       "      <td>54</td>\n",
       "      <td>84</td>\n",
       "    </tr>\n",
       "    <tr>\n",
       "      <th>184</th>\n",
       "      <td>1</td>\n",
       "      <td>93</td>\n",
       "      <td>1</td>\n",
       "      <td>1</td>\n",
       "      <td>90</td>\n",
       "      <td>1</td>\n",
       "      <td>1.641574</td>\n",
       "      <td>55</td>\n",
       "      <td>85</td>\n",
       "    </tr>\n",
       "    <tr>\n",
       "      <th>186</th>\n",
       "      <td>1</td>\n",
       "      <td>94</td>\n",
       "      <td>1</td>\n",
       "      <td>3</td>\n",
       "      <td>60</td>\n",
       "      <td>0</td>\n",
       "      <td>1.182522</td>\n",
       "      <td>55</td>\n",
       "      <td>86</td>\n",
       "    </tr>\n",
       "    <tr>\n",
       "      <th>188</th>\n",
       "      <td>1</td>\n",
       "      <td>95</td>\n",
       "      <td>1</td>\n",
       "      <td>3</td>\n",
       "      <td>60</td>\n",
       "      <td>0</td>\n",
       "      <td>2.175322</td>\n",
       "      <td>55</td>\n",
       "      <td>86</td>\n",
       "    </tr>\n",
       "    <tr>\n",
       "      <th>190</th>\n",
       "      <td>1</td>\n",
       "      <td>96</td>\n",
       "      <td>1</td>\n",
       "      <td>3</td>\n",
       "      <td>60</td>\n",
       "      <td>1</td>\n",
       "      <td>1.272485</td>\n",
       "      <td>56</td>\n",
       "      <td>87</td>\n",
       "    </tr>\n",
       "    <tr>\n",
       "      <th>192</th>\n",
       "      <td>1</td>\n",
       "      <td>97</td>\n",
       "      <td>1</td>\n",
       "      <td>2</td>\n",
       "      <td>30</td>\n",
       "      <td>1</td>\n",
       "      <td>1.465173</td>\n",
       "      <td>57</td>\n",
       "      <td>88</td>\n",
       "    </tr>\n",
       "    <tr>\n",
       "      <th>194</th>\n",
       "      <td>1</td>\n",
       "      <td>98</td>\n",
       "      <td>1</td>\n",
       "      <td>3</td>\n",
       "      <td>60</td>\n",
       "      <td>1</td>\n",
       "      <td>1.440924</td>\n",
       "      <td>58</td>\n",
       "      <td>89</td>\n",
       "    </tr>\n",
       "    <tr>\n",
       "      <th>196</th>\n",
       "      <td>1</td>\n",
       "      <td>99</td>\n",
       "      <td>1</td>\n",
       "      <td>3</td>\n",
       "      <td>60</td>\n",
       "      <td>1</td>\n",
       "      <td>1.370627</td>\n",
       "      <td>59</td>\n",
       "      <td>90</td>\n",
       "    </tr>\n",
       "    <tr>\n",
       "      <th>198</th>\n",
       "      <td>1</td>\n",
       "      <td>100</td>\n",
       "      <td>1</td>\n",
       "      <td>1</td>\n",
       "      <td>90</td>\n",
       "      <td>1</td>\n",
       "      <td>2.248848</td>\n",
       "      <td>60</td>\n",
       "      <td>91</td>\n",
       "    </tr>\n",
       "  </tbody>\n",
       "</table>\n",
       "<p>100 rows × 9 columns</p>\n",
       "</div>"
      ],
      "text/plain": [
       "     game number  trial  player  arm  probability  reward       time  \\\n",
       "0              1      1       1    2           30       1  11.220698   \n",
       "2              1      2       1    3           60       1   5.362458   \n",
       "4              1      3       1    2           30       0   3.489552   \n",
       "6              1      4       1    3           60       0   3.210886   \n",
       "8              1      5       1    3           60       1   2.904784   \n",
       "10             1      6       1    1           90       0   3.241885   \n",
       "12             1      7       1    1           90       1   2.839384   \n",
       "14             1      8       1    2           30       0   2.985595   \n",
       "16             1      9       1    2           30       1   2.581026   \n",
       "18             1     10       1    2           30       0   2.472073   \n",
       "20             1     11       1    3           60       0   2.506092   \n",
       "22             1     12       1    3           60       1   2.129512   \n",
       "24             1     13       1    3           60       1   2.859897   \n",
       "26             1     14       1    1           90       1   2.659386   \n",
       "28             1     15       1    3           60       1   2.522157   \n",
       "30             1     16       1    3           60       1   2.403007   \n",
       "32             1     17       1    2           30       0   2.331370   \n",
       "34             1     18       1    2           30       1   1.615854   \n",
       "36             1     19       1    3           60       0   2.721275   \n",
       "38             1     20       1    3           60       1   1.528131   \n",
       "40             1     21       1    1           90       1   2.266084   \n",
       "42             1     22       1    3           60       0   1.921934   \n",
       "44             1     23       1    3           60       0   1.533652   \n",
       "46             1     24       1    3           60       1   2.955235   \n",
       "48             1     25       1    2           30       0   1.914423   \n",
       "50             1     26       1    2           30       0   1.888488   \n",
       "52             1     27       1    2           30       0   1.781107   \n",
       "54             1     28       1    3           60       0   1.519401   \n",
       "56             1     29       1    3           60       1   1.473959   \n",
       "58             1     30       1    1           90       1   2.289316   \n",
       "..           ...    ...     ...  ...          ...     ...        ...   \n",
       "140            1     71       1    3           60       1   1.448720   \n",
       "142            1     72       1    2           30       0   1.467476   \n",
       "144            1     73       1    2           30       0   1.257678   \n",
       "146            1     74       1    2           30       0   1.415270   \n",
       "148            1     75       1    2           30       0   2.420284   \n",
       "150            1     76       1    3           60       1   2.170641   \n",
       "152            1     77       1    3           60       1   1.457052   \n",
       "154            1     78       1    1           90       1   1.537557   \n",
       "156            1     79       1    3           60       1   2.329319   \n",
       "158            1     80       1    2           30       1   1.608453   \n",
       "160            1     81       1    3           60       0   1.631706   \n",
       "162            1     82       1    3           60       1   1.624927   \n",
       "164            1     83       1    1           90       1   1.638796   \n",
       "166            1     84       1    2           30       0   2.659396   \n",
       "168            1     85       1    2           30       1   1.234653   \n",
       "170            1     86       1    3           60       1   1.416928   \n",
       "172            1     87       1    3           60       1   1.529071   \n",
       "174            1     88       1    2           30       0   2.073493   \n",
       "176            1     89       1    2           30       1   1.056381   \n",
       "178            1     90       1    2           30       1   1.825835   \n",
       "180            1     91       1    3           60       0   1.346466   \n",
       "182            1     92       1    2           30       0   1.424022   \n",
       "184            1     93       1    1           90       1   1.641574   \n",
       "186            1     94       1    3           60       0   1.182522   \n",
       "188            1     95       1    3           60       0   2.175322   \n",
       "190            1     96       1    3           60       1   1.272485   \n",
       "192            1     97       1    2           30       1   1.465173   \n",
       "194            1     98       1    3           60       1   1.440924   \n",
       "196            1     99       1    3           60       1   1.370627   \n",
       "198            1    100       1    1           90       1   2.248848   \n",
       "\n",
       "     P1 score  P2 score  \n",
       "0           1         0  \n",
       "2           2         1  \n",
       "4           2         2  \n",
       "6           2         3  \n",
       "8           3         4  \n",
       "10          3         5  \n",
       "12          4         6  \n",
       "14          4         7  \n",
       "16          5         8  \n",
       "18          5         9  \n",
       "20          5        10  \n",
       "22          6        11  \n",
       "24          7        12  \n",
       "26          8        13  \n",
       "28          9        14  \n",
       "30         10        15  \n",
       "32         10        16  \n",
       "34         11        17  \n",
       "36         11        18  \n",
       "38         12        19  \n",
       "40         13        20  \n",
       "42         13        21  \n",
       "44         13        22  \n",
       "46         14        23  \n",
       "48         14        24  \n",
       "50         14        25  \n",
       "52         14        26  \n",
       "54         14        26  \n",
       "56         15        27  \n",
       "58         16        28  \n",
       "..        ...       ...  \n",
       "140        42        67  \n",
       "142        42        68  \n",
       "144        42        69  \n",
       "146        42        70  \n",
       "148        42        71  \n",
       "150        43        71  \n",
       "152        44        72  \n",
       "154        45        72  \n",
       "156        46        73  \n",
       "158        47        74  \n",
       "160        47        75  \n",
       "162        48        76  \n",
       "164        49        77  \n",
       "166        49        78  \n",
       "168        50        79  \n",
       "170        51        80  \n",
       "172        52        81  \n",
       "174        52        82  \n",
       "176        53        82  \n",
       "178        54        83  \n",
       "180        54        84  \n",
       "182        54        84  \n",
       "184        55        85  \n",
       "186        55        86  \n",
       "188        55        86  \n",
       "190        56        87  \n",
       "192        57        88  \n",
       "194        58        89  \n",
       "196        59        90  \n",
       "198        60        91  \n",
       "\n",
       "[100 rows x 9 columns]"
      ]
     },
     "execution_count": 45,
     "metadata": {},
     "output_type": "execute_result"
    }
   ],
   "source": [
    "s01_p1_g1"
   ]
  },
  {
   "cell_type": "code",
   "execution_count": 46,
   "metadata": {},
   "outputs": [],
   "source": [
    "#counts the number of times each player chose each arm in games 1 and 2\n",
    "s01_p1_g1_count = s01_p1_g1['probability'].value_counts(sort=False)\n",
    "s01_p1_g2_count = s01_p1_g2['probability'].value_counts(sort=False)\n",
    "s02_p1_g1_count = s02_p1_g1['probability'].value_counts(sort=False) #no second game\n",
    "s03_p1_g1_count = s03_p1_g1['probability'].value_counts(sort=False)\n",
    "s03_p1_g2_count = s03_p1_g2['probability'].value_counts(sort=False)\n",
    "s05_p1_g1_count = s05_p1_g1['probability'].value_counts(sort=False)\n",
    "s05_p1_g2_count = s05_p1_g2['probability'].value_counts(sort=False)\n",
    "s06_p1_g1_count = s06_p1_g1['probability'].value_counts(sort=False)\n",
    "s06_p1_g2_count = s06_p1_g2['probability'].value_counts(sort=False)\n",
    "s07_p1_g1_count = s07_p1_g1['probability'].value_counts(sort=False)\n",
    "s07_p1_g2_count = s07_p1_g2['probability'].value_counts(sort=False)\n",
    "s08_p1_g1_count = s08_p1_g1['probability'].value_counts(sort=False)\n",
    "s08_p1_g2_count = s08_p1_g2['probability'].value_counts(sort=False)\n",
    "s09_p1_g1_count = s09_p1_g1['probability'].value_counts(sort=False)\n",
    "s09_p1_g2_count = s09_p1_g2['probability'].value_counts(sort=False)"
   ]
  },
  {
   "cell_type": "markdown",
   "metadata": {},
   "source": [
    "# Dynamic Probability Learning Model"
   ]
  },
  {
   "cell_type": "code",
   "execution_count": 47,
   "metadata": {},
   "outputs": [],
   "source": [
    "#create dataframe with first 20 trials\n",
    "#change 20 to meaningful number\n",
    "s01_p1_g1_0to20 = s01_p1_g1[:20]"
   ]
  },
  {
   "cell_type": "code",
   "execution_count": 48,
   "metadata": {},
   "outputs": [
    {
     "data": {
      "text/html": [
       "<div>\n",
       "<style scoped>\n",
       "    .dataframe tbody tr th:only-of-type {\n",
       "        vertical-align: middle;\n",
       "    }\n",
       "\n",
       "    .dataframe tbody tr th {\n",
       "        vertical-align: top;\n",
       "    }\n",
       "\n",
       "    .dataframe thead th {\n",
       "        text-align: right;\n",
       "    }\n",
       "</style>\n",
       "<table border=\"1\" class=\"dataframe\">\n",
       "  <thead>\n",
       "    <tr style=\"text-align: right;\">\n",
       "      <th></th>\n",
       "      <th>game number</th>\n",
       "      <th>trial</th>\n",
       "      <th>player</th>\n",
       "      <th>arm</th>\n",
       "      <th>probability</th>\n",
       "      <th>reward</th>\n",
       "      <th>time</th>\n",
       "      <th>P1 score</th>\n",
       "      <th>P2 score</th>\n",
       "    </tr>\n",
       "  </thead>\n",
       "  <tbody>\n",
       "    <tr>\n",
       "      <th>0</th>\n",
       "      <td>1</td>\n",
       "      <td>1</td>\n",
       "      <td>1</td>\n",
       "      <td>2</td>\n",
       "      <td>30</td>\n",
       "      <td>1</td>\n",
       "      <td>11.220698</td>\n",
       "      <td>1</td>\n",
       "      <td>0</td>\n",
       "    </tr>\n",
       "    <tr>\n",
       "      <th>2</th>\n",
       "      <td>1</td>\n",
       "      <td>2</td>\n",
       "      <td>1</td>\n",
       "      <td>3</td>\n",
       "      <td>60</td>\n",
       "      <td>1</td>\n",
       "      <td>5.362458</td>\n",
       "      <td>2</td>\n",
       "      <td>1</td>\n",
       "    </tr>\n",
       "    <tr>\n",
       "      <th>4</th>\n",
       "      <td>1</td>\n",
       "      <td>3</td>\n",
       "      <td>1</td>\n",
       "      <td>2</td>\n",
       "      <td>30</td>\n",
       "      <td>0</td>\n",
       "      <td>3.489552</td>\n",
       "      <td>2</td>\n",
       "      <td>2</td>\n",
       "    </tr>\n",
       "    <tr>\n",
       "      <th>6</th>\n",
       "      <td>1</td>\n",
       "      <td>4</td>\n",
       "      <td>1</td>\n",
       "      <td>3</td>\n",
       "      <td>60</td>\n",
       "      <td>0</td>\n",
       "      <td>3.210886</td>\n",
       "      <td>2</td>\n",
       "      <td>3</td>\n",
       "    </tr>\n",
       "    <tr>\n",
       "      <th>8</th>\n",
       "      <td>1</td>\n",
       "      <td>5</td>\n",
       "      <td>1</td>\n",
       "      <td>3</td>\n",
       "      <td>60</td>\n",
       "      <td>1</td>\n",
       "      <td>2.904784</td>\n",
       "      <td>3</td>\n",
       "      <td>4</td>\n",
       "    </tr>\n",
       "    <tr>\n",
       "      <th>10</th>\n",
       "      <td>1</td>\n",
       "      <td>6</td>\n",
       "      <td>1</td>\n",
       "      <td>1</td>\n",
       "      <td>90</td>\n",
       "      <td>0</td>\n",
       "      <td>3.241885</td>\n",
       "      <td>3</td>\n",
       "      <td>5</td>\n",
       "    </tr>\n",
       "    <tr>\n",
       "      <th>12</th>\n",
       "      <td>1</td>\n",
       "      <td>7</td>\n",
       "      <td>1</td>\n",
       "      <td>1</td>\n",
       "      <td>90</td>\n",
       "      <td>1</td>\n",
       "      <td>2.839384</td>\n",
       "      <td>4</td>\n",
       "      <td>6</td>\n",
       "    </tr>\n",
       "    <tr>\n",
       "      <th>14</th>\n",
       "      <td>1</td>\n",
       "      <td>8</td>\n",
       "      <td>1</td>\n",
       "      <td>2</td>\n",
       "      <td>30</td>\n",
       "      <td>0</td>\n",
       "      <td>2.985595</td>\n",
       "      <td>4</td>\n",
       "      <td>7</td>\n",
       "    </tr>\n",
       "    <tr>\n",
       "      <th>16</th>\n",
       "      <td>1</td>\n",
       "      <td>9</td>\n",
       "      <td>1</td>\n",
       "      <td>2</td>\n",
       "      <td>30</td>\n",
       "      <td>1</td>\n",
       "      <td>2.581026</td>\n",
       "      <td>5</td>\n",
       "      <td>8</td>\n",
       "    </tr>\n",
       "    <tr>\n",
       "      <th>18</th>\n",
       "      <td>1</td>\n",
       "      <td>10</td>\n",
       "      <td>1</td>\n",
       "      <td>2</td>\n",
       "      <td>30</td>\n",
       "      <td>0</td>\n",
       "      <td>2.472073</td>\n",
       "      <td>5</td>\n",
       "      <td>9</td>\n",
       "    </tr>\n",
       "    <tr>\n",
       "      <th>20</th>\n",
       "      <td>1</td>\n",
       "      <td>11</td>\n",
       "      <td>1</td>\n",
       "      <td>3</td>\n",
       "      <td>60</td>\n",
       "      <td>0</td>\n",
       "      <td>2.506092</td>\n",
       "      <td>5</td>\n",
       "      <td>10</td>\n",
       "    </tr>\n",
       "    <tr>\n",
       "      <th>22</th>\n",
       "      <td>1</td>\n",
       "      <td>12</td>\n",
       "      <td>1</td>\n",
       "      <td>3</td>\n",
       "      <td>60</td>\n",
       "      <td>1</td>\n",
       "      <td>2.129512</td>\n",
       "      <td>6</td>\n",
       "      <td>11</td>\n",
       "    </tr>\n",
       "    <tr>\n",
       "      <th>24</th>\n",
       "      <td>1</td>\n",
       "      <td>13</td>\n",
       "      <td>1</td>\n",
       "      <td>3</td>\n",
       "      <td>60</td>\n",
       "      <td>1</td>\n",
       "      <td>2.859897</td>\n",
       "      <td>7</td>\n",
       "      <td>12</td>\n",
       "    </tr>\n",
       "    <tr>\n",
       "      <th>26</th>\n",
       "      <td>1</td>\n",
       "      <td>14</td>\n",
       "      <td>1</td>\n",
       "      <td>1</td>\n",
       "      <td>90</td>\n",
       "      <td>1</td>\n",
       "      <td>2.659386</td>\n",
       "      <td>8</td>\n",
       "      <td>13</td>\n",
       "    </tr>\n",
       "    <tr>\n",
       "      <th>28</th>\n",
       "      <td>1</td>\n",
       "      <td>15</td>\n",
       "      <td>1</td>\n",
       "      <td>3</td>\n",
       "      <td>60</td>\n",
       "      <td>1</td>\n",
       "      <td>2.522157</td>\n",
       "      <td>9</td>\n",
       "      <td>14</td>\n",
       "    </tr>\n",
       "    <tr>\n",
       "      <th>30</th>\n",
       "      <td>1</td>\n",
       "      <td>16</td>\n",
       "      <td>1</td>\n",
       "      <td>3</td>\n",
       "      <td>60</td>\n",
       "      <td>1</td>\n",
       "      <td>2.403007</td>\n",
       "      <td>10</td>\n",
       "      <td>15</td>\n",
       "    </tr>\n",
       "    <tr>\n",
       "      <th>32</th>\n",
       "      <td>1</td>\n",
       "      <td>17</td>\n",
       "      <td>1</td>\n",
       "      <td>2</td>\n",
       "      <td>30</td>\n",
       "      <td>0</td>\n",
       "      <td>2.331370</td>\n",
       "      <td>10</td>\n",
       "      <td>16</td>\n",
       "    </tr>\n",
       "    <tr>\n",
       "      <th>34</th>\n",
       "      <td>1</td>\n",
       "      <td>18</td>\n",
       "      <td>1</td>\n",
       "      <td>2</td>\n",
       "      <td>30</td>\n",
       "      <td>1</td>\n",
       "      <td>1.615854</td>\n",
       "      <td>11</td>\n",
       "      <td>17</td>\n",
       "    </tr>\n",
       "    <tr>\n",
       "      <th>36</th>\n",
       "      <td>1</td>\n",
       "      <td>19</td>\n",
       "      <td>1</td>\n",
       "      <td>3</td>\n",
       "      <td>60</td>\n",
       "      <td>0</td>\n",
       "      <td>2.721275</td>\n",
       "      <td>11</td>\n",
       "      <td>18</td>\n",
       "    </tr>\n",
       "    <tr>\n",
       "      <th>38</th>\n",
       "      <td>1</td>\n",
       "      <td>20</td>\n",
       "      <td>1</td>\n",
       "      <td>3</td>\n",
       "      <td>60</td>\n",
       "      <td>1</td>\n",
       "      <td>1.528131</td>\n",
       "      <td>12</td>\n",
       "      <td>19</td>\n",
       "    </tr>\n",
       "  </tbody>\n",
       "</table>\n",
       "</div>"
      ],
      "text/plain": [
       "    game number  trial  player  arm  probability  reward       time  P1 score  \\\n",
       "0             1      1       1    2           30       1  11.220698         1   \n",
       "2             1      2       1    3           60       1   5.362458         2   \n",
       "4             1      3       1    2           30       0   3.489552         2   \n",
       "6             1      4       1    3           60       0   3.210886         2   \n",
       "8             1      5       1    3           60       1   2.904784         3   \n",
       "10            1      6       1    1           90       0   3.241885         3   \n",
       "12            1      7       1    1           90       1   2.839384         4   \n",
       "14            1      8       1    2           30       0   2.985595         4   \n",
       "16            1      9       1    2           30       1   2.581026         5   \n",
       "18            1     10       1    2           30       0   2.472073         5   \n",
       "20            1     11       1    3           60       0   2.506092         5   \n",
       "22            1     12       1    3           60       1   2.129512         6   \n",
       "24            1     13       1    3           60       1   2.859897         7   \n",
       "26            1     14       1    1           90       1   2.659386         8   \n",
       "28            1     15       1    3           60       1   2.522157         9   \n",
       "30            1     16       1    3           60       1   2.403007        10   \n",
       "32            1     17       1    2           30       0   2.331370        10   \n",
       "34            1     18       1    2           30       1   1.615854        11   \n",
       "36            1     19       1    3           60       0   2.721275        11   \n",
       "38            1     20       1    3           60       1   1.528131        12   \n",
       "\n",
       "    P2 score  \n",
       "0          0  \n",
       "2          1  \n",
       "4          2  \n",
       "6          3  \n",
       "8          4  \n",
       "10         5  \n",
       "12         6  \n",
       "14         7  \n",
       "16         8  \n",
       "18         9  \n",
       "20        10  \n",
       "22        11  \n",
       "24        12  \n",
       "26        13  \n",
       "28        14  \n",
       "30        15  \n",
       "32        16  \n",
       "34        17  \n",
       "36        18  \n",
       "38        19  "
      ]
     },
     "execution_count": 48,
     "metadata": {},
     "output_type": "execute_result"
    }
   ],
   "source": [
    "s01_p1_g1_0to20"
   ]
  },
  {
   "cell_type": "code",
   "execution_count": 49,
   "metadata": {},
   "outputs": [],
   "source": [
    "#get value counts for first 20 trials\n",
    "s01_p1_g1_count_0to20 = s01_p1_g1_0to20['probability'].value_counts(sort=False)"
   ]
  },
  {
   "cell_type": "code",
   "execution_count": 50,
   "metadata": {},
   "outputs": [
    {
     "data": {
      "text/plain": [
       "90     3\n",
       "60    10\n",
       "30     7\n",
       "Name: probability, dtype: int64"
      ]
     },
     "execution_count": 50,
     "metadata": {},
     "output_type": "execute_result"
    }
   ],
   "source": [
    "s01_p1_g1_count_0to20"
   ]
  },
  {
   "cell_type": "code",
   "execution_count": 51,
   "metadata": {},
   "outputs": [],
   "source": [
    "#create df's that are subsets of 0to20 for each probabolity\n",
    "s01_p1_g1_0to20_30 = s01_p1_g1_0to20[s01_p1_g1_0to20['probability'] == 30]\n",
    "s01_p1_g1_0to20_60 = s01_p1_g1_0to20[s01_p1_g1_0to20['probability'] == 60]\n",
    "s01_p1_g1_0to20_90 = s01_p1_g1_0to20[s01_p1_g1_0to20['probability'] == 90]"
   ]
  },
  {
   "cell_type": "code",
   "execution_count": 52,
   "metadata": {},
   "outputs": [
    {
     "data": {
      "text/html": [
       "<div>\n",
       "<style scoped>\n",
       "    .dataframe tbody tr th:only-of-type {\n",
       "        vertical-align: middle;\n",
       "    }\n",
       "\n",
       "    .dataframe tbody tr th {\n",
       "        vertical-align: top;\n",
       "    }\n",
       "\n",
       "    .dataframe thead th {\n",
       "        text-align: right;\n",
       "    }\n",
       "</style>\n",
       "<table border=\"1\" class=\"dataframe\">\n",
       "  <thead>\n",
       "    <tr style=\"text-align: right;\">\n",
       "      <th></th>\n",
       "      <th>game number</th>\n",
       "      <th>trial</th>\n",
       "      <th>player</th>\n",
       "      <th>arm</th>\n",
       "      <th>probability</th>\n",
       "      <th>reward</th>\n",
       "      <th>time</th>\n",
       "      <th>P1 score</th>\n",
       "      <th>P2 score</th>\n",
       "    </tr>\n",
       "  </thead>\n",
       "  <tbody>\n",
       "    <tr>\n",
       "      <th>0</th>\n",
       "      <td>1</td>\n",
       "      <td>1</td>\n",
       "      <td>1</td>\n",
       "      <td>2</td>\n",
       "      <td>30</td>\n",
       "      <td>1</td>\n",
       "      <td>11.220698</td>\n",
       "      <td>1</td>\n",
       "      <td>0</td>\n",
       "    </tr>\n",
       "    <tr>\n",
       "      <th>4</th>\n",
       "      <td>1</td>\n",
       "      <td>3</td>\n",
       "      <td>1</td>\n",
       "      <td>2</td>\n",
       "      <td>30</td>\n",
       "      <td>0</td>\n",
       "      <td>3.489552</td>\n",
       "      <td>2</td>\n",
       "      <td>2</td>\n",
       "    </tr>\n",
       "    <tr>\n",
       "      <th>14</th>\n",
       "      <td>1</td>\n",
       "      <td>8</td>\n",
       "      <td>1</td>\n",
       "      <td>2</td>\n",
       "      <td>30</td>\n",
       "      <td>0</td>\n",
       "      <td>2.985595</td>\n",
       "      <td>4</td>\n",
       "      <td>7</td>\n",
       "    </tr>\n",
       "    <tr>\n",
       "      <th>16</th>\n",
       "      <td>1</td>\n",
       "      <td>9</td>\n",
       "      <td>1</td>\n",
       "      <td>2</td>\n",
       "      <td>30</td>\n",
       "      <td>1</td>\n",
       "      <td>2.581026</td>\n",
       "      <td>5</td>\n",
       "      <td>8</td>\n",
       "    </tr>\n",
       "    <tr>\n",
       "      <th>18</th>\n",
       "      <td>1</td>\n",
       "      <td>10</td>\n",
       "      <td>1</td>\n",
       "      <td>2</td>\n",
       "      <td>30</td>\n",
       "      <td>0</td>\n",
       "      <td>2.472073</td>\n",
       "      <td>5</td>\n",
       "      <td>9</td>\n",
       "    </tr>\n",
       "    <tr>\n",
       "      <th>32</th>\n",
       "      <td>1</td>\n",
       "      <td>17</td>\n",
       "      <td>1</td>\n",
       "      <td>2</td>\n",
       "      <td>30</td>\n",
       "      <td>0</td>\n",
       "      <td>2.331370</td>\n",
       "      <td>10</td>\n",
       "      <td>16</td>\n",
       "    </tr>\n",
       "    <tr>\n",
       "      <th>34</th>\n",
       "      <td>1</td>\n",
       "      <td>18</td>\n",
       "      <td>1</td>\n",
       "      <td>2</td>\n",
       "      <td>30</td>\n",
       "      <td>1</td>\n",
       "      <td>1.615854</td>\n",
       "      <td>11</td>\n",
       "      <td>17</td>\n",
       "    </tr>\n",
       "  </tbody>\n",
       "</table>\n",
       "</div>"
      ],
      "text/plain": [
       "    game number  trial  player  arm  probability  reward       time  P1 score  \\\n",
       "0             1      1       1    2           30       1  11.220698         1   \n",
       "4             1      3       1    2           30       0   3.489552         2   \n",
       "14            1      8       1    2           30       0   2.985595         4   \n",
       "16            1      9       1    2           30       1   2.581026         5   \n",
       "18            1     10       1    2           30       0   2.472073         5   \n",
       "32            1     17       1    2           30       0   2.331370        10   \n",
       "34            1     18       1    2           30       1   1.615854        11   \n",
       "\n",
       "    P2 score  \n",
       "0          0  \n",
       "4          2  \n",
       "14         7  \n",
       "16         8  \n",
       "18         9  \n",
       "32        16  \n",
       "34        17  "
      ]
     },
     "execution_count": 52,
     "metadata": {},
     "output_type": "execute_result"
    }
   ],
   "source": [
    "s01_p1_g1_0to20_30"
   ]
  },
  {
   "cell_type": "code",
   "execution_count": 53,
   "metadata": {},
   "outputs": [],
   "source": [
    "#count the number of rewards and no rewards for each probability\n",
    "s01_p1_g1_0to20_30_counts = s01_p1_g1_0to20_30['reward'].value_counts()\n",
    "s01_p1_g1_0to20_60_counts = s01_p1_g1_0to20_60['reward'].value_counts()\n",
    "s01_p1_g1_0to20_90_counts = s01_p1_g1_0to20_90['reward'].value_counts()"
   ]
  },
  {
   "cell_type": "code",
   "execution_count": 54,
   "metadata": {},
   "outputs": [
    {
     "data": {
      "text/plain": [
       "0    4\n",
       "1    3\n",
       "Name: reward, dtype: int64"
      ]
     },
     "execution_count": 54,
     "metadata": {},
     "output_type": "execute_result"
    }
   ],
   "source": [
    "s01_p1_g1_0to20_30_counts"
   ]
  },
  {
   "cell_type": "code",
   "execution_count": 55,
   "metadata": {},
   "outputs": [],
   "source": [
    "s01_p1_g1_0to20_30_prob = (s01_p1_g1_0to20_30_counts[1]/(s01_p1_g1_count_0to20[30]))\n",
    "s01_p1_g1_0to20_60_prob = (s01_p1_g1_0to20_60_counts[1]/(s01_p1_g1_count_0to20[60]))\n",
    "s01_p1_g1_0to20_90_prob = (s01_p1_g1_0to20_90_counts[1]/(s01_p1_g1_count_0to20[90]))"
   ]
  },
  {
   "cell_type": "code",
   "execution_count": 56,
   "metadata": {},
   "outputs": [
    {
     "data": {
      "text/plain": [
       "0.42857142857142855"
      ]
     },
     "execution_count": 56,
     "metadata": {},
     "output_type": "execute_result"
    }
   ],
   "source": [
    "s01_p1_g1_0to20_30_prob"
   ]
  },
  {
   "cell_type": "code",
   "execution_count": 57,
   "metadata": {},
   "outputs": [
    {
     "data": {
      "text/html": [
       "<div>\n",
       "<style scoped>\n",
       "    .dataframe tbody tr th:only-of-type {\n",
       "        vertical-align: middle;\n",
       "    }\n",
       "\n",
       "    .dataframe tbody tr th {\n",
       "        vertical-align: top;\n",
       "    }\n",
       "\n",
       "    .dataframe thead th {\n",
       "        text-align: right;\n",
       "    }\n",
       "</style>\n",
       "<table border=\"1\" class=\"dataframe\">\n",
       "  <thead>\n",
       "    <tr style=\"text-align: right;\">\n",
       "      <th></th>\n",
       "      <th>prob</th>\n",
       "    </tr>\n",
       "  </thead>\n",
       "  <tbody>\n",
       "    <tr>\n",
       "      <th>30</th>\n",
       "      <td>0.428571</td>\n",
       "    </tr>\n",
       "    <tr>\n",
       "      <th>60</th>\n",
       "      <td>0.700000</td>\n",
       "    </tr>\n",
       "    <tr>\n",
       "      <th>90</th>\n",
       "      <td>0.666667</td>\n",
       "    </tr>\n",
       "  </tbody>\n",
       "</table>\n",
       "</div>"
      ],
      "text/plain": [
       "        prob\n",
       "30  0.428571\n",
       "60  0.700000\n",
       "90  0.666667"
      ]
     },
     "execution_count": 57,
     "metadata": {},
     "output_type": "execute_result"
    }
   ],
   "source": [
    "s01_p1_g1_0to20_probs = pd.DataFrame([s01_p1_g1_0to20_30_prob, s01_p1_g1_0to20_60_prob, s01_p1_g1_0to20_90_prob],\n",
    "                         index=['30', '60', '90'])\n",
    "s01_p1_g1_0to20_probs.rename(columns={0:'prob'})"
   ]
  },
  {
   "cell_type": "code",
   "execution_count": 58,
   "metadata": {},
   "outputs": [],
   "source": [
    "s_g1_counts = pd.DataFrame([s01_p1_g1_count, s02_p1_g1_count, s03_p1_g1_count, \n",
    "                            s05_p1_g1_count, s06_p1_g1_count, s07_p1_g1_count, s08_p1_g1_count, s09_p1_g1_count],\n",
    "                          index=['s01_p1_g1_count', 's02_p1_g1_count', 's03_p1_g1_count', \n",
    "                            's05_p1_g1_count', 's06_p1_g1_count', 's07_p1_g1_count', 's08_p1_g1_count', 's09_p1_g1_count'])"
   ]
  },
  {
   "cell_type": "code",
   "execution_count": 59,
   "metadata": {},
   "outputs": [
    {
     "data": {
      "text/html": [
       "<div>\n",
       "<style scoped>\n",
       "    .dataframe tbody tr th:only-of-type {\n",
       "        vertical-align: middle;\n",
       "    }\n",
       "\n",
       "    .dataframe tbody tr th {\n",
       "        vertical-align: top;\n",
       "    }\n",
       "\n",
       "    .dataframe thead th {\n",
       "        text-align: right;\n",
       "    }\n",
       "</style>\n",
       "<table border=\"1\" class=\"dataframe\">\n",
       "  <thead>\n",
       "    <tr style=\"text-align: right;\">\n",
       "      <th></th>\n",
       "      <th>30</th>\n",
       "      <th>60</th>\n",
       "      <th>90</th>\n",
       "    </tr>\n",
       "  </thead>\n",
       "  <tbody>\n",
       "    <tr>\n",
       "      <th>s01_p1_g1_count</th>\n",
       "      <td>38</td>\n",
       "      <td>43</td>\n",
       "      <td>19</td>\n",
       "    </tr>\n",
       "    <tr>\n",
       "      <th>s02_p1_g1_count</th>\n",
       "      <td>23</td>\n",
       "      <td>27</td>\n",
       "      <td>50</td>\n",
       "    </tr>\n",
       "    <tr>\n",
       "      <th>s03_p1_g1_count</th>\n",
       "      <td>28</td>\n",
       "      <td>38</td>\n",
       "      <td>34</td>\n",
       "    </tr>\n",
       "    <tr>\n",
       "      <th>s05_p1_g1_count</th>\n",
       "      <td>11</td>\n",
       "      <td>35</td>\n",
       "      <td>54</td>\n",
       "    </tr>\n",
       "    <tr>\n",
       "      <th>s06_p1_g1_count</th>\n",
       "      <td>11</td>\n",
       "      <td>13</td>\n",
       "      <td>76</td>\n",
       "    </tr>\n",
       "    <tr>\n",
       "      <th>s07_p1_g1_count</th>\n",
       "      <td>25</td>\n",
       "      <td>29</td>\n",
       "      <td>46</td>\n",
       "    </tr>\n",
       "    <tr>\n",
       "      <th>s08_p1_g1_count</th>\n",
       "      <td>2</td>\n",
       "      <td>6</td>\n",
       "      <td>92</td>\n",
       "    </tr>\n",
       "    <tr>\n",
       "      <th>s09_p1_g1_count</th>\n",
       "      <td>17</td>\n",
       "      <td>38</td>\n",
       "      <td>45</td>\n",
       "    </tr>\n",
       "  </tbody>\n",
       "</table>\n",
       "</div>"
      ],
      "text/plain": [
       "                 30  60  90\n",
       "s01_p1_g1_count  38  43  19\n",
       "s02_p1_g1_count  23  27  50\n",
       "s03_p1_g1_count  28  38  34\n",
       "s05_p1_g1_count  11  35  54\n",
       "s06_p1_g1_count  11  13  76\n",
       "s07_p1_g1_count  25  29  46\n",
       "s08_p1_g1_count   2   6  92\n",
       "s09_p1_g1_count  17  38  45"
      ]
     },
     "execution_count": 59,
     "metadata": {},
     "output_type": "execute_result"
    }
   ],
   "source": [
    "s_g1_counts"
   ]
  },
  {
   "cell_type": "markdown",
   "metadata": {},
   "source": [
    "# look at 21-100 in 5 trial intervals"
   ]
  },
  {
   "cell_type": "code",
   "execution_count": 73,
   "metadata": {},
   "outputs": [],
   "source": [
    "def split_df(df):\n",
    "    one = df[21:26]\n",
    "    two = df[26:31]\n",
    "    three = df[31:36]\n",
    "    four = df[36:41]\n",
    "    five = df[41:46]\n",
    "    ''''six = df[46:51]\n",
    "    seven = df[51:56]\n",
    "    eight = df[56:61]\n",
    "    nine = df[61:66]\n",
    "    ten = df[66:71]\n",
    "    eleven = df[71:76]\n",
    "    twelve = df[76:81]\n",
    "    thirteen = df[81:86]\n",
    "    fourteen = df[86:91]\n",
    "    fifteen = df[91:96]\n",
    "    sixteen = df[96:100]'''\n",
    "    return one,two,three,four,five"
   ]
  },
  {
   "cell_type": "code",
   "execution_count": 74,
   "metadata": {},
   "outputs": [],
   "source": [
    "def split_df_abs(df, start, interval):\n",
    "    n = (100 - start)/interval\n",
    "    for x in range(0, n):\n",
    "        segment = df[start+x:start+x+n]"
   ]
  },
  {
   "cell_type": "code",
   "execution_count": 83,
   "metadata": {},
   "outputs": [],
   "source": [
    "s01_p1_g1_list = [1,2,3,4,5]"
   ]
  },
  {
   "cell_type": "code",
   "execution_count": 76,
   "metadata": {},
   "outputs": [],
   "source": [
    "#not working\n",
    "s01_p1_g1_list[0],s01_p1_g1_list[1],s01_p1_g1_list[2],s01_p1_g1_list[3],s01_p1_g1_list[4]=split_df(s01_p1_g1)"
   ]
  },
  {
   "cell_type": "code",
   "execution_count": 89,
   "metadata": {},
   "outputs": [],
   "source": [
    "s01_p1_g1_1 = s01_p1_g1[21:26]\n",
    "s01_p1_g1_2 = s01_p1_g1[26:31]\n",
    "s01_p1_g1_3 = s01_p1_g1[31:36]\n",
    "s01_p1_g1_4 = s01_p1_g1[36:41]\n",
    "s01_p1_g1_5 = s01_p1_g1[41:46]"
   ]
  },
  {
   "cell_type": "code",
   "execution_count": 90,
   "metadata": {},
   "outputs": [
    {
     "data": {
      "text/html": [
       "<div>\n",
       "<style scoped>\n",
       "    .dataframe tbody tr th:only-of-type {\n",
       "        vertical-align: middle;\n",
       "    }\n",
       "\n",
       "    .dataframe tbody tr th {\n",
       "        vertical-align: top;\n",
       "    }\n",
       "\n",
       "    .dataframe thead th {\n",
       "        text-align: right;\n",
       "    }\n",
       "</style>\n",
       "<table border=\"1\" class=\"dataframe\">\n",
       "  <thead>\n",
       "    <tr style=\"text-align: right;\">\n",
       "      <th></th>\n",
       "      <th>game number</th>\n",
       "      <th>trial</th>\n",
       "      <th>player</th>\n",
       "      <th>arm</th>\n",
       "      <th>probability</th>\n",
       "      <th>reward</th>\n",
       "      <th>time</th>\n",
       "      <th>P1 score</th>\n",
       "      <th>P2 score</th>\n",
       "    </tr>\n",
       "  </thead>\n",
       "  <tbody>\n",
       "    <tr>\n",
       "      <th>42</th>\n",
       "      <td>1</td>\n",
       "      <td>22</td>\n",
       "      <td>1</td>\n",
       "      <td>3</td>\n",
       "      <td>60</td>\n",
       "      <td>0</td>\n",
       "      <td>1.921934</td>\n",
       "      <td>13</td>\n",
       "      <td>21</td>\n",
       "    </tr>\n",
       "    <tr>\n",
       "      <th>44</th>\n",
       "      <td>1</td>\n",
       "      <td>23</td>\n",
       "      <td>1</td>\n",
       "      <td>3</td>\n",
       "      <td>60</td>\n",
       "      <td>0</td>\n",
       "      <td>1.533652</td>\n",
       "      <td>13</td>\n",
       "      <td>22</td>\n",
       "    </tr>\n",
       "    <tr>\n",
       "      <th>46</th>\n",
       "      <td>1</td>\n",
       "      <td>24</td>\n",
       "      <td>1</td>\n",
       "      <td>3</td>\n",
       "      <td>60</td>\n",
       "      <td>1</td>\n",
       "      <td>2.955235</td>\n",
       "      <td>14</td>\n",
       "      <td>23</td>\n",
       "    </tr>\n",
       "    <tr>\n",
       "      <th>48</th>\n",
       "      <td>1</td>\n",
       "      <td>25</td>\n",
       "      <td>1</td>\n",
       "      <td>2</td>\n",
       "      <td>30</td>\n",
       "      <td>0</td>\n",
       "      <td>1.914423</td>\n",
       "      <td>14</td>\n",
       "      <td>24</td>\n",
       "    </tr>\n",
       "    <tr>\n",
       "      <th>50</th>\n",
       "      <td>1</td>\n",
       "      <td>26</td>\n",
       "      <td>1</td>\n",
       "      <td>2</td>\n",
       "      <td>30</td>\n",
       "      <td>0</td>\n",
       "      <td>1.888488</td>\n",
       "      <td>14</td>\n",
       "      <td>25</td>\n",
       "    </tr>\n",
       "  </tbody>\n",
       "</table>\n",
       "</div>"
      ],
      "text/plain": [
       "    game number  trial  player  arm  probability  reward      time  P1 score  \\\n",
       "42            1     22       1    3           60       0  1.921934        13   \n",
       "44            1     23       1    3           60       0  1.533652        13   \n",
       "46            1     24       1    3           60       1  2.955235        14   \n",
       "48            1     25       1    2           30       0  1.914423        14   \n",
       "50            1     26       1    2           30       0  1.888488        14   \n",
       "\n",
       "    P2 score  \n",
       "42        21  \n",
       "44        22  \n",
       "46        23  \n",
       "48        24  \n",
       "50        25  "
      ]
     },
     "execution_count": 90,
     "metadata": {},
     "output_type": "execute_result"
    }
   ],
   "source": [
    "s01_p1_g1_1"
   ]
  },
  {
   "cell_type": "code",
   "execution_count": 91,
   "metadata": {},
   "outputs": [],
   "source": [
    "list = [s01_p1_g1_1,s01_p1_g1_2,s01_p1_g1_3,s01_p1_g1_4,s01_p1_g1_5]"
   ]
  },
  {
   "cell_type": "code",
   "execution_count": 96,
   "metadata": {},
   "outputs": [
    {
     "ename": "SyntaxError",
     "evalue": "EOF while scanning triple-quoted string literal (<ipython-input-96-8ade3d9413ab>, line 4)",
     "output_type": "error",
     "traceback": [
      "\u001b[0;36m  File \u001b[0;32m\"<ipython-input-96-8ade3d9413ab>\"\u001b[0;36m, line \u001b[0;32m4\u001b[0m\n\u001b[0;31m    counts[i] = list[i]['probability'].value_counts(sort=False)''''''\u001b[0m\n\u001b[0m                                                                     \n^\u001b[0m\n\u001b[0;31mSyntaxError\u001b[0m\u001b[0;31m:\u001b[0m EOF while scanning triple-quoted string literal\n"
     ]
    }
   ],
   "source": [
    "#not working\n",
    "''''\n",
    "for i in range(5):\n",
    "    counts[i] = list[i]['probability'].value_counts(sort=False)''''''"
   ]
  },
  {
   "cell_type": "code",
   "execution_count": 97,
   "metadata": {},
   "outputs": [],
   "source": [
    "s01_p1_g1_1_counts = s01_p1_g1_1['probability'].value_counts(sort=False)"
   ]
  },
  {
   "cell_type": "code",
   "execution_count": 98,
   "metadata": {},
   "outputs": [
    {
     "data": {
      "text/plain": [
       "60    3\n",
       "30    2\n",
       "Name: probability, dtype: int64"
      ]
     },
     "execution_count": 98,
     "metadata": {},
     "output_type": "execute_result"
    }
   ],
   "source": [
    "s01_p1_g1_1_counts"
   ]
  },
  {
   "cell_type": "code",
   "execution_count": null,
   "metadata": {},
   "outputs": [],
   "source": [
    "#need to: get rate and compare to rate in 0-20\n",
    "#for next interval, need to update with rate from 0-20 thusfar "
   ]
  },
  {
   "cell_type": "markdown",
   "metadata": {},
   "source": [
    "# Choices in G1 and G2"
   ]
  },
  {
   "cell_type": "code",
   "execution_count": null,
   "metadata": {},
   "outputs": [],
   "source": [
    "s_g1_counts"
   ]
  },
  {
   "cell_type": "code",
   "execution_count": null,
   "metadata": {},
   "outputs": [],
   "source": [
    "s_g1_counts_bar = s_g1_counts.plot.bar()"
   ]
  },
  {
   "cell_type": "code",
   "execution_count": null,
   "metadata": {},
   "outputs": [],
   "source": [
    "s_g1_low = np.mean(s_g1_counts.iloc[:,0])"
   ]
  },
  {
   "cell_type": "code",
   "execution_count": null,
   "metadata": {},
   "outputs": [],
   "source": [
    "s_g1_med = np.mean(s_g1_counts.iloc[:,1])"
   ]
  },
  {
   "cell_type": "code",
   "execution_count": null,
   "metadata": {},
   "outputs": [],
   "source": [
    "s_g1_high = np.mean(s_g1_counts.iloc[:,2])"
   ]
  },
  {
   "cell_type": "code",
   "execution_count": null,
   "metadata": {},
   "outputs": [],
   "source": [
    "s_g1_low_std = np.std(s_g1_counts.iloc[:,0])\n",
    "s_g1_med_std = np.std(s_g1_counts.iloc[:,1])\n",
    "s_g1_high_std = np.std(s_g1_counts.iloc[:,2])"
   ]
  },
  {
   "cell_type": "code",
   "execution_count": null,
   "metadata": {},
   "outputs": [],
   "source": [
    "s_g1_low"
   ]
  },
  {
   "cell_type": "code",
   "execution_count": null,
   "metadata": {},
   "outputs": [],
   "source": [
    "s_g1_med"
   ]
  },
  {
   "cell_type": "code",
   "execution_count": null,
   "metadata": {},
   "outputs": [],
   "source": [
    "s_g1_high"
   ]
  },
  {
   "cell_type": "code",
   "execution_count": null,
   "metadata": {},
   "outputs": [],
   "source": [
    "s_g2_counts = pd.DataFrame([s01_p1_g2_count, s03_p1_g2_count, \n",
    "                            s05_p1_g2_count, s06_p1_g2_count, s07_p1_g2_count, s08_p1_g2_count, s09_p1_g2_count],\n",
    "                          index=['s01_p1_g2_count', 's03_p1_g2_count', \n",
    "                            's05_p1_g2_count', 's06_p1_g2_count', 's07_p1_g2_count', 's08_p1_g2_count', 's09_p1_g2_count'])"
   ]
  },
  {
   "cell_type": "code",
   "execution_count": null,
   "metadata": {},
   "outputs": [],
   "source": [
    "s_g2_counts"
   ]
  },
  {
   "cell_type": "code",
   "execution_count": null,
   "metadata": {},
   "outputs": [],
   "source": [
    "#maximizing and matching?"
   ]
  },
  {
   "cell_type": "code",
   "execution_count": null,
   "metadata": {},
   "outputs": [],
   "source": [
    "s_g2_counts_bar = s_g2_counts.plot.bar()"
   ]
  },
  {
   "cell_type": "code",
   "execution_count": null,
   "metadata": {},
   "outputs": [],
   "source": [
    "s_g2_low = np.mean(s_g2_counts.iloc[:,0])\n",
    "s_g2_med = np.mean(s_g2_counts.iloc[:,1])\n",
    "s_g2_high = np.mean(s_g2_counts.iloc[:,2])"
   ]
  },
  {
   "cell_type": "code",
   "execution_count": null,
   "metadata": {},
   "outputs": [],
   "source": [
    "s_g2_low_std = np.std(s_g2_counts.iloc[:,0])\n",
    "s_g2_med_std = np.std(s_g2_counts.iloc[:,1])\n",
    "s_g2_high_std = np.std(s_g2_counts.iloc[:,2])"
   ]
  },
  {
   "cell_type": "code",
   "execution_count": null,
   "metadata": {},
   "outputs": [],
   "source": [
    "s_g2_low"
   ]
  },
  {
   "cell_type": "code",
   "execution_count": null,
   "metadata": {},
   "outputs": [],
   "source": [
    "s_g2_med"
   ]
  },
  {
   "cell_type": "code",
   "execution_count": null,
   "metadata": {},
   "outputs": [],
   "source": [
    "s_g2_high"
   ]
  },
  {
   "cell_type": "markdown",
   "metadata": {},
   "source": [
    "# Joint Analysis"
   ]
  },
  {
   "cell_type": "code",
   "execution_count": null,
   "metadata": {},
   "outputs": [],
   "source": [
    "df = organize_trial_by_trial('data/j01_gamedata.csv')\n",
    "j01 = df\n",
    "j01_p1_g1_score,j01_p1_g2_score,j01_p2_g1_score,j01_p2_g2_score,j01_p1_diff,j01_p2_diff = call_get_score(j01, 'j')\n",
    "j01.head()"
   ]
  },
  {
   "cell_type": "code",
   "execution_count": null,
   "metadata": {},
   "outputs": [],
   "source": [
    "df = organize_trial_by_trial('data/j02_gamedata.csv')\n",
    "j02 = df\n",
    "j02_p1_g1_score,j02_p1_g2_score,j02_p2_g1_score,j02_p2_g2_score,j02_p1_diff,j02_p2_diff = call_get_score(j02, 'j')\n",
    "j02.head()"
   ]
  },
  {
   "cell_type": "code",
   "execution_count": null,
   "metadata": {},
   "outputs": [],
   "source": [
    "df = organize_trial_by_trial('data/j03_gamedata.csv')\n",
    "j03 = df\n",
    "j03_p1_g1_score,j03_p1_g2_score,j03_p2_g1_score,j03_p2_g2_score,j03_p1_diff,j03_p2_diff = call_get_score(j03, 'j')\n",
    "j03.head()"
   ]
  },
  {
   "cell_type": "code",
   "execution_count": null,
   "metadata": {},
   "outputs": [],
   "source": [
    "df = organize_trial_by_trial('data/j04_gamedata.csv')\n",
    "j04 = df\n",
    "j04_p1_g1_score,j04_p1_g2_score,j04_p2_g1_score,j04_p2_g2_score,j04_p1_diff,j04_p2_diff = call_get_score(j04, 'j')\n",
    "j04.head()"
   ]
  },
  {
   "cell_type": "code",
   "execution_count": null,
   "metadata": {},
   "outputs": [],
   "source": [
    "df = organize_trial_by_trial('data/j05_gamedata.csv')\n",
    "j05 = df\n",
    "j05_p1_g1_score,j05_p1_g2_score,j05_p2_g1_score,j05_p2_g2_score,j05_p1_diff,j05_p2_diff = call_get_score(j05, 'j')\n",
    "j05.head()"
   ]
  },
  {
   "cell_type": "code",
   "execution_count": null,
   "metadata": {},
   "outputs": [],
   "source": [
    "df = organize_trial_by_trial('data/j06_gamedata.csv')\n",
    "j06 = df\n",
    "j06_p1_g1_score,j06_p1_g2_score,j06_p2_g1_score,j06_p2_g2_score,j06_p1_diff,j06_p2_diff = call_get_score(j06, 'j')\n",
    "j06.head()"
   ]
  },
  {
   "cell_type": "code",
   "execution_count": null,
   "metadata": {},
   "outputs": [],
   "source": [
    "df = organize_trial_by_trial('data/j07_gamedata.csv')\n",
    "j07 = df\n",
    "j07_p1_g1_score,j07_p1_g2_score,j07_p2_g1_score,j07_p2_g2_score,j07_p1_diff,j07_p2_diff = call_get_score(j07, 'j')\n",
    "j07.head()"
   ]
  },
  {
   "cell_type": "code",
   "execution_count": null,
   "metadata": {},
   "outputs": [],
   "source": [
    "df = organize_trial_by_trial('data/j08_gamedata.csv')\n",
    "j08 = df\n",
    "j08_p1_g1_score,j08_p1_g2_score,j08_p2_g1_score,j08_p2_g2_score,j08_p1_diff,j08_p2_diff = call_get_score(j08, 'j')\n",
    "j08.head()"
   ]
  },
  {
   "cell_type": "markdown",
   "metadata": {},
   "source": [
    "# Scores in G1 and G2"
   ]
  },
  {
   "cell_type": "code",
   "execution_count": null,
   "metadata": {},
   "outputs": [],
   "source": [
    "j_scores_1 = pd.DataFrame({'participant':['j01_p1_g1_score','j01_p2_g1_score','j02_p1_g1_score','j02_p2_g1_score','j03_p1_g1_score','j03_p2_g1_score','j04_p1_g1_score',\n",
    "      'j04_p2_g1_score','j05_p1_g1_score','j05_p2_g1_score','j06_p1_g1_score','j06_p2_g1_score','j07_p1_g1_score','j07_p2_g1_score',\n",
    "      'j08_p1_g1_score', 'j08_p2_g1_score'], 'score':\n",
    "     [j01_p1_g1_score,j01_p2_g1_score,j02_p1_g1_score,j02_p2_g1_score,j03_p1_g1_score,j03_p2_g1_score,j04_p1_g1_score,\n",
    "      j04_p2_g1_score,j05_p1_g1_score,j05_p2_g1_score,j06_p1_g1_score,j06_p2_g1_score,j07_p1_g1_score,j07_p2_g1_score,\n",
    "      j08_p1_g1_score, j08_p2_g1_score]})\n",
    "j_scores_1.set_index('participant', inplace=True, drop=True)\n",
    "j_scores_2 = pd.DataFrame({'participant':['j01_p1_g2_score','j01_p2_g2_score','j02_p1_g2_score','j02_p2_g2_score','j03_p1_g2_score','j03_p2_g2_score','j04_p1_g2_score',\n",
    "      'j04_p2_g2_score','j05_p1_g2_score','j05_p2_g2_score','j06_p1_g2_score','j06_p2_g2_score','j07_p1_g2_score','j07_p2_g2_score',\n",
    "      'j08_p1_g2_score', 'j08_p2_g2_score'], 'score':\n",
    "     [j01_p1_g2_score,j01_p2_g2_score,j02_p1_g2_score,j02_p2_g2_score,j03_p1_g2_score,j03_p2_g2_score,j04_p1_g2_score,\n",
    "      j04_p2_g2_score,j05_p1_g2_score,j05_p2_g2_score,j06_p1_g2_score,j06_p2_g2_score,j07_p1_g2_score,j07_p2_g2_score,\n",
    "      j08_p1_g2_score, j08_p2_g2_score]})\n",
    "j_scores_2.set_index('participant', inplace=True, drop=True)\n",
    "#s_scores_1 = pd.DataFrame(data = d1)\n",
    "#s_scores_2 = pd.DataFrame(data = d2)\n",
    "j_scores_1"
   ]
  },
  {
   "cell_type": "code",
   "execution_count": null,
   "metadata": {},
   "outputs": [],
   "source": [
    "j_scores_2"
   ]
  },
  {
   "cell_type": "code",
   "execution_count": null,
   "metadata": {},
   "outputs": [],
   "source": [
    "j_scores_1_mean = j_scores_1.mean()"
   ]
  },
  {
   "cell_type": "code",
   "execution_count": null,
   "metadata": {},
   "outputs": [],
   "source": [
    "j_scores_1_std = j_scores_1.std()"
   ]
  },
  {
   "cell_type": "code",
   "execution_count": null,
   "metadata": {},
   "outputs": [],
   "source": [
    "j_scores_2_mean = j_scores_2.mean()"
   ]
  },
  {
   "cell_type": "code",
   "execution_count": null,
   "metadata": {},
   "outputs": [],
   "source": [
    "j_scores_2_std = j_scores_2.std()"
   ]
  },
  {
   "cell_type": "code",
   "execution_count": null,
   "metadata": {},
   "outputs": [],
   "source": [
    "#combine g1 and g2 to one dataframe\n",
    "j_combo = j_scores_1.append(j_scores_2)"
   ]
  },
  {
   "cell_type": "code",
   "execution_count": null,
   "metadata": {},
   "outputs": [],
   "source": [
    "j_combo"
   ]
  },
  {
   "cell_type": "code",
   "execution_count": null,
   "metadata": {},
   "outputs": [],
   "source": [
    "j_combo = j_combo.sort_values(by=['participant'])"
   ]
  },
  {
   "cell_type": "code",
   "execution_count": null,
   "metadata": {},
   "outputs": [],
   "source": [
    "j_combo_bar = j_combo.plot(kind='bar',color=colors)"
   ]
  },
  {
   "cell_type": "code",
   "execution_count": null,
   "metadata": {},
   "outputs": [],
   "source": [
    "j_score_diff = pd.DataFrame({'participant':['j01_p1','j01_p2','j02_p1','j02_p2','j03_p1','j03_p2','j04_p1','j04_p2',\n",
    "                                          'j05_p1','j05_p2','j06_p1','j06_p2','j07_p1','j07_p2','j06_p1','j06_p2'], 'score_diff':\n",
    "     [j01_p1_diff,j01_p2_diff,j02_p1_diff,j02_p2_diff,j03_p1_diff,j03_p2_diff,j04_p1_diff,j04_p2_diff,\n",
    "     j05_p1_diff,j05_p2_diff,j06_p1_diff,j06_p2_diff,j07_p1_diff,j07_p2_diff,j08_p1_diff,j08_p2_diff]})"
   ]
  },
  {
   "cell_type": "code",
   "execution_count": null,
   "metadata": {},
   "outputs": [],
   "source": [
    "j_score_diff"
   ]
  },
  {
   "cell_type": "code",
   "execution_count": null,
   "metadata": {},
   "outputs": [],
   "source": [
    "#impairs learning?"
   ]
  },
  {
   "cell_type": "code",
   "execution_count": null,
   "metadata": {},
   "outputs": [],
   "source": [
    "#pattern within sessions for score_diff?\n",
    "#5 ppl did worse second time; joint interfered with learning"
   ]
  },
  {
   "cell_type": "code",
   "execution_count": null,
   "metadata": {},
   "outputs": [],
   "source": [
    "j_score_diff_mean = j_score_diff['score_diff'].mean()"
   ]
  },
  {
   "cell_type": "code",
   "execution_count": null,
   "metadata": {},
   "outputs": [],
   "source": [
    "j_score_diff_mean"
   ]
  },
  {
   "cell_type": "markdown",
   "metadata": {},
   "source": [
    "# Choice Distributions"
   ]
  },
  {
   "cell_type": "code",
   "execution_count": null,
   "metadata": {},
   "outputs": [],
   "source": [
    "j01_p1_g1, j01_p1_g2, j01_p2_g1, j01_p2_g2 = separate_df(j01, 'j')\n",
    "j02_p1_g1, j02_p1_g2, j02_p2_g1, j02_p2_g2 = separate_df(j02, 'j')\n",
    "j03_p1_g1, j03_p1_g2, j03_p2_g1, j03_p2_g2 = separate_df(j03, 'j')\n",
    "j04_p1_g1, j04_p1_g2, j04_p2_g1, j04_p2_g2 = separate_df(j04, 'j')\n",
    "j05_p1_g1, j05_p1_g2, j05_p2_g1, j05_p2_g2 = separate_df(j05, 'j')\n",
    "j06_p1_g1, j06_p1_g2, j06_p2_g1, j06_p2_g2 = separate_df(j06, 'j')\n",
    "j07_p1_g1, j07_p1_g2, j07_p2_g1, j07_p2_g2 = separate_df(j07, 'j')\n",
    "j08_p1_g1, j08_p1_g2, j08_p2_g1, j08_p2_g2 = separate_df(j08, 'j')"
   ]
  },
  {
   "cell_type": "code",
   "execution_count": null,
   "metadata": {},
   "outputs": [],
   "source": [
    "j01_p1_g1_count = j01_p1_g1['probability'].value_counts(sort=False)\n",
    "j01_p1_g2_count = j01_p1_g2['probability'].value_counts(sort=False)\n",
    "j01_p2_g1_count = j01_p2_g1['probability'].value_counts(sort=False)\n",
    "j01_p2_g2_count = j01_p2_g2['probability'].value_counts(sort=False)\n",
    "j02_p1_g1_count = j02_p1_g1['probability'].value_counts(sort=False)\n",
    "j02_p1_g2_count = j02_p1_g2['probability'].value_counts(sort=False)\n",
    "j02_p2_g1_count = j02_p2_g1['probability'].value_counts(sort=False)\n",
    "j02_p2_g2_count = j02_p2_g2['probability'].value_counts(sort=False)\n",
    "j03_p1_g1_count = j03_p1_g1['probability'].value_counts(sort=False)\n",
    "j03_p1_g2_count = j03_p1_g2['probability'].value_counts(sort=False)\n",
    "j03_p2_g1_count = j03_p2_g1['probability'].value_counts(sort=False)\n",
    "j03_p2_g2_count = j03_p2_g2['probability'].value_counts(sort=False)\n",
    "j04_p1_g1_count = j04_p1_g1['probability'].value_counts(sort=False)\n",
    "j04_p1_g2_count = j04_p1_g2['probability'].value_counts(sort=False)\n",
    "j04_p2_g1_count = j04_p2_g1['probability'].value_counts(sort=False)\n",
    "j04_p2_g2_count = j04_p2_g2['probability'].value_counts(sort=False)\n",
    "j05_p1_g1_count = j05_p1_g1['probability'].value_counts(sort=False)\n",
    "j05_p1_g2_count = j05_p1_g2['probability'].value_counts(sort=False)\n",
    "j05_p2_g1_count = j05_p2_g1['probability'].value_counts(sort=False)\n",
    "j05_p2_g2_count = j05_p2_g2['probability'].value_counts(sort=False)\n",
    "j06_p1_g1_count = j06_p1_g1['probability'].value_counts(sort=False)\n",
    "j06_p1_g2_count = j06_p1_g2['probability'].value_counts(sort=False)\n",
    "j06_p2_g1_count = j06_p2_g1['probability'].value_counts(sort=False)\n",
    "j06_p2_g2_count = j06_p2_g2['probability'].value_counts(sort=False)\n",
    "j07_p1_g1_count = j07_p1_g1['probability'].value_counts(sort=False)\n",
    "j07_p1_g2_count = j07_p1_g2['probability'].value_counts(sort=False)\n",
    "j07_p2_g1_count = j06_p2_g1['probability'].value_counts(sort=False)\n",
    "j07_p2_g2_count = j06_p2_g2['probability'].value_counts(sort=False)\n",
    "j08_p1_g1_count = j08_p1_g1['probability'].value_counts(sort=False)\n",
    "j08_p1_g2_count = j08_p1_g2['probability'].value_counts(sort=False)\n",
    "j08_p2_g1_count = j08_p2_g1['probability'].value_counts(sort=False)\n",
    "j08_p2_g2_count = j08_p2_g2['probability'].value_counts(sort=False)"
   ]
  },
  {
   "cell_type": "code",
   "execution_count": null,
   "metadata": {},
   "outputs": [],
   "source": [
    "j01_p1_g1_count"
   ]
  },
  {
   "cell_type": "code",
   "execution_count": null,
   "metadata": {},
   "outputs": [],
   "source": [
    "j01_p1_g2_count"
   ]
  },
  {
   "cell_type": "code",
   "execution_count": null,
   "metadata": {},
   "outputs": [],
   "source": [
    "j01_p2_g1_count"
   ]
  },
  {
   "cell_type": "code",
   "execution_count": null,
   "metadata": {},
   "outputs": [],
   "source": [
    "j01_p2_g2_count"
   ]
  },
  {
   "cell_type": "code",
   "execution_count": null,
   "metadata": {},
   "outputs": [],
   "source": [
    "j02_p1_g1_count"
   ]
  },
  {
   "cell_type": "code",
   "execution_count": null,
   "metadata": {
    "scrolled": true
   },
   "outputs": [],
   "source": [
    "j02_p1_g2_count"
   ]
  },
  {
   "cell_type": "code",
   "execution_count": null,
   "metadata": {},
   "outputs": [],
   "source": [
    "j02_p2_g1_count"
   ]
  },
  {
   "cell_type": "code",
   "execution_count": null,
   "metadata": {},
   "outputs": [],
   "source": [
    "j02_p2_g2_count"
   ]
  },
  {
   "cell_type": "code",
   "execution_count": null,
   "metadata": {},
   "outputs": [],
   "source": [
    "j03_p1_g1_count"
   ]
  },
  {
   "cell_type": "code",
   "execution_count": null,
   "metadata": {},
   "outputs": [],
   "source": [
    "j03_p1_g2_count"
   ]
  },
  {
   "cell_type": "code",
   "execution_count": null,
   "metadata": {},
   "outputs": [],
   "source": [
    "j03_p2_g1_count"
   ]
  },
  {
   "cell_type": "code",
   "execution_count": null,
   "metadata": {},
   "outputs": [],
   "source": [
    "j03_p2_g2_count"
   ]
  },
  {
   "cell_type": "code",
   "execution_count": null,
   "metadata": {},
   "outputs": [],
   "source": [
    "j_g1_counts = pd.DataFrame([j01_p1_g1_count, j01_p2_g1_count, j02_p1_g1_count, j02_p2_g1_count, \n",
    "                            j03_p1_g1_count, j03_p2_g1_count, j04_p1_g1_count, j04_p2_g1_count,\n",
    "                           j05_p1_g1_count,j05_p2_g1_count, j06_p1_g1_count, j06_p2_g1_count, j07_p1_g1_count, \n",
    "                            j07_p2_g1_count, j08_p1_g1_count, j08_p2_g1_count],\n",
    "                          index=['j01_p1_g1_count', 'j01_p2_g1_count', 'j02_p1_g1_count', 'j02_p2_g1_count', \n",
    "                            'j03_p1_g1_count', 'j03_p2_g1_count', 'j04_p1_g1_count', 'j04_p2_g1_count',\n",
    "                           'j05_p1_g1_count','j05_p2_g1_count', 'j06_p1_g1_count', 'j06_p2_g1_count', 'j07_p1_g1_count', \n",
    "                            'j07_p2_g1_count', 'j08_p1_g1_count', 'j08_p2_g1_count'])"
   ]
  },
  {
   "cell_type": "code",
   "execution_count": null,
   "metadata": {},
   "outputs": [],
   "source": [
    "j_g1_counts"
   ]
  },
  {
   "cell_type": "code",
   "execution_count": null,
   "metadata": {},
   "outputs": [],
   "source": []
  },
  {
   "cell_type": "code",
   "execution_count": null,
   "metadata": {},
   "outputs": [],
   "source": []
  },
  {
   "cell_type": "code",
   "execution_count": null,
   "metadata": {},
   "outputs": [],
   "source": []
  },
  {
   "cell_type": "code",
   "execution_count": null,
   "metadata": {},
   "outputs": [],
   "source": []
  },
  {
   "cell_type": "code",
   "execution_count": null,
   "metadata": {},
   "outputs": [],
   "source": []
  },
  {
   "cell_type": "code",
   "execution_count": null,
   "metadata": {},
   "outputs": [],
   "source": []
  },
  {
   "cell_type": "code",
   "execution_count": null,
   "metadata": {},
   "outputs": [],
   "source": []
  },
  {
   "cell_type": "code",
   "execution_count": null,
   "metadata": {},
   "outputs": [],
   "source": []
  },
  {
   "cell_type": "code",
   "execution_count": null,
   "metadata": {},
   "outputs": [],
   "source": []
  },
  {
   "cell_type": "code",
   "execution_count": null,
   "metadata": {},
   "outputs": [],
   "source": []
  },
  {
   "cell_type": "code",
   "execution_count": null,
   "metadata": {},
   "outputs": [],
   "source": []
  },
  {
   "cell_type": "code",
   "execution_count": null,
   "metadata": {},
   "outputs": [],
   "source": []
  },
  {
   "cell_type": "code",
   "execution_count": null,
   "metadata": {},
   "outputs": [],
   "source": []
  },
  {
   "cell_type": "code",
   "execution_count": null,
   "metadata": {},
   "outputs": [],
   "source": [
    "j_g1_low = np.mean(j_g1_counts.iloc[:,0])\n",
    "j_g1_med = np.mean(j_g1_counts.iloc[:,1])\n",
    "j_g1_high = np.mean(j_g1_counts.iloc[:,2])\n",
    "\n",
    "j_g1_low_std = np.std(j_g1_counts.iloc[:,0])\n",
    "j_g1_med_std = np.std(j_g1_counts.iloc[:,1])\n",
    "j_g1_high_std = np.std(j_g1_counts.iloc[:,2])"
   ]
  },
  {
   "cell_type": "code",
   "execution_count": null,
   "metadata": {},
   "outputs": [],
   "source": [
    "j_g1_low"
   ]
  },
  {
   "cell_type": "code",
   "execution_count": null,
   "metadata": {},
   "outputs": [],
   "source": [
    "j_g1_med"
   ]
  },
  {
   "cell_type": "code",
   "execution_count": null,
   "metadata": {},
   "outputs": [],
   "source": [
    "j_g1_high"
   ]
  },
  {
   "cell_type": "code",
   "execution_count": null,
   "metadata": {},
   "outputs": [],
   "source": [
    "#social matching"
   ]
  },
  {
   "cell_type": "code",
   "execution_count": null,
   "metadata": {},
   "outputs": [],
   "source": [
    "j_g2_counts = pd.DataFrame([j01_p1_g2_count, j01_p2_g2_count, j02_p1_g2_count, j02_p2_g2_count, \n",
    "                            j03_p1_g2_count, j03_p2_g2_count, j04_p1_g2_count, j04_p2_g2_count,\n",
    "                           j05_p1_g2_count,j05_p2_g2_count, j06_p1_g2_count, j06_p2_g2_count, j07_p1_g2_count, \n",
    "                            j07_p2_g2_count, j08_p1_g2_count, j08_p2_g2_count],\n",
    "                          index=['j01_p1_g2_count', 'j01_p2_g2_count', 'j02_p1_g2_count', 'j02_p2_g2_count', \n",
    "                            'j03_p1_g2_count', 'j03_p2_g2_count', 'j04_p1_g2_count', 'j04_p2_g2_count',\n",
    "                           'j05_p1_g2_count','j05_p2_g2_count', 'j06_p1_g2_count', 'j06_p2_g2_count', 'j07_p1_g2_count', \n",
    "                            'j07_p2_g2_count', 'j08_p1_g2_count', 'j08_p2_g2_count'])"
   ]
  },
  {
   "cell_type": "code",
   "execution_count": null,
   "metadata": {},
   "outputs": [],
   "source": [
    "j_g2_counts"
   ]
  },
  {
   "cell_type": "code",
   "execution_count": null,
   "metadata": {},
   "outputs": [],
   "source": [
    "j_g2_low = np.mean(j_g2_counts.iloc[:,0])\n",
    "j_g2_med = np.mean(j_g2_counts.iloc[:,1])\n",
    "j_g2_high = np.mean(j_g2_counts.iloc[:,2])\n",
    "\n",
    "j_g2_low_std = np.std(j_g2_counts.iloc[:,0])\n",
    "j_g2_med_std = np.std(j_g2_counts.iloc[:,1])\n",
    "j_g2_high_std = np.std(j_g2_counts.iloc[:,2])"
   ]
  },
  {
   "cell_type": "code",
   "execution_count": null,
   "metadata": {},
   "outputs": [],
   "source": [
    "j_g2_low"
   ]
  },
  {
   "cell_type": "code",
   "execution_count": null,
   "metadata": {},
   "outputs": [],
   "source": [
    "j_g2_med"
   ]
  },
  {
   "cell_type": "code",
   "execution_count": null,
   "metadata": {},
   "outputs": [],
   "source": [
    "j_g2_high"
   ]
  },
  {
   "cell_type": "code",
   "execution_count": null,
   "metadata": {},
   "outputs": [],
   "source": [
    "j_g1_counts_bar = j_g1_counts.plot.bar()"
   ]
  },
  {
   "cell_type": "code",
   "execution_count": null,
   "metadata": {},
   "outputs": [],
   "source": [
    "j_g2_counts_bar = j_g2_counts.plot.bar()"
   ]
  },
  {
   "cell_type": "code",
   "execution_count": null,
   "metadata": {},
   "outputs": [],
   "source": [
    "#difference in 60% choices"
   ]
  },
  {
   "cell_type": "markdown",
   "metadata": {},
   "source": [
    "# Combined Tables"
   ]
  },
  {
   "cell_type": "code",
   "execution_count": null,
   "metadata": {},
   "outputs": [],
   "source": [
    "#NEEDS WORK\n",
    "scores_df = pd.DataFrame({'score':[s_scores_1_mean, s_scores_2_mean, j_scores_1_mean, j_scores_2_mean],\n",
    "                       'std':[s_scores_1_std,s_scores_2_std,j_scores_1_std,j_scores_2_std]},index = ['s_1','s_2',\n",
    "                                                                                                     'j_1', 'j_2'])"
   ]
  },
  {
   "cell_type": "code",
   "execution_count": null,
   "metadata": {},
   "outputs": [],
   "source": [
    "s_scores_1_mean"
   ]
  },
  {
   "cell_type": "code",
   "execution_count": null,
   "metadata": {},
   "outputs": [],
   "source": [
    "pd.to_numeric(s_scores_1_mean)"
   ]
  },
  {
   "cell_type": "code",
   "execution_count": null,
   "metadata": {},
   "outputs": [],
   "source": [
    "scores_df"
   ]
  },
  {
   "cell_type": "code",
   "execution_count": null,
   "metadata": {},
   "outputs": [],
   "source": [
    "#calculate the deviation in diff b/w g1 and g2"
   ]
  },
  {
   "cell_type": "code",
   "execution_count": null,
   "metadata": {},
   "outputs": [],
   "source": [
    "counts_df = pd.DataFrame({'low':[s_g1_low,s_g2_low,j_g1_low,j_g2_low],'medium':[s_g1_med,s_g2_med,j_g1_med,j_g2_med],\n",
    "                          'high':[s_g1_high,s_g2_high,j_g1_high,j_g2_high]},index = ['s_1','s_2','j_1', 'j_2'])\n",
    "#add standard deviations"
   ]
  },
  {
   "cell_type": "code",
   "execution_count": null,
   "metadata": {},
   "outputs": [],
   "source": [
    "counts_df"
   ]
  },
  {
   "cell_type": "code",
   "execution_count": null,
   "metadata": {},
   "outputs": [],
   "source": [
    "#calculate variability in these"
   ]
  },
  {
   "cell_type": "code",
   "execution_count": null,
   "metadata": {},
   "outputs": [],
   "source": [
    "#make a scatter plot of choices\n",
    "#box plot showing individual scores and outliers "
   ]
  },
  {
   "cell_type": "code",
   "execution_count": null,
   "metadata": {},
   "outputs": [],
   "source": [
    "counts_std_df = pd.DataFrame({'low':[s_g1_low_std,s_g2_low_std,j_g1_low_std,j_g2_low_std],'medium':[s_g1_med_std,s_g2_med_std,j_g1_med_std,j_g2_med_std],\n",
    "                          'high':[s_g1_high_std,s_g2_high_std,j_g1_high_std,j_g2_high_std]},index = ['s_1','s_2','j_1', 'j_2'])"
   ]
  },
  {
   "cell_type": "code",
   "execution_count": null,
   "metadata": {},
   "outputs": [],
   "source": [
    "counts_std_df"
   ]
  },
  {
   "cell_type": "code",
   "execution_count": null,
   "metadata": {},
   "outputs": [],
   "source": [
    "#variability is lower in s and higher in j for game 2"
   ]
  },
  {
   "cell_type": "markdown",
   "metadata": {},
   "source": [
    "# 20 trial intervals"
   ]
  },
  {
   "cell_type": "code",
   "execution_count": null,
   "metadata": {},
   "outputs": [],
   "source": [
    "j01_p1_g1, j01_p1_g2, j01_p2_g1, j01_p2_g2 = separate_df(j01, 'j')\n",
    "j02_p1_g1, j02_p1_g2, j02_p2_g1, j02_p2_g2 = separate_df(j02, 'j')\n",
    "j03_p1_g1, j03_p1_g2, j03_p2_g1, j03_p2_g2 = separate_df(j03, 'j')\n",
    "j04_p1_g1, j04_p1_g2, j04_p2_g1, j04_p2_g2 = separate_df(j04, 'j')\n",
    "j05_p1_g1, j05_p1_g2, j05_p2_g1, j05_p2_g2 = separate_df(j05, 'j')\n",
    "j06_p1_g1, j06_p1_g2, j06_p2_g1, j06_p2_g2 = separate_df(j06, 'j')\n",
    "j07_p1_g1, j07_p1_g2, j07_p2_g1, j07_p2_g2 = separate_df(j07, 'j')\n",
    "j08_p1_g1, j08_p1_g2, j08_p2_g1, j08_p2_g2 = separate_df(j08, 'j')"
   ]
  },
  {
   "cell_type": "code",
   "execution_count": null,
   "metadata": {},
   "outputs": [],
   "source": [
    "j01_p1_g1_list = [1,2,3,4,5]\n",
    "j02_p1_g1_list = [1,2,3,4,5]\n",
    "j03_p1_g1_list = [1,2,3,4,5]\n",
    "j04_p1_g1_list = [1,2,3,4,5]\n",
    "j05_p1_g1_list = [1,2,3,4,5]\n",
    "j06_p1_g1_list = [1,2,3,4,5]\n",
    "j07_p1_g1_list = [1,2,3,4,5]\n",
    "j08_p1_g1_list = [1,2,3,4,5]\n",
    "\n",
    "j01_p1_g2_list = [1,2,3,4,5]\n",
    "j02_p1_g2_list = [1,2,3,4,5]\n",
    "j03_p1_g2_list = [1,2,3,4,5]\n",
    "j04_p1_g2_list = [1,2,3,4,5]\n",
    "j05_p1_g2_list = [1,2,3,4,5]\n",
    "j06_p1_g2_list = [1,2,3,4,5]\n",
    "j07_p1_g2_list = [1,2,3,4,5]\n",
    "j08_p1_g2_list = [1,2,3,4,5]\n",
    "\n",
    "j01_p2_g1_list = [1,2,3,4,5]\n",
    "j02_p2_g1_list = [1,2,3,4,5]\n",
    "j03_p2_g1_list = [1,2,3,4,5]\n",
    "j04_p2_g1_list = [1,2,3,4,5]\n",
    "j05_p2_g1_list = [1,2,3,4,5]\n",
    "j06_p2_g1_list = [1,2,3,4,5]\n",
    "j07_p2_g1_list = [1,2,3,4,5]\n",
    "j08_p2_g1_list = [1,2,3,4,5]\n",
    "\n",
    "j01_p2_g2_list = [1,2,3,4,5]\n",
    "j02_p2_g2_list = [1,2,3,4,5]\n",
    "j03_p2_g2_list = [1,2,3,4,5]\n",
    "j04_p2_g2_list = [1,2,3,4,5]\n",
    "j05_p2_g2_list = [1,2,3,4,5]\n",
    "j06_p2_g2_list = [1,2,3,4,5]\n",
    "j07_p2_g2_list = [1,2,3,4,5]\n",
    "j08_p2_g2_list = [1,2,3,4,5]"
   ]
  },
  {
   "cell_type": "code",
   "execution_count": null,
   "metadata": {},
   "outputs": [],
   "source": [
    "j01_p1_g1_list[0],j01_p1_g1_list[1],j01_p1_g1_list[2],j01_p1_g1_list[3],j01_p1_g1_list[4]=split_df(j01_p1_g1)\n",
    "j02_p1_g1_list[0],j02_p1_g1_list[1],j02_p1_g1_list[2],j02_p1_g1_list[3],j02_p1_g1_list[4]=split_df(j02_p1_g1)\n",
    "j03_p1_g1_list[0],j03_p1_g1_list[1],j03_p1_g1_list[2],j03_p1_g1_list[3],j03_p1_g1_list[4]=split_df(j03_p1_g1)\n",
    "j04_p1_g1_list[0],j04_p1_g1_list[1],j04_p1_g1_list[2],j04_p1_g1_list[3],j04_p1_g1_list[4]=split_df(j04_p1_g1)\n",
    "j05_p1_g1_list[0],j05_p1_g1_list[1],j05_p1_g1_list[2],j05_p1_g1_list[3],j05_p1_g1_list[4]=split_df(j05_p1_g1)\n",
    "j06_p1_g1_list[0],j06_p1_g1_list[1],j06_p1_g1_list[2],j06_p1_g1_list[3],j06_p1_g1_list[4]=split_df(j06_p1_g1)\n",
    "j07_p1_g1_list[0],j07_p1_g1_list[1],j07_p1_g1_list[2],j07_p1_g1_list[3],j07_p1_g1_list[4]=split_df(j07_p1_g1)\n",
    "j08_p1_g1_list[0],j08_p1_g1_list[1],j08_p1_g1_list[2],j08_p1_g1_list[3],j08_p1_g1_list[4]=split_df(j08_p1_g1)\n",
    "\n",
    "j01_p2_g1_list[0],j01_p2_g1_list[1],j01_p2_g1_list[2],j01_p2_g1_list[3],j01_p2_g1_list[4]=split_df(j01_p2_g1)\n",
    "j02_p2_g1_list[0],j02_p2_g1_list[1],j02_p2_g1_list[2],j02_p2_g1_list[3],j02_p2_g1_list[4]=split_df(j02_p2_g1)\n",
    "j03_p2_g1_list[0],j03_p2_g1_list[1],j03_p2_g1_list[2],j03_p2_g1_list[3],j03_p2_g1_list[4]=split_df(j03_p2_g1)\n",
    "j04_p2_g1_list[0],j04_p2_g1_list[1],j04_p2_g1_list[2],j04_p2_g1_list[3],j04_p2_g1_list[4]=split_df(j04_p2_g1)\n",
    "j05_p2_g1_list[0],j05_p2_g1_list[1],j05_p2_g1_list[2],j05_p2_g1_list[3],j05_p2_g1_list[4]=split_df(j05_p2_g1)\n",
    "j06_p2_g1_list[0],j06_p2_g1_list[1],j06_p2_g1_list[2],j06_p2_g1_list[3],j06_p2_g1_list[4]=split_df(j06_p2_g1)\n",
    "j07_p2_g1_list[0],j07_p2_g1_list[1],j07_p2_g1_list[2],j07_p2_g1_list[3],j07_p2_g1_list[4]=split_df(j07_p2_g1)\n",
    "j08_p2_g1_list[0],j08_p2_g1_list[1],j08_p2_g1_list[2],j08_p2_g1_list[3],j08_p2_g1_list[4]=split_df(j08_p2_g1)"
   ]
  },
  {
   "cell_type": "code",
   "execution_count": null,
   "metadata": {},
   "outputs": [],
   "source": [
    "j01_p1_g2_list[0],j01_p1_g2_list[1],j01_p1_g2_list[2],j01_p1_g2_list[3],j01_p1_g2_list[4]=split_df(j01_p1_g2)\n",
    "j02_p1_g2_list[0],j02_p1_g2_list[1],j02_p1_g2_list[2],j02_p1_g2_list[3],j02_p1_g2_list[4]=split_df(j02_p1_g2)\n",
    "j03_p1_g2_list[0],j03_p1_g2_list[1],j03_p1_g2_list[2],j03_p1_g2_list[3],j03_p1_g2_list[4]=split_df(j03_p1_g2)\n",
    "j04_p1_g2_list[0],j04_p1_g2_list[1],j04_p1_g2_list[2],j04_p1_g2_list[3],j04_p1_g2_list[4]=split_df(j04_p1_g2)\n",
    "j05_p1_g2_list[0],j05_p1_g2_list[1],j05_p1_g2_list[2],j05_p1_g2_list[3],j05_p1_g2_list[4]=split_df(j05_p1_g2)\n",
    "j06_p1_g2_list[0],j06_p1_g2_list[1],j06_p1_g2_list[2],j06_p1_g2_list[3],j06_p1_g2_list[4]=split_df(j06_p1_g2)\n",
    "j07_p1_g2_list[0],j07_p1_g2_list[1],j07_p1_g2_list[2],j07_p1_g2_list[3],j07_p1_g2_list[4]=split_df(j07_p1_g2)\n",
    "j08_p1_g2_list[0],j08_p1_g2_list[1],j08_p1_g2_list[2],j08_p1_g2_list[3],j08_p1_g2_list[4]=split_df(j08_p1_g2)\n",
    "\n",
    "j01_p2_g2_list[0],j01_p2_g2_list[1],j01_p2_g2_list[2],j01_p2_g2_list[3],j01_p2_g2_list[4]=split_df(j01_p2_g2)\n",
    "j02_p2_g2_list[0],j02_p2_g2_list[1],j02_p2_g2_list[2],j02_p2_g2_list[3],j02_p2_g2_list[4]=split_df(j02_p2_g2)\n",
    "j03_p2_g2_list[0],j03_p2_g2_list[1],j03_p2_g2_list[2],j03_p2_g2_list[3],j03_p2_g2_list[4]=split_df(j03_p2_g2)\n",
    "j04_p2_g2_list[0],j04_p2_g2_list[1],j04_p2_g2_list[2],j04_p2_g2_list[3],j04_p2_g2_list[4]=split_df(j04_p2_g2)\n",
    "j05_p2_g2_list[0],j05_p2_g2_list[1],j05_p2_g2_list[2],j05_p2_g2_list[3],j05_p2_g2_list[4]=split_df(j05_p2_g2)\n",
    "j06_p2_g2_list[0],j06_p2_g2_list[1],j06_p2_g2_list[2],j06_p2_g2_list[3],j06_p2_g2_list[4]=split_df(j06_p2_g2)\n",
    "j07_p2_g2_list[0],j07_p2_g2_list[1],j07_p2_g2_list[2],j07_p2_g2_list[3],j07_p2_g2_list[4]=split_df(j07_p2_g2)\n",
    "j08_p2_g2_list[0],j08_p2_g2_list[1],j08_p2_g2_list[2],j08_p2_g2_list[3],j08_p2_g2_list[4]=split_df(j08_p2_g2)"
   ]
  },
  {
   "cell_type": "code",
   "execution_count": null,
   "metadata": {},
   "outputs": [],
   "source": [
    "j01_p1_g1_counts = [1,2,3,4,5]\n",
    "j02_p1_g1_counts = [1,2,3,4,5]\n",
    "j03_p1_g1_counts = [1,2,3,4,5]\n",
    "j04_p1_g1_counts = [1,2,3,4,5]\n",
    "j05_p1_g1_counts = [1,2,3,4,5]\n",
    "j06_p1_g1_counts = [1,2,3,4,5]\n",
    "j07_p1_g1_counts = [1,2,3,4,5]\n",
    "j08_p1_g1_counts = [1,2,3,4,5]\n",
    "\n",
    "j01_p1_g2_counts = [1,2,3,4,5]\n",
    "j02_p1_g2_counts = [1,2,3,4,5]\n",
    "j03_p1_g2_counts = [1,2,3,4,5]\n",
    "j04_p1_g2_counts = [1,2,3,4,5]\n",
    "j05_p1_g2_counts = [1,2,3,4,5]\n",
    "j06_p1_g2_counts = [1,2,3,4,5]\n",
    "j07_p1_g2_counts = [1,2,3,4,5]\n",
    "j08_p1_g2_counts = [1,2,3,4,5]\n",
    "j09_p1_g2_counts = [1,2,3,4,5]"
   ]
  },
  {
   "cell_type": "code",
   "execution_count": null,
   "metadata": {},
   "outputs": [],
   "source": [
    "j01_p2_g1_counts = [1,2,3,4,5]\n",
    "j02_p2_g1_counts = [1,2,3,4,5]\n",
    "j03_p2_g1_counts = [1,2,3,4,5]\n",
    "j04_p2_g1_counts = [1,2,3,4,5]\n",
    "j05_p2_g1_counts = [1,2,3,4,5]\n",
    "j06_p2_g1_counts = [1,2,3,4,5]\n",
    "j07_p2_g1_counts = [1,2,3,4,5]\n",
    "j08_p2_g1_counts = [1,2,3,4,5]\n",
    "\n",
    "j01_p2_g2_counts = [1,2,3,4,5]\n",
    "j02_p2_g2_counts = [1,2,3,4,5]\n",
    "j03_p2_g2_counts = [1,2,3,4,5]\n",
    "j04_p2_g2_counts = [1,2,3,4,5]\n",
    "j05_p2_g2_counts = [1,2,3,4,5]\n",
    "j06_p2_g2_counts = [1,2,3,4,5]\n",
    "j07_p2_g2_counts = [1,2,3,4,5]\n",
    "j08_p2_g2_counts = [1,2,3,4,5]\n",
    "j09_p2_g2_counts = [1,2,3,4,5]"
   ]
  },
  {
   "cell_type": "code",
   "execution_count": null,
   "metadata": {},
   "outputs": [],
   "source": [
    "for i in range(5):\n",
    "    j01_p1_g1_counts[i] = j01_p1_g1_list[i]['probability'].value_counts(sort=False)\n",
    "    j02_p1_g1_counts[i] = j02_p1_g1_list[i]['probability'].value_counts(sort=False)\n",
    "    j03_p1_g1_counts[i] = j03_p1_g1_list[i]['probability'].value_counts(sort=False)\n",
    "    j04_p1_g1_counts[i] = j04_p1_g1_list[i]['probability'].value_counts(sort=False)\n",
    "    j05_p1_g1_counts[i] = j05_p1_g1_list[i]['probability'].value_counts(sort=False)\n",
    "    j06_p1_g1_counts[i] = j06_p1_g1_list[i]['probability'].value_counts(sort=False)\n",
    "    j07_p1_g1_counts[i] = j07_p1_g1_list[i]['probability'].value_counts(sort=False)\n",
    "    j08_p1_g1_counts[i] = j08_p1_g1_list[i]['probability'].value_counts(sort=False)\n",
    "\n",
    "    j01_p1_g2_counts[i] = j01_p1_g2_list[i]['probability'].value_counts(sort=False)\n",
    "    j02_p1_g2_counts[i] = j02_p1_g2_list[i]['probability'].value_counts(sort=False)\n",
    "    j03_p1_g2_counts[i] = j03_p1_g2_list[i]['probability'].value_counts(sort=False)\n",
    "    j04_p1_g2_counts[i] = j04_p1_g2_list[i]['probability'].value_counts(sort=False)\n",
    "    j05_p1_g2_counts[i] = j05_p1_g2_list[i]['probability'].value_counts(sort=False)\n",
    "    j06_p1_g2_counts[i] = j06_p1_g2_list[i]['probability'].value_counts(sort=False)\n",
    "    j07_p1_g2_counts[i] = j07_p1_g2_list[i]['probability'].value_counts(sort=False)\n",
    "    j08_p1_g2_counts[i] = j08_p1_g2_list[i]['probability'].value_counts(sort=False)\n",
    "    \n",
    "    j01_p1_g1_counts[i] = j01_p2_g1_list[i]['probability'].value_counts(sort=False)\n",
    "    j02_p1_g1_counts[i] = j02_p2_g1_list[i]['probability'].value_counts(sort=False)\n",
    "    j03_p1_g1_counts[i] = j03_p2_g1_list[i]['probability'].value_counts(sort=False)\n",
    "    j04_p1_g1_counts[i] = j04_p2_g1_list[i]['probability'].value_counts(sort=False)\n",
    "    j05_p1_g1_counts[i] = j05_p2_g1_list[i]['probability'].value_counts(sort=False)\n",
    "    j06_p1_g1_counts[i] = j06_p2_g1_list[i]['probability'].value_counts(sort=False)\n",
    "    j07_p1_g1_counts[i] = j07_p2_g1_list[i]['probability'].value_counts(sort=False)\n",
    "    j08_p1_g1_counts[i] = j08_p2_g1_list[i]['probability'].value_counts(sort=False)\n",
    "\n",
    "    j01_p1_g2_counts[i] = j01_p2_g2_list[i]['probability'].value_counts(sort=False)\n",
    "    j02_p1_g2_counts[i] = j02_p2_g2_list[i]['probability'].value_counts(sort=False)\n",
    "    j03_p1_g2_counts[i] = j03_p2_g2_list[i]['probability'].value_counts(sort=False)\n",
    "    j04_p1_g2_counts[i] = j04_p2_g2_list[i]['probability'].value_counts(sort=False)\n",
    "    j05_p1_g2_counts[i] = j05_p2_g2_list[i]['probability'].value_counts(sort=False)\n",
    "    j06_p1_g2_counts[i] = j06_p2_g2_list[i]['probability'].value_counts(sort=False)\n",
    "    j07_p1_g2_counts[i] = j07_p2_g2_list[i]['probability'].value_counts(sort=False)\n",
    "    j08_p1_g2_counts[i] = j08_p2_g2_list[i]['probability'].value_counts(sort=False)"
   ]
  },
  {
   "cell_type": "code",
   "execution_count": null,
   "metadata": {},
   "outputs": [],
   "source": [
    "j_01_p1_g1_counts = pd.DataFrame(j01_p1_g1_counts,index={'1-20','21-40','41-60','61-80','81-100'})\n",
    "j_02_p1_g1_counts = pd.DataFrame(j02_p1_g1_counts,index={'1-20','21-40','41-60','61-80','81-100'})\n",
    "j_03_p1_g1_counts = pd.DataFrame(j03_p1_g1_counts,index={'1-20','21-40','41-60','61-80','81-100'})\n",
    "j_04_p1_g1_counts = pd.DataFrame(j04_p1_g1_counts,index={'1-20','21-40','41-60','61-80','81-100'})\n",
    "j_05_p1_g1_counts = pd.DataFrame(j05_p1_g1_counts,index={'1-20','21-40','41-60','61-80','81-100'})\n",
    "j_06_p1_g1_counts = pd.DataFrame(j06_p1_g1_counts,index={'1-20','21-40','41-60','61-80','81-100'})\n",
    "j_07_p1_g1_counts = pd.DataFrame(j07_p1_g1_counts,index={'1-20','21-40','41-60','61-80','81-100'})\n",
    "j_08_p1_g1_counts = pd.DataFrame(j08_p1_g1_counts,index={'1-20','21-40','41-60','61-80','81-100'})\n",
    "\n",
    "j_01_p2_g1_counts = pd.DataFrame(j01_p2_g1_counts,index={'1-20','21-40','41-60','61-80','81-100'})\n",
    "j_02_p2_g1_counts = pd.DataFrame(j02_p2_g1_counts,index={'1-20','21-40','41-60','61-80','81-100'})\n",
    "j_03_p2_g1_counts = pd.DataFrame(j03_p2_g1_counts,index={'1-20','21-40','41-60','61-80','81-100'})\n",
    "j_04_p2_g1_counts = pd.DataFrame(j04_p2_g1_counts,index={'1-20','21-40','41-60','61-80','81-100'})\n",
    "j_05_p2_g1_counts = pd.DataFrame(j05_p2_g1_counts,index={'1-20','21-40','41-60','61-80','81-100'})\n",
    "j_06_p2_g1_counts = pd.DataFrame(j06_p2_g1_counts,index={'1-20','21-40','41-60','61-80','81-100'})\n",
    "j_07_p2_g1_counts = pd.DataFrame(j07_p2_g1_counts,index={'1-20','21-40','41-60','61-80','81-100'})\n",
    "j_08_p2_g1_counts = pd.DataFrame(j08_p2_g1_counts,index={'1-20','21-40','41-60','61-80','81-100'})\n",
    "\n",
    "j_01_p1_g2_counts = pd.DataFrame(j01_p1_g2_counts,index={'1-20','21-40','41-60','61-80','81-100'})\n",
    "j_02_p1_g2_counts = pd.DataFrame(j02_p1_g2_counts,index={'1-20','21-40','41-60','61-80','81-100'})\n",
    "j_03_p1_g2_counts = pd.DataFrame(j03_p1_g2_counts,index={'1-20','21-40','41-60','61-80','81-100'})\n",
    "j_04_p1_g2_counts = pd.DataFrame(j04_p1_g2_counts,index={'1-20','21-40','41-60','61-80','81-100'})\n",
    "j_05_p1_g2_counts = pd.DataFrame(j05_p1_g2_counts,index={'1-20','21-40','41-60','61-80','81-100'})\n",
    "j_06_p1_g2_counts = pd.DataFrame(j06_p1_g2_counts,index={'1-20','21-40','41-60','61-80','81-100'})\n",
    "j_07_p1_g2_counts = pd.DataFrame(j07_p1_g2_counts,index={'1-20','21-40','41-60','61-80','81-100'})\n",
    "j_08_p1_g2_counts = pd.DataFrame(j08_p1_g2_counts,index={'1-20','21-40','41-60','61-80','81-100'})\n",
    "\n",
    "j_01_p2_g2_counts = pd.DataFrame(j01_p2_g2_counts,index={'1-20','21-40','41-60','61-80','81-100'})\n",
    "j_02_p2_g2_counts = pd.DataFrame(j02_p2_g2_counts,index={'1-20','21-40','41-60','61-80','81-100'})\n",
    "j_03_p2_g2_counts = pd.DataFrame(j03_p2_g2_counts,index={'1-20','21-40','41-60','61-80','81-100'})\n",
    "j_04_p2_g2_counts = pd.DataFrame(j04_p2_g2_counts,index={'1-20','21-40','41-60','61-80','81-100'})\n",
    "j_05_p2_g2_counts = pd.DataFrame(j05_p2_g2_counts,index={'1-20','21-40','41-60','61-80','81-100'})\n",
    "j_06_p2_g2_counts = pd.DataFrame(j06_p2_g2_counts,index={'1-20','21-40','41-60','61-80','81-100'})\n",
    "j_07_p2_g2_counts = pd.DataFrame(j07_p2_g2_counts,index={'1-20','21-40','41-60','61-80','81-100'})\n",
    "j_08_p2_g2_counts = pd.DataFrame(j08_p2_g2_counts,index={'1-20','21-40','41-60','61-80','81-100'})"
   ]
  },
  {
   "cell_type": "code",
   "execution_count": null,
   "metadata": {},
   "outputs": [],
   "source": [
    "#reorder the columns\n",
    "cols = [30,60,90]"
   ]
  },
  {
   "cell_type": "code",
   "execution_count": null,
   "metadata": {},
   "outputs": [],
   "source": [
    "j_01_p1_g1_counts = j_01_p1_g1_counts[cols]\n",
    "j_02_p1_g1_counts = j_02_p1_g1_counts[cols]\n",
    "j_03_p1_g1_counts = j_03_p1_g1_counts[cols]\n",
    "j_04_p1_g1_counts = j_04_p1_g1_counts[cols]\n",
    "j_05_p1_g1_counts = j_05_p1_g1_counts[cols]\n",
    "j_06_p1_g1_counts = j_06_p1_g1_counts[cols]\n",
    "j_07_p1_g1_counts = j_07_p1_g1_counts[cols]\n",
    "j_08_p1_g1_counts = j_08_p1_g1_counts[cols]\n",
    "\n",
    "j_01_p1_g2_counts = j_01_p1_g2_counts[cols]\n",
    "j_02_p1_g2_counts = j_02_p1_g2_counts[cols]\n",
    "j_03_p1_g2_counts = j_03_p1_g2_counts[cols]\n",
    "j_04_p1_g2_counts = j_04_p1_g2_counts[cols]\n",
    "j_05_p1_g2_counts = j_05_p1_g2_counts[cols]\n",
    "j_06_p1_g2_counts = j_06_p1_g2_counts[cols]\n",
    "j_07_p1_g2_counts = j_07_p1_g2_counts[cols]\n",
    "j_08_p1_g2_counts = j_08_p1_g2_counts[cols]\n",
    "\n",
    "j_01_p2_g1_counts = j_01_p1_g1_counts[cols]\n",
    "j_02_p2_g1_counts = j_02_p1_g1_counts[cols]\n",
    "j_03_p2_g1_counts = j_03_p1_g1_counts[cols]\n",
    "j_04_p2_g1_counts = j_04_p1_g1_counts[cols]\n",
    "j_05_p2_g1_counts = j_05_p1_g1_counts[cols]\n",
    "j_06_p2_g1_counts = j_06_p1_g1_counts[cols]\n",
    "j_07_p2_g1_counts = j_07_p1_g1_counts[cols]\n",
    "j_08_p2_g1_counts = j_08_p1_g1_counts[cols]\n",
    "\n",
    "j_01_p2_g2_counts = j_01_p1_g2_counts[cols]\n",
    "j_02_p2_g2_counts = j_02_p1_g2_counts[cols]\n",
    "j_03_p2_g2_counts = j_03_p1_g2_counts[cols]\n",
    "j_04_p2_g2_counts = j_04_p1_g2_counts[cols]\n",
    "j_05_p2_g2_counts = j_05_p1_g2_counts[cols]\n",
    "j_06_p2_g2_counts = j_06_p1_g2_counts[cols]\n",
    "j_07_p2_g2_counts = j_07_p1_g2_counts[cols]\n",
    "j_08_p2_g2_counts = j_08_p1_g2_counts[cols]"
   ]
  },
  {
   "cell_type": "code",
   "execution_count": null,
   "metadata": {},
   "outputs": [],
   "source": [
    "j_01_p1_g1_counts = j_01_p1_g1_counts.reindex(['1-20','21-40','41-60','61-80','81-100'])\n",
    "j_02_p1_g1_counts = j_02_p1_g1_counts.reindex(['1-20','21-40','41-60','61-80','81-100'])\n",
    "j_03_p1_g1_counts = j_03_p1_g1_counts.reindex(['1-20','21-40','41-60','61-80','81-100'])\n",
    "j_04_p1_g1_counts = j_04_p1_g1_counts.reindex(['1-20','21-40','41-60','61-80','81-100'])\n",
    "j_05_p1_g1_counts = j_05_p1_g1_counts.reindex(['1-20','21-40','41-60','61-80','81-100'])\n",
    "j_06_p1_g1_counts = j_06_p1_g1_counts.reindex(['1-20','21-40','41-60','61-80','81-100'])\n",
    "j_07_p1_g1_counts = j_07_p1_g1_counts.reindex(['1-20','21-40','41-60','61-80','81-100'])\n",
    "j_08_p1_g1_counts = j_08_p1_g1_counts.reindex(['1-20','21-40','41-60','61-80','81-100'])\n",
    "\n",
    "j_01_p1_g2_counts = j_01_p1_g2_counts.reindex(['1-20','21-40','41-60','61-80','81-100'])\n",
    "j_02_p1_g2_counts = j_02_p1_g2_counts.reindex(['1-20','21-40','41-60','61-80','81-100'])\n",
    "j_03_p1_g2_counts = j_03_p1_g2_counts.reindex(['1-20','21-40','41-60','61-80','81-100'])\n",
    "j_04_p1_g2_counts = j_04_p1_g2_counts.reindex(['1-20','21-40','41-60','61-80','81-100'])\n",
    "j_05_p1_g2_counts = j_05_p1_g2_counts.reindex(['1-20','21-40','41-60','61-80','81-100'])\n",
    "j_06_p1_g2_counts = j_06_p1_g2_counts.reindex(['1-20','21-40','41-60','61-80','81-100'])\n",
    "j_07_p1_g2_counts = j_07_p1_g2_counts.reindex(['1-20','21-40','41-60','61-80','81-100'])\n",
    "j_08_p1_g2_counts = j_08_p1_g2_counts.reindex(['1-20','21-40','41-60','61-80','81-100'])\n",
    "\n",
    "j_01_p2_g1_counts = j_01_p1_g1_counts.reindex(['1-20','21-40','41-60','61-80','81-100'])\n",
    "j_02_p2_g1_counts = j_02_p1_g1_counts.reindex(['1-20','21-40','41-60','61-80','81-100'])\n",
    "j_03_p2_g1_counts = j_03_p1_g1_counts.reindex(['1-20','21-40','41-60','61-80','81-100'])\n",
    "j_04_p2_g1_counts = j_04_p1_g1_counts.reindex(['1-20','21-40','41-60','61-80','81-100'])\n",
    "j_05_p2_g1_counts = j_05_p1_g1_counts.reindex(['1-20','21-40','41-60','61-80','81-100'])\n",
    "j_06_p2_g1_counts = j_06_p1_g1_counts.reindex(['1-20','21-40','41-60','61-80','81-100'])\n",
    "j_07_p2_g1_counts = j_07_p1_g1_counts.reindex(['1-20','21-40','41-60','61-80','81-100'])\n",
    "j_08_p2_g1_counts = j_08_p1_g1_counts.reindex(['1-20','21-40','41-60','61-80','81-100'])\n",
    "\n",
    "j_01_p2_g2_counts = j_01_p1_g2_counts.reindex(['1-20','21-40','41-60','61-80','81-100'])\n",
    "j_02_p2_g2_counts = j_02_p1_g2_counts.reindex(['1-20','21-40','41-60','61-80','81-100'])\n",
    "j_03_p2_g2_counts = j_03_p1_g2_counts.reindex(['1-20','21-40','41-60','61-80','81-100'])\n",
    "j_04_p2_g2_counts = j_04_p1_g2_counts.reindex(['1-20','21-40','41-60','61-80','81-100'])\n",
    "j_05_p2_g2_counts = j_05_p1_g2_counts.reindex(['1-20','21-40','41-60','61-80','81-100'])\n",
    "j_06_p2_g2_counts = j_06_p1_g2_counts.reindex(['1-20','21-40','41-60','61-80','81-100'])\n",
    "j_07_p2_g2_counts = j_07_p1_g2_counts.reindex(['1-20','21-40','41-60','61-80','81-100'])\n",
    "j_08_p2_g2_counts = j_08_p1_g2_counts.reindex(['1-20','21-40','41-60','61-80','81-100'])"
   ]
  },
  {
   "cell_type": "code",
   "execution_count": null,
   "metadata": {},
   "outputs": [],
   "source": [
    "#divide each cell by 20 and multiply by 100 to get percentages\n",
    "def num_to_percent(x):\n",
    "    x = x/20 * 100\n",
    "    return x"
   ]
  },
  {
   "cell_type": "code",
   "execution_count": null,
   "metadata": {},
   "outputs": [],
   "source": [
    "#replace na with 0\n",
    "j_01_p1_g1_counts = j_01_p1_g1_counts.fillna(0)\n",
    "j_02_p1_g1_counts = j_02_p1_g1_counts.fillna(0)\n",
    "j_03_p1_g1_counts = j_03_p1_g1_counts.fillna(0)\n",
    "j_04_p1_g1_counts = j_04_p1_g1_counts.fillna(0)\n",
    "j_05_p1_g1_counts = j_05_p1_g1_counts.fillna(0)\n",
    "j_06_p1_g1_counts = j_06_p1_g1_counts.fillna(0)\n",
    "j_07_p1_g1_counts = j_07_p1_g1_counts.fillna(0)\n",
    "j_08_p1_g1_counts = j_08_p1_g1_counts.fillna(0)\n",
    "\n",
    "j_01_p1_g2_counts = j_01_p1_g2_counts.fillna(0)\n",
    "j_02_p1_g2_counts = j_02_p1_g2_counts.fillna(0)\n",
    "j_03_p1_g2_counts = j_03_p1_g2_counts.fillna(0)\n",
    "j_04_p1_g2_counts = j_04_p1_g2_counts.fillna(0)\n",
    "j_05_p1_g2_counts = j_05_p1_g2_counts.fillna(0)\n",
    "j_06_p1_g2_counts = j_06_p1_g2_counts.fillna(0)\n",
    "j_07_p1_g2_counts = j_07_p1_g2_counts.fillna(0)\n",
    "j_08_p1_g2_counts = j_08_p1_g2_counts.fillna(0)\n",
    "\n",
    "j_01_p2_g1_counts = j_01_p2_g1_counts.fillna(0)\n",
    "j_02_p2_g1_counts = j_02_p2_g1_counts.fillna(0)\n",
    "j_03_p2_g1_counts = j_03_p2_g1_counts.fillna(0)\n",
    "j_04_p2_g1_counts = j_04_p2_g1_counts.fillna(0)\n",
    "j_05_p2_g1_counts = j_05_p2_g1_counts.fillna(0)\n",
    "j_06_p2_g1_counts = j_06_p2_g1_counts.fillna(0)\n",
    "j_07_p2_g1_counts = j_07_p2_g1_counts.fillna(0)\n",
    "j_08_p2_g1_counts = j_08_p2_g1_counts.fillna(0)\n",
    "\n",
    "j_01_p2_g2_counts = j_01_p2_g2_counts.fillna(0)\n",
    "j_02_p2_g2_counts = j_02_p2_g2_counts.fillna(0)\n",
    "j_03_p2_g2_counts = j_03_p2_g2_counts.fillna(0)\n",
    "j_04_p2_g2_counts = j_04_p2_g2_counts.fillna(0)\n",
    "j_05_p2_g2_counts = j_05_p2_g2_counts.fillna(0)\n",
    "j_06_p2_g2_counts = j_06_p2_g2_counts.fillna(0)\n",
    "j_07_p2_g2_counts = j_07_p2_g2_counts.fillna(0)\n",
    "j_08_p2_g2_counts = j_08_p2_g2_counts.fillna(0)"
   ]
  },
  {
   "cell_type": "code",
   "execution_count": null,
   "metadata": {},
   "outputs": [],
   "source": [
    "#replace na with 0\n",
    "j_01_p1_g1_counts = j_01_p1_g1_counts.applymap(num_to_percent)\n",
    "j_02_p1_g1_counts = j_02_p1_g1_counts.applymap(num_to_percent)\n",
    "j_03_p1_g1_counts = j_03_p1_g1_counts.applymap(num_to_percent)\n",
    "j_04_p1_g1_counts = j_04_p1_g1_counts.applymap(num_to_percent)\n",
    "j_05_p1_g1_counts = j_05_p1_g1_counts.applymap(num_to_percent)\n",
    "j_06_p1_g1_counts = j_06_p1_g1_counts.applymap(num_to_percent)\n",
    "j_07_p1_g1_counts = j_07_p1_g1_counts.applymap(num_to_percent)\n",
    "j_08_p1_g1_counts = j_08_p1_g1_counts.applymap(num_to_percent)\n",
    "\n",
    "j_01_p1_g2_counts = j_01_p1_g2_counts.applymap(num_to_percent)\n",
    "j_02_p1_g2_counts = j_02_p1_g2_counts.applymap(num_to_percent)\n",
    "j_03_p1_g2_counts = j_03_p1_g2_counts.applymap(num_to_percent)\n",
    "j_04_p1_g2_counts = j_04_p1_g2_counts.applymap(num_to_percent)\n",
    "j_05_p1_g2_counts = j_05_p1_g2_counts.applymap(num_to_percent)\n",
    "j_06_p1_g2_counts = j_06_p1_g2_counts.applymap(num_to_percent)\n",
    "j_07_p1_g2_counts = j_07_p1_g2_counts.applymap(num_to_percent)\n",
    "j_08_p1_g2_counts = j_08_p1_g2_counts.applymap(num_to_percent)\n",
    "\n",
    "j_01_p2_g1_counts = j_01_p2_g1_counts.applymap(num_to_percent)\n",
    "j_02_p2_g1_counts = j_02_p2_g1_counts.applymap(num_to_percent)\n",
    "j_03_p2_g1_counts = j_03_p2_g1_counts.applymap(num_to_percent)\n",
    "j_04_p2_g1_counts = j_04_p2_g1_counts.applymap(num_to_percent)\n",
    "j_05_p2_g1_counts = j_05_p2_g1_counts.applymap(num_to_percent)\n",
    "j_06_p2_g1_counts = j_06_p2_g1_counts.applymap(num_to_percent)\n",
    "j_07_p2_g1_counts = j_07_p2_g1_counts.applymap(num_to_percent)\n",
    "j_08_p2_g1_counts = j_08_p2_g1_counts.applymap(num_to_percent)\n",
    "\n",
    "j_01_p2_g2_counts = j_01_p2_g2_counts.applymap(num_to_percent)\n",
    "j_02_p2_g2_counts = j_02_p2_g2_counts.applymap(num_to_percent)\n",
    "j_03_p2_g2_counts = j_03_p2_g2_counts.applymap(num_to_percent)\n",
    "j_04_p2_g2_counts = j_04_p2_g2_counts.applymap(num_to_percent)\n",
    "j_05_p2_g2_counts = j_05_p2_g2_counts.applymap(num_to_percent)\n",
    "j_06_p2_g2_counts = j_06_p2_g2_counts.applymap(num_to_percent)\n",
    "j_07_p2_g2_counts = j_07_p2_g2_counts.applymap(num_to_percent)\n",
    "j_08_p2_g2_counts = j_08_p2_g2_counts.applymap(num_to_percent)"
   ]
  },
  {
   "cell_type": "code",
   "execution_count": null,
   "metadata": {},
   "outputs": [],
   "source": [
    "j_01_p1_g1_jsd = [1,2,3,4,5]\n",
    "j_02_p1_g1_jsd = [1,2,3,4,5]\n",
    "j_03_p1_g1_jsd = [1,2,3,4,5]\n",
    "j_04_p1_g1_jsd = [1,2,3,4,5]\n",
    "j_05_p1_g1_jsd = [1,2,3,4,5]\n",
    "j_06_p1_g1_jsd = [1,2,3,4,5]\n",
    "j_07_p1_g1_jsd = [1,2,3,4,5]\n",
    "j_08_p1_g1_jsd = [1,2,3,4,5]\n",
    "\n",
    "j_01_p2_g1_jsd = [1,2,3,4,5]\n",
    "j_02_p2_g1_jsd = [1,2,3,4,5]\n",
    "j_03_p2_g1_jsd = [1,2,3,4,5]\n",
    "j_04_p2_g1_jsd = [1,2,3,4,5]\n",
    "j_05_p2_g1_jsd = [1,2,3,4,5]\n",
    "j_06_p2_g1_jsd = [1,2,3,4,5]\n",
    "j_07_p2_g1_jsd = [1,2,3,4,5]\n",
    "j_08_p2_g1_jsd = [1,2,3,4,5]\n",
    "\n",
    "j_01_p1_g2_jsd = [1,2,3,4,5]\n",
    "j_02_p1_g2_jsd = [1,2,3,4,5]\n",
    "j_03_p1_g2_jsd = [1,2,3,4,5]\n",
    "j_04_p1_g2_jsd = [1,2,3,4,5]\n",
    "j_05_p1_g2_jsd = [1,2,3,4,5]\n",
    "j_06_p1_g2_jsd = [1,2,3,4,5]\n",
    "j_07_p1_g2_jsd = [1,2,3,4,5]\n",
    "j_08_p1_g2_jsd = [1,2,3,4,5]\n",
    "\n",
    "j_01_p2_g2_jsd = [1,2,3,4,5]\n",
    "j_02_p2_g2_jsd = [1,2,3,4,5]\n",
    "j_03_p2_g2_jsd = [1,2,3,4,5]\n",
    "j_04_p2_g2_jsd = [1,2,3,4,5]\n",
    "j_05_p2_g2_jsd = [1,2,3,4,5]\n",
    "j_06_p2_g2_jsd = [1,2,3,4,5]\n",
    "j_07_p2_g2_jsd = [1,2,3,4,5]\n",
    "j_08_p2_g2_jsd = [1,2,3,4,5]"
   ]
  },
  {
   "cell_type": "code",
   "execution_count": null,
   "metadata": {},
   "outputs": [],
   "source": [
    "def call_jsd(counts):\n",
    "    maxi = jsd(counts,maximize)\n",
    "    matchi = jsd(counts,match)\n",
    "    return maxi,matchi"
   ]
  },
  {
   "cell_type": "code",
   "execution_count": null,
   "metadata": {},
   "outputs": [],
   "source": [
    "def jsd(p, q, base=np.e):\n",
    "    '''\n",
    "        Implementation of pairwise `jsd` based on  \n",
    "        https://en.wikipedia.org/wiki/Jensen%E2%80%93Shannon_divergence\n",
    "    '''\n",
    "    ## convert to np.array\n",
    "    p, q = np.asarray(p), np.asarray(q)\n",
    "    print(p)\n",
    "    ## normalize p, q to probabilities\n",
    "    p, q = p/p.sum(), q/q.sum()\n",
    "    m = 1./2*(p + q)\n",
    "    return sp.stats.entropy(p,m, base=base)/2. +  sp.stats.entropy(q, m, base=base)/2."
   ]
  },
  {
   "cell_type": "code",
   "execution_count": null,
   "metadata": {},
   "outputs": [],
   "source": [
    "maximize = [0,0,100]\n",
    "match = [30/180 * 100,60/180 * 100,50]"
   ]
  },
  {
   "cell_type": "code",
   "execution_count": null,
   "metadata": {},
   "outputs": [],
   "source": [
    "from scipy import stats"
   ]
  },
  {
   "cell_type": "code",
   "execution_count": null,
   "metadata": {
    "scrolled": false
   },
   "outputs": [],
   "source": [
    "for i in range(5):\n",
    "    j_01_p1_g1_jsd[i] = call_jsd(j_01_p1_g1_counts.iloc[i,:]);\n",
    "    j_02_p1_g1_jsd[i] = call_jsd(j_02_p1_g1_counts.iloc[i,:]);\n",
    "    j_03_p1_g1_jsd[i] = call_jsd(j_03_p1_g1_counts.iloc[i,:]);\n",
    "    j_04_p1_g1_jsd[i] = call_jsd(j_04_p1_g1_counts.iloc[i,:]);\n",
    "    j_05_p1_g1_jsd[i] = call_jsd(j_05_p1_g1_counts.iloc[i,:]);\n",
    "    j_06_p1_g1_jsd[i] = call_jsd(j_06_p1_g1_counts.iloc[i,:]);\n",
    "    j_07_p1_g1_jsd[i] = call_jsd(j_07_p1_g1_counts.iloc[i,:]);\n",
    "    j_08_p1_g1_jsd[i] = call_jsd(j_08_p1_g1_counts.iloc[i,:]);\n",
    "    \n",
    "    j_01_p2_g1_jsd[i] = call_jsd(j_01_p1_g1_counts.iloc[i,:]);\n",
    "    j_02_p2_g1_jsd[i] = call_jsd(j_02_p1_g1_counts.iloc[i,:]);\n",
    "    j_03_p2_g1_jsd[i] = call_jsd(j_03_p1_g1_counts.iloc[i,:]);\n",
    "    j_04_p2_g1_jsd[i] = call_jsd(j_04_p1_g1_counts.iloc[i,:]);\n",
    "    j_05_p2_g1_jsd[i] = call_jsd(j_05_p1_g1_counts.iloc[i,:]);\n",
    "    j_06_p2_g1_jsd[i] = call_jsd(j_06_p1_g1_counts.iloc[i,:]);\n",
    "    j_07_p2_g1_jsd[i] = call_jsd(j_07_p1_g1_counts.iloc[i,:]);\n",
    "    j_08_p2_g1_jsd[i] = call_jsd(j_08_p1_g1_counts.iloc[i,:]);\n",
    "    \n",
    "    j_01_p1_g2_jsd[i] = call_jsd(j_01_p1_g1_counts.iloc[i,:]);\n",
    "    j_02_p1_g2_jsd[i] = call_jsd(j_02_p1_g1_counts.iloc[i,:]);\n",
    "    j_03_p1_g2_jsd[i] = call_jsd(j_03_p1_g1_counts.iloc[i,:]);\n",
    "    j_04_p1_g2_jsd[i] = call_jsd(j_04_p1_g1_counts.iloc[i,:]);\n",
    "    j_05_p1_g2_jsd[i] = call_jsd(j_05_p1_g1_counts.iloc[i,:]);\n",
    "    j_06_p1_g2_jsd[i] = call_jsd(j_06_p1_g1_counts.iloc[i,:]);\n",
    "    j_07_p1_g2_jsd[i] = call_jsd(j_07_p1_g1_counts.iloc[i,:]);\n",
    "    j_08_p1_g2_jsd[i] = call_jsd(j_08_p1_g1_counts.iloc[i,:]);\n",
    "    \n",
    "    j_01_p2_g2_jsd[i] = call_jsd(j_01_p1_g1_counts.iloc[i,:]);\n",
    "    j_02_p2_g2_jsd[i] = call_jsd(j_02_p1_g1_counts.iloc[i,:]);\n",
    "    j_03_p2_g2_jsd[i] = call_jsd(j_03_p1_g1_counts.iloc[i,:]);\n",
    "    j_04_p2_g2_jsd[i] = call_jsd(j_04_p1_g1_counts.iloc[i,:]);\n",
    "    j_05_p2_g2_jsd[i] = call_jsd(j_05_p1_g1_counts.iloc[i,:]);\n",
    "    j_06_p2_g2_jsd[i] = call_jsd(j_06_p1_g1_counts.iloc[i,:]);\n",
    "    j_07_p2_g2_jsd[i] = call_jsd(j_07_p1_g1_counts.iloc[i,:]);\n",
    "    j_08_p2_g2_jsd[i] = call_jsd(j_08_p1_g1_counts.iloc[i,:]);"
   ]
  },
  {
   "cell_type": "code",
   "execution_count": null,
   "metadata": {},
   "outputs": [],
   "source": [
    "j_jsd_p1_g1_1 = pd.DataFrame(j_01_p1_g1_jsd,index=['j01:1-20','j01:21-40','j01:41-60','j01:61-80','j01:81-100'])\n",
    "j_jsd_p1_g1_2 = pd.DataFrame(j_02_p1_g1_jsd,index=['j02:1-20','j02:21-40','j02:41-60','j02:61-80','j02:81-100'])\n",
    "j_jsd_p1_g1_3 = pd.DataFrame(j_03_p1_g1_jsd,index=['j03:1-20','j03:21-40','j03:41-60','j03:61-80','j03:81-100'])\n",
    "j_jsd_p1_g1_4 = pd.DataFrame(j_04_p1_g1_jsd,index=['j04:1-20','j04:21-40','j04:41-60','j04:61-80','j04:81-100'])\n",
    "j_jsd_p1_g1_5 = pd.DataFrame(j_05_p1_g1_jsd,index=['j05:1-20','j05:21-40','j05:41-60','j05:61-80','j05:81-100'])\n",
    "j_jsd_p1_g1_6 = pd.DataFrame(j_06_p1_g1_jsd,index=['j06:1-20','j06:21-40','j06:41-60','j06:61-80','j06:81-100'])\n",
    "j_jsd_p1_g1_7 = pd.DataFrame(j_07_p1_g1_jsd,index=['j07:1-20','j07:21-40','j07:41-60','j07:61-80','j07:81-100'])\n",
    "j_jsd_p1_g1_8 = pd.DataFrame(j_08_p1_g1_jsd,index=['j08:1-20','j08:21-40','j08:41-60','j08:61-80','j08:81-100'])\n",
    "\n",
    "j_jsd_p1_g2_1 = pd.DataFrame(j_01_p1_g2_jsd,index=['j01:1-20','j01:21-40','j01:41-60','j01:61-80','j01:81-100'])\n",
    "j_jsd_p1_g2_2 = pd.DataFrame(j_02_p1_g2_jsd,index=['j02:1-20','j02:21-40','j02:41-60','j02:61-80','j02:81-100'])\n",
    "j_jsd_p1_g2_3 = pd.DataFrame(j_03_p1_g2_jsd,index=['j03:1-20','j03:21-40','j03:41-60','j03:61-80','j03:81-100'])\n",
    "j_jsd_p1_g2_4 = pd.DataFrame(j_04_p1_g2_jsd,index=['j04:1-20','j04:21-40','j04:41-60','j04:61-80','j04:81-100'])\n",
    "j_jsd_p1_g2_5 = pd.DataFrame(j_05_p1_g2_jsd,index=['j05:1-20','j05:21-40','j05:41-60','j05:61-80','j05:81-100'])\n",
    "j_jsd_p1_g2_6 = pd.DataFrame(j_06_p1_g2_jsd,index=['j06:1-20','j06:21-40','j06:41-60','j06:61-80','j06:81-100'])\n",
    "j_jsd_p1_g2_7 = pd.DataFrame(j_07_p1_g2_jsd,index=['j07:1-20','j07:21-40','j07:41-60','j07:61-80','j07:81-100'])\n",
    "j_jsd_p1_g2_8 = pd.DataFrame(j_08_p1_g2_jsd,index=['j08:1-20','j08:21-40','j08:41-60','j08:61-80','j08:81-100'])\n",
    "\n",
    "j_jsd_p2_g2_1 = pd.DataFrame(j_01_p2_g2_jsd,index=['j01:1-20','j01:21-40','j01:41-60','j01:61-80','j01:81-100'])\n",
    "j_jsd_p2_g2_2 = pd.DataFrame(j_02_p2_g2_jsd,index=['j02:1-20','j02:21-40','j02:41-60','j02:61-80','j02:81-100'])\n",
    "j_jsd_p2_g2_3 = pd.DataFrame(j_03_p2_g2_jsd,index=['j03:1-20','j03:21-40','j03:41-60','j03:61-80','j03:81-100'])\n",
    "j_jsd_p2_g2_4 = pd.DataFrame(j_04_p2_g2_jsd,index=['j04:1-20','j04:21-40','j04:41-60','j04:61-80','j04:81-100'])\n",
    "j_jsd_p2_g2_5 = pd.DataFrame(j_05_p2_g2_jsd,index=['j05:1-20','j05:21-40','j05:41-60','j05:61-80','j05:81-100'])\n",
    "j_jsd_p2_g2_6 = pd.DataFrame(j_06_p2_g2_jsd,index=['j06:1-20','j06:21-40','j06:41-60','j06:61-80','j06:81-100'])\n",
    "j_jsd_p2_g2_7 = pd.DataFrame(j_07_p2_g2_jsd,index=['j07:1-20','j07:21-40','j07:41-60','j07:61-80','j07:81-100'])\n",
    "j_jsd_p2_g2_8 = pd.DataFrame(j_08_p2_g2_jsd,index=['j08:1-20','j08:21-40','j08:41-60','j08:61-80','j08:81-100'])\n",
    "\n",
    "j_jsd_p2_g1_1 = pd.DataFrame(j_01_p2_g1_jsd,index=['j01:1-20','j01:21-40','j01:41-60','j01:61-80','j01:81-100'])\n",
    "j_jsd_p2_g1_2 = pd.DataFrame(j_02_p2_g1_jsd,index=['j02:1-20','j02:21-40','j02:41-60','j02:61-80','j02:81-100'])\n",
    "j_jsd_p2_g1_3 = pd.DataFrame(j_03_p2_g1_jsd,index=['j03:1-20','j03:21-40','j03:41-60','j03:61-80','j03:81-100'])\n",
    "j_jsd_p2_g1_4 = pd.DataFrame(j_04_p2_g1_jsd,index=['j04:1-20','j04:21-40','j04:41-60','j04:61-80','j04:81-100'])\n",
    "j_jsd_p2_g1_5 = pd.DataFrame(j_05_p2_g1_jsd,index=['j05:1-20','j05:21-40','j05:41-60','j05:61-80','j05:81-100'])\n",
    "j_jsd_p2_g1_6 = pd.DataFrame(j_06_p2_g1_jsd,index=['j06:1-20','j06:21-40','j06:41-60','j06:61-80','j06:81-100'])\n",
    "j_jsd_p2_g1_7 = pd.DataFrame(j_07_p2_g1_jsd,index=['j07:1-20','j07:21-40','j07:41-60','j07:61-80','j07:81-100'])\n",
    "j_jsd_p2_g1_8 = pd.DataFrame(j_08_p2_g1_jsd,index=['j08:1-20','j08:21-40','j08:41-60','j08:61-80','j08:81-100'])"
   ]
  },
  {
   "cell_type": "code",
   "execution_count": null,
   "metadata": {},
   "outputs": [],
   "source": [
    "frames_1 = [j_jsd_p1_g1_1,j_jsd_p1_g1_2,j_jsd_p1_g1_3,j_jsd_p1_g1_4,j_jsd_p1_g1_5,j_jsd_p1_g1_6,j_jsd_p1_g1_7,\n",
    "            j_jsd_p1_g1_8]\n",
    "frames_2 = [j_jsd_p2_g1_1,j_jsd_p2_g1_2,j_jsd_p2_g1_3,j_jsd_p2_g1_4,j_jsd_p2_g1_5,j_jsd_p2_g1_6,j_jsd_p2_g1_7,\n",
    "            j_jsd_p2_g1_8]\n",
    "frames_3 = [j_jsd_p1_g2_1,j_jsd_p1_g2_2,j_jsd_p1_g2_3,j_jsd_p1_g2_4,j_jsd_p1_g2_5,j_jsd_p1_g2_6,j_jsd_p1_g2_7,\n",
    "            j_jsd_p1_g2_8]\n",
    "frames_4 = [j_jsd_p2_g2_1,j_jsd_p2_g2_2,j_jsd_p2_g2_3,j_jsd_p2_g2_4,j_jsd_p2_g2_5,j_jsd_p2_g2_6,j_jsd_p2_g2_7,\n",
    "            j_jsd_p2_g2_8]\n",
    "\n",
    "frames_5 = [j_jsd_p1_g1_1,j_jsd_p1_g1_2,j_jsd_p1_g1_3,j_jsd_p1_g1_4,j_jsd_p1_g1_5,j_jsd_p1_g1_6,j_jsd_p1_g1_7,\n",
    "            j_jsd_p1_g1_8,j_jsd_p2_g1_1,j_jsd_p2_g1_2,j_jsd_p2_g1_3,j_jsd_p2_g1_4,j_jsd_p2_g1_5,j_jsd_p2_g1_6,j_jsd_p2_g1_7,\n",
    "            j_jsd_p2_g1_8]\n",
    "frames_6 = [j_jsd_p1_g2_1,j_jsd_p1_g2_2,j_jsd_p1_g2_3,j_jsd_p1_g2_4,j_jsd_p1_g2_5,j_jsd_p1_g2_6,j_jsd_p1_g2_7,\n",
    "            j_jsd_p1_g2_8,j_jsd_p2_g2_1,j_jsd_p2_g2_2,j_jsd_p2_g2_3,j_jsd_p2_g2_4,j_jsd_p2_g2_5,j_jsd_p2_g2_6,j_jsd_p2_g2_7,\n",
    "            j_jsd_p2_g2_8]"
   ]
  },
  {
   "cell_type": "code",
   "execution_count": null,
   "metadata": {},
   "outputs": [],
   "source": [
    "j_jsd_p1_g1_sectioned = pd.concat(frames_1)\n",
    "j_jsd_p1_g1_sectioned.columns=['max','match']\n",
    "\n",
    "j_jsd_p2_g1_sectioned = pd.concat(frames_2)\n",
    "j_jsd_p2_g1_sectioned.columns=['max','match']\n",
    "\n",
    "j_jsd_p1_g2_sectioned = pd.concat(frames_3)\n",
    "j_jsd_p1_g2_sectioned.columns=['max','match']\n",
    "\n",
    "j_jsd_g1_sectioned = pd.concat(frames_5)\n",
    "j_jsd_g1_sectioned.columns=['max','match']\n",
    "\n",
    "j_jsd_g2_sectioned = pd.concat(frames_6)\n",
    "j_jsd_g2_sectioned.columns=['max','match']\n"
   ]
  },
  {
   "cell_type": "code",
   "execution_count": null,
   "metadata": {},
   "outputs": [],
   "source": [
    "j_jsd_p1_g1_sectioned.to_csv('j_jsd_p1_g1_sectioned')\n",
    "j_jsd_p1_g2_sectioned.to_csv('j_jsd_p1_g2_sectioned')\n",
    "j_jsd_p2_g1_sectioned.to_csv('j_jsd_p2_g1_sectioned')\n",
    "j_jsd_p2_g2_sectioned.to_csv('j_jsd_p2_g2_sectioned')"
   ]
  },
  {
   "cell_type": "code",
   "execution_count": null,
   "metadata": {},
   "outputs": [],
   "source": [
    "j_jsd_g1"
   ]
  },
  {
   "cell_type": "code",
   "execution_count": null,
   "metadata": {},
   "outputs": [],
   "source": [
    "j_jsd_p1_g2_sectioned"
   ]
  },
  {
   "cell_type": "markdown",
   "metadata": {},
   "source": [
    "# Maximizing/Matching"
   ]
  },
  {
   "cell_type": "code",
   "execution_count": null,
   "metadata": {},
   "outputs": [],
   "source": [
    "scores"
   ]
  },
  {
   "cell_type": "code",
   "execution_count": null,
   "metadata": {},
   "outputs": [],
   "source": [
    "def jsd(p, q, base=np.e):\n",
    "    '''\n",
    "        Implementation of pairwise `jsd` based on  \n",
    "        https://en.wikipedia.org/wiki/Jensen%E2%80%93Shannon_divergence\n",
    "    '''\n",
    "    ## convert to np.array\n",
    "    p, q = np.asarray(p), np.asarray(q)\n",
    "    print(p)\n",
    "    ## normalize p, q to probabilities\n",
    "    p, q = p/p.sum(), q/q.sum()\n",
    "    m = 1./2*(p + q)\n",
    "    return sp.stats.entropy(p,m, base=base)/2. +  sp.stats.entropy(q, m, base=base)/2."
   ]
  },
  {
   "cell_type": "code",
   "execution_count": null,
   "metadata": {},
   "outputs": [],
   "source": [
    "maximize = [0,0,100]\n",
    "match = [30/180 * 100,60/180 * 100,50]"
   ]
  },
  {
   "cell_type": "code",
   "execution_count": null,
   "metadata": {},
   "outputs": [],
   "source": [
    "def call_jsd(counts):\n",
    "    maxi = jsd(counts,maximize)\n",
    "    matchi = jsd(counts,match)\n",
    "    return maxi,matchi"
   ]
  },
  {
   "cell_type": "code",
   "execution_count": null,
   "metadata": {},
   "outputs": [],
   "source": [
    "social_max = [0, 100, 0]\n",
    "social_match = [30/180 * 100,30/180 * 100, 30/180 * 100]"
   ]
  },
  {
   "cell_type": "code",
   "execution_count": null,
   "metadata": {},
   "outputs": [],
   "source": [
    "def call_jsd_social(counts):\n",
    "    maxi = jsd(counts,social_max)\n",
    "    matchi = jsd(counts,social_match)\n",
    "    return maxi,matchi"
   ]
  },
  {
   "cell_type": "code",
   "execution_count": null,
   "metadata": {},
   "outputs": [],
   "source": [
    "s01_p1_g1_count"
   ]
  },
  {
   "cell_type": "code",
   "execution_count": null,
   "metadata": {},
   "outputs": [],
   "source": [
    "from scipy import stats"
   ]
  },
  {
   "cell_type": "code",
   "execution_count": null,
   "metadata": {},
   "outputs": [],
   "source": [
    "#test = jsd(maximize,match)"
   ]
  },
  {
   "cell_type": "code",
   "execution_count": null,
   "metadata": {},
   "outputs": [],
   "source": [
    "#test"
   ]
  },
  {
   "cell_type": "code",
   "execution_count": null,
   "metadata": {},
   "outputs": [],
   "source": [
    "s01 = 'match'"
   ]
  },
  {
   "cell_type": "code",
   "execution_count": null,
   "metadata": {},
   "outputs": [],
   "source": [
    "s05_p1_g2_count = [11,0,89]"
   ]
  },
  {
   "cell_type": "code",
   "execution_count": null,
   "metadata": {},
   "outputs": [],
   "source": [
    "s01_g1_max,s01_g1_match = call_jsd(s01_p1_g1_count)\n",
    "s01_g2_max,s01_g2_match = call_jsd(s01_p1_g2_count)\n",
    "s02_g1_max,s02_g1_match = call_jsd(s02_p1_g1_count)\n",
    "s03_g1_max,s03_g1_match = call_jsd(s03_p1_g1_count)\n",
    "s03_g2_max,s03_g2_match = call_jsd(s03_p1_g2_count)\n",
    "s05_g1_max,s05_g1_match = call_jsd(s05_p1_g1_count)\n",
    "s05_g2_max,s05_g2_match = call_jsd(s05_p1_g2_count)\n",
    "s06_g1_max,s06_g1_match = call_jsd(s06_p1_g1_count)\n",
    "s06_g2_max,s06_g2_match = call_jsd(s06_p1_g2_count)\n",
    "s07_g1_max,s07_g1_match = call_jsd(s07_p1_g1_count)\n",
    "s07_g2_max,s07_g2_match = call_jsd(s07_p1_g2_count)\n",
    "s08_g1_max,s08_g1_match = call_jsd(s08_p1_g1_count)\n",
    "s08_g2_max,s08_g2_match = call_jsd(s08_p1_g2_count)\n",
    "s09_g1_max,s09_g1_match = call_jsd(s09_p1_g1_count)\n",
    "s09_g2_max,s09_g2_match = call_jsd(s09_p1_g2_count)"
   ]
  },
  {
   "cell_type": "code",
   "execution_count": null,
   "metadata": {},
   "outputs": [],
   "source": [
    "s_jsd = pd.DataFrame({'max':[s01_g1_max,s01_g2_max,s02_g1_max,s03_g1_max,s03_g2_max,s05_g1_max,s05_g2_max,s06_g1_max,\n",
    "                      s06_g2_max,s07_g1_max,s07_g2_max,s08_g1_max,s08_g2_max,s09_g1_max,s09_g2_max],\n",
    "                      'match':[s01_g1_match,s01_g2_match,s02_g1_match,s03_g1_match,s03_g2_match,s05_g1_match\n",
    "                               ,s05_g2_match,s06_g1_match,s06_g2_match,s07_g1_match,s07_g2_match,s08_g1_match\n",
    "                               ,s08_g2_match,s09_g1_match,s09_g2_match]},\n",
    "                        index=['s01', 's01', 's02', 's03', 's03','s05', 's05','s06', 's06','s07','s07','s08','s08','s09','s09'])"
   ]
  },
  {
   "cell_type": "code",
   "execution_count": null,
   "metadata": {},
   "outputs": [],
   "source": [
    "#NOT WORKING\n",
    "def check_type(df,*social):\n",
    "    types = pd.DataFrame(index=['type'])\n",
    "    for index,row in df.iterrows():\n",
    "        maxi = row[\"max\"]\n",
    "        matchi = row[\"match\"]\n",
    "        print(index,maxi,matchi)\n",
    "        if maxi < matchi:\n",
    "            print('maxi')\n",
    "            types = types.append({'type' : 'maxi'},ignore_index=True)\n",
    "            #types[index,'type'] = 'max'\n",
    "            num = maxi\n",
    "        elif matchi < maxi:\n",
    "            print('matchi')\n",
    "            types = types.append({'type' : 'matchi'},ignore_index=True)\n",
    "            num = matchi\n",
    "        else:\n",
    "            types = types.append({'type' : 'neither'},ignore_index=True)\n",
    "            num = 1\n",
    "        if social == True:\n",
    "            if num >= jsd(social_max,social_match):\n",
    "                types = types.append({'type' : 'neither'},ignore_index=True)\n",
    "        else:\n",
    "            if num >= jsd(maximize,match):\n",
    "                types = types.append({'type' : 'neither'},ignore_index=True)\n",
    "    return types"
   ]
  },
  {
   "cell_type": "code",
   "execution_count": null,
   "metadata": {},
   "outputs": [],
   "source": [
    "#s_jsd.apply(check_type,axis=1)"
   ]
  },
  {
   "cell_type": "code",
   "execution_count": null,
   "metadata": {
    "scrolled": true
   },
   "outputs": [],
   "source": [
    "s_types = check_type(s_jsd)"
   ]
  },
  {
   "cell_type": "code",
   "execution_count": null,
   "metadata": {
    "scrolled": true
   },
   "outputs": [],
   "source": [
    "s_types"
   ]
  },
  {
   "cell_type": "code",
   "execution_count": null,
   "metadata": {},
   "outputs": [],
   "source": [
    "s_types.drop([0])"
   ]
  },
  {
   "cell_type": "code",
   "execution_count": null,
   "metadata": {},
   "outputs": [],
   "source": [
    "threshold = jsd(maximize,match)"
   ]
  },
  {
   "cell_type": "code",
   "execution_count": null,
   "metadata": {},
   "outputs": [],
   "source": [
    "threshold"
   ]
  },
  {
   "cell_type": "code",
   "execution_count": null,
   "metadata": {},
   "outputs": [],
   "source": [
    "s_jsd"
   ]
  },
  {
   "cell_type": "markdown",
   "metadata": {},
   "source": [
    "# Same for each 20 trial interval"
   ]
  },
  {
   "cell_type": "code",
   "execution_count": null,
   "metadata": {},
   "outputs": [],
   "source": [
    "#reorder the rows and columns "
   ]
  },
  {
   "cell_type": "code",
   "execution_count": null,
   "metadata": {},
   "outputs": [],
   "source": [
    "cols = [30,60,90]\n",
    "rows = ['1-20','21-40','41-60','61-80','81-100']"
   ]
  },
  {
   "cell_type": "code",
   "execution_count": null,
   "metadata": {},
   "outputs": [],
   "source": [
    "s_05_p1_g2_counts[60] = [0,0,0,0,0]"
   ]
  },
  {
   "cell_type": "code",
   "execution_count": null,
   "metadata": {},
   "outputs": [],
   "source": [
    "s_01_p1_g1_counts = s_01_p1_g1_counts[cols]\n",
    "s_03_p1_g1_counts = s_03_p1_g1_counts[cols]\n",
    "s_05_p1_g1_counts = s_05_p1_g1_counts[cols]\n",
    "s_06_p1_g1_counts = s_06_p1_g1_counts[cols]\n",
    "s_07_p1_g1_counts = s_07_p1_g1_counts[cols]\n",
    "s_08_p1_g1_counts = s_08_p1_g1_counts[cols]\n",
    "s_09_p1_g1_counts = s_09_p1_g1_counts[cols]\n",
    "\n",
    "s_01_p1_g2_counts = s_01_p1_g2_counts[cols]\n",
    "s_03_p1_g2_counts = s_03_p1_g2_counts[cols]\n",
    "s_05_p1_g2_counts = s_05_p1_g2_counts[cols]\n",
    "s_06_p1_g2_counts = s_06_p1_g2_counts[cols]\n",
    "s_07_p1_g2_counts = s_07_p1_g2_counts[cols]\n",
    "s_08_p1_g2_counts = s_08_p1_g2_counts[cols]\n",
    "s_09_p1_g2_counts = s_09_p1_g2_counts[cols]"
   ]
  },
  {
   "cell_type": "code",
   "execution_count": null,
   "metadata": {},
   "outputs": [],
   "source": [
    "s_01_p1_g1_counts = s_01_p1_g1_counts.reindex(['1-20','21-40','41-60','61-80','81-100'])\n",
    "s_03_p1_g1_counts = s_03_p1_g1_counts.reindex(['1-20','21-40','41-60','61-80','81-100'])\n",
    "s_05_p1_g1_counts = s_05_p1_g1_counts.reindex(['1-20','21-40','41-60','61-80','81-100'])\n",
    "s_06_p1_g1_counts = s_06_p1_g1_counts.reindex(['1-20','21-40','41-60','61-80','81-100'])\n",
    "s_07_p1_g1_counts = s_07_p1_g1_counts.reindex(['1-20','21-40','41-60','61-80','81-100'])\n",
    "s_08_p1_g1_counts = s_08_p1_g1_counts.reindex(['1-20','21-40','41-60','61-80','81-100'])\n",
    "s_09_p1_g1_counts = s_09_p1_g1_counts.reindex(['1-20','21-40','41-60','61-80','81-100'])\n",
    "\n",
    "s_01_p1_g2_counts = s_01_p1_g2_counts.reindex(['1-20','21-40','41-60','61-80','81-100'])\n",
    "s_03_p1_g2_counts = s_03_p1_g2_counts.reindex(['1-20','21-40','41-60','61-80','81-100'])\n",
    "s_05_p1_g2_counts = s_05_p1_g2_counts.reindex(['1-20','21-40','41-60','61-80','81-100'])\n",
    "s_06_p1_g2_counts = s_06_p1_g2_counts.reindex(['1-20','21-40','41-60','61-80','81-100'])\n",
    "s_07_p1_g2_counts = s_07_p1_g2_counts.reindex(['1-20','21-40','41-60','61-80','81-100'])\n",
    "s_08_p1_g2_counts = s_08_p1_g2_counts.reindex(['1-20','21-40','41-60','61-80','81-100'])\n",
    "s_09_p1_g2_counts = s_09_p1_g2_counts.reindex(['1-20','21-40','41-60','61-80','81-100'])"
   ]
  },
  {
   "cell_type": "code",
   "execution_count": null,
   "metadata": {},
   "outputs": [],
   "source": [
    "#divide each cell by 20 and multiply by 100"
   ]
  },
  {
   "cell_type": "code",
   "execution_count": null,
   "metadata": {},
   "outputs": [],
   "source": [
    "def num_to_percent(x):\n",
    "    x = x/20 * 100\n",
    "    return x"
   ]
  },
  {
   "cell_type": "code",
   "execution_count": null,
   "metadata": {},
   "outputs": [],
   "source": [
    "s_01_p1_g1_counts = s_01_p1_g1_counts.fillna(0)\n",
    "s_03_p1_g1_counts = s_03_p1_g1_counts.fillna(0)\n",
    "s_05_p1_g1_counts = s_05_p1_g1_counts.fillna(0)\n",
    "s_06_p1_g1_counts = s_06_p1_g1_counts.fillna(0)\n",
    "s_07_p1_g1_counts = s_07_p1_g1_counts.fillna(0)\n",
    "s_08_p1_g1_counts = s_08_p1_g1_counts.fillna(0)\n",
    "s_09_p1_g1_counts = s_09_p1_g1_counts.fillna(0)\n",
    "\n",
    "s_01_p1_g2_counts = s_01_p1_g2_counts.fillna(0)\n",
    "s_03_p1_g2_counts = s_03_p1_g2_counts.fillna(0)\n",
    "s_05_p1_g2_counts = s_05_p1_g2_counts.fillna(0)\n",
    "s_06_p1_g2_counts = s_06_p1_g2_counts.fillna(0)\n",
    "s_07_p1_g2_counts = s_07_p1_g2_counts.fillna(0)\n",
    "s_08_p1_g2_counts = s_08_p1_g2_counts.fillna(0)\n",
    "s_09_p1_g2_counts = s_09_p1_g2_counts.fillna(0)"
   ]
  },
  {
   "cell_type": "code",
   "execution_count": null,
   "metadata": {},
   "outputs": [],
   "source": [
    "s_01_p1_g1_counts = s_01_p1_g1_counts.applymap(num_to_percent)\n",
    "s_03_p1_g1_counts = s_03_p1_g1_counts.applymap(num_to_percent)\n",
    "s_05_p1_g1_counts = s_05_p1_g1_counts.applymap(num_to_percent)\n",
    "s_06_p1_g1_counts = s_06_p1_g1_counts.applymap(num_to_percent)\n",
    "s_07_p1_g1_counts = s_07_p1_g1_counts.applymap(num_to_percent)\n",
    "s_08_p1_g1_counts = s_08_p1_g1_counts.applymap(num_to_percent)\n",
    "s_09_p1_g1_counts = s_09_p1_g1_counts.applymap(num_to_percent)\n",
    "\n",
    "s_01_p1_g2_counts = s_01_p1_g2_counts.applymap(num_to_percent)\n",
    "s_03_p1_g2_counts = s_03_p1_g2_counts.applymap(num_to_percent)\n",
    "s_05_p1_g2_counts = s_05_p1_g2_counts.applymap(num_to_percent)\n",
    "s_06_p1_g2_counts = s_06_p1_g2_counts.applymap(num_to_percent)\n",
    "s_07_p1_g2_counts = s_07_p1_g2_counts.applymap(num_to_percent)\n",
    "s_08_p1_g2_counts = s_08_p1_g2_counts.applymap(num_to_percent)\n",
    "s_09_p1_g2_counts = s_09_p1_g2_counts.applymap(num_to_percent)"
   ]
  },
  {
   "cell_type": "code",
   "execution_count": null,
   "metadata": {},
   "outputs": [],
   "source": [
    "s_01_g1_jsd = [1,2,3,4,5]\n",
    "s_03_g1_jsd = [1,2,3,4,5]\n",
    "s_05_g1_jsd = [1,2,3,4,5]\n",
    "s_06_g1_jsd = [1,2,3,4,5]\n",
    "s_07_g1_jsd = [1,2,3,4,5]\n",
    "s_08_g1_jsd = [1,2,3,4,5]\n",
    "s_09_g1_jsd = [1,2,3,4,5]\n",
    "\n",
    "s_01_g2_jsd = [1,2,3,4,5]\n",
    "s_03_g2_jsd = [1,2,3,4,5]\n",
    "s_05_g2_jsd = [1,2,3,4,5]\n",
    "s_06_g2_jsd = [1,2,3,4,5]\n",
    "s_07_g2_jsd = [1,2,3,4,5]\n",
    "s_08_g2_jsd = [1,2,3,4,5]\n",
    "s_09_g2_jsd = [1,2,3,4,5]"
   ]
  },
  {
   "cell_type": "code",
   "execution_count": null,
   "metadata": {},
   "outputs": [],
   "source": [
    "for i in range(5):\n",
    "    s_01_g1_jsd[i] = call_jsd(s_01_p1_g1_counts.iloc[i,:]);\n",
    "    s_03_g1_jsd[i] = call_jsd(s_03_p1_g1_counts.iloc[i,:]);\n",
    "    s_05_g1_jsd[i] = call_jsd(s_05_p1_g1_counts.iloc[i,:]);\n",
    "    s_06_g1_jsd[i] = call_jsd(s_06_p1_g1_counts.iloc[i,:]);\n",
    "    s_07_g1_jsd[i] = call_jsd(s_07_p1_g1_counts.iloc[i,:]);\n",
    "    s_08_g1_jsd[i] = call_jsd(s_08_p1_g1_counts.iloc[i,:]);\n",
    "    s_09_g1_jsd[i] = call_jsd(s_09_p1_g1_counts.iloc[i,:]);\n",
    "    \n",
    "    s_01_g2_jsd[i] = call_jsd(s_01_p1_g2_counts.iloc[i,:]);\n",
    "    s_03_g2_jsd[i] = call_jsd(s_03_p1_g2_counts.iloc[i,:]);\n",
    "    s_05_g2_jsd[i] = call_jsd(s_05_p1_g2_counts.iloc[i,:]);\n",
    "    s_06_g2_jsd[i] = call_jsd(s_06_p1_g2_counts.iloc[i,:]);\n",
    "    s_07_g2_jsd[i] = call_jsd(s_07_p1_g2_counts.iloc[i,:]);\n",
    "    s_08_g2_jsd[i] = call_jsd(s_08_p1_g2_counts.iloc[i,:]);\n",
    "    s_09_g2_jsd[i] = call_jsd(s_09_p1_g2_counts.iloc[i,:]);"
   ]
  },
  {
   "cell_type": "code",
   "execution_count": null,
   "metadata": {},
   "outputs": [],
   "source": [
    "s_03_g1_jsd"
   ]
  },
  {
   "cell_type": "code",
   "execution_count": null,
   "metadata": {},
   "outputs": [],
   "source": [
    "s_jsd_g1_1 = pd.DataFrame(s_01_g1_jsd,index=['s01:1-20','s01:21-40','s01:41-60','s01:61-80','s01:81-100'])\n",
    "s_jsd_g1_3 = pd.DataFrame(s_03_g1_jsd,index=['s03:1-20','s03:21-40','s03:41-60','s03:61-80','s03:81-100'])\n",
    "s_jsd_g1_5 = pd.DataFrame(s_05_g1_jsd,index=['s05:1-20','s05:21-40','s05:41-60','s05:61-80','s05:81-100'])\n",
    "s_jsd_g1_6 = pd.DataFrame(s_06_g1_jsd,index=['s06:1-20','s06:21-40','s06:41-60','s06:61-80','s06:81-100'])\n",
    "s_jsd_g1_7 = pd.DataFrame(s_07_g1_jsd,index=['s07:1-20','s07:21-40','s07:41-60','s07:61-80','s07:81-100'])\n",
    "s_jsd_g1_8 = pd.DataFrame(s_08_g1_jsd,index=['s08:1-20','s08:21-40','s08:41-60','s08:61-80','s08:81-100'])\n",
    "s_jsd_g1_9 = pd.DataFrame(s_09_g1_jsd,index=['s09:1-20','s09:21-40','s09:41-60','s09:61-80','s09:81-100'])\n",
    "\n",
    "s_jsd_g2_1 = pd.DataFrame(s_01_g2_jsd,index=['s01:1-20','s01:21-40','s01:41-60','s01:61-80','s01:81-100'])\n",
    "s_jsd_g2_3 = pd.DataFrame(s_03_g2_jsd,index=['s03:1-20','s03:21-40','s03:41-60','s03:61-80','s03:81-100'])\n",
    "s_jsd_g2_5 = pd.DataFrame(s_05_g2_jsd,index=['s05:1-20','s05:21-40','s05:41-60','s05:61-80','s05:81-100'])\n",
    "s_jsd_g2_6 = pd.DataFrame(s_06_g2_jsd,index=['s06:1-20','s06:21-40','s06:41-60','s06:61-80','s06:81-100'])\n",
    "s_jsd_g2_7 = pd.DataFrame(s_07_g2_jsd,index=['s07:1-20','s07:21-40','s07:41-60','s07:61-80','s07:81-100'])\n",
    "s_jsd_g2_8 = pd.DataFrame(s_08_g2_jsd,index=['s08:1-20','s08:21-40','s08:41-60','s08:61-80','s08:81-100'])\n",
    "s_jsd_g2_9 = pd.DataFrame(s_09_g2_jsd,index=['s09:1-20','s09:21-40','s09:41-60','s09:61-80','s09:81-100'])"
   ]
  },
  {
   "cell_type": "code",
   "execution_count": null,
   "metadata": {},
   "outputs": [],
   "source": [
    "s_jsd_g1_6"
   ]
  },
  {
   "cell_type": "code",
   "execution_count": null,
   "metadata": {},
   "outputs": [],
   "source": [
    "s_jsd_g1_5"
   ]
  },
  {
   "cell_type": "code",
   "execution_count": null,
   "metadata": {},
   "outputs": [],
   "source": [
    "frames_1 = [s_jsd_g1_1,s_jsd_g1_3,s_jsd_g1_5,s_jsd_g1_6,s_jsd_g1_7,s_jsd_g1_8,s_jsd_g1_9]\n",
    "\n",
    "frames_2 = [s_jsd_g2_1,s_jsd_g2_3,s_jsd_g2_5,s_jsd_g2_6,s_jsd_g2_7,s_jsd_g2_8,s_jsd_g2_9]"
   ]
  },
  {
   "cell_type": "code",
   "execution_count": null,
   "metadata": {},
   "outputs": [],
   "source": [
    "s_jsd_g1_sectioned = pd.concat(frames_1)\n",
    "s_jsd_g1_sectioned.columns=['max','match']\n",
    "\n",
    "s_jsd_g2_sectioned = pd.concat(frames_2)\n",
    "s_jsd_g2_sectioned.columns=['max','match']"
   ]
  },
  {
   "cell_type": "code",
   "execution_count": null,
   "metadata": {},
   "outputs": [],
   "source": [
    "s_jsd_g2_sectioned"
   ]
  },
  {
   "cell_type": "code",
   "execution_count": null,
   "metadata": {},
   "outputs": [],
   "source": [
    "s_jsd_g1_sectioned.to_csv('s_jsd_g1_sectioned')\n",
    "s_jsd_g2_sectioned.to_csv('s_jsd_g2_sectioned')"
   ]
  },
  {
   "cell_type": "markdown",
   "metadata": {},
   "source": [
    "# Same for joint"
   ]
  },
  {
   "cell_type": "code",
   "execution_count": null,
   "metadata": {},
   "outputs": [],
   "source": [
    "j01_p1_g1_count"
   ]
  },
  {
   "cell_type": "code",
   "execution_count": null,
   "metadata": {},
   "outputs": [],
   "source": [
    "j01_p1_g1_max,j01_p1_g1_match = call_jsd(j01_p1_g1_count)\n",
    "j01_p1_g2_max,j01_p1_g2_match = call_jsd(j01_p1_g2_count)\n",
    "j01_p2_g1_max,j01_p2_g1_match = call_jsd(j01_p2_g1_count)\n",
    "j01_p2_g2_max,j01_p2_g2_match = call_jsd(j01_p2_g2_count)\n",
    "j02_p1_g1_max,j02_p1_g1_match = call_jsd(j02_p1_g1_count)\n",
    "j02_p1_g2_max,j02_p1_g2_match = call_jsd(j02_p1_g2_count)\n",
    "j02_p2_g1_max,j02_p2_g1_match = call_jsd(j02_p2_g1_count)\n",
    "j02_p2_g2_max,j02_p2_g2_match = call_jsd(j02_p2_g2_count)\n",
    "j03_p1_g1_max,j03_p1_g1_match = call_jsd(j03_p1_g1_count)\n",
    "j03_p1_g2_max,j03_p1_g2_match = call_jsd(j03_p1_g2_count)\n",
    "j03_p2_g1_max,j03_p2_g1_match = call_jsd(j03_p2_g1_count)\n",
    "j03_p2_g2_max,j03_p2_g2_match = call_jsd(j03_p2_g2_count)\n",
    "j04_p1_g1_max,j04_p1_g1_match = call_jsd(j04_p1_g1_count)\n",
    "j04_p1_g2_max,j04_p1_g2_match = call_jsd(j04_p1_g2_count)\n",
    "j04_p2_g1_max,j04_p2_g1_match = call_jsd(j04_p2_g1_count)\n",
    "j04_p2_g2_max,j04_p2_g2_match = call_jsd(j04_p2_g2_count)\n",
    "j05_p1_g1_max,j05_p1_g1_match = call_jsd(j05_p1_g1_count)\n",
    "j05_p1_g2_max,j05_p1_g2_match = call_jsd(j05_p1_g2_count)\n",
    "j05_p2_g1_max,j05_p2_g1_match = call_jsd(j05_p2_g1_count)\n",
    "j05_p2_g2_max,j05_p2_g2_match = call_jsd(j05_p2_g2_count)\n",
    "j06_p1_g1_max,j06_p1_g1_match = call_jsd(j06_p1_g1_count)\n",
    "j06_p1_g2_max,j06_p1_g2_match = call_jsd(j06_p1_g2_count)\n",
    "j06_p2_g1_max,j06_p2_g1_match = call_jsd(j06_p2_g1_count)\n",
    "j06_p2_g2_max,j06_p2_g2_match = call_jsd(j06_p2_g2_count)\n",
    "j07_p1_g1_max,j07_p1_g1_match = call_jsd(j07_p1_g1_count)\n",
    "j07_p1_g2_max,j07_p1_g2_match = call_jsd(j07_p1_g2_count)\n",
    "j07_p2_g1_max,j07_p2_g1_match = call_jsd(j07_p2_g1_count)\n",
    "j07_p2_g2_max,j07_p2_g2_match = call_jsd(j07_p2_g2_count)\n",
    "j08_p1_g1_max,j08_p1_g1_match = call_jsd(j08_p1_g1_count)\n",
    "j08_p1_g2_max,j08_p1_g2_match = call_jsd(j08_p1_g2_count)\n",
    "j08_p2_g1_max,j08_p2_g1_match = call_jsd(j08_p2_g1_count)\n",
    "j08_p2_g2_max,j08_p2_g2_match = call_jsd(j08_p2_g2_count)"
   ]
  },
  {
   "cell_type": "code",
   "execution_count": null,
   "metadata": {},
   "outputs": [],
   "source": [
    "j_jsd = pd.DataFrame({'max':[j01_p1_g1_max,j01_p1_g2_max,j01_p2_g1_max,j01_p2_g2_max,j02_p1_g1_max,j02_p1_g2_max,j02_p2_g1_max,\n",
    "                             j02_p2_g2_max,j03_p1_g1_max,j03_p1_g2_max,j03_p2_g1_max,j03_p2_g1_max,j04_p1_g1_max,j04_p1_g2_max,\n",
    "                             j04_p2_g1_max,j04_p2_g2_max,j05_p1_g1_max,j05_p1_g2_max,j05_p2_g1_max,j05_p2_g2_max,j06_p1_g1_max,\n",
    "                             j06_p1_g2_max,j06_p2_g1_max,j06_p2_g2_max,j07_p1_g1_max,j07_p1_g2_max,j07_p2_g1_max,j07_p2_g2_max,\n",
    "                             j08_p1_g1_max,j08_p1_g2_max,j08_p2_g1_max,j08_p2_g2_max],\n",
    "                      'match':[j01_p1_g1_match,j01_p1_g2_match,j01_p2_g1_match,j01_p2_g2_match,j02_p1_g1_match,j02_p1_g2_match,\n",
    "                               j02_p2_g1_match,j02_p2_g2_match,j03_p1_g1_match,j03_p1_g2_match,j03_p2_g1_match,j03_p2_g2_match,\n",
    "                               j04_p1_g1_match,j04_p1_g2_match,j04_p2_g1_match,j04_p2_g2_match,j05_p1_g1_match,j05_p1_g2_match,\n",
    "                               j05_p2_g1_match,j05_p2_g2_match,j06_p1_g1_match,j06_p1_g2_match,j06_p2_g1_match,j06_p2_g2_match,\n",
    "                               j07_p1_g1_match,j07_p1_g2_match,j07_p2_g1_match,j07_p2_g2_match,j08_p1_g1_match,j08_p1_g2_match,j08_p2_g1_match,j08_p2_g2_match]}, \n",
    "                        index=['j01', 'j01','j01', 'j01', 'j02', 'j02','j02', 'j02', 'j03', 'j03','j03', 'j03','j04', 'j04','j04', 'j04','j05', 'j05','j05', 'j05',\n",
    "                               'j06', 'j06','j06', 'j06','j07','j07','j07','j07','j08','j08','j08','j08'])"
   ]
  },
  {
   "cell_type": "code",
   "execution_count": null,
   "metadata": {},
   "outputs": [],
   "source": [
    "j_types = check_type(j_jsd)"
   ]
  },
  {
   "cell_type": "code",
   "execution_count": null,
   "metadata": {},
   "outputs": [],
   "source": [
    "j_types.drop([0])"
   ]
  },
  {
   "cell_type": "code",
   "execution_count": null,
   "metadata": {
    "scrolled": false
   },
   "outputs": [],
   "source": [
    "j_jsd"
   ]
  },
  {
   "cell_type": "code",
   "execution_count": null,
   "metadata": {},
   "outputs": [],
   "source": [
    "#same for joint using \"social\""
   ]
  },
  {
   "cell_type": "code",
   "execution_count": null,
   "metadata": {},
   "outputs": [],
   "source": [
    "j01_p1_g1_max,j01_p1_g1_match = call_jsd_social(j01_p1_g1_count)\n",
    "j01_p1_g2_max,j01_p1_g2_match = call_jsd_social(j01_p1_g2_count)\n",
    "j01_p2_g1_max,j01_p2_g1_match = call_jsd_social(j01_p2_g1_count)\n",
    "j01_p2_g2_max,j01_p2_g2_match = call_jsd_social(j01_p2_g2_count)\n",
    "j02_p1_g1_max,j02_p1_g1_match = call_jsd_social(j02_p1_g1_count)\n",
    "j02_p1_g2_max,j02_p1_g2_match = call_jsd_social(j02_p1_g2_count)\n",
    "j02_p2_g1_max,j02_p2_g1_match = call_jsd_social(j02_p2_g1_count)\n",
    "j02_p2_g2_max,j02_p2_g2_match = call_jsd_social(j02_p2_g2_count)\n",
    "j03_p1_g1_max,j03_p1_g1_match = call_jsd_social(j03_p1_g1_count)\n",
    "j03_p1_g2_max,j03_p1_g2_match = call_jsd_social(j03_p1_g2_count)\n",
    "j03_p2_g1_max,j03_p2_g1_match = call_jsd_social(j03_p2_g1_count)\n",
    "j03_p2_g2_max,j03_p2_g2_match = call_jsd_social(j03_p2_g2_count)\n",
    "j04_p1_g1_max,j04_p1_g1_match = call_jsd_social(j04_p1_g1_count)\n",
    "j04_p1_g2_max,j04_p1_g2_match = call_jsd_social(j04_p1_g2_count)\n",
    "j04_p2_g1_max,j04_p2_g1_match = call_jsd_social(j04_p2_g1_count)\n",
    "j04_p2_g2_max,j04_p2_g2_match = call_jsd_social(j04_p2_g2_count)\n",
    "j05_p1_g1_max,j05_p1_g1_match = call_jsd_social(j05_p1_g1_count)\n",
    "j05_p1_g2_max,j05_p1_g2_match = call_jsd_social(j05_p1_g2_count)\n",
    "j05_p2_g1_max,j05_p2_g1_match = call_jsd_social(j05_p2_g1_count)\n",
    "j05_p2_g2_max,j05_p2_g2_match = call_jsd_social(j05_p2_g2_count)\n",
    "j06_p1_g1_max,j06_p1_g1_match = call_jsd_social(j06_p1_g1_count)\n",
    "j06_p1_g2_max,j06_p1_g2_match = call_jsd_social(j06_p1_g2_count)\n",
    "j06_p2_g1_max,j06_p2_g1_match = call_jsd_social(j06_p2_g1_count)\n",
    "j06_p2_g2_max,j06_p2_g2_match = call_jsd_social(j06_p2_g2_count)\n",
    "j07_p1_g1_max,j07_p1_g1_match = call_jsd_social(j07_p1_g1_count)\n",
    "j07_p1_g2_max,j07_p1_g2_match = call_jsd_social(j07_p1_g2_count)\n",
    "j07_p2_g1_max,j07_p2_g1_match = call_jsd_social(j07_p2_g1_count)\n",
    "j07_p2_g2_max,j07_p2_g2_match = call_jsd_social(j07_p2_g2_count)\n",
    "j08_p1_g1_max,j08_p1_g1_match = call_jsd_social(j08_p1_g1_count)\n",
    "j08_p1_g2_max,j08_p1_g2_match = call_jsd_social(j08_p1_g2_count)\n",
    "j08_p2_g1_max,j08_p2_g1_match = call_jsd_social(j08_p2_g1_count)\n",
    "j08_p2_g2_max,j08_p2_g2_match = call_jsd_social(j08_p2_g2_count)"
   ]
  },
  {
   "cell_type": "code",
   "execution_count": null,
   "metadata": {},
   "outputs": [],
   "source": [
    "j_jsd_social = pd.DataFrame({'max':[j01_p1_g1_max,j01_p1_g2_max,j01_p2_g1_max,j01_p2_g2_max,j02_p1_g1_max,j02_p1_g2_max,j02_p2_g1_max,\n",
    "                             j02_p2_g2_max,j03_p1_g1_max,j03_p1_g2_max,j03_p2_g1_max,j03_p2_g1_max,j04_p1_g1_max,j04_p1_g2_max,\n",
    "                             j04_p2_g1_max,j04_p2_g2_max,j05_p1_g1_max,j05_p1_g2_max,j05_p2_g1_max,j05_p2_g2_max,j06_p1_g1_max,\n",
    "                             j06_p1_g2_max,j06_p2_g1_max,j06_p2_g2_max,j07_p1_g1_max,j07_p1_g2_max,j07_p2_g1_max,j07_p2_g2_max,\n",
    "                             j08_p1_g1_max,j08_p1_g2_max,j08_p2_g1_max,j08_p2_g2_max],\n",
    "                      'match':[j01_p1_g1_match,j01_p1_g2_match,j01_p2_g1_match,j01_p2_g2_match,j02_p1_g1_match,j02_p1_g2_match,\n",
    "                               j02_p2_g1_match,j02_p2_g2_match,j03_p1_g1_match,j03_p1_g2_match,j03_p2_g1_match,j03_p2_g2_match,\n",
    "                               j04_p1_g1_match,j04_p1_g2_match,j04_p2_g1_match,j04_p2_g2_match,j05_p1_g1_match,j05_p1_g2_match,\n",
    "                               j05_p2_g1_match,j05_p2_g2_match,j06_p1_g1_match,j06_p1_g2_match,j06_p2_g1_match,j06_p2_g2_match,\n",
    "                               j07_p1_g1_match,j07_p1_g2_match,j07_p2_g1_match,j07_p2_g2_match,j08_p1_g1_match,j08_p1_g2_match,j08_p2_g1_match,j08_p2_g2_match]}, \n",
    "                        index=['j01', 'j01','j01', 'j01', 'j02', 'j02','j02', 'j02', 'j03', 'j03','j03', 'j03','j04', 'j04','j04', 'j04','j05', 'j05','j05', 'j05',\n",
    "                               'j06', 'j06','j06', 'j06','j07','j07','j07','j07','j08','j08','j08','j08'])"
   ]
  },
  {
   "cell_type": "code",
   "execution_count": null,
   "metadata": {},
   "outputs": [],
   "source": [
    "j_types_social = check_type(j_jsd,True)"
   ]
  },
  {
   "cell_type": "code",
   "execution_count": null,
   "metadata": {},
   "outputs": [],
   "source": [
    "j_types_social.drop([0])"
   ]
  },
  {
   "cell_type": "code",
   "execution_count": null,
   "metadata": {},
   "outputs": [],
   "source": [
    "#j_jsd_social.drop([0])"
   ]
  },
  {
   "cell_type": "code",
   "execution_count": null,
   "metadata": {},
   "outputs": [],
   "source": [
    "#issue"
   ]
  },
  {
   "cell_type": "code",
   "execution_count": null,
   "metadata": {
    "scrolled": true
   },
   "outputs": [],
   "source": [
    "j_jsd_social"
   ]
  },
  {
   "cell_type": "code",
   "execution_count": null,
   "metadata": {},
   "outputs": [],
   "source": [
    "threshold"
   ]
  },
  {
   "cell_type": "code",
   "execution_count": null,
   "metadata": {},
   "outputs": [],
   "source": [
    "import matplotlib.lines as mlines"
   ]
  },
  {
   "cell_type": "code",
   "execution_count": null,
   "metadata": {
    "scrolled": true
   },
   "outputs": [],
   "source": [
    "#j_jsd_plot = j_jsd.plot.scatter(x='max',y='match',title='Multi Player JSD Values')\n",
    "#line = mlines.Line2D([0.2148, 0], [0.2148, 1], color='red')\n",
    "#j_jsd_plot.add_line(line)\n",
    "#plt.show()\n",
    "\n",
    "fig, j_jsd_plot = plt.subplots()\n",
    "j_jsd_plot = j_jsd.plot.scatter(x='max',y='match',title='Multi Player JSD Values')\n",
    "line1 = mlines.Line2D([0.2148, 0.2148],[0, 0.2], color='red')\n",
    "line2 = mlines.Line2D([0, 0.4],[0.2148, 0.2148], color='red')\n",
    "\n",
    "#transform = ax.transAxes\n",
    "#line2 doesn't show up; all below it?\n",
    "#line.set_transform(transform)\n",
    "j_jsd_plot.add_line(line1)\n",
    "j_jsd_plot.add_line(line2)\n",
    "plt.show()"
   ]
  },
  {
   "cell_type": "code",
   "execution_count": null,
   "metadata": {},
   "outputs": [],
   "source": [
    "s_jsd_plot = s_jsd.plot.scatter(x='max',y='match',title='Single Player JSD Values')\n",
    "line1 = mlines.Line2D([0.2148, 0.2148],[0, 0.2], color='red')\n",
    "s_jsd_plot.add_line(line1)"
   ]
  },
  {
   "cell_type": "code",
   "execution_count": null,
   "metadata": {},
   "outputs": [],
   "source": [
    "threshold_social = jsd(social_max,social_match)"
   ]
  },
  {
   "cell_type": "code",
   "execution_count": null,
   "metadata": {},
   "outputs": [],
   "source": [
    "threshold_social"
   ]
  },
  {
   "cell_type": "code",
   "execution_count": null,
   "metadata": {},
   "outputs": [],
   "source": [
    "j_jsd_social_plot = j_jsd_social.plot.scatter(x='max',y='match',title='Multi Player JSD Social Values')\n",
    "line1 = mlines.Line2D([0.3183, 0.3183],[0, 0.25], color='red')\n",
    "j_jsd_social_plot.add_line(line1)\n",
    "#everyone could be classified as a matcher. everyone to the left of the red line could be using both\n",
    "#NEED TO: color differently those who were more of maximizers than matchers!!!"
   ]
  },
  {
   "cell_type": "markdown",
   "metadata": {},
   "source": [
    "### NOT WORKING\n",
    "def check_type_3(row):\n",
    "        maxi = row[\"max\"]\n",
    "        matchi = row[\"match\"]\n",
    "        if maxi < matchi:\n",
    "            row['type'] = 'max'\n",
    "            num = maxi\n",
    "        elif matchi < maxi:\n",
    "            row['type'] = 'match'\n",
    "            num = matchi\n",
    "        else:\n",
    "            row['type'] = 'neither'\n",
    "        if num >= jsd(maximize,match):\n",
    "            row['type'] = 'neither'\n",
    "            \n",
    "def check_type_2(df):\n",
    "    for row in df.itertuples(index=True, name='Pandas'):\n",
    "        print(index,row[\"max\"],row[\"match\"])\n",
    "        if row[\"match\"] < row[\"max\"] and row[\"match\"] < jsd(maximize,match):\n",
    "            df.at[index,'type'] = 'match'\n",
    "        elif row[\"max\"] < row[\"match\"] and row[\"max\"] < jsd(maximize,match):\n",
    "            df.at[index,'type'] = 'max'\n",
    "        else:\n",
    "            df.at[index,'type'] = 'neither'"
   ]
  },
  {
   "cell_type": "code",
   "execution_count": null,
   "metadata": {},
   "outputs": [],
   "source": [
    "row_1 = s01_p1_g1.loc[s01_p1_g1['trial'] == 20]['P1 score'].values[0]\n",
    "row_2 = s01_p1_g1.loc[s01_p1_g1['trial'] == 40]['P1 score'].values[0]\n",
    "row_3 = s01_p1_g1.loc[s01_p1_g1['trial'] == 60]['P1 score'].values[0]\n",
    "row_4 = s01_p1_g1.loc[s01_p1_g1['trial'] == 80]['P1 score'].values[0]\n",
    "row_5 = s01_p1_g1.loc[s01_p1_g1['trial'] == 100]['P1 score'].values[0]"
   ]
  },
  {
   "cell_type": "code",
   "execution_count": null,
   "metadata": {
    "scrolled": true
   },
   "outputs": [],
   "source": [
    "plt.scatter([20,40,60,80,100],[row_1,row_2,row_3,row_4,row_5])"
   ]
  },
  {
   "cell_type": "code",
   "execution_count": null,
   "metadata": {},
   "outputs": [],
   "source": [
    "one = list()\n",
    "two = list()\n",
    "three = list()\n",
    "four = list()\n",
    "five = list()"
   ]
  },
  {
   "cell_type": "code",
   "execution_count": null,
   "metadata": {},
   "outputs": [],
   "source": [
    "def load_scores(df):   \n",
    "    \n",
    "    row_1 = df.loc[df['trial'] == 20]['P1 score'].values[0]\n",
    "    row_2 = df.loc[df['trial'] == 40]['P1 score'].values[0]\n",
    "    row_3 = df.loc[df['trial'] == 60]['P1 score'].values[0]\n",
    "    row_4 = df.loc[df['trial'] == 80]['P1 score'].values[0]\n",
    "    row_5 = df.loc[df['trial'] == 100]['P1 score'].values[0]\n",
    "    \n",
    "    one.append(row_1)\n",
    "    two.append(row_2)\n",
    "    three.append(row_3)\n",
    "    four.append(row_4)\n",
    "    five.append(row_5)\n",
    "    \n",
    "    return one,two,three,four,five"
   ]
  },
  {
   "cell_type": "code",
   "execution_count": null,
   "metadata": {},
   "outputs": [],
   "source": [
    "params_m = [s01_p1_g1,s05_p1_g1,s06_p1_g1]\n",
    "for param in params_m:\n",
    "    load_scores(param)"
   ]
  },
  {
   "cell_type": "code",
   "execution_count": null,
   "metadata": {},
   "outputs": [],
   "source": [
    "scores_m = pd.DataFrame({'1-20':one,'21-40':two,'41-60':three,'61-80':four,'81-100':five})"
   ]
  },
  {
   "cell_type": "code",
   "execution_count": null,
   "metadata": {},
   "outputs": [],
   "source": [
    "scores_m"
   ]
  },
  {
   "cell_type": "code",
   "execution_count": null,
   "metadata": {},
   "outputs": [],
   "source": [
    "one_avg = scores_m['1-20'].mean()\n",
    "two_avg = scores_m['21-40'].mean()\n",
    "three_avg = scores_m['41-60'].mean()\n",
    "four_avg = scores_m['61-80'].mean()\n",
    "five_avg = scores_m['81-100'].mean()\n",
    "\n",
    "avg_m = np.array([one_avg,two_avg,three_avg,four_avg,five_avg])"
   ]
  },
  {
   "cell_type": "code",
   "execution_count": null,
   "metadata": {},
   "outputs": [],
   "source": [
    "one_std = scores_m['1-20'].std()\n",
    "two_std = scores_m['21-40'].std()\n",
    "three_std = scores_m['41-60'].std()\n",
    "four_std = scores_m['61-80'].std()\n",
    "five_std = scores_m['81-100'].std()\n",
    "\n",
    "std_m = np.array([one_std,two_std,three_std,four_std,five_std])"
   ]
  },
  {
   "cell_type": "code",
   "execution_count": null,
   "metadata": {},
   "outputs": [],
   "source": [
    "std_m"
   ]
  },
  {
   "cell_type": "code",
   "execution_count": null,
   "metadata": {},
   "outputs": [],
   "source": [
    "scores_avg_m = pd.DataFrame({'avg':avg_m,'std':std_m,},\n",
    "                             index=['1-20','21-40','41-60','61-80','81-100'])"
   ]
  },
  {
   "cell_type": "code",
   "execution_count": null,
   "metadata": {},
   "outputs": [],
   "source": [
    "scores_avg_m"
   ]
  },
  {
   "cell_type": "markdown",
   "metadata": {},
   "source": [
    "# Same for females"
   ]
  },
  {
   "cell_type": "code",
   "execution_count": null,
   "metadata": {},
   "outputs": [],
   "source": [
    "one = list()\n",
    "two = list()\n",
    "three = list()\n",
    "four = list()\n",
    "five = list()"
   ]
  },
  {
   "cell_type": "code",
   "execution_count": null,
   "metadata": {},
   "outputs": [],
   "source": [
    "params_f = [s02_p1_g1,s03_p1_g1,s07_p1_g1,s08_p1_g1,s09_p1_g1]\n",
    "for param in params_f:\n",
    "    load_scores(param)"
   ]
  },
  {
   "cell_type": "code",
   "execution_count": null,
   "metadata": {},
   "outputs": [],
   "source": [
    "scores_f = pd.DataFrame({'1-20':one,'21-40':two,'41-60':three,'61-80':four,'81-100':five})\n",
    "print(scores_f)"
   ]
  },
  {
   "cell_type": "code",
   "execution_count": null,
   "metadata": {},
   "outputs": [],
   "source": [
    "one_avg_f = scores_f['1-20'].mean()\n",
    "two_avg_f = scores_f['21-40'].mean()\n",
    "three_avg_f = scores_f['41-60'].mean()\n",
    "four_avg_f = scores_f['61-80'].mean()\n",
    "five_avg_f = scores_f['81-100'].mean()\n",
    "\n",
    "avg_f = np.array([one_avg,two_avg,three_avg,four_avg,five_avg])"
   ]
  },
  {
   "cell_type": "code",
   "execution_count": null,
   "metadata": {},
   "outputs": [],
   "source": [
    "one_std_f = scores_f['1-20'].std()\n",
    "two_std_f = scores_f['21-40'].std()\n",
    "three_std_f = scores_f['41-60'].std()\n",
    "four_std_f = scores_f['61-80'].std()\n",
    "five_std_f = scores_f['81-100'].std()\n",
    "\n",
    "std_f = np.array([one_std_f,two_std_f,three_std_f,four_std_f,five_std_f])"
   ]
  },
  {
   "cell_type": "code",
   "execution_count": null,
   "metadata": {},
   "outputs": [],
   "source": [
    "scores_avg_f = pd.DataFrame({'avg':avg_f,'std':std_f},\n",
    "                             index=['1-20','21-40','41-60','61-80','81-100'])"
   ]
  },
  {
   "cell_type": "code",
   "execution_count": null,
   "metadata": {},
   "outputs": [],
   "source": [
    "scores_avg_f"
   ]
  },
  {
   "cell_type": "code",
   "execution_count": null,
   "metadata": {},
   "outputs": [],
   "source": [
    "s_scores_1 = pd.merge(scores_avg_f, scores_avg_m,left_index=True,right_index=True)"
   ]
  },
  {
   "cell_type": "code",
   "execution_count": null,
   "metadata": {},
   "outputs": [],
   "source": [
    "s_scores_1"
   ]
  },
  {
   "cell_type": "code",
   "execution_count": null,
   "metadata": {},
   "outputs": [],
   "source": [
    "#x is females, y is males\n",
    "#triangle is female\n",
    "fig, ax = plt.subplots()\n",
    "num = 1000\n",
    "s = 121\n",
    "y1 = s_scores_1['avg_x']\n",
    "y2 = s_scores_1['avg_y']\n",
    "x = s_scores_1.index\n",
    "ax.scatter(x, y1, color='r', s=2*s, marker='^', alpha=.4)\n",
    "ax.scatter(x, y2, color='b', s=s/2, alpha=.4)\n",
    "\n",
    "ax.set_title(\"Gender Differences in Single Player Game 1 Scores\",\n",
    "                    fontsize=16)\n",
    "\n",
    "plot_file_name=\"s_gender_1.jpg\"\n",
    " \n",
    "# save as jpeg\n",
    "fig.savefig(plot_file_name,\n",
    "                    format='jpeg',\n",
    "                    dpi=100)\n",
    "\n",
    "#plotly_fig = tls.mpl_to_plotly(fig)\n",
    "#py.iplot(plotly_fig, filename = 'mpl-scatter-color-symbol')"
   ]
  },
  {
   "cell_type": "code",
   "execution_count": null,
   "metadata": {},
   "outputs": [],
   "source": [
    "#with error bars\n",
    "\n",
    "#x is females, y is males\n",
    "#triangle is female\n",
    "fig, ax = plt.subplots()\n",
    "num = 1000\n",
    "s = 121\n",
    "y1 = s_scores_1['avg_x']\n",
    "y2 = s_scores_1['avg_y']\n",
    "y1_err = s_scores_1['std_x']\n",
    "y2_err = s_scores_1['std_y']\n",
    "x = s_scores_1.index\n",
    "plt.errorbar(x,y1,yerr=y1_err,fmt='o')\n",
    "plt.errorbar(x,y2,yerr=y2_err,fmt='o')\n",
    "\n",
    "ax.set_title(\"Gender Differences in Single Player Game 1 Scores (With Error Bars)\",\n",
    "                    fontsize=16)\n",
    "\n",
    "plot_file_name=\"s_gender_1_with_error.jpg\"\n",
    " \n",
    "# save as jpeg\n",
    "fig.savefig(plot_file_name,\n",
    "                    format='jpeg',\n",
    "                    dpi=100)\n",
    "\n",
    "\n",
    "#plotly_fig = tls.mpl_to_plotly(fig)\n",
    "#py.iplot(plotly_fig, filename = 'mpl-scatter-color-symbol')"
   ]
  },
  {
   "cell_type": "code",
   "execution_count": null,
   "metadata": {},
   "outputs": [],
   "source": [
    "#x is females, y is males\n",
    "#triangle is female\n",
    "fig, ax = plt.subplots()\n",
    "num = 1000\n",
    "s = 121\n",
    "y1 = s_scores_1['avg_x']\n",
    "y2 = s_scores_1['avg_y']\n",
    "x = s_scores_1.index\n",
    "#ax.scatter(x, y1, color='r', s=2*s, marker='^', alpha=.4)\n",
    "#ax.scatter(x, y2, color='b', s=s/2, alpha=.4)\n",
    "\n",
    "plt.plot( x, y1, color='r', linestyle='-', marker='o')\n",
    "plt.plot( x, y2, color='b', linestyle='-', marker='^')\n",
    "\n",
    "ax.set_title(\"Gender Differences in Single Player Game 1 Scores (With Lines)\",\n",
    "                    fontsize=16)\n",
    "\n",
    "plot_file_name=\"s_gender_1_with_lines.jpg\"\n",
    " \n",
    "# save as jpeg\n",
    "fig.savefig(plot_file_name,\n",
    "                    format='jpeg',\n",
    "                    dpi=100)\n",
    "\n",
    "#plotly_fig = tls.mpl_to_plotly(fig)\n",
    "#py.iplot(plotly_fig, filename = 'mpl-scatter-color-symbol')"
   ]
  },
  {
   "cell_type": "markdown",
   "metadata": {},
   "source": [
    "# GAME 2"
   ]
  },
  {
   "cell_type": "code",
   "execution_count": null,
   "metadata": {},
   "outputs": [],
   "source": [
    "one = list()\n",
    "two = list()\n",
    "three = list()\n",
    "four = list()\n",
    "five = list()"
   ]
  },
  {
   "cell_type": "code",
   "execution_count": null,
   "metadata": {},
   "outputs": [],
   "source": [
    "params_m = [s01_p1_g2,s05_p1_g2,s06_p1_g2]\n",
    "for param in params_m:\n",
    "    load_scores(param)\n",
    "    \n",
    "scores_m = pd.DataFrame({'1-20':one,'21-40':two,'41-60':three,'61-80':four,'81-100':five})\n",
    "\n",
    "one_avg = scores_m['1-20'].mean()\n",
    "two_avg = scores_m['21-40'].mean()\n",
    "three_avg = scores_m['41-60'].mean()\n",
    "four_avg = scores_m['61-80'].mean()\n",
    "five_avg = scores_m['81-100'].mean()\n",
    "\n",
    "avg_m = np.array([one_avg,two_avg,three_avg,four_avg,five_avg])\n",
    "\n",
    "std_m = np.array([one_std,two_std,three_std,four_std,five_std])\n",
    "\n",
    "scores_avg_m = pd.DataFrame({'avg':avg_m,'std':std_m},\n",
    "                             index=['1-20','21-40','41-60','61-80','81-100'])"
   ]
  },
  {
   "cell_type": "code",
   "execution_count": null,
   "metadata": {},
   "outputs": [],
   "source": [
    "one_std = scores_m['1-20'].std()\n",
    "two_std = scores_m['21-40'].std()\n",
    "three_std = scores_m['41-60'].std()\n",
    "four_std = scores_m['61-80'].std()\n",
    "five_std = scores_m['81-100'].std()\n"
   ]
  },
  {
   "cell_type": "code",
   "execution_count": null,
   "metadata": {},
   "outputs": [],
   "source": [
    "one = list()\n",
    "two = list()\n",
    "three = list()\n",
    "four = list()\n",
    "five = list()\n",
    "\n",
    "#no s02 g2\n",
    "\n",
    "params_f = [s03_p1_g2,s07_p1_g2,s08_p1_g2,s09_p1_g2]\n",
    "for param in params_f:\n",
    "    load_scores(param)\n",
    "    \n",
    "scores_f = pd.DataFrame({'1-20':one,'21-40':two,'41-60':three,'61-80':four,'81-100':five})\n",
    "\n",
    "one_avg = scores_f['1-20'].mean()\n",
    "two_avg = scores_f['21-40'].mean()\n",
    "three_avg = scores_f['41-60'].mean()\n",
    "four_avg = scores_f['61-80'].mean()\n",
    "five_avg = scores_f['81-100'].mean()\n",
    "\n",
    "avg_f = np.array([one_avg,two_avg,three_avg,four_avg,five_avg])\n",
    "\n",
    "std_f = np.array([one_std,two_std,three_std,four_std,five_std])\n",
    "\n",
    "scores_avg_f = pd.DataFrame({'avg':avg_f,'std':std_f},\n",
    "                             index=['1-20','21-40','41-60','61-80','81-100'])"
   ]
  },
  {
   "cell_type": "code",
   "execution_count": null,
   "metadata": {},
   "outputs": [],
   "source": [
    "s_scores_2 = pd.merge(scores_avg_f, scores_avg_m,left_index=True,right_index=True)"
   ]
  },
  {
   "cell_type": "code",
   "execution_count": null,
   "metadata": {},
   "outputs": [],
   "source": [
    "s_scores_1"
   ]
  },
  {
   "cell_type": "code",
   "execution_count": null,
   "metadata": {},
   "outputs": [],
   "source": [
    "s_scores_2"
   ]
  },
  {
   "cell_type": "code",
   "execution_count": null,
   "metadata": {},
   "outputs": [],
   "source": [
    "#x is females, y is males\n",
    "#triangle is female\n",
    "fig, ax = plt.subplots()\n",
    "num = 1000\n",
    "s = 121\n",
    "y1 = s_scores_2['avg_x']\n",
    "y2 = s_scores_2['avg_y']\n",
    "x = s_scores_2.index\n",
    "ax.scatter(x, y1, color='r', s=2*s, marker='^', alpha=.4)\n",
    "ax.scatter(x, y2, color='b', s=s/2, alpha=.4)\n",
    "\n",
    "ax.set_title(\"Gender Differences in Single Player Game 2 Scores\",\n",
    "                    fontsize=16)\n",
    "\n",
    "plot_file_name=\"s_gender_2.jpg\"\n",
    " \n",
    "# save as jpeg\n",
    "fig.savefig(plot_file_name,\n",
    "                    format='jpeg',\n",
    "                    dpi=100)\n",
    "\n",
    "#triangles are females\n",
    "\n",
    "#plotly_fig = tls.mpl_to_plotly(fig)\n",
    "#py.iplot(plotly_fig, filename = 'mpl-scatter-color-symbol')"
   ]
  },
  {
   "cell_type": "markdown",
   "metadata": {},
   "source": [
    "# questionnaire"
   ]
  },
  {
   "cell_type": "code",
   "execution_count": null,
   "metadata": {},
   "outputs": [],
   "source": [
    "j_scores_1_q = pd.DataFrame({'participant':['j01_p1_g1_score','j02_p1_g1_score','j02_p2_g1_score','j03_p1_g1_score'\n",
    "      'j04_p2_g1_score','j05_p1_g1_score','j05_p2_g1_score','j06_p1_g1_score','j06_p2_g1_score','j07_p1_g1_score',\n",
    "      'j08_p1_g1_score', 'j08_p2_g1_score'], 'score':\n",
    "     [35,60,60,70,45,75,67,31,54,65,60,44]})"
   ]
  },
  {
   "cell_type": "code",
   "execution_count": null,
   "metadata": {},
   "outputs": [],
   "source": [
    "j_scores_2_q = pd.DataFrame({'participant':['j01_p1_g1_score','j02_p1_g1_score','j02_p2_g1_score',\n",
    "      'j04_p2_g1_score','j05_p1_g1_score','j05_p2_g1_score','j06_p1_g1_score','j06_p2_g1_score','j07_p1_g1_score',\n",
    "      'j08_p1_g1_score', 'j08_p2_g1_score'], 'score':\n",
    "     [35,60,60,45,75,67,31,54,65,60,44]})"
   ]
  },
  {
   "cell_type": "code",
   "execution_count": null,
   "metadata": {},
   "outputs": [],
   "source": [
    "def balanced_latin_squares(n):\n",
    "    l = [[((j/2+1 if j%2 else n-j/2) + i) % n + 1 for j in range(n)] for i in range(n)]\n",
    "    if n % 2:  # Repeat reversed for odd n\n",
    "        l += [seq[::-1] for seq in l]\n",
    "    return l"
   ]
  },
  {
   "cell_type": "code",
   "execution_count": null,
   "metadata": {},
   "outputs": [],
   "source": [
    "test = balanced_latin_squares(3)"
   ]
  },
  {
   "cell_type": "code",
   "execution_count": null,
   "metadata": {},
   "outputs": [],
   "source": [
    "test"
   ]
  },
  {
   "cell_type": "code",
   "execution_count": null,
   "metadata": {},
   "outputs": [],
   "source": [
    "# Function to prn x n Latin Square  \n",
    "def printLatin(n):  \n",
    "  \n",
    "    # A variable to control the  \n",
    "    # rotation point.  \n",
    "    k = n + 1\n",
    "  \n",
    "    # Loop to prrows  \n",
    "    for i in range(1, n + 1, 1):  \n",
    "      \n",
    "        # This loops runs only after first  \n",
    "        # iteration of outer loop. It prints  \n",
    "        # numbers from n to k  \n",
    "        temp = k  \n",
    "        while (temp <= n) : \n",
    "            print(temp, end = \" \") \n",
    "            temp += 1\n",
    "          \n",
    "        # This loop prints numbers \n",
    "        # from 1 to k-1.  \n",
    "        for j in range(1, k): \n",
    "            print(j, end = \" \")  \n",
    "  \n",
    "        k -= 1\n",
    "        print()"
   ]
  },
  {
   "cell_type": "code",
   "execution_count": null,
   "metadata": {},
   "outputs": [],
   "source": [
    "printLatin(3)"
   ]
  }
 ],
 "metadata": {
  "kernelspec": {
   "display_name": "Python 3",
   "language": "python",
   "name": "python3"
  },
  "language_info": {
   "codemirror_mode": {
    "name": "ipython",
    "version": 3
   },
   "file_extension": ".py",
   "mimetype": "text/x-python",
   "name": "python",
   "nbconvert_exporter": "python",
   "pygments_lexer": "ipython3",
   "version": "3.7.3"
  }
 },
 "nbformat": 4,
 "nbformat_minor": 2
}
