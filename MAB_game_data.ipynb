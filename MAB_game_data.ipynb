{
 "cells": [
  {
   "cell_type": "code",
   "execution_count": 1,
   "metadata": {},
   "outputs": [],
   "source": [
    "import csv\n",
    "import pandas as pd\n",
    "import numpy as np\n",
    "import glob\n",
    "import matplotlib\n",
    "import scipy as sp\n",
    "from matplotlib import pyplot as plt\n",
    "from itertools import cycle, islice"
   ]
  },
  {
   "cell_type": "code",
   "execution_count": 2,
   "metadata": {},
   "outputs": [],
   "source": [
    "def organize_trial_by_trial(txt_filename):\n",
    "    reader = csv.reader( open(txt_filename))\n",
    "    game_data = [row for row in reader]\n",
    "    df = pd.DataFrame(np.array(game_data))\n",
    "    df = df.T\n",
    "    df = df.rename(columns = {0:\"game number\", 1:\"trial\", 2:\"player\", 3:\"arm\", 4:\"probability\", 5:\"reward\", 6:\"time\", 7:\"P1 score\", 8:\"P2 score\"})\n",
    "    #df = df.drop(columns = 'time') #can comment this out if want to look at time\n",
    "    df = df.apply(pd.to_numeric)\n",
    "    df.head()\n",
    "    \n",
    "    #combining info in the same trial for both players together in the same row\n",
    "    #player1 = df[df['player'] == 1].drop(columns = \"P2 score\").drop(columns = \"player\")\n",
    "    #player1 = player1.reset_index().drop(columns = \"index\")\n",
    "    #player1 = player1.rename(columns = {\"arm\":\"P1 arm\", \"probability\":\"P1 prob\", \"reward\":\"P1 reward\"})\n",
    "\n",
    "    #player2 = df[df['player'] == 2].drop(columns = \"P1 score\").drop(columns = 'trial').drop(columns = 'player')\n",
    "    #player2 = player2.reset_index().drop(columns = \"index\")\n",
    "    #player2 = player2.rename(columns = {\"arm\":\"P2 arm\", \"probability\":\"P2 prob\", \"reward\":\"P2 reward\"})\n",
    "\n",
    "    #result = pd.concat([player1, player2], axis=1, sort=False)\n",
    "    return df\n",
    "\n",
    "#TODO: function that pairs up P2(trial n) and P1(trial n+1)\n",
    "\n",
    "def combine_all_files(path):\n",
    "    all_files = glob.glob(path + \"/*.txt\")\n",
    "    df = pd.DataFrame()\n",
    "    \n",
    "    for filename in all_files:\n",
    "        new_df = organize_trial_by_trial(filename)\n",
    "        df = pd.concat([df, new_df], axis=0, ignore_index=True)\n",
    "    return df"
   ]
  },
  {
   "cell_type": "code",
   "execution_count": 3,
   "metadata": {},
   "outputs": [],
   "source": [
    "def get_score(df, player_number, game_number):\n",
    "    if game_number == 1:\n",
    "        row = 199\n",
    "    elif game_number == 2:\n",
    "        row = 399\n",
    "    if player_number == 1:\n",
    "        column = 'P1 score'\n",
    "    elif player_number == 2:\n",
    "        column = 'P2 score'\n",
    "    score = df.loc[row, column]\n",
    "    return score"
   ]
  },
  {
   "cell_type": "code",
   "execution_count": 4,
   "metadata": {},
   "outputs": [],
   "source": [
    "#create a dataframes for scores\n",
    "scores = pd.DataFrame(columns=['s_g1','s_g2','j_g1','j_g2'])"
   ]
  },
  {
   "cell_type": "code",
   "execution_count": 5,
   "metadata": {},
   "outputs": [],
   "source": [
    "#version is 's' for single player and 'j' for joint\n",
    "def call_get_score(df, version):\n",
    "    p1_g1 = get_score(df, 1, 1)\n",
    "    p1_g2 = get_score(df, 1, 2)\n",
    "    p1_score_diff = p1_g2 - p1_g1\n",
    "    if version == 'j':\n",
    "        p2_g1 = get_score(df, 2, 1)\n",
    "        p2_g2 = get_score(df, 2, 2)\n",
    "        p2_score_diff = p2_g2 - p2_g1\n",
    "        return p1_g1, p1_g2, p2_g1, p2_g2, p1_score_diff, p2_score_diff\n",
    "    return p1_g1, p1_g2, p1_score_diff"
   ]
  },
  {
   "cell_type": "code",
   "execution_count": 6,
   "metadata": {},
   "outputs": [],
   "source": [
    "#separate data frames for p1 and p2 \n",
    "def separate_df(df, version):\n",
    "    #df.set_index(df['trial'])\n",
    "    df_p1 = df[df['player'] == 1]\n",
    "    df_p1_g1 = df_p1[df['game number'] == 1]\n",
    "    df_p1_g2 = df_p1[df['game number'] == 2]\n",
    "    if version == 's':\n",
    "        return df_p1_g1, df_p1_g2\n",
    "    df_p2 = df[df['player'] ==2 ]\n",
    "    df_p2_g1 = df_p2[df['game number'] == 1]\n",
    "    df_p2_g2 = df_p2[df['game number'] == 2]\n",
    "    return df_p1_g1, df_p1_g2, df_p2_g1, df_p2_g2"
   ]
  },
  {
   "cell_type": "code",
   "execution_count": 7,
   "metadata": {},
   "outputs": [],
   "source": [
    "#needs work\n",
    "def call_call_get_score(df, version):\n",
    "    p1_g1 = df+'_'+'p1_'+'g1_'+'score'\n",
    "    p1_g2 = df+'_'+'p1_'+'g2_'+'score'\n",
    "    p2_g1 = df+'_'+'p2_'+'g1_'+'score'\n",
    "    p2_g2 = df+'_'+'p2_'+'g2_'+'score'\n",
    "    p1_g1, p1_g2, p2_g1, p2_g2 = call_get_score(df, version)\n",
    "    return p1_g1, p1_g2, p2_g1, p2_g2"
   ]
  },
  {
   "cell_type": "markdown",
   "metadata": {},
   "source": [
    "# Single Player Analysis"
   ]
  },
  {
   "cell_type": "code",
   "execution_count": 8,
   "metadata": {},
   "outputs": [
    {
     "data": {
      "text/html": [
       "<div>\n",
       "<style scoped>\n",
       "    .dataframe tbody tr th:only-of-type {\n",
       "        vertical-align: middle;\n",
       "    }\n",
       "\n",
       "    .dataframe tbody tr th {\n",
       "        vertical-align: top;\n",
       "    }\n",
       "\n",
       "    .dataframe thead th {\n",
       "        text-align: right;\n",
       "    }\n",
       "</style>\n",
       "<table border=\"1\" class=\"dataframe\">\n",
       "  <thead>\n",
       "    <tr style=\"text-align: right;\">\n",
       "      <th></th>\n",
       "      <th>game number</th>\n",
       "      <th>trial</th>\n",
       "      <th>player</th>\n",
       "      <th>arm</th>\n",
       "      <th>probability</th>\n",
       "      <th>reward</th>\n",
       "      <th>time</th>\n",
       "      <th>P1 score</th>\n",
       "      <th>P2 score</th>\n",
       "    </tr>\n",
       "  </thead>\n",
       "  <tbody>\n",
       "    <tr>\n",
       "      <th>0</th>\n",
       "      <td>1</td>\n",
       "      <td>1</td>\n",
       "      <td>1</td>\n",
       "      <td>2</td>\n",
       "      <td>30</td>\n",
       "      <td>1</td>\n",
       "      <td>11.220698</td>\n",
       "      <td>1</td>\n",
       "      <td>0</td>\n",
       "    </tr>\n",
       "    <tr>\n",
       "      <th>1</th>\n",
       "      <td>1</td>\n",
       "      <td>1</td>\n",
       "      <td>2</td>\n",
       "      <td>1</td>\n",
       "      <td>90</td>\n",
       "      <td>1</td>\n",
       "      <td>2.742137</td>\n",
       "      <td>1</td>\n",
       "      <td>1</td>\n",
       "    </tr>\n",
       "    <tr>\n",
       "      <th>2</th>\n",
       "      <td>1</td>\n",
       "      <td>2</td>\n",
       "      <td>1</td>\n",
       "      <td>3</td>\n",
       "      <td>60</td>\n",
       "      <td>1</td>\n",
       "      <td>5.362458</td>\n",
       "      <td>2</td>\n",
       "      <td>1</td>\n",
       "    </tr>\n",
       "    <tr>\n",
       "      <th>3</th>\n",
       "      <td>1</td>\n",
       "      <td>2</td>\n",
       "      <td>2</td>\n",
       "      <td>1</td>\n",
       "      <td>90</td>\n",
       "      <td>1</td>\n",
       "      <td>3.699948</td>\n",
       "      <td>2</td>\n",
       "      <td>2</td>\n",
       "    </tr>\n",
       "    <tr>\n",
       "      <th>4</th>\n",
       "      <td>1</td>\n",
       "      <td>3</td>\n",
       "      <td>1</td>\n",
       "      <td>2</td>\n",
       "      <td>30</td>\n",
       "      <td>0</td>\n",
       "      <td>3.489552</td>\n",
       "      <td>2</td>\n",
       "      <td>2</td>\n",
       "    </tr>\n",
       "  </tbody>\n",
       "</table>\n",
       "</div>"
      ],
      "text/plain": [
       "   game number  trial  player  arm  probability  reward       time  P1 score  \\\n",
       "0            1      1       1    2           30       1  11.220698         1   \n",
       "1            1      1       2    1           90       1   2.742137         1   \n",
       "2            1      2       1    3           60       1   5.362458         2   \n",
       "3            1      2       2    1           90       1   3.699948         2   \n",
       "4            1      3       1    2           30       0   3.489552         2   \n",
       "\n",
       "   P2 score  \n",
       "0         0  \n",
       "1         1  \n",
       "2         1  \n",
       "3         2  \n",
       "4         2  "
      ]
     },
     "execution_count": 8,
     "metadata": {},
     "output_type": "execute_result"
    }
   ],
   "source": [
    "#in the s files, p2 is the confederate\n",
    "df = organize_trial_by_trial('data/s01_gamedata.csv')\n",
    "s01 = df\n",
    "s01_p1_g1_score,s01_p1_g2_score,s01_score_diff = call_get_score(s01, 's')\n",
    "s01.head()"
   ]
  },
  {
   "cell_type": "code",
   "execution_count": 9,
   "metadata": {},
   "outputs": [
    {
     "data": {
      "text/html": [
       "<div>\n",
       "<style scoped>\n",
       "    .dataframe tbody tr th:only-of-type {\n",
       "        vertical-align: middle;\n",
       "    }\n",
       "\n",
       "    .dataframe tbody tr th {\n",
       "        vertical-align: top;\n",
       "    }\n",
       "\n",
       "    .dataframe thead th {\n",
       "        text-align: right;\n",
       "    }\n",
       "</style>\n",
       "<table border=\"1\" class=\"dataframe\">\n",
       "  <thead>\n",
       "    <tr style=\"text-align: right;\">\n",
       "      <th></th>\n",
       "      <th>game number</th>\n",
       "      <th>trial</th>\n",
       "      <th>player</th>\n",
       "      <th>arm</th>\n",
       "      <th>probability</th>\n",
       "      <th>reward</th>\n",
       "      <th>time</th>\n",
       "      <th>P1 score</th>\n",
       "      <th>P2 score</th>\n",
       "    </tr>\n",
       "  </thead>\n",
       "  <tbody>\n",
       "    <tr>\n",
       "      <th>0</th>\n",
       "      <td>1</td>\n",
       "      <td>1</td>\n",
       "      <td>1</td>\n",
       "      <td>1</td>\n",
       "      <td>30</td>\n",
       "      <td>0</td>\n",
       "      <td>12.598357</td>\n",
       "      <td>0</td>\n",
       "      <td>0</td>\n",
       "    </tr>\n",
       "    <tr>\n",
       "      <th>1</th>\n",
       "      <td>1</td>\n",
       "      <td>1</td>\n",
       "      <td>2</td>\n",
       "      <td>1</td>\n",
       "      <td>90</td>\n",
       "      <td>1</td>\n",
       "      <td>2.182159</td>\n",
       "      <td>0</td>\n",
       "      <td>1</td>\n",
       "    </tr>\n",
       "    <tr>\n",
       "      <th>2</th>\n",
       "      <td>1</td>\n",
       "      <td>2</td>\n",
       "      <td>1</td>\n",
       "      <td>2</td>\n",
       "      <td>60</td>\n",
       "      <td>1</td>\n",
       "      <td>3.600245</td>\n",
       "      <td>1</td>\n",
       "      <td>1</td>\n",
       "    </tr>\n",
       "    <tr>\n",
       "      <th>3</th>\n",
       "      <td>1</td>\n",
       "      <td>2</td>\n",
       "      <td>2</td>\n",
       "      <td>1</td>\n",
       "      <td>90</td>\n",
       "      <td>1</td>\n",
       "      <td>2.628291</td>\n",
       "      <td>1</td>\n",
       "      <td>2</td>\n",
       "    </tr>\n",
       "    <tr>\n",
       "      <th>4</th>\n",
       "      <td>1</td>\n",
       "      <td>3</td>\n",
       "      <td>1</td>\n",
       "      <td>2</td>\n",
       "      <td>60</td>\n",
       "      <td>1</td>\n",
       "      <td>3.252174</td>\n",
       "      <td>2</td>\n",
       "      <td>2</td>\n",
       "    </tr>\n",
       "  </tbody>\n",
       "</table>\n",
       "</div>"
      ],
      "text/plain": [
       "   game number  trial  player  arm  probability  reward       time  P1 score  \\\n",
       "0            1      1       1    1           30       0  12.598357         0   \n",
       "1            1      1       2    1           90       1   2.182159         0   \n",
       "2            1      2       1    2           60       1   3.600245         1   \n",
       "3            1      2       2    1           90       1   2.628291         1   \n",
       "4            1      3       1    2           60       1   3.252174         2   \n",
       "\n",
       "   P2 score  \n",
       "0         0  \n",
       "1         1  \n",
       "2         1  \n",
       "3         2  \n",
       "4         2  "
      ]
     },
     "execution_count": 9,
     "metadata": {},
     "output_type": "execute_result"
    }
   ],
   "source": [
    "#in the s files, p2 is the confederate\n",
    "#NO SECOND GAME\n",
    "df = organize_trial_by_trial('data/s02_gamedata.csv')\n",
    "s02 = df\n",
    "s02_p1_g1_score = get_score(s02, 1, 1)\n",
    "s02.head()"
   ]
  },
  {
   "cell_type": "code",
   "execution_count": 10,
   "metadata": {},
   "outputs": [
    {
     "data": {
      "text/html": [
       "<div>\n",
       "<style scoped>\n",
       "    .dataframe tbody tr th:only-of-type {\n",
       "        vertical-align: middle;\n",
       "    }\n",
       "\n",
       "    .dataframe tbody tr th {\n",
       "        vertical-align: top;\n",
       "    }\n",
       "\n",
       "    .dataframe thead th {\n",
       "        text-align: right;\n",
       "    }\n",
       "</style>\n",
       "<table border=\"1\" class=\"dataframe\">\n",
       "  <thead>\n",
       "    <tr style=\"text-align: right;\">\n",
       "      <th></th>\n",
       "      <th>game number</th>\n",
       "      <th>trial</th>\n",
       "      <th>player</th>\n",
       "      <th>arm</th>\n",
       "      <th>probability</th>\n",
       "      <th>reward</th>\n",
       "      <th>time</th>\n",
       "      <th>P1 score</th>\n",
       "      <th>P2 score</th>\n",
       "    </tr>\n",
       "  </thead>\n",
       "  <tbody>\n",
       "    <tr>\n",
       "      <th>0</th>\n",
       "      <td>1</td>\n",
       "      <td>1</td>\n",
       "      <td>1</td>\n",
       "      <td>3</td>\n",
       "      <td>30</td>\n",
       "      <td>0</td>\n",
       "      <td>31.921890</td>\n",
       "      <td>0</td>\n",
       "      <td>0</td>\n",
       "    </tr>\n",
       "    <tr>\n",
       "      <th>1</th>\n",
       "      <td>1</td>\n",
       "      <td>1</td>\n",
       "      <td>2</td>\n",
       "      <td>1</td>\n",
       "      <td>90</td>\n",
       "      <td>1</td>\n",
       "      <td>4.758381</td>\n",
       "      <td>0</td>\n",
       "      <td>1</td>\n",
       "    </tr>\n",
       "    <tr>\n",
       "      <th>2</th>\n",
       "      <td>1</td>\n",
       "      <td>2</td>\n",
       "      <td>1</td>\n",
       "      <td>2</td>\n",
       "      <td>60</td>\n",
       "      <td>1</td>\n",
       "      <td>3.219123</td>\n",
       "      <td>1</td>\n",
       "      <td>1</td>\n",
       "    </tr>\n",
       "    <tr>\n",
       "      <th>3</th>\n",
       "      <td>1</td>\n",
       "      <td>2</td>\n",
       "      <td>2</td>\n",
       "      <td>1</td>\n",
       "      <td>90</td>\n",
       "      <td>1</td>\n",
       "      <td>3.491894</td>\n",
       "      <td>1</td>\n",
       "      <td>2</td>\n",
       "    </tr>\n",
       "    <tr>\n",
       "      <th>4</th>\n",
       "      <td>1</td>\n",
       "      <td>3</td>\n",
       "      <td>1</td>\n",
       "      <td>1</td>\n",
       "      <td>90</td>\n",
       "      <td>1</td>\n",
       "      <td>2.521189</td>\n",
       "      <td>2</td>\n",
       "      <td>2</td>\n",
       "    </tr>\n",
       "  </tbody>\n",
       "</table>\n",
       "</div>"
      ],
      "text/plain": [
       "   game number  trial  player  arm  probability  reward       time  P1 score  \\\n",
       "0            1      1       1    3           30       0  31.921890         0   \n",
       "1            1      1       2    1           90       1   4.758381         0   \n",
       "2            1      2       1    2           60       1   3.219123         1   \n",
       "3            1      2       2    1           90       1   3.491894         1   \n",
       "4            1      3       1    1           90       1   2.521189         2   \n",
       "\n",
       "   P2 score  \n",
       "0         0  \n",
       "1         1  \n",
       "2         1  \n",
       "3         2  \n",
       "4         2  "
      ]
     },
     "execution_count": 10,
     "metadata": {},
     "output_type": "execute_result"
    }
   ],
   "source": [
    "#in the s files, p2 is the confederate\n",
    "df = organize_trial_by_trial('data/s03_gamedata.csv')\n",
    "s03 = df\n",
    "s03_p1_g1_score,s03_p1_g2_score,s03_score_diff = call_get_score(s03, 's')\n",
    "s03.head()"
   ]
  },
  {
   "cell_type": "code",
   "execution_count": 11,
   "metadata": {},
   "outputs": [
    {
     "data": {
      "text/html": [
       "<div>\n",
       "<style scoped>\n",
       "    .dataframe tbody tr th:only-of-type {\n",
       "        vertical-align: middle;\n",
       "    }\n",
       "\n",
       "    .dataframe tbody tr th {\n",
       "        vertical-align: top;\n",
       "    }\n",
       "\n",
       "    .dataframe thead th {\n",
       "        text-align: right;\n",
       "    }\n",
       "</style>\n",
       "<table border=\"1\" class=\"dataframe\">\n",
       "  <thead>\n",
       "    <tr style=\"text-align: right;\">\n",
       "      <th></th>\n",
       "      <th>game number</th>\n",
       "      <th>trial</th>\n",
       "      <th>player</th>\n",
       "      <th>arm</th>\n",
       "      <th>probability</th>\n",
       "      <th>reward</th>\n",
       "      <th>time</th>\n",
       "      <th>P1 score</th>\n",
       "      <th>P2 score</th>\n",
       "    </tr>\n",
       "  </thead>\n",
       "  <tbody>\n",
       "    <tr>\n",
       "      <th>0</th>\n",
       "      <td>1</td>\n",
       "      <td>1</td>\n",
       "      <td>1</td>\n",
       "      <td>2</td>\n",
       "      <td>30</td>\n",
       "      <td>1</td>\n",
       "      <td>7.627847</td>\n",
       "      <td>1</td>\n",
       "      <td>0</td>\n",
       "    </tr>\n",
       "    <tr>\n",
       "      <th>1</th>\n",
       "      <td>1</td>\n",
       "      <td>1</td>\n",
       "      <td>2</td>\n",
       "      <td>1</td>\n",
       "      <td>90</td>\n",
       "      <td>1</td>\n",
       "      <td>3.360008</td>\n",
       "      <td>1</td>\n",
       "      <td>1</td>\n",
       "    </tr>\n",
       "    <tr>\n",
       "      <th>2</th>\n",
       "      <td>1</td>\n",
       "      <td>2</td>\n",
       "      <td>1</td>\n",
       "      <td>3</td>\n",
       "      <td>90</td>\n",
       "      <td>1</td>\n",
       "      <td>5.575300</td>\n",
       "      <td>2</td>\n",
       "      <td>1</td>\n",
       "    </tr>\n",
       "    <tr>\n",
       "      <th>3</th>\n",
       "      <td>1</td>\n",
       "      <td>2</td>\n",
       "      <td>2</td>\n",
       "      <td>1</td>\n",
       "      <td>90</td>\n",
       "      <td>1</td>\n",
       "      <td>5.711864</td>\n",
       "      <td>2</td>\n",
       "      <td>2</td>\n",
       "    </tr>\n",
       "    <tr>\n",
       "      <th>4</th>\n",
       "      <td>1</td>\n",
       "      <td>3</td>\n",
       "      <td>1</td>\n",
       "      <td>3</td>\n",
       "      <td>90</td>\n",
       "      <td>1</td>\n",
       "      <td>3.985995</td>\n",
       "      <td>3</td>\n",
       "      <td>2</td>\n",
       "    </tr>\n",
       "  </tbody>\n",
       "</table>\n",
       "</div>"
      ],
      "text/plain": [
       "   game number  trial  player  arm  probability  reward      time  P1 score  \\\n",
       "0            1      1       1    2           30       1  7.627847         1   \n",
       "1            1      1       2    1           90       1  3.360008         1   \n",
       "2            1      2       1    3           90       1  5.575300         2   \n",
       "3            1      2       2    1           90       1  5.711864         2   \n",
       "4            1      3       1    3           90       1  3.985995         3   \n",
       "\n",
       "   P2 score  \n",
       "0         0  \n",
       "1         1  \n",
       "2         1  \n",
       "3         2  \n",
       "4         2  "
      ]
     },
     "execution_count": 11,
     "metadata": {},
     "output_type": "execute_result"
    }
   ],
   "source": [
    "#in the s files, p2 is the confederate\n",
    "df = organize_trial_by_trial('data/s05_gamedata.csv')\n",
    "s05 = df\n",
    "s05_p1_g1_score,s05_p1_g2_score,s05_score_diff = call_get_score(s05, 's')\n",
    "s05.head()"
   ]
  },
  {
   "cell_type": "code",
   "execution_count": 12,
   "metadata": {},
   "outputs": [
    {
     "data": {
      "text/html": [
       "<div>\n",
       "<style scoped>\n",
       "    .dataframe tbody tr th:only-of-type {\n",
       "        vertical-align: middle;\n",
       "    }\n",
       "\n",
       "    .dataframe tbody tr th {\n",
       "        vertical-align: top;\n",
       "    }\n",
       "\n",
       "    .dataframe thead th {\n",
       "        text-align: right;\n",
       "    }\n",
       "</style>\n",
       "<table border=\"1\" class=\"dataframe\">\n",
       "  <thead>\n",
       "    <tr style=\"text-align: right;\">\n",
       "      <th></th>\n",
       "      <th>game number</th>\n",
       "      <th>trial</th>\n",
       "      <th>player</th>\n",
       "      <th>arm</th>\n",
       "      <th>probability</th>\n",
       "      <th>reward</th>\n",
       "      <th>time</th>\n",
       "      <th>P1 score</th>\n",
       "      <th>P2 score</th>\n",
       "    </tr>\n",
       "  </thead>\n",
       "  <tbody>\n",
       "    <tr>\n",
       "      <th>0</th>\n",
       "      <td>1</td>\n",
       "      <td>1</td>\n",
       "      <td>1</td>\n",
       "      <td>3</td>\n",
       "      <td>90</td>\n",
       "      <td>1</td>\n",
       "      <td>3.134130</td>\n",
       "      <td>1</td>\n",
       "      <td>0</td>\n",
       "    </tr>\n",
       "    <tr>\n",
       "      <th>1</th>\n",
       "      <td>1</td>\n",
       "      <td>1</td>\n",
       "      <td>2</td>\n",
       "      <td>1</td>\n",
       "      <td>90</td>\n",
       "      <td>1</td>\n",
       "      <td>9.395702</td>\n",
       "      <td>1</td>\n",
       "      <td>1</td>\n",
       "    </tr>\n",
       "    <tr>\n",
       "      <th>2</th>\n",
       "      <td>1</td>\n",
       "      <td>2</td>\n",
       "      <td>1</td>\n",
       "      <td>2</td>\n",
       "      <td>60</td>\n",
       "      <td>0</td>\n",
       "      <td>2.179541</td>\n",
       "      <td>1</td>\n",
       "      <td>1</td>\n",
       "    </tr>\n",
       "    <tr>\n",
       "      <th>3</th>\n",
       "      <td>1</td>\n",
       "      <td>2</td>\n",
       "      <td>2</td>\n",
       "      <td>1</td>\n",
       "      <td>90</td>\n",
       "      <td>1</td>\n",
       "      <td>2.545001</td>\n",
       "      <td>1</td>\n",
       "      <td>2</td>\n",
       "    </tr>\n",
       "    <tr>\n",
       "      <th>4</th>\n",
       "      <td>1</td>\n",
       "      <td>3</td>\n",
       "      <td>1</td>\n",
       "      <td>3</td>\n",
       "      <td>90</td>\n",
       "      <td>1</td>\n",
       "      <td>2.511049</td>\n",
       "      <td>2</td>\n",
       "      <td>2</td>\n",
       "    </tr>\n",
       "  </tbody>\n",
       "</table>\n",
       "</div>"
      ],
      "text/plain": [
       "   game number  trial  player  arm  probability  reward      time  P1 score  \\\n",
       "0            1      1       1    3           90       1  3.134130         1   \n",
       "1            1      1       2    1           90       1  9.395702         1   \n",
       "2            1      2       1    2           60       0  2.179541         1   \n",
       "3            1      2       2    1           90       1  2.545001         1   \n",
       "4            1      3       1    3           90       1  2.511049         2   \n",
       "\n",
       "   P2 score  \n",
       "0         0  \n",
       "1         1  \n",
       "2         1  \n",
       "3         2  \n",
       "4         2  "
      ]
     },
     "execution_count": 12,
     "metadata": {},
     "output_type": "execute_result"
    }
   ],
   "source": [
    "#in the s files, p2 is the confederate\n",
    "df = organize_trial_by_trial('data/s06_gamedata.csv')\n",
    "s06 = df\n",
    "s06_p1_g1_score,s06_p1_g2_score,s06_score_diff = call_get_score(s06, 's')\n",
    "s06.head()"
   ]
  },
  {
   "cell_type": "code",
   "execution_count": 13,
   "metadata": {},
   "outputs": [
    {
     "data": {
      "text/html": [
       "<div>\n",
       "<style scoped>\n",
       "    .dataframe tbody tr th:only-of-type {\n",
       "        vertical-align: middle;\n",
       "    }\n",
       "\n",
       "    .dataframe tbody tr th {\n",
       "        vertical-align: top;\n",
       "    }\n",
       "\n",
       "    .dataframe thead th {\n",
       "        text-align: right;\n",
       "    }\n",
       "</style>\n",
       "<table border=\"1\" class=\"dataframe\">\n",
       "  <thead>\n",
       "    <tr style=\"text-align: right;\">\n",
       "      <th></th>\n",
       "      <th>game number</th>\n",
       "      <th>trial</th>\n",
       "      <th>player</th>\n",
       "      <th>arm</th>\n",
       "      <th>probability</th>\n",
       "      <th>reward</th>\n",
       "      <th>time</th>\n",
       "      <th>P1 score</th>\n",
       "      <th>P2 score</th>\n",
       "    </tr>\n",
       "  </thead>\n",
       "  <tbody>\n",
       "    <tr>\n",
       "      <th>0</th>\n",
       "      <td>1</td>\n",
       "      <td>1</td>\n",
       "      <td>1</td>\n",
       "      <td>3</td>\n",
       "      <td>60</td>\n",
       "      <td>0</td>\n",
       "      <td>13.140095</td>\n",
       "      <td>0</td>\n",
       "      <td>0</td>\n",
       "    </tr>\n",
       "    <tr>\n",
       "      <th>1</th>\n",
       "      <td>1</td>\n",
       "      <td>1</td>\n",
       "      <td>2</td>\n",
       "      <td>1</td>\n",
       "      <td>90</td>\n",
       "      <td>1</td>\n",
       "      <td>2.417684</td>\n",
       "      <td>0</td>\n",
       "      <td>1</td>\n",
       "    </tr>\n",
       "    <tr>\n",
       "      <th>2</th>\n",
       "      <td>1</td>\n",
       "      <td>2</td>\n",
       "      <td>1</td>\n",
       "      <td>3</td>\n",
       "      <td>60</td>\n",
       "      <td>1</td>\n",
       "      <td>1.725920</td>\n",
       "      <td>1</td>\n",
       "      <td>1</td>\n",
       "    </tr>\n",
       "    <tr>\n",
       "      <th>3</th>\n",
       "      <td>1</td>\n",
       "      <td>2</td>\n",
       "      <td>2</td>\n",
       "      <td>1</td>\n",
       "      <td>90</td>\n",
       "      <td>1</td>\n",
       "      <td>2.810070</td>\n",
       "      <td>1</td>\n",
       "      <td>2</td>\n",
       "    </tr>\n",
       "    <tr>\n",
       "      <th>4</th>\n",
       "      <td>1</td>\n",
       "      <td>3</td>\n",
       "      <td>1</td>\n",
       "      <td>1</td>\n",
       "      <td>90</td>\n",
       "      <td>0</td>\n",
       "      <td>1.551831</td>\n",
       "      <td>1</td>\n",
       "      <td>2</td>\n",
       "    </tr>\n",
       "  </tbody>\n",
       "</table>\n",
       "</div>"
      ],
      "text/plain": [
       "   game number  trial  player  arm  probability  reward       time  P1 score  \\\n",
       "0            1      1       1    3           60       0  13.140095         0   \n",
       "1            1      1       2    1           90       1   2.417684         0   \n",
       "2            1      2       1    3           60       1   1.725920         1   \n",
       "3            1      2       2    1           90       1   2.810070         1   \n",
       "4            1      3       1    1           90       0   1.551831         1   \n",
       "\n",
       "   P2 score  \n",
       "0         0  \n",
       "1         1  \n",
       "2         1  \n",
       "3         2  \n",
       "4         2  "
      ]
     },
     "execution_count": 13,
     "metadata": {},
     "output_type": "execute_result"
    }
   ],
   "source": [
    "#in the s files, p2 is the confederate\n",
    "df = organize_trial_by_trial('data/s07_gamedata.csv')\n",
    "s07 = df\n",
    "s07_p1_g1_score,s07_p1_g2_score,s07_score_diff = call_get_score(s07, 's')\n",
    "s07.head()"
   ]
  },
  {
   "cell_type": "code",
   "execution_count": 14,
   "metadata": {},
   "outputs": [
    {
     "data": {
      "text/html": [
       "<div>\n",
       "<style scoped>\n",
       "    .dataframe tbody tr th:only-of-type {\n",
       "        vertical-align: middle;\n",
       "    }\n",
       "\n",
       "    .dataframe tbody tr th {\n",
       "        vertical-align: top;\n",
       "    }\n",
       "\n",
       "    .dataframe thead th {\n",
       "        text-align: right;\n",
       "    }\n",
       "</style>\n",
       "<table border=\"1\" class=\"dataframe\">\n",
       "  <thead>\n",
       "    <tr style=\"text-align: right;\">\n",
       "      <th></th>\n",
       "      <th>game number</th>\n",
       "      <th>trial</th>\n",
       "      <th>player</th>\n",
       "      <th>arm</th>\n",
       "      <th>probability</th>\n",
       "      <th>reward</th>\n",
       "      <th>time</th>\n",
       "      <th>P1 score</th>\n",
       "      <th>P2 score</th>\n",
       "    </tr>\n",
       "  </thead>\n",
       "  <tbody>\n",
       "    <tr>\n",
       "      <th>0</th>\n",
       "      <td>1</td>\n",
       "      <td>1</td>\n",
       "      <td>1</td>\n",
       "      <td>1</td>\n",
       "      <td>30</td>\n",
       "      <td>0</td>\n",
       "      <td>13.150472</td>\n",
       "      <td>0</td>\n",
       "      <td>0</td>\n",
       "    </tr>\n",
       "    <tr>\n",
       "      <th>1</th>\n",
       "      <td>1</td>\n",
       "      <td>1</td>\n",
       "      <td>2</td>\n",
       "      <td>1</td>\n",
       "      <td>90</td>\n",
       "      <td>1</td>\n",
       "      <td>2.550160</td>\n",
       "      <td>0</td>\n",
       "      <td>1</td>\n",
       "    </tr>\n",
       "    <tr>\n",
       "      <th>2</th>\n",
       "      <td>1</td>\n",
       "      <td>2</td>\n",
       "      <td>1</td>\n",
       "      <td>2</td>\n",
       "      <td>90</td>\n",
       "      <td>1</td>\n",
       "      <td>6.812722</td>\n",
       "      <td>1</td>\n",
       "      <td>1</td>\n",
       "    </tr>\n",
       "    <tr>\n",
       "      <th>3</th>\n",
       "      <td>1</td>\n",
       "      <td>2</td>\n",
       "      <td>2</td>\n",
       "      <td>1</td>\n",
       "      <td>90</td>\n",
       "      <td>1</td>\n",
       "      <td>3.497989</td>\n",
       "      <td>1</td>\n",
       "      <td>2</td>\n",
       "    </tr>\n",
       "    <tr>\n",
       "      <th>4</th>\n",
       "      <td>1</td>\n",
       "      <td>3</td>\n",
       "      <td>1</td>\n",
       "      <td>2</td>\n",
       "      <td>90</td>\n",
       "      <td>1</td>\n",
       "      <td>2.441523</td>\n",
       "      <td>2</td>\n",
       "      <td>2</td>\n",
       "    </tr>\n",
       "  </tbody>\n",
       "</table>\n",
       "</div>"
      ],
      "text/plain": [
       "   game number  trial  player  arm  probability  reward       time  P1 score  \\\n",
       "0            1      1       1    1           30       0  13.150472         0   \n",
       "1            1      1       2    1           90       1   2.550160         0   \n",
       "2            1      2       1    2           90       1   6.812722         1   \n",
       "3            1      2       2    1           90       1   3.497989         1   \n",
       "4            1      3       1    2           90       1   2.441523         2   \n",
       "\n",
       "   P2 score  \n",
       "0         0  \n",
       "1         1  \n",
       "2         1  \n",
       "3         2  \n",
       "4         2  "
      ]
     },
     "execution_count": 14,
     "metadata": {},
     "output_type": "execute_result"
    }
   ],
   "source": [
    "#in the s files, p2 is the confederate\n",
    "df = organize_trial_by_trial('data/s08_gamedata.csv')\n",
    "s08 = df\n",
    "s08_p1_g1_score,s08_p1_g2_score,s08_score_diff = call_get_score(s08, 's')\n",
    "s08.head()"
   ]
  },
  {
   "cell_type": "code",
   "execution_count": 15,
   "metadata": {},
   "outputs": [
    {
     "data": {
      "text/html": [
       "<div>\n",
       "<style scoped>\n",
       "    .dataframe tbody tr th:only-of-type {\n",
       "        vertical-align: middle;\n",
       "    }\n",
       "\n",
       "    .dataframe tbody tr th {\n",
       "        vertical-align: top;\n",
       "    }\n",
       "\n",
       "    .dataframe thead th {\n",
       "        text-align: right;\n",
       "    }\n",
       "</style>\n",
       "<table border=\"1\" class=\"dataframe\">\n",
       "  <thead>\n",
       "    <tr style=\"text-align: right;\">\n",
       "      <th></th>\n",
       "      <th>game number</th>\n",
       "      <th>trial</th>\n",
       "      <th>player</th>\n",
       "      <th>arm</th>\n",
       "      <th>probability</th>\n",
       "      <th>reward</th>\n",
       "      <th>time</th>\n",
       "      <th>P1 score</th>\n",
       "      <th>P2 score</th>\n",
       "    </tr>\n",
       "  </thead>\n",
       "  <tbody>\n",
       "    <tr>\n",
       "      <th>0</th>\n",
       "      <td>1</td>\n",
       "      <td>1</td>\n",
       "      <td>1</td>\n",
       "      <td>3</td>\n",
       "      <td>60</td>\n",
       "      <td>1</td>\n",
       "      <td>14.642494</td>\n",
       "      <td>1</td>\n",
       "      <td>0</td>\n",
       "    </tr>\n",
       "    <tr>\n",
       "      <th>1</th>\n",
       "      <td>1</td>\n",
       "      <td>1</td>\n",
       "      <td>2</td>\n",
       "      <td>1</td>\n",
       "      <td>90</td>\n",
       "      <td>1</td>\n",
       "      <td>2.997907</td>\n",
       "      <td>1</td>\n",
       "      <td>1</td>\n",
       "    </tr>\n",
       "    <tr>\n",
       "      <th>2</th>\n",
       "      <td>1</td>\n",
       "      <td>2</td>\n",
       "      <td>1</td>\n",
       "      <td>3</td>\n",
       "      <td>60</td>\n",
       "      <td>1</td>\n",
       "      <td>7.654677</td>\n",
       "      <td>2</td>\n",
       "      <td>1</td>\n",
       "    </tr>\n",
       "    <tr>\n",
       "      <th>3</th>\n",
       "      <td>1</td>\n",
       "      <td>2</td>\n",
       "      <td>2</td>\n",
       "      <td>1</td>\n",
       "      <td>90</td>\n",
       "      <td>0</td>\n",
       "      <td>2.905190</td>\n",
       "      <td>2</td>\n",
       "      <td>1</td>\n",
       "    </tr>\n",
       "    <tr>\n",
       "      <th>4</th>\n",
       "      <td>1</td>\n",
       "      <td>3</td>\n",
       "      <td>1</td>\n",
       "      <td>1</td>\n",
       "      <td>90</td>\n",
       "      <td>1</td>\n",
       "      <td>3.873310</td>\n",
       "      <td>3</td>\n",
       "      <td>1</td>\n",
       "    </tr>\n",
       "  </tbody>\n",
       "</table>\n",
       "</div>"
      ],
      "text/plain": [
       "   game number  trial  player  arm  probability  reward       time  P1 score  \\\n",
       "0            1      1       1    3           60       1  14.642494         1   \n",
       "1            1      1       2    1           90       1   2.997907         1   \n",
       "2            1      2       1    3           60       1   7.654677         2   \n",
       "3            1      2       2    1           90       0   2.905190         2   \n",
       "4            1      3       1    1           90       1   3.873310         3   \n",
       "\n",
       "   P2 score  \n",
       "0         0  \n",
       "1         1  \n",
       "2         1  \n",
       "3         1  \n",
       "4         1  "
      ]
     },
     "execution_count": 15,
     "metadata": {},
     "output_type": "execute_result"
    }
   ],
   "source": [
    "#in the s files, p2 is the confederate\n",
    "df = organize_trial_by_trial('data/s09_gamedata.csv')\n",
    "s09 = df\n",
    "s09_p1_g1_score,s09_p1_g2_score,s09_score_diff = call_get_score(s09, 's')\n",
    "s09.head()"
   ]
  },
  {
   "cell_type": "code",
   "execution_count": 16,
   "metadata": {},
   "outputs": [],
   "source": [
    "score_diff = pd.DataFrame({'participant':['s01', 's03', 's05', \n",
    "                               's06', 's07', 's08', 's09'], 'score_diff':\n",
    "     [s01_score_diff, s03_score_diff, s05_score_diff, s06_score_diff,\n",
    "      s07_score_diff, s08_score_diff, s09_score_diff]})"
   ]
  },
  {
   "cell_type": "markdown",
   "metadata": {},
   "source": [
    "# Score diff between G1 and G2"
   ]
  },
  {
   "cell_type": "code",
   "execution_count": 17,
   "metadata": {},
   "outputs": [
    {
     "data": {
      "text/html": [
       "<div>\n",
       "<style scoped>\n",
       "    .dataframe tbody tr th:only-of-type {\n",
       "        vertical-align: middle;\n",
       "    }\n",
       "\n",
       "    .dataframe tbody tr th {\n",
       "        vertical-align: top;\n",
       "    }\n",
       "\n",
       "    .dataframe thead th {\n",
       "        text-align: right;\n",
       "    }\n",
       "</style>\n",
       "<table border=\"1\" class=\"dataframe\">\n",
       "  <thead>\n",
       "    <tr style=\"text-align: right;\">\n",
       "      <th></th>\n",
       "      <th>participant</th>\n",
       "      <th>score_diff</th>\n",
       "    </tr>\n",
       "  </thead>\n",
       "  <tbody>\n",
       "    <tr>\n",
       "      <th>0</th>\n",
       "      <td>s01</td>\n",
       "      <td>14</td>\n",
       "    </tr>\n",
       "    <tr>\n",
       "      <th>1</th>\n",
       "      <td>s03</td>\n",
       "      <td>8</td>\n",
       "    </tr>\n",
       "    <tr>\n",
       "      <th>2</th>\n",
       "      <td>s05</td>\n",
       "      <td>11</td>\n",
       "    </tr>\n",
       "    <tr>\n",
       "      <th>3</th>\n",
       "      <td>s06</td>\n",
       "      <td>5</td>\n",
       "    </tr>\n",
       "    <tr>\n",
       "      <th>4</th>\n",
       "      <td>s07</td>\n",
       "      <td>5</td>\n",
       "    </tr>\n",
       "    <tr>\n",
       "      <th>5</th>\n",
       "      <td>s08</td>\n",
       "      <td>-10</td>\n",
       "    </tr>\n",
       "    <tr>\n",
       "      <th>6</th>\n",
       "      <td>s09</td>\n",
       "      <td>5</td>\n",
       "    </tr>\n",
       "  </tbody>\n",
       "</table>\n",
       "</div>"
      ],
      "text/plain": [
       "  participant  score_diff\n",
       "0         s01          14\n",
       "1         s03           8\n",
       "2         s05          11\n",
       "3         s06           5\n",
       "4         s07           5\n",
       "5         s08         -10\n",
       "6         s09           5"
      ]
     },
     "execution_count": 17,
     "metadata": {},
     "output_type": "execute_result"
    }
   ],
   "source": [
    "score_diff"
   ]
  },
  {
   "cell_type": "code",
   "execution_count": 18,
   "metadata": {},
   "outputs": [],
   "source": [
    "#increase in every participant except 1\n",
    "#df excluding outliar\n",
    "score_diff_ex = pd.DataFrame({'participant':['s01', 's03', 's05', \n",
    "                               's06', 's07', 's09'], 'score_diff':\n",
    "     [s01_score_diff, s03_score_diff, s05_score_diff, s06_score_diff,\n",
    "      s07_score_diff, s09_score_diff]})"
   ]
  },
  {
   "cell_type": "code",
   "execution_count": 19,
   "metadata": {},
   "outputs": [
    {
     "data": {
      "text/html": [
       "<div>\n",
       "<style scoped>\n",
       "    .dataframe tbody tr th:only-of-type {\n",
       "        vertical-align: middle;\n",
       "    }\n",
       "\n",
       "    .dataframe tbody tr th {\n",
       "        vertical-align: top;\n",
       "    }\n",
       "\n",
       "    .dataframe thead th {\n",
       "        text-align: right;\n",
       "    }\n",
       "</style>\n",
       "<table border=\"1\" class=\"dataframe\">\n",
       "  <thead>\n",
       "    <tr style=\"text-align: right;\">\n",
       "      <th></th>\n",
       "      <th>participant</th>\n",
       "      <th>score_diff</th>\n",
       "    </tr>\n",
       "  </thead>\n",
       "  <tbody>\n",
       "    <tr>\n",
       "      <th>0</th>\n",
       "      <td>s01</td>\n",
       "      <td>14</td>\n",
       "    </tr>\n",
       "    <tr>\n",
       "      <th>1</th>\n",
       "      <td>s03</td>\n",
       "      <td>8</td>\n",
       "    </tr>\n",
       "    <tr>\n",
       "      <th>2</th>\n",
       "      <td>s05</td>\n",
       "      <td>11</td>\n",
       "    </tr>\n",
       "    <tr>\n",
       "      <th>3</th>\n",
       "      <td>s06</td>\n",
       "      <td>5</td>\n",
       "    </tr>\n",
       "    <tr>\n",
       "      <th>4</th>\n",
       "      <td>s07</td>\n",
       "      <td>5</td>\n",
       "    </tr>\n",
       "    <tr>\n",
       "      <th>5</th>\n",
       "      <td>s09</td>\n",
       "      <td>5</td>\n",
       "    </tr>\n",
       "  </tbody>\n",
       "</table>\n",
       "</div>"
      ],
      "text/plain": [
       "  participant  score_diff\n",
       "0         s01          14\n",
       "1         s03           8\n",
       "2         s05          11\n",
       "3         s06           5\n",
       "4         s07           5\n",
       "5         s09           5"
      ]
     },
     "execution_count": 19,
     "metadata": {},
     "output_type": "execute_result"
    }
   ],
   "source": [
    "score_diff_ex"
   ]
  },
  {
   "cell_type": "code",
   "execution_count": 20,
   "metadata": {},
   "outputs": [],
   "source": [
    "score_diff_mean = score_diff['score_diff'].mean()"
   ]
  },
  {
   "cell_type": "code",
   "execution_count": 21,
   "metadata": {},
   "outputs": [],
   "source": [
    "score_diff_ex_mean = score_diff_ex['score_diff'].mean()"
   ]
  },
  {
   "cell_type": "code",
   "execution_count": 22,
   "metadata": {},
   "outputs": [
    {
     "data": {
      "text/plain": [
       "5.428571428571429"
      ]
     },
     "execution_count": 22,
     "metadata": {},
     "output_type": "execute_result"
    }
   ],
   "source": [
    "score_diff_mean"
   ]
  },
  {
   "cell_type": "code",
   "execution_count": 23,
   "metadata": {},
   "outputs": [
    {
     "data": {
      "text/plain": [
       "8.0"
      ]
     },
     "execution_count": 23,
     "metadata": {},
     "output_type": "execute_result"
    }
   ],
   "source": [
    "score_diff_ex_mean"
   ]
  },
  {
   "cell_type": "markdown",
   "metadata": {},
   "source": [
    "# Scores in G1 and G2"
   ]
  },
  {
   "cell_type": "code",
   "execution_count": 24,
   "metadata": {},
   "outputs": [
    {
     "data": {
      "text/html": [
       "<div>\n",
       "<style scoped>\n",
       "    .dataframe tbody tr th:only-of-type {\n",
       "        vertical-align: middle;\n",
       "    }\n",
       "\n",
       "    .dataframe tbody tr th {\n",
       "        vertical-align: top;\n",
       "    }\n",
       "\n",
       "    .dataframe thead th {\n",
       "        text-align: right;\n",
       "    }\n",
       "</style>\n",
       "<table border=\"1\" class=\"dataframe\">\n",
       "  <thead>\n",
       "    <tr style=\"text-align: right;\">\n",
       "      <th></th>\n",
       "      <th>score</th>\n",
       "    </tr>\n",
       "    <tr>\n",
       "      <th>participant</th>\n",
       "      <th></th>\n",
       "    </tr>\n",
       "  </thead>\n",
       "  <tbody>\n",
       "    <tr>\n",
       "      <th>s01</th>\n",
       "      <td>60</td>\n",
       "    </tr>\n",
       "    <tr>\n",
       "      <th>s02</th>\n",
       "      <td>63</td>\n",
       "    </tr>\n",
       "    <tr>\n",
       "      <th>s03</th>\n",
       "      <td>63</td>\n",
       "    </tr>\n",
       "    <tr>\n",
       "      <th>s05</th>\n",
       "      <td>77</td>\n",
       "    </tr>\n",
       "    <tr>\n",
       "      <th>s06</th>\n",
       "      <td>82</td>\n",
       "    </tr>\n",
       "    <tr>\n",
       "      <th>s07</th>\n",
       "      <td>63</td>\n",
       "    </tr>\n",
       "    <tr>\n",
       "      <th>s08</th>\n",
       "      <td>90</td>\n",
       "    </tr>\n",
       "    <tr>\n",
       "      <th>s09</th>\n",
       "      <td>65</td>\n",
       "    </tr>\n",
       "  </tbody>\n",
       "</table>\n",
       "</div>"
      ],
      "text/plain": [
       "             score\n",
       "participant       \n",
       "s01             60\n",
       "s02             63\n",
       "s03             63\n",
       "s05             77\n",
       "s06             82\n",
       "s07             63\n",
       "s08             90\n",
       "s09             65"
      ]
     },
     "execution_count": 24,
     "metadata": {},
     "output_type": "execute_result"
    }
   ],
   "source": [
    "s_scores_1 = pd.DataFrame({'participant':['s01', 's02', 's03', 's05', \n",
    "                               's06', 's07', 's08', 's09'], 'score':\n",
    "     [s01_p1_g1_score, s02_p1_g1_score, s03_p1_g1_score, s05_p1_g1_score,\n",
    "      s06_p1_g1_score, s07_p1_g1_score, s08_p1_g1_score, s09_p1_g1_score]})\n",
    "s_scores_1.set_index('participant', inplace=True, drop=True)\n",
    "s_scores_2 = pd.DataFrame({'participant':['s01', 's03', 's05', \n",
    "                               's06', 's07', 's08', 's09'], 'score':\n",
    "    [s01_p1_g2_score, s03_p1_g2_score, s05_p1_g2_score, \n",
    "    s06_p1_g2_score, s07_p1_g2_score, s08_p1_g2_score, s09_p1_g2_score]})\n",
    "s_scores_2.set_index('participant', inplace=True, drop=True)\n",
    "#s_scores_1 = pd.DataFrame(data = d1)\n",
    "#s_scores_2 = pd.DataFrame(data = d2)\n",
    "s_scores_1"
   ]
  },
  {
   "cell_type": "code",
   "execution_count": 25,
   "metadata": {},
   "outputs": [
    {
     "data": {
      "text/html": [
       "<div>\n",
       "<style scoped>\n",
       "    .dataframe tbody tr th:only-of-type {\n",
       "        vertical-align: middle;\n",
       "    }\n",
       "\n",
       "    .dataframe tbody tr th {\n",
       "        vertical-align: top;\n",
       "    }\n",
       "\n",
       "    .dataframe thead th {\n",
       "        text-align: right;\n",
       "    }\n",
       "</style>\n",
       "<table border=\"1\" class=\"dataframe\">\n",
       "  <thead>\n",
       "    <tr style=\"text-align: right;\">\n",
       "      <th></th>\n",
       "      <th>score</th>\n",
       "    </tr>\n",
       "    <tr>\n",
       "      <th>participant</th>\n",
       "      <th></th>\n",
       "    </tr>\n",
       "  </thead>\n",
       "  <tbody>\n",
       "    <tr>\n",
       "      <th>s01</th>\n",
       "      <td>74</td>\n",
       "    </tr>\n",
       "    <tr>\n",
       "      <th>s03</th>\n",
       "      <td>71</td>\n",
       "    </tr>\n",
       "    <tr>\n",
       "      <th>s05</th>\n",
       "      <td>88</td>\n",
       "    </tr>\n",
       "    <tr>\n",
       "      <th>s06</th>\n",
       "      <td>87</td>\n",
       "    </tr>\n",
       "    <tr>\n",
       "      <th>s07</th>\n",
       "      <td>68</td>\n",
       "    </tr>\n",
       "    <tr>\n",
       "      <th>s08</th>\n",
       "      <td>80</td>\n",
       "    </tr>\n",
       "    <tr>\n",
       "      <th>s09</th>\n",
       "      <td>70</td>\n",
       "    </tr>\n",
       "  </tbody>\n",
       "</table>\n",
       "</div>"
      ],
      "text/plain": [
       "             score\n",
       "participant       \n",
       "s01             74\n",
       "s03             71\n",
       "s05             88\n",
       "s06             87\n",
       "s07             68\n",
       "s08             80\n",
       "s09             70"
      ]
     },
     "execution_count": 25,
     "metadata": {},
     "output_type": "execute_result"
    }
   ],
   "source": [
    "s_scores_2"
   ]
  },
  {
   "cell_type": "code",
   "execution_count": 26,
   "metadata": {},
   "outputs": [
    {
     "data": {
      "image/png": "[encoded data removed]",
      "text/plain": [
       "<Figure size 432x288 with 1 Axes>"
      ]
     },
     "metadata": {
      "needs_background": "light"
     },
     "output_type": "display_data"
    }
   ],
   "source": [
    "s_scores_1_bar = s_scores_1.plot.bar()"
   ]
  },
  {
   "cell_type": "code",
   "execution_count": 27,
   "metadata": {},
   "outputs": [
    {
     "data": {
      "image/png": "[encoded data removed]",
      "text/plain": [
       "<Figure size 432x288 with 1 Axes>"
      ]
     },
     "metadata": {
      "needs_background": "light"
     },
     "output_type": "display_data"
    }
   ],
   "source": [
    "s_scores_2_bar = s_scores_2.plot.bar()"
   ]
  },
  {
   "cell_type": "code",
   "execution_count": 28,
   "metadata": {},
   "outputs": [],
   "source": [
    "#combine g1 and g2 to one dataframe\n",
    "s_combo = s_scores_1.append(s_scores_2)"
   ]
  },
  {
   "cell_type": "code",
   "execution_count": 29,
   "metadata": {},
   "outputs": [
    {
     "data": {
      "text/plain": [
       "\"s_combo = pd.DataFrame({'participant':['s01', 's01', 's02', 's03', 's03','s05', 's05'\\n                               's06', 's06','s07','s07','s08','s08','s09','s09'], 'score':\\n     [s01_p1_g1_score, s01_p1_g2_score, s02_p1_g1_score, s03_p1_g1_score, s03_p1_g2_score, s05_p1_g1_score,\\n      s05_p1_g2_score,s06_p1_g1_score,s06_p1_g2_score, s07_p1_g1_score,s07_p1_g2_score, s08_p1_g1_score,s08_p1_g2_score,\\n      s09_p1_g1_score, s09_p1_g2_score]})\\ns_combo.set_index('participant', inplace=True, drop=True)\""
      ]
     },
     "execution_count": 29,
     "metadata": {},
     "output_type": "execute_result"
    }
   ],
   "source": [
    "'''s_combo = pd.DataFrame({'participant':['s01', 's01', 's02', 's03', 's03','s05', 's05'\n",
    "                               's06', 's06','s07','s07','s08','s08','s09','s09'], 'score':\n",
    "     [s01_p1_g1_score, s01_p1_g2_score, s02_p1_g1_score, s03_p1_g1_score, s03_p1_g2_score, s05_p1_g1_score,\n",
    "      s05_p1_g2_score,s06_p1_g1_score,s06_p1_g2_score, s07_p1_g1_score,s07_p1_g2_score, s08_p1_g1_score,s08_p1_g2_score,\n",
    "      s09_p1_g1_score, s09_p1_g2_score]})\n",
    "s_combo.set_index('participant', inplace=True, drop=True)'''"
   ]
  },
  {
   "cell_type": "code",
   "execution_count": 30,
   "metadata": {},
   "outputs": [],
   "source": [
    "\n",
    "#new_index = ('s01_g1','s01_g2','s02_g1','s03_g1','s03_g2','s05_g1','s05_g2', \n",
    "                               #'s06_g1','s06_g2','s07_g1','s07_g2','s08_g1','s08_g2','s09_g1','s09_g2')\n",
    "#s_combo.index = new_index"
   ]
  },
  {
   "cell_type": "code",
   "execution_count": 31,
   "metadata": {},
   "outputs": [
    {
     "data": {
      "text/html": [
       "<div>\n",
       "<style scoped>\n",
       "    .dataframe tbody tr th:only-of-type {\n",
       "        vertical-align: middle;\n",
       "    }\n",
       "\n",
       "    .dataframe tbody tr th {\n",
       "        vertical-align: top;\n",
       "    }\n",
       "\n",
       "    .dataframe thead th {\n",
       "        text-align: right;\n",
       "    }\n",
       "</style>\n",
       "<table border=\"1\" class=\"dataframe\">\n",
       "  <thead>\n",
       "    <tr style=\"text-align: right;\">\n",
       "      <th></th>\n",
       "      <th>score</th>\n",
       "    </tr>\n",
       "    <tr>\n",
       "      <th>participant</th>\n",
       "      <th></th>\n",
       "    </tr>\n",
       "  </thead>\n",
       "  <tbody>\n",
       "    <tr>\n",
       "      <th>s01</th>\n",
       "      <td>60</td>\n",
       "    </tr>\n",
       "    <tr>\n",
       "      <th>s02</th>\n",
       "      <td>63</td>\n",
       "    </tr>\n",
       "    <tr>\n",
       "      <th>s03</th>\n",
       "      <td>63</td>\n",
       "    </tr>\n",
       "    <tr>\n",
       "      <th>s05</th>\n",
       "      <td>77</td>\n",
       "    </tr>\n",
       "    <tr>\n",
       "      <th>s06</th>\n",
       "      <td>82</td>\n",
       "    </tr>\n",
       "    <tr>\n",
       "      <th>s07</th>\n",
       "      <td>63</td>\n",
       "    </tr>\n",
       "    <tr>\n",
       "      <th>s08</th>\n",
       "      <td>90</td>\n",
       "    </tr>\n",
       "    <tr>\n",
       "      <th>s09</th>\n",
       "      <td>65</td>\n",
       "    </tr>\n",
       "    <tr>\n",
       "      <th>s01</th>\n",
       "      <td>74</td>\n",
       "    </tr>\n",
       "    <tr>\n",
       "      <th>s03</th>\n",
       "      <td>71</td>\n",
       "    </tr>\n",
       "    <tr>\n",
       "      <th>s05</th>\n",
       "      <td>88</td>\n",
       "    </tr>\n",
       "    <tr>\n",
       "      <th>s06</th>\n",
       "      <td>87</td>\n",
       "    </tr>\n",
       "    <tr>\n",
       "      <th>s07</th>\n",
       "      <td>68</td>\n",
       "    </tr>\n",
       "    <tr>\n",
       "      <th>s08</th>\n",
       "      <td>80</td>\n",
       "    </tr>\n",
       "    <tr>\n",
       "      <th>s09</th>\n",
       "      <td>70</td>\n",
       "    </tr>\n",
       "  </tbody>\n",
       "</table>\n",
       "</div>"
      ],
      "text/plain": [
       "             score\n",
       "participant       \n",
       "s01             60\n",
       "s02             63\n",
       "s03             63\n",
       "s05             77\n",
       "s06             82\n",
       "s07             63\n",
       "s08             90\n",
       "s09             65\n",
       "s01             74\n",
       "s03             71\n",
       "s05             88\n",
       "s06             87\n",
       "s07             68\n",
       "s08             80\n",
       "s09             70"
      ]
     },
     "execution_count": 31,
     "metadata": {},
     "output_type": "execute_result"
    }
   ],
   "source": [
    "s_combo"
   ]
  },
  {
   "cell_type": "code",
   "execution_count": 32,
   "metadata": {},
   "outputs": [],
   "source": [
    "s_combo = s_combo.sort_values(by=['participant'])"
   ]
  },
  {
   "cell_type": "code",
   "execution_count": 33,
   "metadata": {},
   "outputs": [
    {
     "data": {
      "text/html": [
       "<div>\n",
       "<style scoped>\n",
       "    .dataframe tbody tr th:only-of-type {\n",
       "        vertical-align: middle;\n",
       "    }\n",
       "\n",
       "    .dataframe tbody tr th {\n",
       "        vertical-align: top;\n",
       "    }\n",
       "\n",
       "    .dataframe thead th {\n",
       "        text-align: right;\n",
       "    }\n",
       "</style>\n",
       "<table border=\"1\" class=\"dataframe\">\n",
       "  <thead>\n",
       "    <tr style=\"text-align: right;\">\n",
       "      <th></th>\n",
       "      <th>score</th>\n",
       "    </tr>\n",
       "    <tr>\n",
       "      <th>participant</th>\n",
       "      <th></th>\n",
       "    </tr>\n",
       "  </thead>\n",
       "  <tbody>\n",
       "    <tr>\n",
       "      <th>s01</th>\n",
       "      <td>60</td>\n",
       "    </tr>\n",
       "    <tr>\n",
       "      <th>s01</th>\n",
       "      <td>74</td>\n",
       "    </tr>\n",
       "    <tr>\n",
       "      <th>s02</th>\n",
       "      <td>63</td>\n",
       "    </tr>\n",
       "    <tr>\n",
       "      <th>s03</th>\n",
       "      <td>63</td>\n",
       "    </tr>\n",
       "    <tr>\n",
       "      <th>s03</th>\n",
       "      <td>71</td>\n",
       "    </tr>\n",
       "    <tr>\n",
       "      <th>s05</th>\n",
       "      <td>77</td>\n",
       "    </tr>\n",
       "    <tr>\n",
       "      <th>s05</th>\n",
       "      <td>88</td>\n",
       "    </tr>\n",
       "    <tr>\n",
       "      <th>s06</th>\n",
       "      <td>82</td>\n",
       "    </tr>\n",
       "    <tr>\n",
       "      <th>s06</th>\n",
       "      <td>87</td>\n",
       "    </tr>\n",
       "    <tr>\n",
       "      <th>s07</th>\n",
       "      <td>63</td>\n",
       "    </tr>\n",
       "    <tr>\n",
       "      <th>s07</th>\n",
       "      <td>68</td>\n",
       "    </tr>\n",
       "    <tr>\n",
       "      <th>s08</th>\n",
       "      <td>90</td>\n",
       "    </tr>\n",
       "    <tr>\n",
       "      <th>s08</th>\n",
       "      <td>80</td>\n",
       "    </tr>\n",
       "    <tr>\n",
       "      <th>s09</th>\n",
       "      <td>65</td>\n",
       "    </tr>\n",
       "    <tr>\n",
       "      <th>s09</th>\n",
       "      <td>70</td>\n",
       "    </tr>\n",
       "  </tbody>\n",
       "</table>\n",
       "</div>"
      ],
      "text/plain": [
       "             score\n",
       "participant       \n",
       "s01             60\n",
       "s01             74\n",
       "s02             63\n",
       "s03             63\n",
       "s03             71\n",
       "s05             77\n",
       "s05             88\n",
       "s06             82\n",
       "s06             87\n",
       "s07             63\n",
       "s07             68\n",
       "s08             90\n",
       "s08             80\n",
       "s09             65\n",
       "s09             70"
      ]
     },
     "execution_count": 33,
     "metadata": {},
     "output_type": "execute_result"
    }
   ],
   "source": [
    "s_combo"
   ]
  },
  {
   "cell_type": "code",
   "execution_count": 34,
   "metadata": {},
   "outputs": [
    {
     "data": {
      "image/png": "[encoded data removed]",
      "text/plain": [
       "<Figure size 432x288 with 1 Axes>"
      ]
     },
     "metadata": {
      "needs_background": "light"
     },
     "output_type": "display_data"
    }
   ],
   "source": [
    "#need to make g1 and g2 bars diff colors\n",
    "colors = list(islice(cycle(['red','blue','red','red','blue','red','blue','red','blue','red','blue','red','blue','red','blue']),None,len(s_combo)))\n",
    "#my_colors = list(islice(cycle(['b', 'r', 'g', 'y', 'k']), None, len(df)))\n",
    "s_combo_bar = s_combo.plot(kind='bar',color=colors)"
   ]
  },
  {
   "cell_type": "code",
   "execution_count": 35,
   "metadata": {},
   "outputs": [],
   "source": [
    "s_scores_1_mean = s_scores_1.mean()"
   ]
  },
  {
   "cell_type": "code",
   "execution_count": 36,
   "metadata": {},
   "outputs": [],
   "source": [
    "s_scores_1_std = s_scores_1.std()"
   ]
  },
  {
   "cell_type": "code",
   "execution_count": 37,
   "metadata": {},
   "outputs": [],
   "source": [
    "s_scores_2_mean = s_scores_2.mean()"
   ]
  },
  {
   "cell_type": "code",
   "execution_count": 38,
   "metadata": {},
   "outputs": [],
   "source": [
    "s_scores_2_std = s_scores_1.std()"
   ]
  },
  {
   "cell_type": "code",
   "execution_count": 39,
   "metadata": {},
   "outputs": [],
   "source": [
    "s_scores_2_std = s_scores_2.std()"
   ]
  },
  {
   "cell_type": "code",
   "execution_count": 40,
   "metadata": {},
   "outputs": [],
   "source": [
    "#does everyone do better in the second game? \n",
    "#does the player that did better in the first game always do better in the second game?"
   ]
  },
  {
   "cell_type": "code",
   "execution_count": 41,
   "metadata": {},
   "outputs": [],
   "source": [
    "#j_g1_scores = pd.DataFrame([j02_p1_g1_score, j02_p2_g1_score, j01_p1_g1_score, j01_p2_g1_score, j03_p1_g1_score, j03_p2_g1],index = ['j02_p1_g1_score', 'j02_p2_g1_score', 'jo1_p1_g1_score', 'j01_p2_g1_score', 'j03_p1_g1', 'j03_p2_g1'], columns=['score'])"
   ]
  },
  {
   "cell_type": "code",
   "execution_count": 42,
   "metadata": {},
   "outputs": [],
   "source": [
    "s_list = [s01,s02,s03,s05,s06,s07,s08,s09]"
   ]
  },
  {
   "cell_type": "code",
   "execution_count": 43,
   "metadata": {},
   "outputs": [
    {
     "name": "stderr",
     "output_type": "stream",
     "text": [
      "/Users/baryosef/anaconda3/lib/python3.7/site-packages/ipykernel_launcher.py:5: UserWarning: Boolean Series key will be reindexed to match DataFrame index.\n",
      "  \"\"\"\n",
      "/Users/baryosef/anaconda3/lib/python3.7/site-packages/ipykernel_launcher.py:6: UserWarning: Boolean Series key will be reindexed to match DataFrame index.\n",
      "  \n"
     ]
    }
   ],
   "source": [
    "s01_p1_g1, s01_p1_g2 = separate_df(s01, 's')\n",
    "s02_p1_g1, s02_p1_g2 = separate_df(s02, 's')\n",
    "s03_p1_g1, s03_p1_g2 = separate_df(s03, 's')\n",
    "s05_p1_g1, s05_p1_g2 = separate_df(s05, 's')\n",
    "s06_p1_g1, s06_p1_g2 = separate_df(s06, 's')\n",
    "s07_p1_g1, s07_p1_g2 = separate_df(s07, 's')\n",
    "s08_p1_g1, s08_p1_g2 = separate_df(s08, 's')\n",
    "s09_p1_g1, s09_p1_g2 = separate_df(s09, 's')"
   ]
  },
  {
   "cell_type": "code",
   "execution_count": 44,
   "metadata": {},
   "outputs": [],
   "source": [
    "s01_p1_g1_count = s01_p1_g1['probability'].value_counts(sort=False)\n",
    "s01_p1_g2_count = s01_p1_g2['probability'].value_counts(sort=False)\n",
    "s02_p1_g1_count = s02_p1_g1['probability'].value_counts(sort=False) #no second game\n",
    "s03_p1_g1_count = s03_p1_g1['probability'].value_counts(sort=False)\n",
    "s03_p1_g2_count = s03_p1_g2['probability'].value_counts(sort=False)\n",
    "s05_p1_g1_count = s05_p1_g1['probability'].value_counts(sort=False)\n",
    "s05_p1_g2_count = s05_p1_g2['probability'].value_counts(sort=False)\n",
    "s06_p1_g1_count = s06_p1_g1['probability'].value_counts(sort=False)\n",
    "s06_p1_g2_count = s06_p1_g2['probability'].value_counts(sort=False)\n",
    "s07_p1_g1_count = s07_p1_g1['probability'].value_counts(sort=False)\n",
    "s07_p1_g2_count = s07_p1_g2['probability'].value_counts(sort=False)\n",
    "s08_p1_g1_count = s08_p1_g1['probability'].value_counts(sort=False)\n",
    "s08_p1_g2_count = s08_p1_g2['probability'].value_counts(sort=False)\n",
    "s09_p1_g1_count = s09_p1_g1['probability'].value_counts(sort=False)\n",
    "s09_p1_g2_count = s09_p1_g2['probability'].value_counts(sort=False)"
   ]
  },
  {
   "cell_type": "code",
   "execution_count": 45,
   "metadata": {},
   "outputs": [
    {
     "data": {
      "text/plain": [
       "30    38\n",
       "60    43\n",
       "90    19\n",
       "Name: probability, dtype: int64"
      ]
     },
     "execution_count": 45,
     "metadata": {},
     "output_type": "execute_result"
    }
   ],
   "source": [
    "s01_p1_g1_count"
   ]
  },
  {
   "cell_type": "code",
   "execution_count": 46,
   "metadata": {},
   "outputs": [
    {
     "data": {
      "text/plain": [
       "30    23\n",
       "60    27\n",
       "90    50\n",
       "Name: probability, dtype: int64"
      ]
     },
     "execution_count": 46,
     "metadata": {},
     "output_type": "execute_result"
    }
   ],
   "source": [
    "s02_p1_g1_count"
   ]
  },
  {
   "cell_type": "code",
   "execution_count": 47,
   "metadata": {},
   "outputs": [
    {
     "data": {
      "text/plain": [
       "30    28\n",
       "60    38\n",
       "90    34\n",
       "Name: probability, dtype: int64"
      ]
     },
     "execution_count": 47,
     "metadata": {},
     "output_type": "execute_result"
    }
   ],
   "source": [
    "s03_p1_g1_count"
   ]
  },
  {
   "cell_type": "code",
   "execution_count": 48,
   "metadata": {},
   "outputs": [
    {
     "data": {
      "text/plain": [
       "30    11\n",
       "60    35\n",
       "90    54\n",
       "Name: probability, dtype: int64"
      ]
     },
     "execution_count": 48,
     "metadata": {},
     "output_type": "execute_result"
    }
   ],
   "source": [
    "s05_p1_g1_count"
   ]
  },
  {
   "cell_type": "code",
   "execution_count": 49,
   "metadata": {},
   "outputs": [
    {
     "data": {
      "text/plain": [
       "30    11\n",
       "60    13\n",
       "90    76\n",
       "Name: probability, dtype: int64"
      ]
     },
     "execution_count": 49,
     "metadata": {},
     "output_type": "execute_result"
    }
   ],
   "source": [
    "s06_p1_g1_count"
   ]
  },
  {
   "cell_type": "code",
   "execution_count": 50,
   "metadata": {},
   "outputs": [
    {
     "data": {
      "text/plain": [
       "30    25\n",
       "60    29\n",
       "90    46\n",
       "Name: probability, dtype: int64"
      ]
     },
     "execution_count": 50,
     "metadata": {},
     "output_type": "execute_result"
    }
   ],
   "source": [
    "s07_p1_g1_count"
   ]
  },
  {
   "cell_type": "code",
   "execution_count": 51,
   "metadata": {},
   "outputs": [
    {
     "data": {
      "text/plain": [
       "30     2\n",
       "60     6\n",
       "90    92\n",
       "Name: probability, dtype: int64"
      ]
     },
     "execution_count": 51,
     "metadata": {},
     "output_type": "execute_result"
    }
   ],
   "source": [
    "s08_p1_g1_count"
   ]
  },
  {
   "cell_type": "code",
   "execution_count": 52,
   "metadata": {},
   "outputs": [
    {
     "data": {
      "text/plain": [
       "30    17\n",
       "60    38\n",
       "90    45\n",
       "Name: probability, dtype: int64"
      ]
     },
     "execution_count": 52,
     "metadata": {},
     "output_type": "execute_result"
    }
   ],
   "source": [
    "s09_p1_g1_count"
   ]
  },
  {
   "cell_type": "code",
   "execution_count": 53,
   "metadata": {},
   "outputs": [],
   "source": [
    "s_g1_counts = pd.DataFrame([s01_p1_g1_count, s02_p1_g1_count, s03_p1_g1_count, \n",
    "                            s05_p1_g1_count, s06_p1_g1_count, s07_p1_g1_count, s08_p1_g1_count, s09_p1_g1_count],\n",
    "                          index=['s01_p1_g1_count', 's02_p1_g1_count', 's03_p1_g1_count', \n",
    "                            's05_p1_g1_count', 's06_p1_g1_count', 's07_p1_g1_count', 's08_p1_g1_count', 's09_p1_g1_count'])"
   ]
  },
  {
   "cell_type": "markdown",
   "metadata": {},
   "source": [
    "# Choices in G1 and G2"
   ]
  },
  {
   "cell_type": "code",
   "execution_count": 54,
   "metadata": {},
   "outputs": [
    {
     "data": {
      "text/html": [
       "<div>\n",
       "<style scoped>\n",
       "    .dataframe tbody tr th:only-of-type {\n",
       "        vertical-align: middle;\n",
       "    }\n",
       "\n",
       "    .dataframe tbody tr th {\n",
       "        vertical-align: top;\n",
       "    }\n",
       "\n",
       "    .dataframe thead th {\n",
       "        text-align: right;\n",
       "    }\n",
       "</style>\n",
       "<table border=\"1\" class=\"dataframe\">\n",
       "  <thead>\n",
       "    <tr style=\"text-align: right;\">\n",
       "      <th></th>\n",
       "      <th>30</th>\n",
       "      <th>60</th>\n",
       "      <th>90</th>\n",
       "    </tr>\n",
       "  </thead>\n",
       "  <tbody>\n",
       "    <tr>\n",
       "      <th>s01_p1_g1_count</th>\n",
       "      <td>38</td>\n",
       "      <td>43</td>\n",
       "      <td>19</td>\n",
       "    </tr>\n",
       "    <tr>\n",
       "      <th>s02_p1_g1_count</th>\n",
       "      <td>23</td>\n",
       "      <td>27</td>\n",
       "      <td>50</td>\n",
       "    </tr>\n",
       "    <tr>\n",
       "      <th>s03_p1_g1_count</th>\n",
       "      <td>28</td>\n",
       "      <td>38</td>\n",
       "      <td>34</td>\n",
       "    </tr>\n",
       "    <tr>\n",
       "      <th>s05_p1_g1_count</th>\n",
       "      <td>11</td>\n",
       "      <td>35</td>\n",
       "      <td>54</td>\n",
       "    </tr>\n",
       "    <tr>\n",
       "      <th>s06_p1_g1_count</th>\n",
       "      <td>11</td>\n",
       "      <td>13</td>\n",
       "      <td>76</td>\n",
       "    </tr>\n",
       "    <tr>\n",
       "      <th>s07_p1_g1_count</th>\n",
       "      <td>25</td>\n",
       "      <td>29</td>\n",
       "      <td>46</td>\n",
       "    </tr>\n",
       "    <tr>\n",
       "      <th>s08_p1_g1_count</th>\n",
       "      <td>2</td>\n",
       "      <td>6</td>\n",
       "      <td>92</td>\n",
       "    </tr>\n",
       "    <tr>\n",
       "      <th>s09_p1_g1_count</th>\n",
       "      <td>17</td>\n",
       "      <td>38</td>\n",
       "      <td>45</td>\n",
       "    </tr>\n",
       "  </tbody>\n",
       "</table>\n",
       "</div>"
      ],
      "text/plain": [
       "                 30  60  90\n",
       "s01_p1_g1_count  38  43  19\n",
       "s02_p1_g1_count  23  27  50\n",
       "s03_p1_g1_count  28  38  34\n",
       "s05_p1_g1_count  11  35  54\n",
       "s06_p1_g1_count  11  13  76\n",
       "s07_p1_g1_count  25  29  46\n",
       "s08_p1_g1_count   2   6  92\n",
       "s09_p1_g1_count  17  38  45"
      ]
     },
     "execution_count": 54,
     "metadata": {},
     "output_type": "execute_result"
    }
   ],
   "source": [
    "s_g1_counts"
   ]
  },
  {
   "cell_type": "code",
   "execution_count": 55,
   "metadata": {},
   "outputs": [
    {
     "data": {
      "image/png": "[encoded data removed]",
      "text/plain": [
       "<Figure size 432x288 with 1 Axes>"
      ]
     },
     "metadata": {
      "needs_background": "light"
     },
     "output_type": "display_data"
    }
   ],
   "source": [
    "s_g1_counts_bar = s_g1_counts.plot.bar()"
   ]
  },
  {
   "cell_type": "code",
   "execution_count": 56,
   "metadata": {},
   "outputs": [],
   "source": [
    "s_g1_low = np.mean(s_g1_counts.iloc[:,0])"
   ]
  },
  {
   "cell_type": "code",
   "execution_count": 57,
   "metadata": {},
   "outputs": [],
   "source": [
    "s_g1_med = np.mean(s_g1_counts.iloc[:,1])"
   ]
  },
  {
   "cell_type": "code",
   "execution_count": 58,
   "metadata": {},
   "outputs": [],
   "source": [
    "s_g1_high = np.mean(s_g1_counts.iloc[:,2])"
   ]
  },
  {
   "cell_type": "code",
   "execution_count": 59,
   "metadata": {},
   "outputs": [],
   "source": [
    "s_g1_low_std = np.std(s_g1_counts.iloc[:,0])\n",
    "s_g1_med_std = np.std(s_g1_counts.iloc[:,1])\n",
    "s_g1_high_std = np.std(s_g1_counts.iloc[:,2])"
   ]
  },
  {
   "cell_type": "code",
   "execution_count": 60,
   "metadata": {},
   "outputs": [
    {
     "data": {
      "text/plain": [
       "19.375"
      ]
     },
     "execution_count": 60,
     "metadata": {},
     "output_type": "execute_result"
    }
   ],
   "source": [
    "s_g1_low"
   ]
  },
  {
   "cell_type": "code",
   "execution_count": 61,
   "metadata": {},
   "outputs": [
    {
     "data": {
      "text/plain": [
       "28.625"
      ]
     },
     "execution_count": 61,
     "metadata": {},
     "output_type": "execute_result"
    }
   ],
   "source": [
    "s_g1_med"
   ]
  },
  {
   "cell_type": "code",
   "execution_count": 62,
   "metadata": {},
   "outputs": [
    {
     "data": {
      "text/plain": [
       "52.0"
      ]
     },
     "execution_count": 62,
     "metadata": {},
     "output_type": "execute_result"
    }
   ],
   "source": [
    "s_g1_high"
   ]
  },
  {
   "cell_type": "code",
   "execution_count": 63,
   "metadata": {},
   "outputs": [],
   "source": [
    "s_g2_counts = pd.DataFrame([s01_p1_g2_count, s03_p1_g2_count, \n",
    "                            s05_p1_g2_count, s06_p1_g2_count, s07_p1_g2_count, s08_p1_g2_count, s09_p1_g2_count],\n",
    "                          index=['s01_p1_g2_count', 's03_p1_g2_count', \n",
    "                            's05_p1_g2_count', 's06_p1_g2_count', 's07_p1_g2_count', 's08_p1_g2_count', 's09_p1_g2_count'])"
   ]
  },
  {
   "cell_type": "code",
   "execution_count": 64,
   "metadata": {},
   "outputs": [
    {
     "data": {
      "text/html": [
       "<div>\n",
       "<style scoped>\n",
       "    .dataframe tbody tr th:only-of-type {\n",
       "        vertical-align: middle;\n",
       "    }\n",
       "\n",
       "    .dataframe tbody tr th {\n",
       "        vertical-align: top;\n",
       "    }\n",
       "\n",
       "    .dataframe thead th {\n",
       "        text-align: right;\n",
       "    }\n",
       "</style>\n",
       "<table border=\"1\" class=\"dataframe\">\n",
       "  <thead>\n",
       "    <tr style=\"text-align: right;\">\n",
       "      <th></th>\n",
       "      <th>30</th>\n",
       "      <th>60</th>\n",
       "      <th>90</th>\n",
       "    </tr>\n",
       "  </thead>\n",
       "  <tbody>\n",
       "    <tr>\n",
       "      <th>s01_p1_g2_count</th>\n",
       "      <td>38.0</td>\n",
       "      <td>16.0</td>\n",
       "      <td>46.0</td>\n",
       "    </tr>\n",
       "    <tr>\n",
       "      <th>s03_p1_g2_count</th>\n",
       "      <td>27.0</td>\n",
       "      <td>29.0</td>\n",
       "      <td>44.0</td>\n",
       "    </tr>\n",
       "    <tr>\n",
       "      <th>s05_p1_g2_count</th>\n",
       "      <td>11.0</td>\n",
       "      <td>NaN</td>\n",
       "      <td>89.0</td>\n",
       "    </tr>\n",
       "    <tr>\n",
       "      <th>s06_p1_g2_count</th>\n",
       "      <td>7.0</td>\n",
       "      <td>7.0</td>\n",
       "      <td>86.0</td>\n",
       "    </tr>\n",
       "    <tr>\n",
       "      <th>s07_p1_g2_count</th>\n",
       "      <td>18.0</td>\n",
       "      <td>32.0</td>\n",
       "      <td>50.0</td>\n",
       "    </tr>\n",
       "    <tr>\n",
       "      <th>s08_p1_g2_count</th>\n",
       "      <td>9.0</td>\n",
       "      <td>15.0</td>\n",
       "      <td>76.0</td>\n",
       "    </tr>\n",
       "    <tr>\n",
       "      <th>s09_p1_g2_count</th>\n",
       "      <td>14.0</td>\n",
       "      <td>37.0</td>\n",
       "      <td>49.0</td>\n",
       "    </tr>\n",
       "  </tbody>\n",
       "</table>\n",
       "</div>"
      ],
      "text/plain": [
       "                   30    60    90\n",
       "s01_p1_g2_count  38.0  16.0  46.0\n",
       "s03_p1_g2_count  27.0  29.0  44.0\n",
       "s05_p1_g2_count  11.0   NaN  89.0\n",
       "s06_p1_g2_count   7.0   7.0  86.0\n",
       "s07_p1_g2_count  18.0  32.0  50.0\n",
       "s08_p1_g2_count   9.0  15.0  76.0\n",
       "s09_p1_g2_count  14.0  37.0  49.0"
      ]
     },
     "execution_count": 64,
     "metadata": {},
     "output_type": "execute_result"
    }
   ],
   "source": [
    "s_g2_counts"
   ]
  },
  {
   "cell_type": "code",
   "execution_count": 65,
   "metadata": {},
   "outputs": [],
   "source": [
    "#maximizing and matching?"
   ]
  },
  {
   "cell_type": "code",
   "execution_count": 66,
   "metadata": {},
   "outputs": [
    {
     "data": {
      "image/png": "[encoded data removed]",
      "text/plain": [
       "<Figure size 432x288 with 1 Axes>"
      ]
     },
     "metadata": {
      "needs_background": "light"
     },
     "output_type": "display_data"
    }
   ],
   "source": [
    "s_g2_counts_bar = s_g2_counts.plot.bar()"
   ]
  },
  {
   "cell_type": "code",
   "execution_count": 67,
   "metadata": {},
   "outputs": [],
   "source": [
    "s_g2_low = np.mean(s_g2_counts.iloc[:,0])\n",
    "s_g2_med = np.mean(s_g2_counts.iloc[:,1])\n",
    "s_g2_high = np.mean(s_g2_counts.iloc[:,2])"
   ]
  },
  {
   "cell_type": "code",
   "execution_count": 68,
   "metadata": {},
   "outputs": [],
   "source": [
    "s_g2_low_std = np.std(s_g2_counts.iloc[:,0])\n",
    "s_g2_med_std = np.std(s_g2_counts.iloc[:,1])\n",
    "s_g2_high_std = np.std(s_g2_counts.iloc[:,2])"
   ]
  },
  {
   "cell_type": "code",
   "execution_count": 69,
   "metadata": {},
   "outputs": [
    {
     "data": {
      "text/plain": [
       "17.714285714285715"
      ]
     },
     "execution_count": 69,
     "metadata": {},
     "output_type": "execute_result"
    }
   ],
   "source": [
    "s_g2_low"
   ]
  },
  {
   "cell_type": "code",
   "execution_count": 70,
   "metadata": {},
   "outputs": [
    {
     "data": {
      "text/plain": [
       "22.666666666666668"
      ]
     },
     "execution_count": 70,
     "metadata": {},
     "output_type": "execute_result"
    }
   ],
   "source": [
    "s_g2_med"
   ]
  },
  {
   "cell_type": "code",
   "execution_count": 71,
   "metadata": {},
   "outputs": [
    {
     "data": {
      "text/plain": [
       "62.857142857142854"
      ]
     },
     "execution_count": 71,
     "metadata": {},
     "output_type": "execute_result"
    }
   ],
   "source": [
    "s_g2_high"
   ]
  },
  {
   "cell_type": "markdown",
   "metadata": {},
   "source": [
    "# Joint Analysis"
   ]
  },
  {
   "cell_type": "code",
   "execution_count": 72,
   "metadata": {},
   "outputs": [
    {
     "data": {
      "text/html": [
       "<div>\n",
       "<style scoped>\n",
       "    .dataframe tbody tr th:only-of-type {\n",
       "        vertical-align: middle;\n",
       "    }\n",
       "\n",
       "    .dataframe tbody tr th {\n",
       "        vertical-align: top;\n",
       "    }\n",
       "\n",
       "    .dataframe thead th {\n",
       "        text-align: right;\n",
       "    }\n",
       "</style>\n",
       "<table border=\"1\" class=\"dataframe\">\n",
       "  <thead>\n",
       "    <tr style=\"text-align: right;\">\n",
       "      <th></th>\n",
       "      <th>game number</th>\n",
       "      <th>trial</th>\n",
       "      <th>player</th>\n",
       "      <th>arm</th>\n",
       "      <th>probability</th>\n",
       "      <th>reward</th>\n",
       "      <th>time</th>\n",
       "      <th>P1 score</th>\n",
       "      <th>P2 score</th>\n",
       "    </tr>\n",
       "  </thead>\n",
       "  <tbody>\n",
       "    <tr>\n",
       "      <th>0</th>\n",
       "      <td>1</td>\n",
       "      <td>1</td>\n",
       "      <td>1</td>\n",
       "      <td>3</td>\n",
       "      <td>60</td>\n",
       "      <td>1</td>\n",
       "      <td>5.121547</td>\n",
       "      <td>1</td>\n",
       "      <td>0</td>\n",
       "    </tr>\n",
       "    <tr>\n",
       "      <th>1</th>\n",
       "      <td>1</td>\n",
       "      <td>1</td>\n",
       "      <td>2</td>\n",
       "      <td>3</td>\n",
       "      <td>60</td>\n",
       "      <td>1</td>\n",
       "      <td>10.059181</td>\n",
       "      <td>1</td>\n",
       "      <td>1</td>\n",
       "    </tr>\n",
       "    <tr>\n",
       "      <th>2</th>\n",
       "      <td>1</td>\n",
       "      <td>2</td>\n",
       "      <td>1</td>\n",
       "      <td>1</td>\n",
       "      <td>90</td>\n",
       "      <td>1</td>\n",
       "      <td>5.572331</td>\n",
       "      <td>2</td>\n",
       "      <td>1</td>\n",
       "    </tr>\n",
       "    <tr>\n",
       "      <th>3</th>\n",
       "      <td>1</td>\n",
       "      <td>2</td>\n",
       "      <td>2</td>\n",
       "      <td>2</td>\n",
       "      <td>90</td>\n",
       "      <td>1</td>\n",
       "      <td>9.317537</td>\n",
       "      <td>2</td>\n",
       "      <td>2</td>\n",
       "    </tr>\n",
       "    <tr>\n",
       "      <th>4</th>\n",
       "      <td>1</td>\n",
       "      <td>3</td>\n",
       "      <td>1</td>\n",
       "      <td>2</td>\n",
       "      <td>30</td>\n",
       "      <td>0</td>\n",
       "      <td>172.400421</td>\n",
       "      <td>2</td>\n",
       "      <td>2</td>\n",
       "    </tr>\n",
       "  </tbody>\n",
       "</table>\n",
       "</div>"
      ],
      "text/plain": [
       "   game number  trial  player  arm  probability  reward        time  P1 score  \\\n",
       "0            1      1       1    3           60       1    5.121547         1   \n",
       "1            1      1       2    3           60       1   10.059181         1   \n",
       "2            1      2       1    1           90       1    5.572331         2   \n",
       "3            1      2       2    2           90       1    9.317537         2   \n",
       "4            1      3       1    2           30       0  172.400421         2   \n",
       "\n",
       "   P2 score  \n",
       "0         0  \n",
       "1         1  \n",
       "2         1  \n",
       "3         2  \n",
       "4         2  "
      ]
     },
     "execution_count": 72,
     "metadata": {},
     "output_type": "execute_result"
    }
   ],
   "source": [
    "df = organize_trial_by_trial('data/j01_gamedata.csv')\n",
    "j01 = df\n",
    "j01_p1_g1_score,j01_p1_g2_score,j01_p2_g1_score,j01_p2_g2_score,j01_p1_diff,j01_p2_diff = call_get_score(j01, 'j')\n",
    "j01.head()"
   ]
  },
  {
   "cell_type": "code",
   "execution_count": 73,
   "metadata": {},
   "outputs": [
    {
     "data": {
      "text/html": [
       "<div>\n",
       "<style scoped>\n",
       "    .dataframe tbody tr th:only-of-type {\n",
       "        vertical-align: middle;\n",
       "    }\n",
       "\n",
       "    .dataframe tbody tr th {\n",
       "        vertical-align: top;\n",
       "    }\n",
       "\n",
       "    .dataframe thead th {\n",
       "        text-align: right;\n",
       "    }\n",
       "</style>\n",
       "<table border=\"1\" class=\"dataframe\">\n",
       "  <thead>\n",
       "    <tr style=\"text-align: right;\">\n",
       "      <th></th>\n",
       "      <th>game number</th>\n",
       "      <th>trial</th>\n",
       "      <th>player</th>\n",
       "      <th>arm</th>\n",
       "      <th>probability</th>\n",
       "      <th>reward</th>\n",
       "      <th>time</th>\n",
       "      <th>P1 score</th>\n",
       "      <th>P2 score</th>\n",
       "    </tr>\n",
       "  </thead>\n",
       "  <tbody>\n",
       "    <tr>\n",
       "      <th>0</th>\n",
       "      <td>1</td>\n",
       "      <td>1</td>\n",
       "      <td>1</td>\n",
       "      <td>3</td>\n",
       "      <td>30</td>\n",
       "      <td>0</td>\n",
       "      <td>8.298026</td>\n",
       "      <td>0</td>\n",
       "      <td>0</td>\n",
       "    </tr>\n",
       "    <tr>\n",
       "      <th>1</th>\n",
       "      <td>1</td>\n",
       "      <td>1</td>\n",
       "      <td>2</td>\n",
       "      <td>1</td>\n",
       "      <td>60</td>\n",
       "      <td>1</td>\n",
       "      <td>3.542303</td>\n",
       "      <td>0</td>\n",
       "      <td>1</td>\n",
       "    </tr>\n",
       "    <tr>\n",
       "      <th>2</th>\n",
       "      <td>1</td>\n",
       "      <td>2</td>\n",
       "      <td>1</td>\n",
       "      <td>2</td>\n",
       "      <td>90</td>\n",
       "      <td>1</td>\n",
       "      <td>3.194470</td>\n",
       "      <td>1</td>\n",
       "      <td>1</td>\n",
       "    </tr>\n",
       "    <tr>\n",
       "      <th>3</th>\n",
       "      <td>1</td>\n",
       "      <td>2</td>\n",
       "      <td>2</td>\n",
       "      <td>3</td>\n",
       "      <td>90</td>\n",
       "      <td>1</td>\n",
       "      <td>3.182476</td>\n",
       "      <td>1</td>\n",
       "      <td>2</td>\n",
       "    </tr>\n",
       "    <tr>\n",
       "      <th>4</th>\n",
       "      <td>1</td>\n",
       "      <td>3</td>\n",
       "      <td>1</td>\n",
       "      <td>2</td>\n",
       "      <td>90</td>\n",
       "      <td>1</td>\n",
       "      <td>2.676718</td>\n",
       "      <td>2</td>\n",
       "      <td>2</td>\n",
       "    </tr>\n",
       "  </tbody>\n",
       "</table>\n",
       "</div>"
      ],
      "text/plain": [
       "   game number  trial  player  arm  probability  reward      time  P1 score  \\\n",
       "0            1      1       1    3           30       0  8.298026         0   \n",
       "1            1      1       2    1           60       1  3.542303         0   \n",
       "2            1      2       1    2           90       1  3.194470         1   \n",
       "3            1      2       2    3           90       1  3.182476         1   \n",
       "4            1      3       1    2           90       1  2.676718         2   \n",
       "\n",
       "   P2 score  \n",
       "0         0  \n",
       "1         1  \n",
       "2         1  \n",
       "3         2  \n",
       "4         2  "
      ]
     },
     "execution_count": 73,
     "metadata": {},
     "output_type": "execute_result"
    }
   ],
   "source": [
    "df = organize_trial_by_trial('data/j02_gamedata.csv')\n",
    "j02 = df\n",
    "j02_p1_g1_score,j02_p1_g2_score,j02_p2_g1_score,j02_p2_g2_score,j02_p1_diff,j02_p2_diff = call_get_score(j02, 'j')\n",
    "j02.head()"
   ]
  },
  {
   "cell_type": "code",
   "execution_count": 74,
   "metadata": {},
   "outputs": [
    {
     "data": {
      "text/html": [
       "<div>\n",
       "<style scoped>\n",
       "    .dataframe tbody tr th:only-of-type {\n",
       "        vertical-align: middle;\n",
       "    }\n",
       "\n",
       "    .dataframe tbody tr th {\n",
       "        vertical-align: top;\n",
       "    }\n",
       "\n",
       "    .dataframe thead th {\n",
       "        text-align: right;\n",
       "    }\n",
       "</style>\n",
       "<table border=\"1\" class=\"dataframe\">\n",
       "  <thead>\n",
       "    <tr style=\"text-align: right;\">\n",
       "      <th></th>\n",
       "      <th>game number</th>\n",
       "      <th>trial</th>\n",
       "      <th>player</th>\n",
       "      <th>arm</th>\n",
       "      <th>probability</th>\n",
       "      <th>reward</th>\n",
       "      <th>time</th>\n",
       "      <th>P1 score</th>\n",
       "      <th>P2 score</th>\n",
       "    </tr>\n",
       "  </thead>\n",
       "  <tbody>\n",
       "    <tr>\n",
       "      <th>0</th>\n",
       "      <td>1</td>\n",
       "      <td>1</td>\n",
       "      <td>1</td>\n",
       "      <td>2</td>\n",
       "      <td>90</td>\n",
       "      <td>1</td>\n",
       "      <td>80.800301</td>\n",
       "      <td>1</td>\n",
       "      <td>0</td>\n",
       "    </tr>\n",
       "    <tr>\n",
       "      <th>1</th>\n",
       "      <td>1</td>\n",
       "      <td>1</td>\n",
       "      <td>2</td>\n",
       "      <td>2</td>\n",
       "      <td>30</td>\n",
       "      <td>0</td>\n",
       "      <td>9.031185</td>\n",
       "      <td>1</td>\n",
       "      <td>0</td>\n",
       "    </tr>\n",
       "    <tr>\n",
       "      <th>2</th>\n",
       "      <td>1</td>\n",
       "      <td>2</td>\n",
       "      <td>1</td>\n",
       "      <td>3</td>\n",
       "      <td>30</td>\n",
       "      <td>1</td>\n",
       "      <td>3.031548</td>\n",
       "      <td>2</td>\n",
       "      <td>0</td>\n",
       "    </tr>\n",
       "    <tr>\n",
       "      <th>3</th>\n",
       "      <td>1</td>\n",
       "      <td>2</td>\n",
       "      <td>2</td>\n",
       "      <td>1</td>\n",
       "      <td>60</td>\n",
       "      <td>1</td>\n",
       "      <td>4.375411</td>\n",
       "      <td>2</td>\n",
       "      <td>1</td>\n",
       "    </tr>\n",
       "    <tr>\n",
       "      <th>4</th>\n",
       "      <td>1</td>\n",
       "      <td>3</td>\n",
       "      <td>1</td>\n",
       "      <td>2</td>\n",
       "      <td>90</td>\n",
       "      <td>1</td>\n",
       "      <td>5.156529</td>\n",
       "      <td>3</td>\n",
       "      <td>1</td>\n",
       "    </tr>\n",
       "  </tbody>\n",
       "</table>\n",
       "</div>"
      ],
      "text/plain": [
       "   game number  trial  player  arm  probability  reward       time  P1 score  \\\n",
       "0            1      1       1    2           90       1  80.800301         1   \n",
       "1            1      1       2    2           30       0   9.031185         1   \n",
       "2            1      2       1    3           30       1   3.031548         2   \n",
       "3            1      2       2    1           60       1   4.375411         2   \n",
       "4            1      3       1    2           90       1   5.156529         3   \n",
       "\n",
       "   P2 score  \n",
       "0         0  \n",
       "1         0  \n",
       "2         0  \n",
       "3         1  \n",
       "4         1  "
      ]
     },
     "execution_count": 74,
     "metadata": {},
     "output_type": "execute_result"
    }
   ],
   "source": [
    "df = organize_trial_by_trial('data/j03_gamedata.csv')\n",
    "j03 = df\n",
    "j03_p1_g1_score,j03_p1_g2_score,j03_p2_g1_score,j03_p2_g2_score,j03_p1_diff,j03_p2_diff = call_get_score(j03, 'j')\n",
    "j03.head()"
   ]
  },
  {
   "cell_type": "code",
   "execution_count": 75,
   "metadata": {},
   "outputs": [
    {
     "data": {
      "text/html": [
       "<div>\n",
       "<style scoped>\n",
       "    .dataframe tbody tr th:only-of-type {\n",
       "        vertical-align: middle;\n",
       "    }\n",
       "\n",
       "    .dataframe tbody tr th {\n",
       "        vertical-align: top;\n",
       "    }\n",
       "\n",
       "    .dataframe thead th {\n",
       "        text-align: right;\n",
       "    }\n",
       "</style>\n",
       "<table border=\"1\" class=\"dataframe\">\n",
       "  <thead>\n",
       "    <tr style=\"text-align: right;\">\n",
       "      <th></th>\n",
       "      <th>game number</th>\n",
       "      <th>trial</th>\n",
       "      <th>player</th>\n",
       "      <th>arm</th>\n",
       "      <th>probability</th>\n",
       "      <th>reward</th>\n",
       "      <th>time</th>\n",
       "      <th>P1 score</th>\n",
       "      <th>P2 score</th>\n",
       "    </tr>\n",
       "  </thead>\n",
       "  <tbody>\n",
       "    <tr>\n",
       "      <th>0</th>\n",
       "      <td>1</td>\n",
       "      <td>1</td>\n",
       "      <td>1</td>\n",
       "      <td>2</td>\n",
       "      <td>30</td>\n",
       "      <td>0</td>\n",
       "      <td>9.824295</td>\n",
       "      <td>0</td>\n",
       "      <td>0</td>\n",
       "    </tr>\n",
       "    <tr>\n",
       "      <th>1</th>\n",
       "      <td>1</td>\n",
       "      <td>1</td>\n",
       "      <td>2</td>\n",
       "      <td>2</td>\n",
       "      <td>90</td>\n",
       "      <td>0</td>\n",
       "      <td>3.709223</td>\n",
       "      <td>0</td>\n",
       "      <td>0</td>\n",
       "    </tr>\n",
       "    <tr>\n",
       "      <th>2</th>\n",
       "      <td>1</td>\n",
       "      <td>2</td>\n",
       "      <td>1</td>\n",
       "      <td>3</td>\n",
       "      <td>60</td>\n",
       "      <td>1</td>\n",
       "      <td>3.024550</td>\n",
       "      <td>1</td>\n",
       "      <td>0</td>\n",
       "    </tr>\n",
       "    <tr>\n",
       "      <th>3</th>\n",
       "      <td>1</td>\n",
       "      <td>2</td>\n",
       "      <td>2</td>\n",
       "      <td>2</td>\n",
       "      <td>90</td>\n",
       "      <td>1</td>\n",
       "      <td>2.635748</td>\n",
       "      <td>1</td>\n",
       "      <td>1</td>\n",
       "    </tr>\n",
       "    <tr>\n",
       "      <th>4</th>\n",
       "      <td>1</td>\n",
       "      <td>3</td>\n",
       "      <td>1</td>\n",
       "      <td>2</td>\n",
       "      <td>30</td>\n",
       "      <td>0</td>\n",
       "      <td>6.731772</td>\n",
       "      <td>1</td>\n",
       "      <td>1</td>\n",
       "    </tr>\n",
       "  </tbody>\n",
       "</table>\n",
       "</div>"
      ],
      "text/plain": [
       "   game number  trial  player  arm  probability  reward      time  P1 score  \\\n",
       "0            1      1       1    2           30       0  9.824295         0   \n",
       "1            1      1       2    2           90       0  3.709223         0   \n",
       "2            1      2       1    3           60       1  3.024550         1   \n",
       "3            1      2       2    2           90       1  2.635748         1   \n",
       "4            1      3       1    2           30       0  6.731772         1   \n",
       "\n",
       "   P2 score  \n",
       "0         0  \n",
       "1         0  \n",
       "2         0  \n",
       "3         1  \n",
       "4         1  "
      ]
     },
     "execution_count": 75,
     "metadata": {},
     "output_type": "execute_result"
    }
   ],
   "source": [
    "df = organize_trial_by_trial('data/j04_gamedata.csv')\n",
    "j04 = df\n",
    "j04_p1_g1_score,j04_p1_g2_score,j04_p2_g1_score,j04_p2_g2_score,j04_p1_diff,j04_p2_diff = call_get_score(j04, 'j')\n",
    "j04.head()"
   ]
  },
  {
   "cell_type": "code",
   "execution_count": 76,
   "metadata": {},
   "outputs": [
    {
     "data": {
      "text/html": [
       "<div>\n",
       "<style scoped>\n",
       "    .dataframe tbody tr th:only-of-type {\n",
       "        vertical-align: middle;\n",
       "    }\n",
       "\n",
       "    .dataframe tbody tr th {\n",
       "        vertical-align: top;\n",
       "    }\n",
       "\n",
       "    .dataframe thead th {\n",
       "        text-align: right;\n",
       "    }\n",
       "</style>\n",
       "<table border=\"1\" class=\"dataframe\">\n",
       "  <thead>\n",
       "    <tr style=\"text-align: right;\">\n",
       "      <th></th>\n",
       "      <th>game number</th>\n",
       "      <th>trial</th>\n",
       "      <th>player</th>\n",
       "      <th>arm</th>\n",
       "      <th>probability</th>\n",
       "      <th>reward</th>\n",
       "      <th>time</th>\n",
       "      <th>P1 score</th>\n",
       "      <th>P2 score</th>\n",
       "    </tr>\n",
       "  </thead>\n",
       "  <tbody>\n",
       "    <tr>\n",
       "      <th>0</th>\n",
       "      <td>1</td>\n",
       "      <td>1</td>\n",
       "      <td>1</td>\n",
       "      <td>2</td>\n",
       "      <td>90</td>\n",
       "      <td>1</td>\n",
       "      <td>11.781368</td>\n",
       "      <td>1</td>\n",
       "      <td>0</td>\n",
       "    </tr>\n",
       "    <tr>\n",
       "      <th>1</th>\n",
       "      <td>1</td>\n",
       "      <td>1</td>\n",
       "      <td>2</td>\n",
       "      <td>1</td>\n",
       "      <td>90</td>\n",
       "      <td>1</td>\n",
       "      <td>4.329930</td>\n",
       "      <td>1</td>\n",
       "      <td>1</td>\n",
       "    </tr>\n",
       "    <tr>\n",
       "      <th>2</th>\n",
       "      <td>1</td>\n",
       "      <td>2</td>\n",
       "      <td>1</td>\n",
       "      <td>3</td>\n",
       "      <td>60</td>\n",
       "      <td>1</td>\n",
       "      <td>11.137623</td>\n",
       "      <td>2</td>\n",
       "      <td>1</td>\n",
       "    </tr>\n",
       "    <tr>\n",
       "      <th>3</th>\n",
       "      <td>1</td>\n",
       "      <td>2</td>\n",
       "      <td>2</td>\n",
       "      <td>2</td>\n",
       "      <td>30</td>\n",
       "      <td>0</td>\n",
       "      <td>7.020643</td>\n",
       "      <td>2</td>\n",
       "      <td>1</td>\n",
       "    </tr>\n",
       "    <tr>\n",
       "      <th>4</th>\n",
       "      <td>1</td>\n",
       "      <td>3</td>\n",
       "      <td>1</td>\n",
       "      <td>1</td>\n",
       "      <td>30</td>\n",
       "      <td>0</td>\n",
       "      <td>2.390858</td>\n",
       "      <td>2</td>\n",
       "      <td>1</td>\n",
       "    </tr>\n",
       "  </tbody>\n",
       "</table>\n",
       "</div>"
      ],
      "text/plain": [
       "   game number  trial  player  arm  probability  reward       time  P1 score  \\\n",
       "0            1      1       1    2           90       1  11.781368         1   \n",
       "1            1      1       2    1           90       1   4.329930         1   \n",
       "2            1      2       1    3           60       1  11.137623         2   \n",
       "3            1      2       2    2           30       0   7.020643         2   \n",
       "4            1      3       1    1           30       0   2.390858         2   \n",
       "\n",
       "   P2 score  \n",
       "0         0  \n",
       "1         1  \n",
       "2         1  \n",
       "3         1  \n",
       "4         1  "
      ]
     },
     "execution_count": 76,
     "metadata": {},
     "output_type": "execute_result"
    }
   ],
   "source": [
    "df = organize_trial_by_trial('data/j05_gamedata.csv')\n",
    "j05 = df\n",
    "j05_p1_g1_score,j05_p1_g2_score,j05_p2_g1_score,j05_p2_g2_score,j05_p1_diff,j05_p2_diff = call_get_score(j05, 'j')\n",
    "j05.head()"
   ]
  },
  {
   "cell_type": "code",
   "execution_count": 77,
   "metadata": {},
   "outputs": [
    {
     "data": {
      "text/html": [
       "<div>\n",
       "<style scoped>\n",
       "    .dataframe tbody tr th:only-of-type {\n",
       "        vertical-align: middle;\n",
       "    }\n",
       "\n",
       "    .dataframe tbody tr th {\n",
       "        vertical-align: top;\n",
       "    }\n",
       "\n",
       "    .dataframe thead th {\n",
       "        text-align: right;\n",
       "    }\n",
       "</style>\n",
       "<table border=\"1\" class=\"dataframe\">\n",
       "  <thead>\n",
       "    <tr style=\"text-align: right;\">\n",
       "      <th></th>\n",
       "      <th>game number</th>\n",
       "      <th>trial</th>\n",
       "      <th>player</th>\n",
       "      <th>arm</th>\n",
       "      <th>probability</th>\n",
       "      <th>reward</th>\n",
       "      <th>time</th>\n",
       "      <th>P1 score</th>\n",
       "      <th>P2 score</th>\n",
       "    </tr>\n",
       "  </thead>\n",
       "  <tbody>\n",
       "    <tr>\n",
       "      <th>0</th>\n",
       "      <td>1</td>\n",
       "      <td>1</td>\n",
       "      <td>1</td>\n",
       "      <td>3</td>\n",
       "      <td>30</td>\n",
       "      <td>0</td>\n",
       "      <td>15.769461</td>\n",
       "      <td>0</td>\n",
       "      <td>0</td>\n",
       "    </tr>\n",
       "    <tr>\n",
       "      <th>1</th>\n",
       "      <td>1</td>\n",
       "      <td>1</td>\n",
       "      <td>2</td>\n",
       "      <td>2</td>\n",
       "      <td>60</td>\n",
       "      <td>1</td>\n",
       "      <td>6.990658</td>\n",
       "      <td>0</td>\n",
       "      <td>1</td>\n",
       "    </tr>\n",
       "    <tr>\n",
       "      <th>2</th>\n",
       "      <td>1</td>\n",
       "      <td>2</td>\n",
       "      <td>1</td>\n",
       "      <td>1</td>\n",
       "      <td>90</td>\n",
       "      <td>1</td>\n",
       "      <td>3.539307</td>\n",
       "      <td>1</td>\n",
       "      <td>1</td>\n",
       "    </tr>\n",
       "    <tr>\n",
       "      <th>3</th>\n",
       "      <td>1</td>\n",
       "      <td>2</td>\n",
       "      <td>2</td>\n",
       "      <td>3</td>\n",
       "      <td>90</td>\n",
       "      <td>1</td>\n",
       "      <td>3.229456</td>\n",
       "      <td>1</td>\n",
       "      <td>2</td>\n",
       "    </tr>\n",
       "    <tr>\n",
       "      <th>4</th>\n",
       "      <td>1</td>\n",
       "      <td>3</td>\n",
       "      <td>1</td>\n",
       "      <td>2</td>\n",
       "      <td>60</td>\n",
       "      <td>1</td>\n",
       "      <td>2.564774</td>\n",
       "      <td>2</td>\n",
       "      <td>2</td>\n",
       "    </tr>\n",
       "  </tbody>\n",
       "</table>\n",
       "</div>"
      ],
      "text/plain": [
       "   game number  trial  player  arm  probability  reward       time  P1 score  \\\n",
       "0            1      1       1    3           30       0  15.769461         0   \n",
       "1            1      1       2    2           60       1   6.990658         0   \n",
       "2            1      2       1    1           90       1   3.539307         1   \n",
       "3            1      2       2    3           90       1   3.229456         1   \n",
       "4            1      3       1    2           60       1   2.564774         2   \n",
       "\n",
       "   P2 score  \n",
       "0         0  \n",
       "1         1  \n",
       "2         1  \n",
       "3         2  \n",
       "4         2  "
      ]
     },
     "execution_count": 77,
     "metadata": {},
     "output_type": "execute_result"
    }
   ],
   "source": [
    "df = organize_trial_by_trial('data/j06_gamedata.csv')\n",
    "j06 = df\n",
    "j06_p1_g1_score,j06_p1_g2_score,j06_p2_g1_score,j06_p2_g2_score,j06_p1_diff,j06_p2_diff = call_get_score(j06, 'j')\n",
    "j06.head()"
   ]
  },
  {
   "cell_type": "code",
   "execution_count": 78,
   "metadata": {},
   "outputs": [
    {
     "data": {
      "text/html": [
       "<div>\n",
       "<style scoped>\n",
       "    .dataframe tbody tr th:only-of-type {\n",
       "        vertical-align: middle;\n",
       "    }\n",
       "\n",
       "    .dataframe tbody tr th {\n",
       "        vertical-align: top;\n",
       "    }\n",
       "\n",
       "    .dataframe thead th {\n",
       "        text-align: right;\n",
       "    }\n",
       "</style>\n",
       "<table border=\"1\" class=\"dataframe\">\n",
       "  <thead>\n",
       "    <tr style=\"text-align: right;\">\n",
       "      <th></th>\n",
       "      <th>game number</th>\n",
       "      <th>trial</th>\n",
       "      <th>player</th>\n",
       "      <th>arm</th>\n",
       "      <th>probability</th>\n",
       "      <th>reward</th>\n",
       "      <th>time</th>\n",
       "      <th>P1 score</th>\n",
       "      <th>P2 score</th>\n",
       "    </tr>\n",
       "  </thead>\n",
       "  <tbody>\n",
       "    <tr>\n",
       "      <th>0</th>\n",
       "      <td>1</td>\n",
       "      <td>1</td>\n",
       "      <td>1</td>\n",
       "      <td>2</td>\n",
       "      <td>60</td>\n",
       "      <td>1</td>\n",
       "      <td>14.161229</td>\n",
       "      <td>1</td>\n",
       "      <td>0</td>\n",
       "    </tr>\n",
       "    <tr>\n",
       "      <th>1</th>\n",
       "      <td>1</td>\n",
       "      <td>1</td>\n",
       "      <td>2</td>\n",
       "      <td>3</td>\n",
       "      <td>30</td>\n",
       "      <td>0</td>\n",
       "      <td>7.531399</td>\n",
       "      <td>1</td>\n",
       "      <td>0</td>\n",
       "    </tr>\n",
       "    <tr>\n",
       "      <th>2</th>\n",
       "      <td>1</td>\n",
       "      <td>2</td>\n",
       "      <td>1</td>\n",
       "      <td>1</td>\n",
       "      <td>30</td>\n",
       "      <td>0</td>\n",
       "      <td>4.872670</td>\n",
       "      <td>1</td>\n",
       "      <td>0</td>\n",
       "    </tr>\n",
       "    <tr>\n",
       "      <th>3</th>\n",
       "      <td>1</td>\n",
       "      <td>2</td>\n",
       "      <td>2</td>\n",
       "      <td>2</td>\n",
       "      <td>60</td>\n",
       "      <td>1</td>\n",
       "      <td>3.163488</td>\n",
       "      <td>1</td>\n",
       "      <td>1</td>\n",
       "    </tr>\n",
       "    <tr>\n",
       "      <th>4</th>\n",
       "      <td>1</td>\n",
       "      <td>3</td>\n",
       "      <td>1</td>\n",
       "      <td>3</td>\n",
       "      <td>90</td>\n",
       "      <td>1</td>\n",
       "      <td>5.052585</td>\n",
       "      <td>2</td>\n",
       "      <td>1</td>\n",
       "    </tr>\n",
       "  </tbody>\n",
       "</table>\n",
       "</div>"
      ],
      "text/plain": [
       "   game number  trial  player  arm  probability  reward       time  P1 score  \\\n",
       "0            1      1       1    2           60       1  14.161229         1   \n",
       "1            1      1       2    3           30       0   7.531399         1   \n",
       "2            1      2       1    1           30       0   4.872670         1   \n",
       "3            1      2       2    2           60       1   3.163488         1   \n",
       "4            1      3       1    3           90       1   5.052585         2   \n",
       "\n",
       "   P2 score  \n",
       "0         0  \n",
       "1         0  \n",
       "2         0  \n",
       "3         1  \n",
       "4         1  "
      ]
     },
     "execution_count": 78,
     "metadata": {},
     "output_type": "execute_result"
    }
   ],
   "source": [
    "df = organize_trial_by_trial('data/j07_gamedata.csv')\n",
    "j07 = df\n",
    "j07_p1_g1_score,j07_p1_g2_score,j07_p2_g1_score,j07_p2_g2_score,j07_p1_diff,j07_p2_diff = call_get_score(j07, 'j')\n",
    "j07.head()"
   ]
  },
  {
   "cell_type": "code",
   "execution_count": 79,
   "metadata": {},
   "outputs": [
    {
     "data": {
      "text/html": [
       "<div>\n",
       "<style scoped>\n",
       "    .dataframe tbody tr th:only-of-type {\n",
       "        vertical-align: middle;\n",
       "    }\n",
       "\n",
       "    .dataframe tbody tr th {\n",
       "        vertical-align: top;\n",
       "    }\n",
       "\n",
       "    .dataframe thead th {\n",
       "        text-align: right;\n",
       "    }\n",
       "</style>\n",
       "<table border=\"1\" class=\"dataframe\">\n",
       "  <thead>\n",
       "    <tr style=\"text-align: right;\">\n",
       "      <th></th>\n",
       "      <th>game number</th>\n",
       "      <th>trial</th>\n",
       "      <th>player</th>\n",
       "      <th>arm</th>\n",
       "      <th>probability</th>\n",
       "      <th>reward</th>\n",
       "      <th>time</th>\n",
       "      <th>P1 score</th>\n",
       "      <th>P2 score</th>\n",
       "    </tr>\n",
       "  </thead>\n",
       "  <tbody>\n",
       "    <tr>\n",
       "      <th>0</th>\n",
       "      <td>1</td>\n",
       "      <td>1</td>\n",
       "      <td>1</td>\n",
       "      <td>3</td>\n",
       "      <td>60</td>\n",
       "      <td>1</td>\n",
       "      <td>3.760202</td>\n",
       "      <td>1</td>\n",
       "      <td>0</td>\n",
       "    </tr>\n",
       "    <tr>\n",
       "      <th>1</th>\n",
       "      <td>1</td>\n",
       "      <td>1</td>\n",
       "      <td>2</td>\n",
       "      <td>2</td>\n",
       "      <td>30</td>\n",
       "      <td>0</td>\n",
       "      <td>4.963627</td>\n",
       "      <td>1</td>\n",
       "      <td>0</td>\n",
       "    </tr>\n",
       "    <tr>\n",
       "      <th>2</th>\n",
       "      <td>1</td>\n",
       "      <td>2</td>\n",
       "      <td>1</td>\n",
       "      <td>3</td>\n",
       "      <td>60</td>\n",
       "      <td>1</td>\n",
       "      <td>2.788667</td>\n",
       "      <td>2</td>\n",
       "      <td>0</td>\n",
       "    </tr>\n",
       "    <tr>\n",
       "      <th>3</th>\n",
       "      <td>1</td>\n",
       "      <td>2</td>\n",
       "      <td>2</td>\n",
       "      <td>1</td>\n",
       "      <td>90</td>\n",
       "      <td>1</td>\n",
       "      <td>3.580288</td>\n",
       "      <td>2</td>\n",
       "      <td>1</td>\n",
       "    </tr>\n",
       "    <tr>\n",
       "      <th>4</th>\n",
       "      <td>1</td>\n",
       "      <td>3</td>\n",
       "      <td>1</td>\n",
       "      <td>3</td>\n",
       "      <td>60</td>\n",
       "      <td>1</td>\n",
       "      <td>3.108514</td>\n",
       "      <td>3</td>\n",
       "      <td>1</td>\n",
       "    </tr>\n",
       "  </tbody>\n",
       "</table>\n",
       "</div>"
      ],
      "text/plain": [
       "   game number  trial  player  arm  probability  reward      time  P1 score  \\\n",
       "0            1      1       1    3           60       1  3.760202         1   \n",
       "1            1      1       2    2           30       0  4.963627         1   \n",
       "2            1      2       1    3           60       1  2.788667         2   \n",
       "3            1      2       2    1           90       1  3.580288         2   \n",
       "4            1      3       1    3           60       1  3.108514         3   \n",
       "\n",
       "   P2 score  \n",
       "0         0  \n",
       "1         0  \n",
       "2         0  \n",
       "3         1  \n",
       "4         1  "
      ]
     },
     "execution_count": 79,
     "metadata": {},
     "output_type": "execute_result"
    }
   ],
   "source": [
    "df = organize_trial_by_trial('data/j08_gamedata.csv')\n",
    "j08 = df\n",
    "j08_p1_g1_score,j08_p1_g2_score,j08_p2_g1_score,j08_p2_g2_score,j08_p1_diff,j08_p2_diff = call_get_score(j08, 'j')\n",
    "j08.head()"
   ]
  },
  {
   "cell_type": "markdown",
   "metadata": {},
   "source": [
    "# Scores in G1 and G2"
   ]
  },
  {
   "cell_type": "code",
   "execution_count": 207,
   "metadata": {},
   "outputs": [
    {
     "data": {
      "text/html": [
       "<div>\n",
       "<style scoped>\n",
       "    .dataframe tbody tr th:only-of-type {\n",
       "        vertical-align: middle;\n",
       "    }\n",
       "\n",
       "    .dataframe tbody tr th {\n",
       "        vertical-align: top;\n",
       "    }\n",
       "\n",
       "    .dataframe thead th {\n",
       "        text-align: right;\n",
       "    }\n",
       "</style>\n",
       "<table border=\"1\" class=\"dataframe\">\n",
       "  <thead>\n",
       "    <tr style=\"text-align: right;\">\n",
       "      <th></th>\n",
       "      <th>score</th>\n",
       "    </tr>\n",
       "    <tr>\n",
       "      <th>participant</th>\n",
       "      <th></th>\n",
       "    </tr>\n",
       "  </thead>\n",
       "  <tbody>\n",
       "    <tr>\n",
       "      <th>j01_p1_g1_score</th>\n",
       "      <td>57</td>\n",
       "    </tr>\n",
       "    <tr>\n",
       "      <th>j01_p2_g1_score</th>\n",
       "      <td>61</td>\n",
       "    </tr>\n",
       "    <tr>\n",
       "      <th>j02_p1_g1_score</th>\n",
       "      <td>54</td>\n",
       "    </tr>\n",
       "    <tr>\n",
       "      <th>j02_p2_g1_score</th>\n",
       "      <td>68</td>\n",
       "    </tr>\n",
       "    <tr>\n",
       "      <th>j03_p1_g1_score</th>\n",
       "      <td>69</td>\n",
       "    </tr>\n",
       "    <tr>\n",
       "      <th>j03_p2_g1_score</th>\n",
       "      <td>67</td>\n",
       "    </tr>\n",
       "    <tr>\n",
       "      <th>j04_p1_g1_score</th>\n",
       "      <td>64</td>\n",
       "    </tr>\n",
       "    <tr>\n",
       "      <th>j04_p2_g1_score</th>\n",
       "      <td>56</td>\n",
       "    </tr>\n",
       "    <tr>\n",
       "      <th>j05_p1_g1_score</th>\n",
       "      <td>77</td>\n",
       "    </tr>\n",
       "    <tr>\n",
       "      <th>j05_p2_g1_score</th>\n",
       "      <td>70</td>\n",
       "    </tr>\n",
       "    <tr>\n",
       "      <th>j06_p1_g1_score</th>\n",
       "      <td>54</td>\n",
       "    </tr>\n",
       "    <tr>\n",
       "      <th>j06_p2_g1_score</th>\n",
       "      <td>61</td>\n",
       "    </tr>\n",
       "    <tr>\n",
       "      <th>j07_p1_g1_score</th>\n",
       "      <td>74</td>\n",
       "    </tr>\n",
       "    <tr>\n",
       "      <th>j07_p2_g1_score</th>\n",
       "      <td>80</td>\n",
       "    </tr>\n",
       "    <tr>\n",
       "      <th>j08_p1_g1_score</th>\n",
       "      <td>60</td>\n",
       "    </tr>\n",
       "    <tr>\n",
       "      <th>j08_p2_g1_score</th>\n",
       "      <td>57</td>\n",
       "    </tr>\n",
       "  </tbody>\n",
       "</table>\n",
       "</div>"
      ],
      "text/plain": [
       "                 score\n",
       "participant           \n",
       "j01_p1_g1_score     57\n",
       "j01_p2_g1_score     61\n",
       "j02_p1_g1_score     54\n",
       "j02_p2_g1_score     68\n",
       "j03_p1_g1_score     69\n",
       "j03_p2_g1_score     67\n",
       "j04_p1_g1_score     64\n",
       "j04_p2_g1_score     56\n",
       "j05_p1_g1_score     77\n",
       "j05_p2_g1_score     70\n",
       "j06_p1_g1_score     54\n",
       "j06_p2_g1_score     61\n",
       "j07_p1_g1_score     74\n",
       "j07_p2_g1_score     80\n",
       "j08_p1_g1_score     60\n",
       "j08_p2_g1_score     57"
      ]
     },
     "execution_count": 207,
     "metadata": {},
     "output_type": "execute_result"
    }
   ],
   "source": [
    "j_scores_1 = pd.DataFrame({'participant':['j01_p1_g1_score','j01_p2_g1_score','j02_p1_g1_score','j02_p2_g1_score','j03_p1_g1_score','j03_p2_g1_score','j04_p1_g1_score',\n",
    "      'j04_p2_g1_score','j05_p1_g1_score','j05_p2_g1_score','j06_p1_g1_score','j06_p2_g1_score','j07_p1_g1_score','j07_p2_g1_score',\n",
    "      'j08_p1_g1_score', 'j08_p2_g1_score'], 'score':\n",
    "     [j01_p1_g1_score,j01_p2_g1_score,j02_p1_g1_score,j02_p2_g1_score,j03_p1_g1_score,j03_p2_g1_score,j04_p1_g1_score,\n",
    "      j04_p2_g1_score,j05_p1_g1_score,j05_p2_g1_score,j06_p1_g1_score,j06_p2_g1_score,j07_p1_g1_score,j07_p2_g1_score,\n",
    "      j08_p1_g1_score, j08_p2_g1_score]})\n",
    "j_scores_1.set_index('participant', inplace=True, drop=True)\n",
    "j_scores_2 = pd.DataFrame({'participant':['j01_p1_g2_score','j01_p2_g2_score','j02_p1_g2_score','j02_p2_g2_score','j03_p1_g2_score','j03_p2_g2_score','j04_p1_g2_score',\n",
    "      'j04_p2_g2_score','j05_p1_g2_score','j05_p2_g2_score','j06_p1_g2_score','j06_p2_g2_score','j07_p1_g2_score','j07_p2_g2_score',\n",
    "      'j08_p1_g2_score', 'j08_p2_g2_score'], 'score':\n",
    "     [j01_p1_g2_score,j01_p2_g2_score,j02_p1_g2_score,j02_p2_g2_score,j03_p1_g2_score,j03_p2_g2_score,j04_p1_g2_score,\n",
    "      j04_p2_g2_score,j05_p1_g2_score,j05_p2_g2_score,j06_p1_g2_score,j06_p2_g2_score,j07_p1_g2_score,j07_p2_g2_score,\n",
    "      j08_p1_g2_score, j08_p2_g2_score]})\n",
    "j_scores_2.set_index('participant', inplace=True, drop=True)\n",
    "#s_scores_1 = pd.DataFrame(data = d1)\n",
    "#s_scores_2 = pd.DataFrame(data = d2)\n",
    "j_scores_1"
   ]
  },
  {
   "cell_type": "code",
   "execution_count": 208,
   "metadata": {},
   "outputs": [
    {
     "data": {
      "text/html": [
       "<div>\n",
       "<style scoped>\n",
       "    .dataframe tbody tr th:only-of-type {\n",
       "        vertical-align: middle;\n",
       "    }\n",
       "\n",
       "    .dataframe tbody tr th {\n",
       "        vertical-align: top;\n",
       "    }\n",
       "\n",
       "    .dataframe thead th {\n",
       "        text-align: right;\n",
       "    }\n",
       "</style>\n",
       "<table border=\"1\" class=\"dataframe\">\n",
       "  <thead>\n",
       "    <tr style=\"text-align: right;\">\n",
       "      <th></th>\n",
       "      <th>score</th>\n",
       "    </tr>\n",
       "    <tr>\n",
       "      <th>participant</th>\n",
       "      <th></th>\n",
       "    </tr>\n",
       "  </thead>\n",
       "  <tbody>\n",
       "    <tr>\n",
       "      <th>j01_p1_g2_score</th>\n",
       "      <td>73</td>\n",
       "    </tr>\n",
       "    <tr>\n",
       "      <th>j01_p2_g2_score</th>\n",
       "      <td>60</td>\n",
       "    </tr>\n",
       "    <tr>\n",
       "      <th>j02_p1_g2_score</th>\n",
       "      <td>72</td>\n",
       "    </tr>\n",
       "    <tr>\n",
       "      <th>j02_p2_g2_score</th>\n",
       "      <td>76</td>\n",
       "    </tr>\n",
       "    <tr>\n",
       "      <th>j03_p1_g2_score</th>\n",
       "      <td>82</td>\n",
       "    </tr>\n",
       "    <tr>\n",
       "      <th>j03_p2_g2_score</th>\n",
       "      <td>75</td>\n",
       "    </tr>\n",
       "    <tr>\n",
       "      <th>j04_p1_g2_score</th>\n",
       "      <td>60</td>\n",
       "    </tr>\n",
       "    <tr>\n",
       "      <th>j04_p2_g2_score</th>\n",
       "      <td>54</td>\n",
       "    </tr>\n",
       "    <tr>\n",
       "      <th>j05_p1_g2_score</th>\n",
       "      <td>70</td>\n",
       "    </tr>\n",
       "    <tr>\n",
       "      <th>j05_p2_g2_score</th>\n",
       "      <td>78</td>\n",
       "    </tr>\n",
       "    <tr>\n",
       "      <th>j06_p1_g2_score</th>\n",
       "      <td>76</td>\n",
       "    </tr>\n",
       "    <tr>\n",
       "      <th>j06_p2_g2_score</th>\n",
       "      <td>75</td>\n",
       "    </tr>\n",
       "    <tr>\n",
       "      <th>j07_p1_g2_score</th>\n",
       "      <td>84</td>\n",
       "    </tr>\n",
       "    <tr>\n",
       "      <th>j07_p2_g2_score</th>\n",
       "      <td>74</td>\n",
       "    </tr>\n",
       "    <tr>\n",
       "      <th>j08_p1_g2_score</th>\n",
       "      <td>83</td>\n",
       "    </tr>\n",
       "    <tr>\n",
       "      <th>j08_p2_g2_score</th>\n",
       "      <td>71</td>\n",
       "    </tr>\n",
       "  </tbody>\n",
       "</table>\n",
       "</div>"
      ],
      "text/plain": [
       "                 score\n",
       "participant           \n",
       "j01_p1_g2_score     73\n",
       "j01_p2_g2_score     60\n",
       "j02_p1_g2_score     72\n",
       "j02_p2_g2_score     76\n",
       "j03_p1_g2_score     82\n",
       "j03_p2_g2_score     75\n",
       "j04_p1_g2_score     60\n",
       "j04_p2_g2_score     54\n",
       "j05_p1_g2_score     70\n",
       "j05_p2_g2_score     78\n",
       "j06_p1_g2_score     76\n",
       "j06_p2_g2_score     75\n",
       "j07_p1_g2_score     84\n",
       "j07_p2_g2_score     74\n",
       "j08_p1_g2_score     83\n",
       "j08_p2_g2_score     71"
      ]
     },
     "execution_count": 208,
     "metadata": {},
     "output_type": "execute_result"
    }
   ],
   "source": [
    "j_scores_2"
   ]
  },
  {
   "cell_type": "code",
   "execution_count": 82,
   "metadata": {},
   "outputs": [],
   "source": [
    "j_scores_1_mean = j_scores_1.mean()"
   ]
  },
  {
   "cell_type": "code",
   "execution_count": 83,
   "metadata": {},
   "outputs": [],
   "source": [
    "j_scores_1_std = j_scores_1.std()"
   ]
  },
  {
   "cell_type": "code",
   "execution_count": 84,
   "metadata": {},
   "outputs": [],
   "source": [
    "j_scores_2_mean = j_scores_2.mean()"
   ]
  },
  {
   "cell_type": "code",
   "execution_count": 85,
   "metadata": {},
   "outputs": [],
   "source": [
    "j_scores_2_std = j_scores_2.std()"
   ]
  },
  {
   "cell_type": "code",
   "execution_count": 86,
   "metadata": {},
   "outputs": [],
   "source": [
    "#combine g1 and g2 to one dataframe\n",
    "j_combo = j_scores_1.append(j_scores_2)"
   ]
  },
  {
   "cell_type": "code",
   "execution_count": 87,
   "metadata": {},
   "outputs": [
    {
     "data": {
      "text/html": [
       "<div>\n",
       "<style scoped>\n",
       "    .dataframe tbody tr th:only-of-type {\n",
       "        vertical-align: middle;\n",
       "    }\n",
       "\n",
       "    .dataframe tbody tr th {\n",
       "        vertical-align: top;\n",
       "    }\n",
       "\n",
       "    .dataframe thead th {\n",
       "        text-align: right;\n",
       "    }\n",
       "</style>\n",
       "<table border=\"1\" class=\"dataframe\">\n",
       "  <thead>\n",
       "    <tr style=\"text-align: right;\">\n",
       "      <th></th>\n",
       "      <th>score</th>\n",
       "    </tr>\n",
       "    <tr>\n",
       "      <th>participant</th>\n",
       "      <th></th>\n",
       "    </tr>\n",
       "  </thead>\n",
       "  <tbody>\n",
       "    <tr>\n",
       "      <th>j01_p1_g1_score</th>\n",
       "      <td>57</td>\n",
       "    </tr>\n",
       "    <tr>\n",
       "      <th>j01_p2_g1_score</th>\n",
       "      <td>61</td>\n",
       "    </tr>\n",
       "    <tr>\n",
       "      <th>j02_p1_g1_score</th>\n",
       "      <td>54</td>\n",
       "    </tr>\n",
       "    <tr>\n",
       "      <th>j02_p2_g1_score</th>\n",
       "      <td>68</td>\n",
       "    </tr>\n",
       "    <tr>\n",
       "      <th>j03_p1_g1_score</th>\n",
       "      <td>69</td>\n",
       "    </tr>\n",
       "    <tr>\n",
       "      <th>j03_p2_g1_score</th>\n",
       "      <td>67</td>\n",
       "    </tr>\n",
       "    <tr>\n",
       "      <th>j04_p1_g1_score</th>\n",
       "      <td>64</td>\n",
       "    </tr>\n",
       "    <tr>\n",
       "      <th>j04_p2_g1_score</th>\n",
       "      <td>56</td>\n",
       "    </tr>\n",
       "    <tr>\n",
       "      <th>j05_p1_g1_score</th>\n",
       "      <td>77</td>\n",
       "    </tr>\n",
       "    <tr>\n",
       "      <th>j05_p2_g1_score</th>\n",
       "      <td>70</td>\n",
       "    </tr>\n",
       "    <tr>\n",
       "      <th>j06_p1_g1_score</th>\n",
       "      <td>54</td>\n",
       "    </tr>\n",
       "    <tr>\n",
       "      <th>j06_p2_g1_score</th>\n",
       "      <td>61</td>\n",
       "    </tr>\n",
       "    <tr>\n",
       "      <th>j07_p1_g1_score</th>\n",
       "      <td>74</td>\n",
       "    </tr>\n",
       "    <tr>\n",
       "      <th>j07_p2_g1_score</th>\n",
       "      <td>80</td>\n",
       "    </tr>\n",
       "    <tr>\n",
       "      <th>j08_p1_g1_score</th>\n",
       "      <td>60</td>\n",
       "    </tr>\n",
       "    <tr>\n",
       "      <th>j08_p2_g1_score</th>\n",
       "      <td>57</td>\n",
       "    </tr>\n",
       "    <tr>\n",
       "      <th>j01_p1_g2_score</th>\n",
       "      <td>73</td>\n",
       "    </tr>\n",
       "    <tr>\n",
       "      <th>j01_p2_g2_score</th>\n",
       "      <td>60</td>\n",
       "    </tr>\n",
       "    <tr>\n",
       "      <th>j02_p1_g2_score</th>\n",
       "      <td>72</td>\n",
       "    </tr>\n",
       "    <tr>\n",
       "      <th>j02_p2_g2_score</th>\n",
       "      <td>76</td>\n",
       "    </tr>\n",
       "    <tr>\n",
       "      <th>j03_p1_g2_score</th>\n",
       "      <td>82</td>\n",
       "    </tr>\n",
       "    <tr>\n",
       "      <th>j03_p2_g2_score</th>\n",
       "      <td>75</td>\n",
       "    </tr>\n",
       "    <tr>\n",
       "      <th>j04_p1_g2_score</th>\n",
       "      <td>60</td>\n",
       "    </tr>\n",
       "    <tr>\n",
       "      <th>j04_p2_g2_score</th>\n",
       "      <td>54</td>\n",
       "    </tr>\n",
       "    <tr>\n",
       "      <th>j05_p1_g2_score</th>\n",
       "      <td>70</td>\n",
       "    </tr>\n",
       "    <tr>\n",
       "      <th>j05_p2_g2_score</th>\n",
       "      <td>78</td>\n",
       "    </tr>\n",
       "    <tr>\n",
       "      <th>j06_p1_g2_score</th>\n",
       "      <td>76</td>\n",
       "    </tr>\n",
       "    <tr>\n",
       "      <th>j06_p2_g2_score</th>\n",
       "      <td>75</td>\n",
       "    </tr>\n",
       "    <tr>\n",
       "      <th>j07_p1_g2_score</th>\n",
       "      <td>84</td>\n",
       "    </tr>\n",
       "    <tr>\n",
       "      <th>j07_p2_g2_score</th>\n",
       "      <td>74</td>\n",
       "    </tr>\n",
       "    <tr>\n",
       "      <th>j08_p1_g2_score</th>\n",
       "      <td>83</td>\n",
       "    </tr>\n",
       "    <tr>\n",
       "      <th>j08_p2_g2_score</th>\n",
       "      <td>71</td>\n",
       "    </tr>\n",
       "  </tbody>\n",
       "</table>\n",
       "</div>"
      ],
      "text/plain": [
       "                 score\n",
       "participant           \n",
       "j01_p1_g1_score     57\n",
       "j01_p2_g1_score     61\n",
       "j02_p1_g1_score     54\n",
       "j02_p2_g1_score     68\n",
       "j03_p1_g1_score     69\n",
       "j03_p2_g1_score     67\n",
       "j04_p1_g1_score     64\n",
       "j04_p2_g1_score     56\n",
       "j05_p1_g1_score     77\n",
       "j05_p2_g1_score     70\n",
       "j06_p1_g1_score     54\n",
       "j06_p2_g1_score     61\n",
       "j07_p1_g1_score     74\n",
       "j07_p2_g1_score     80\n",
       "j08_p1_g1_score     60\n",
       "j08_p2_g1_score     57\n",
       "j01_p1_g2_score     73\n",
       "j01_p2_g2_score     60\n",
       "j02_p1_g2_score     72\n",
       "j02_p2_g2_score     76\n",
       "j03_p1_g2_score     82\n",
       "j03_p2_g2_score     75\n",
       "j04_p1_g2_score     60\n",
       "j04_p2_g2_score     54\n",
       "j05_p1_g2_score     70\n",
       "j05_p2_g2_score     78\n",
       "j06_p1_g2_score     76\n",
       "j06_p2_g2_score     75\n",
       "j07_p1_g2_score     84\n",
       "j07_p2_g2_score     74\n",
       "j08_p1_g2_score     83\n",
       "j08_p2_g2_score     71"
      ]
     },
     "execution_count": 87,
     "metadata": {},
     "output_type": "execute_result"
    }
   ],
   "source": [
    "j_combo"
   ]
  },
  {
   "cell_type": "code",
   "execution_count": 88,
   "metadata": {},
   "outputs": [],
   "source": [
    "j_combo = j_combo.sort_values(by=['participant'])"
   ]
  },
  {
   "cell_type": "code",
   "execution_count": 89,
   "metadata": {},
   "outputs": [
    {
     "data": {
      "image/png": "[encoded data removed]",
      "text/plain": [
       "<Figure size 432x288 with 1 Axes>"
      ]
     },
     "metadata": {
      "needs_background": "light"
     },
     "output_type": "display_data"
    }
   ],
   "source": [
    "j_combo_bar = j_combo.plot(kind='bar',color=colors)"
   ]
  },
  {
   "cell_type": "code",
   "execution_count": 90,
   "metadata": {},
   "outputs": [],
   "source": [
    "j_score_diff = pd.DataFrame({'participant':['j01_p1','j01_p2','j02_p1','j02_p2','j03_p1','j03_p2','j04_p1','j04_p2',\n",
    "                                          'j05_p1','j05_p2','j06_p1','j06_p2','j07_p1','j07_p2','j06_p1','j06_p2'], 'score_diff':\n",
    "     [j01_p1_diff,j01_p2_diff,j02_p1_diff,j02_p2_diff,j03_p1_diff,j03_p2_diff,j04_p1_diff,j04_p2_diff,\n",
    "     j05_p1_diff,j05_p2_diff,j06_p1_diff,j06_p2_diff,j07_p1_diff,j07_p2_diff,j08_p1_diff,j08_p2_diff]})"
   ]
  },
  {
   "cell_type": "code",
   "execution_count": 91,
   "metadata": {},
   "outputs": [
    {
     "data": {
      "text/html": [
       "<div>\n",
       "<style scoped>\n",
       "    .dataframe tbody tr th:only-of-type {\n",
       "        vertical-align: middle;\n",
       "    }\n",
       "\n",
       "    .dataframe tbody tr th {\n",
       "        vertical-align: top;\n",
       "    }\n",
       "\n",
       "    .dataframe thead th {\n",
       "        text-align: right;\n",
       "    }\n",
       "</style>\n",
       "<table border=\"1\" class=\"dataframe\">\n",
       "  <thead>\n",
       "    <tr style=\"text-align: right;\">\n",
       "      <th></th>\n",
       "      <th>participant</th>\n",
       "      <th>score_diff</th>\n",
       "    </tr>\n",
       "  </thead>\n",
       "  <tbody>\n",
       "    <tr>\n",
       "      <th>0</th>\n",
       "      <td>j01_p1</td>\n",
       "      <td>16</td>\n",
       "    </tr>\n",
       "    <tr>\n",
       "      <th>1</th>\n",
       "      <td>j01_p2</td>\n",
       "      <td>-1</td>\n",
       "    </tr>\n",
       "    <tr>\n",
       "      <th>2</th>\n",
       "      <td>j02_p1</td>\n",
       "      <td>18</td>\n",
       "    </tr>\n",
       "    <tr>\n",
       "      <th>3</th>\n",
       "      <td>j02_p2</td>\n",
       "      <td>8</td>\n",
       "    </tr>\n",
       "    <tr>\n",
       "      <th>4</th>\n",
       "      <td>j03_p1</td>\n",
       "      <td>13</td>\n",
       "    </tr>\n",
       "    <tr>\n",
       "      <th>5</th>\n",
       "      <td>j03_p2</td>\n",
       "      <td>8</td>\n",
       "    </tr>\n",
       "    <tr>\n",
       "      <th>6</th>\n",
       "      <td>j04_p1</td>\n",
       "      <td>-4</td>\n",
       "    </tr>\n",
       "    <tr>\n",
       "      <th>7</th>\n",
       "      <td>j04_p2</td>\n",
       "      <td>-2</td>\n",
       "    </tr>\n",
       "    <tr>\n",
       "      <th>8</th>\n",
       "      <td>j05_p1</td>\n",
       "      <td>-7</td>\n",
       "    </tr>\n",
       "    <tr>\n",
       "      <th>9</th>\n",
       "      <td>j05_p2</td>\n",
       "      <td>8</td>\n",
       "    </tr>\n",
       "    <tr>\n",
       "      <th>10</th>\n",
       "      <td>j06_p1</td>\n",
       "      <td>22</td>\n",
       "    </tr>\n",
       "    <tr>\n",
       "      <th>11</th>\n",
       "      <td>j06_p2</td>\n",
       "      <td>14</td>\n",
       "    </tr>\n",
       "    <tr>\n",
       "      <th>12</th>\n",
       "      <td>j07_p1</td>\n",
       "      <td>10</td>\n",
       "    </tr>\n",
       "    <tr>\n",
       "      <th>13</th>\n",
       "      <td>j07_p2</td>\n",
       "      <td>-6</td>\n",
       "    </tr>\n",
       "    <tr>\n",
       "      <th>14</th>\n",
       "      <td>j06_p1</td>\n",
       "      <td>23</td>\n",
       "    </tr>\n",
       "    <tr>\n",
       "      <th>15</th>\n",
       "      <td>j06_p2</td>\n",
       "      <td>14</td>\n",
       "    </tr>\n",
       "  </tbody>\n",
       "</table>\n",
       "</div>"
      ],
      "text/plain": [
       "   participant  score_diff\n",
       "0       j01_p1          16\n",
       "1       j01_p2          -1\n",
       "2       j02_p1          18\n",
       "3       j02_p2           8\n",
       "4       j03_p1          13\n",
       "5       j03_p2           8\n",
       "6       j04_p1          -4\n",
       "7       j04_p2          -2\n",
       "8       j05_p1          -7\n",
       "9       j05_p2           8\n",
       "10      j06_p1          22\n",
       "11      j06_p2          14\n",
       "12      j07_p1          10\n",
       "13      j07_p2          -6\n",
       "14      j06_p1          23\n",
       "15      j06_p2          14"
      ]
     },
     "execution_count": 91,
     "metadata": {},
     "output_type": "execute_result"
    }
   ],
   "source": [
    "j_score_diff"
   ]
  },
  {
   "cell_type": "code",
   "execution_count": 92,
   "metadata": {},
   "outputs": [],
   "source": [
    "#impairs learning?"
   ]
  },
  {
   "cell_type": "code",
   "execution_count": 93,
   "metadata": {},
   "outputs": [],
   "source": [
    "#pattern within sessions for score_diff?\n",
    "#5 ppl did worse second time; joint interfered with learning"
   ]
  },
  {
   "cell_type": "code",
   "execution_count": 94,
   "metadata": {},
   "outputs": [],
   "source": [
    "j_score_diff_mean = j_score_diff['score_diff'].mean()"
   ]
  },
  {
   "cell_type": "code",
   "execution_count": 95,
   "metadata": {},
   "outputs": [
    {
     "data": {
      "text/plain": [
       "8.375"
      ]
     },
     "execution_count": 95,
     "metadata": {},
     "output_type": "execute_result"
    }
   ],
   "source": [
    "j_score_diff_mean"
   ]
  },
  {
   "cell_type": "code",
   "execution_count": 96,
   "metadata": {},
   "outputs": [
    {
     "name": "stderr",
     "output_type": "stream",
     "text": [
      "/Users/baryosef/anaconda3/lib/python3.7/site-packages/ipykernel_launcher.py:5: UserWarning: Boolean Series key will be reindexed to match DataFrame index.\n",
      "  \"\"\"\n",
      "/Users/baryosef/anaconda3/lib/python3.7/site-packages/ipykernel_launcher.py:6: UserWarning: Boolean Series key will be reindexed to match DataFrame index.\n",
      "  \n",
      "/Users/baryosef/anaconda3/lib/python3.7/site-packages/ipykernel_launcher.py:10: UserWarning: Boolean Series key will be reindexed to match DataFrame index.\n",
      "  # Remove the CWD from sys.path while we load stuff.\n",
      "/Users/baryosef/anaconda3/lib/python3.7/site-packages/ipykernel_launcher.py:11: UserWarning: Boolean Series key will be reindexed to match DataFrame index.\n",
      "  # This is added back by InteractiveShellApp.init_path()\n"
     ]
    }
   ],
   "source": [
    "j01_p1_g1, j01_p1_g2, j01_p2_g1, j01_p2_g2 = separate_df(j01, 'j')\n",
    "j02_p1_g1, j02_p1_g2, j02_p2_g1, j02_p2_g2 = separate_df(j02, 'j')\n",
    "j03_p1_g1, j03_p1_g2, j03_p2_g1, j03_p2_g2 = separate_df(j03, 'j')\n",
    "j04_p1_g1, j04_p1_g2, j04_p2_g1, j04_p2_g2 = separate_df(j04, 'j')\n",
    "j05_p1_g1, j05_p1_g2, j05_p2_g1, j05_p2_g2 = separate_df(j05, 'j')\n",
    "j06_p1_g1, j06_p1_g2, j06_p2_g1, j06_p2_g2 = separate_df(j06, 'j')\n",
    "j07_p1_g1, j07_p1_g2, j07_p2_g1, j07_p2_g2 = separate_df(j07, 'j')\n",
    "j08_p1_g1, j08_p1_g2, j08_p2_g1, j08_p2_g2 = separate_df(j08, 'j')"
   ]
  },
  {
   "cell_type": "markdown",
   "metadata": {},
   "source": [
    "# Choice Distributions"
   ]
  },
  {
   "cell_type": "code",
   "execution_count": 97,
   "metadata": {},
   "outputs": [],
   "source": [
    "j01_p1_g1_count = j01_p1_g1['probability'].value_counts(sort=False)\n",
    "j01_p1_g2_count = j01_p1_g2['probability'].value_counts(sort=False)\n",
    "j01_p2_g1_count = j01_p2_g1['probability'].value_counts(sort=False)\n",
    "j01_p2_g2_count = j01_p2_g2['probability'].value_counts(sort=False)\n",
    "j02_p1_g1_count = j02_p1_g1['probability'].value_counts(sort=False)\n",
    "j02_p1_g2_count = j02_p1_g2['probability'].value_counts(sort=False)\n",
    "j02_p2_g1_count = j02_p2_g1['probability'].value_counts(sort=False)\n",
    "j02_p2_g2_count = j02_p2_g2['probability'].value_counts(sort=False)\n",
    "j03_p1_g1_count = j03_p1_g1['probability'].value_counts(sort=False)\n",
    "j03_p1_g2_count = j03_p1_g2['probability'].value_counts(sort=False)\n",
    "j03_p2_g1_count = j03_p2_g1['probability'].value_counts(sort=False)\n",
    "j03_p2_g2_count = j03_p2_g2['probability'].value_counts(sort=False)\n",
    "j04_p1_g1_count = j04_p1_g1['probability'].value_counts(sort=False)\n",
    "j04_p1_g2_count = j04_p1_g2['probability'].value_counts(sort=False)\n",
    "j04_p2_g1_count = j04_p2_g1['probability'].value_counts(sort=False)\n",
    "j04_p2_g2_count = j04_p2_g2['probability'].value_counts(sort=False)\n",
    "j05_p1_g1_count = j05_p1_g1['probability'].value_counts(sort=False)\n",
    "j05_p1_g2_count = j05_p1_g2['probability'].value_counts(sort=False)\n",
    "j05_p2_g1_count = j05_p2_g1['probability'].value_counts(sort=False)\n",
    "j05_p2_g2_count = j05_p2_g2['probability'].value_counts(sort=False)\n",
    "j06_p1_g1_count = j06_p1_g1['probability'].value_counts(sort=False)\n",
    "j06_p1_g2_count = j06_p1_g2['probability'].value_counts(sort=False)\n",
    "j06_p2_g1_count = j06_p2_g1['probability'].value_counts(sort=False)\n",
    "j06_p2_g2_count = j06_p2_g2['probability'].value_counts(sort=False)\n",
    "j07_p1_g1_count = j07_p1_g1['probability'].value_counts(sort=False)\n",
    "j07_p1_g2_count = j07_p1_g2['probability'].value_counts(sort=False)\n",
    "j07_p2_g1_count = j06_p2_g1['probability'].value_counts(sort=False)\n",
    "j07_p2_g2_count = j06_p2_g2['probability'].value_counts(sort=False)\n",
    "j08_p1_g1_count = j08_p1_g1['probability'].value_counts(sort=False)\n",
    "j08_p1_g2_count = j08_p1_g2['probability'].value_counts(sort=False)\n",
    "j08_p2_g1_count = j08_p2_g1['probability'].value_counts(sort=False)\n",
    "j08_p2_g2_count = j08_p2_g2['probability'].value_counts(sort=False)"
   ]
  },
  {
   "cell_type": "code",
   "execution_count": 98,
   "metadata": {},
   "outputs": [
    {
     "data": {
      "text/plain": [
       "30    38\n",
       "60    36\n",
       "90    26\n",
       "Name: probability, dtype: int64"
      ]
     },
     "execution_count": 98,
     "metadata": {},
     "output_type": "execute_result"
    }
   ],
   "source": [
    "j01_p1_g1_count"
   ]
  },
  {
   "cell_type": "code",
   "execution_count": 99,
   "metadata": {},
   "outputs": [
    {
     "data": {
      "text/plain": [
       "30    18\n",
       "60    28\n",
       "90    54\n",
       "Name: probability, dtype: int64"
      ]
     },
     "execution_count": 99,
     "metadata": {},
     "output_type": "execute_result"
    }
   ],
   "source": [
    "j01_p1_g2_count"
   ]
  },
  {
   "cell_type": "code",
   "execution_count": 100,
   "metadata": {},
   "outputs": [
    {
     "data": {
      "text/plain": [
       "30    33\n",
       "60    37\n",
       "90    30\n",
       "Name: probability, dtype: int64"
      ]
     },
     "execution_count": 100,
     "metadata": {},
     "output_type": "execute_result"
    }
   ],
   "source": [
    "j01_p2_g1_count"
   ]
  },
  {
   "cell_type": "code",
   "execution_count": 101,
   "metadata": {},
   "outputs": [
    {
     "data": {
      "text/plain": [
       "30    26\n",
       "60    37\n",
       "90    37\n",
       "Name: probability, dtype: int64"
      ]
     },
     "execution_count": 101,
     "metadata": {},
     "output_type": "execute_result"
    }
   ],
   "source": [
    "j01_p2_g2_count"
   ]
  },
  {
   "cell_type": "code",
   "execution_count": 102,
   "metadata": {},
   "outputs": [
    {
     "data": {
      "text/plain": [
       "30    36\n",
       "60    32\n",
       "90    32\n",
       "Name: probability, dtype: int64"
      ]
     },
     "execution_count": 102,
     "metadata": {},
     "output_type": "execute_result"
    }
   ],
   "source": [
    "j02_p1_g1_count"
   ]
  },
  {
   "cell_type": "code",
   "execution_count": 103,
   "metadata": {
    "scrolled": true
   },
   "outputs": [
    {
     "data": {
      "text/plain": [
       "30    27\n",
       "60    27\n",
       "90    46\n",
       "Name: probability, dtype: int64"
      ]
     },
     "execution_count": 103,
     "metadata": {},
     "output_type": "execute_result"
    }
   ],
   "source": [
    "j02_p1_g2_count"
   ]
  },
  {
   "cell_type": "code",
   "execution_count": 104,
   "metadata": {},
   "outputs": [
    {
     "data": {
      "text/plain": [
       "30    25\n",
       "60    39\n",
       "90    36\n",
       "Name: probability, dtype: int64"
      ]
     },
     "execution_count": 104,
     "metadata": {},
     "output_type": "execute_result"
    }
   ],
   "source": [
    "j02_p2_g1_count"
   ]
  },
  {
   "cell_type": "code",
   "execution_count": 105,
   "metadata": {},
   "outputs": [
    {
     "data": {
      "text/plain": [
       "30     9\n",
       "60    26\n",
       "90    65\n",
       "Name: probability, dtype: int64"
      ]
     },
     "execution_count": 105,
     "metadata": {},
     "output_type": "execute_result"
    }
   ],
   "source": [
    "j02_p2_g2_count"
   ]
  },
  {
   "cell_type": "code",
   "execution_count": 106,
   "metadata": {},
   "outputs": [
    {
     "data": {
      "text/plain": [
       "30    22\n",
       "60    29\n",
       "90    49\n",
       "Name: probability, dtype: int64"
      ]
     },
     "execution_count": 106,
     "metadata": {},
     "output_type": "execute_result"
    }
   ],
   "source": [
    "j03_p1_g1_count"
   ]
  },
  {
   "cell_type": "code",
   "execution_count": 107,
   "metadata": {},
   "outputs": [
    {
     "data": {
      "text/plain": [
       "30     7\n",
       "60    23\n",
       "90    70\n",
       "Name: probability, dtype: int64"
      ]
     },
     "execution_count": 107,
     "metadata": {},
     "output_type": "execute_result"
    }
   ],
   "source": [
    "j03_p1_g2_count"
   ]
  },
  {
   "cell_type": "code",
   "execution_count": 108,
   "metadata": {},
   "outputs": [
    {
     "data": {
      "text/plain": [
       "30    29\n",
       "60    23\n",
       "90    48\n",
       "Name: probability, dtype: int64"
      ]
     },
     "execution_count": 108,
     "metadata": {},
     "output_type": "execute_result"
    }
   ],
   "source": [
    "j03_p2_g1_count"
   ]
  },
  {
   "cell_type": "code",
   "execution_count": 109,
   "metadata": {},
   "outputs": [
    {
     "data": {
      "text/plain": [
       "30    10\n",
       "60     7\n",
       "90    83\n",
       "Name: probability, dtype: int64"
      ]
     },
     "execution_count": 109,
     "metadata": {},
     "output_type": "execute_result"
    }
   ],
   "source": [
    "j03_p2_g2_count"
   ]
  },
  {
   "cell_type": "code",
   "execution_count": 110,
   "metadata": {},
   "outputs": [],
   "source": [
    "j_g1_counts = pd.DataFrame([j01_p1_g1_count, j01_p2_g1_count, j02_p1_g1_count, j02_p2_g1_count, \n",
    "                            j03_p1_g1_count, j03_p2_g1_count, j04_p1_g1_count, j04_p2_g1_count,\n",
    "                           j05_p1_g1_count,j05_p2_g1_count, j06_p1_g1_count, j06_p2_g1_count, j07_p1_g1_count, \n",
    "                            j07_p2_g1_count, j08_p1_g1_count, j08_p2_g1_count],\n",
    "                          index=['j01_p1_g1_count', 'j01_p2_g1_count', 'j02_p1_g1_count', 'j02_p2_g1_count', \n",
    "                            'j03_p1_g1_count', 'j03_p2_g1_count', 'j04_p1_g1_count', 'j04_p2_g1_count',\n",
    "                           'j05_p1_g1_count','j05_p2_g1_count', 'j06_p1_g1_count', 'j06_p2_g1_count', 'j07_p1_g1_count', \n",
    "                            'j07_p2_g1_count', 'j08_p1_g1_count', 'j08_p2_g1_count'])"
   ]
  },
  {
   "cell_type": "code",
   "execution_count": 111,
   "metadata": {},
   "outputs": [
    {
     "data": {
      "text/html": [
       "<div>\n",
       "<style scoped>\n",
       "    .dataframe tbody tr th:only-of-type {\n",
       "        vertical-align: middle;\n",
       "    }\n",
       "\n",
       "    .dataframe tbody tr th {\n",
       "        vertical-align: top;\n",
       "    }\n",
       "\n",
       "    .dataframe thead th {\n",
       "        text-align: right;\n",
       "    }\n",
       "</style>\n",
       "<table border=\"1\" class=\"dataframe\">\n",
       "  <thead>\n",
       "    <tr style=\"text-align: right;\">\n",
       "      <th></th>\n",
       "      <th>30</th>\n",
       "      <th>60</th>\n",
       "      <th>90</th>\n",
       "    </tr>\n",
       "  </thead>\n",
       "  <tbody>\n",
       "    <tr>\n",
       "      <th>j01_p1_g1_count</th>\n",
       "      <td>38</td>\n",
       "      <td>36</td>\n",
       "      <td>26</td>\n",
       "    </tr>\n",
       "    <tr>\n",
       "      <th>j01_p2_g1_count</th>\n",
       "      <td>33</td>\n",
       "      <td>37</td>\n",
       "      <td>30</td>\n",
       "    </tr>\n",
       "    <tr>\n",
       "      <th>j02_p1_g1_count</th>\n",
       "      <td>36</td>\n",
       "      <td>32</td>\n",
       "      <td>32</td>\n",
       "    </tr>\n",
       "    <tr>\n",
       "      <th>j02_p2_g1_count</th>\n",
       "      <td>25</td>\n",
       "      <td>39</td>\n",
       "      <td>36</td>\n",
       "    </tr>\n",
       "    <tr>\n",
       "      <th>j03_p1_g1_count</th>\n",
       "      <td>22</td>\n",
       "      <td>29</td>\n",
       "      <td>49</td>\n",
       "    </tr>\n",
       "    <tr>\n",
       "      <th>j03_p2_g1_count</th>\n",
       "      <td>29</td>\n",
       "      <td>23</td>\n",
       "      <td>48</td>\n",
       "    </tr>\n",
       "    <tr>\n",
       "      <th>j04_p1_g1_count</th>\n",
       "      <td>26</td>\n",
       "      <td>39</td>\n",
       "      <td>35</td>\n",
       "    </tr>\n",
       "    <tr>\n",
       "      <th>j04_p2_g1_count</th>\n",
       "      <td>34</td>\n",
       "      <td>22</td>\n",
       "      <td>44</td>\n",
       "    </tr>\n",
       "    <tr>\n",
       "      <th>j05_p1_g1_count</th>\n",
       "      <td>5</td>\n",
       "      <td>16</td>\n",
       "      <td>79</td>\n",
       "    </tr>\n",
       "    <tr>\n",
       "      <th>j05_p2_g1_count</th>\n",
       "      <td>14</td>\n",
       "      <td>28</td>\n",
       "      <td>58</td>\n",
       "    </tr>\n",
       "    <tr>\n",
       "      <th>j06_p1_g1_count</th>\n",
       "      <td>36</td>\n",
       "      <td>34</td>\n",
       "      <td>30</td>\n",
       "    </tr>\n",
       "    <tr>\n",
       "      <th>j06_p2_g1_count</th>\n",
       "      <td>45</td>\n",
       "      <td>16</td>\n",
       "      <td>39</td>\n",
       "    </tr>\n",
       "    <tr>\n",
       "      <th>j07_p1_g1_count</th>\n",
       "      <td>7</td>\n",
       "      <td>35</td>\n",
       "      <td>58</td>\n",
       "    </tr>\n",
       "    <tr>\n",
       "      <th>j07_p2_g1_count</th>\n",
       "      <td>45</td>\n",
       "      <td>16</td>\n",
       "      <td>39</td>\n",
       "    </tr>\n",
       "    <tr>\n",
       "      <th>j08_p1_g1_count</th>\n",
       "      <td>31</td>\n",
       "      <td>42</td>\n",
       "      <td>27</td>\n",
       "    </tr>\n",
       "    <tr>\n",
       "      <th>j08_p2_g1_count</th>\n",
       "      <td>40</td>\n",
       "      <td>23</td>\n",
       "      <td>37</td>\n",
       "    </tr>\n",
       "  </tbody>\n",
       "</table>\n",
       "</div>"
      ],
      "text/plain": [
       "                 30  60  90\n",
       "j01_p1_g1_count  38  36  26\n",
       "j01_p2_g1_count  33  37  30\n",
       "j02_p1_g1_count  36  32  32\n",
       "j02_p2_g1_count  25  39  36\n",
       "j03_p1_g1_count  22  29  49\n",
       "j03_p2_g1_count  29  23  48\n",
       "j04_p1_g1_count  26  39  35\n",
       "j04_p2_g1_count  34  22  44\n",
       "j05_p1_g1_count   5  16  79\n",
       "j05_p2_g1_count  14  28  58\n",
       "j06_p1_g1_count  36  34  30\n",
       "j06_p2_g1_count  45  16  39\n",
       "j07_p1_g1_count   7  35  58\n",
       "j07_p2_g1_count  45  16  39\n",
       "j08_p1_g1_count  31  42  27\n",
       "j08_p2_g1_count  40  23  37"
      ]
     },
     "execution_count": 111,
     "metadata": {},
     "output_type": "execute_result"
    }
   ],
   "source": [
    "j_g1_counts"
   ]
  },
  {
   "cell_type": "code",
   "execution_count": 112,
   "metadata": {},
   "outputs": [],
   "source": [
    "j_g1_low = np.mean(j_g1_counts.iloc[:,0])\n",
    "j_g1_med = np.mean(j_g1_counts.iloc[:,1])\n",
    "j_g1_high = np.mean(j_g1_counts.iloc[:,2])\n",
    "\n",
    "j_g1_low_std = np.std(j_g1_counts.iloc[:,0])\n",
    "j_g1_med_std = np.std(j_g1_counts.iloc[:,1])\n",
    "j_g1_high_std = np.std(j_g1_counts.iloc[:,2])"
   ]
  },
  {
   "cell_type": "code",
   "execution_count": 113,
   "metadata": {},
   "outputs": [
    {
     "data": {
      "text/plain": [
       "29.125"
      ]
     },
     "execution_count": 113,
     "metadata": {},
     "output_type": "execute_result"
    }
   ],
   "source": [
    "j_g1_low"
   ]
  },
  {
   "cell_type": "code",
   "execution_count": 114,
   "metadata": {},
   "outputs": [
    {
     "data": {
      "text/plain": [
       "29.1875"
      ]
     },
     "execution_count": 114,
     "metadata": {},
     "output_type": "execute_result"
    }
   ],
   "source": [
    "j_g1_med"
   ]
  },
  {
   "cell_type": "code",
   "execution_count": 115,
   "metadata": {},
   "outputs": [
    {
     "data": {
      "text/plain": [
       "41.6875"
      ]
     },
     "execution_count": 115,
     "metadata": {},
     "output_type": "execute_result"
    }
   ],
   "source": [
    "j_g1_high"
   ]
  },
  {
   "cell_type": "code",
   "execution_count": 116,
   "metadata": {},
   "outputs": [],
   "source": [
    "#social matching"
   ]
  },
  {
   "cell_type": "code",
   "execution_count": 117,
   "metadata": {},
   "outputs": [],
   "source": [
    "j_g2_counts = pd.DataFrame([j01_p1_g2_count, j01_p2_g2_count, j02_p1_g2_count, j02_p2_g2_count, \n",
    "                            j03_p1_g2_count, j03_p2_g2_count, j04_p1_g2_count, j04_p2_g2_count,\n",
    "                           j05_p1_g2_count,j05_p2_g2_count, j06_p1_g2_count, j06_p2_g2_count, j07_p1_g2_count, \n",
    "                            j07_p2_g2_count, j08_p1_g2_count, j08_p2_g2_count],\n",
    "                          index=['j01_p1_g2_count', 'j01_p2_g2_count', 'j02_p1_g2_count', 'j02_p2_g2_count', \n",
    "                            'j03_p1_g2_count', 'j03_p2_g2_count', 'j04_p1_g2_count', 'j04_p2_g2_count',\n",
    "                           'j05_p1_g2_count','j05_p2_g2_count', 'j06_p1_g2_count', 'j06_p2_g2_count', 'j07_p1_g2_count', \n",
    "                            'j07_p2_g2_count', 'j08_p1_g2_count', 'j08_p2_g2_count'])"
   ]
  },
  {
   "cell_type": "code",
   "execution_count": 118,
   "metadata": {},
   "outputs": [
    {
     "data": {
      "text/html": [
       "<div>\n",
       "<style scoped>\n",
       "    .dataframe tbody tr th:only-of-type {\n",
       "        vertical-align: middle;\n",
       "    }\n",
       "\n",
       "    .dataframe tbody tr th {\n",
       "        vertical-align: top;\n",
       "    }\n",
       "\n",
       "    .dataframe thead th {\n",
       "        text-align: right;\n",
       "    }\n",
       "</style>\n",
       "<table border=\"1\" class=\"dataframe\">\n",
       "  <thead>\n",
       "    <tr style=\"text-align: right;\">\n",
       "      <th></th>\n",
       "      <th>30</th>\n",
       "      <th>60</th>\n",
       "      <th>90</th>\n",
       "    </tr>\n",
       "  </thead>\n",
       "  <tbody>\n",
       "    <tr>\n",
       "      <th>j01_p1_g2_count</th>\n",
       "      <td>18</td>\n",
       "      <td>28</td>\n",
       "      <td>54</td>\n",
       "    </tr>\n",
       "    <tr>\n",
       "      <th>j01_p2_g2_count</th>\n",
       "      <td>26</td>\n",
       "      <td>37</td>\n",
       "      <td>37</td>\n",
       "    </tr>\n",
       "    <tr>\n",
       "      <th>j02_p1_g2_count</th>\n",
       "      <td>27</td>\n",
       "      <td>27</td>\n",
       "      <td>46</td>\n",
       "    </tr>\n",
       "    <tr>\n",
       "      <th>j02_p2_g2_count</th>\n",
       "      <td>9</td>\n",
       "      <td>26</td>\n",
       "      <td>65</td>\n",
       "    </tr>\n",
       "    <tr>\n",
       "      <th>j03_p1_g2_count</th>\n",
       "      <td>7</td>\n",
       "      <td>23</td>\n",
       "      <td>70</td>\n",
       "    </tr>\n",
       "    <tr>\n",
       "      <th>j03_p2_g2_count</th>\n",
       "      <td>10</td>\n",
       "      <td>7</td>\n",
       "      <td>83</td>\n",
       "    </tr>\n",
       "    <tr>\n",
       "      <th>j04_p1_g2_count</th>\n",
       "      <td>42</td>\n",
       "      <td>32</td>\n",
       "      <td>26</td>\n",
       "    </tr>\n",
       "    <tr>\n",
       "      <th>j04_p2_g2_count</th>\n",
       "      <td>40</td>\n",
       "      <td>40</td>\n",
       "      <td>20</td>\n",
       "    </tr>\n",
       "    <tr>\n",
       "      <th>j05_p1_g2_count</th>\n",
       "      <td>20</td>\n",
       "      <td>15</td>\n",
       "      <td>65</td>\n",
       "    </tr>\n",
       "    <tr>\n",
       "      <th>j05_p2_g2_count</th>\n",
       "      <td>7</td>\n",
       "      <td>40</td>\n",
       "      <td>53</td>\n",
       "    </tr>\n",
       "    <tr>\n",
       "      <th>j06_p1_g2_count</th>\n",
       "      <td>13</td>\n",
       "      <td>24</td>\n",
       "      <td>63</td>\n",
       "    </tr>\n",
       "    <tr>\n",
       "      <th>j06_p2_g2_count</th>\n",
       "      <td>8</td>\n",
       "      <td>43</td>\n",
       "      <td>49</td>\n",
       "    </tr>\n",
       "    <tr>\n",
       "      <th>j07_p1_g2_count</th>\n",
       "      <td>4</td>\n",
       "      <td>1</td>\n",
       "      <td>95</td>\n",
       "    </tr>\n",
       "    <tr>\n",
       "      <th>j07_p2_g2_count</th>\n",
       "      <td>8</td>\n",
       "      <td>43</td>\n",
       "      <td>49</td>\n",
       "    </tr>\n",
       "    <tr>\n",
       "      <th>j08_p1_g2_count</th>\n",
       "      <td>6</td>\n",
       "      <td>11</td>\n",
       "      <td>83</td>\n",
       "    </tr>\n",
       "    <tr>\n",
       "      <th>j08_p2_g2_count</th>\n",
       "      <td>16</td>\n",
       "      <td>19</td>\n",
       "      <td>65</td>\n",
       "    </tr>\n",
       "  </tbody>\n",
       "</table>\n",
       "</div>"
      ],
      "text/plain": [
       "                 30  60  90\n",
       "j01_p1_g2_count  18  28  54\n",
       "j01_p2_g2_count  26  37  37\n",
       "j02_p1_g2_count  27  27  46\n",
       "j02_p2_g2_count   9  26  65\n",
       "j03_p1_g2_count   7  23  70\n",
       "j03_p2_g2_count  10   7  83\n",
       "j04_p1_g2_count  42  32  26\n",
       "j04_p2_g2_count  40  40  20\n",
       "j05_p1_g2_count  20  15  65\n",
       "j05_p2_g2_count   7  40  53\n",
       "j06_p1_g2_count  13  24  63\n",
       "j06_p2_g2_count   8  43  49\n",
       "j07_p1_g2_count   4   1  95\n",
       "j07_p2_g2_count   8  43  49\n",
       "j08_p1_g2_count   6  11  83\n",
       "j08_p2_g2_count  16  19  65"
      ]
     },
     "execution_count": 118,
     "metadata": {},
     "output_type": "execute_result"
    }
   ],
   "source": [
    "j_g2_counts"
   ]
  },
  {
   "cell_type": "code",
   "execution_count": 119,
   "metadata": {},
   "outputs": [],
   "source": [
    "j_g2_low = np.mean(j_g2_counts.iloc[:,0])\n",
    "j_g2_med = np.mean(j_g2_counts.iloc[:,1])\n",
    "j_g2_high = np.mean(j_g2_counts.iloc[:,2])\n",
    "\n",
    "j_g2_low_std = np.std(j_g2_counts.iloc[:,0])\n",
    "j_g2_med_std = np.std(j_g2_counts.iloc[:,1])\n",
    "j_g2_high_std = np.std(j_g2_counts.iloc[:,2])"
   ]
  },
  {
   "cell_type": "code",
   "execution_count": 120,
   "metadata": {},
   "outputs": [
    {
     "data": {
      "text/plain": [
       "16.3125"
      ]
     },
     "execution_count": 120,
     "metadata": {},
     "output_type": "execute_result"
    }
   ],
   "source": [
    "j_g2_low"
   ]
  },
  {
   "cell_type": "code",
   "execution_count": 121,
   "metadata": {},
   "outputs": [
    {
     "data": {
      "text/plain": [
       "26.0"
      ]
     },
     "execution_count": 121,
     "metadata": {},
     "output_type": "execute_result"
    }
   ],
   "source": [
    "j_g2_med"
   ]
  },
  {
   "cell_type": "code",
   "execution_count": 122,
   "metadata": {},
   "outputs": [
    {
     "data": {
      "text/plain": [
       "57.6875"
      ]
     },
     "execution_count": 122,
     "metadata": {},
     "output_type": "execute_result"
    }
   ],
   "source": [
    "j_g2_high"
   ]
  },
  {
   "cell_type": "code",
   "execution_count": 123,
   "metadata": {},
   "outputs": [
    {
     "data": {
      "image/png": "[encoded data removed]",
      "text/plain": [
       "<Figure size 432x288 with 1 Axes>"
      ]
     },
     "metadata": {
      "needs_background": "light"
     },
     "output_type": "display_data"
    }
   ],
   "source": [
    "j_g1_counts_bar = j_g1_counts.plot.bar()"
   ]
  },
  {
   "cell_type": "code",
   "execution_count": 124,
   "metadata": {},
   "outputs": [
    {
     "data": {
      "image/png": "[encoded data removed]",
      "text/plain": [
       "<Figure size 432x288 with 1 Axes>"
      ]
     },
     "metadata": {
      "needs_background": "light"
     },
     "output_type": "display_data"
    }
   ],
   "source": [
    "j_g2_counts_bar = j_g2_counts.plot.bar()"
   ]
  },
  {
   "cell_type": "code",
   "execution_count": null,
   "metadata": {},
   "outputs": [],
   "source": [
    "#difference in 60% choices"
   ]
  },
  {
   "cell_type": "markdown",
   "metadata": {},
   "source": [
    "# Combined Tables"
   ]
  },
  {
   "cell_type": "code",
   "execution_count": 125,
   "metadata": {},
   "outputs": [],
   "source": [
    "#NEEDS WORK\n",
    "scores_df = pd.DataFrame({'score':[s_scores_1_mean, s_scores_2_mean, j_scores_1_mean, j_scores_2_mean],\n",
    "                       'std':[s_scores_1_std,s_scores_2_std,j_scores_1_std,j_scores_2_std]},index = ['s_1','s_2',\n",
    "                                                                                                     'j_1', 'j_2'])"
   ]
  },
  {
   "cell_type": "code",
   "execution_count": 126,
   "metadata": {},
   "outputs": [
    {
     "data": {
      "text/plain": [
       "score    70.375\n",
       "dtype: float64"
      ]
     },
     "execution_count": 126,
     "metadata": {},
     "output_type": "execute_result"
    }
   ],
   "source": [
    "s_scores_1_mean"
   ]
  },
  {
   "cell_type": "code",
   "execution_count": 127,
   "metadata": {},
   "outputs": [
    {
     "data": {
      "text/plain": [
       "score    70.375\n",
       "dtype: float64"
      ]
     },
     "execution_count": 127,
     "metadata": {},
     "output_type": "execute_result"
    }
   ],
   "source": [
    "pd.to_numeric(s_scores_1_mean)"
   ]
  },
  {
   "cell_type": "code",
   "execution_count": 128,
   "metadata": {},
   "outputs": [
    {
     "data": {
      "text/html": [
       "<div>\n",
       "<style scoped>\n",
       "    .dataframe tbody tr th:only-of-type {\n",
       "        vertical-align: middle;\n",
       "    }\n",
       "\n",
       "    .dataframe tbody tr th {\n",
       "        vertical-align: top;\n",
       "    }\n",
       "\n",
       "    .dataframe thead th {\n",
       "        text-align: right;\n",
       "    }\n",
       "</style>\n",
       "<table border=\"1\" class=\"dataframe\">\n",
       "  <thead>\n",
       "    <tr style=\"text-align: right;\">\n",
       "      <th></th>\n",
       "      <th>score</th>\n",
       "      <th>std</th>\n",
       "    </tr>\n",
       "  </thead>\n",
       "  <tbody>\n",
       "    <tr>\n",
       "      <th>s_1</th>\n",
       "      <td>score    70.375\n",
       "dtype: float64</td>\n",
       "      <td>score    11.109038\n",
       "dtype: float64</td>\n",
       "    </tr>\n",
       "    <tr>\n",
       "      <th>s_2</th>\n",
       "      <td>score    76.857143\n",
       "dtype: float64</td>\n",
       "      <td>score    8.214389\n",
       "dtype: float64</td>\n",
       "    </tr>\n",
       "    <tr>\n",
       "      <th>j_1</th>\n",
       "      <td>score    64.3125\n",
       "dtype: float64</td>\n",
       "      <td>score    8.187134\n",
       "dtype: float64</td>\n",
       "    </tr>\n",
       "    <tr>\n",
       "      <th>j_2</th>\n",
       "      <td>score    72.6875\n",
       "dtype: float64</td>\n",
       "      <td>score    8.42788\n",
       "dtype: float64</td>\n",
       "    </tr>\n",
       "  </tbody>\n",
       "</table>\n",
       "</div>"
      ],
      "text/plain": [
       "                                 score                                std\n",
       "s_1     score    70.375\n",
       "dtype: float64  score    11.109038\n",
       "dtype: float64\n",
       "s_2  score    76.857143\n",
       "dtype: float64   score    8.214389\n",
       "dtype: float64\n",
       "j_1    score    64.3125\n",
       "dtype: float64   score    8.187134\n",
       "dtype: float64\n",
       "j_2    score    72.6875\n",
       "dtype: float64    score    8.42788\n",
       "dtype: float64"
      ]
     },
     "execution_count": 128,
     "metadata": {},
     "output_type": "execute_result"
    }
   ],
   "source": [
    "scores_df"
   ]
  },
  {
   "cell_type": "code",
   "execution_count": null,
   "metadata": {},
   "outputs": [],
   "source": [
    "#calculate the deviation in diff b/w g1 and g2"
   ]
  },
  {
   "cell_type": "code",
   "execution_count": 129,
   "metadata": {},
   "outputs": [],
   "source": [
    "counts_df = pd.DataFrame({'low':[s_g1_low,s_g2_low,j_g1_low,j_g2_low],'medium':[s_g1_med,s_g2_med,j_g1_med,j_g2_med],\n",
    "                          'high':[s_g1_high,s_g2_high,j_g1_high,j_g2_high]},index = ['s_1','s_2','j_1', 'j_2'])\n",
    "#add standard deviations"
   ]
  },
  {
   "cell_type": "code",
   "execution_count": 130,
   "metadata": {},
   "outputs": [
    {
     "data": {
      "text/html": [
       "<div>\n",
       "<style scoped>\n",
       "    .dataframe tbody tr th:only-of-type {\n",
       "        vertical-align: middle;\n",
       "    }\n",
       "\n",
       "    .dataframe tbody tr th {\n",
       "        vertical-align: top;\n",
       "    }\n",
       "\n",
       "    .dataframe thead th {\n",
       "        text-align: right;\n",
       "    }\n",
       "</style>\n",
       "<table border=\"1\" class=\"dataframe\">\n",
       "  <thead>\n",
       "    <tr style=\"text-align: right;\">\n",
       "      <th></th>\n",
       "      <th>low</th>\n",
       "      <th>medium</th>\n",
       "      <th>high</th>\n",
       "    </tr>\n",
       "  </thead>\n",
       "  <tbody>\n",
       "    <tr>\n",
       "      <th>s_1</th>\n",
       "      <td>19.375000</td>\n",
       "      <td>28.625000</td>\n",
       "      <td>52.000000</td>\n",
       "    </tr>\n",
       "    <tr>\n",
       "      <th>s_2</th>\n",
       "      <td>17.714286</td>\n",
       "      <td>22.666667</td>\n",
       "      <td>62.857143</td>\n",
       "    </tr>\n",
       "    <tr>\n",
       "      <th>j_1</th>\n",
       "      <td>29.125000</td>\n",
       "      <td>29.187500</td>\n",
       "      <td>41.687500</td>\n",
       "    </tr>\n",
       "    <tr>\n",
       "      <th>j_2</th>\n",
       "      <td>16.312500</td>\n",
       "      <td>26.000000</td>\n",
       "      <td>57.687500</td>\n",
       "    </tr>\n",
       "  </tbody>\n",
       "</table>\n",
       "</div>"
      ],
      "text/plain": [
       "           low     medium       high\n",
       "s_1  19.375000  28.625000  52.000000\n",
       "s_2  17.714286  22.666667  62.857143\n",
       "j_1  29.125000  29.187500  41.687500\n",
       "j_2  16.312500  26.000000  57.687500"
      ]
     },
     "execution_count": 130,
     "metadata": {},
     "output_type": "execute_result"
    }
   ],
   "source": [
    "counts_df"
   ]
  },
  {
   "cell_type": "code",
   "execution_count": 209,
   "metadata": {},
   "outputs": [],
   "source": [
    "#calculate variability in these"
   ]
  },
  {
   "cell_type": "code",
   "execution_count": 210,
   "metadata": {},
   "outputs": [],
   "source": [
    "#make a scatter plot of choices\n",
    "#box plot showing individual scores and outliers "
   ]
  },
  {
   "cell_type": "code",
   "execution_count": 131,
   "metadata": {},
   "outputs": [],
   "source": [
    "counts_std_df = pd.DataFrame({'low':[s_g1_low_std,s_g2_low_std,j_g1_low_std,j_g2_low_std],'medium':[s_g1_med_std,s_g2_med_std,j_g1_med_std,j_g2_med_std],\n",
    "                          'high':[s_g1_high_std,s_g2_high_std,j_g1_high_std,j_g2_high_std]},index = ['s_1','s_2','j_1', 'j_2'])"
   ]
  },
  {
   "cell_type": "code",
   "execution_count": 132,
   "metadata": {},
   "outputs": [
    {
     "data": {
      "text/html": [
       "<div>\n",
       "<style scoped>\n",
       "    .dataframe tbody tr th:only-of-type {\n",
       "        vertical-align: middle;\n",
       "    }\n",
       "\n",
       "    .dataframe tbody tr th {\n",
       "        vertical-align: top;\n",
       "    }\n",
       "\n",
       "    .dataframe thead th {\n",
       "        text-align: right;\n",
       "    }\n",
       "</style>\n",
       "<table border=\"1\" class=\"dataframe\">\n",
       "  <thead>\n",
       "    <tr style=\"text-align: right;\">\n",
       "      <th></th>\n",
       "      <th>low</th>\n",
       "      <th>medium</th>\n",
       "      <th>high</th>\n",
       "    </tr>\n",
       "  </thead>\n",
       "  <tbody>\n",
       "    <tr>\n",
       "      <th>s_1</th>\n",
       "      <td>10.688048</td>\n",
       "      <td>12.154603</td>\n",
       "      <td>21.453438</td>\n",
       "    </tr>\n",
       "    <tr>\n",
       "      <th>s_2</th>\n",
       "      <td>10.333224</td>\n",
       "      <td>10.656245</td>\n",
       "      <td>18.473367</td>\n",
       "    </tr>\n",
       "    <tr>\n",
       "      <th>j_1</th>\n",
       "      <td>11.767938</td>\n",
       "      <td>8.589374</td>\n",
       "      <td>13.613958</td>\n",
       "    </tr>\n",
       "    <tr>\n",
       "      <th>j_2</th>\n",
       "      <td>11.509337</td>\n",
       "      <td>12.564832</td>\n",
       "      <td>19.668245</td>\n",
       "    </tr>\n",
       "  </tbody>\n",
       "</table>\n",
       "</div>"
      ],
      "text/plain": [
       "           low     medium       high\n",
       "s_1  10.688048  12.154603  21.453438\n",
       "s_2  10.333224  10.656245  18.473367\n",
       "j_1  11.767938   8.589374  13.613958\n",
       "j_2  11.509337  12.564832  19.668245"
      ]
     },
     "execution_count": 132,
     "metadata": {},
     "output_type": "execute_result"
    }
   ],
   "source": [
    "counts_std_df"
   ]
  },
  {
   "cell_type": "code",
   "execution_count": 211,
   "metadata": {},
   "outputs": [],
   "source": [
    "#variability is lower in s and higher in j for game 2"
   ]
  },
  {
   "cell_type": "markdown",
   "metadata": {},
   "source": [
    "# Maximizing/Matching"
   ]
  },
  {
   "cell_type": "code",
   "execution_count": 133,
   "metadata": {},
   "outputs": [
    {
     "data": {
      "text/html": [
       "<div>\n",
       "<style scoped>\n",
       "    .dataframe tbody tr th:only-of-type {\n",
       "        vertical-align: middle;\n",
       "    }\n",
       "\n",
       "    .dataframe tbody tr th {\n",
       "        vertical-align: top;\n",
       "    }\n",
       "\n",
       "    .dataframe thead th {\n",
       "        text-align: right;\n",
       "    }\n",
       "</style>\n",
       "<table border=\"1\" class=\"dataframe\">\n",
       "  <thead>\n",
       "    <tr style=\"text-align: right;\">\n",
       "      <th></th>\n",
       "      <th>s_g1</th>\n",
       "      <th>s_g2</th>\n",
       "      <th>j_g1</th>\n",
       "      <th>j_g2</th>\n",
       "    </tr>\n",
       "  </thead>\n",
       "  <tbody>\n",
       "  </tbody>\n",
       "</table>\n",
       "</div>"
      ],
      "text/plain": [
       "Empty DataFrame\n",
       "Columns: [s_g1, s_g2, j_g1, j_g2]\n",
       "Index: []"
      ]
     },
     "execution_count": 133,
     "metadata": {},
     "output_type": "execute_result"
    }
   ],
   "source": [
    "scores"
   ]
  },
  {
   "cell_type": "code",
   "execution_count": 134,
   "metadata": {},
   "outputs": [],
   "source": [
    "def jsd(p, q, base=np.e):\n",
    "    '''\n",
    "        Implementation of pairwise `jsd` based on  \n",
    "        https://en.wikipedia.org/wiki/Jensen%E2%80%93Shannon_divergence\n",
    "    '''\n",
    "    ## convert to np.array\n",
    "    p, q = np.asarray(p), np.asarray(q)\n",
    "    ## normalize p, q to probabilities\n",
    "    p, q = p/p.sum(), q/q.sum()\n",
    "    m = 1./2*(p + q)\n",
    "    return sp.stats.entropy(p,m, base=base)/2. +  sp.stats.entropy(q, m, base=base)/2."
   ]
  },
  {
   "cell_type": "code",
   "execution_count": 135,
   "metadata": {},
   "outputs": [],
   "source": [
    "maximize = [0,0,100]\n",
    "match = [30/180 * 100,60/180 * 100,50]"
   ]
  },
  {
   "cell_type": "code",
   "execution_count": 136,
   "metadata": {},
   "outputs": [],
   "source": [
    "def call_jsd(counts):\n",
    "    maxi = jsd(counts,maximize)\n",
    "    matchi = jsd(counts,match)\n",
    "    return maxi,matchi"
   ]
  },
  {
   "cell_type": "code",
   "execution_count": 137,
   "metadata": {},
   "outputs": [],
   "source": [
    "social_max = [0, 100, 0]\n",
    "social_match = [30/180 * 100,30/180 * 100, 30/180 * 100]"
   ]
  },
  {
   "cell_type": "code",
   "execution_count": 138,
   "metadata": {},
   "outputs": [],
   "source": [
    "def call_jsd_social(counts):\n",
    "    maxi = jsd(counts,social_max)\n",
    "    matchi = jsd(counts,social_match)\n",
    "    return maxi,matchi"
   ]
  },
  {
   "cell_type": "code",
   "execution_count": 139,
   "metadata": {},
   "outputs": [
    {
     "data": {
      "text/plain": [
       "30    38\n",
       "60    43\n",
       "90    19\n",
       "Name: probability, dtype: int64"
      ]
     },
     "execution_count": 139,
     "metadata": {},
     "output_type": "execute_result"
    }
   ],
   "source": [
    "s01_p1_g1_count"
   ]
  },
  {
   "cell_type": "code",
   "execution_count": 140,
   "metadata": {},
   "outputs": [],
   "source": [
    "from scipy import stats"
   ]
  },
  {
   "cell_type": "code",
   "execution_count": 141,
   "metadata": {},
   "outputs": [],
   "source": [
    "#test = jsd(maximize,match)"
   ]
  },
  {
   "cell_type": "code",
   "execution_count": 142,
   "metadata": {},
   "outputs": [],
   "source": [
    "#test"
   ]
  },
  {
   "cell_type": "code",
   "execution_count": 143,
   "metadata": {},
   "outputs": [],
   "source": [
    "s01 = 'match'"
   ]
  },
  {
   "cell_type": "code",
   "execution_count": 144,
   "metadata": {},
   "outputs": [
    {
     "data": {
      "text/plain": [
       "30    11\n",
       "90    89\n",
       "Name: probability, dtype: int64"
      ]
     },
     "execution_count": 144,
     "metadata": {},
     "output_type": "execute_result"
    }
   ],
   "source": [
    "s05_p1_g2_count"
   ]
  },
  {
   "cell_type": "code",
   "execution_count": 145,
   "metadata": {},
   "outputs": [],
   "source": [
    "s05_p1_g2_count = [11,0,89]"
   ]
  },
  {
   "cell_type": "code",
   "execution_count": 146,
   "metadata": {},
   "outputs": [],
   "source": [
    "s01_g1_max,s01_g1_match = call_jsd(s01_p1_g1_count)\n",
    "s01_g2_max,s01_g2_match = call_jsd(s01_p1_g2_count)\n",
    "s02_g1_max,s02_g1_match = call_jsd(s02_p1_g1_count)\n",
    "s03_g1_max,s03_g1_match = call_jsd(s03_p1_g1_count)\n",
    "s03_g2_max,s03_g2_match = call_jsd(s03_p1_g2_count)\n",
    "s05_g1_max,s05_g1_match = call_jsd(s05_p1_g1_count)\n",
    "s05_g2_max,s05_g2_match = call_jsd(s05_p1_g2_count)\n",
    "s06_g1_max,s06_g1_match = call_jsd(s06_p1_g1_count)\n",
    "s06_g2_max,s06_g2_match = call_jsd(s06_p1_g2_count)\n",
    "s07_g1_max,s07_g1_match = call_jsd(s07_p1_g1_count)\n",
    "s07_g2_max,s07_g2_match = call_jsd(s07_p1_g2_count)\n",
    "s08_g1_max,s08_g1_match = call_jsd(s08_p1_g1_count)\n",
    "s08_g2_max,s08_g2_match = call_jsd(s08_p1_g2_count)\n",
    "s09_g1_max,s09_g1_match = call_jsd(s09_p1_g1_count)\n",
    "s09_g2_max,s09_g2_match = call_jsd(s09_p1_g2_count)"
   ]
  },
  {
   "cell_type": "code",
   "execution_count": 147,
   "metadata": {},
   "outputs": [],
   "source": [
    "s_jsd = pd.DataFrame({'max':[s01_g1_max,s01_g2_max,s02_g1_max,s03_g1_max,s03_g2_max,s05_g1_max,s05_g2_max,s06_g1_max,\n",
    "                      s06_g2_max,s07_g1_max,s07_g2_max,s08_g1_max,s08_g2_max,s09_g1_max,s09_g2_max],\n",
    "                      'match':[s01_g1_match,s01_g2_match,s02_g1_match,s03_g1_match,s03_g2_match,s05_g1_match\n",
    "                               ,s05_g2_match,s06_g1_match,s06_g2_match,s07_g1_match,s07_g2_match,s08_g1_match\n",
    "                               ,s08_g2_match,s09_g1_match,s09_g2_match]},\n",
    "                        index=['s01', 's01', 's02', 's03', 's03','s05', 's05','s06', 's06','s07','s07','s08','s08','s09','s09'])"
   ]
  },
  {
   "cell_type": "code",
   "execution_count": 148,
   "metadata": {},
   "outputs": [],
   "source": [
    "#NOT WORKING\n",
    "def check_type(df,*social):\n",
    "    types = pd.DataFrame(index=['type'])\n",
    "    for index,row in df.iterrows():\n",
    "        maxi = row[\"max\"]\n",
    "        matchi = row[\"match\"]\n",
    "        print(index,maxi,matchi)\n",
    "        if maxi < matchi:\n",
    "            print('maxi')\n",
    "            types = types.append({'type' : 'maxi'},ignore_index=True)\n",
    "            #types[index,'type'] = 'max'\n",
    "            num = maxi\n",
    "        elif matchi < maxi:\n",
    "            print('matchi')\n",
    "            types = types.append({'type' : 'matchi'},ignore_index=True)\n",
    "            num = matchi\n",
    "        else:\n",
    "            types = types.append({'type' : 'neither'},ignore_index=True)\n",
    "            num = 1\n",
    "        if social == True:\n",
    "            if num >= jsd(social_max,social_match):\n",
    "                types = types.append({'type' : 'neither'},ignore_index=True)\n",
    "        else:\n",
    "            if num >= jsd(maximize,match):\n",
    "                types = types.append({'type' : 'neither'},ignore_index=True)\n",
    "    return types"
   ]
  },
  {
   "cell_type": "code",
   "execution_count": 149,
   "metadata": {},
   "outputs": [],
   "source": [
    "#s_jsd.apply(check_type,axis=1)"
   ]
  },
  {
   "cell_type": "code",
   "execution_count": 150,
   "metadata": {
    "scrolled": true
   },
   "outputs": [
    {
     "name": "stdout",
     "output_type": "stream",
     "text": [
      "s01 0.4318754981734429 0.06054148947299787\n",
      "matchi\n",
      "s01 0.23828696089939724 0.03734820425576257\n",
      "matchi\n",
      "s02 0.21576155433883565 0.004203991740820154\n",
      "matchi\n",
      "s03 0.3136608967716278 0.015697836724085833\n",
      "matchi\n",
      "s03 0.24998841732128801 0.007883430429554528\n",
      "matchi\n",
      "s05 0.19430446226785061 0.0034085885935871106\n",
      "matchi\n",
      "s05 0.03972452885343111 0.1461736151764258\n",
      "maxi\n",
      "s06 0.09138502722922329 0.03951762558866109\n",
      "matchi\n",
      "s06 0.05115720438972227 0.08099558695124337\n",
      "maxi\n",
      "s07 0.23828696089939724 0.0053654131945676635\n",
      "matchi\n",
      "s07 0.21576155433883565 0.0001962686894984066\n",
      "matchi\n",
      "s08 0.0285594618498793 0.11676336139531006\n",
      "maxi\n",
      "s08 0.09138502722922329 0.03715094344349118\n",
      "matchi\n",
      "s09 0.24409937049739652 0.0014302350058570182\n",
      "matchi\n",
      "s09 0.22128824866172747 0.0010837956905053819\n",
      "matchi\n"
     ]
    }
   ],
   "source": [
    "s_types = check_type(s_jsd)"
   ]
  },
  {
   "cell_type": "code",
   "execution_count": 151,
   "metadata": {
    "scrolled": true
   },
   "outputs": [
    {
     "data": {
      "text/html": [
       "<div>\n",
       "<style scoped>\n",
       "    .dataframe tbody tr th:only-of-type {\n",
       "        vertical-align: middle;\n",
       "    }\n",
       "\n",
       "    .dataframe tbody tr th {\n",
       "        vertical-align: top;\n",
       "    }\n",
       "\n",
       "    .dataframe thead th {\n",
       "        text-align: right;\n",
       "    }\n",
       "</style>\n",
       "<table border=\"1\" class=\"dataframe\">\n",
       "  <thead>\n",
       "    <tr style=\"text-align: right;\">\n",
       "      <th></th>\n",
       "      <th>type</th>\n",
       "    </tr>\n",
       "  </thead>\n",
       "  <tbody>\n",
       "    <tr>\n",
       "      <th>0</th>\n",
       "      <td>NaN</td>\n",
       "    </tr>\n",
       "    <tr>\n",
       "      <th>1</th>\n",
       "      <td>matchi</td>\n",
       "    </tr>\n",
       "    <tr>\n",
       "      <th>2</th>\n",
       "      <td>matchi</td>\n",
       "    </tr>\n",
       "    <tr>\n",
       "      <th>3</th>\n",
       "      <td>matchi</td>\n",
       "    </tr>\n",
       "    <tr>\n",
       "      <th>4</th>\n",
       "      <td>matchi</td>\n",
       "    </tr>\n",
       "    <tr>\n",
       "      <th>5</th>\n",
       "      <td>matchi</td>\n",
       "    </tr>\n",
       "    <tr>\n",
       "      <th>6</th>\n",
       "      <td>matchi</td>\n",
       "    </tr>\n",
       "    <tr>\n",
       "      <th>7</th>\n",
       "      <td>maxi</td>\n",
       "    </tr>\n",
       "    <tr>\n",
       "      <th>8</th>\n",
       "      <td>matchi</td>\n",
       "    </tr>\n",
       "    <tr>\n",
       "      <th>9</th>\n",
       "      <td>maxi</td>\n",
       "    </tr>\n",
       "    <tr>\n",
       "      <th>10</th>\n",
       "      <td>matchi</td>\n",
       "    </tr>\n",
       "    <tr>\n",
       "      <th>11</th>\n",
       "      <td>matchi</td>\n",
       "    </tr>\n",
       "    <tr>\n",
       "      <th>12</th>\n",
       "      <td>maxi</td>\n",
       "    </tr>\n",
       "    <tr>\n",
       "      <th>13</th>\n",
       "      <td>matchi</td>\n",
       "    </tr>\n",
       "    <tr>\n",
       "      <th>14</th>\n",
       "      <td>matchi</td>\n",
       "    </tr>\n",
       "    <tr>\n",
       "      <th>15</th>\n",
       "      <td>matchi</td>\n",
       "    </tr>\n",
       "  </tbody>\n",
       "</table>\n",
       "</div>"
      ],
      "text/plain": [
       "      type\n",
       "0      NaN\n",
       "1   matchi\n",
       "2   matchi\n",
       "3   matchi\n",
       "4   matchi\n",
       "5   matchi\n",
       "6   matchi\n",
       "7     maxi\n",
       "8   matchi\n",
       "9     maxi\n",
       "10  matchi\n",
       "11  matchi\n",
       "12    maxi\n",
       "13  matchi\n",
       "14  matchi\n",
       "15  matchi"
      ]
     },
     "execution_count": 151,
     "metadata": {},
     "output_type": "execute_result"
    }
   ],
   "source": [
    "s_types"
   ]
  },
  {
   "cell_type": "code",
   "execution_count": 152,
   "metadata": {},
   "outputs": [
    {
     "data": {
      "text/html": [
       "<div>\n",
       "<style scoped>\n",
       "    .dataframe tbody tr th:only-of-type {\n",
       "        vertical-align: middle;\n",
       "    }\n",
       "\n",
       "    .dataframe tbody tr th {\n",
       "        vertical-align: top;\n",
       "    }\n",
       "\n",
       "    .dataframe thead th {\n",
       "        text-align: right;\n",
       "    }\n",
       "</style>\n",
       "<table border=\"1\" class=\"dataframe\">\n",
       "  <thead>\n",
       "    <tr style=\"text-align: right;\">\n",
       "      <th></th>\n",
       "      <th>type</th>\n",
       "    </tr>\n",
       "  </thead>\n",
       "  <tbody>\n",
       "    <tr>\n",
       "      <th>1</th>\n",
       "      <td>matchi</td>\n",
       "    </tr>\n",
       "    <tr>\n",
       "      <th>2</th>\n",
       "      <td>matchi</td>\n",
       "    </tr>\n",
       "    <tr>\n",
       "      <th>3</th>\n",
       "      <td>matchi</td>\n",
       "    </tr>\n",
       "    <tr>\n",
       "      <th>4</th>\n",
       "      <td>matchi</td>\n",
       "    </tr>\n",
       "    <tr>\n",
       "      <th>5</th>\n",
       "      <td>matchi</td>\n",
       "    </tr>\n",
       "    <tr>\n",
       "      <th>6</th>\n",
       "      <td>matchi</td>\n",
       "    </tr>\n",
       "    <tr>\n",
       "      <th>7</th>\n",
       "      <td>maxi</td>\n",
       "    </tr>\n",
       "    <tr>\n",
       "      <th>8</th>\n",
       "      <td>matchi</td>\n",
       "    </tr>\n",
       "    <tr>\n",
       "      <th>9</th>\n",
       "      <td>maxi</td>\n",
       "    </tr>\n",
       "    <tr>\n",
       "      <th>10</th>\n",
       "      <td>matchi</td>\n",
       "    </tr>\n",
       "    <tr>\n",
       "      <th>11</th>\n",
       "      <td>matchi</td>\n",
       "    </tr>\n",
       "    <tr>\n",
       "      <th>12</th>\n",
       "      <td>maxi</td>\n",
       "    </tr>\n",
       "    <tr>\n",
       "      <th>13</th>\n",
       "      <td>matchi</td>\n",
       "    </tr>\n",
       "    <tr>\n",
       "      <th>14</th>\n",
       "      <td>matchi</td>\n",
       "    </tr>\n",
       "    <tr>\n",
       "      <th>15</th>\n",
       "      <td>matchi</td>\n",
       "    </tr>\n",
       "  </tbody>\n",
       "</table>\n",
       "</div>"
      ],
      "text/plain": [
       "      type\n",
       "1   matchi\n",
       "2   matchi\n",
       "3   matchi\n",
       "4   matchi\n",
       "5   matchi\n",
       "6   matchi\n",
       "7     maxi\n",
       "8   matchi\n",
       "9     maxi\n",
       "10  matchi\n",
       "11  matchi\n",
       "12    maxi\n",
       "13  matchi\n",
       "14  matchi\n",
       "15  matchi"
      ]
     },
     "execution_count": 152,
     "metadata": {},
     "output_type": "execute_result"
    }
   ],
   "source": [
    "s_types.drop([0])"
   ]
  },
  {
   "cell_type": "code",
   "execution_count": 153,
   "metadata": {},
   "outputs": [],
   "source": [
    "threshold = jsd(maximize,match)"
   ]
  },
  {
   "cell_type": "code",
   "execution_count": 154,
   "metadata": {},
   "outputs": [
    {
     "data": {
      "text/plain": [
       "0.21576155433883576"
      ]
     },
     "execution_count": 154,
     "metadata": {},
     "output_type": "execute_result"
    }
   ],
   "source": [
    "threshold"
   ]
  },
  {
   "cell_type": "code",
   "execution_count": 155,
   "metadata": {},
   "outputs": [
    {
     "data": {
      "text/html": [
       "<div>\n",
       "<style scoped>\n",
       "    .dataframe tbody tr th:only-of-type {\n",
       "        vertical-align: middle;\n",
       "    }\n",
       "\n",
       "    .dataframe tbody tr th {\n",
       "        vertical-align: top;\n",
       "    }\n",
       "\n",
       "    .dataframe thead th {\n",
       "        text-align: right;\n",
       "    }\n",
       "</style>\n",
       "<table border=\"1\" class=\"dataframe\">\n",
       "  <thead>\n",
       "    <tr style=\"text-align: right;\">\n",
       "      <th></th>\n",
       "      <th>max</th>\n",
       "      <th>match</th>\n",
       "    </tr>\n",
       "  </thead>\n",
       "  <tbody>\n",
       "    <tr>\n",
       "      <th>s01</th>\n",
       "      <td>0.431875</td>\n",
       "      <td>0.060541</td>\n",
       "    </tr>\n",
       "    <tr>\n",
       "      <th>s01</th>\n",
       "      <td>0.238287</td>\n",
       "      <td>0.037348</td>\n",
       "    </tr>\n",
       "    <tr>\n",
       "      <th>s02</th>\n",
       "      <td>0.215762</td>\n",
       "      <td>0.004204</td>\n",
       "    </tr>\n",
       "    <tr>\n",
       "      <th>s03</th>\n",
       "      <td>0.313661</td>\n",
       "      <td>0.015698</td>\n",
       "    </tr>\n",
       "    <tr>\n",
       "      <th>s03</th>\n",
       "      <td>0.249988</td>\n",
       "      <td>0.007883</td>\n",
       "    </tr>\n",
       "    <tr>\n",
       "      <th>s05</th>\n",
       "      <td>0.194304</td>\n",
       "      <td>0.003409</td>\n",
       "    </tr>\n",
       "    <tr>\n",
       "      <th>s05</th>\n",
       "      <td>0.039725</td>\n",
       "      <td>0.146174</td>\n",
       "    </tr>\n",
       "    <tr>\n",
       "      <th>s06</th>\n",
       "      <td>0.091385</td>\n",
       "      <td>0.039518</td>\n",
       "    </tr>\n",
       "    <tr>\n",
       "      <th>s06</th>\n",
       "      <td>0.051157</td>\n",
       "      <td>0.080996</td>\n",
       "    </tr>\n",
       "    <tr>\n",
       "      <th>s07</th>\n",
       "      <td>0.238287</td>\n",
       "      <td>0.005365</td>\n",
       "    </tr>\n",
       "    <tr>\n",
       "      <th>s07</th>\n",
       "      <td>0.215762</td>\n",
       "      <td>0.000196</td>\n",
       "    </tr>\n",
       "    <tr>\n",
       "      <th>s08</th>\n",
       "      <td>0.028559</td>\n",
       "      <td>0.116763</td>\n",
       "    </tr>\n",
       "    <tr>\n",
       "      <th>s08</th>\n",
       "      <td>0.091385</td>\n",
       "      <td>0.037151</td>\n",
       "    </tr>\n",
       "    <tr>\n",
       "      <th>s09</th>\n",
       "      <td>0.244099</td>\n",
       "      <td>0.001430</td>\n",
       "    </tr>\n",
       "    <tr>\n",
       "      <th>s09</th>\n",
       "      <td>0.221288</td>\n",
       "      <td>0.001084</td>\n",
       "    </tr>\n",
       "  </tbody>\n",
       "</table>\n",
       "</div>"
      ],
      "text/plain": [
       "          max     match\n",
       "s01  0.431875  0.060541\n",
       "s01  0.238287  0.037348\n",
       "s02  0.215762  0.004204\n",
       "s03  0.313661  0.015698\n",
       "s03  0.249988  0.007883\n",
       "s05  0.194304  0.003409\n",
       "s05  0.039725  0.146174\n",
       "s06  0.091385  0.039518\n",
       "s06  0.051157  0.080996\n",
       "s07  0.238287  0.005365\n",
       "s07  0.215762  0.000196\n",
       "s08  0.028559  0.116763\n",
       "s08  0.091385  0.037151\n",
       "s09  0.244099  0.001430\n",
       "s09  0.221288  0.001084"
      ]
     },
     "execution_count": 155,
     "metadata": {},
     "output_type": "execute_result"
    }
   ],
   "source": [
    "s_jsd"
   ]
  },
  {
   "cell_type": "code",
   "execution_count": 156,
   "metadata": {},
   "outputs": [],
   "source": [
    "j01_p1_g1_max,j01_p1_g1_match = call_jsd(j01_p1_g1_count)\n",
    "j01_p1_g2_max,j01_p1_g2_match = call_jsd(j01_p1_g2_count)\n",
    "j01_p2_g1_max,j01_p2_g1_match = call_jsd(j01_p2_g1_count)\n",
    "j01_p2_g2_max,j01_p2_g2_match = call_jsd(j01_p2_g2_count)\n",
    "j02_p1_g1_max,j02_p1_g1_match = call_jsd(j02_p1_g1_count)\n",
    "j02_p1_g2_max,j02_p1_g2_match = call_jsd(j02_p1_g2_count)\n",
    "j02_p2_g1_max,j02_p2_g1_match = call_jsd(j02_p2_g1_count)\n",
    "j02_p2_g2_max,j02_p2_g2_match = call_jsd(j02_p2_g2_count)\n",
    "j03_p1_g1_max,j03_p1_g1_match = call_jsd(j03_p1_g1_count)\n",
    "j03_p1_g2_max,j03_p1_g2_match = call_jsd(j03_p1_g2_count)\n",
    "j03_p2_g1_max,j03_p2_g1_match = call_jsd(j03_p2_g1_count)\n",
    "j03_p2_g2_max,j03_p2_g2_match = call_jsd(j03_p2_g2_count)\n",
    "j04_p1_g1_max,j04_p1_g1_match = call_jsd(j04_p1_g1_count)\n",
    "j04_p1_g2_max,j04_p1_g2_match = call_jsd(j04_p1_g2_count)\n",
    "j04_p2_g1_max,j04_p2_g1_match = call_jsd(j04_p2_g1_count)\n",
    "j04_p2_g2_max,j04_p2_g2_match = call_jsd(j04_p2_g2_count)\n",
    "j05_p1_g1_max,j05_p1_g1_match = call_jsd(j05_p1_g1_count)\n",
    "j05_p1_g2_max,j05_p1_g2_match = call_jsd(j05_p1_g2_count)\n",
    "j05_p2_g1_max,j05_p2_g1_match = call_jsd(j05_p2_g1_count)\n",
    "j05_p2_g2_max,j05_p2_g2_match = call_jsd(j05_p2_g2_count)\n",
    "j06_p1_g1_max,j06_p1_g1_match = call_jsd(j06_p1_g1_count)\n",
    "j06_p1_g2_max,j06_p1_g2_match = call_jsd(j06_p1_g2_count)\n",
    "j06_p2_g1_max,j06_p2_g1_match = call_jsd(j06_p2_g1_count)\n",
    "j06_p2_g2_max,j06_p2_g2_match = call_jsd(j06_p2_g2_count)\n",
    "j07_p1_g1_max,j07_p1_g1_match = call_jsd(j07_p1_g1_count)\n",
    "j07_p1_g2_max,j07_p1_g2_match = call_jsd(j07_p1_g2_count)\n",
    "j07_p2_g1_max,j07_p2_g1_match = call_jsd(j07_p2_g1_count)\n",
    "j07_p2_g2_max,j07_p2_g2_match = call_jsd(j07_p2_g2_count)\n",
    "j08_p1_g1_max,j08_p1_g1_match = call_jsd(j08_p1_g1_count)\n",
    "j08_p1_g2_max,j08_p1_g2_match = call_jsd(j08_p1_g2_count)\n",
    "j08_p2_g1_max,j08_p2_g1_match = call_jsd(j08_p2_g1_count)\n",
    "j08_p2_g2_max,j08_p2_g2_match = call_jsd(j08_p2_g2_count)"
   ]
  },
  {
   "cell_type": "code",
   "execution_count": 157,
   "metadata": {},
   "outputs": [],
   "source": [
    "j_jsd = pd.DataFrame({'max':[j01_p1_g1_max,j01_p1_g2_max,j01_p2_g1_max,j01_p2_g2_max,j02_p1_g1_max,j02_p1_g2_max,j02_p2_g1_max,\n",
    "                             j02_p2_g2_max,j03_p1_g1_max,j03_p1_g2_max,j03_p2_g1_max,j03_p2_g1_max,j04_p1_g1_max,j04_p1_g2_max,\n",
    "                             j04_p2_g1_max,j04_p2_g2_max,j05_p1_g1_max,j05_p1_g2_max,j05_p2_g1_max,j05_p2_g2_max,j06_p1_g1_max,\n",
    "                             j06_p1_g2_max,j06_p2_g1_max,j06_p2_g2_max,j07_p1_g1_max,j07_p1_g2_max,j07_p2_g1_max,j07_p2_g2_max,\n",
    "                             j08_p1_g1_max,j08_p1_g2_max,j08_p2_g1_max,j08_p2_g2_max],\n",
    "                      'match':[j01_p1_g1_match,j01_p1_g2_match,j01_p2_g1_match,j01_p2_g2_match,j02_p1_g1_match,j02_p1_g2_match,\n",
    "                               j02_p2_g1_match,j02_p2_g2_match,j03_p1_g1_match,j03_p1_g2_match,j03_p2_g1_match,j03_p2_g2_match,\n",
    "                               j04_p1_g1_match,j04_p1_g2_match,j04_p2_g1_match,j04_p2_g2_match,j05_p1_g1_match,j05_p1_g2_match,\n",
    "                               j05_p2_g1_match,j05_p2_g2_match,j06_p1_g1_match,j06_p1_g2_match,j06_p2_g1_match,j06_p2_g2_match,\n",
    "                               j07_p1_g1_match,j07_p1_g2_match,j07_p2_g1_match,j07_p2_g2_match,j08_p1_g1_match,j08_p1_g2_match,j08_p2_g1_match,j08_p2_g2_match]}, \n",
    "                        index=['j01', 'j01','j01', 'j01', 'j02', 'j02','j02', 'j02', 'j03', 'j03','j03', 'j03','j04', 'j04','j04', 'j04','j05', 'j05','j05', 'j05',\n",
    "                               'j06', 'j06','j06', 'j06','j07','j07','j07','j07','j08','j08','j08','j08'])"
   ]
  },
  {
   "cell_type": "code",
   "execution_count": 158,
   "metadata": {},
   "outputs": [
    {
     "name": "stdout",
     "output_type": "stream",
     "text": [
      "j01 0.37242722211735246 0.040908395510238574\n",
      "matchi\n",
      "j01 0.19430446226785064 0.0016738328971046858\n",
      "matchi\n",
      "j01 0.3420144880071857 0.026793253013230066\n",
      "matchi\n",
      "j01 0.2935651532009069 0.01049833039560729\n",
      "matchi\n",
      "j02 0.3276007490949424 0.028191250575098234\n",
      "matchi\n",
      "j02 0.23828696089939724 0.008253521086056073\n",
      "matchi\n",
      "j02 0.30016036017557546 0.011028978242923135\n",
      "matchi\n",
      "j02 0.1400031203020941 0.012990426323189502\n",
      "matchi\n",
      "j03 0.22128824866172742 0.002623936882068798\n",
      "matchi\n",
      "j03 0.11727693677854416 0.02330344561117382\n",
      "matchi\n",
      "j03 0.2268834335864397 0.013299200569501346\n",
      "matchi\n",
      "j03 0.2268834335864397 0.07161673842036505\n",
      "matchi\n",
      "j04 0.3068577088686985 0.012909072374830417\n",
      "matchi\n",
      "j04 0.37242722211735246 0.04761257786950016\n",
      "matchi\n",
      "j04 0.24998841732128801 0.021930764983990762\n",
      "matchi\n",
      "j04 0.4228104552401625 0.05947347895817765\n",
      "matchi\n",
      "j05 0.07895387905098877 0.048562468411548376\n",
      "matchi\n",
      "j05 0.14000312030209408 0.023491857082624718\n",
      "matchi\n",
      "j05 0.17381067052114874 0.003224168082350133\n",
      "matchi\n",
      "j05 0.19957462078009014 0.011901222951366624\n",
      "matchi\n",
      "j06 0.3420144880071857 0.030814349065625385\n",
      "matchi\n",
      "j06 0.14941329870981251 0.008698497691765946\n",
      "matchi\n",
      "j06 0.2806674110234412 0.05276204892546748\n",
      "matchi\n",
      "j06 0.22128824866172742 0.01087142122111897\n",
      "matchi\n",
      "j07 0.17381067052114874 0.011749975387766832\n",
      "matchi\n",
      "j07 0.017649227464594814 0.15273493862770332\n",
      "maxi\n",
      "j07 0.2806674110234412 0.05276204892546748\n",
      "matchi\n",
      "j07 0.22128824866172742 0.01087142122111897\n",
      "matchi\n",
      "j08 0.3646114505633699 0.030882071491651487\n",
      "matchi\n",
      "j08 0.06287129593967887 0.0632007006105583\n",
      "maxi\n",
      "j08 0.2935651532009069 0.03438923030930108\n",
      "matchi\n",
      "j08 0.1400031203020941 0.014880046342468645\n",
      "matchi\n"
     ]
    }
   ],
   "source": [
    "j_types = check_type(j_jsd)"
   ]
  },
  {
   "cell_type": "code",
   "execution_count": 159,
   "metadata": {},
   "outputs": [
    {
     "data": {
      "text/html": [
       "<div>\n",
       "<style scoped>\n",
       "    .dataframe tbody tr th:only-of-type {\n",
       "        vertical-align: middle;\n",
       "    }\n",
       "\n",
       "    .dataframe tbody tr th {\n",
       "        vertical-align: top;\n",
       "    }\n",
       "\n",
       "    .dataframe thead th {\n",
       "        text-align: right;\n",
       "    }\n",
       "</style>\n",
       "<table border=\"1\" class=\"dataframe\">\n",
       "  <thead>\n",
       "    <tr style=\"text-align: right;\">\n",
       "      <th></th>\n",
       "      <th>type</th>\n",
       "    </tr>\n",
       "  </thead>\n",
       "  <tbody>\n",
       "    <tr>\n",
       "      <th>1</th>\n",
       "      <td>matchi</td>\n",
       "    </tr>\n",
       "    <tr>\n",
       "      <th>2</th>\n",
       "      <td>matchi</td>\n",
       "    </tr>\n",
       "    <tr>\n",
       "      <th>3</th>\n",
       "      <td>matchi</td>\n",
       "    </tr>\n",
       "    <tr>\n",
       "      <th>4</th>\n",
       "      <td>matchi</td>\n",
       "    </tr>\n",
       "    <tr>\n",
       "      <th>5</th>\n",
       "      <td>matchi</td>\n",
       "    </tr>\n",
       "    <tr>\n",
       "      <th>6</th>\n",
       "      <td>matchi</td>\n",
       "    </tr>\n",
       "    <tr>\n",
       "      <th>7</th>\n",
       "      <td>matchi</td>\n",
       "    </tr>\n",
       "    <tr>\n",
       "      <th>8</th>\n",
       "      <td>matchi</td>\n",
       "    </tr>\n",
       "    <tr>\n",
       "      <th>9</th>\n",
       "      <td>matchi</td>\n",
       "    </tr>\n",
       "    <tr>\n",
       "      <th>10</th>\n",
       "      <td>matchi</td>\n",
       "    </tr>\n",
       "    <tr>\n",
       "      <th>11</th>\n",
       "      <td>matchi</td>\n",
       "    </tr>\n",
       "    <tr>\n",
       "      <th>12</th>\n",
       "      <td>matchi</td>\n",
       "    </tr>\n",
       "    <tr>\n",
       "      <th>13</th>\n",
       "      <td>matchi</td>\n",
       "    </tr>\n",
       "    <tr>\n",
       "      <th>14</th>\n",
       "      <td>matchi</td>\n",
       "    </tr>\n",
       "    <tr>\n",
       "      <th>15</th>\n",
       "      <td>matchi</td>\n",
       "    </tr>\n",
       "    <tr>\n",
       "      <th>16</th>\n",
       "      <td>matchi</td>\n",
       "    </tr>\n",
       "    <tr>\n",
       "      <th>17</th>\n",
       "      <td>matchi</td>\n",
       "    </tr>\n",
       "    <tr>\n",
       "      <th>18</th>\n",
       "      <td>matchi</td>\n",
       "    </tr>\n",
       "    <tr>\n",
       "      <th>19</th>\n",
       "      <td>matchi</td>\n",
       "    </tr>\n",
       "    <tr>\n",
       "      <th>20</th>\n",
       "      <td>matchi</td>\n",
       "    </tr>\n",
       "    <tr>\n",
       "      <th>21</th>\n",
       "      <td>matchi</td>\n",
       "    </tr>\n",
       "    <tr>\n",
       "      <th>22</th>\n",
       "      <td>matchi</td>\n",
       "    </tr>\n",
       "    <tr>\n",
       "      <th>23</th>\n",
       "      <td>matchi</td>\n",
       "    </tr>\n",
       "    <tr>\n",
       "      <th>24</th>\n",
       "      <td>matchi</td>\n",
       "    </tr>\n",
       "    <tr>\n",
       "      <th>25</th>\n",
       "      <td>matchi</td>\n",
       "    </tr>\n",
       "    <tr>\n",
       "      <th>26</th>\n",
       "      <td>maxi</td>\n",
       "    </tr>\n",
       "    <tr>\n",
       "      <th>27</th>\n",
       "      <td>matchi</td>\n",
       "    </tr>\n",
       "    <tr>\n",
       "      <th>28</th>\n",
       "      <td>matchi</td>\n",
       "    </tr>\n",
       "    <tr>\n",
       "      <th>29</th>\n",
       "      <td>matchi</td>\n",
       "    </tr>\n",
       "    <tr>\n",
       "      <th>30</th>\n",
       "      <td>maxi</td>\n",
       "    </tr>\n",
       "    <tr>\n",
       "      <th>31</th>\n",
       "      <td>matchi</td>\n",
       "    </tr>\n",
       "    <tr>\n",
       "      <th>32</th>\n",
       "      <td>matchi</td>\n",
       "    </tr>\n",
       "  </tbody>\n",
       "</table>\n",
       "</div>"
      ],
      "text/plain": [
       "      type\n",
       "1   matchi\n",
       "2   matchi\n",
       "3   matchi\n",
       "4   matchi\n",
       "5   matchi\n",
       "6   matchi\n",
       "7   matchi\n",
       "8   matchi\n",
       "9   matchi\n",
       "10  matchi\n",
       "11  matchi\n",
       "12  matchi\n",
       "13  matchi\n",
       "14  matchi\n",
       "15  matchi\n",
       "16  matchi\n",
       "17  matchi\n",
       "18  matchi\n",
       "19  matchi\n",
       "20  matchi\n",
       "21  matchi\n",
       "22  matchi\n",
       "23  matchi\n",
       "24  matchi\n",
       "25  matchi\n",
       "26    maxi\n",
       "27  matchi\n",
       "28  matchi\n",
       "29  matchi\n",
       "30    maxi\n",
       "31  matchi\n",
       "32  matchi"
      ]
     },
     "execution_count": 159,
     "metadata": {},
     "output_type": "execute_result"
    }
   ],
   "source": [
    "j_types.drop([0])"
   ]
  },
  {
   "cell_type": "code",
   "execution_count": 160,
   "metadata": {
    "scrolled": false
   },
   "outputs": [
    {
     "data": {
      "text/html": [
       "<div>\n",
       "<style scoped>\n",
       "    .dataframe tbody tr th:only-of-type {\n",
       "        vertical-align: middle;\n",
       "    }\n",
       "\n",
       "    .dataframe tbody tr th {\n",
       "        vertical-align: top;\n",
       "    }\n",
       "\n",
       "    .dataframe thead th {\n",
       "        text-align: right;\n",
       "    }\n",
       "</style>\n",
       "<table border=\"1\" class=\"dataframe\">\n",
       "  <thead>\n",
       "    <tr style=\"text-align: right;\">\n",
       "      <th></th>\n",
       "      <th>max</th>\n",
       "      <th>match</th>\n",
       "    </tr>\n",
       "  </thead>\n",
       "  <tbody>\n",
       "    <tr>\n",
       "      <th>j01</th>\n",
       "      <td>0.372427</td>\n",
       "      <td>0.040908</td>\n",
       "    </tr>\n",
       "    <tr>\n",
       "      <th>j01</th>\n",
       "      <td>0.194304</td>\n",
       "      <td>0.001674</td>\n",
       "    </tr>\n",
       "    <tr>\n",
       "      <th>j01</th>\n",
       "      <td>0.342014</td>\n",
       "      <td>0.026793</td>\n",
       "    </tr>\n",
       "    <tr>\n",
       "      <th>j01</th>\n",
       "      <td>0.293565</td>\n",
       "      <td>0.010498</td>\n",
       "    </tr>\n",
       "    <tr>\n",
       "      <th>j02</th>\n",
       "      <td>0.327601</td>\n",
       "      <td>0.028191</td>\n",
       "    </tr>\n",
       "    <tr>\n",
       "      <th>j02</th>\n",
       "      <td>0.238287</td>\n",
       "      <td>0.008254</td>\n",
       "    </tr>\n",
       "    <tr>\n",
       "      <th>j02</th>\n",
       "      <td>0.300160</td>\n",
       "      <td>0.011029</td>\n",
       "    </tr>\n",
       "    <tr>\n",
       "      <th>j02</th>\n",
       "      <td>0.140003</td>\n",
       "      <td>0.012990</td>\n",
       "    </tr>\n",
       "    <tr>\n",
       "      <th>j03</th>\n",
       "      <td>0.221288</td>\n",
       "      <td>0.002624</td>\n",
       "    </tr>\n",
       "    <tr>\n",
       "      <th>j03</th>\n",
       "      <td>0.117277</td>\n",
       "      <td>0.023303</td>\n",
       "    </tr>\n",
       "    <tr>\n",
       "      <th>j03</th>\n",
       "      <td>0.226883</td>\n",
       "      <td>0.013299</td>\n",
       "    </tr>\n",
       "    <tr>\n",
       "      <th>j03</th>\n",
       "      <td>0.226883</td>\n",
       "      <td>0.071617</td>\n",
       "    </tr>\n",
       "    <tr>\n",
       "      <th>j04</th>\n",
       "      <td>0.306858</td>\n",
       "      <td>0.012909</td>\n",
       "    </tr>\n",
       "    <tr>\n",
       "      <th>j04</th>\n",
       "      <td>0.372427</td>\n",
       "      <td>0.047613</td>\n",
       "    </tr>\n",
       "    <tr>\n",
       "      <th>j04</th>\n",
       "      <td>0.249988</td>\n",
       "      <td>0.021931</td>\n",
       "    </tr>\n",
       "    <tr>\n",
       "      <th>j04</th>\n",
       "      <td>0.422810</td>\n",
       "      <td>0.059473</td>\n",
       "    </tr>\n",
       "    <tr>\n",
       "      <th>j05</th>\n",
       "      <td>0.078954</td>\n",
       "      <td>0.048562</td>\n",
       "    </tr>\n",
       "    <tr>\n",
       "      <th>j05</th>\n",
       "      <td>0.140003</td>\n",
       "      <td>0.023492</td>\n",
       "    </tr>\n",
       "    <tr>\n",
       "      <th>j05</th>\n",
       "      <td>0.173811</td>\n",
       "      <td>0.003224</td>\n",
       "    </tr>\n",
       "    <tr>\n",
       "      <th>j05</th>\n",
       "      <td>0.199575</td>\n",
       "      <td>0.011901</td>\n",
       "    </tr>\n",
       "    <tr>\n",
       "      <th>j06</th>\n",
       "      <td>0.342014</td>\n",
       "      <td>0.030814</td>\n",
       "    </tr>\n",
       "    <tr>\n",
       "      <th>j06</th>\n",
       "      <td>0.149413</td>\n",
       "      <td>0.008698</td>\n",
       "    </tr>\n",
       "    <tr>\n",
       "      <th>j06</th>\n",
       "      <td>0.280667</td>\n",
       "      <td>0.052762</td>\n",
       "    </tr>\n",
       "    <tr>\n",
       "      <th>j06</th>\n",
       "      <td>0.221288</td>\n",
       "      <td>0.010871</td>\n",
       "    </tr>\n",
       "    <tr>\n",
       "      <th>j07</th>\n",
       "      <td>0.173811</td>\n",
       "      <td>0.011750</td>\n",
       "    </tr>\n",
       "    <tr>\n",
       "      <th>j07</th>\n",
       "      <td>0.017649</td>\n",
       "      <td>0.152735</td>\n",
       "    </tr>\n",
       "    <tr>\n",
       "      <th>j07</th>\n",
       "      <td>0.280667</td>\n",
       "      <td>0.052762</td>\n",
       "    </tr>\n",
       "    <tr>\n",
       "      <th>j07</th>\n",
       "      <td>0.221288</td>\n",
       "      <td>0.010871</td>\n",
       "    </tr>\n",
       "    <tr>\n",
       "      <th>j08</th>\n",
       "      <td>0.364611</td>\n",
       "      <td>0.030882</td>\n",
       "    </tr>\n",
       "    <tr>\n",
       "      <th>j08</th>\n",
       "      <td>0.062871</td>\n",
       "      <td>0.063201</td>\n",
       "    </tr>\n",
       "    <tr>\n",
       "      <th>j08</th>\n",
       "      <td>0.293565</td>\n",
       "      <td>0.034389</td>\n",
       "    </tr>\n",
       "    <tr>\n",
       "      <th>j08</th>\n",
       "      <td>0.140003</td>\n",
       "      <td>0.014880</td>\n",
       "    </tr>\n",
       "  </tbody>\n",
       "</table>\n",
       "</div>"
      ],
      "text/plain": [
       "          max     match\n",
       "j01  0.372427  0.040908\n",
       "j01  0.194304  0.001674\n",
       "j01  0.342014  0.026793\n",
       "j01  0.293565  0.010498\n",
       "j02  0.327601  0.028191\n",
       "j02  0.238287  0.008254\n",
       "j02  0.300160  0.011029\n",
       "j02  0.140003  0.012990\n",
       "j03  0.221288  0.002624\n",
       "j03  0.117277  0.023303\n",
       "j03  0.226883  0.013299\n",
       "j03  0.226883  0.071617\n",
       "j04  0.306858  0.012909\n",
       "j04  0.372427  0.047613\n",
       "j04  0.249988  0.021931\n",
       "j04  0.422810  0.059473\n",
       "j05  0.078954  0.048562\n",
       "j05  0.140003  0.023492\n",
       "j05  0.173811  0.003224\n",
       "j05  0.199575  0.011901\n",
       "j06  0.342014  0.030814\n",
       "j06  0.149413  0.008698\n",
       "j06  0.280667  0.052762\n",
       "j06  0.221288  0.010871\n",
       "j07  0.173811  0.011750\n",
       "j07  0.017649  0.152735\n",
       "j07  0.280667  0.052762\n",
       "j07  0.221288  0.010871\n",
       "j08  0.364611  0.030882\n",
       "j08  0.062871  0.063201\n",
       "j08  0.293565  0.034389\n",
       "j08  0.140003  0.014880"
      ]
     },
     "execution_count": 160,
     "metadata": {},
     "output_type": "execute_result"
    }
   ],
   "source": [
    "j_jsd"
   ]
  },
  {
   "cell_type": "code",
   "execution_count": 161,
   "metadata": {},
   "outputs": [],
   "source": [
    "#same for joint using \"social\""
   ]
  },
  {
   "cell_type": "code",
   "execution_count": 162,
   "metadata": {},
   "outputs": [],
   "source": [
    "j01_p1_g1_max,j01_p1_g1_match = call_jsd_social(j01_p1_g1_count)\n",
    "j01_p1_g2_max,j01_p1_g2_match = call_jsd_social(j01_p1_g2_count)\n",
    "j01_p2_g1_max,j01_p2_g1_match = call_jsd_social(j01_p2_g1_count)\n",
    "j01_p2_g2_max,j01_p2_g2_match = call_jsd_social(j01_p2_g2_count)\n",
    "j02_p1_g1_max,j02_p1_g1_match = call_jsd_social(j02_p1_g1_count)\n",
    "j02_p1_g2_max,j02_p1_g2_match = call_jsd_social(j02_p1_g2_count)\n",
    "j02_p2_g1_max,j02_p2_g1_match = call_jsd_social(j02_p2_g1_count)\n",
    "j02_p2_g2_max,j02_p2_g2_match = call_jsd_social(j02_p2_g2_count)\n",
    "j03_p1_g1_max,j03_p1_g1_match = call_jsd_social(j03_p1_g1_count)\n",
    "j03_p1_g2_max,j03_p1_g2_match = call_jsd_social(j03_p1_g2_count)\n",
    "j03_p2_g1_max,j03_p2_g1_match = call_jsd_social(j03_p2_g1_count)\n",
    "j03_p2_g2_max,j03_p2_g2_match = call_jsd_social(j03_p2_g2_count)\n",
    "j04_p1_g1_max,j04_p1_g1_match = call_jsd_social(j04_p1_g1_count)\n",
    "j04_p1_g2_max,j04_p1_g2_match = call_jsd_social(j04_p1_g2_count)\n",
    "j04_p2_g1_max,j04_p2_g1_match = call_jsd_social(j04_p2_g1_count)\n",
    "j04_p2_g2_max,j04_p2_g2_match = call_jsd_social(j04_p2_g2_count)\n",
    "j05_p1_g1_max,j05_p1_g1_match = call_jsd_social(j05_p1_g1_count)\n",
    "j05_p1_g2_max,j05_p1_g2_match = call_jsd_social(j05_p1_g2_count)\n",
    "j05_p2_g1_max,j05_p2_g1_match = call_jsd_social(j05_p2_g1_count)\n",
    "j05_p2_g2_max,j05_p2_g2_match = call_jsd_social(j05_p2_g2_count)\n",
    "j06_p1_g1_max,j06_p1_g1_match = call_jsd_social(j06_p1_g1_count)\n",
    "j06_p1_g2_max,j06_p1_g2_match = call_jsd_social(j06_p1_g2_count)\n",
    "j06_p2_g1_max,j06_p2_g1_match = call_jsd_social(j06_p2_g1_count)\n",
    "j06_p2_g2_max,j06_p2_g2_match = call_jsd_social(j06_p2_g2_count)\n",
    "j07_p1_g1_max,j07_p1_g1_match = call_jsd_social(j07_p1_g1_count)\n",
    "j07_p1_g2_max,j07_p1_g2_match = call_jsd_social(j07_p1_g2_count)\n",
    "j07_p2_g1_max,j07_p2_g1_match = call_jsd_social(j07_p2_g1_count)\n",
    "j07_p2_g2_max,j07_p2_g2_match = call_jsd_social(j07_p2_g2_count)\n",
    "j08_p1_g1_max,j08_p1_g1_match = call_jsd_social(j08_p1_g1_count)\n",
    "j08_p1_g2_max,j08_p1_g2_match = call_jsd_social(j08_p1_g2_count)\n",
    "j08_p2_g1_max,j08_p2_g1_match = call_jsd_social(j08_p2_g1_count)\n",
    "j08_p2_g2_max,j08_p2_g2_match = call_jsd_social(j08_p2_g2_count)"
   ]
  },
  {
   "cell_type": "code",
   "execution_count": 163,
   "metadata": {},
   "outputs": [],
   "source": [
    "j_jsd_social = pd.DataFrame({'max':[j01_p1_g1_max,j01_p1_g2_max,j01_p2_g1_max,j01_p2_g2_max,j02_p1_g1_max,j02_p1_g2_max,j02_p2_g1_max,\n",
    "                             j02_p2_g2_max,j03_p1_g1_max,j03_p1_g2_max,j03_p2_g1_max,j03_p2_g1_max,j04_p1_g1_max,j04_p1_g2_max,\n",
    "                             j04_p2_g1_max,j04_p2_g2_max,j05_p1_g1_max,j05_p1_g2_max,j05_p2_g1_max,j05_p2_g2_max,j06_p1_g1_max,\n",
    "                             j06_p1_g2_max,j06_p2_g1_max,j06_p2_g2_max,j07_p1_g1_max,j07_p1_g2_max,j07_p2_g1_max,j07_p2_g2_max,\n",
    "                             j08_p1_g1_max,j08_p1_g2_max,j08_p2_g1_max,j08_p2_g2_max],\n",
    "                      'match':[j01_p1_g1_match,j01_p1_g2_match,j01_p2_g1_match,j01_p2_g2_match,j02_p1_g1_match,j02_p1_g2_match,\n",
    "                               j02_p2_g1_match,j02_p2_g2_match,j03_p1_g1_match,j03_p1_g2_match,j03_p2_g1_match,j03_p2_g2_match,\n",
    "                               j04_p1_g1_match,j04_p1_g2_match,j04_p2_g1_match,j04_p2_g2_match,j05_p1_g1_match,j05_p1_g2_match,\n",
    "                               j05_p2_g1_match,j05_p2_g2_match,j06_p1_g1_match,j06_p1_g2_match,j06_p2_g1_match,j06_p2_g2_match,\n",
    "                               j07_p1_g1_match,j07_p1_g2_match,j07_p2_g1_match,j07_p2_g2_match,j08_p1_g1_match,j08_p1_g2_match,j08_p2_g1_match,j08_p2_g2_match]}, \n",
    "                        index=['j01', 'j01','j01', 'j01', 'j02', 'j02','j02', 'j02', 'j03', 'j03','j03', 'j03','j04', 'j04','j04', 'j04','j05', 'j05','j05', 'j05',\n",
    "                               'j06', 'j06','j06', 'j06','j07','j07','j07','j07','j08','j08','j08','j08'])"
   ]
  },
  {
   "cell_type": "code",
   "execution_count": 164,
   "metadata": {},
   "outputs": [
    {
     "name": "stdout",
     "output_type": "stream",
     "text": [
      "j01 0.37242722211735246 0.040908395510238574\n",
      "matchi\n",
      "j01 0.19430446226785064 0.0016738328971046858\n",
      "matchi\n",
      "j01 0.3420144880071857 0.026793253013230066\n",
      "matchi\n",
      "j01 0.2935651532009069 0.01049833039560729\n",
      "matchi\n",
      "j02 0.3276007490949424 0.028191250575098234\n",
      "matchi\n",
      "j02 0.23828696089939724 0.008253521086056073\n",
      "matchi\n",
      "j02 0.30016036017557546 0.011028978242923135\n",
      "matchi\n",
      "j02 0.1400031203020941 0.012990426323189502\n",
      "matchi\n",
      "j03 0.22128824866172742 0.002623936882068798\n",
      "matchi\n",
      "j03 0.11727693677854416 0.02330344561117382\n",
      "matchi\n",
      "j03 0.2268834335864397 0.013299200569501346\n",
      "matchi\n",
      "j03 0.2268834335864397 0.07161673842036505\n",
      "matchi\n",
      "j04 0.3068577088686985 0.012909072374830417\n",
      "matchi\n",
      "j04 0.37242722211735246 0.04761257786950016\n",
      "matchi\n",
      "j04 0.24998841732128801 0.021930764983990762\n",
      "matchi\n",
      "j04 0.4228104552401625 0.05947347895817765\n",
      "matchi\n",
      "j05 0.07895387905098877 0.048562468411548376\n",
      "matchi\n",
      "j05 0.14000312030209408 0.023491857082624718\n",
      "matchi\n",
      "j05 0.17381067052114874 0.003224168082350133\n",
      "matchi\n",
      "j05 0.19957462078009014 0.011901222951366624\n",
      "matchi\n",
      "j06 0.3420144880071857 0.030814349065625385\n",
      "matchi\n",
      "j06 0.14941329870981251 0.008698497691765946\n",
      "matchi\n",
      "j06 0.2806674110234412 0.05276204892546748\n",
      "matchi\n",
      "j06 0.22128824866172742 0.01087142122111897\n",
      "matchi\n",
      "j07 0.17381067052114874 0.011749975387766832\n",
      "matchi\n",
      "j07 0.017649227464594814 0.15273493862770332\n",
      "maxi\n",
      "j07 0.2806674110234412 0.05276204892546748\n",
      "matchi\n",
      "j07 0.22128824866172742 0.01087142122111897\n",
      "matchi\n",
      "j08 0.3646114505633699 0.030882071491651487\n",
      "matchi\n",
      "j08 0.06287129593967887 0.0632007006105583\n",
      "maxi\n",
      "j08 0.2935651532009069 0.03438923030930108\n",
      "matchi\n",
      "j08 0.1400031203020941 0.014880046342468645\n",
      "matchi\n"
     ]
    }
   ],
   "source": [
    "j_types_social = check_type(j_jsd,True)"
   ]
  },
  {
   "cell_type": "code",
   "execution_count": 165,
   "metadata": {},
   "outputs": [
    {
     "data": {
      "text/html": [
       "<div>\n",
       "<style scoped>\n",
       "    .dataframe tbody tr th:only-of-type {\n",
       "        vertical-align: middle;\n",
       "    }\n",
       "\n",
       "    .dataframe tbody tr th {\n",
       "        vertical-align: top;\n",
       "    }\n",
       "\n",
       "    .dataframe thead th {\n",
       "        text-align: right;\n",
       "    }\n",
       "</style>\n",
       "<table border=\"1\" class=\"dataframe\">\n",
       "  <thead>\n",
       "    <tr style=\"text-align: right;\">\n",
       "      <th></th>\n",
       "      <th>type</th>\n",
       "    </tr>\n",
       "  </thead>\n",
       "  <tbody>\n",
       "    <tr>\n",
       "      <th>1</th>\n",
       "      <td>matchi</td>\n",
       "    </tr>\n",
       "    <tr>\n",
       "      <th>2</th>\n",
       "      <td>matchi</td>\n",
       "    </tr>\n",
       "    <tr>\n",
       "      <th>3</th>\n",
       "      <td>matchi</td>\n",
       "    </tr>\n",
       "    <tr>\n",
       "      <th>4</th>\n",
       "      <td>matchi</td>\n",
       "    </tr>\n",
       "    <tr>\n",
       "      <th>5</th>\n",
       "      <td>matchi</td>\n",
       "    </tr>\n",
       "    <tr>\n",
       "      <th>6</th>\n",
       "      <td>matchi</td>\n",
       "    </tr>\n",
       "    <tr>\n",
       "      <th>7</th>\n",
       "      <td>matchi</td>\n",
       "    </tr>\n",
       "    <tr>\n",
       "      <th>8</th>\n",
       "      <td>matchi</td>\n",
       "    </tr>\n",
       "    <tr>\n",
       "      <th>9</th>\n",
       "      <td>matchi</td>\n",
       "    </tr>\n",
       "    <tr>\n",
       "      <th>10</th>\n",
       "      <td>matchi</td>\n",
       "    </tr>\n",
       "    <tr>\n",
       "      <th>11</th>\n",
       "      <td>matchi</td>\n",
       "    </tr>\n",
       "    <tr>\n",
       "      <th>12</th>\n",
       "      <td>matchi</td>\n",
       "    </tr>\n",
       "    <tr>\n",
       "      <th>13</th>\n",
       "      <td>matchi</td>\n",
       "    </tr>\n",
       "    <tr>\n",
       "      <th>14</th>\n",
       "      <td>matchi</td>\n",
       "    </tr>\n",
       "    <tr>\n",
       "      <th>15</th>\n",
       "      <td>matchi</td>\n",
       "    </tr>\n",
       "    <tr>\n",
       "      <th>16</th>\n",
       "      <td>matchi</td>\n",
       "    </tr>\n",
       "    <tr>\n",
       "      <th>17</th>\n",
       "      <td>matchi</td>\n",
       "    </tr>\n",
       "    <tr>\n",
       "      <th>18</th>\n",
       "      <td>matchi</td>\n",
       "    </tr>\n",
       "    <tr>\n",
       "      <th>19</th>\n",
       "      <td>matchi</td>\n",
       "    </tr>\n",
       "    <tr>\n",
       "      <th>20</th>\n",
       "      <td>matchi</td>\n",
       "    </tr>\n",
       "    <tr>\n",
       "      <th>21</th>\n",
       "      <td>matchi</td>\n",
       "    </tr>\n",
       "    <tr>\n",
       "      <th>22</th>\n",
       "      <td>matchi</td>\n",
       "    </tr>\n",
       "    <tr>\n",
       "      <th>23</th>\n",
       "      <td>matchi</td>\n",
       "    </tr>\n",
       "    <tr>\n",
       "      <th>24</th>\n",
       "      <td>matchi</td>\n",
       "    </tr>\n",
       "    <tr>\n",
       "      <th>25</th>\n",
       "      <td>matchi</td>\n",
       "    </tr>\n",
       "    <tr>\n",
       "      <th>26</th>\n",
       "      <td>maxi</td>\n",
       "    </tr>\n",
       "    <tr>\n",
       "      <th>27</th>\n",
       "      <td>matchi</td>\n",
       "    </tr>\n",
       "    <tr>\n",
       "      <th>28</th>\n",
       "      <td>matchi</td>\n",
       "    </tr>\n",
       "    <tr>\n",
       "      <th>29</th>\n",
       "      <td>matchi</td>\n",
       "    </tr>\n",
       "    <tr>\n",
       "      <th>30</th>\n",
       "      <td>maxi</td>\n",
       "    </tr>\n",
       "    <tr>\n",
       "      <th>31</th>\n",
       "      <td>matchi</td>\n",
       "    </tr>\n",
       "    <tr>\n",
       "      <th>32</th>\n",
       "      <td>matchi</td>\n",
       "    </tr>\n",
       "  </tbody>\n",
       "</table>\n",
       "</div>"
      ],
      "text/plain": [
       "      type\n",
       "1   matchi\n",
       "2   matchi\n",
       "3   matchi\n",
       "4   matchi\n",
       "5   matchi\n",
       "6   matchi\n",
       "7   matchi\n",
       "8   matchi\n",
       "9   matchi\n",
       "10  matchi\n",
       "11  matchi\n",
       "12  matchi\n",
       "13  matchi\n",
       "14  matchi\n",
       "15  matchi\n",
       "16  matchi\n",
       "17  matchi\n",
       "18  matchi\n",
       "19  matchi\n",
       "20  matchi\n",
       "21  matchi\n",
       "22  matchi\n",
       "23  matchi\n",
       "24  matchi\n",
       "25  matchi\n",
       "26    maxi\n",
       "27  matchi\n",
       "28  matchi\n",
       "29  matchi\n",
       "30    maxi\n",
       "31  matchi\n",
       "32  matchi"
      ]
     },
     "execution_count": 165,
     "metadata": {},
     "output_type": "execute_result"
    }
   ],
   "source": [
    "j_types_social.drop([0])"
   ]
  },
  {
   "cell_type": "code",
   "execution_count": 167,
   "metadata": {},
   "outputs": [],
   "source": [
    "#j_jsd_social.drop([0])"
   ]
  },
  {
   "cell_type": "code",
   "execution_count": 168,
   "metadata": {},
   "outputs": [],
   "source": [
    "#issue"
   ]
  },
  {
   "cell_type": "code",
   "execution_count": 169,
   "metadata": {
    "scrolled": true
   },
   "outputs": [
    {
     "data": {
      "text/html": [
       "<div>\n",
       "<style scoped>\n",
       "    .dataframe tbody tr th:only-of-type {\n",
       "        vertical-align: middle;\n",
       "    }\n",
       "\n",
       "    .dataframe tbody tr th {\n",
       "        vertical-align: top;\n",
       "    }\n",
       "\n",
       "    .dataframe thead th {\n",
       "        text-align: right;\n",
       "    }\n",
       "</style>\n",
       "<table border=\"1\" class=\"dataframe\">\n",
       "  <thead>\n",
       "    <tr style=\"text-align: right;\">\n",
       "      <th></th>\n",
       "      <th>max</th>\n",
       "      <th>match</th>\n",
       "    </tr>\n",
       "  </thead>\n",
       "  <tbody>\n",
       "    <tr>\n",
       "      <th>j01</th>\n",
       "      <td>0.300160</td>\n",
       "      <td>0.003292</td>\n",
       "    </tr>\n",
       "    <tr>\n",
       "      <th>j01</th>\n",
       "      <td>0.356942</td>\n",
       "      <td>0.025131</td>\n",
       "    </tr>\n",
       "    <tr>\n",
       "      <th>j01</th>\n",
       "      <td>0.293565</td>\n",
       "      <td>0.000921</td>\n",
       "    </tr>\n",
       "    <tr>\n",
       "      <th>j01</th>\n",
       "      <td>0.293565</td>\n",
       "      <td>0.003228</td>\n",
       "    </tr>\n",
       "    <tr>\n",
       "      <th>j02</th>\n",
       "      <td>0.327601</td>\n",
       "      <td>0.000393</td>\n",
       "    </tr>\n",
       "    <tr>\n",
       "      <th>j02</th>\n",
       "      <td>0.364611</td>\n",
       "      <td>0.008408</td>\n",
       "    </tr>\n",
       "    <tr>\n",
       "      <th>j02</th>\n",
       "      <td>0.280667</td>\n",
       "      <td>0.004354</td>\n",
       "    </tr>\n",
       "    <tr>\n",
       "      <th>j02</th>\n",
       "      <td>0.372427</td>\n",
       "      <td>0.065430</td>\n",
       "    </tr>\n",
       "    <tr>\n",
       "      <th>j03</th>\n",
       "      <td>0.349411</td>\n",
       "      <td>0.014097</td>\n",
       "    </tr>\n",
       "    <tr>\n",
       "      <th>j03</th>\n",
       "      <td>0.396821</td>\n",
       "      <td>0.084732</td>\n",
       "    </tr>\n",
       "    <tr>\n",
       "      <th>j03</th>\n",
       "      <td>0.396821</td>\n",
       "      <td>0.012168</td>\n",
       "    </tr>\n",
       "    <tr>\n",
       "      <th>j03</th>\n",
       "      <td>0.396821</td>\n",
       "      <td>0.134610</td>\n",
       "    </tr>\n",
       "    <tr>\n",
       "      <th>j04</th>\n",
       "      <td>0.280667</td>\n",
       "      <td>0.003484</td>\n",
       "    </tr>\n",
       "    <tr>\n",
       "      <th>j04</th>\n",
       "      <td>0.327601</td>\n",
       "      <td>0.004838</td>\n",
       "    </tr>\n",
       "    <tr>\n",
       "      <th>j04</th>\n",
       "      <td>0.405294</td>\n",
       "      <td>0.009551</td>\n",
       "    </tr>\n",
       "    <tr>\n",
       "      <th>j04</th>\n",
       "      <td>0.274358</td>\n",
       "      <td>0.011457</td>\n",
       "    </tr>\n",
       "    <tr>\n",
       "      <th>j05</th>\n",
       "      <td>0.460457</td>\n",
       "      <td>0.121976</td>\n",
       "    </tr>\n",
       "    <tr>\n",
       "      <th>j05</th>\n",
       "      <td>0.470500</td>\n",
       "      <td>0.052205</td>\n",
       "    </tr>\n",
       "    <tr>\n",
       "      <th>j05</th>\n",
       "      <td>0.356942</td>\n",
       "      <td>0.038355</td>\n",
       "    </tr>\n",
       "    <tr>\n",
       "      <th>j05</th>\n",
       "      <td>0.274358</td>\n",
       "      <td>0.059537</td>\n",
       "    </tr>\n",
       "    <tr>\n",
       "      <th>j06</th>\n",
       "      <td>0.313661</td>\n",
       "      <td>0.000712</td>\n",
       "    </tr>\n",
       "    <tr>\n",
       "      <th>j06</th>\n",
       "      <td>0.388524</td>\n",
       "      <td>0.050117</td>\n",
       "    </tr>\n",
       "    <tr>\n",
       "      <th>j06</th>\n",
       "      <td>0.460457</td>\n",
       "      <td>0.021026</td>\n",
       "    </tr>\n",
       "    <tr>\n",
       "      <th>j06</th>\n",
       "      <td>0.255956</td>\n",
       "      <td>0.052276</td>\n",
       "    </tr>\n",
       "    <tr>\n",
       "      <th>j07</th>\n",
       "      <td>0.306858</td>\n",
       "      <td>0.063685</td>\n",
       "    </tr>\n",
       "    <tr>\n",
       "      <th>j07</th>\n",
       "      <td>0.665096</td>\n",
       "      <td>0.239443</td>\n",
       "    </tr>\n",
       "    <tr>\n",
       "      <th>j07</th>\n",
       "      <td>0.460457</td>\n",
       "      <td>0.021026</td>\n",
       "    </tr>\n",
       "    <tr>\n",
       "      <th>j07</th>\n",
       "      <td>0.255956</td>\n",
       "      <td>0.052276</td>\n",
       "    </tr>\n",
       "    <tr>\n",
       "      <th>j08</th>\n",
       "      <td>0.262006</td>\n",
       "      <td>0.004375</td>\n",
       "    </tr>\n",
       "    <tr>\n",
       "      <th>j08</th>\n",
       "      <td>0.513827</td>\n",
       "      <td>0.136532</td>\n",
       "    </tr>\n",
       "    <tr>\n",
       "      <th>j08</th>\n",
       "      <td>0.396821</td>\n",
       "      <td>0.006761</td>\n",
       "    </tr>\n",
       "    <tr>\n",
       "      <th>j08</th>\n",
       "      <td>0.431875</td>\n",
       "      <td>0.051450</td>\n",
       "    </tr>\n",
       "  </tbody>\n",
       "</table>\n",
       "</div>"
      ],
      "text/plain": [
       "          max     match\n",
       "j01  0.300160  0.003292\n",
       "j01  0.356942  0.025131\n",
       "j01  0.293565  0.000921\n",
       "j01  0.293565  0.003228\n",
       "j02  0.327601  0.000393\n",
       "j02  0.364611  0.008408\n",
       "j02  0.280667  0.004354\n",
       "j02  0.372427  0.065430\n",
       "j03  0.349411  0.014097\n",
       "j03  0.396821  0.084732\n",
       "j03  0.396821  0.012168\n",
       "j03  0.396821  0.134610\n",
       "j04  0.280667  0.003484\n",
       "j04  0.327601  0.004838\n",
       "j04  0.405294  0.009551\n",
       "j04  0.274358  0.011457\n",
       "j05  0.460457  0.121976\n",
       "j05  0.470500  0.052205\n",
       "j05  0.356942  0.038355\n",
       "j05  0.274358  0.059537\n",
       "j06  0.313661  0.000712\n",
       "j06  0.388524  0.050117\n",
       "j06  0.460457  0.021026\n",
       "j06  0.255956  0.052276\n",
       "j07  0.306858  0.063685\n",
       "j07  0.665096  0.239443\n",
       "j07  0.460457  0.021026\n",
       "j07  0.255956  0.052276\n",
       "j08  0.262006  0.004375\n",
       "j08  0.513827  0.136532\n",
       "j08  0.396821  0.006761\n",
       "j08  0.431875  0.051450"
      ]
     },
     "execution_count": 169,
     "metadata": {},
     "output_type": "execute_result"
    }
   ],
   "source": [
    "j_jsd_social"
   ]
  },
  {
   "cell_type": "code",
   "execution_count": 170,
   "metadata": {},
   "outputs": [
    {
     "data": {
      "text/plain": [
       "0.21576155433883576"
      ]
     },
     "execution_count": 170,
     "metadata": {},
     "output_type": "execute_result"
    }
   ],
   "source": [
    "threshold"
   ]
  },
  {
   "cell_type": "code",
   "execution_count": 176,
   "metadata": {},
   "outputs": [],
   "source": [
    "import matplotlib.lines as mlines"
   ]
  },
  {
   "cell_type": "code",
   "execution_count": 194,
   "metadata": {
    "scrolled": true
   },
   "outputs": [
    {
     "data": {
      "image/png": "[encoded data removed]",
      "text/plain": [
       "<Figure size 432x288 with 1 Axes>"
      ]
     },
     "metadata": {
      "needs_background": "light"
     },
     "output_type": "display_data"
    },
    {
     "data": {
      "image/png": "[encoded data removed]",
      "text/plain": [
       "<Figure size 432x288 with 1 Axes>"
      ]
     },
     "metadata": {
      "needs_background": "light"
     },
     "output_type": "display_data"
    }
   ],
   "source": [
    "#j_jsd_plot = j_jsd.plot.scatter(x='max',y='match',title='Multi Player JSD Values')\n",
    "#line = mlines.Line2D([0.2148, 0], [0.2148, 1], color='red')\n",
    "#j_jsd_plot.add_line(line)\n",
    "#plt.show()\n",
    "\n",
    "fig, j_jsd_plot = plt.subplots()\n",
    "j_jsd_plot = j_jsd.plot.scatter(x='max',y='match',title='Multi Player JSD Values')\n",
    "line1 = mlines.Line2D([0.2148, 0.2148],[0, 0.2], color='red')\n",
    "line2 = mlines.Line2D([0, 0.4],[0.2148, 0.2148], color='red')\n",
    "\n",
    "#transform = ax.transAxes\n",
    "#line2 doesn't show up; all below it?\n",
    "#line.set_transform(transform)\n",
    "j_jsd_plot.add_line(line1)\n",
    "j_jsd_plot.add_line(line2)\n",
    "plt.show()"
   ]
  },
  {
   "cell_type": "code",
   "execution_count": 196,
   "metadata": {},
   "outputs": [
    {
     "data": {
      "text/plain": [
       "<matplotlib.lines.Line2D at 0x1a19f6f710>"
      ]
     },
     "execution_count": 196,
     "metadata": {},
     "output_type": "execute_result"
    },
    {
     "data": {
      "image/png": "[encoded data removed]",
      "text/plain": [
       "<Figure size 432x288 with 1 Axes>"
      ]
     },
     "metadata": {
      "needs_background": "light"
     },
     "output_type": "display_data"
    }
   ],
   "source": [
    "s_jsd_plot = s_jsd.plot.scatter(x='max',y='match',title='Single Player JSD Values')\n",
    "line1 = mlines.Line2D([0.2148, 0.2148],[0, 0.2], color='red')\n",
    "s_jsd_plot.add_line(line1)"
   ]
  },
  {
   "cell_type": "code",
   "execution_count": 198,
   "metadata": {},
   "outputs": [],
   "source": [
    "threshold_social = jsd(social_max,social_match)"
   ]
  },
  {
   "cell_type": "code",
   "execution_count": 203,
   "metadata": {},
   "outputs": [
    {
     "data": {
      "text/plain": [
       "0.3182570841474063"
      ]
     },
     "execution_count": 203,
     "metadata": {},
     "output_type": "execute_result"
    }
   ],
   "source": [
    "threshold_social"
   ]
  },
  {
   "cell_type": "code",
   "execution_count": 206,
   "metadata": {},
   "outputs": [
    {
     "data": {
      "text/plain": [
       "<matplotlib.lines.Line2D at 0x116b9a400>"
      ]
     },
     "execution_count": 206,
     "metadata": {},
     "output_type": "execute_result"
    },
    {
     "data": {
      "image/png": "[encoded data removed]",
      "text/plain": [
       "<Figure size 432x288 with 1 Axes>"
      ]
     },
     "metadata": {
      "needs_background": "light"
     },
     "output_type": "display_data"
    }
   ],
   "source": [
    "j_jsd_social_plot = j_jsd_social.plot.scatter(x='max',y='match',title='Multi Player JSD Social Values')\n",
    "line1 = mlines.Line2D([0.3183, 0.3183],[0, 0.25], color='red')\n",
    "j_jsd_social_plot.add_line(line1)\n",
    "#everyone could be classified as a matcher. everyone to the left of the red line could be using both\n",
    "#NEED TO: color differently those who were more of maximizers than matchers!!!"
   ]
  },
  {
   "cell_type": "markdown",
   "metadata": {},
   "source": [
    "### NOT WORKING\n",
    "def check_type_3(row):\n",
    "        maxi = row[\"max\"]\n",
    "        matchi = row[\"match\"]\n",
    "        if maxi < matchi:\n",
    "            row['type'] = 'max'\n",
    "            num = maxi\n",
    "        elif matchi < maxi:\n",
    "            row['type'] = 'match'\n",
    "            num = matchi\n",
    "        else:\n",
    "            row['type'] = 'neither'\n",
    "        if num >= jsd(maximize,match):\n",
    "            row['type'] = 'neither'\n",
    "            \n",
    "def check_type_2(df):\n",
    "    for row in df.itertuples(index=True, name='Pandas'):\n",
    "        print(index,row[\"max\"],row[\"match\"])\n",
    "        if row[\"match\"] < row[\"max\"] and row[\"match\"] < jsd(maximize,match):\n",
    "            df.at[index,'type'] = 'match'\n",
    "        elif row[\"max\"] < row[\"match\"] and row[\"max\"] < jsd(maximize,match):\n",
    "            df.at[index,'type'] = 'max'\n",
    "        else:\n",
    "            df.at[index,'type'] = 'neither'"
   ]
  },
  {
   "cell_type": "code",
   "execution_count": null,
   "metadata": {},
   "outputs": [],
   "source": []
  },
  {
   "cell_type": "code",
   "execution_count": null,
   "metadata": {},
   "outputs": [],
   "source": []
  },
  {
   "cell_type": "code",
   "execution_count": null,
   "metadata": {},
   "outputs": [],
   "source": []
  },
  {
   "cell_type": "code",
   "execution_count": null,
   "metadata": {},
   "outputs": [],
   "source": []
  },
  {
   "cell_type": "code",
   "execution_count": null,
   "metadata": {},
   "outputs": [],
   "source": []
  }
 ],
 "metadata": {
  "kernelspec": {
   "display_name": "Python 3",
   "language": "python",
   "name": "python3"
  },
  "language_info": {
   "codemirror_mode": {
    "name": "ipython",
    "version": 3
   },
   "file_extension": ".py",
   "mimetype": "text/x-python",
   "name": "python",
   "nbconvert_exporter": "python",
   "pygments_lexer": "ipython3",
   "version": "3.7.3"
  }
 },
 "nbformat": 4,
 "nbformat_minor": 2
}
