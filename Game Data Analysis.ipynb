{
 "cells": [
  {
   "cell_type": "markdown",
   "metadata": {},
   "source": [
    "# Multi-Armed Bandit: Game Data"
   ]
  },
  {
   "cell_type": "markdown",
   "metadata": {},
   "source": [
    "Questions:\n",
    "\n",
    "did they win on the last turn?\n",
    "did they switch or stay?\n",
    "what was the probability?\n",
    "did they go to the higher or lower probability arm?\n",
    "\n",
    "\n",
    "-- two bag analysis: how much are they influenced by their partner's choice vs. by their own choice in the previous trial\n",
    "\n",
    "matching vs. mismatch\n",
    "\n",
    "each factor gets a certain regression weight --> optimize the fit of the model"
   ]
  },
  {
   "cell_type": "markdown",
   "metadata": {},
   "source": [
    "## Pre-processing"
   ]
  },
  {
   "cell_type": "code",
   "execution_count": 8,
   "metadata": {},
   "outputs": [],
   "source": [
    "import csv\n",
    "import pandas as pd\n",
    "import numpy as np\n",
    "import glob"
   ]
  },
  {
   "cell_type": "code",
   "execution_count": 9,
   "metadata": {},
   "outputs": [],
   "source": [
    "def organize_trial_by_trial(txt_filename):\n",
    "    reader = csv.reader( open(txt_filename))\n",
    "    game_data = [row for row in reader]\n",
    "    df = pd.DataFrame(np.array(game_data))\n",
    "    df = df.T\n",
    "    df = df.rename(columns = {0:\"trial\", 1:\"player\", 2:\"arm\", 3:\"probability\", 4:\"reward\", 5:\"time\", 6:\"P1 score\", 7:\"P2 score\"})\n",
    "    df = df.drop(columns = 'time') #can comment this out if want to look at time\n",
    "    df = df.apply(pd.to_numeric)\n",
    "    df.head()\n",
    "    \n",
    "    #combining info in the same trial for both players together in the same row\n",
    "    player1 = df[df['player'] == 1].drop(columns = \"P2 score\").drop(columns = \"player\")\n",
    "    player1 = player1.reset_index().drop(columns = \"index\")\n",
    "    player1 = player1.rename(columns = {\"arm\":\"P1 arm\", \"probability\":\"P1 prob\", \"reward\":\"P1 reward\"})\n",
    "\n",
    "    player2 = df[df['player'] == 2].drop(columns = \"P1 score\").drop(columns = 'trial').drop(columns = 'player')\n",
    "    player2 = player2.reset_index().drop(columns = \"index\")\n",
    "    player2 = player2.rename(columns = {\"arm\":\"P2 arm\", \"probability\":\"P2 prob\", \"reward\":\"P2 reward\"})\n",
    "\n",
    "    result = pd.concat([player1, player2], axis=1, sort=False)\n",
    "    return result\n",
    "\n",
    "#TODO: function that pairs up P2(trial n) and P1(trial n+1)\n",
    "\n",
    "def combine_all_files(path):\n",
    "    all_files = glob.glob(path + \"/*.txt\")\n",
    "    df = pd.DataFrame()\n",
    "    \n",
    "    for filename in all_files:\n",
    "        new_df = organize_trial_by_trial(filename)\n",
    "        df = pd.concat([df, new_df], axis=0, ignore_index=True)\n",
    "    return df"
   ]
  },
  {
   "cell_type": "code",
   "execution_count": 10,
   "metadata": {},
   "outputs": [
    {
     "data": {
      "text/html": [
       "<div>\n",
       "<style scoped>\n",
       "    .dataframe tbody tr th:only-of-type {\n",
       "        vertical-align: middle;\n",
       "    }\n",
       "\n",
       "    .dataframe tbody tr th {\n",
       "        vertical-align: top;\n",
       "    }\n",
       "\n",
       "    .dataframe thead th {\n",
       "        text-align: right;\n",
       "    }\n",
       "</style>\n",
       "<table border=\"1\" class=\"dataframe\">\n",
       "  <thead>\n",
       "    <tr style=\"text-align: right;\">\n",
       "      <th></th>\n",
       "      <th>trial</th>\n",
       "      <th>P1 arm</th>\n",
       "      <th>P1 prob</th>\n",
       "      <th>P1 reward</th>\n",
       "      <th>P1 score</th>\n",
       "      <th>P2 arm</th>\n",
       "      <th>P2 prob</th>\n",
       "      <th>P2 reward</th>\n",
       "      <th>P2 score</th>\n",
       "    </tr>\n",
       "  </thead>\n",
       "  <tbody>\n",
       "    <tr>\n",
       "      <th>0</th>\n",
       "      <td>1</td>\n",
       "      <td>2</td>\n",
       "      <td>60</td>\n",
       "      <td>1</td>\n",
       "      <td>1</td>\n",
       "      <td>1</td>\n",
       "      <td>30</td>\n",
       "      <td>0</td>\n",
       "      <td>0</td>\n",
       "    </tr>\n",
       "    <tr>\n",
       "      <th>1</th>\n",
       "      <td>2</td>\n",
       "      <td>3</td>\n",
       "      <td>30</td>\n",
       "      <td>0</td>\n",
       "      <td>1</td>\n",
       "      <td>2</td>\n",
       "      <td>60</td>\n",
       "      <td>0</td>\n",
       "      <td>0</td>\n",
       "    </tr>\n",
       "    <tr>\n",
       "      <th>2</th>\n",
       "      <td>3</td>\n",
       "      <td>3</td>\n",
       "      <td>30</td>\n",
       "      <td>0</td>\n",
       "      <td>1</td>\n",
       "      <td>2</td>\n",
       "      <td>60</td>\n",
       "      <td>1</td>\n",
       "      <td>1</td>\n",
       "    </tr>\n",
       "    <tr>\n",
       "      <th>3</th>\n",
       "      <td>4</td>\n",
       "      <td>2</td>\n",
       "      <td>60</td>\n",
       "      <td>0</td>\n",
       "      <td>1</td>\n",
       "      <td>3</td>\n",
       "      <td>90</td>\n",
       "      <td>1</td>\n",
       "      <td>2</td>\n",
       "    </tr>\n",
       "    <tr>\n",
       "      <th>4</th>\n",
       "      <td>5</td>\n",
       "      <td>1</td>\n",
       "      <td>90</td>\n",
       "      <td>1</td>\n",
       "      <td>2</td>\n",
       "      <td>2</td>\n",
       "      <td>60</td>\n",
       "      <td>1</td>\n",
       "      <td>3</td>\n",
       "    </tr>\n",
       "  </tbody>\n",
       "</table>\n",
       "</div>"
      ],
      "text/plain": [
       "   trial  P1 arm  P1 prob  P1 reward  P1 score  P2 arm  P2 prob  P2 reward  \\\n",
       "0      1       2       60          1         1       1       30          0   \n",
       "1      2       3       30          0         1       2       60          0   \n",
       "2      3       3       30          0         1       2       60          1   \n",
       "3      4       2       60          0         1       3       90          1   \n",
       "4      5       1       90          1         2       2       60          1   \n",
       "\n",
       "   P2 score  \n",
       "0         0  \n",
       "1         0  \n",
       "2         1  \n",
       "3         2  \n",
       "4         3  "
      ]
     },
     "execution_count": 10,
     "metadata": {},
     "output_type": "execute_result"
    }
   ],
   "source": [
    "df = organize_trial_by_trial('mdata/odd/m035_gamedata.txt')\n",
    "df.head()"
   ]
  },
  {
   "cell_type": "code",
   "execution_count": 11,
   "metadata": {},
   "outputs": [],
   "source": [
    "\n",
    "\n",
    "#create a histogram with three bins: chose what their partner chose, chose what they chose, or chose neither\n",
    "#p = partner\n",
    "#s = subject\n",
    "#o = other\n",
    "def compare_outcomes(frame):\n",
    "    chose_p = 0\n",
    "    chose_s = 0\n",
    "    chose_o = 0\n",
    "    nrow, ncol = frame.shape\n",
    "    for index, row in frame.iterrows():\n",
    "        if row['subject_n_arm'] == row['partner_n-1_arm']:\n",
    "            chose_p = chose_p + 1\n",
    "        if row['subject_n_arm'] == row['subject_n-1_arm']:\n",
    "            chose_s = chose_s + 1\n",
    "        else:\n",
    "            chose_o = chose_o + 1\n",
    "\n",
    "    data = [['chose_p', chose_p / nrow], ['chose_s', chose_s / nrow], ['chose_o', chose_o/ nrow]]\n",
    "    table = pd.DataFrame(data, columns = ['outcome', 'number'])\n",
    "    return table\n",
    "    \n",
    "    #table.plot.bar(x = 'outcome', y = 'number')"
   ]
  },
  {
   "cell_type": "code",
   "execution_count": 33,
   "metadata": {},
   "outputs": [],
   "source": [
    "path = r'mdata/even'\n",
    "all_files = glob.glob(path + \"/*.txt\")\n",
    "df_11 = pd.DataFrame()\n",
    "df_10 = pd.DataFrame()\n",
    "df_01 = pd.DataFrame()\n",
    "df_00 = pd.DataFrame()\n",
    "\n",
    "for filename in all_files:\n",
    "    df = organize_trial_by_trial(filename)\n",
    "    table_11 = []\n",
    "    table_10 = []\n",
    "    table_01 = []\n",
    "    table_00 = []\n",
    "\n",
    "\n",
    "    for index, row in df.iterrows():\n",
    "        if index > 0:\n",
    "            r_partner = row['P1 reward']\n",
    "            r_self_prev = df.iloc[index - 1, :]['P2 reward']\n",
    "            if r_partner == 1 and r_self_prev == 1:\n",
    "                table_11.append([row['P1 arm'], df.iloc[index-1, :]['P2 arm'], row['P2 arm']])\n",
    "            if r_partner == 1 and r_self_prev == 0:\n",
    "                table_10.append([row['P1 arm'], df.iloc[index-1, :]['P2 arm'], row['P2 arm']])\n",
    "            if r_partner == 0 and r_self_prev == 1:\n",
    "                table_01.append([row['P1 arm'], df.iloc[index-1, :]['P2 arm'], row['P2 arm']])\n",
    "            if r_partner == 0 and r_self_prev == 0:\n",
    "                table_00.append([row['P1 arm'], df.iloc[index-1, :]['P2 arm'], row['P2 arm']])\n",
    "\n",
    "    table_11 = pd.DataFrame(table_11) #51\n",
    "    table_10 = pd.DataFrame(table_10) #19\n",
    "    table_01 = pd.DataFrame(table_01) #19\n",
    "    table_00 = pd.DataFrame(table_00) #10\n",
    "    \n",
    "    table_11 = table_11.rename(columns = {0:\"partner_n-1_arm\", 1:\"subject_n-1_arm\", 2:\"subject_n_arm\"})\n",
    "    table_10 = table_10.rename(columns = {0:\"partner_n-1_arm\", 1:\"subject_n-1_arm\", 2:\"subject_n_arm\"})\n",
    "    table_01 = table_01.rename(columns = {0:\"partner_n-1_arm\", 1:\"subject_n-1_arm\", 2:\"subject_n_arm\"})\n",
    "    table_00 = table_00.rename(columns = {0:\"partner_n-1_arm\", 1:\"subject_n-1_arm\", 2:\"subject_n_arm\"})\n",
    "\n",
    "    df_11 =  pd.concat([df_11, compare_outcomes(table_11)], axis=1, sort=False)\n",
    "    df_10 =  pd.concat([df_10, compare_outcomes(table_10)], axis=1, sort=False)\n",
    "    df_01 =  pd.concat([df_01, compare_outcomes(table_01)], axis=1, sort=False)\n",
    "    df_00 =  pd.concat([df_00, compare_outcomes(table_00)], axis=1, sort=False)\n",
    "    \n",
    "\n",
    "    #combined_df = pd.concat([df, new_df], axis=0, ignore_index=True)"
   ]
  },
  {
   "cell_type": "code",
   "execution_count": 34,
   "metadata": {},
   "outputs": [],
   "source": [
    "import matplotlib.pyplot as plt\n",
    "\n",
    "def graph_reward(df):\n",
    "    df = df.drop('outcome', axis = 1)\n",
    "    df = df.T.rename(columns = {0:\"chose_p\", 1:\"chose_s\", 2:\"chose_o\"})\n",
    "    stats = df.describe()\n",
    "    stats = stats.T\n",
    "    stats['mean'].plot.bar(yerr = stats['std'])\n",
    "    return stats\n",
    "    \n",
    "    #table.plot.bar(x = 'outcome', y = 'number')"
   ]
  },
  {
   "cell_type": "code",
<<<<<<< HEAD
   "execution_count": 5,
   "metadata": {},
   "outputs": [],
=======
   "execution_count": 35,
   "metadata": {},
   "outputs": [
    {
     "data": {
      "text/html": [
       "<div>\n",
       "<style scoped>\n",
       "    .dataframe tbody tr th:only-of-type {\n",
       "        vertical-align: middle;\n",
       "    }\n",
       "\n",
       "    .dataframe tbody tr th {\n",
       "        vertical-align: top;\n",
       "    }\n",
       "\n",
       "    .dataframe thead th {\n",
       "        text-align: right;\n",
       "    }\n",
       "</style>\n",
       "<table border=\"1\" class=\"dataframe\">\n",
       "  <thead>\n",
       "    <tr style=\"text-align: right;\">\n",
       "      <th></th>\n",
       "      <th>count</th>\n",
       "      <th>mean</th>\n",
       "      <th>std</th>\n",
       "      <th>min</th>\n",
       "      <th>25%</th>\n",
       "      <th>50%</th>\n",
       "      <th>75%</th>\n",
       "      <th>max</th>\n",
       "    </tr>\n",
       "  </thead>\n",
       "  <tbody>\n",
       "    <tr>\n",
       "      <th>chose_p</th>\n",
       "      <td>7.0</td>\n",
       "      <td>0.096387</td>\n",
       "      <td>0.107529</td>\n",
       "      <td>0.000000</td>\n",
       "      <td>0.032108</td>\n",
       "      <td>0.058824</td>\n",
       "      <td>0.117940</td>\n",
       "      <td>0.315789</td>\n",
       "    </tr>\n",
       "    <tr>\n",
       "      <th>chose_s</th>\n",
       "      <td>7.0</td>\n",
       "      <td>0.545593</td>\n",
       "      <td>0.353329</td>\n",
       "      <td>0.116279</td>\n",
       "      <td>0.284211</td>\n",
       "      <td>0.428571</td>\n",
       "      <td>0.852941</td>\n",
       "      <td>1.000000</td>\n",
       "    </tr>\n",
       "    <tr>\n",
       "      <th>chose_o</th>\n",
       "      <td>7.0</td>\n",
       "      <td>0.454407</td>\n",
       "      <td>0.353329</td>\n",
       "      <td>0.000000</td>\n",
       "      <td>0.147059</td>\n",
       "      <td>0.571429</td>\n",
       "      <td>0.715789</td>\n",
       "      <td>0.883721</td>\n",
       "    </tr>\n",
       "  </tbody>\n",
       "</table>\n",
       "</div>"
      ],
      "text/plain": [
       "         count      mean       std       min       25%       50%       75%  \\\n",
       "chose_p    7.0  0.096387  0.107529  0.000000  0.032108  0.058824  0.117940   \n",
       "chose_s    7.0  0.545593  0.353329  0.116279  0.284211  0.428571  0.852941   \n",
       "chose_o    7.0  0.454407  0.353329  0.000000  0.147059  0.571429  0.715789   \n",
       "\n",
       "              max  \n",
       "chose_p  0.315789  \n",
       "chose_s  1.000000  \n",
       "chose_o  0.883721  "
      ]
     },
     "execution_count": 35,
     "metadata": {},
     "output_type": "execute_result"
    },
    {
     "data": {
      "image/png": "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\n",
      "text/plain": [
       "<Figure size 432x288 with 1 Axes>"
      ]
     },
     "metadata": {
      "needs_background": "light"
     },
     "output_type": "display_data"
    }
   ],
>>>>>>> 816c4ec613f588cb01fd7962fb05f0104113dda4
   "source": [
    "graph_reward(df_11)"
   ]
  },
  {
   "cell_type": "code",
<<<<<<< HEAD
   "execution_count": 6,
=======
   "execution_count": 36,
>>>>>>> 816c4ec613f588cb01fd7962fb05f0104113dda4
   "metadata": {},
   "outputs": [
    {
     "data": {
      "text/html": [
       "<div>\n",
       "<style scoped>\n",
       "    .dataframe tbody tr th:only-of-type {\n",
       "        vertical-align: middle;\n",
       "    }\n",
       "\n",
       "    .dataframe tbody tr th {\n",
       "        vertical-align: top;\n",
       "    }\n",
       "\n",
       "    .dataframe thead th {\n",
       "        text-align: right;\n",
       "    }\n",
       "</style>\n",
       "<table border=\"1\" class=\"dataframe\">\n",
       "  <thead>\n",
       "    <tr style=\"text-align: right;\">\n",
       "      <th></th>\n",
       "      <th>count</th>\n",
       "      <th>mean</th>\n",
       "      <th>std</th>\n",
       "      <th>min</th>\n",
       "      <th>25%</th>\n",
       "      <th>50%</th>\n",
       "      <th>75%</th>\n",
       "      <th>max</th>\n",
       "    </tr>\n",
       "  </thead>\n",
       "  <tbody>\n",
       "    <tr>\n",
       "      <th>chose_p</th>\n",
       "      <td>7.0</td>\n",
       "      <td>0.135103</td>\n",
       "      <td>0.140117</td>\n",
       "      <td>0.0</td>\n",
       "      <td>0.023810</td>\n",
       "      <td>0.062500</td>\n",
       "      <td>0.259907</td>\n",
       "      <td>0.315789</td>\n",
       "    </tr>\n",
       "    <tr>\n",
       "      <th>chose_s</th>\n",
       "      <td>7.0</td>\n",
       "      <td>0.233799</td>\n",
       "      <td>0.259621</td>\n",
       "      <td>0.0</td>\n",
       "      <td>0.129121</td>\n",
       "      <td>0.157895</td>\n",
       "      <td>0.210227</td>\n",
       "      <td>0.800000</td>\n",
       "    </tr>\n",
       "    <tr>\n",
       "      <th>chose_o</th>\n",
       "      <td>7.0</td>\n",
       "      <td>0.766201</td>\n",
       "      <td>0.259621</td>\n",
       "      <td>0.2</td>\n",
       "      <td>0.789773</td>\n",
       "      <td>0.842105</td>\n",
       "      <td>0.870879</td>\n",
       "      <td>1.000000</td>\n",
       "    </tr>\n",
       "  </tbody>\n",
       "</table>\n",
       "</div>"
      ],
      "text/plain": [
       "         count      mean       std  min       25%       50%       75%  \\\n",
       "chose_p    7.0  0.135103  0.140117  0.0  0.023810  0.062500  0.259907   \n",
       "chose_s    7.0  0.233799  0.259621  0.0  0.129121  0.157895  0.210227   \n",
       "chose_o    7.0  0.766201  0.259621  0.2  0.789773  0.842105  0.870879   \n",
       "\n",
       "              max  \n",
       "chose_p  0.315789  \n",
       "chose_s  0.800000  \n",
       "chose_o  1.000000  "
      ]
     },
     "execution_count": 36,
     "metadata": {},
     "output_type": "execute_result"
    },
    {
     "data": {
      "image/png": "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\n",
      "text/plain": [
       "<Figure size 432x288 with 1 Axes>"
      ]
     },
     "metadata": {
      "needs_background": "light"
     },
     "output_type": "display_data"
    }
   ],
   "source": [
    "graph_reward(df_10)\n",
    "#this data is unexpected... if they got a reward, wouldn't they usually choose the same thing (so chose_s should be higher?)"
   ]
  },
  {
   "cell_type": "code",
<<<<<<< HEAD
   "execution_count": 7,
=======
   "execution_count": 37,
>>>>>>> 816c4ec613f588cb01fd7962fb05f0104113dda4
   "metadata": {},
   "outputs": [
    {
     "data": {
      "text/html": [
       "<div>\n",
       "<style scoped>\n",
       "    .dataframe tbody tr th:only-of-type {\n",
       "        vertical-align: middle;\n",
       "    }\n",
       "\n",
       "    .dataframe tbody tr th {\n",
       "        vertical-align: top;\n",
       "    }\n",
       "\n",
       "    .dataframe thead th {\n",
       "        text-align: right;\n",
       "    }\n",
       "</style>\n",
       "<table border=\"1\" class=\"dataframe\">\n",
       "  <thead>\n",
       "    <tr style=\"text-align: right;\">\n",
       "      <th></th>\n",
       "      <th>count</th>\n",
       "      <th>mean</th>\n",
       "      <th>std</th>\n",
       "      <th>min</th>\n",
       "      <th>25%</th>\n",
       "      <th>50%</th>\n",
       "      <th>75%</th>\n",
       "      <th>max</th>\n",
       "    </tr>\n",
       "  </thead>\n",
       "  <tbody>\n",
       "    <tr>\n",
       "      <th>chose_p</th>\n",
       "      <td>7.0</td>\n",
       "      <td>0.294053</td>\n",
       "      <td>0.141943</td>\n",
       "      <td>0.095238</td>\n",
       "      <td>0.219551</td>\n",
       "      <td>0.266667</td>\n",
       "      <td>0.366776</td>\n",
       "      <td>0.523810</td>\n",
       "    </tr>\n",
       "    <tr>\n",
       "      <th>chose_s</th>\n",
       "      <td>7.0</td>\n",
       "      <td>0.568747</td>\n",
       "      <td>0.293413</td>\n",
       "      <td>0.208333</td>\n",
       "      <td>0.306548</td>\n",
       "      <td>0.619048</td>\n",
       "      <td>0.828070</td>\n",
       "      <td>0.884615</td>\n",
       "    </tr>\n",
       "    <tr>\n",
       "      <th>chose_o</th>\n",
       "      <td>7.0</td>\n",
       "      <td>0.431253</td>\n",
       "      <td>0.293413</td>\n",
       "      <td>0.115385</td>\n",
       "      <td>0.171930</td>\n",
       "      <td>0.380952</td>\n",
       "      <td>0.693452</td>\n",
       "      <td>0.791667</td>\n",
       "    </tr>\n",
       "  </tbody>\n",
       "</table>\n",
       "</div>"
      ],
      "text/plain": [
       "         count      mean       std       min       25%       50%       75%  \\\n",
       "chose_p    7.0  0.294053  0.141943  0.095238  0.219551  0.266667  0.366776   \n",
       "chose_s    7.0  0.568747  0.293413  0.208333  0.306548  0.619048  0.828070   \n",
       "chose_o    7.0  0.431253  0.293413  0.115385  0.171930  0.380952  0.693452   \n",
       "\n",
       "              max  \n",
       "chose_p  0.523810  \n",
       "chose_s  0.884615  \n",
       "chose_o  0.791667  "
      ]
     },
     "execution_count": 37,
     "metadata": {},
     "output_type": "execute_result"
    },
    {
     "data": {
      "image/png": "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\n",
      "text/plain": [
       "<Figure size 432x288 with 1 Axes>"
      ]
     },
     "metadata": {
      "needs_background": "light"
     },
     "output_type": "display_data"
    }
   ],
   "source": [
    "graph_reward(df_01)\n"
   ]
  },
  {
   "cell_type": "code",
<<<<<<< HEAD
   "execution_count": 8,
=======
   "execution_count": 38,
>>>>>>> 816c4ec613f588cb01fd7962fb05f0104113dda4
   "metadata": {},
   "outputs": [
    {
     "data": {
      "text/html": [
       "<div>\n",
       "<style scoped>\n",
       "    .dataframe tbody tr th:only-of-type {\n",
       "        vertical-align: middle;\n",
       "    }\n",
       "\n",
       "    .dataframe tbody tr th {\n",
       "        vertical-align: top;\n",
       "    }\n",
       "\n",
       "    .dataframe thead th {\n",
       "        text-align: right;\n",
       "    }\n",
       "</style>\n",
       "<table border=\"1\" class=\"dataframe\">\n",
       "  <thead>\n",
       "    <tr style=\"text-align: right;\">\n",
       "      <th></th>\n",
       "      <th>count</th>\n",
       "      <th>mean</th>\n",
       "      <th>std</th>\n",
       "      <th>min</th>\n",
       "      <th>25%</th>\n",
       "      <th>50%</th>\n",
       "      <th>75%</th>\n",
       "      <th>max</th>\n",
       "    </tr>\n",
       "  </thead>\n",
       "  <tbody>\n",
       "    <tr>\n",
       "      <th>chose_p</th>\n",
       "      <td>7.0</td>\n",
       "      <td>0.276231</td>\n",
       "      <td>0.153848</td>\n",
       "      <td>0.090909</td>\n",
       "      <td>0.158824</td>\n",
       "      <td>0.263158</td>\n",
       "      <td>0.380952</td>\n",
       "      <td>0.5</td>\n",
       "    </tr>\n",
       "    <tr>\n",
       "      <th>chose_s</th>\n",
       "      <td>7.0</td>\n",
       "      <td>0.285252</td>\n",
       "      <td>0.195075</td>\n",
       "      <td>0.000000</td>\n",
       "      <td>0.140909</td>\n",
       "      <td>0.315789</td>\n",
       "      <td>0.449580</td>\n",
       "      <td>0.5</td>\n",
       "    </tr>\n",
       "    <tr>\n",
       "      <th>chose_o</th>\n",
       "      <td>7.0</td>\n",
       "      <td>0.714748</td>\n",
       "      <td>0.195075</td>\n",
       "      <td>0.500000</td>\n",
       "      <td>0.550420</td>\n",
       "      <td>0.684211</td>\n",
       "      <td>0.859091</td>\n",
       "      <td>1.0</td>\n",
       "    </tr>\n",
       "  </tbody>\n",
       "</table>\n",
       "</div>"
      ],
      "text/plain": [
       "         count      mean       std       min       25%       50%       75%  \\\n",
       "chose_p    7.0  0.276231  0.153848  0.090909  0.158824  0.263158  0.380952   \n",
       "chose_s    7.0  0.285252  0.195075  0.000000  0.140909  0.315789  0.449580   \n",
       "chose_o    7.0  0.714748  0.195075  0.500000  0.550420  0.684211  0.859091   \n",
       "\n",
       "         max  \n",
       "chose_p  0.5  \n",
       "chose_s  0.5  \n",
       "chose_o  1.0  "
      ]
     },
     "execution_count": 38,
     "metadata": {},
     "output_type": "execute_result"
    },
    {
     "data": {
      "image/png": "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\n",
      "text/plain": [
       "<Figure size 432x288 with 1 Axes>"
      ]
     },
     "metadata": {
      "needs_background": "light"
     },
     "output_type": "display_data"
    }
   ],
   "source": [
    "graph_reward(df_00)"
   ]
  },
  {
   "cell_type": "code",
   "execution_count": 24,
   "metadata": {},
   "outputs": [],
   "source": [
    "graph_00 = compare_outcomes(table_00)"
   ]
  },
  {
   "cell_type": "markdown",
   "metadata": {},
   "source": [
    "## Order Effects"
   ]
  },
  {
   "cell_type": "code",
<<<<<<< HEAD
   "execution_count": 9,
=======
   "execution_count": 10,
>>>>>>> 816c4ec613f588cb01fd7962fb05f0104113dda4
   "metadata": {},
   "outputs": [],
   "source": [
    "even_path = r'mdata/even'\n",
    "odd_path = r'mdata/odd'\n",
    "\n",
    "even_results = combine_all_files(even_path)\n",
    "odd_results = combine_all_files(odd_path)"
   ]
  },
  {
   "cell_type": "code",
<<<<<<< HEAD
   "execution_count": 10,
=======
   "execution_count": 11,
>>>>>>> 816c4ec613f588cb01fd7962fb05f0104113dda4
   "metadata": {},
   "outputs": [],
   "source": [
    "def fol_rate(df): #TODO: now it is only counting when P2 follows P1; need to also count when P1 follows P2\n",
    "    p1_reward = df[df[\"P1 reward\"] == 1]\n",
    "    nrow, ncol = p1_reward.shape\n",
    "    num_same = np.sum(np.asarray(p1_reward['P1 arm'] - p1_reward[\"P2 arm\"]) == 0)\n",
    "    rate = num_same / nrow\n",
    "    #print('After P1 gets a reward, P2 chose the same arm as P1', rate, 'of the time.')\n",
    "    return rate\n",
    "\n",
    "def stay_rate(df):\n",
    "    nrow, ncol = df.shape\n",
    "    p2_reward_count = 0\n",
    "    stay_count = 0\n",
    "    for index, row in df.iterrows():\n",
    "        if row['P2 reward'] == 1:\n",
    "            p2_reward_count +=1 \n",
    "            if index < (nrow-1) and row['P2 arm'] - df.iloc[index + 1,:]['P2 arm'] == 0:\n",
    "                stay_count += 1\n",
    "    rate = stay_count / p2_reward_count\n",
    "    #print('P2 sticks with the same arm after an reward', rate, 'of the time.')\n",
    "    return rate"
   ]
  },
  {
   "cell_type": "code",
<<<<<<< HEAD
   "execution_count": 11,
=======
   "execution_count": 12,
>>>>>>> 816c4ec613f588cb01fd7962fb05f0104113dda4
   "metadata": {},
   "outputs": [
    {
     "data": {
      "text/plain": [
       "[[0.5936170212765958, 0.6693069306930693],\n",
       " [0.10526315789473684, 0.18672199170124482]]"
      ]
     },
<<<<<<< HEAD
     "execution_count": 11,
=======
     "execution_count": 12,
>>>>>>> 816c4ec613f588cb01fd7962fb05f0104113dda4
     "metadata": {},
     "output_type": "execute_result"
    }
   ],
   "source": [
    "stay = [stay_rate(even_results), stay_rate(odd_results)]\n",
    "follow = [fol_rate(even_results), fol_rate(odd_results)]\n",
    "[stay, follow]"
   ]
  },
  {
   "cell_type": "code",
<<<<<<< HEAD
   "execution_count": 12,
=======
   "execution_count": 13,
>>>>>>> 816c4ec613f588cb01fd7962fb05f0104113dda4
   "metadata": {},
   "outputs": [
    {
     "data": {
      "text/html": [
       "<div>\n",
       "<style scoped>\n",
       "    .dataframe tbody tr th:only-of-type {\n",
       "        vertical-align: middle;\n",
       "    }\n",
       "\n",
       "    .dataframe tbody tr th {\n",
       "        vertical-align: top;\n",
       "    }\n",
       "\n",
       "    .dataframe thead th {\n",
       "        text-align: right;\n",
       "    }\n",
       "</style>\n",
       "<table border=\"1\" class=\"dataframe\">\n",
       "  <thead>\n",
       "    <tr style=\"text-align: right;\">\n",
       "      <th></th>\n",
       "      <th>0</th>\n",
       "      <th>1</th>\n",
       "      <th>2</th>\n",
       "      <th>3</th>\n",
       "    </tr>\n",
       "  </thead>\n",
       "  <tbody>\n",
       "    <tr>\n",
       "      <th>0</th>\n",
       "      <td>mdata/odd/m021_gamedata.txt</td>\n",
       "      <td>0.137931</td>\n",
       "      <td>0.726190</td>\n",
       "      <td>84</td>\n",
       "    </tr>\n",
       "    <tr>\n",
       "      <th>1</th>\n",
       "      <td>mdata/odd/m023_gamedata.txt</td>\n",
       "      <td>0.230769</td>\n",
       "      <td>0.188406</td>\n",
       "      <td>69</td>\n",
       "    </tr>\n",
       "    <tr>\n",
       "      <th>2</th>\n",
       "      <td>mdata/odd/m027_gamedata.txt</td>\n",
       "      <td>0.000000</td>\n",
       "      <td>0.797297</td>\n",
       "      <td>74</td>\n",
       "    </tr>\n",
       "    <tr>\n",
       "      <th>3</th>\n",
       "      <td>mdata/odd/m029_gamedata.txt</td>\n",
       "      <td>0.115385</td>\n",
       "      <td>0.706667</td>\n",
       "      <td>75</td>\n",
       "    </tr>\n",
       "    <tr>\n",
       "      <th>4</th>\n",
       "      <td>mdata/odd/m033_gamedata.txt</td>\n",
       "      <td>0.064935</td>\n",
       "      <td>0.929412</td>\n",
       "      <td>85</td>\n",
       "    </tr>\n",
       "    <tr>\n",
       "      <th>5</th>\n",
       "      <td>mdata/odd/m035_gamedata.txt</td>\n",
       "      <td>0.260870</td>\n",
       "      <td>0.484375</td>\n",
       "      <td>64</td>\n",
       "    </tr>\n",
       "    <tr>\n",
       "      <th>6</th>\n",
       "      <td>mdata/odd/m037_gamedata.txt</td>\n",
       "      <td>0.564516</td>\n",
       "      <td>0.759259</td>\n",
       "      <td>54</td>\n",
       "    </tr>\n",
       "  </tbody>\n",
       "</table>\n",
       "</div>"
      ],
      "text/plain": [
       "                             0         1         2   3\n",
       "0  mdata/odd/m021_gamedata.txt  0.137931  0.726190  84\n",
       "1  mdata/odd/m023_gamedata.txt  0.230769  0.188406  69\n",
       "2  mdata/odd/m027_gamedata.txt  0.000000  0.797297  74\n",
       "3  mdata/odd/m029_gamedata.txt  0.115385  0.706667  75\n",
       "4  mdata/odd/m033_gamedata.txt  0.064935  0.929412  85\n",
       "5  mdata/odd/m035_gamedata.txt  0.260870  0.484375  64\n",
       "6  mdata/odd/m037_gamedata.txt  0.564516  0.759259  54"
      ]
     },
<<<<<<< HEAD
     "execution_count": 12,
=======
     "execution_count": 13,
>>>>>>> 816c4ec613f588cb01fd7962fb05f0104113dda4
     "metadata": {},
     "output_type": "execute_result"
    }
   ],
   "source": [
    "all_files = glob.glob(odd_path + \"/*.txt\")\n",
    "\n",
    "l = []\n",
    "for filename in all_files:\n",
    "    df = organize_trial_by_trial(filename)\n",
    "    nrow, ncol = df.shape\n",
    "    l.append([filename, fol_rate(df), stay_rate(df), df.iloc[nrow-1,:]['P2 score']])\n",
    "\n",
    "result = pd.DataFrame(l)\n",
    "avg_score = result[1].mean()\n",
    "result"
   ]
  },
  {
   "cell_type": "code",
<<<<<<< HEAD
   "execution_count": 13,
=======
   "execution_count": 14,
>>>>>>> 816c4ec613f588cb01fd7962fb05f0104113dda4
   "metadata": {},
   "outputs": [
    {
     "data": {
      "text/html": [
       "<div>\n",
       "<style scoped>\n",
       "    .dataframe tbody tr th:only-of-type {\n",
       "        vertical-align: middle;\n",
       "    }\n",
       "\n",
       "    .dataframe tbody tr th {\n",
       "        vertical-align: top;\n",
       "    }\n",
       "\n",
       "    .dataframe thead th {\n",
       "        text-align: right;\n",
       "    }\n",
       "</style>\n",
       "<table border=\"1\" class=\"dataframe\">\n",
       "  <thead>\n",
       "    <tr style=\"text-align: right;\">\n",
       "      <th></th>\n",
       "      <th>0</th>\n",
       "      <th>1</th>\n",
       "      <th>2</th>\n",
       "      <th>3</th>\n",
       "    </tr>\n",
       "  </thead>\n",
       "  <tbody>\n",
       "    <tr>\n",
       "      <th>0</th>\n",
       "      <td>mdata/even/m024_gamedata.txt</td>\n",
       "      <td>0.000000</td>\n",
       "      <td>0.965909</td>\n",
       "      <td>88</td>\n",
       "    </tr>\n",
       "    <tr>\n",
       "      <th>1</th>\n",
       "      <td>mdata/even/m026_gamedata.txt</td>\n",
       "      <td>0.078125</td>\n",
       "      <td>0.147059</td>\n",
       "      <td>68</td>\n",
       "    </tr>\n",
       "    <tr>\n",
       "      <th>2</th>\n",
       "      <td>mdata/even/m028_gamedata.txt</td>\n",
       "      <td>0.015385</td>\n",
       "      <td>0.209677</td>\n",
       "      <td>62</td>\n",
       "    </tr>\n",
       "    <tr>\n",
       "      <th>3</th>\n",
       "      <td>mdata/even/m032_gamedata.txt</td>\n",
       "      <td>0.312500</td>\n",
       "      <td>0.370370</td>\n",
       "      <td>54</td>\n",
       "    </tr>\n",
       "    <tr>\n",
       "      <th>4</th>\n",
       "      <td>mdata/even/m034_gamedata.txt</td>\n",
       "      <td>0.044776</td>\n",
       "      <td>0.884615</td>\n",
       "      <td>78</td>\n",
       "    </tr>\n",
       "    <tr>\n",
       "      <th>5</th>\n",
       "      <td>mdata/even/m036_gamedata.txt</td>\n",
       "      <td>0.180328</td>\n",
       "      <td>0.510204</td>\n",
       "      <td>49</td>\n",
       "    </tr>\n",
       "    <tr>\n",
       "      <th>6</th>\n",
       "      <td>mdata/even/m038_gamedata.txt</td>\n",
       "      <td>0.140845</td>\n",
       "      <td>0.788732</td>\n",
       "      <td>71</td>\n",
       "    </tr>\n",
       "  </tbody>\n",
       "</table>\n",
       "</div>"
      ],
      "text/plain": [
       "                              0         1         2   3\n",
       "0  mdata/even/m024_gamedata.txt  0.000000  0.965909  88\n",
       "1  mdata/even/m026_gamedata.txt  0.078125  0.147059  68\n",
       "2  mdata/even/m028_gamedata.txt  0.015385  0.209677  62\n",
       "3  mdata/even/m032_gamedata.txt  0.312500  0.370370  54\n",
       "4  mdata/even/m034_gamedata.txt  0.044776  0.884615  78\n",
       "5  mdata/even/m036_gamedata.txt  0.180328  0.510204  49\n",
       "6  mdata/even/m038_gamedata.txt  0.140845  0.788732  71"
      ]
     },
<<<<<<< HEAD
     "execution_count": 13,
=======
     "execution_count": 14,
>>>>>>> 816c4ec613f588cb01fd7962fb05f0104113dda4
     "metadata": {},
     "output_type": "execute_result"
    }
   ],
   "source": [
    "all_files = glob.glob(even_path + \"/*.txt\")\n",
    "\n",
    "l = []\n",
    "for filename in all_files:\n",
    "    df = organize_trial_by_trial(filename)\n",
    "    nrow, ncol = df.shape\n",
    "    l.append([filename, fol_rate(df), stay_rate(df), df.iloc[nrow-1,:]['P2 score']])\n",
    "\n",
    "result = pd.DataFrame(l)\n",
    "result\n",
    "#result.describe()"
   ]
  },
  {
   "cell_type": "code",
<<<<<<< HEAD
   "execution_count": 14,
=======
   "execution_count": 15,
>>>>>>> 816c4ec613f588cb01fd7962fb05f0104113dda4
   "metadata": {},
   "outputs": [
    {
     "data": {
      "text/html": [
       "<div>\n",
       "<style scoped>\n",
       "    .dataframe tbody tr th:only-of-type {\n",
       "        vertical-align: middle;\n",
       "    }\n",
       "\n",
       "    .dataframe tbody tr th {\n",
       "        vertical-align: top;\n",
       "    }\n",
       "\n",
       "    .dataframe thead th {\n",
       "        text-align: right;\n",
       "    }\n",
       "</style>\n",
       "<table border=\"1\" class=\"dataframe\">\n",
       "  <thead>\n",
       "    <tr style=\"text-align: right;\">\n",
       "      <th></th>\n",
       "      <th>trial</th>\n",
       "      <th>player</th>\n",
       "      <th>arm</th>\n",
       "      <th>probability</th>\n",
       "      <th>reward</th>\n",
       "      <th>P1 score</th>\n",
       "      <th>P2 score</th>\n",
       "    </tr>\n",
       "  </thead>\n",
       "  <tbody>\n",
       "    <tr>\n",
       "      <th>0</th>\n",
       "      <td>1</td>\n",
       "      <td>1</td>\n",
       "      <td>3</td>\n",
       "      <td>90</td>\n",
       "      <td>1</td>\n",
       "      <td>1</td>\n",
       "      <td>0</td>\n",
       "    </tr>\n",
       "    <tr>\n",
       "      <th>1</th>\n",
       "      <td>1</td>\n",
       "      <td>2</td>\n",
       "      <td>2</td>\n",
       "      <td>60</td>\n",
       "      <td>1</td>\n",
       "      <td>1</td>\n",
       "      <td>1</td>\n",
       "    </tr>\n",
       "    <tr>\n",
       "      <th>2</th>\n",
       "      <td>2</td>\n",
       "      <td>1</td>\n",
       "      <td>1</td>\n",
       "      <td>30</td>\n",
       "      <td>1</td>\n",
       "      <td>2</td>\n",
       "      <td>1</td>\n",
       "    </tr>\n",
       "    <tr>\n",
       "      <th>3</th>\n",
       "      <td>2</td>\n",
       "      <td>2</td>\n",
       "      <td>2</td>\n",
       "      <td>60</td>\n",
       "      <td>1</td>\n",
       "      <td>2</td>\n",
       "      <td>2</td>\n",
       "    </tr>\n",
       "    <tr>\n",
       "      <th>4</th>\n",
       "      <td>3</td>\n",
       "      <td>1</td>\n",
       "      <td>3</td>\n",
       "      <td>90</td>\n",
       "      <td>1</td>\n",
       "      <td>3</td>\n",
       "      <td>2</td>\n",
       "    </tr>\n",
       "  </tbody>\n",
       "</table>\n",
       "</div>"
      ],
      "text/plain": [
       "   trial  player  arm  probability  reward  P1 score  P2 score\n",
       "0      1       1    3           90       1         1         0\n",
       "1      1       2    2           60       1         1         1\n",
       "2      2       1    1           30       1         2         1\n",
       "3      2       2    2           60       1         2         2\n",
       "4      3       1    3           90       1         3         2"
      ]
     },
<<<<<<< HEAD
     "execution_count": 14,
=======
     "execution_count": 15,
>>>>>>> 816c4ec613f588cb01fd7962fb05f0104113dda4
     "metadata": {},
     "output_type": "execute_result"
    }
   ],
   "source": [
    "reader = csv.reader( open(\"mdata/even/m024_gamedata.txt\")) #can change this to other sessions or the average\n",
    "game_data = [row for row in reader]\n",
    "df = pd.DataFrame(np.array(game_data))\n",
    "df = df.T\n",
    "df = df.rename(columns = {0:\"trial\", 1:\"player\", 2:\"arm\", 3:\"probability\", 4:\"reward\", 5:\"time\", 6:\"P1 score\", 7:\"P2 score\"})\n",
    "df = df.drop(columns = 'time') #can comment this out if want to look at time\n",
    "df = df.apply(pd.to_numeric)\n",
    "df.head()"
   ]
  },
  {
   "cell_type": "markdown",
   "metadata": {},
   "source": [
    "###########################scratch work below#############################\n"
   ]
  },
  {
   "cell_type": "code",
<<<<<<< HEAD
   "execution_count": 15,
=======
   "execution_count": 16,
>>>>>>> 816c4ec613f588cb01fd7962fb05f0104113dda4
   "metadata": {},
   "outputs": [
    {
     "data": {
      "text/html": [
       "<div>\n",
       "<style scoped>\n",
       "    .dataframe tbody tr th:only-of-type {\n",
       "        vertical-align: middle;\n",
       "    }\n",
       "\n",
       "    .dataframe tbody tr th {\n",
       "        vertical-align: top;\n",
       "    }\n",
       "\n",
       "    .dataframe thead th {\n",
       "        text-align: right;\n",
       "    }\n",
       "</style>\n",
       "<table border=\"1\" class=\"dataframe\">\n",
       "  <thead>\n",
       "    <tr style=\"text-align: right;\">\n",
       "      <th></th>\n",
       "      <th>trial</th>\n",
       "      <th>P1 arm</th>\n",
       "      <th>P1 prob</th>\n",
       "      <th>P1 reward</th>\n",
       "      <th>P1 score</th>\n",
       "      <th>P2 arm</th>\n",
       "      <th>P2 prob</th>\n",
       "      <th>P2 reward</th>\n",
       "      <th>P2 score</th>\n",
       "    </tr>\n",
       "  </thead>\n",
       "  <tbody>\n",
       "    <tr>\n",
       "      <th>0</th>\n",
       "      <td>1</td>\n",
       "      <td>3</td>\n",
       "      <td>90</td>\n",
       "      <td>1</td>\n",
       "      <td>1</td>\n",
       "      <td>2</td>\n",
       "      <td>60</td>\n",
       "      <td>1</td>\n",
       "      <td>1</td>\n",
       "    </tr>\n",
       "    <tr>\n",
       "      <th>1</th>\n",
       "      <td>2</td>\n",
       "      <td>1</td>\n",
       "      <td>30</td>\n",
       "      <td>1</td>\n",
       "      <td>2</td>\n",
       "      <td>2</td>\n",
       "      <td>60</td>\n",
       "      <td>1</td>\n",
       "      <td>2</td>\n",
       "    </tr>\n",
       "    <tr>\n",
       "      <th>2</th>\n",
       "      <td>3</td>\n",
       "      <td>3</td>\n",
       "      <td>90</td>\n",
       "      <td>1</td>\n",
       "      <td>3</td>\n",
       "      <td>2</td>\n",
       "      <td>60</td>\n",
       "      <td>1</td>\n",
       "      <td>3</td>\n",
       "    </tr>\n",
       "    <tr>\n",
       "      <th>3</th>\n",
       "      <td>4</td>\n",
       "      <td>2</td>\n",
       "      <td>60</td>\n",
       "      <td>0</td>\n",
       "      <td>3</td>\n",
       "      <td>2</td>\n",
       "      <td>60</td>\n",
       "      <td>1</td>\n",
       "      <td>4</td>\n",
       "    </tr>\n",
       "    <tr>\n",
       "      <th>4</th>\n",
       "      <td>5</td>\n",
       "      <td>1</td>\n",
       "      <td>30</td>\n",
       "      <td>0</td>\n",
       "      <td>3</td>\n",
       "      <td>2</td>\n",
       "      <td>60</td>\n",
       "      <td>1</td>\n",
       "      <td>5</td>\n",
       "    </tr>\n",
       "  </tbody>\n",
       "</table>\n",
       "</div>"
      ],
      "text/plain": [
       "   trial  P1 arm  P1 prob  P1 reward  P1 score  P2 arm  P2 prob  P2 reward  \\\n",
       "0      1       3       90          1         1       2       60          1   \n",
       "1      2       1       30          1         2       2       60          1   \n",
       "2      3       3       90          1         3       2       60          1   \n",
       "3      4       2       60          0         3       2       60          1   \n",
       "4      5       1       30          0         3       2       60          1   \n",
       "\n",
       "   P2 score  \n",
       "0         1  \n",
       "1         2  \n",
       "2         3  \n",
       "3         4  \n",
       "4         5  "
      ]
     },
<<<<<<< HEAD
     "execution_count": 15,
=======
     "execution_count": 16,
>>>>>>> 816c4ec613f588cb01fd7962fb05f0104113dda4
     "metadata": {},
     "output_type": "execute_result"
    }
   ],
   "source": [
    "#combining info in the same trial for both players together in the same row\n",
    "player1 = df[df['player'] == 1].drop(columns = \"P2 score\").drop(columns = \"player\")\n",
    "player1 = player1.reset_index().drop(columns = \"index\")\n",
    "player1 = player1.rename(columns = {\"arm\":\"P1 arm\", \"probability\":\"P1 prob\", \"reward\":\"P1 reward\"})\n",
    "\n",
    "player2 = df[df['player'] == 2].drop(columns = \"P1 score\").drop(columns = 'trial').drop(columns = 'player')\n",
    "player2 = player2.reset_index().drop(columns = \"index\")\n",
    "player2 = player2.rename(columns = {\"arm\":\"P2 arm\", \"probability\":\"P2 prob\", \"reward\":\"P2 reward\"})\n",
    "\n",
    "result = pd.concat([player1, player2], axis=1, sort=False)\n",
    "result.head()"
   ]
  },
  {
   "cell_type": "code",
<<<<<<< HEAD
   "execution_count": 16,
=======
   "execution_count": 17,
>>>>>>> 816c4ec613f588cb01fd7962fb05f0104113dda4
   "metadata": {},
   "outputs": [
    {
     "name": "stdout",
     "output_type": "stream",
     "text": [
      "After P1 gets a reward, P2 chose the same arm as P1 0.0 of the time.\n"
     ]
    }
   ],
   "source": [
    "reward1 = result[result[\"P1 reward\"] == 1]\n",
    "nrow, ncol = reward1.shape\n",
    "num_same = np.sum(np.asarray(reward1['P1 arm'] - reward1[\"P2 arm\"]) == 0)\n",
    "follow_rate = num_same / nrow\n",
    "print('After P1 gets a reward, P2 chose the same arm as P1', follow_rate, 'of the time.')"
   ]
  },
  {
   "cell_type": "code",
<<<<<<< HEAD
   "execution_count": 17,
=======
   "execution_count": 18,
>>>>>>> 816c4ec613f588cb01fd7962fb05f0104113dda4
   "metadata": {},
   "outputs": [
    {
     "name": "stdout",
     "output_type": "stream",
     "text": [
      "P2 sticks with the same arm after an reward 0.9659090909090909 of the time.\n"
     ]
    }
   ],
   "source": [
    "nrow, ncol = result.shape\n",
    "num_reward2 = 0\n",
    "stay_count = 0\n",
    "for index, row in result.iterrows():\n",
    "    if row['P2 reward'] == 1:\n",
    "        num_reward2 +=1 \n",
    "        if index < nrow-1 and row['P2 arm'] - result.iloc[index + 1,:]['P2 arm'] == 0:\n",
    "            stay_count += 1\n",
    "    \n",
    "print('P2 sticks with the same arm after an reward', stay_count / num_reward2, 'of the time.')"
   ]
  },
  {
   "cell_type": "code",
<<<<<<< HEAD
   "execution_count": 18,
=======
   "execution_count": 19,
>>>>>>> 816c4ec613f588cb01fd7962fb05f0104113dda4
   "metadata": {},
   "outputs": [],
   "source": [
    "import matplotlib.pyplot as plt"
   ]
  },
  {
   "cell_type": "code",
<<<<<<< HEAD
   "execution_count": 19,
=======
   "execution_count": 20,
>>>>>>> 816c4ec613f588cb01fd7962fb05f0104113dda4
   "metadata": {},
   "outputs": [
    {
     "ename": "NameError",
     "evalue": "name 'allRows' is not defined",
     "output_type": "error",
     "traceback": [
      "\u001b[0;31m---------------------------------------------------------------------------\u001b[0m",
      "\u001b[0;31mNameError\u001b[0m                                 Traceback (most recent call last)",
<<<<<<< HEAD
      "\u001b[0;32m<ipython-input-19-6007e347412e>\u001b[0m in \u001b[0;36m<module>\u001b[0;34m\u001b[0m\n\u001b[1;32m      1\u001b[0m \u001b[0;32mimport\u001b[0m \u001b[0mmatplotlib\u001b[0m\u001b[0;34m.\u001b[0m\u001b[0mpyplot\u001b[0m \u001b[0;32mas\u001b[0m \u001b[0mplt\u001b[0m\u001b[0;34m\u001b[0m\u001b[0;34m\u001b[0m\u001b[0m\n\u001b[0;32m----> 2\u001b[0;31m \u001b[0mplayer1\u001b[0m \u001b[0;34m=\u001b[0m \u001b[0;34m[\u001b[0m\u001b[0mint\u001b[0m\u001b[0;34m(\u001b[0m\u001b[0mgame_data\u001b[0m\u001b[0;34m[\u001b[0m\u001b[0;36m2\u001b[0m\u001b[0;34m]\u001b[0m\u001b[0;34m[\u001b[0m\u001b[0mi\u001b[0m\u001b[0;34m]\u001b[0m\u001b[0;34m)\u001b[0m \u001b[0;32mfor\u001b[0m \u001b[0mi\u001b[0m \u001b[0;32min\u001b[0m \u001b[0mrange\u001b[0m\u001b[0;34m(\u001b[0m\u001b[0mlen\u001b[0m\u001b[0;34m(\u001b[0m\u001b[0mallRows\u001b[0m\u001b[0;34m[\u001b[0m\u001b[0;36m1\u001b[0m\u001b[0;34m]\u001b[0m\u001b[0;34m)\u001b[0m\u001b[0;34m)\u001b[0m \u001b[0;32mif\u001b[0m \u001b[0mi\u001b[0m \u001b[0;34m%\u001b[0m \u001b[0;36m2\u001b[0m \u001b[0;34m==\u001b[0m \u001b[0;36m0\u001b[0m\u001b[0;34m]\u001b[0m\u001b[0;34m\u001b[0m\u001b[0;34m\u001b[0m\u001b[0m\n\u001b[0m\u001b[1;32m      3\u001b[0m \u001b[0;34m\u001b[0m\u001b[0m\n\u001b[1;32m      4\u001b[0m \u001b[0mplayer2\u001b[0m \u001b[0;34m=\u001b[0m \u001b[0;34m[\u001b[0m\u001b[0mint\u001b[0m\u001b[0;34m(\u001b[0m\u001b[0mgame_data\u001b[0m\u001b[0;34m[\u001b[0m\u001b[0;36m2\u001b[0m\u001b[0;34m]\u001b[0m\u001b[0;34m[\u001b[0m\u001b[0mi\u001b[0m\u001b[0;34m]\u001b[0m\u001b[0;34m)\u001b[0m \u001b[0;32mfor\u001b[0m \u001b[0mi\u001b[0m \u001b[0;32min\u001b[0m \u001b[0mrange\u001b[0m\u001b[0;34m(\u001b[0m\u001b[0mlen\u001b[0m\u001b[0;34m(\u001b[0m\u001b[0mallRows\u001b[0m\u001b[0;34m[\u001b[0m\u001b[0;36m1\u001b[0m\u001b[0;34m]\u001b[0m\u001b[0;34m)\u001b[0m\u001b[0;34m)\u001b[0m \u001b[0;32mif\u001b[0m \u001b[0mi\u001b[0m \u001b[0;34m%\u001b[0m \u001b[0;36m2\u001b[0m \u001b[0;34m!=\u001b[0m \u001b[0;36m0\u001b[0m\u001b[0;34m]\u001b[0m\u001b[0;34m\u001b[0m\u001b[0;34m\u001b[0m\u001b[0m\n",
=======
      "\u001b[0;32m<ipython-input-20-6007e347412e>\u001b[0m in \u001b[0;36m<module>\u001b[0;34m()\u001b[0m\n\u001b[1;32m      1\u001b[0m \u001b[0;32mimport\u001b[0m \u001b[0mmatplotlib\u001b[0m\u001b[0;34m.\u001b[0m\u001b[0mpyplot\u001b[0m \u001b[0;32mas\u001b[0m \u001b[0mplt\u001b[0m\u001b[0;34m\u001b[0m\u001b[0m\n\u001b[0;32m----> 2\u001b[0;31m \u001b[0mplayer1\u001b[0m \u001b[0;34m=\u001b[0m \u001b[0;34m[\u001b[0m\u001b[0mint\u001b[0m\u001b[0;34m(\u001b[0m\u001b[0mgame_data\u001b[0m\u001b[0;34m[\u001b[0m\u001b[0;36m2\u001b[0m\u001b[0;34m]\u001b[0m\u001b[0;34m[\u001b[0m\u001b[0mi\u001b[0m\u001b[0;34m]\u001b[0m\u001b[0;34m)\u001b[0m \u001b[0;32mfor\u001b[0m \u001b[0mi\u001b[0m \u001b[0;32min\u001b[0m \u001b[0mrange\u001b[0m\u001b[0;34m(\u001b[0m\u001b[0mlen\u001b[0m\u001b[0;34m(\u001b[0m\u001b[0mallRows\u001b[0m\u001b[0;34m[\u001b[0m\u001b[0;36m1\u001b[0m\u001b[0;34m]\u001b[0m\u001b[0;34m)\u001b[0m\u001b[0;34m)\u001b[0m \u001b[0;32mif\u001b[0m \u001b[0mi\u001b[0m \u001b[0;34m%\u001b[0m \u001b[0;36m2\u001b[0m \u001b[0;34m==\u001b[0m \u001b[0;36m0\u001b[0m\u001b[0;34m]\u001b[0m\u001b[0;34m\u001b[0m\u001b[0m\n\u001b[0m\u001b[1;32m      3\u001b[0m \u001b[0;34m\u001b[0m\u001b[0m\n\u001b[1;32m      4\u001b[0m \u001b[0mplayer2\u001b[0m \u001b[0;34m=\u001b[0m \u001b[0;34m[\u001b[0m\u001b[0mint\u001b[0m\u001b[0;34m(\u001b[0m\u001b[0mgame_data\u001b[0m\u001b[0;34m[\u001b[0m\u001b[0;36m2\u001b[0m\u001b[0;34m]\u001b[0m\u001b[0;34m[\u001b[0m\u001b[0mi\u001b[0m\u001b[0;34m]\u001b[0m\u001b[0;34m)\u001b[0m \u001b[0;32mfor\u001b[0m \u001b[0mi\u001b[0m \u001b[0;32min\u001b[0m \u001b[0mrange\u001b[0m\u001b[0;34m(\u001b[0m\u001b[0mlen\u001b[0m\u001b[0;34m(\u001b[0m\u001b[0mallRows\u001b[0m\u001b[0;34m[\u001b[0m\u001b[0;36m1\u001b[0m\u001b[0;34m]\u001b[0m\u001b[0;34m)\u001b[0m\u001b[0;34m)\u001b[0m \u001b[0;32mif\u001b[0m \u001b[0mi\u001b[0m \u001b[0;34m%\u001b[0m \u001b[0;36m2\u001b[0m \u001b[0;34m!=\u001b[0m \u001b[0;36m0\u001b[0m\u001b[0;34m]\u001b[0m\u001b[0;34m\u001b[0m\u001b[0m\n",
>>>>>>> 816c4ec613f588cb01fd7962fb05f0104113dda4
      "\u001b[0;31mNameError\u001b[0m: name 'allRows' is not defined"
     ]
    }
   ],
   "source": [
    "import matplotlib.pyplot as plt\n",
    "player1 = [int(game_data[2][i]) for i in range(len(allRows[1])) if i % 2 == 0]\n",
    "\n",
    "player2 = [int(game_data[2][i]) for i in range(len(allRows[1])) if i % 2 != 0]"
   ]
  },
  {
   "cell_type": "code",
   "execution_count": null,
   "metadata": {},
   "outputs": [],
   "source": []
  },
  {
   "cell_type": "code",
   "execution_count": null,
   "metadata": {},
   "outputs": [],
   "source": []
  },
  {
   "cell_type": "code",
   "execution_count": null,
   "metadata": {},
   "outputs": [],
   "source": []
  },
  {
   "cell_type": "code",
   "execution_count": null,
   "metadata": {},
   "outputs": [],
   "source": []
  },
  {
   "cell_type": "markdown",
   "metadata": {},
   "source": []
  },
  {
   "cell_type": "markdown",
   "metadata": {},
   "source": [
    "check competing condition:\n",
    "self = 1 and other = 1\n",
    "\n",
    "self = 0 and other = 1\n",
    "\n",
    "\n",
    "self = 1 and other = 0\n",
    "\n",
    "\n",
    "self = 0 and other = 0\n",
    "\n",
    "construct a random matrix"
   ]
  },
  {
   "cell_type": "code",
   "execution_count": null,
   "metadata": {},
   "outputs": [],
   "source": []
  }
 ],
 "metadata": {
  "kernelspec": {
   "display_name": "Python 3",
   "language": "python",
   "name": "python3"
  },
  "language_info": {
   "codemirror_mode": {
    "name": "ipython",
    "version": 3
   },
   "file_extension": ".py",
   "mimetype": "text/x-python",
   "name": "python",
   "nbconvert_exporter": "python",
   "pygments_lexer": "ipython3",
   "version": "3.7.0"
  }
 },
 "nbformat": 4,
 "nbformat_minor": 2
}
